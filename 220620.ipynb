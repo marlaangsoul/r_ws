{
 "cells": [
  {
   "cell_type": "code",
   "execution_count": 6,
   "id": "92a4b20c",
   "metadata": {},
   "outputs": [
    {
     "data": {
      "text/html": [
       "<table class=\"dataframe\">\n",
       "<caption>A data.frame: 17 × 8</caption>\n",
       "<thead>\n",
       "\t<tr><th scope=col>name</th><th scope=col>sex</th><th scope=col>age</th><th scope=col>grade</th><th scope=col>absence</th><th scope=col>bloodtype</th><th scope=col>height</th><th scope=col>weight</th></tr>\n",
       "\t<tr><th scope=col>&lt;chr&gt;</th><th scope=col>&lt;chr&gt;</th><th scope=col>&lt;int&gt;</th><th scope=col>&lt;int&gt;</th><th scope=col>&lt;chr&gt;</th><th scope=col>&lt;chr&gt;</th><th scope=col>&lt;dbl&gt;</th><th scope=col>&lt;dbl&gt;</th></tr>\n",
       "</thead>\n",
       "<tbody>\n",
       "\t<tr><td>김길동</td><td>남자</td><td>23</td><td>3</td><td>유</td><td>O </td><td>165.3</td><td>68.2</td></tr>\n",
       "\t<tr><td>이미린</td><td>여자</td><td>22</td><td>2</td><td>무</td><td>AB</td><td>170.1</td><td>53.0</td></tr>\n",
       "\t<tr><td>홍길동</td><td>남자</td><td>24</td><td>4</td><td>무</td><td>B </td><td>175.0</td><td>80.1</td></tr>\n",
       "\t<tr><td>김철수</td><td>남자</td><td>23</td><td>3</td><td>무</td><td>AB</td><td>182.1</td><td>85.7</td></tr>\n",
       "\t<tr><td>손세수</td><td>여자</td><td>20</td><td>1</td><td>유</td><td>A </td><td>168.0</td><td>49.5</td></tr>\n",
       "\t<tr><td>박미희</td><td>여자</td><td>21</td><td>2</td><td>무</td><td>O </td><td>162.0</td><td>52.0</td></tr>\n",
       "\t<tr><td>강수친</td><td>여자</td><td>22</td><td>1</td><td>무</td><td>O </td><td>155.2</td><td>45.3</td></tr>\n",
       "\t<tr><td>이희수</td><td>여자</td><td>23</td><td>1</td><td>무</td><td>A </td><td>176.9</td><td>55.0</td></tr>\n",
       "\t<tr><td>이철린</td><td>남자</td><td>23</td><td>3</td><td>무</td><td>B </td><td>178.5</td><td>64.2</td></tr>\n",
       "\t<tr><td>방희철</td><td>남자</td><td>22</td><td>2</td><td>무</td><td>B </td><td>176.1</td><td>61.3</td></tr>\n",
       "\t<tr><td>박수호</td><td>남자</td><td>24</td><td>4</td><td>유</td><td>O </td><td>167.1</td><td>62.0</td></tr>\n",
       "\t<tr><td>임동민</td><td>남자</td><td>22</td><td>2</td><td>무</td><td>AB</td><td>180.0</td><td>75.8</td></tr>\n",
       "\t<tr><td>김민수</td><td>남자</td><td>21</td><td>1</td><td>무</td><td>A </td><td>162.2</td><td>55.3</td></tr>\n",
       "\t<tr><td>이희진</td><td>여자</td><td>23</td><td>3</td><td>무</td><td>O </td><td>176.1</td><td>53.1</td></tr>\n",
       "\t<tr><td>김미진</td><td>여자</td><td>22</td><td>2</td><td>무</td><td>B </td><td>158.2</td><td>45.2</td></tr>\n",
       "\t<tr><td>김동수</td><td>남자</td><td>24</td><td>4</td><td>유</td><td>B </td><td>168.6</td><td>70.2</td></tr>\n",
       "\t<tr><td>여수근</td><td>남자</td><td>21</td><td>1</td><td>무</td><td>A </td><td>169.2</td><td>62.2</td></tr>\n",
       "</tbody>\n",
       "</table>\n"
      ],
      "text/latex": [
       "A data.frame: 17 × 8\n",
       "\\begin{tabular}{llllllll}\n",
       " name & sex & age & grade & absence & bloodtype & height & weight\\\\\n",
       " <chr> & <chr> & <int> & <int> & <chr> & <chr> & <dbl> & <dbl>\\\\\n",
       "\\hline\n",
       "\t 김길동 & 남자 & 23 & 3 & 유 & O  & 165.3 & 68.2\\\\\n",
       "\t 이미린 & 여자 & 22 & 2 & 무 & AB & 170.1 & 53.0\\\\\n",
       "\t 홍길동 & 남자 & 24 & 4 & 무 & B  & 175.0 & 80.1\\\\\n",
       "\t 김철수 & 남자 & 23 & 3 & 무 & AB & 182.1 & 85.7\\\\\n",
       "\t 손세수 & 여자 & 20 & 1 & 유 & A  & 168.0 & 49.5\\\\\n",
       "\t 박미희 & 여자 & 21 & 2 & 무 & O  & 162.0 & 52.0\\\\\n",
       "\t 강수친 & 여자 & 22 & 1 & 무 & O  & 155.2 & 45.3\\\\\n",
       "\t 이희수 & 여자 & 23 & 1 & 무 & A  & 176.9 & 55.0\\\\\n",
       "\t 이철린 & 남자 & 23 & 3 & 무 & B  & 178.5 & 64.2\\\\\n",
       "\t 방희철 & 남자 & 22 & 2 & 무 & B  & 176.1 & 61.3\\\\\n",
       "\t 박수호 & 남자 & 24 & 4 & 유 & O  & 167.1 & 62.0\\\\\n",
       "\t 임동민 & 남자 & 22 & 2 & 무 & AB & 180.0 & 75.8\\\\\n",
       "\t 김민수 & 남자 & 21 & 1 & 무 & A  & 162.2 & 55.3\\\\\n",
       "\t 이희진 & 여자 & 23 & 3 & 무 & O  & 176.1 & 53.1\\\\\n",
       "\t 김미진 & 여자 & 22 & 2 & 무 & B  & 158.2 & 45.2\\\\\n",
       "\t 김동수 & 남자 & 24 & 4 & 유 & B  & 168.6 & 70.2\\\\\n",
       "\t 여수근 & 남자 & 21 & 1 & 무 & A  & 169.2 & 62.2\\\\\n",
       "\\end{tabular}\n"
      ],
      "text/markdown": [
       "\n",
       "A data.frame: 17 × 8\n",
       "\n",
       "| name &lt;chr&gt; | sex &lt;chr&gt; | age &lt;int&gt; | grade &lt;int&gt; | absence &lt;chr&gt; | bloodtype &lt;chr&gt; | height &lt;dbl&gt; | weight &lt;dbl&gt; |\n",
       "|---|---|---|---|---|---|---|---|\n",
       "| 김길동 | 남자 | 23 | 3 | 유 | O  | 165.3 | 68.2 |\n",
       "| 이미린 | 여자 | 22 | 2 | 무 | AB | 170.1 | 53.0 |\n",
       "| 홍길동 | 남자 | 24 | 4 | 무 | B  | 175.0 | 80.1 |\n",
       "| 김철수 | 남자 | 23 | 3 | 무 | AB | 182.1 | 85.7 |\n",
       "| 손세수 | 여자 | 20 | 1 | 유 | A  | 168.0 | 49.5 |\n",
       "| 박미희 | 여자 | 21 | 2 | 무 | O  | 162.0 | 52.0 |\n",
       "| 강수친 | 여자 | 22 | 1 | 무 | O  | 155.2 | 45.3 |\n",
       "| 이희수 | 여자 | 23 | 1 | 무 | A  | 176.9 | 55.0 |\n",
       "| 이철린 | 남자 | 23 | 3 | 무 | B  | 178.5 | 64.2 |\n",
       "| 방희철 | 남자 | 22 | 2 | 무 | B  | 176.1 | 61.3 |\n",
       "| 박수호 | 남자 | 24 | 4 | 유 | O  | 167.1 | 62.0 |\n",
       "| 임동민 | 남자 | 22 | 2 | 무 | AB | 180.0 | 75.8 |\n",
       "| 김민수 | 남자 | 21 | 1 | 무 | A  | 162.2 | 55.3 |\n",
       "| 이희진 | 여자 | 23 | 3 | 무 | O  | 176.1 | 53.1 |\n",
       "| 김미진 | 여자 | 22 | 2 | 무 | B  | 158.2 | 45.2 |\n",
       "| 김동수 | 남자 | 24 | 4 | 유 | B  | 168.6 | 70.2 |\n",
       "| 여수근 | 남자 | 21 | 1 | 무 | A  | 169.2 | 62.2 |\n",
       "\n"
      ],
      "text/plain": [
       "   name   sex  age grade absence bloodtype height weight\n",
       "1  김길동 남자 23  3     유      O         165.3  68.2  \n",
       "2  이미린 여자 22  2     무      AB        170.1  53.0  \n",
       "3  홍길동 남자 24  4     무      B         175.0  80.1  \n",
       "4  김철수 남자 23  3     무      AB        182.1  85.7  \n",
       "5  손세수 여자 20  1     유      A         168.0  49.5  \n",
       "6  박미희 여자 21  2     무      O         162.0  52.0  \n",
       "7  강수친 여자 22  1     무      O         155.2  45.3  \n",
       "8  이희수 여자 23  1     무      A         176.9  55.0  \n",
       "9  이철린 남자 23  3     무      B         178.5  64.2  \n",
       "10 방희철 남자 22  2     무      B         176.1  61.3  \n",
       "11 박수호 남자 24  4     유      O         167.1  62.0  \n",
       "12 임동민 남자 22  2     무      AB        180.0  75.8  \n",
       "13 김민수 남자 21  1     무      A         162.2  55.3  \n",
       "14 이희진 여자 23  3     무      O         176.1  53.1  \n",
       "15 김미진 여자 22  2     무      B         158.2  45.2  \n",
       "16 김동수 남자 24  4     유      B         168.6  70.2  \n",
       "17 여수근 남자 21  1     무      A         169.2  62.2  "
      ]
     },
     "metadata": {},
     "output_type": "display_data"
    }
   ],
   "source": [
    "list <- read.csv('./rggagi/example_studentlist.csv')\n",
    "list"
   ]
  },
  {
   "cell_type": "code",
   "execution_count": 7,
   "id": "bfb83b12",
   "metadata": {},
   "outputs": [
    {
     "data": {
      "text/html": [
       "<table class=\"dataframe\">\n",
       "<caption>A data.frame: 18 × 8</caption>\n",
       "<thead>\n",
       "\t<tr><th scope=col>V1</th><th scope=col>V2</th><th scope=col>V3</th><th scope=col>V4</th><th scope=col>V5</th><th scope=col>V6</th><th scope=col>V7</th><th scope=col>V8</th></tr>\n",
       "\t<tr><th scope=col>&lt;chr&gt;</th><th scope=col>&lt;chr&gt;</th><th scope=col>&lt;chr&gt;</th><th scope=col>&lt;chr&gt;</th><th scope=col>&lt;chr&gt;</th><th scope=col>&lt;chr&gt;</th><th scope=col>&lt;chr&gt;</th><th scope=col>&lt;chr&gt;</th></tr>\n",
       "</thead>\n",
       "<tbody>\n",
       "\t<tr><td>name  </td><td>sex </td><td>age</td><td>grade</td><td>absence</td><td>bloodtype</td><td>height</td><td>weight</td></tr>\n",
       "\t<tr><td>김길동</td><td>남자</td><td>23 </td><td>3    </td><td>유     </td><td>O        </td><td>165.3 </td><td>68.2  </td></tr>\n",
       "\t<tr><td>이미린</td><td>여자</td><td>22 </td><td>2    </td><td>무     </td><td>AB       </td><td>170.1 </td><td>53    </td></tr>\n",
       "\t<tr><td>홍길동</td><td>남자</td><td>24 </td><td>4    </td><td>무     </td><td>B        </td><td>175   </td><td>80.1  </td></tr>\n",
       "\t<tr><td>김철수</td><td>남자</td><td>23 </td><td>3    </td><td>무     </td><td>AB       </td><td>182.1 </td><td>85.7  </td></tr>\n",
       "\t<tr><td>손세수</td><td>여자</td><td>20 </td><td>1    </td><td>유     </td><td>A        </td><td>168   </td><td>49.5  </td></tr>\n",
       "\t<tr><td>박미희</td><td>여자</td><td>21 </td><td>2    </td><td>무     </td><td>O        </td><td>162   </td><td>52    </td></tr>\n",
       "\t<tr><td>강수친</td><td>여자</td><td>22 </td><td>1    </td><td>무     </td><td>O        </td><td>155.2 </td><td>45.3  </td></tr>\n",
       "\t<tr><td>이희수</td><td>여자</td><td>23 </td><td>1    </td><td>무     </td><td>A        </td><td>176.9 </td><td>55    </td></tr>\n",
       "\t<tr><td>이철린</td><td>남자</td><td>23 </td><td>3    </td><td>무     </td><td>B        </td><td>178.5 </td><td>64.2  </td></tr>\n",
       "\t<tr><td>방희철</td><td>남자</td><td>22 </td><td>2    </td><td>무     </td><td>B        </td><td>176.1 </td><td>61.3  </td></tr>\n",
       "\t<tr><td>박수호</td><td>남자</td><td>24 </td><td>4    </td><td>유     </td><td>O        </td><td>167.1 </td><td>62    </td></tr>\n",
       "\t<tr><td>임동민</td><td>남자</td><td>22 </td><td>2    </td><td>무     </td><td>AB       </td><td>180   </td><td>75.8  </td></tr>\n",
       "\t<tr><td>김민수</td><td>남자</td><td>21 </td><td>1    </td><td>무     </td><td>A        </td><td>162.2 </td><td>55.3  </td></tr>\n",
       "\t<tr><td>이희진</td><td>여자</td><td>23 </td><td>3    </td><td>무     </td><td>O        </td><td>176.1 </td><td>53.1  </td></tr>\n",
       "\t<tr><td>김미진</td><td>여자</td><td>22 </td><td>2    </td><td>무     </td><td>B        </td><td>158.2 </td><td>45.2  </td></tr>\n",
       "\t<tr><td>김동수</td><td>남자</td><td>24 </td><td>4    </td><td>유     </td><td>B        </td><td>168.6 </td><td>70.2  </td></tr>\n",
       "\t<tr><td>여수근</td><td>남자</td><td>21 </td><td>1    </td><td>무     </td><td>A        </td><td>169.2 </td><td>62.2  </td></tr>\n",
       "</tbody>\n",
       "</table>\n"
      ],
      "text/latex": [
       "A data.frame: 18 × 8\n",
       "\\begin{tabular}{llllllll}\n",
       " V1 & V2 & V3 & V4 & V5 & V6 & V7 & V8\\\\\n",
       " <chr> & <chr> & <chr> & <chr> & <chr> & <chr> & <chr> & <chr>\\\\\n",
       "\\hline\n",
       "\t name   & sex  & age & grade & absence & bloodtype & height & weight\\\\\n",
       "\t 김길동 & 남자 & 23  & 3     & 유      & O         & 165.3  & 68.2  \\\\\n",
       "\t 이미린 & 여자 & 22  & 2     & 무      & AB        & 170.1  & 53    \\\\\n",
       "\t 홍길동 & 남자 & 24  & 4     & 무      & B         & 175    & 80.1  \\\\\n",
       "\t 김철수 & 남자 & 23  & 3     & 무      & AB        & 182.1  & 85.7  \\\\\n",
       "\t 손세수 & 여자 & 20  & 1     & 유      & A         & 168    & 49.5  \\\\\n",
       "\t 박미희 & 여자 & 21  & 2     & 무      & O         & 162    & 52    \\\\\n",
       "\t 강수친 & 여자 & 22  & 1     & 무      & O         & 155.2  & 45.3  \\\\\n",
       "\t 이희수 & 여자 & 23  & 1     & 무      & A         & 176.9  & 55    \\\\\n",
       "\t 이철린 & 남자 & 23  & 3     & 무      & B         & 178.5  & 64.2  \\\\\n",
       "\t 방희철 & 남자 & 22  & 2     & 무      & B         & 176.1  & 61.3  \\\\\n",
       "\t 박수호 & 남자 & 24  & 4     & 유      & O         & 167.1  & 62    \\\\\n",
       "\t 임동민 & 남자 & 22  & 2     & 무      & AB        & 180    & 75.8  \\\\\n",
       "\t 김민수 & 남자 & 21  & 1     & 무      & A         & 162.2  & 55.3  \\\\\n",
       "\t 이희진 & 여자 & 23  & 3     & 무      & O         & 176.1  & 53.1  \\\\\n",
       "\t 김미진 & 여자 & 22  & 2     & 무      & B         & 158.2  & 45.2  \\\\\n",
       "\t 김동수 & 남자 & 24  & 4     & 유      & B         & 168.6  & 70.2  \\\\\n",
       "\t 여수근 & 남자 & 21  & 1     & 무      & A         & 169.2  & 62.2  \\\\\n",
       "\\end{tabular}\n"
      ],
      "text/markdown": [
       "\n",
       "A data.frame: 18 × 8\n",
       "\n",
       "| V1 &lt;chr&gt; | V2 &lt;chr&gt; | V3 &lt;chr&gt; | V4 &lt;chr&gt; | V5 &lt;chr&gt; | V6 &lt;chr&gt; | V7 &lt;chr&gt; | V8 &lt;chr&gt; |\n",
       "|---|---|---|---|---|---|---|---|\n",
       "| name   | sex  | age | grade | absence | bloodtype | height | weight |\n",
       "| 김길동 | 남자 | 23  | 3     | 유      | O         | 165.3  | 68.2   |\n",
       "| 이미린 | 여자 | 22  | 2     | 무      | AB        | 170.1  | 53     |\n",
       "| 홍길동 | 남자 | 24  | 4     | 무      | B         | 175    | 80.1   |\n",
       "| 김철수 | 남자 | 23  | 3     | 무      | AB        | 182.1  | 85.7   |\n",
       "| 손세수 | 여자 | 20  | 1     | 유      | A         | 168    | 49.5   |\n",
       "| 박미희 | 여자 | 21  | 2     | 무      | O         | 162    | 52     |\n",
       "| 강수친 | 여자 | 22  | 1     | 무      | O         | 155.2  | 45.3   |\n",
       "| 이희수 | 여자 | 23  | 1     | 무      | A         | 176.9  | 55     |\n",
       "| 이철린 | 남자 | 23  | 3     | 무      | B         | 178.5  | 64.2   |\n",
       "| 방희철 | 남자 | 22  | 2     | 무      | B         | 176.1  | 61.3   |\n",
       "| 박수호 | 남자 | 24  | 4     | 유      | O         | 167.1  | 62     |\n",
       "| 임동민 | 남자 | 22  | 2     | 무      | AB        | 180    | 75.8   |\n",
       "| 김민수 | 남자 | 21  | 1     | 무      | A         | 162.2  | 55.3   |\n",
       "| 이희진 | 여자 | 23  | 3     | 무      | O         | 176.1  | 53.1   |\n",
       "| 김미진 | 여자 | 22  | 2     | 무      | B         | 158.2  | 45.2   |\n",
       "| 김동수 | 남자 | 24  | 4     | 유      | B         | 168.6  | 70.2   |\n",
       "| 여수근 | 남자 | 21  | 1     | 무      | A         | 169.2  | 62.2   |\n",
       "\n"
      ],
      "text/plain": [
       "   V1     V2   V3  V4    V5      V6        V7     V8    \n",
       "1  name   sex  age grade absence bloodtype height weight\n",
       "2  김길동 남자 23  3     유      O         165.3  68.2  \n",
       "3  이미린 여자 22  2     무      AB        170.1  53    \n",
       "4  홍길동 남자 24  4     무      B         175    80.1  \n",
       "5  김철수 남자 23  3     무      AB        182.1  85.7  \n",
       "6  손세수 여자 20  1     유      A         168    49.5  \n",
       "7  박미희 여자 21  2     무      O         162    52    \n",
       "8  강수친 여자 22  1     무      O         155.2  45.3  \n",
       "9  이희수 여자 23  1     무      A         176.9  55    \n",
       "10 이철린 남자 23  3     무      B         178.5  64.2  \n",
       "11 방희철 남자 22  2     무      B         176.1  61.3  \n",
       "12 박수호 남자 24  4     유      O         167.1  62    \n",
       "13 임동민 남자 22  2     무      AB        180    75.8  \n",
       "14 김민수 남자 21  1     무      A         162.2  55.3  \n",
       "15 이희진 여자 23  3     무      O         176.1  53.1  \n",
       "16 김미진 여자 22  2     무      B         158.2  45.2  \n",
       "17 김동수 남자 24  4     유      B         168.6  70.2  \n",
       "18 여수근 남자 21  1     무      A         169.2  62.2  "
      ]
     },
     "metadata": {},
     "output_type": "display_data"
    }
   ],
   "source": [
    "list <- read.csv('./rggagi/example_studentlist.csv', header=F)\n",
    "list"
   ]
  },
  {
   "cell_type": "code",
   "execution_count": null,
   "id": "19502c00",
   "metadata": {},
   "outputs": [],
   "source": [
    "list <- read.csv('./rggagi/example_studentlist.csv')\n",
    "list"
   ]
  },
  {
   "cell_type": "code",
   "execution_count": 10,
   "id": "63bc0855",
   "metadata": {},
   "outputs": [
    {
     "data": {
      "text/html": [
       "<table class=\"dataframe\">\n",
       "<caption>A data.frame: 17 × 7</caption>\n",
       "<thead>\n",
       "\t<tr><th scope=col>이름</th><th scope=col>성별</th><th scope=col>나이</th><th scope=col>학년</th><th scope=col>휴학여부</th><th scope=col>혈액형</th><th scope=col>키</th></tr>\n",
       "\t<tr><th scope=col>&lt;chr&gt;</th><th scope=col>&lt;chr&gt;</th><th scope=col>&lt;int&gt;</th><th scope=col>&lt;int&gt;</th><th scope=col>&lt;chr&gt;</th><th scope=col>&lt;chr&gt;</th><th scope=col>&lt;dbl&gt;</th></tr>\n",
       "</thead>\n",
       "<tbody>\n",
       "\t<tr><td>김길동</td><td>남자</td><td>23</td><td>3</td><td>유</td><td>O </td><td>165.3</td></tr>\n",
       "\t<tr><td>이미린</td><td>여자</td><td>22</td><td>2</td><td>무</td><td>AB</td><td>170.1</td></tr>\n",
       "\t<tr><td>홍길동</td><td>남자</td><td>24</td><td>4</td><td>무</td><td>B </td><td>175.0</td></tr>\n",
       "\t<tr><td>김철수</td><td>남자</td><td>23</td><td>3</td><td>무</td><td>AB</td><td>182.1</td></tr>\n",
       "\t<tr><td>손세수</td><td>여자</td><td>20</td><td>1</td><td>유</td><td>A </td><td>168.0</td></tr>\n",
       "\t<tr><td>박미희</td><td>여자</td><td>21</td><td>2</td><td>무</td><td>O </td><td>162.0</td></tr>\n",
       "\t<tr><td>강수친</td><td>여자</td><td>22</td><td>1</td><td>무</td><td>O </td><td>155.2</td></tr>\n",
       "\t<tr><td>이희수</td><td>여자</td><td>23</td><td>1</td><td>무</td><td>A </td><td>176.9</td></tr>\n",
       "\t<tr><td>이철린</td><td>남자</td><td>23</td><td>3</td><td>무</td><td>B </td><td>178.5</td></tr>\n",
       "\t<tr><td>방희철</td><td>남자</td><td>22</td><td>2</td><td>무</td><td>B </td><td>176.1</td></tr>\n",
       "\t<tr><td>박수호</td><td>남자</td><td>24</td><td>4</td><td>유</td><td>O </td><td>167.1</td></tr>\n",
       "\t<tr><td>임동민</td><td>남자</td><td>22</td><td>2</td><td>무</td><td>AB</td><td>180.0</td></tr>\n",
       "\t<tr><td>김민수</td><td>남자</td><td>21</td><td>1</td><td>무</td><td>A </td><td>162.2</td></tr>\n",
       "\t<tr><td>이희진</td><td>여자</td><td>23</td><td>3</td><td>무</td><td>O </td><td>176.1</td></tr>\n",
       "\t<tr><td>김미진</td><td>여자</td><td>22</td><td>2</td><td>무</td><td>B </td><td>158.2</td></tr>\n",
       "\t<tr><td>김동수</td><td>남자</td><td>24</td><td>4</td><td>유</td><td>B </td><td>168.6</td></tr>\n",
       "\t<tr><td>여수근</td><td>남자</td><td>21</td><td>1</td><td>무</td><td>A </td><td>169.2</td></tr>\n",
       "</tbody>\n",
       "</table>\n"
      ],
      "text/latex": [
       "A data.frame: 17 × 7\n",
       "\\begin{tabular}{lllllll}\n",
       " 이름 & 성별 & 나이 & 학년 & 휴학여부 & 혈액형 & 키\\\\\n",
       " <chr> & <chr> & <int> & <int> & <chr> & <chr> & <dbl>\\\\\n",
       "\\hline\n",
       "\t 김길동 & 남자 & 23 & 3 & 유 & O  & 165.3\\\\\n",
       "\t 이미린 & 여자 & 22 & 2 & 무 & AB & 170.1\\\\\n",
       "\t 홍길동 & 남자 & 24 & 4 & 무 & B  & 175.0\\\\\n",
       "\t 김철수 & 남자 & 23 & 3 & 무 & AB & 182.1\\\\\n",
       "\t 손세수 & 여자 & 20 & 1 & 유 & A  & 168.0\\\\\n",
       "\t 박미희 & 여자 & 21 & 2 & 무 & O  & 162.0\\\\\n",
       "\t 강수친 & 여자 & 22 & 1 & 무 & O  & 155.2\\\\\n",
       "\t 이희수 & 여자 & 23 & 1 & 무 & A  & 176.9\\\\\n",
       "\t 이철린 & 남자 & 23 & 3 & 무 & B  & 178.5\\\\\n",
       "\t 방희철 & 남자 & 22 & 2 & 무 & B  & 176.1\\\\\n",
       "\t 박수호 & 남자 & 24 & 4 & 유 & O  & 167.1\\\\\n",
       "\t 임동민 & 남자 & 22 & 2 & 무 & AB & 180.0\\\\\n",
       "\t 김민수 & 남자 & 21 & 1 & 무 & A  & 162.2\\\\\n",
       "\t 이희진 & 여자 & 23 & 3 & 무 & O  & 176.1\\\\\n",
       "\t 김미진 & 여자 & 22 & 2 & 무 & B  & 158.2\\\\\n",
       "\t 김동수 & 남자 & 24 & 4 & 유 & B  & 168.6\\\\\n",
       "\t 여수근 & 남자 & 21 & 1 & 무 & A  & 169.2\\\\\n",
       "\\end{tabular}\n"
      ],
      "text/markdown": [
       "\n",
       "A data.frame: 17 × 7\n",
       "\n",
       "| 이름 &lt;chr&gt; | 성별 &lt;chr&gt; | 나이 &lt;int&gt; | 학년 &lt;int&gt; | 휴학여부 &lt;chr&gt; | 혈액형 &lt;chr&gt; | 키 &lt;dbl&gt; |\n",
       "|---|---|---|---|---|---|---|\n",
       "| 김길동 | 남자 | 23 | 3 | 유 | O  | 165.3 |\n",
       "| 이미린 | 여자 | 22 | 2 | 무 | AB | 170.1 |\n",
       "| 홍길동 | 남자 | 24 | 4 | 무 | B  | 175.0 |\n",
       "| 김철수 | 남자 | 23 | 3 | 무 | AB | 182.1 |\n",
       "| 손세수 | 여자 | 20 | 1 | 유 | A  | 168.0 |\n",
       "| 박미희 | 여자 | 21 | 2 | 무 | O  | 162.0 |\n",
       "| 강수친 | 여자 | 22 | 1 | 무 | O  | 155.2 |\n",
       "| 이희수 | 여자 | 23 | 1 | 무 | A  | 176.9 |\n",
       "| 이철린 | 남자 | 23 | 3 | 무 | B  | 178.5 |\n",
       "| 방희철 | 남자 | 22 | 2 | 무 | B  | 176.1 |\n",
       "| 박수호 | 남자 | 24 | 4 | 유 | O  | 167.1 |\n",
       "| 임동민 | 남자 | 22 | 2 | 무 | AB | 180.0 |\n",
       "| 김민수 | 남자 | 21 | 1 | 무 | A  | 162.2 |\n",
       "| 이희진 | 여자 | 23 | 3 | 무 | O  | 176.1 |\n",
       "| 김미진 | 여자 | 22 | 2 | 무 | B  | 158.2 |\n",
       "| 김동수 | 남자 | 24 | 4 | 유 | B  | 168.6 |\n",
       "| 여수근 | 남자 | 21 | 1 | 무 | A  | 169.2 |\n",
       "\n"
      ],
      "text/plain": [
       "   이름   성별 나이 학년 휴학여부 혈액형 키   \n",
       "1  김길동 남자 23   3    유       O      165.3\n",
       "2  이미린 여자 22   2    무       AB     170.1\n",
       "3  홍길동 남자 24   4    무       B      175.0\n",
       "4  김철수 남자 23   3    무       AB     182.1\n",
       "5  손세수 여자 20   1    유       A      168.0\n",
       "6  박미희 여자 21   2    무       O      162.0\n",
       "7  강수친 여자 22   1    무       O      155.2\n",
       "8  이희수 여자 23   1    무       A      176.9\n",
       "9  이철린 남자 23   3    무       B      178.5\n",
       "10 방희철 남자 22   2    무       B      176.1\n",
       "11 박수호 남자 24   4    유       O      167.1\n",
       "12 임동민 남자 22   2    무       AB     180.0\n",
       "13 김민수 남자 21   1    무       A      162.2\n",
       "14 이희진 여자 23   3    무       O      176.1\n",
       "15 김미진 여자 22   2    무       B      158.2\n",
       "16 김동수 남자 24   4    유       B      168.6\n",
       "17 여수근 남자 21   1    무       A      169.2"
      ]
     },
     "metadata": {},
     "output_type": "display_data"
    }
   ],
   "source": [
    "# read.table() - 구분자 Tab이 기본, header=F 가 기본\n",
    "List <- read.table('./rggagi/studentlist.txt', header =T)\n",
    "List"
   ]
  },
  {
   "cell_type": "code",
   "execution_count": 12,
   "id": "ef49cd45",
   "metadata": {},
   "outputs": [
    {
     "data": {
      "text/html": [
       "<table class=\"dataframe\">\n",
       "<caption>A data.frame: 17 × 7</caption>\n",
       "<thead>\n",
       "\t<tr><th scope=col>이름</th><th scope=col>성별</th><th scope=col>나이</th><th scope=col>학년</th><th scope=col>휴학여부</th><th scope=col>혈액형</th><th scope=col>키</th></tr>\n",
       "\t<tr><th scope=col>&lt;chr&gt;</th><th scope=col>&lt;chr&gt;</th><th scope=col>&lt;int&gt;</th><th scope=col>&lt;int&gt;</th><th scope=col>&lt;chr&gt;</th><th scope=col>&lt;chr&gt;</th><th scope=col>&lt;dbl&gt;</th></tr>\n",
       "</thead>\n",
       "<tbody>\n",
       "\t<tr><td>김길동</td><td>남자</td><td>23</td><td>3</td><td>유</td><td>O </td><td>165.3</td></tr>\n",
       "\t<tr><td>이미린</td><td>여자</td><td>22</td><td>2</td><td>무</td><td>AB</td><td>170.1</td></tr>\n",
       "\t<tr><td>홍길동</td><td>남자</td><td>24</td><td>4</td><td>무</td><td>B </td><td>175.0</td></tr>\n",
       "\t<tr><td>김철수</td><td>남자</td><td>23</td><td>3</td><td>무</td><td>AB</td><td>182.1</td></tr>\n",
       "\t<tr><td>손세수</td><td>여자</td><td>20</td><td>1</td><td>유</td><td>A </td><td>168.0</td></tr>\n",
       "\t<tr><td>박미희</td><td>여자</td><td>21</td><td>2</td><td>무</td><td>O </td><td>162.0</td></tr>\n",
       "\t<tr><td>강수친</td><td>여자</td><td>22</td><td>1</td><td>무</td><td>O </td><td>155.2</td></tr>\n",
       "\t<tr><td>이희수</td><td>여자</td><td>23</td><td>1</td><td>무</td><td>A </td><td>176.9</td></tr>\n",
       "\t<tr><td>이철린</td><td>남자</td><td>23</td><td>3</td><td>무</td><td>B </td><td>178.5</td></tr>\n",
       "\t<tr><td>방희철</td><td>남자</td><td>22</td><td>2</td><td>무</td><td>B </td><td>176.1</td></tr>\n",
       "\t<tr><td>박수호</td><td>남자</td><td>24</td><td>4</td><td>유</td><td>O </td><td>167.1</td></tr>\n",
       "\t<tr><td>임동민</td><td>남자</td><td>22</td><td>2</td><td>무</td><td>AB</td><td>180.0</td></tr>\n",
       "\t<tr><td>김민수</td><td>남자</td><td>21</td><td>1</td><td>무</td><td>A </td><td>162.2</td></tr>\n",
       "\t<tr><td>이희진</td><td>여자</td><td>23</td><td>3</td><td>무</td><td>O </td><td>176.1</td></tr>\n",
       "\t<tr><td>김미진</td><td>여자</td><td>22</td><td>2</td><td>무</td><td>B </td><td>158.2</td></tr>\n",
       "\t<tr><td>김동수</td><td>남자</td><td>24</td><td>4</td><td>유</td><td>B </td><td>168.6</td></tr>\n",
       "\t<tr><td>여수근</td><td>남자</td><td>21</td><td>1</td><td>무</td><td>A </td><td>169.2</td></tr>\n",
       "</tbody>\n",
       "</table>\n"
      ],
      "text/latex": [
       "A data.frame: 17 × 7\n",
       "\\begin{tabular}{lllllll}\n",
       " 이름 & 성별 & 나이 & 학년 & 휴학여부 & 혈액형 & 키\\\\\n",
       " <chr> & <chr> & <int> & <int> & <chr> & <chr> & <dbl>\\\\\n",
       "\\hline\n",
       "\t 김길동 & 남자 & 23 & 3 & 유 & O  & 165.3\\\\\n",
       "\t 이미린 & 여자 & 22 & 2 & 무 & AB & 170.1\\\\\n",
       "\t 홍길동 & 남자 & 24 & 4 & 무 & B  & 175.0\\\\\n",
       "\t 김철수 & 남자 & 23 & 3 & 무 & AB & 182.1\\\\\n",
       "\t 손세수 & 여자 & 20 & 1 & 유 & A  & 168.0\\\\\n",
       "\t 박미희 & 여자 & 21 & 2 & 무 & O  & 162.0\\\\\n",
       "\t 강수친 & 여자 & 22 & 1 & 무 & O  & 155.2\\\\\n",
       "\t 이희수 & 여자 & 23 & 1 & 무 & A  & 176.9\\\\\n",
       "\t 이철린 & 남자 & 23 & 3 & 무 & B  & 178.5\\\\\n",
       "\t 방희철 & 남자 & 22 & 2 & 무 & B  & 176.1\\\\\n",
       "\t 박수호 & 남자 & 24 & 4 & 유 & O  & 167.1\\\\\n",
       "\t 임동민 & 남자 & 22 & 2 & 무 & AB & 180.0\\\\\n",
       "\t 김민수 & 남자 & 21 & 1 & 무 & A  & 162.2\\\\\n",
       "\t 이희진 & 여자 & 23 & 3 & 무 & O  & 176.1\\\\\n",
       "\t 김미진 & 여자 & 22 & 2 & 무 & B  & 158.2\\\\\n",
       "\t 김동수 & 남자 & 24 & 4 & 유 & B  & 168.6\\\\\n",
       "\t 여수근 & 남자 & 21 & 1 & 무 & A  & 169.2\\\\\n",
       "\\end{tabular}\n"
      ],
      "text/markdown": [
       "\n",
       "A data.frame: 17 × 7\n",
       "\n",
       "| 이름 &lt;chr&gt; | 성별 &lt;chr&gt; | 나이 &lt;int&gt; | 학년 &lt;int&gt; | 휴학여부 &lt;chr&gt; | 혈액형 &lt;chr&gt; | 키 &lt;dbl&gt; |\n",
       "|---|---|---|---|---|---|---|\n",
       "| 김길동 | 남자 | 23 | 3 | 유 | O  | 165.3 |\n",
       "| 이미린 | 여자 | 22 | 2 | 무 | AB | 170.1 |\n",
       "| 홍길동 | 남자 | 24 | 4 | 무 | B  | 175.0 |\n",
       "| 김철수 | 남자 | 23 | 3 | 무 | AB | 182.1 |\n",
       "| 손세수 | 여자 | 20 | 1 | 유 | A  | 168.0 |\n",
       "| 박미희 | 여자 | 21 | 2 | 무 | O  | 162.0 |\n",
       "| 강수친 | 여자 | 22 | 1 | 무 | O  | 155.2 |\n",
       "| 이희수 | 여자 | 23 | 1 | 무 | A  | 176.9 |\n",
       "| 이철린 | 남자 | 23 | 3 | 무 | B  | 178.5 |\n",
       "| 방희철 | 남자 | 22 | 2 | 무 | B  | 176.1 |\n",
       "| 박수호 | 남자 | 24 | 4 | 유 | O  | 167.1 |\n",
       "| 임동민 | 남자 | 22 | 2 | 무 | AB | 180.0 |\n",
       "| 김민수 | 남자 | 21 | 1 | 무 | A  | 162.2 |\n",
       "| 이희진 | 여자 | 23 | 3 | 무 | O  | 176.1 |\n",
       "| 김미진 | 여자 | 22 | 2 | 무 | B  | 158.2 |\n",
       "| 김동수 | 남자 | 24 | 4 | 유 | B  | 168.6 |\n",
       "| 여수근 | 남자 | 21 | 1 | 무 | A  | 169.2 |\n",
       "\n"
      ],
      "text/plain": [
       "   이름   성별 나이 학년 휴학여부 혈액형 키   \n",
       "1  김길동 남자 23   3    유       O      165.3\n",
       "2  이미린 여자 22   2    무       AB     170.1\n",
       "3  홍길동 남자 24   4    무       B      175.0\n",
       "4  김철수 남자 23   3    무       AB     182.1\n",
       "5  손세수 여자 20   1    유       A      168.0\n",
       "6  박미희 여자 21   2    무       O      162.0\n",
       "7  강수친 여자 22   1    무       O      155.2\n",
       "8  이희수 여자 23   1    무       A      176.9\n",
       "9  이철린 남자 23   3    무       B      178.5\n",
       "10 방희철 남자 22   2    무       B      176.1\n",
       "11 박수호 남자 24   4    유       O      167.1\n",
       "12 임동민 남자 22   2    무       AB     180.0\n",
       "13 김민수 남자 21   1    무       A      162.2\n",
       "14 이희진 여자 23   3    무       O      176.1\n",
       "15 김미진 여자 22   2    무       B      158.2\n",
       "16 김동수 남자 24   4    유       B      168.6\n",
       "17 여수근 남자 21   1    무       A      169.2"
      ]
     },
     "metadata": {},
     "output_type": "display_data"
    }
   ],
   "source": [
    "List <- read.table('./rggagi/studentlist2.txt', header = T, sep = ';')\n",
    "List"
   ]
  },
  {
   "cell_type": "code",
   "execution_count": 13,
   "id": "bb475998",
   "metadata": {},
   "outputs": [
    {
     "name": "stdout",
     "output_type": "stream",
     "text": [
      "package 'readxl' successfully unpacked and MD5 sums checked\n",
      "\n",
      "The downloaded binary packages are in\n",
      "\tC:\\Users\\NOTEBOOK\\AppData\\Local\\Temp\\Rtmp8orkOM\\downloaded_packages\n"
     ]
    }
   ],
   "source": [
    "install.packages('readxl')"
   ]
  },
  {
   "cell_type": "code",
   "execution_count": 14,
   "id": "50af3509",
   "metadata": {},
   "outputs": [],
   "source": [
    "library('readxl')"
   ]
  },
  {
   "cell_type": "code",
   "execution_count": 17,
   "id": "02c464c9",
   "metadata": {},
   "outputs": [
    {
     "data": {
      "text/html": [
       "<table class=\"dataframe\">\n",
       "<caption>A tibble: 17 × 8</caption>\n",
       "<thead>\n",
       "\t<tr><th scope=col>name</th><th scope=col>sex</th><th scope=col>age</th><th scope=col>grade</th><th scope=col>absence</th><th scope=col>bloodtype</th><th scope=col>height</th><th scope=col>weight</th></tr>\n",
       "\t<tr><th scope=col>&lt;chr&gt;</th><th scope=col>&lt;chr&gt;</th><th scope=col>&lt;dbl&gt;</th><th scope=col>&lt;dbl&gt;</th><th scope=col>&lt;chr&gt;</th><th scope=col>&lt;chr&gt;</th><th scope=col>&lt;dbl&gt;</th><th scope=col>&lt;dbl&gt;</th></tr>\n",
       "</thead>\n",
       "<tbody>\n",
       "\t<tr><td>김길동</td><td>남자</td><td>23</td><td>3</td><td>유</td><td>O </td><td>165.3</td><td>68.2</td></tr>\n",
       "\t<tr><td>이미린</td><td>여자</td><td>22</td><td>2</td><td>무</td><td>AB</td><td>170.1</td><td>53.0</td></tr>\n",
       "\t<tr><td>홍길동</td><td>남자</td><td>24</td><td>4</td><td>무</td><td>B </td><td>175.0</td><td>80.1</td></tr>\n",
       "\t<tr><td>김철수</td><td>남자</td><td>23</td><td>3</td><td>무</td><td>AB</td><td>182.1</td><td>85.7</td></tr>\n",
       "\t<tr><td>손세수</td><td>여자</td><td>20</td><td>1</td><td>유</td><td>A </td><td>168.0</td><td>49.5</td></tr>\n",
       "\t<tr><td>박미희</td><td>여자</td><td>21</td><td>2</td><td>무</td><td>O </td><td>162.0</td><td>52.0</td></tr>\n",
       "\t<tr><td>강수친</td><td>여자</td><td>22</td><td>1</td><td>무</td><td>O </td><td>155.2</td><td>45.3</td></tr>\n",
       "\t<tr><td>이희수</td><td>여자</td><td>23</td><td>1</td><td>무</td><td>A </td><td>176.9</td><td>55.0</td></tr>\n",
       "\t<tr><td>이철린</td><td>남자</td><td>23</td><td>3</td><td>무</td><td>B </td><td>178.5</td><td>64.2</td></tr>\n",
       "\t<tr><td>방희철</td><td>남자</td><td>22</td><td>2</td><td>무</td><td>B </td><td>176.1</td><td>61.3</td></tr>\n",
       "\t<tr><td>박수호</td><td>남자</td><td>24</td><td>4</td><td>유</td><td>O </td><td>167.1</td><td>62.0</td></tr>\n",
       "\t<tr><td>임동민</td><td>남자</td><td>22</td><td>2</td><td>무</td><td>AB</td><td>180.0</td><td>75.8</td></tr>\n",
       "\t<tr><td>김민수</td><td>남자</td><td>21</td><td>1</td><td>무</td><td>A </td><td>162.2</td><td>55.3</td></tr>\n",
       "\t<tr><td>이희진</td><td>여자</td><td>23</td><td>3</td><td>무</td><td>O </td><td>176.1</td><td>53.1</td></tr>\n",
       "\t<tr><td>김미진</td><td>여자</td><td>22</td><td>2</td><td>무</td><td>B </td><td>158.2</td><td>45.2</td></tr>\n",
       "\t<tr><td>김동수</td><td>남자</td><td>24</td><td>4</td><td>유</td><td>B </td><td>168.6</td><td>70.2</td></tr>\n",
       "\t<tr><td>여수근</td><td>남자</td><td>21</td><td>1</td><td>무</td><td>A </td><td>169.2</td><td>62.2</td></tr>\n",
       "</tbody>\n",
       "</table>\n"
      ],
      "text/latex": [
       "A tibble: 17 × 8\n",
       "\\begin{tabular}{llllllll}\n",
       " name & sex & age & grade & absence & bloodtype & height & weight\\\\\n",
       " <chr> & <chr> & <dbl> & <dbl> & <chr> & <chr> & <dbl> & <dbl>\\\\\n",
       "\\hline\n",
       "\t 김길동 & 남자 & 23 & 3 & 유 & O  & 165.3 & 68.2\\\\\n",
       "\t 이미린 & 여자 & 22 & 2 & 무 & AB & 170.1 & 53.0\\\\\n",
       "\t 홍길동 & 남자 & 24 & 4 & 무 & B  & 175.0 & 80.1\\\\\n",
       "\t 김철수 & 남자 & 23 & 3 & 무 & AB & 182.1 & 85.7\\\\\n",
       "\t 손세수 & 여자 & 20 & 1 & 유 & A  & 168.0 & 49.5\\\\\n",
       "\t 박미희 & 여자 & 21 & 2 & 무 & O  & 162.0 & 52.0\\\\\n",
       "\t 강수친 & 여자 & 22 & 1 & 무 & O  & 155.2 & 45.3\\\\\n",
       "\t 이희수 & 여자 & 23 & 1 & 무 & A  & 176.9 & 55.0\\\\\n",
       "\t 이철린 & 남자 & 23 & 3 & 무 & B  & 178.5 & 64.2\\\\\n",
       "\t 방희철 & 남자 & 22 & 2 & 무 & B  & 176.1 & 61.3\\\\\n",
       "\t 박수호 & 남자 & 24 & 4 & 유 & O  & 167.1 & 62.0\\\\\n",
       "\t 임동민 & 남자 & 22 & 2 & 무 & AB & 180.0 & 75.8\\\\\n",
       "\t 김민수 & 남자 & 21 & 1 & 무 & A  & 162.2 & 55.3\\\\\n",
       "\t 이희진 & 여자 & 23 & 3 & 무 & O  & 176.1 & 53.1\\\\\n",
       "\t 김미진 & 여자 & 22 & 2 & 무 & B  & 158.2 & 45.2\\\\\n",
       "\t 김동수 & 남자 & 24 & 4 & 유 & B  & 168.6 & 70.2\\\\\n",
       "\t 여수근 & 남자 & 21 & 1 & 무 & A  & 169.2 & 62.2\\\\\n",
       "\\end{tabular}\n"
      ],
      "text/markdown": [
       "\n",
       "A tibble: 17 × 8\n",
       "\n",
       "| name &lt;chr&gt; | sex &lt;chr&gt; | age &lt;dbl&gt; | grade &lt;dbl&gt; | absence &lt;chr&gt; | bloodtype &lt;chr&gt; | height &lt;dbl&gt; | weight &lt;dbl&gt; |\n",
       "|---|---|---|---|---|---|---|---|\n",
       "| 김길동 | 남자 | 23 | 3 | 유 | O  | 165.3 | 68.2 |\n",
       "| 이미린 | 여자 | 22 | 2 | 무 | AB | 170.1 | 53.0 |\n",
       "| 홍길동 | 남자 | 24 | 4 | 무 | B  | 175.0 | 80.1 |\n",
       "| 김철수 | 남자 | 23 | 3 | 무 | AB | 182.1 | 85.7 |\n",
       "| 손세수 | 여자 | 20 | 1 | 유 | A  | 168.0 | 49.5 |\n",
       "| 박미희 | 여자 | 21 | 2 | 무 | O  | 162.0 | 52.0 |\n",
       "| 강수친 | 여자 | 22 | 1 | 무 | O  | 155.2 | 45.3 |\n",
       "| 이희수 | 여자 | 23 | 1 | 무 | A  | 176.9 | 55.0 |\n",
       "| 이철린 | 남자 | 23 | 3 | 무 | B  | 178.5 | 64.2 |\n",
       "| 방희철 | 남자 | 22 | 2 | 무 | B  | 176.1 | 61.3 |\n",
       "| 박수호 | 남자 | 24 | 4 | 유 | O  | 167.1 | 62.0 |\n",
       "| 임동민 | 남자 | 22 | 2 | 무 | AB | 180.0 | 75.8 |\n",
       "| 김민수 | 남자 | 21 | 1 | 무 | A  | 162.2 | 55.3 |\n",
       "| 이희진 | 여자 | 23 | 3 | 무 | O  | 176.1 | 53.1 |\n",
       "| 김미진 | 여자 | 22 | 2 | 무 | B  | 158.2 | 45.2 |\n",
       "| 김동수 | 남자 | 24 | 4 | 유 | B  | 168.6 | 70.2 |\n",
       "| 여수근 | 남자 | 21 | 1 | 무 | A  | 169.2 | 62.2 |\n",
       "\n"
      ],
      "text/plain": [
       "   name   sex  age grade absence bloodtype height weight\n",
       "1  김길동 남자 23  3     유      O         165.3  68.2  \n",
       "2  이미린 여자 22  2     무      AB        170.1  53.0  \n",
       "3  홍길동 남자 24  4     무      B         175.0  80.1  \n",
       "4  김철수 남자 23  3     무      AB        182.1  85.7  \n",
       "5  손세수 여자 20  1     유      A         168.0  49.5  \n",
       "6  박미희 여자 21  2     무      O         162.0  52.0  \n",
       "7  강수친 여자 22  1     무      O         155.2  45.3  \n",
       "8  이희수 여자 23  1     무      A         176.9  55.0  \n",
       "9  이철린 남자 23  3     무      B         178.5  64.2  \n",
       "10 방희철 남자 22  2     무      B         176.1  61.3  \n",
       "11 박수호 남자 24  4     유      O         167.1  62.0  \n",
       "12 임동민 남자 22  2     무      AB        180.0  75.8  \n",
       "13 김민수 남자 21  1     무      A         162.2  55.3  \n",
       "14 이희진 여자 23  3     무      O         176.1  53.1  \n",
       "15 김미진 여자 22  2     무      B         158.2  45.2  \n",
       "16 김동수 남자 24  4     유      B         168.6  70.2  \n",
       "17 여수근 남자 21  1     무      A         169.2  62.2  "
      ]
     },
     "metadata": {},
     "output_type": "display_data"
    }
   ],
   "source": [
    "df <- read_excel(path = './rggagi/studentlist.xlsx', sheet = 'Sheet1', col_names = TRUE)\n",
    "df"
   ]
  },
  {
   "cell_type": "code",
   "execution_count": 18,
   "id": "87130af5",
   "metadata": {},
   "outputs": [
    {
     "name": "stdout",
     "output_type": "stream",
     "text": [
      "package 'foreign' successfully unpacked and MD5 sums checked\n",
      "\n",
      "The downloaded binary packages are in\n",
      "\tC:\\Users\\NOTEBOOK\\AppData\\Local\\Temp\\Rtmp8orkOM\\downloaded_packages\n"
     ]
    }
   ],
   "source": [
    "install.packages('foreign')"
   ]
  },
  {
   "cell_type": "code",
   "execution_count": 19,
   "id": "71cf53fe",
   "metadata": {},
   "outputs": [],
   "source": [
    "library('foreign')"
   ]
  },
  {
   "cell_type": "code",
   "execution_count": 20,
   "id": "6f32c5bb",
   "metadata": {},
   "outputs": [
    {
     "data": {
      "text/html": [
       "<dl>\n",
       "\t<dt>$ID</dt>\n",
       "\t\t<dd><style>\n",
       ".list-inline {list-style: none; margin:0; padding: 0}\n",
       ".list-inline>li {display: inline-block}\n",
       ".list-inline>li:not(:last-child)::after {content: \"\\00b7\"; padding: 0 .5ex}\n",
       "</style>\n",
       "<ol class=list-inline><li>1</li><li>2</li><li>3</li></ol>\n",
       "</dd>\n",
       "\t<dt>$Score</dt>\n",
       "\t\t<dd><style>\n",
       ".list-inline {list-style: none; margin:0; padding: 0}\n",
       ".list-inline>li {display: inline-block}\n",
       ".list-inline>li:not(:last-child)::after {content: \"\\00b7\"; padding: 0 .5ex}\n",
       "</style>\n",
       "<ol class=list-inline><li>80</li><li>90</li><li>100</li></ol>\n",
       "</dd>\n",
       "</dl>\n"
      ],
      "text/latex": [
       "\\begin{description}\n",
       "\\item[\\$ID] \\begin{enumerate*}\n",
       "\\item 1\n",
       "\\item 2\n",
       "\\item 3\n",
       "\\end{enumerate*}\n",
       "\n",
       "\\item[\\$Score] \\begin{enumerate*}\n",
       "\\item 80\n",
       "\\item 90\n",
       "\\item 100\n",
       "\\end{enumerate*}\n",
       "\n",
       "\\end{description}\n"
      ],
      "text/markdown": [
       "$ID\n",
       ":   1. 1\n",
       "2. 2\n",
       "3. 3\n",
       "\n",
       "\n",
       "\n",
       "$Score\n",
       ":   1. 80\n",
       "2. 90\n",
       "3. 100\n",
       "\n",
       "\n",
       "\n",
       "\n",
       "\n"
      ],
      "text/plain": [
       "$ID\n",
       "[1] 1 2 3\n",
       "\n",
       "$Score\n",
       "[1]  80  90 100\n",
       "\n",
       "attr(,\"label.table\")\n",
       "attr(,\"label.table\")$ID\n",
       "NULL\n",
       "\n",
       "attr(,\"label.table\")$Score\n",
       "NULL\n",
       "\n",
       "attr(,\"codepage\")\n",
       "[1] 51949"
      ]
     },
     "metadata": {},
     "output_type": "display_data"
    }
   ],
   "source": [
    "Score <- read.spss('./rggagi/score.sav')\n",
    "Score"
   ]
  },
  {
   "cell_type": "code",
   "execution_count": 21,
   "id": "9f3f675a",
   "metadata": {},
   "outputs": [
    {
     "name": "stdout",
     "output_type": "stream",
     "text": [
      "package 'XML' successfully unpacked and MD5 sums checked\n",
      "\n",
      "The downloaded binary packages are in\n",
      "\tC:\\Users\\NOTEBOOK\\AppData\\Local\\Temp\\Rtmp8orkOM\\downloaded_packages\n"
     ]
    }
   ],
   "source": [
    "install.packages('XML')"
   ]
  },
  {
   "cell_type": "code",
   "execution_count": 22,
   "id": "83b783a9",
   "metadata": {},
   "outputs": [],
   "source": [
    "library('XML')\n"
   ]
  },
  {
   "cell_type": "code",
   "execution_count": 23,
   "id": "8a73a2b7",
   "metadata": {},
   "outputs": [
    {
     "data": {
      "text/plain": [
       "$doc\n",
       "$file\n",
       "[1] \"./rggagi/score.xml\"\n",
       "\n",
       "$version\n",
       "[1] \"1.0\"\n",
       "\n",
       "$children\n",
       "$children$mathscore\n",
       "<mathscore>\n",
       " <student>\n",
       "  <name>Peter</name>\n",
       "  <score>100</score>\n",
       " </student>\n",
       " <student>\n",
       "  <name>Abel</name>\n",
       "  <score>90</score>\n",
       " </student>\n",
       " <student>\n",
       "  <name>Elin</name>\n",
       "  <score>80</score>\n",
       " </student>\n",
       "</mathscore>\n",
       "\n",
       "\n",
       "attr(,\"class\")\n",
       "[1] \"XMLDocumentContent\"\n",
       "\n",
       "$dtd\n",
       "$external\n",
       "NULL\n",
       "\n",
       "$internal\n",
       "NULL\n",
       "\n",
       "attr(,\"class\")\n",
       "[1] \"DTDList\"\n",
       "\n",
       "attr(,\"class\")\n",
       "[1] \"XMLDocument\"         \"XMLAbstractDocument\""
      ]
     },
     "metadata": {},
     "output_type": "display_data"
    }
   ],
   "source": [
    "DocFromXML <- xmlTreeParse('./rggagi/score.xml')\n",
    "DocFromXML"
   ]
  },
  {
   "cell_type": "code",
   "execution_count": 24,
   "id": "946a3689",
   "metadata": {},
   "outputs": [
    {
     "data": {
      "text/plain": [
       "<?xml version=\"1.0\"?>\n",
       "<mathscore>\n",
       "  <student>\n",
       "    <name>Peter</name>\n",
       "    <score>100</score>\n",
       "  </student>\n",
       "  <student>\n",
       "    <name>Abel</name>\n",
       "    <score>90</score>\n",
       "  </student>\n",
       "  <student>\n",
       "    <name>Elin</name>\n",
       "    <score>80</score>\n",
       "  </student>\n",
       "</mathscore>\n",
       " "
      ]
     },
     "metadata": {},
     "output_type": "display_data"
    }
   ],
   "source": [
    "DocFromXML <- xmlTreeParse('./rggagi/score.xml', useInternalNodes = T)\n",
    "DocFromXML\n"
   ]
  },
  {
   "cell_type": "code",
   "execution_count": 25,
   "id": "804360e7",
   "metadata": {},
   "outputs": [
    {
     "data": {
      "text/plain": [
       "<mathscore>\n",
       "  <student>\n",
       "    <name>Peter</name>\n",
       "    <score>100</score>\n",
       "  </student>\n",
       "  <student>\n",
       "    <name>Abel</name>\n",
       "    <score>90</score>\n",
       "  </student>\n",
       "  <student>\n",
       "    <name>Elin</name>\n",
       "    <score>80</score>\n",
       "  </student>\n",
       "</mathscore> "
      ]
     },
     "metadata": {},
     "output_type": "display_data"
    }
   ],
   "source": [
    "RootNode <- xmlRoot(DocFromXML)\n",
    "RootNode"
   ]
  },
  {
   "cell_type": "code",
   "execution_count": 26,
   "id": "73b59e82",
   "metadata": {},
   "outputs": [
    {
     "data": {
      "text/html": [
       "<style>\n",
       ".list-inline {list-style: none; margin:0; padding: 0}\n",
       ".list-inline>li {display: inline-block}\n",
       ".list-inline>li:not(:last-child)::after {content: \"\\00b7\"; padding: 0 .5ex}\n",
       "</style>\n",
       "<ol class=list-inline><li>'Peter'</li><li>'Abel'</li><li>'Elin'</li></ol>\n"
      ],
      "text/latex": [
       "\\begin{enumerate*}\n",
       "\\item 'Peter'\n",
       "\\item 'Abel'\n",
       "\\item 'Elin'\n",
       "\\end{enumerate*}\n"
      ],
      "text/markdown": [
       "1. 'Peter'\n",
       "2. 'Abel'\n",
       "3. 'Elin'\n",
       "\n",
       "\n"
      ],
      "text/plain": [
       "[1] \"Peter\" \"Abel\"  \"Elin\" "
      ]
     },
     "metadata": {},
     "output_type": "display_data"
    }
   ],
   "source": [
    "Names <- xpathSApply(RootNode, '//name', xmlValue)\n",
    "Names"
   ]
  },
  {
   "cell_type": "code",
   "execution_count": 27,
   "id": "3c219772",
   "metadata": {},
   "outputs": [
    {
     "data": {
      "text/html": [
       "<style>\n",
       ".list-inline {list-style: none; margin:0; padding: 0}\n",
       ".list-inline>li {display: inline-block}\n",
       ".list-inline>li:not(:last-child)::after {content: \"\\00b7\"; padding: 0 .5ex}\n",
       "</style>\n",
       "<ol class=list-inline><li>'100'</li><li>'90'</li><li>'80'</li></ol>\n"
      ],
      "text/latex": [
       "\\begin{enumerate*}\n",
       "\\item '100'\n",
       "\\item '90'\n",
       "\\item '80'\n",
       "\\end{enumerate*}\n"
      ],
      "text/markdown": [
       "1. '100'\n",
       "2. '90'\n",
       "3. '80'\n",
       "\n",
       "\n"
      ],
      "text/plain": [
       "[1] \"100\" \"90\"  \"80\" "
      ]
     },
     "metadata": {},
     "output_type": "display_data"
    }
   ],
   "source": [
    "Scores <- xpathSApply(RootNode, '//score', xmlValue)\n",
    "Scores"
   ]
  },
  {
   "cell_type": "code",
   "execution_count": 28,
   "id": "8f4321bc",
   "metadata": {},
   "outputs": [
    {
     "data": {
      "text/html": [
       "<table class=\"dataframe\">\n",
       "<caption>A data.frame: 3 × 2</caption>\n",
       "<thead>\n",
       "\t<tr><th scope=col>NAME</th><th scope=col>SCORE</th></tr>\n",
       "\t<tr><th scope=col>&lt;chr&gt;</th><th scope=col>&lt;chr&gt;</th></tr>\n",
       "</thead>\n",
       "<tbody>\n",
       "\t<tr><td>Peter</td><td>100</td></tr>\n",
       "\t<tr><td>Abel </td><td>90 </td></tr>\n",
       "\t<tr><td>Elin </td><td>80 </td></tr>\n",
       "</tbody>\n",
       "</table>\n"
      ],
      "text/latex": [
       "A data.frame: 3 × 2\n",
       "\\begin{tabular}{ll}\n",
       " NAME & SCORE\\\\\n",
       " <chr> & <chr>\\\\\n",
       "\\hline\n",
       "\t Peter & 100\\\\\n",
       "\t Abel  & 90 \\\\\n",
       "\t Elin  & 80 \\\\\n",
       "\\end{tabular}\n"
      ],
      "text/markdown": [
       "\n",
       "A data.frame: 3 × 2\n",
       "\n",
       "| NAME &lt;chr&gt; | SCORE &lt;chr&gt; |\n",
       "|---|---|\n",
       "| Peter | 100 |\n",
       "| Abel  | 90  |\n",
       "| Elin  | 80  |\n",
       "\n"
      ],
      "text/plain": [
       "  NAME  SCORE\n",
       "1 Peter 100  \n",
       "2 Abel  90   \n",
       "3 Elin  80   "
      ]
     },
     "metadata": {},
     "output_type": "display_data"
    }
   ],
   "source": [
    "NameScore = data.frame(NAME=Names, SCORE=Scores)\n",
    "NameScore"
   ]
  },
  {
   "cell_type": "code",
   "execution_count": 29,
   "id": "4e6cc6e4",
   "metadata": {},
   "outputs": [
    {
     "data": {
      "text/html": [
       "<table class=\"dataframe\">\n",
       "<caption>A data.frame: 2 × 1</caption>\n",
       "<thead>\n",
       "\t<tr><th scope=col>V1</th></tr>\n",
       "\t<tr><th scope=col>&lt;chr&gt;</th></tr>\n",
       "</thead>\n",
       "<tbody>\n",
       "\t<tr><td>List &lt;- read.delim(clipboard, header = F)</td></tr>\n",
       "\t<tr><td>List                                     </td></tr>\n",
       "</tbody>\n",
       "</table>\n"
      ],
      "text/latex": [
       "A data.frame: 2 × 1\n",
       "\\begin{tabular}{l}\n",
       " V1\\\\\n",
       " <chr>\\\\\n",
       "\\hline\n",
       "\t List <- read.delim(clipboard, header = F)\\\\\n",
       "\t List                                     \\\\\n",
       "\\end{tabular}\n"
      ],
      "text/markdown": [
       "\n",
       "A data.frame: 2 × 1\n",
       "\n",
       "| V1 &lt;chr&gt; |\n",
       "|---|\n",
       "| List &lt;- read.delim(clipboard, header = F) |\n",
       "| List                                      |\n",
       "\n"
      ],
      "text/plain": [
       "  V1                                       \n",
       "1 List <- read.delim(clipboard, header = F)\n",
       "2 List                                     "
      ]
     },
     "metadata": {},
     "output_type": "display_data"
    }
   ],
   "source": [
    "List <- read.delim(\"clipboard\", header = F)\n",
    "List"
   ]
  },
  {
   "cell_type": "code",
   "execution_count": null,
   "id": "2f521f20",
   "metadata": {},
   "outputs": [],
   "source": []
  }
 ],
 "metadata": {
  "kernelspec": {
   "display_name": "R",
   "language": "R",
   "name": "ir"
  },
  "language_info": {
   "codemirror_mode": "r",
   "file_extension": ".r",
   "mimetype": "text/x-r-source",
   "name": "R",
   "pygments_lexer": "r",
   "version": "4.1.3"
  }
 },
 "nbformat": 4,
 "nbformat_minor": 5
}
