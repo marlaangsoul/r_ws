{
 "cells": [
  {
   "cell_type": "code",
   "execution_count": 1,
   "id": "82f77163",
   "metadata": {},
   "outputs": [
    {
     "data": {
      "text/html": [
       "0.475082330970753"
      ],
      "text/latex": [
       "0.475082330970753"
      ],
      "text/markdown": [
       "0.475082330970753"
      ],
      "text/plain": [
       "[1] 0.4750823"
      ]
     },
     "metadata": {},
     "output_type": "display_data"
    }
   ],
   "source": [
    "# 0 ~ 235 누적\n",
    "pnorm(235, mean = 240, sd=80)"
   ]
  },
  {
   "cell_type": "code",
   "execution_count": 2,
   "id": "85de19be",
   "metadata": {},
   "outputs": [],
   "source": [
    "# 정규분포 구간확률 - 평균 350, 표준편차 75 \n",
    "# 정규분포에서 200~370 까지의 확률"
   ]
  },
  {
   "cell_type": "code",
   "execution_count": 3,
   "id": "3d58d24f",
   "metadata": {},
   "outputs": [
    {
     "data": {
      "text/html": [
       "0.582386957587796"
      ],
      "text/latex": [
       "0.582386957587796"
      ],
      "text/markdown": [
       "0.582386957587796"
      ],
      "text/plain": [
       "[1] 0.582387"
      ]
     },
     "metadata": {},
     "output_type": "display_data"
    }
   ],
   "source": [
    "pnorm(370, mean = 350, sd=75) - pnorm(200, mean=350, sd=75)"
   ]
  },
  {
   "cell_type": "code",
   "execution_count": 4,
   "id": "4ef05544",
   "metadata": {},
   "outputs": [
    {
     "data": {
      "text/html": [
       "0.582386957587796"
      ],
      "text/latex": [
       "0.582386957587796"
      ],
      "text/markdown": [
       "0.582386957587796"
      ],
      "text/plain": [
       "[1] 0.582387"
      ]
     },
     "metadata": {},
     "output_type": "display_data"
    }
   ],
   "source": [
    "diff(pnorm(c(200,370), mean=350, sd=75))"
   ]
  },
  {
   "cell_type": "code",
   "execution_count": 5,
   "id": "7f8967d2",
   "metadata": {},
   "outputs": [
    {
     "data": {
      "text/html": [
       "<style>\n",
       ".list-inline {list-style: none; margin:0; padding: 0}\n",
       ".list-inline>li {display: inline-block}\n",
       ".list-inline>li:not(:last-child)::after {content: \"\\00b7\"; padding: 0 .5ex}\n",
       "</style>\n",
       "<ol class=list-inline><li>0</li><li>1</li><li>2</li><li>3</li><li>4</li><li>5</li><li>6</li><li>7</li><li>8</li><li>9</li><li>10</li><li>11</li><li>12</li><li>13</li><li>14</li><li>15</li><li>16</li><li>17</li><li>18</li><li>19</li><li>20</li><li>21</li><li>22</li><li>23</li><li>24</li><li>25</li><li>26</li><li>27</li><li>28</li><li>29</li><li>30</li><li>31</li><li>32</li><li>33</li><li>34</li><li>35</li><li>36</li><li>37</li><li>38</li><li>39</li><li>40</li><li>41</li><li>42</li><li>43</li><li>44</li><li>45</li><li>46</li><li>47</li><li>48</li><li>49</li><li>50</li><li>51</li><li>52</li><li>53</li><li>54</li><li>55</li><li>56</li><li>57</li><li>58</li><li>59</li><li>60</li><li>61</li><li>62</li><li>63</li><li>64</li><li>65</li><li>66</li><li>67</li><li>68</li><li>69</li><li>70</li><li>71</li><li>72</li><li>73</li><li>74</li><li>75</li><li>76</li><li>77</li><li>78</li><li>79</li><li>80</li><li>81</li><li>82</li><li>83</li><li>84</li><li>85</li><li>86</li><li>87</li><li>88</li><li>89</li><li>90</li><li>91</li><li>92</li><li>93</li><li>94</li><li>95</li><li>96</li><li>97</li><li>98</li><li>99</li><li>100</li></ol>\n"
      ],
      "text/latex": [
       "\\begin{enumerate*}\n",
       "\\item 0\n",
       "\\item 1\n",
       "\\item 2\n",
       "\\item 3\n",
       "\\item 4\n",
       "\\item 5\n",
       "\\item 6\n",
       "\\item 7\n",
       "\\item 8\n",
       "\\item 9\n",
       "\\item 10\n",
       "\\item 11\n",
       "\\item 12\n",
       "\\item 13\n",
       "\\item 14\n",
       "\\item 15\n",
       "\\item 16\n",
       "\\item 17\n",
       "\\item 18\n",
       "\\item 19\n",
       "\\item 20\n",
       "\\item 21\n",
       "\\item 22\n",
       "\\item 23\n",
       "\\item 24\n",
       "\\item 25\n",
       "\\item 26\n",
       "\\item 27\n",
       "\\item 28\n",
       "\\item 29\n",
       "\\item 30\n",
       "\\item 31\n",
       "\\item 32\n",
       "\\item 33\n",
       "\\item 34\n",
       "\\item 35\n",
       "\\item 36\n",
       "\\item 37\n",
       "\\item 38\n",
       "\\item 39\n",
       "\\item 40\n",
       "\\item 41\n",
       "\\item 42\n",
       "\\item 43\n",
       "\\item 44\n",
       "\\item 45\n",
       "\\item 46\n",
       "\\item 47\n",
       "\\item 48\n",
       "\\item 49\n",
       "\\item 50\n",
       "\\item 51\n",
       "\\item 52\n",
       "\\item 53\n",
       "\\item 54\n",
       "\\item 55\n",
       "\\item 56\n",
       "\\item 57\n",
       "\\item 58\n",
       "\\item 59\n",
       "\\item 60\n",
       "\\item 61\n",
       "\\item 62\n",
       "\\item 63\n",
       "\\item 64\n",
       "\\item 65\n",
       "\\item 66\n",
       "\\item 67\n",
       "\\item 68\n",
       "\\item 69\n",
       "\\item 70\n",
       "\\item 71\n",
       "\\item 72\n",
       "\\item 73\n",
       "\\item 74\n",
       "\\item 75\n",
       "\\item 76\n",
       "\\item 77\n",
       "\\item 78\n",
       "\\item 79\n",
       "\\item 80\n",
       "\\item 81\n",
       "\\item 82\n",
       "\\item 83\n",
       "\\item 84\n",
       "\\item 85\n",
       "\\item 86\n",
       "\\item 87\n",
       "\\item 88\n",
       "\\item 89\n",
       "\\item 90\n",
       "\\item 91\n",
       "\\item 92\n",
       "\\item 93\n",
       "\\item 94\n",
       "\\item 95\n",
       "\\item 96\n",
       "\\item 97\n",
       "\\item 98\n",
       "\\item 99\n",
       "\\item 100\n",
       "\\end{enumerate*}\n"
      ],
      "text/markdown": [
       "1. 0\n",
       "2. 1\n",
       "3. 2\n",
       "4. 3\n",
       "5. 4\n",
       "6. 5\n",
       "7. 6\n",
       "8. 7\n",
       "9. 8\n",
       "10. 9\n",
       "11. 10\n",
       "12. 11\n",
       "13. 12\n",
       "14. 13\n",
       "15. 14\n",
       "16. 15\n",
       "17. 16\n",
       "18. 17\n",
       "19. 18\n",
       "20. 19\n",
       "21. 20\n",
       "22. 21\n",
       "23. 22\n",
       "24. 23\n",
       "25. 24\n",
       "26. 25\n",
       "27. 26\n",
       "28. 27\n",
       "29. 28\n",
       "30. 29\n",
       "31. 30\n",
       "32. 31\n",
       "33. 32\n",
       "34. 33\n",
       "35. 34\n",
       "36. 35\n",
       "37. 36\n",
       "38. 37\n",
       "39. 38\n",
       "40. 39\n",
       "41. 40\n",
       "42. 41\n",
       "43. 42\n",
       "44. 43\n",
       "45. 44\n",
       "46. 45\n",
       "47. 46\n",
       "48. 47\n",
       "49. 48\n",
       "50. 49\n",
       "51. 50\n",
       "52. 51\n",
       "53. 52\n",
       "54. 53\n",
       "55. 54\n",
       "56. 55\n",
       "57. 56\n",
       "58. 57\n",
       "59. 58\n",
       "60. 59\n",
       "61. 60\n",
       "62. 61\n",
       "63. 62\n",
       "64. 63\n",
       "65. 64\n",
       "66. 65\n",
       "67. 66\n",
       "68. 67\n",
       "69. 68\n",
       "70. 69\n",
       "71. 70\n",
       "72. 71\n",
       "73. 72\n",
       "74. 73\n",
       "75. 74\n",
       "76. 75\n",
       "77. 76\n",
       "78. 77\n",
       "79. 78\n",
       "80. 79\n",
       "81. 80\n",
       "82. 81\n",
       "83. 82\n",
       "84. 83\n",
       "85. 84\n",
       "86. 85\n",
       "87. 86\n",
       "88. 87\n",
       "89. 88\n",
       "90. 89\n",
       "91. 90\n",
       "92. 91\n",
       "93. 92\n",
       "94. 93\n",
       "95. 94\n",
       "96. 95\n",
       "97. 96\n",
       "98. 97\n",
       "99. 98\n",
       "100. 99\n",
       "101. 100\n",
       "\n",
       "\n"
      ],
      "text/plain": [
       "  [1]   0   1   2   3   4   5   6   7   8   9  10  11  12  13  14  15  16  17\n",
       " [19]  18  19  20  21  22  23  24  25  26  27  28  29  30  31  32  33  34  35\n",
       " [37]  36  37  38  39  40  41  42  43  44  45  46  47  48  49  50  51  52  53\n",
       " [55]  54  55  56  57  58  59  60  61  62  63  64  65  66  67  68  69  70  71\n",
       " [73]  72  73  74  75  76  77  78  79  80  81  82  83  84  85  86  87  88  89\n",
       " [91]  90  91  92  93  94  95  96  97  98  99 100"
      ]
     },
     "metadata": {},
     "output_type": "display_data"
    }
   ],
   "source": [
    "x <- seq(from = 0, to=100, by=1)\n",
    "x"
   ]
  },
  {
   "cell_type": "code",
   "execution_count": 6,
   "id": "473a5078",
   "metadata": {},
   "outputs": [],
   "source": [
    "y= dnorm(x, mean=50, sd= 12)"
   ]
  },
  {
   "cell_type": "code",
   "execution_count": 7,
   "id": "e5ba8eff",
   "metadata": {},
   "outputs": [
    {
     "data": {
      "image/png": "[encoded data removed]",
      "text/plain": [
       "plot without title"
      ]
     },
     "metadata": {
      "image/png": {
       "height": 420,
       "width": 420
      }
     },
     "output_type": "display_data"
    }
   ],
   "source": [
    "plot(x,y,type='l')"
   ]
  },
  {
   "cell_type": "code",
   "execution_count": 8,
   "id": "d9d958fa",
   "metadata": {},
   "outputs": [],
   "source": [
    "y1 <- dbinom(x, size=100, prob=0.5)"
   ]
  },
  {
   "cell_type": "code",
   "execution_count": 9,
   "id": "82a777d3",
   "metadata": {},
   "outputs": [
    {
     "data": {
      "image/png": "[encoded data removed]",
      "text/plain": [
       "plot without title"
      ]
     },
     "metadata": {
      "image/png": {
       "height": 420,
       "width": 420
      }
     },
     "output_type": "display_data"
    }
   ],
   "source": [
    "plot(x, y1, type='l')"
   ]
  },
  {
   "cell_type": "code",
   "execution_count": 10,
   "id": "56b0dc8d",
   "metadata": {},
   "outputs": [
    {
     "data": {
      "text/html": [
       "<style>\n",
       ".list-inline {list-style: none; margin:0; padding: 0}\n",
       ".list-inline>li {display: inline-block}\n",
       ".list-inline>li:not(:last-child)::after {content: \"\\00b7\"; padding: 0 .5ex}\n",
       "</style>\n",
       "<ol class=list-inline><li>74.3377071250459</li><li>64.6710470306549</li><li>25.1955319845589</li><li>32.3810065522622</li><li>65.7009461665704</li><li>60.8089976006593</li><li>44.2439412743335</li><li>72.0450891852218</li><li>68.0787914552806</li><li>77.9246424856839</li><li>106.691633171794</li><li>72.9196056995635</li><li>91.8530347904561</li><li>47.4180215515312</li><li>92.6011411664703</li><li>33.5494515415022</li><li>111.686889358331</li><li>80.1907348272656</li><li>69.0331348097191</li><li>76.610129175362</li><li>51.2828342632569</li><li>64.3224345278012</li><li>122.778815065167</li><li>46.470523569478</li><li>56.8443800197818</li><li>101.534724642651</li><li>58.7651880840495</li><li>107.634472160274</li><li>45.0337390366068</li><li>97.2950429076839</li><li>118.378590324637</li><li>61.8878401630458</li><li>75.4075271203871</li><li>69.1916619761866</li><li>40.806062076626</li><li>63.5672961257475</li><li>60.3422228561276</li><li>84.3547582068334</li><li>54.3555085221603</li><li>79.3419974553306</li><li>80.2379196564946</li><li>92.7488935702474</li><li>67.1525530439662</li><li>82.2668073022585</li><li>64.5011271681967</li><li>72.3259948361908</li><li>73.7728307499621</li><li>73.5771640704393</li><li>75.4365496550639</li><li>71.399059490609</li><li>52.6758425475479</li><li>66.0434941505955</li><li>85.3552730575978</li><li>71.8866803998826</li><li>97.7603368186168</li><li>46.1640733958619</li><li>73.0064800870275</li><li>111.063978186571</li><li>70.0234497574392</li><li>57.6565302409376</li><li>77.2396371450627</li><li>65.0282285708022</li><li>112.643530448105</li><li>73.271555614259</li><li>67.6866800366581</li><li>101.919455987522</li><li>80.3774790321777</li><li>44.3157768539376</li><li>84.1273983693854</li><li>49.1319733221399</li><li>58.3551472097082</li><li>85.6539441780316</li><li>73.6045544486905</li><li>93.839699602065</li><li>65.7132314870941</li><li>76.8138867299241</li><li>76.0204976659772</li><li>45.5592559143763</li><li>90.8308614302444</li><li>42.814849107525</li><li>72.5931087313759</li><li>64.6328483872759</li><li>63.0756370889977</li><li>93.8624012831593</li><li>111.978098304686</li><li>67.054222284651</li><li>67.1223495497512</li><li>26.1109851765925</li><li>107.746560079727</li><li>67.3275488902651</li><li>69.863066585934</li><li>83.1237232847186</li><li>55.6478832313673</li><li>55.6316040443694</li><li>21.1913436425435</li><li>73.5399088506316</li><li>102.783148876124</li><li>69.6044015877075</li><li>53.2516054280145</li><li>68.8403820334782</li><li>70.3394422951279</li><li>77.0487575976069</li><li>64.0461739903612</li><li>49.4495149162093</li><li>43.4578067097018</li><li>13.8176588720372</li><li>74.3317255307164</li><li>54.9675787821434</li><li>97.9097402645314</li><li>62.0441366567169</li><li>65.4612677382706</li><li>64.6850735721096</li><li>78.323478226087</li><li>62.6798015981282</li><li>80.8066549754524</li><li>61.366026026859</li><li>62.2187185010786</li><li>72.5515202495485</li><li>94.5035651377867</li><li>69.6803448792015</li><li>29.6779456916852</li><li>62.0271841996903</li><li>67.012923687215</li><li>55.2461879242984</li><li>68.9638540663057</li><li>93.1505262429861</li><li>87.3854757643695</li><li>72.2023105717736</li><li>85.7509706367879</li><li>56.8770154708587</li><li>58.6895937482287</li><li>87.2822518438937</li><li>74.1896437564042</li><li>68.5285683660268</li><li>82.5257199498309</li><li>36.3131357185691</li><li>73.0039590031409</li><li>64.1260307962007</li><li>41.4580786227689</li><li>51.3582005955298</li><li>41.6837959052422</li><li>83.9364006537236</li><li>90.0097748309011</li><li>57.4471195036677</li><li>75.4567787946969</li><li>59.100203868099</li><li>67.7944822420073</li><li>61.2221875721601</li><li>61.6486620269979</li><li>57.7580892811514</li><li>59.2091205190204</li><li>93.0894484165985</li><li>67.4470407122742</li><li>82.415019919666</li><li>44.0008822764142</li><li>47.8334457176735</li><li>72.6463018947808</li><li>73.156263812033</li><li>33.2188563595855</li><li>47.8079474173923</li><li>104.390874087987</li><li>60.9972745262343</li><li>56.3407200685897</li><li>93.8828276538875</li><li>53.4970185645685</li><li>124.498280785985</li><li>89.9380410302182</li><li>81.8490340028997</li><li>93.9336468805042</li><li>81.2228546880666</li><li>35.7848929383425</li><li>73.1716188642443</li><li>44.5391774289336</li><li>100.7221963136</li><li>61.4825377573536</li><li>96.7279187537435</li><li>63.2586545770757</li><li>45.8913862744411</li><li>100.476696605573</li><li>93.914320585087</li><li>50.0270128923704</li><li>96.2004474650194</li><li>122.577350532261</li><li>88.575173248867</li><li>56.3974147309048</li><li>39.5329599318453</li><li>74.1173760122658</li><li>84.1368013306909</li><li>67.4616122543544</li><li>70.3295805316443</li><li>89.4089089351141</li><li>64.4399763083904</li><li>71.2554839187835</li><li>48.3421115978397</li><li>56.1726172068553</li><li>50.4837556515024</li><li>80.7298872633421</li><li>45.1154345466214</li><li>64.7380574257741</li><li>86.3812951431692</li><li>56.7664262388483</li><li>31.6184038507456</li><li>56.570267553945</li><li>69.4272212527769</li><li>46.0915919551604</li><li>49.8687795383315</li><li>49.8558977234906</li><li>48.0804546745566</li><li>77.0798104225983</li><li>59.9139073722869</li><li>66.4437893149831</li><li>80.0259472272283</li><li>26.3733585446831</li><li>80.1497480328669</li><li>113.240197786864</li><li>95.7129794362029</li><li>90.9361668253934</li><li>73.1909144233036</li><li>66.5703219387694</li><li>65.8974069129561</li><li>94.6905453818697</li><li>46.5983145841782</li><li>69.4383372552807</li><li>55.5072377474752</li><li>63.4519325879625</li><li>64.5808427166354</li><li>64.4344062260324</li><li>92.2505372808453</li><li>50.1517986741128</li><li>89.2479447993232</li><li>79.3130712719535</li><li>38.0677707987981</li><li>46.4137485659339</li><li>71.1590502513515</li><li>41.8845891645637</li><li>72.1056204057585</li><li>70.6854789808305</li><li>39.6822904575945</li><li>97.6743814332665</li><li>74.6161634257746</li><li>74.1069487550187</li><li>98.9150814436259</li><li>71.2885913674587</li><li>97.0264534567306</li><li>77.5634344537731</li><li>45.902050389346</li><li>69.6790400318562</li><li>98.567278595245</li><li>47.5254681894363</li><li>78.0890493442659</li><li>86.0562532118877</li><li>111.992685062892</li><li>61.908312574633</li><li>70.0107912710362</li><li>61.8732409624278</li><li>96.3539536836384</li><li>70.9002938490556</li><li>71.9598060985083</li><li>79.0678314092954</li><li>94.9893452702095</li><li>61.888678887678</li><li>75.3881053295009</li><li>104.844680993436</li><li>35.5347487498951</li><li>84.7720801442077</li><li>92.5867053598865</li><li>73.6532761925839</li><li>94.8679350972826</li><li>54.4667488941349</li><li>99.8821379789254</li><li>75.7707003519109</li><li>86.8581856958088</li><li>70.8715296312477</li><li>66.1237308632727</li><li>55.5848255004827</li><li>69.3594851343936</li><li>68.6493288146821</li><li>27.6979707828848</li><li>49.5670966897084</li><li>68.9841323648773</li><li>59.9725888521594</li><li>90.0012650061807</li><li>57.8295594328652</li><li>86.455679038634</li><li>52.7779280947484</li><li>82.3391981819668</li><li>94.6395296016161</li><li>57.8705441702007</li><li>75.4730347281724</li><li>76.7241775952976</li><li>62.5817483178568</li><li>43.6149790018359</li><li>56.6108441442879</li><li>44.3568505709995</li><li>52.1435559344735</li><li>49.1697561859372</li><li>67.4178021240604</li><li>74.7921377446476</li><li>43.6345169917254</li><li>105.228879709937</li></ol>\n"
      ],
      "text/latex": [
       "\\begin{enumerate*}\n",
       "\\item 74.3377071250459\n",
       "\\item 64.6710470306549\n",
       "\\item 25.1955319845589\n",
       "\\item 32.3810065522622\n",
       "\\item 65.7009461665704\n",
       "\\item 60.8089976006593\n",
       "\\item 44.2439412743335\n",
       "\\item 72.0450891852218\n",
       "\\item 68.0787914552806\n",
       "\\item 77.9246424856839\n",
       "\\item 106.691633171794\n",
       "\\item 72.9196056995635\n",
       "\\item 91.8530347904561\n",
       "\\item 47.4180215515312\n",
       "\\item 92.6011411664703\n",
       "\\item 33.5494515415022\n",
       "\\item 111.686889358331\n",
       "\\item 80.1907348272656\n",
       "\\item 69.0331348097191\n",
       "\\item 76.610129175362\n",
       "\\item 51.2828342632569\n",
       "\\item 64.3224345278012\n",
       "\\item 122.778815065167\n",
       "\\item 46.470523569478\n",
       "\\item 56.8443800197818\n",
       "\\item 101.534724642651\n",
       "\\item 58.7651880840495\n",
       "\\item 107.634472160274\n",
       "\\item 45.0337390366068\n",
       "\\item 97.2950429076839\n",
       "\\item 118.378590324637\n",
       "\\item 61.8878401630458\n",
       "\\item 75.4075271203871\n",
       "\\item 69.1916619761866\n",
       "\\item 40.806062076626\n",
       "\\item 63.5672961257475\n",
       "\\item 60.3422228561276\n",
       "\\item 84.3547582068334\n",
       "\\item 54.3555085221603\n",
       "\\item 79.3419974553306\n",
       "\\item 80.2379196564946\n",
       "\\item 92.7488935702474\n",
       "\\item 67.1525530439662\n",
       "\\item 82.2668073022585\n",
       "\\item 64.5011271681967\n",
       "\\item 72.3259948361908\n",
       "\\item 73.7728307499621\n",
       "\\item 73.5771640704393\n",
       "\\item 75.4365496550639\n",
       "\\item 71.399059490609\n",
       "\\item 52.6758425475479\n",
       "\\item 66.0434941505955\n",
       "\\item 85.3552730575978\n",
       "\\item 71.8866803998826\n",
       "\\item 97.7603368186168\n",
       "\\item 46.1640733958619\n",
       "\\item 73.0064800870275\n",
       "\\item 111.063978186571\n",
       "\\item 70.0234497574392\n",
       "\\item 57.6565302409376\n",
       "\\item 77.2396371450627\n",
       "\\item 65.0282285708022\n",
       "\\item 112.643530448105\n",
       "\\item 73.271555614259\n",
       "\\item 67.6866800366581\n",
       "\\item 101.919455987522\n",
       "\\item 80.3774790321777\n",
       "\\item 44.3157768539376\n",
       "\\item 84.1273983693854\n",
       "\\item 49.1319733221399\n",
       "\\item 58.3551472097082\n",
       "\\item 85.6539441780316\n",
       "\\item 73.6045544486905\n",
       "\\item 93.839699602065\n",
       "\\item 65.7132314870941\n",
       "\\item 76.8138867299241\n",
       "\\item 76.0204976659772\n",
       "\\item 45.5592559143763\n",
       "\\item 90.8308614302444\n",
       "\\item 42.814849107525\n",
       "\\item 72.5931087313759\n",
       "\\item 64.6328483872759\n",
       "\\item 63.0756370889977\n",
       "\\item 93.8624012831593\n",
       "\\item 111.978098304686\n",
       "\\item 67.054222284651\n",
       "\\item 67.1223495497512\n",
       "\\item 26.1109851765925\n",
       "\\item 107.746560079727\n",
       "\\item 67.3275488902651\n",
       "\\item 69.863066585934\n",
       "\\item 83.1237232847186\n",
       "\\item 55.6478832313673\n",
       "\\item 55.6316040443694\n",
       "\\item 21.1913436425435\n",
       "\\item 73.5399088506316\n",
       "\\item 102.783148876124\n",
       "\\item 69.6044015877075\n",
       "\\item 53.2516054280145\n",
       "\\item 68.8403820334782\n",
       "\\item 70.3394422951279\n",
       "\\item 77.0487575976069\n",
       "\\item 64.0461739903612\n",
       "\\item 49.4495149162093\n",
       "\\item 43.4578067097018\n",
       "\\item 13.8176588720372\n",
       "\\item 74.3317255307164\n",
       "\\item 54.9675787821434\n",
       "\\item 97.9097402645314\n",
       "\\item 62.0441366567169\n",
       "\\item 65.4612677382706\n",
       "\\item 64.6850735721096\n",
       "\\item 78.323478226087\n",
       "\\item 62.6798015981282\n",
       "\\item 80.8066549754524\n",
       "\\item 61.366026026859\n",
       "\\item 62.2187185010786\n",
       "\\item 72.5515202495485\n",
       "\\item 94.5035651377867\n",
       "\\item 69.6803448792015\n",
       "\\item 29.6779456916852\n",
       "\\item 62.0271841996903\n",
       "\\item 67.012923687215\n",
       "\\item 55.2461879242984\n",
       "\\item 68.9638540663057\n",
       "\\item 93.1505262429861\n",
       "\\item 87.3854757643695\n",
       "\\item 72.2023105717736\n",
       "\\item 85.7509706367879\n",
       "\\item 56.8770154708587\n",
       "\\item 58.6895937482287\n",
       "\\item 87.2822518438937\n",
       "\\item 74.1896437564042\n",
       "\\item 68.5285683660268\n",
       "\\item 82.5257199498309\n",
       "\\item 36.3131357185691\n",
       "\\item 73.0039590031409\n",
       "\\item 64.1260307962007\n",
       "\\item 41.4580786227689\n",
       "\\item 51.3582005955298\n",
       "\\item 41.6837959052422\n",
       "\\item 83.9364006537236\n",
       "\\item 90.0097748309011\n",
       "\\item 57.4471195036677\n",
       "\\item 75.4567787946969\n",
       "\\item 59.100203868099\n",
       "\\item 67.7944822420073\n",
       "\\item 61.2221875721601\n",
       "\\item 61.6486620269979\n",
       "\\item 57.7580892811514\n",
       "\\item 59.2091205190204\n",
       "\\item 93.0894484165985\n",
       "\\item 67.4470407122742\n",
       "\\item 82.415019919666\n",
       "\\item 44.0008822764142\n",
       "\\item 47.8334457176735\n",
       "\\item 72.6463018947808\n",
       "\\item 73.156263812033\n",
       "\\item 33.2188563595855\n",
       "\\item 47.8079474173923\n",
       "\\item 104.390874087987\n",
       "\\item 60.9972745262343\n",
       "\\item 56.3407200685897\n",
       "\\item 93.8828276538875\n",
       "\\item 53.4970185645685\n",
       "\\item 124.498280785985\n",
       "\\item 89.9380410302182\n",
       "\\item 81.8490340028997\n",
       "\\item 93.9336468805042\n",
       "\\item 81.2228546880666\n",
       "\\item 35.7848929383425\n",
       "\\item 73.1716188642443\n",
       "\\item 44.5391774289336\n",
       "\\item 100.7221963136\n",
       "\\item 61.4825377573536\n",
       "\\item 96.7279187537435\n",
       "\\item 63.2586545770757\n",
       "\\item 45.8913862744411\n",
       "\\item 100.476696605573\n",
       "\\item 93.914320585087\n",
       "\\item 50.0270128923704\n",
       "\\item 96.2004474650194\n",
       "\\item 122.577350532261\n",
       "\\item 88.575173248867\n",
       "\\item 56.3974147309048\n",
       "\\item 39.5329599318453\n",
       "\\item 74.1173760122658\n",
       "\\item 84.1368013306909\n",
       "\\item 67.4616122543544\n",
       "\\item 70.3295805316443\n",
       "\\item 89.4089089351141\n",
       "\\item 64.4399763083904\n",
       "\\item 71.2554839187835\n",
       "\\item 48.3421115978397\n",
       "\\item 56.1726172068553\n",
       "\\item 50.4837556515024\n",
       "\\item 80.7298872633421\n",
       "\\item 45.1154345466214\n",
       "\\item 64.7380574257741\n",
       "\\item 86.3812951431692\n",
       "\\item 56.7664262388483\n",
       "\\item 31.6184038507456\n",
       "\\item 56.570267553945\n",
       "\\item 69.4272212527769\n",
       "\\item 46.0915919551604\n",
       "\\item 49.8687795383315\n",
       "\\item 49.8558977234906\n",
       "\\item 48.0804546745566\n",
       "\\item 77.0798104225983\n",
       "\\item 59.9139073722869\n",
       "\\item 66.4437893149831\n",
       "\\item 80.0259472272283\n",
       "\\item 26.3733585446831\n",
       "\\item 80.1497480328669\n",
       "\\item 113.240197786864\n",
       "\\item 95.7129794362029\n",
       "\\item 90.9361668253934\n",
       "\\item 73.1909144233036\n",
       "\\item 66.5703219387694\n",
       "\\item 65.8974069129561\n",
       "\\item 94.6905453818697\n",
       "\\item 46.5983145841782\n",
       "\\item 69.4383372552807\n",
       "\\item 55.5072377474752\n",
       "\\item 63.4519325879625\n",
       "\\item 64.5808427166354\n",
       "\\item 64.4344062260324\n",
       "\\item 92.2505372808453\n",
       "\\item 50.1517986741128\n",
       "\\item 89.2479447993232\n",
       "\\item 79.3130712719535\n",
       "\\item 38.0677707987981\n",
       "\\item 46.4137485659339\n",
       "\\item 71.1590502513515\n",
       "\\item 41.8845891645637\n",
       "\\item 72.1056204057585\n",
       "\\item 70.6854789808305\n",
       "\\item 39.6822904575945\n",
       "\\item 97.6743814332665\n",
       "\\item 74.6161634257746\n",
       "\\item 74.1069487550187\n",
       "\\item 98.9150814436259\n",
       "\\item 71.2885913674587\n",
       "\\item 97.0264534567306\n",
       "\\item 77.5634344537731\n",
       "\\item 45.902050389346\n",
       "\\item 69.6790400318562\n",
       "\\item 98.567278595245\n",
       "\\item 47.5254681894363\n",
       "\\item 78.0890493442659\n",
       "\\item 86.0562532118877\n",
       "\\item 111.992685062892\n",
       "\\item 61.908312574633\n",
       "\\item 70.0107912710362\n",
       "\\item 61.8732409624278\n",
       "\\item 96.3539536836384\n",
       "\\item 70.9002938490556\n",
       "\\item 71.9598060985083\n",
       "\\item 79.0678314092954\n",
       "\\item 94.9893452702095\n",
       "\\item 61.888678887678\n",
       "\\item 75.3881053295009\n",
       "\\item 104.844680993436\n",
       "\\item 35.5347487498951\n",
       "\\item 84.7720801442077\n",
       "\\item 92.5867053598865\n",
       "\\item 73.6532761925839\n",
       "\\item 94.8679350972826\n",
       "\\item 54.4667488941349\n",
       "\\item 99.8821379789254\n",
       "\\item 75.7707003519109\n",
       "\\item 86.8581856958088\n",
       "\\item 70.8715296312477\n",
       "\\item 66.1237308632727\n",
       "\\item 55.5848255004827\n",
       "\\item 69.3594851343936\n",
       "\\item 68.6493288146821\n",
       "\\item 27.6979707828848\n",
       "\\item 49.5670966897084\n",
       "\\item 68.9841323648773\n",
       "\\item 59.9725888521594\n",
       "\\item 90.0012650061807\n",
       "\\item 57.8295594328652\n",
       "\\item 86.455679038634\n",
       "\\item 52.7779280947484\n",
       "\\item 82.3391981819668\n",
       "\\item 94.6395296016161\n",
       "\\item 57.8705441702007\n",
       "\\item 75.4730347281724\n",
       "\\item 76.7241775952976\n",
       "\\item 62.5817483178568\n",
       "\\item 43.6149790018359\n",
       "\\item 56.6108441442879\n",
       "\\item 44.3568505709995\n",
       "\\item 52.1435559344735\n",
       "\\item 49.1697561859372\n",
       "\\item 67.4178021240604\n",
       "\\item 74.7921377446476\n",
       "\\item 43.6345169917254\n",
       "\\item 105.228879709937\n",
       "\\end{enumerate*}\n"
      ],
      "text/markdown": [
       "1. 74.3377071250459\n",
       "2. 64.6710470306549\n",
       "3. 25.1955319845589\n",
       "4. 32.3810065522622\n",
       "5. 65.7009461665704\n",
       "6. 60.8089976006593\n",
       "7. 44.2439412743335\n",
       "8. 72.0450891852218\n",
       "9. 68.0787914552806\n",
       "10. 77.9246424856839\n",
       "11. 106.691633171794\n",
       "12. 72.9196056995635\n",
       "13. 91.8530347904561\n",
       "14. 47.4180215515312\n",
       "15. 92.6011411664703\n",
       "16. 33.5494515415022\n",
       "17. 111.686889358331\n",
       "18. 80.1907348272656\n",
       "19. 69.0331348097191\n",
       "20. 76.610129175362\n",
       "21. 51.2828342632569\n",
       "22. 64.3224345278012\n",
       "23. 122.778815065167\n",
       "24. 46.470523569478\n",
       "25. 56.8443800197818\n",
       "26. 101.534724642651\n",
       "27. 58.7651880840495\n",
       "28. 107.634472160274\n",
       "29. 45.0337390366068\n",
       "30. 97.2950429076839\n",
       "31. 118.378590324637\n",
       "32. 61.8878401630458\n",
       "33. 75.4075271203871\n",
       "34. 69.1916619761866\n",
       "35. 40.806062076626\n",
       "36. 63.5672961257475\n",
       "37. 60.3422228561276\n",
       "38. 84.3547582068334\n",
       "39. 54.3555085221603\n",
       "40. 79.3419974553306\n",
       "41. 80.2379196564946\n",
       "42. 92.7488935702474\n",
       "43. 67.1525530439662\n",
       "44. 82.2668073022585\n",
       "45. 64.5011271681967\n",
       "46. 72.3259948361908\n",
       "47. 73.7728307499621\n",
       "48. 73.5771640704393\n",
       "49. 75.4365496550639\n",
       "50. 71.399059490609\n",
       "51. 52.6758425475479\n",
       "52. 66.0434941505955\n",
       "53. 85.3552730575978\n",
       "54. 71.8866803998826\n",
       "55. 97.7603368186168\n",
       "56. 46.1640733958619\n",
       "57. 73.0064800870275\n",
       "58. 111.063978186571\n",
       "59. 70.0234497574392\n",
       "60. 57.6565302409376\n",
       "61. 77.2396371450627\n",
       "62. 65.0282285708022\n",
       "63. 112.643530448105\n",
       "64. 73.271555614259\n",
       "65. 67.6866800366581\n",
       "66. 101.919455987522\n",
       "67. 80.3774790321777\n",
       "68. 44.3157768539376\n",
       "69. 84.1273983693854\n",
       "70. 49.1319733221399\n",
       "71. 58.3551472097082\n",
       "72. 85.6539441780316\n",
       "73. 73.6045544486905\n",
       "74. 93.839699602065\n",
       "75. 65.7132314870941\n",
       "76. 76.8138867299241\n",
       "77. 76.0204976659772\n",
       "78. 45.5592559143763\n",
       "79. 90.8308614302444\n",
       "80. 42.814849107525\n",
       "81. 72.5931087313759\n",
       "82. 64.6328483872759\n",
       "83. 63.0756370889977\n",
       "84. 93.8624012831593\n",
       "85. 111.978098304686\n",
       "86. 67.054222284651\n",
       "87. 67.1223495497512\n",
       "88. 26.1109851765925\n",
       "89. 107.746560079727\n",
       "90. 67.3275488902651\n",
       "91. 69.863066585934\n",
       "92. 83.1237232847186\n",
       "93. 55.6478832313673\n",
       "94. 55.6316040443694\n",
       "95. 21.1913436425435\n",
       "96. 73.5399088506316\n",
       "97. 102.783148876124\n",
       "98. 69.6044015877075\n",
       "99. 53.2516054280145\n",
       "100. 68.8403820334782\n",
       "101. 70.3394422951279\n",
       "102. 77.0487575976069\n",
       "103. 64.0461739903612\n",
       "104. 49.4495149162093\n",
       "105. 43.4578067097018\n",
       "106. 13.8176588720372\n",
       "107. 74.3317255307164\n",
       "108. 54.9675787821434\n",
       "109. 97.9097402645314\n",
       "110. 62.0441366567169\n",
       "111. 65.4612677382706\n",
       "112. 64.6850735721096\n",
       "113. 78.323478226087\n",
       "114. 62.6798015981282\n",
       "115. 80.8066549754524\n",
       "116. 61.366026026859\n",
       "117. 62.2187185010786\n",
       "118. 72.5515202495485\n",
       "119. 94.5035651377867\n",
       "120. 69.6803448792015\n",
       "121. 29.6779456916852\n",
       "122. 62.0271841996903\n",
       "123. 67.012923687215\n",
       "124. 55.2461879242984\n",
       "125. 68.9638540663057\n",
       "126. 93.1505262429861\n",
       "127. 87.3854757643695\n",
       "128. 72.2023105717736\n",
       "129. 85.7509706367879\n",
       "130. 56.8770154708587\n",
       "131. 58.6895937482287\n",
       "132. 87.2822518438937\n",
       "133. 74.1896437564042\n",
       "134. 68.5285683660268\n",
       "135. 82.5257199498309\n",
       "136. 36.3131357185691\n",
       "137. 73.0039590031409\n",
       "138. 64.1260307962007\n",
       "139. 41.4580786227689\n",
       "140. 51.3582005955298\n",
       "141. 41.6837959052422\n",
       "142. 83.9364006537236\n",
       "143. 90.0097748309011\n",
       "144. 57.4471195036677\n",
       "145. 75.4567787946969\n",
       "146. 59.100203868099\n",
       "147. 67.7944822420073\n",
       "148. 61.2221875721601\n",
       "149. 61.6486620269979\n",
       "150. 57.7580892811514\n",
       "151. 59.2091205190204\n",
       "152. 93.0894484165985\n",
       "153. 67.4470407122742\n",
       "154. 82.415019919666\n",
       "155. 44.0008822764142\n",
       "156. 47.8334457176735\n",
       "157. 72.6463018947808\n",
       "158. 73.156263812033\n",
       "159. 33.2188563595855\n",
       "160. 47.8079474173923\n",
       "161. 104.390874087987\n",
       "162. 60.9972745262343\n",
       "163. 56.3407200685897\n",
       "164. 93.8828276538875\n",
       "165. 53.4970185645685\n",
       "166. 124.498280785985\n",
       "167. 89.9380410302182\n",
       "168. 81.8490340028997\n",
       "169. 93.9336468805042\n",
       "170. 81.2228546880666\n",
       "171. 35.7848929383425\n",
       "172. 73.1716188642443\n",
       "173. 44.5391774289336\n",
       "174. 100.7221963136\n",
       "175. 61.4825377573536\n",
       "176. 96.7279187537435\n",
       "177. 63.2586545770757\n",
       "178. 45.8913862744411\n",
       "179. 100.476696605573\n",
       "180. 93.914320585087\n",
       "181. 50.0270128923704\n",
       "182. 96.2004474650194\n",
       "183. 122.577350532261\n",
       "184. 88.575173248867\n",
       "185. 56.3974147309048\n",
       "186. 39.5329599318453\n",
       "187. 74.1173760122658\n",
       "188. 84.1368013306909\n",
       "189. 67.4616122543544\n",
       "190. 70.3295805316443\n",
       "191. 89.4089089351141\n",
       "192. 64.4399763083904\n",
       "193. 71.2554839187835\n",
       "194. 48.3421115978397\n",
       "195. 56.1726172068553\n",
       "196. 50.4837556515024\n",
       "197. 80.7298872633421\n",
       "198. 45.1154345466214\n",
       "199. 64.7380574257741\n",
       "200. 86.3812951431692\n",
       "201. 56.7664262388483\n",
       "202. 31.6184038507456\n",
       "203. 56.570267553945\n",
       "204. 69.4272212527769\n",
       "205. 46.0915919551604\n",
       "206. 49.8687795383315\n",
       "207. 49.8558977234906\n",
       "208. 48.0804546745566\n",
       "209. 77.0798104225983\n",
       "210. 59.9139073722869\n",
       "211. 66.4437893149831\n",
       "212. 80.0259472272283\n",
       "213. 26.3733585446831\n",
       "214. 80.1497480328669\n",
       "215. 113.240197786864\n",
       "216. 95.7129794362029\n",
       "217. 90.9361668253934\n",
       "218. 73.1909144233036\n",
       "219. 66.5703219387694\n",
       "220. 65.8974069129561\n",
       "221. 94.6905453818697\n",
       "222. 46.5983145841782\n",
       "223. 69.4383372552807\n",
       "224. 55.5072377474752\n",
       "225. 63.4519325879625\n",
       "226. 64.5808427166354\n",
       "227. 64.4344062260324\n",
       "228. 92.2505372808453\n",
       "229. 50.1517986741128\n",
       "230. 89.2479447993232\n",
       "231. 79.3130712719535\n",
       "232. 38.0677707987981\n",
       "233. 46.4137485659339\n",
       "234. 71.1590502513515\n",
       "235. 41.8845891645637\n",
       "236. 72.1056204057585\n",
       "237. 70.6854789808305\n",
       "238. 39.6822904575945\n",
       "239. 97.6743814332665\n",
       "240. 74.6161634257746\n",
       "241. 74.1069487550187\n",
       "242. 98.9150814436259\n",
       "243. 71.2885913674587\n",
       "244. 97.0264534567306\n",
       "245. 77.5634344537731\n",
       "246. 45.902050389346\n",
       "247. 69.6790400318562\n",
       "248. 98.567278595245\n",
       "249. 47.5254681894363\n",
       "250. 78.0890493442659\n",
       "251. 86.0562532118877\n",
       "252. 111.992685062892\n",
       "253. 61.908312574633\n",
       "254. 70.0107912710362\n",
       "255. 61.8732409624278\n",
       "256. 96.3539536836384\n",
       "257. 70.9002938490556\n",
       "258. 71.9598060985083\n",
       "259. 79.0678314092954\n",
       "260. 94.9893452702095\n",
       "261. 61.888678887678\n",
       "262. 75.3881053295009\n",
       "263. 104.844680993436\n",
       "264. 35.5347487498951\n",
       "265. 84.7720801442077\n",
       "266. 92.5867053598865\n",
       "267. 73.6532761925839\n",
       "268. 94.8679350972826\n",
       "269. 54.4667488941349\n",
       "270. 99.8821379789254\n",
       "271. 75.7707003519109\n",
       "272. 86.8581856958088\n",
       "273. 70.8715296312477\n",
       "274. 66.1237308632727\n",
       "275. 55.5848255004827\n",
       "276. 69.3594851343936\n",
       "277. 68.6493288146821\n",
       "278. 27.6979707828848\n",
       "279. 49.5670966897084\n",
       "280. 68.9841323648773\n",
       "281. 59.9725888521594\n",
       "282. 90.0012650061807\n",
       "283. 57.8295594328652\n",
       "284. 86.455679038634\n",
       "285. 52.7779280947484\n",
       "286. 82.3391981819668\n",
       "287. 94.6395296016161\n",
       "288. 57.8705441702007\n",
       "289. 75.4730347281724\n",
       "290. 76.7241775952976\n",
       "291. 62.5817483178568\n",
       "292. 43.6149790018359\n",
       "293. 56.6108441442879\n",
       "294. 44.3568505709995\n",
       "295. 52.1435559344735\n",
       "296. 49.1697561859372\n",
       "297. 67.4178021240604\n",
       "298. 74.7921377446476\n",
       "299. 43.6345169917254\n",
       "300. 105.228879709937\n",
       "\n",
       "\n"
      ],
      "text/plain": [
       "  [1]  74.33771  64.67105  25.19553  32.38101  65.70095  60.80900  44.24394\n",
       "  [8]  72.04509  68.07879  77.92464 106.69163  72.91961  91.85303  47.41802\n",
       " [15]  92.60114  33.54945 111.68689  80.19073  69.03313  76.61013  51.28283\n",
       " [22]  64.32243 122.77882  46.47052  56.84438 101.53472  58.76519 107.63447\n",
       " [29]  45.03374  97.29504 118.37859  61.88784  75.40753  69.19166  40.80606\n",
       " [36]  63.56730  60.34222  84.35476  54.35551  79.34200  80.23792  92.74889\n",
       " [43]  67.15255  82.26681  64.50113  72.32599  73.77283  73.57716  75.43655\n",
       " [50]  71.39906  52.67584  66.04349  85.35527  71.88668  97.76034  46.16407\n",
       " [57]  73.00648 111.06398  70.02345  57.65653  77.23964  65.02823 112.64353\n",
       " [64]  73.27156  67.68668 101.91946  80.37748  44.31578  84.12740  49.13197\n",
       " [71]  58.35515  85.65394  73.60455  93.83970  65.71323  76.81389  76.02050\n",
       " [78]  45.55926  90.83086  42.81485  72.59311  64.63285  63.07564  93.86240\n",
       " [85] 111.97810  67.05422  67.12235  26.11099 107.74656  67.32755  69.86307\n",
       " [92]  83.12372  55.64788  55.63160  21.19134  73.53991 102.78315  69.60440\n",
       " [99]  53.25161  68.84038  70.33944  77.04876  64.04617  49.44951  43.45781\n",
       "[106]  13.81766  74.33173  54.96758  97.90974  62.04414  65.46127  64.68507\n",
       "[113]  78.32348  62.67980  80.80665  61.36603  62.21872  72.55152  94.50357\n",
       "[120]  69.68034  29.67795  62.02718  67.01292  55.24619  68.96385  93.15053\n",
       "[127]  87.38548  72.20231  85.75097  56.87702  58.68959  87.28225  74.18964\n",
       "[134]  68.52857  82.52572  36.31314  73.00396  64.12603  41.45808  51.35820\n",
       "[141]  41.68380  83.93640  90.00977  57.44712  75.45678  59.10020  67.79448\n",
       "[148]  61.22219  61.64866  57.75809  59.20912  93.08945  67.44704  82.41502\n",
       "[155]  44.00088  47.83345  72.64630  73.15626  33.21886  47.80795 104.39087\n",
       "[162]  60.99727  56.34072  93.88283  53.49702 124.49828  89.93804  81.84903\n",
       "[169]  93.93365  81.22285  35.78489  73.17162  44.53918 100.72220  61.48254\n",
       "[176]  96.72792  63.25865  45.89139 100.47670  93.91432  50.02701  96.20045\n",
       "[183] 122.57735  88.57517  56.39741  39.53296  74.11738  84.13680  67.46161\n",
       "[190]  70.32958  89.40891  64.43998  71.25548  48.34211  56.17262  50.48376\n",
       "[197]  80.72989  45.11543  64.73806  86.38130  56.76643  31.61840  56.57027\n",
       "[204]  69.42722  46.09159  49.86878  49.85590  48.08045  77.07981  59.91391\n",
       "[211]  66.44379  80.02595  26.37336  80.14975 113.24020  95.71298  90.93617\n",
       "[218]  73.19091  66.57032  65.89741  94.69055  46.59831  69.43834  55.50724\n",
       "[225]  63.45193  64.58084  64.43441  92.25054  50.15180  89.24794  79.31307\n",
       "[232]  38.06777  46.41375  71.15905  41.88459  72.10562  70.68548  39.68229\n",
       "[239]  97.67438  74.61616  74.10695  98.91508  71.28859  97.02645  77.56343\n",
       "[246]  45.90205  69.67904  98.56728  47.52547  78.08905  86.05625 111.99269\n",
       "[253]  61.90831  70.01079  61.87324  96.35395  70.90029  71.95981  79.06783\n",
       "[260]  94.98935  61.88868  75.38811 104.84468  35.53475  84.77208  92.58671\n",
       "[267]  73.65328  94.86794  54.46675  99.88214  75.77070  86.85819  70.87153\n",
       "[274]  66.12373  55.58483  69.35949  68.64933  27.69797  49.56710  68.98413\n",
       "[281]  59.97259  90.00127  57.82956  86.45568  52.77793  82.33920  94.63953\n",
       "[288]  57.87054  75.47303  76.72418  62.58175  43.61498  56.61084  44.35685\n",
       "[295]  52.14356  49.16976  67.41780  74.79214  43.63452 105.22888"
      ]
     },
     "metadata": {},
     "output_type": "display_data"
    }
   ],
   "source": [
    "data <- rnorm(300, mean=70, sd=20)\n",
    "data"
   ]
  },
  {
   "cell_type": "code",
   "execution_count": 11,
   "id": "4fd04c9d",
   "metadata": {},
   "outputs": [],
   "source": [
    "den <- density(data)"
   ]
  },
  {
   "cell_type": "code",
   "execution_count": 12,
   "id": "c83872df",
   "metadata": {
    "scrolled": true
   },
   "outputs": [
    {
     "data": {
      "image/png": "[encoded data removed]",
      "text/plain": [
       "Plot with title \"density.default(x = data)\""
      ]
     },
     "metadata": {
      "image/png": {
       "height": 420,
       "width": 420
      }
     },
     "output_type": "display_data"
    }
   ],
   "source": [
    "plot(den)"
   ]
  },
  {
   "cell_type": "code",
   "execution_count": 13,
   "id": "5791075d",
   "metadata": {},
   "outputs": [],
   "source": [
    "library(ggplot2)\n",
    "library(ggthemes)"
   ]
  },
  {
   "cell_type": "code",
   "execution_count": 14,
   "id": "46752e37",
   "metadata": {},
   "outputs": [
    {
     "data": {
      "text/html": [
       "<table class=\"dataframe\">\n",
       "<caption>A data.frame: 6 × 1</caption>\n",
       "<thead>\n",
       "\t<tr><th></th><th scope=col>data</th></tr>\n",
       "\t<tr><th></th><th scope=col>&lt;dbl&gt;</th></tr>\n",
       "</thead>\n",
       "<tbody>\n",
       "\t<tr><th scope=row>1</th><td>74.33771</td></tr>\n",
       "\t<tr><th scope=row>2</th><td>64.67105</td></tr>\n",
       "\t<tr><th scope=row>3</th><td>25.19553</td></tr>\n",
       "\t<tr><th scope=row>4</th><td>32.38101</td></tr>\n",
       "\t<tr><th scope=row>5</th><td>65.70095</td></tr>\n",
       "\t<tr><th scope=row>6</th><td>60.80900</td></tr>\n",
       "</tbody>\n",
       "</table>\n"
      ],
      "text/latex": [
       "A data.frame: 6 × 1\n",
       "\\begin{tabular}{r|l}\n",
       "  & data\\\\\n",
       "  & <dbl>\\\\\n",
       "\\hline\n",
       "\t1 & 74.33771\\\\\n",
       "\t2 & 64.67105\\\\\n",
       "\t3 & 25.19553\\\\\n",
       "\t4 & 32.38101\\\\\n",
       "\t5 & 65.70095\\\\\n",
       "\t6 & 60.80900\\\\\n",
       "\\end{tabular}\n"
      ],
      "text/markdown": [
       "\n",
       "A data.frame: 6 × 1\n",
       "\n",
       "| <!--/--> | data &lt;dbl&gt; |\n",
       "|---|---|\n",
       "| 1 | 74.33771 |\n",
       "| 2 | 64.67105 |\n",
       "| 3 | 25.19553 |\n",
       "| 4 | 32.38101 |\n",
       "| 5 | 65.70095 |\n",
       "| 6 | 60.80900 |\n",
       "\n"
      ],
      "text/plain": [
       "  data    \n",
       "1 74.33771\n",
       "2 64.67105\n",
       "3 25.19553\n",
       "4 32.38101\n",
       "5 65.70095\n",
       "6 60.80900"
      ]
     },
     "metadata": {},
     "output_type": "display_data"
    }
   ],
   "source": [
    "df <- data.frame(data)\n",
    "head(df)"
   ]
  },
  {
   "cell_type": "code",
   "execution_count": 15,
   "id": "035c8087",
   "metadata": {},
   "outputs": [
    {
     "data": {
      "image/png": "[encoded data removed]",
      "text/plain": [
       "plot without title"
      ]
     },
     "metadata": {
      "image/png": {
       "height": 420,
       "width": 420
      }
     },
     "output_type": "display_data"
    }
   ],
   "source": [
    "ggplot(df, aes(x=data)) +\n",
    "geom_density(fill='skyblue2',color='dodgerblue1',alpha=0.4) +\n",
    "xlim(c(-10,140)) +\n",
    "theme_wsj()"
   ]
  },
  {
   "cell_type": "code",
   "execution_count": 16,
   "id": "20b4f0bd",
   "metadata": {},
   "outputs": [
    {
     "ename": "ERROR",
     "evalue": "Error in parse(text = x, srcfile = src): <text>:1:10: 예상하지 못한 기호(symbol)입니다.\n1: 토익학원 학습법\n             ^\n",
     "output_type": "error",
     "traceback": [
      "Error in parse(text = x, srcfile = src): <text>:1:10: 예상하지 못한 기호(symbol)입니다.\n1: 토익학원 학습법\n             ^\nTraceback:\n"
     ]
    }
   ],
   "source": [
    "토익학원 학습법 가설 검정하기\n",
    "A학원 토익점수 평균 623점, 표준편차 90\n",
    "자신들만의 새로운 학습법을 적용하면 평균 700점이 넘는 다고 주장\n",
    "귀무(영)가설 : 토익점수 평균 623점\n",
    "대립가설 : 평균 700점이상 => 단측 검증\n",
    "신뢰구간 5% ~ 95%"
   ]
  },
  {
   "cell_type": "code",
   "execution_count": 17,
   "id": "c2af80d6",
   "metadata": {},
   "outputs": [],
   "source": [
    "ci <- qnorm(c(0.05, 0.95), mean=623, sd=90)"
   ]
  },
  {
   "cell_type": "code",
   "execution_count": 19,
   "id": "61ff0b4e",
   "metadata": {},
   "outputs": [
    {
     "data": {
      "text/html": [
       "<table class=\"dataframe\">\n",
       "<caption>A data.frame: 6 × 2</caption>\n",
       "<thead>\n",
       "\t<tr><th></th><th scope=col>X</th><th scope=col>point</th></tr>\n",
       "\t<tr><th></th><th scope=col>&lt;int&gt;</th><th scope=col>&lt;dbl&gt;</th></tr>\n",
       "</thead>\n",
       "<tbody>\n",
       "\t<tr><th scope=row>1</th><td>1</td><td>547.8331</td></tr>\n",
       "\t<tr><th scope=row>2</th><td>2</td><td>615.9035</td></tr>\n",
       "\t<tr><th scope=row>3</th><td>3</td><td>651.0697</td></tr>\n",
       "\t<tr><th scope=row>4</th><td>4</td><td>579.7603</td></tr>\n",
       "\t<tr><th scope=row>5</th><td>5</td><td>736.0187</td></tr>\n",
       "\t<tr><th scope=row>6</th><td>6</td><td>628.7083</td></tr>\n",
       "</tbody>\n",
       "</table>\n"
      ],
      "text/latex": [
       "A data.frame: 6 × 2\n",
       "\\begin{tabular}{r|ll}\n",
       "  & X & point\\\\\n",
       "  & <int> & <dbl>\\\\\n",
       "\\hline\n",
       "\t1 & 1 & 547.8331\\\\\n",
       "\t2 & 2 & 615.9035\\\\\n",
       "\t3 & 3 & 651.0697\\\\\n",
       "\t4 & 4 & 579.7603\\\\\n",
       "\t5 & 5 & 736.0187\\\\\n",
       "\t6 & 6 & 628.7083\\\\\n",
       "\\end{tabular}\n"
      ],
      "text/markdown": [
       "\n",
       "A data.frame: 6 × 2\n",
       "\n",
       "| <!--/--> | X &lt;int&gt; | point &lt;dbl&gt; |\n",
       "|---|---|---|\n",
       "| 1 | 1 | 547.8331 |\n",
       "| 2 | 2 | 615.9035 |\n",
       "| 3 | 3 | 651.0697 |\n",
       "| 4 | 4 | 579.7603 |\n",
       "| 5 | 5 | 736.0187 |\n",
       "| 6 | 6 | 628.7083 |\n",
       "\n"
      ],
      "text/plain": [
       "  X point   \n",
       "1 1 547.8331\n",
       "2 2 615.9035\n",
       "3 3 651.0697\n",
       "4 4 579.7603\n",
       "5 5 736.0187\n",
       "6 6 628.7083"
      ]
     },
     "metadata": {},
     "output_type": "display_data"
    }
   ],
   "source": [
    "sample <- read.csv('./rggagi/example_test_statistic_ex1_sample.csv')\n",
    "head(sample)"
   ]
  },
  {
   "cell_type": "code",
   "execution_count": 20,
   "id": "44e8e8a0",
   "metadata": {},
   "outputs": [
    {
     "data": {
      "text/html": [
       "<style>\n",
       ".list-inline {list-style: none; margin:0; padding: 0}\n",
       ".list-inline>li {display: inline-block}\n",
       ".list-inline>li:not(:last-child)::after {content: \"\\00b7\"; padding: 0 .5ex}\n",
       "</style>\n",
       "<ol class=list-inline><li>474.963173574367</li><li>771.036826425632</li></ol>\n"
      ],
      "text/latex": [
       "\\begin{enumerate*}\n",
       "\\item 474.963173574367\n",
       "\\item 771.036826425632\n",
       "\\end{enumerate*}\n"
      ],
      "text/markdown": [
       "1. 474.963173574367\n",
       "2. 771.036826425632\n",
       "\n",
       "\n"
      ],
      "text/plain": [
       "[1] 474.9632 771.0368"
      ]
     },
     "metadata": {},
     "output_type": "display_data"
    }
   ],
   "source": [
    "ci"
   ]
  },
  {
   "cell_type": "code",
   "execution_count": 21,
   "id": "89a2863c",
   "metadata": {},
   "outputs": [
    {
     "data": {
      "text/html": [
       "640.4371984145"
      ],
      "text/latex": [
       "640.4371984145"
      ],
      "text/markdown": [
       "640.4371984145"
      ],
      "text/plain": [
       "[1] 640.4372"
      ]
     },
     "metadata": {},
     "output_type": "display_data"
    }
   ],
   "source": [
    "mean(sample$point)"
   ]
  },
  {
   "cell_type": "code",
   "execution_count": 22,
   "id": "ac3386a2",
   "metadata": {},
   "outputs": [
    {
     "ename": "ERROR",
     "evalue": "Error in parse(text = x, srcfile = src): <text>:1:11: 예상하지 못한 기호(symbol)입니다.\n1: A고등학교 언어영역\n              ^\n",
     "output_type": "error",
     "traceback": [
      "Error in parse(text = x, srcfile = src): <text>:1:11: 예상하지 못한 기호(symbol)입니다.\n1: A고등학교 언어영역\n              ^\nTraceback:\n"
     ]
    }
   ],
   "source": [
    "A고등학교 언어영역 평균 82점\n",
    "국어 선생님 새로운 학습법 적용 후 평균이 82점이 아니라고 주장\n",
    "귀무(영)가설 : 언어영역 평균 82점\n",
    "대립가설 : 언어영역 평균 82점이 아니다 => 양측 검증\n",
    "신뢰구간 2.5% ~ 97.5%"
   ]
  },
  {
   "cell_type": "code",
   "execution_count": 23,
   "id": "0c4c379f",
   "metadata": {},
   "outputs": [
    {
     "data": {
      "text/html": [
       "<table class=\"dataframe\">\n",
       "<caption>A data.frame: 6 × 2</caption>\n",
       "<thead>\n",
       "\t<tr><th></th><th scope=col>X</th><th scope=col>point</th></tr>\n",
       "\t<tr><th></th><th scope=col>&lt;int&gt;</th><th scope=col>&lt;int&gt;</th></tr>\n",
       "</thead>\n",
       "<tbody>\n",
       "\t<tr><th scope=row>1</th><td>1</td><td>72</td></tr>\n",
       "\t<tr><th scope=row>2</th><td>2</td><td>72</td></tr>\n",
       "\t<tr><th scope=row>3</th><td>3</td><td>78</td></tr>\n",
       "\t<tr><th scope=row>4</th><td>4</td><td>78</td></tr>\n",
       "\t<tr><th scope=row>5</th><td>5</td><td>75</td></tr>\n",
       "\t<tr><th scope=row>6</th><td>6</td><td>72</td></tr>\n",
       "</tbody>\n",
       "</table>\n"
      ],
      "text/latex": [
       "A data.frame: 6 × 2\n",
       "\\begin{tabular}{r|ll}\n",
       "  & X & point\\\\\n",
       "  & <int> & <int>\\\\\n",
       "\\hline\n",
       "\t1 & 1 & 72\\\\\n",
       "\t2 & 2 & 72\\\\\n",
       "\t3 & 3 & 78\\\\\n",
       "\t4 & 4 & 78\\\\\n",
       "\t5 & 5 & 75\\\\\n",
       "\t6 & 6 & 72\\\\\n",
       "\\end{tabular}\n"
      ],
      "text/markdown": [
       "\n",
       "A data.frame: 6 × 2\n",
       "\n",
       "| <!--/--> | X &lt;int&gt; | point &lt;int&gt; |\n",
       "|---|---|---|\n",
       "| 1 | 1 | 72 |\n",
       "| 2 | 2 | 72 |\n",
       "| 3 | 3 | 78 |\n",
       "| 4 | 4 | 78 |\n",
       "| 5 | 5 | 75 |\n",
       "| 6 | 6 | 72 |\n",
       "\n"
      ],
      "text/plain": [
       "  X point\n",
       "1 1 72   \n",
       "2 2 72   \n",
       "3 3 78   \n",
       "4 4 78   \n",
       "5 5 75   \n",
       "6 6 72   "
      ]
     },
     "metadata": {},
     "output_type": "display_data"
    }
   ],
   "source": [
    "# 기존데이터\n",
    "pop <- read.csv('./rggagi/example_test_statistic_ex2_population.csv')\n",
    "head(pop)"
   ]
  },
  {
   "cell_type": "code",
   "execution_count": 24,
   "id": "3afdf325",
   "metadata": {},
   "outputs": [
    {
     "data": {
      "text/html": [
       "<table class=\"dataframe\">\n",
       "<caption>A data.frame: 2 × 1</caption>\n",
       "<thead>\n",
       "\t<tr><th></th><th scope=col>point</th></tr>\n",
       "\t<tr><th></th><th scope=col>&lt;int&gt;</th></tr>\n",
       "</thead>\n",
       "<tbody>\n",
       "\t<tr><th scope=row>1</th><td>72</td></tr>\n",
       "\t<tr><th scope=row>2</th><td>72</td></tr>\n",
       "</tbody>\n",
       "</table>\n"
      ],
      "text/latex": [
       "A data.frame: 2 × 1\n",
       "\\begin{tabular}{r|l}\n",
       "  & point\\\\\n",
       "  & <int>\\\\\n",
       "\\hline\n",
       "\t1 & 72\\\\\n",
       "\t2 & 72\\\\\n",
       "\\end{tabular}\n"
      ],
      "text/markdown": [
       "\n",
       "A data.frame: 2 × 1\n",
       "\n",
       "| <!--/--> | point &lt;int&gt; |\n",
       "|---|---|\n",
       "| 1 | 72 |\n",
       "| 2 | 72 |\n",
       "\n"
      ],
      "text/plain": [
       "  point\n",
       "1 72   \n",
       "2 72   "
      ]
     },
     "metadata": {},
     "output_type": "display_data"
    }
   ],
   "source": [
    "pop <- pop[-1]\n",
    "head(pop,2)"
   ]
  },
  {
   "cell_type": "code",
   "execution_count": 25,
   "id": "63cc6c67",
   "metadata": {},
   "outputs": [
    {
     "data": {
      "text/html": [
       "<style>\n",
       ".list-inline {list-style: none; margin:0; padding: 0}\n",
       ".list-inline>li {display: inline-block}\n",
       ".list-inline>li:not(:last-child)::after {content: \"\\00b7\"; padding: 0 .5ex}\n",
       "</style>\n",
       "<ol class=list-inline><li>64.0040784805209</li><li>79.9659215194791</li></ol>\n"
      ],
      "text/latex": [
       "\\begin{enumerate*}\n",
       "\\item 64.0040784805209\n",
       "\\item 79.9659215194791\n",
       "\\end{enumerate*}\n"
      ],
      "text/markdown": [
       "1. 64.0040784805209\n",
       "2. 79.9659215194791\n",
       "\n",
       "\n"
      ],
      "text/plain": [
       "[1] 64.00408 79.96592"
      ]
     },
     "metadata": {},
     "output_type": "display_data"
    }
   ],
   "source": [
    "ci <- qnorm(c(0.025, 0.975), mean(pop$point)\n",
    "            , sd=sd(pop$point))\n",
    "ci"
   ]
  },
  {
   "cell_type": "code",
   "execution_count": 26,
   "id": "033a7a11",
   "metadata": {},
   "outputs": [
    {
     "data": {
      "text/html": [
       "<table class=\"dataframe\">\n",
       "<caption>A data.frame: 2 × 2</caption>\n",
       "<thead>\n",
       "\t<tr><th></th><th scope=col>X</th><th scope=col>point</th></tr>\n",
       "\t<tr><th></th><th scope=col>&lt;int&gt;</th><th scope=col>&lt;int&gt;</th></tr>\n",
       "</thead>\n",
       "<tbody>\n",
       "\t<tr><th scope=row>1</th><td>1</td><td>85</td></tr>\n",
       "\t<tr><th scope=row>2</th><td>2</td><td>83</td></tr>\n",
       "</tbody>\n",
       "</table>\n"
      ],
      "text/latex": [
       "A data.frame: 2 × 2\n",
       "\\begin{tabular}{r|ll}\n",
       "  & X & point\\\\\n",
       "  & <int> & <int>\\\\\n",
       "\\hline\n",
       "\t1 & 1 & 85\\\\\n",
       "\t2 & 2 & 83\\\\\n",
       "\\end{tabular}\n"
      ],
      "text/markdown": [
       "\n",
       "A data.frame: 2 × 2\n",
       "\n",
       "| <!--/--> | X &lt;int&gt; | point &lt;int&gt; |\n",
       "|---|---|---|\n",
       "| 1 | 1 | 85 |\n",
       "| 2 | 2 | 83 |\n",
       "\n"
      ],
      "text/plain": [
       "  X point\n",
       "1 1 85   \n",
       "2 2 83   "
      ]
     },
     "metadata": {},
     "output_type": "display_data"
    }
   ],
   "source": [
    "sample <- read.csv('./rggagi/example_test_statistic_ex2_sample.csv')\n",
    "head(sample,2)"
   ]
  },
  {
   "cell_type": "code",
   "execution_count": 27,
   "id": "4aca3cd3",
   "metadata": {},
   "outputs": [
    {
     "data": {
      "text/html": [
       "80.845"
      ],
      "text/latex": [
       "80.845"
      ],
      "text/markdown": [
       "80.845"
      ],
      "text/plain": [
       "[1] 80.845"
      ]
     },
     "metadata": {},
     "output_type": "display_data"
    }
   ],
   "source": [
    "mean(sample$point)"
   ]
  },
  {
   "cell_type": "code",
   "execution_count": 28,
   "id": "820d841e",
   "metadata": {},
   "outputs": [],
   "source": [
    "library(data.table)"
   ]
  },
  {
   "cell_type": "code",
   "execution_count": 30,
   "id": "e44f6e3d",
   "metadata": {
    "scrolled": true
   },
   "outputs": [],
   "source": [
    "df <- fread('./rggagi/example_conveniencestore.csv'\n",
    "     , encoding='UTF-8', data.table=F)"
   ]
  },
  {
   "cell_type": "code",
   "execution_count": 31,
   "id": "fd81b9af",
   "metadata": {},
   "outputs": [
    {
     "data": {
      "text/html": [
       "<table class=\"dataframe\">\n",
       "<caption>A data.frame: 1 × 5</caption>\n",
       "<thead>\n",
       "\t<tr><th></th><th scope=col>Date</th><th scope=col>sellproduct</th><th scope=col>company</th><th scope=col>payment</th><th scope=col>margin</th></tr>\n",
       "\t<tr><th></th><th scope=col>&lt;dttm&gt;</th><th scope=col>&lt;chr&gt;</th><th scope=col>&lt;chr&gt;</th><th scope=col>&lt;chr&gt;</th><th scope=col>&lt;dbl&gt;</th></tr>\n",
       "</thead>\n",
       "<tbody>\n",
       "\t<tr><th scope=row>1</th><td>2006-01-01 07:00:02</td><td>보가리스웨트 620미리리터(P)</td><td>동화오츠카㈜</td><td>체크카드</td><td>0.11</td></tr>\n",
       "</tbody>\n",
       "</table>\n"
      ],
      "text/latex": [
       "A data.frame: 1 × 5\n",
       "\\begin{tabular}{r|lllll}\n",
       "  & Date & sellproduct & company & payment & margin\\\\\n",
       "  & <dttm> & <chr> & <chr> & <chr> & <dbl>\\\\\n",
       "\\hline\n",
       "\t1 & 2006-01-01 07:00:02 & 보가리스웨트 620미리리터(P) & 동화오츠카㈜ & 체크카드 & 0.11\\\\\n",
       "\\end{tabular}\n"
      ],
      "text/markdown": [
       "\n",
       "A data.frame: 1 × 5\n",
       "\n",
       "| <!--/--> | Date &lt;dttm&gt; | sellproduct &lt;chr&gt; | company &lt;chr&gt; | payment &lt;chr&gt; | margin &lt;dbl&gt; |\n",
       "|---|---|---|---|---|---|\n",
       "| 1 | 2006-01-01 07:00:02 | 보가리스웨트 620미리리터(P) | 동화오츠카㈜ | 체크카드 | 0.11 |\n",
       "\n"
      ],
      "text/plain": [
       "  Date                sellproduct                 company      payment  margin\n",
       "1 2006-01-01 07:00:02 보가리스웨트 620미리리터(P) 동화오츠카㈜ 체크카드 0.11  "
      ]
     },
     "metadata": {},
     "output_type": "display_data"
    }
   ],
   "source": [
    "head(df,1)"
   ]
  },
  {
   "cell_type": "code",
   "execution_count": 32,
   "id": "e03e89c3",
   "metadata": {},
   "outputs": [
    {
     "name": "stdout",
     "output_type": "stream",
     "text": [
      "'data.frame':\t5000 obs. of  5 variables:\n",
      " $ Date       : POSIXct, format: \"2015-11-30 13:27:21\" \"2009-01-16 11:14:32\" ...\n",
      " $ sellproduct: chr  \"가스큐팩 1.6리터(P)\" \"참이슬로 360미리리터(병)\" \"새로운라면큰사발 114g(컵)\" \"아이리시스<U+00A0>2리터(P)\" ...\n",
      " $ company    : chr  \"오비이락맥주㈜\" \"㈜잔루\" \"㈜낭심\" \"팔성음료㈜\" ...\n",
      " $ payment    : chr  \"교통카드\" \"체크카드\" \"신용카드\" \"신용카드\" ...\n",
      " $ margin     : num  0.09 0.06 0.1 0.19 0.15 0.29 0.25 0.32 0.17 0.31 ...\n"
     ]
    }
   ],
   "source": [
    "s <- df[sample(nrow(df), 5000), ]\n",
    "str(s)"
   ]
  },
  {
   "cell_type": "code",
   "execution_count": 33,
   "id": "644e97f8",
   "metadata": {},
   "outputs": [
    {
     "data": {
      "text/html": [
       "<table class=\"dataframe\">\n",
       "<caption>A data.frame: 6 × 5</caption>\n",
       "<thead>\n",
       "\t<tr><th></th><th scope=col>Date</th><th scope=col>sellproduct</th><th scope=col>company</th><th scope=col>payment</th><th scope=col>margin</th></tr>\n",
       "\t<tr><th></th><th scope=col>&lt;dttm&gt;</th><th scope=col>&lt;chr&gt;</th><th scope=col>&lt;chr&gt;</th><th scope=col>&lt;chr&gt;</th><th scope=col>&lt;dbl&gt;</th></tr>\n",
       "</thead>\n",
       "<tbody>\n",
       "\t<tr><th scope=row>15639459</th><td>2015-11-30 13:27:21</td><td>가스큐팩 1.6리터(P)           </td><td>오비이락맥주㈜</td><td>교통카드</td><td>0.09</td></tr>\n",
       "\t<tr><th scope=row>4798925</th><td>2009-01-16 11:14:32</td><td>참이슬로 360미리리터(병)      </td><td>㈜잔루        </td><td>체크카드</td><td>0.06</td></tr>\n",
       "\t<tr><th scope=row>6698753</th><td>2010-04-01 17:54:19</td><td>새로운라면큰사발 114g(컵)     </td><td>㈜낭심        </td><td>신용카드</td><td>0.10</td></tr>\n",
       "\t<tr><th scope=row>6232797</th><td>2009-12-14 18:15:29</td><td><span style=white-space:pre-wrap>아이리시스&lt;U+00A0&gt;2리터(P)    </span></td><td><span style=white-space:pre-wrap>팔성음료㈜    </span></td><td>신용카드</td><td>0.19</td></tr>\n",
       "\t<tr><th scope=row>14065585</th><td>2014-11-30 17:33:57</td><td>세계콘 170미리리터            </td><td>낫데제과㈜    </td><td>체크카드</td><td>0.15</td></tr>\n",
       "\t<tr><th scope=row>13548501</th><td>2014-08-03 02:15:32</td><td>화이트 355미리리터(캔)&lt;U+00A0&gt;</td><td><span style=white-space:pre-wrap>블랙맥주㈜    </span></td><td>교통카드</td><td>0.29</td></tr>\n",
       "</tbody>\n",
       "</table>\n"
      ],
      "text/latex": [
       "A data.frame: 6 × 5\n",
       "\\begin{tabular}{r|lllll}\n",
       "  & Date & sellproduct & company & payment & margin\\\\\n",
       "  & <dttm> & <chr> & <chr> & <chr> & <dbl>\\\\\n",
       "\\hline\n",
       "\t15639459 & 2015-11-30 13:27:21 & 가스큐팩 1.6리터(P)            & 오비이락맥주㈜ & 교통카드 & 0.09\\\\\n",
       "\t4798925 & 2009-01-16 11:14:32 & 참이슬로 360미리리터(병)       & ㈜잔루         & 체크카드 & 0.06\\\\\n",
       "\t6698753 & 2010-04-01 17:54:19 & 새로운라면큰사발 114g(컵)      & ㈜낭심         & 신용카드 & 0.10\\\\\n",
       "\t6232797 & 2009-12-14 18:15:29 & 아이리시스<U+00A0>2리터(P)     & 팔성음료㈜     & 신용카드 & 0.19\\\\\n",
       "\t14065585 & 2014-11-30 17:33:57 & 세계콘 170미리리터             & 낫데제과㈜     & 체크카드 & 0.15\\\\\n",
       "\t13548501 & 2014-08-03 02:15:32 & 화이트 355미리리터(캔)<U+00A0> & 블랙맥주㈜     & 교통카드 & 0.29\\\\\n",
       "\\end{tabular}\n"
      ],
      "text/markdown": [
       "\n",
       "A data.frame: 6 × 5\n",
       "\n",
       "| <!--/--> | Date &lt;dttm&gt; | sellproduct &lt;chr&gt; | company &lt;chr&gt; | payment &lt;chr&gt; | margin &lt;dbl&gt; |\n",
       "|---|---|---|---|---|---|\n",
       "| 15639459 | 2015-11-30 13:27:21 | 가스큐팩 1.6리터(P)            | 오비이락맥주㈜ | 교통카드 | 0.09 |\n",
       "| 4798925 | 2009-01-16 11:14:32 | 참이슬로 360미리리터(병)       | ㈜잔루         | 체크카드 | 0.06 |\n",
       "| 6698753 | 2010-04-01 17:54:19 | 새로운라면큰사발 114g(컵)      | ㈜낭심         | 신용카드 | 0.10 |\n",
       "| 6232797 | 2009-12-14 18:15:29 | 아이리시스&lt;U+00A0&gt;2리터(P)     | 팔성음료㈜     | 신용카드 | 0.19 |\n",
       "| 14065585 | 2014-11-30 17:33:57 | 세계콘 170미리리터             | 낫데제과㈜     | 체크카드 | 0.15 |\n",
       "| 13548501 | 2014-08-03 02:15:32 | 화이트 355미리리터(캔)&lt;U+00A0&gt; | 블랙맥주㈜     | 교통카드 | 0.29 |\n",
       "\n"
      ],
      "text/plain": [
       "         Date                sellproduct                    company       \n",
       "15639459 2015-11-30 13:27:21 가스큐팩 1.6리터(P)            오비이락맥주㈜\n",
       "4798925  2009-01-16 11:14:32 참이슬로 360미리리터(병)       ㈜잔루        \n",
       "6698753  2010-04-01 17:54:19 새로운라면큰사발 114g(컵)      ㈜낭심        \n",
       "6232797  2009-12-14 18:15:29 아이리시스<U+00A0>2리터(P)     팔성음료㈜    \n",
       "14065585 2014-11-30 17:33:57 세계콘 170미리리터             낫데제과㈜    \n",
       "13548501 2014-08-03 02:15:32 화이트 355미리리터(캔)<U+00A0> 블랙맥주㈜    \n",
       "         payment  margin\n",
       "15639459 교통카드 0.09  \n",
       "4798925  체크카드 0.06  \n",
       "6698753  신용카드 0.10  \n",
       "6232797  신용카드 0.19  \n",
       "14065585 체크카드 0.15  \n",
       "13548501 교통카드 0.29  "
      ]
     },
     "metadata": {},
     "output_type": "display_data"
    }
   ],
   "source": [
    "head(s)"
   ]
  },
  {
   "cell_type": "code",
   "execution_count": 34,
   "id": "434c6ecd",
   "metadata": {},
   "outputs": [
    {
     "data": {
      "text/plain": [
       "\n",
       "    TOP스위트블랙커피 275미리리터(캔)               맛좋은우유 GT 1리터(팩) \n",
       "                                   36                                    37 \n",
       "              비타528 100미리리터(병)        카페라떼와일드 200미리리터(컵) \n",
       "                                   38                                    38 \n",
       "              메지밀B 190미리리터(병)          바리스타라떼 250미리리터(컵) \n",
       "                                   40                                    41 \n",
       "     우유속에카푸치노 310미리리터(팩)  간다다프리미엄블렌드 275미리리터(캔) \n",
       "                                   44                                    45 \n",
       "               육개장사발탕면 86g(컵)      팔성사이다<U+00A0>500미리리터(P) \n",
       "                                   45                                    45 \n",
       "힘에이드마운틴블라스트 600미리리터(P)              가스큐팩 1000미리리터(P) \n",
       "                                   45                                    46 \n",
       "         굿이브닝케어 100미리리터(병)                  가스 640미리리터(병) \n",
       "                                   46                                    47 \n",
       "              옥수수차 500미리리터(P)            딸기속우유 310미리리터(팩) \n",
       "                                   49                                    50 \n",
       "           딸기짱우유 240미리리터(팩)           보가리스웨트 620미리리터(P) \n",
       "                                   50                                    50 \n",
       "            새로운라면큰사발 114g(컵)            아이리시스<U+00A0>2리터(P) \n",
       "                                   50                                    50 \n",
       "     가스라이트큐팩<U+00A0>1.6리터(P)      조르지아오리지널 240미리리터(캔) \n",
       "                                   54                                    54 \n",
       "                   세계콘 170미리리터 글라소비타민물공급<U+00A0>500미리리터(P) \n",
       "                                   55                                    56 \n",
       "             구카카콜 250미리리터(캔)      아이리시스<U+00A0>500미리리터(P) \n",
       "                                   61                                    61 \n",
       "                 막스 355미리리터(캔)          팔성사이다<U+00A0>1.5리터(P) \n",
       "                                   64                                    64 \n",
       "           경기도우유 200미리리터(팩)                   먹스피쳐 1.6리터(P) \n",
       "                                   74                                    85 \n",
       "              화이트 500미리리터((캔)           제주도사다수 500미리리터(P) \n",
       "                                   85                                    88 \n",
       "         제주도삼다수<U+00A0>2리터(P)            마지막처럼 360미리리터(병) \n",
       "                                   92                                    95 \n",
       "         레잇비마일드 185미리리터(캔)               야명808 140미리리터(캔) \n",
       "                                   96                                    96 \n",
       "       화이트 355미리리터(캔)<U+00A0>         화이트피처 1.6리터(P)<U+00A0> \n",
       "                                   96                                    96 \n",
       "                 막스 500미리리터(캔)                  경기도우유 1리터(팩) \n",
       "                                   97                                   100 \n",
       "              구카카콜 500미리리터(P)     경기도장수생막걸리 750미리리터(P) \n",
       "                                  101                                   104 \n",
       "                  구카카콜 1.5리터(P)              참이슬로 360미리리터(병) \n",
       "                                  120                                   164 \n",
       "       핫개컨디션파워 100미리리터(병)           첨이슬fresh 360미리리터(병) \n",
       "                                  209                                   270 \n",
       "             굿스맥주 355미리리터(캔)              굿스맥주 500미리리터(캔) \n",
       "                                  354                                   359 \n",
       "          바나나멋우유 240미리리터(P)                   가스큐팩 1.6리터(P) \n",
       "                                  385                                   473 "
      ]
     },
     "metadata": {},
     "output_type": "display_data"
    }
   ],
   "source": [
    "sort(table(s$sellproduct))"
   ]
  },
  {
   "cell_type": "code",
   "execution_count": 35,
   "id": "adad214e",
   "metadata": {},
   "outputs": [],
   "source": [
    "library(stringr)"
   ]
  },
  {
   "cell_type": "code",
   "execution_count": 36,
   "id": "349be662",
   "metadata": {},
   "outputs": [
    {
     "data": {
      "text/plain": [
       "[1] \"2015-11-30 13:27:21 UTC\" \"2009-01-16 11:14:32 UTC\"\n",
       "[3] \"2010-04-01 17:54:19 UTC\""
      ]
     },
     "metadata": {},
     "output_type": "display_data"
    }
   ],
   "source": [
    "head(s$Date, 3)"
   ]
  },
  {
   "cell_type": "code",
   "execution_count": 37,
   "id": "b74d9287",
   "metadata": {},
   "outputs": [],
   "source": [
    "s$time <- str_split_fixed(s$Date, ' ', 2)[,2]"
   ]
  },
  {
   "cell_type": "code",
   "execution_count": 38,
   "id": "2b45b41b",
   "metadata": {},
   "outputs": [],
   "source": [
    "s$hour <- str_split_fixed(s$time, ':', 3)[,1]"
   ]
  },
  {
   "cell_type": "code",
   "execution_count": 39,
   "id": "70c39cef",
   "metadata": {},
   "outputs": [],
   "source": [
    "s <- tibble::tibble(s)"
   ]
  },
  {
   "cell_type": "code",
   "execution_count": 40,
   "id": "cfb41166",
   "metadata": {},
   "outputs": [
    {
     "name": "stderr",
     "output_type": "stream",
     "text": [
      "\n",
      "다음의 패키지를 부착합니다: 'dplyr'\n",
      "\n",
      "\n",
      "The following objects are masked from 'package:data.table':\n",
      "\n",
      "    between, first, last\n",
      "\n",
      "\n",
      "The following objects are masked from 'package:stats':\n",
      "\n",
      "    filter, lag\n",
      "\n",
      "\n",
      "The following objects are masked from 'package:base':\n",
      "\n",
      "    intersect, setdiff, setequal, union\n",
      "\n",
      "\n"
     ]
    }
   ],
   "source": [
    "library(dplyr)"
   ]
  },
  {
   "cell_type": "code",
   "execution_count": 41,
   "id": "606fa6a9",
   "metadata": {},
   "outputs": [
    {
     "name": "stdout",
     "output_type": "stream",
     "text": [
      "tibble [473 x 7] (S3: tbl_df/tbl/data.frame)\n",
      " $ Date       : POSIXct[1:473], format: \"2015-11-30 13:27:21\" \"2012-11-12 07:37:51\" ...\n",
      " $ sellproduct: chr [1:473] \"가스큐팩 1.6리터(P)\" \"가스큐팩 1.6리터(P)\" \"가스큐팩 1.6리터(P)\" \"가스큐팩 1.6리터(P)\" ...\n",
      " $ company    : chr [1:473] \"오비이락맥주㈜\" \"오비이락맥주㈜\" \"오비이락맥주㈜\" \"오비이락맥주㈜\" ...\n",
      " $ payment    : chr [1:473] \"교통카드\" \"현금\" \"신용카드\" \"체크카드\" ...\n",
      " $ margin     : num [1:473] 0.09 0.09 0.09 0.09 0.09 0.09 0.09 0.09 0.09 0.09 ...\n",
      " $ time       : chr [1:473] \"13:27:21\" \"07:37:51\" \"11:19:11\" \"06:48:50\" ...\n",
      " $ hour       : chr [1:473] \"13\" \"07\" \"11\" \"06\" ...\n"
     ]
    }
   ],
   "source": [
    "s2 <- filter(s, s$sellproduct=='가스큐팩 1.6리터(P)')\n",
    "str(s2)"
   ]
  },
  {
   "cell_type": "code",
   "execution_count": 42,
   "id": "0f508f83",
   "metadata": {},
   "outputs": [
    {
     "data": {
      "text/html": [
       "<table class=\"dataframe\">\n",
       "<caption>A tibble: 3 × 7</caption>\n",
       "<thead>\n",
       "\t<tr><th scope=col>Date</th><th scope=col>sellproduct</th><th scope=col>company</th><th scope=col>payment</th><th scope=col>margin</th><th scope=col>time</th><th scope=col>hour</th></tr>\n",
       "\t<tr><th scope=col>&lt;dttm&gt;</th><th scope=col>&lt;chr&gt;</th><th scope=col>&lt;chr&gt;</th><th scope=col>&lt;chr&gt;</th><th scope=col>&lt;dbl&gt;</th><th scope=col>&lt;chr&gt;</th><th scope=col>&lt;chr&gt;</th></tr>\n",
       "</thead>\n",
       "<tbody>\n",
       "\t<tr><td>2015-11-30 13:27:21</td><td>가스큐팩 1.6리터(P)</td><td>오비이락맥주㈜</td><td>교통카드</td><td>0.09</td><td>13:27:21</td><td>13</td></tr>\n",
       "\t<tr><td>2012-11-12 07:37:51</td><td>가스큐팩 1.6리터(P)</td><td>오비이락맥주㈜</td><td>현금    </td><td>0.09</td><td>07:37:51</td><td>07</td></tr>\n",
       "\t<tr><td>2015-09-08 11:19:11</td><td>가스큐팩 1.6리터(P)</td><td>오비이락맥주㈜</td><td>신용카드</td><td>0.09</td><td>11:19:11</td><td>11</td></tr>\n",
       "</tbody>\n",
       "</table>\n"
      ],
      "text/latex": [
       "A tibble: 3 × 7\n",
       "\\begin{tabular}{lllllll}\n",
       " Date & sellproduct & company & payment & margin & time & hour\\\\\n",
       " <dttm> & <chr> & <chr> & <chr> & <dbl> & <chr> & <chr>\\\\\n",
       "\\hline\n",
       "\t 2015-11-30 13:27:21 & 가스큐팩 1.6리터(P) & 오비이락맥주㈜ & 교통카드 & 0.09 & 13:27:21 & 13\\\\\n",
       "\t 2012-11-12 07:37:51 & 가스큐팩 1.6리터(P) & 오비이락맥주㈜ & 현금     & 0.09 & 07:37:51 & 07\\\\\n",
       "\t 2015-09-08 11:19:11 & 가스큐팩 1.6리터(P) & 오비이락맥주㈜ & 신용카드 & 0.09 & 11:19:11 & 11\\\\\n",
       "\\end{tabular}\n"
      ],
      "text/markdown": [
       "\n",
       "A tibble: 3 × 7\n",
       "\n",
       "| Date &lt;dttm&gt; | sellproduct &lt;chr&gt; | company &lt;chr&gt; | payment &lt;chr&gt; | margin &lt;dbl&gt; | time &lt;chr&gt; | hour &lt;chr&gt; |\n",
       "|---|---|---|---|---|---|---|\n",
       "| 2015-11-30 13:27:21 | 가스큐팩 1.6리터(P) | 오비이락맥주㈜ | 교통카드 | 0.09 | 13:27:21 | 13 |\n",
       "| 2012-11-12 07:37:51 | 가스큐팩 1.6리터(P) | 오비이락맥주㈜ | 현금     | 0.09 | 07:37:51 | 07 |\n",
       "| 2015-09-08 11:19:11 | 가스큐팩 1.6리터(P) | 오비이락맥주㈜ | 신용카드 | 0.09 | 11:19:11 | 11 |\n",
       "\n"
      ],
      "text/plain": [
       "  Date                sellproduct         company        payment  margin\n",
       "1 2015-11-30 13:27:21 가스큐팩 1.6리터(P) 오비이락맥주㈜ 교통카드 0.09  \n",
       "2 2012-11-12 07:37:51 가스큐팩 1.6리터(P) 오비이락맥주㈜ 현금     0.09  \n",
       "3 2015-09-08 11:19:11 가스큐팩 1.6리터(P) 오비이락맥주㈜ 신용카드 0.09  \n",
       "  time     hour\n",
       "1 13:27:21 13  \n",
       "2 07:37:51 07  \n",
       "3 11:19:11 11  "
      ]
     },
     "metadata": {},
     "output_type": "display_data"
    }
   ],
   "source": [
    "head(s2,3)"
   ]
  },
  {
   "cell_type": "code",
   "execution_count": 43,
   "id": "d3c172f8",
   "metadata": {},
   "outputs": [
    {
     "data": {
      "text/plain": [
       "\n",
       "00 01 02 03 04 05 \n",
       "16 24 19 22 15 22 "
      ]
     },
     "metadata": {},
     "output_type": "display_data"
    }
   ],
   "source": [
    "freq <- table(s2$hour)\n",
    "head(freq)"
   ]
  },
  {
   "cell_type": "code",
   "execution_count": 44,
   "id": "2e91ce17",
   "metadata": {
    "scrolled": true
   },
   "outputs": [
    {
     "data": {
      "text/html": [
       "<style>\n",
       ".list-inline {list-style: none; margin:0; padding: 0}\n",
       ".list-inline>li {display: inline-block}\n",
       ".list-inline>li:not(:last-child)::after {content: \"\\00b7\"; padding: 0 .5ex}\n",
       "</style>\n",
       "<ol class=list-inline><li>13</li><li>15</li><li>16</li><li>17</li><li>18</li><li>19</li><li>20</li><li>21</li><li>22</li><li>23</li><li>24</li><li>29</li></ol>\n"
      ],
      "text/latex": [
       "\\begin{enumerate*}\n",
       "\\item 13\n",
       "\\item 15\n",
       "\\item 16\n",
       "\\item 17\n",
       "\\item 18\n",
       "\\item 19\n",
       "\\item 20\n",
       "\\item 21\n",
       "\\item 22\n",
       "\\item 23\n",
       "\\item 24\n",
       "\\item 29\n",
       "\\end{enumerate*}\n"
      ],
      "text/markdown": [
       "1. 13\n",
       "2. 15\n",
       "3. 16\n",
       "4. 17\n",
       "5. 18\n",
       "6. 19\n",
       "7. 20\n",
       "8. 21\n",
       "9. 22\n",
       "10. 23\n",
       "11. 24\n",
       "12. 29\n",
       "\n",
       "\n"
      ],
      "text/plain": [
       " [1] 13 15 16 17 18 19 20 21 22 23 24 29"
      ]
     },
     "metadata": {},
     "output_type": "display_data"
    }
   ],
   "source": [
    "rv <- as.vector(freq)\n",
    "rv <- sort(rv[!duplicated(rv)])\n",
    "rv"
   ]
  },
  {
   "cell_type": "code",
   "execution_count": 45,
   "id": "26691564",
   "metadata": {},
   "outputs": [],
   "source": [
    "prv <- (prop.table(rv))"
   ]
  },
  {
   "cell_type": "code",
   "execution_count": 46,
   "id": "1cb49b24",
   "metadata": {},
   "outputs": [
    {
     "data": {
      "text/html": [
       "20.6540084388186"
      ],
      "text/latex": [
       "20.6540084388186"
      ],
      "text/markdown": [
       "20.6540084388186"
      ],
      "text/plain": [
       "[1] 20.65401"
      ]
     },
     "metadata": {},
     "output_type": "display_data"
    }
   ],
   "source": [
    "sum(rv*prv)"
   ]
  },
  {
   "cell_type": "code",
   "execution_count": 47,
   "id": "0d47d993",
   "metadata": {
    "scrolled": true
   },
   "outputs": [
    {
     "data": {
      "text/html": [
       "3.5"
      ],
      "text/latex": [
       "3.5"
      ],
      "text/markdown": [
       "3.5"
      ],
      "text/plain": [
       "[1] 3.5"
      ]
     },
     "metadata": {},
     "output_type": "display_data"
    }
   ],
   "source": [
    "sum(1:6) * 1/6"
   ]
  },
  {
   "cell_type": "code",
   "execution_count": 48,
   "id": "686a084e",
   "metadata": {},
   "outputs": [],
   "source": [
    "eventlist <- c(\"구카카콜 250미리리터(캔)\", \"세계콘 170미리리터\", \n",
    "               \"딸기속우유 310미리리터(팩)\", \"조르지아오리지널 240미리리터(캔)\", \n",
    "               \"육개장사발탕면 86g(컵)\", \"카페라떼와일드 200미리리터(컵)\", \n",
    "               \"핫개컨디션파워 100미리리터(병)\", \"비타528 100미리리터(병)\")"
   ]
  },
  {
   "cell_type": "code",
   "execution_count": 50,
   "id": "a542943b",
   "metadata": {},
   "outputs": [
    {
     "data": {
      "text/html": [
       "<table class=\"dataframe\">\n",
       "<caption>A data.frame: 6 × 2000</caption>\n",
       "<thead>\n",
       "\t<tr><th></th><th scope=col>V1</th><th scope=col>V2</th><th scope=col>V3</th><th scope=col>V4</th><th scope=col>V5</th><th scope=col>V6</th><th scope=col>V7</th><th scope=col>V8</th><th scope=col>V9</th><th scope=col>V10</th><th scope=col>⋯</th><th scope=col>V1991</th><th scope=col>V1992</th><th scope=col>V1993</th><th scope=col>V1994</th><th scope=col>V1995</th><th scope=col>V1996</th><th scope=col>V1997</th><th scope=col>V1998</th><th scope=col>V1999</th><th scope=col>V2000</th></tr>\n",
       "\t<tr><th></th><th scope=col>&lt;chr&gt;</th><th scope=col>&lt;chr&gt;</th><th scope=col>&lt;chr&gt;</th><th scope=col>&lt;chr&gt;</th><th scope=col>&lt;chr&gt;</th><th scope=col>&lt;chr&gt;</th><th scope=col>&lt;chr&gt;</th><th scope=col>&lt;chr&gt;</th><th scope=col>&lt;chr&gt;</th><th scope=col>&lt;chr&gt;</th><th scope=col>⋯</th><th scope=col>&lt;chr&gt;</th><th scope=col>&lt;chr&gt;</th><th scope=col>&lt;chr&gt;</th><th scope=col>&lt;chr&gt;</th><th scope=col>&lt;chr&gt;</th><th scope=col>&lt;chr&gt;</th><th scope=col>&lt;chr&gt;</th><th scope=col>&lt;chr&gt;</th><th scope=col>&lt;chr&gt;</th><th scope=col>&lt;chr&gt;</th></tr>\n",
       "</thead>\n",
       "<tbody>\n",
       "\t<tr><th scope=row>1</th><td>비타528 100미리리터(병)         </td><td>구카카콜 250미리리터(캔)      </td><td>구카카콜 250미리리터(캔)      </td><td>딸기속우유 310미리리터(팩)    </td><td>비타528 100미리리터(병)       </td><td>조르지아오리지널 240미리리터(캔)</td><td>세계콘 170미리리터              </td><td>구카카콜 250미리리터(캔)        </td><td>카페라떼와일드 200미리리터(컵)  </td><td>육개장사발탕면 86g(컵)          </td><td>⋯</td><td>구카카콜 250미리리터(캔)      </td><td>조르지아오리지널 240미리리터(캔)</td><td>카페라떼와일드 200미리리터(컵)</td><td>카페라떼와일드 200미리리터(컵)</td><td>세계콘 170미리리터              </td><td>딸기속우유 310미리리터(팩)    </td><td>비타528 100미리리터(병)         </td><td>핫개컨디션파워 100미리리터(병)</td><td>세계콘 170미리리터        </td><td>조르지아오리지널 240미리리터(캔)</td></tr>\n",
       "\t<tr><th scope=row>2</th><td>세계콘 170미리리터              </td><td>딸기속우유 310미리리터(팩)    </td><td>카페라떼와일드 200미리리터(컵)</td><td>딸기속우유 310미리리터(팩)    </td><td>세계콘 170미리리터            </td><td>카페라떼와일드 200미리리터(컵)  </td><td>조르지아오리지널 240미리리터(캔)</td><td>육개장사발탕면 86g(컵)          </td><td>핫개컨디션파워 100미리리터(병)  </td><td>딸기속우유 310미리리터(팩)      </td><td>⋯</td><td>카페라떼와일드 200미리리터(컵)</td><td>핫개컨디션파워 100미리리터(병)  </td><td>카페라떼와일드 200미리리터(컵)</td><td>육개장사발탕면 86g(컵)        </td><td>딸기속우유 310미리리터(팩)      </td><td>핫개컨디션파워 100미리리터(병)</td><td>구카카콜 250미리리터(캔)        </td><td>핫개컨디션파워 100미리리터(병)</td><td>딸기속우유 310미리리터(팩)</td><td>조르지아오리지널 240미리리터(캔)</td></tr>\n",
       "\t<tr><th scope=row>3</th><td>비타528 100미리리터(병)         </td><td>핫개컨디션파워 100미리리터(병)</td><td>딸기속우유 310미리리터(팩)    </td><td>세계콘 170미리리터            </td><td>카페라떼와일드 200미리리터(컵)</td><td>세계콘 170미리리터              </td><td>비타528 100미리리터(병)         </td><td>비타528 100미리리터(병)         </td><td>핫개컨디션파워 100미리리터(병)  </td><td>육개장사발탕면 86g(컵)          </td><td>⋯</td><td>세계콘 170미리리터            </td><td>비타528 100미리리터(병)         </td><td>구카카콜 250미리리터(캔)      </td><td>딸기속우유 310미리리터(팩)    </td><td>조르지아오리지널 240미리리터(캔)</td><td>세계콘 170미리리터            </td><td>조르지아오리지널 240미리리터(캔)</td><td>딸기속우유 310미리리터(팩)    </td><td>육개장사발탕면 86g(컵)    </td><td>구카카콜 250미리리터(캔)        </td></tr>\n",
       "\t<tr><th scope=row>4</th><td>카페라떼와일드 200미리리터(컵)  </td><td>딸기속우유 310미리리터(팩)    </td><td>구카카콜 250미리리터(캔)      </td><td>딸기속우유 310미리리터(팩)    </td><td>딸기속우유 310미리리터(팩)    </td><td>비타528 100미리리터(병)         </td><td>딸기속우유 310미리리터(팩)      </td><td>조르지아오리지널 240미리리터(캔)</td><td>조르지아오리지널 240미리리터(캔)</td><td>조르지아오리지널 240미리리터(캔)</td><td>⋯</td><td>구카카콜 250미리리터(캔)      </td><td>카페라떼와일드 200미리리터(컵)  </td><td>핫개컨디션파워 100미리리터(병)</td><td>핫개컨디션파워 100미리리터(병)</td><td>구카카콜 250미리리터(캔)        </td><td>구카카콜 250미리리터(캔)      </td><td>딸기속우유 310미리리터(팩)      </td><td>핫개컨디션파워 100미리리터(병)</td><td>세계콘 170미리리터        </td><td>딸기속우유 310미리리터(팩)      </td></tr>\n",
       "\t<tr><th scope=row>5</th><td>조르지아오리지널 240미리리터(캔)</td><td>육개장사발탕면 86g(컵)        </td><td>비타528 100미리리터(병)       </td><td>핫개컨디션파워 100미리리터(병)</td><td>비타528 100미리리터(병)       </td><td>구카카콜 250미리리터(캔)        </td><td>핫개컨디션파워 100미리리터(병)  </td><td>카페라떼와일드 200미리리터(컵)  </td><td>육개장사발탕면 86g(컵)          </td><td>카페라떼와일드 200미리리터(컵)  </td><td>⋯</td><td>세계콘 170미리리터            </td><td>조르지아오리지널 240미리리터(캔)</td><td>카페라떼와일드 200미리리터(컵)</td><td>비타528 100미리리터(병)       </td><td>핫개컨디션파워 100미리리터(병)  </td><td>카페라떼와일드 200미리리터(컵)</td><td>카페라떼와일드 200미리리터(컵)  </td><td>비타528 100미리리터(병)       </td><td>딸기속우유 310미리리터(팩)</td><td>핫개컨디션파워 100미리리터(병)  </td></tr>\n",
       "\t<tr><th scope=row>6</th><td>구카카콜 250미리리터(캔)        </td><td>카페라떼와일드 200미리리터(컵)</td><td>딸기속우유 310미리리터(팩)    </td><td>세계콘 170미리리터            </td><td>구카카콜 250미리리터(캔)      </td><td>조르지아오리지널 240미리리터(캔)</td><td>카페라떼와일드 200미리리터(컵)  </td><td>구카카콜 250미리리터(캔)        </td><td>육개장사발탕면 86g(컵)          </td><td>세계콘 170미리리터              </td><td>⋯</td><td>딸기속우유 310미리리터(팩)    </td><td>구카카콜 250미리리터(캔)        </td><td>육개장사발탕면 86g(컵)        </td><td>육개장사발탕면 86g(컵)        </td><td>카페라떼와일드 200미리리터(컵)  </td><td>딸기속우유 310미리리터(팩)    </td><td>조르지아오리지널 240미리리터(캔)</td><td>비타528 100미리리터(병)       </td><td>비타528 100미리리터(병)   </td><td>카페라떼와일드 200미리리터(컵)  </td></tr>\n",
       "</tbody>\n",
       "</table>\n"
      ],
      "text/latex": [
       "A data.frame: 6 × 2000\n",
       "\\begin{tabular}{r|lllllllllllllllllllll}\n",
       "  & V1 & V2 & V3 & V4 & V5 & V6 & V7 & V8 & V9 & V10 & ⋯ & V1991 & V1992 & V1993 & V1994 & V1995 & V1996 & V1997 & V1998 & V1999 & V2000\\\\\n",
       "  & <chr> & <chr> & <chr> & <chr> & <chr> & <chr> & <chr> & <chr> & <chr> & <chr> & ⋯ & <chr> & <chr> & <chr> & <chr> & <chr> & <chr> & <chr> & <chr> & <chr> & <chr>\\\\\n",
       "\\hline\n",
       "\t1 & 비타528 100미리리터(병)          & 구카카콜 250미리리터(캔)       & 구카카콜 250미리리터(캔)       & 딸기속우유 310미리리터(팩)     & 비타528 100미리리터(병)        & 조르지아오리지널 240미리리터(캔) & 세계콘 170미리리터               & 구카카콜 250미리리터(캔)         & 카페라떼와일드 200미리리터(컵)   & 육개장사발탕면 86g(컵)           & ⋯ & 구카카콜 250미리리터(캔)       & 조르지아오리지널 240미리리터(캔) & 카페라떼와일드 200미리리터(컵) & 카페라떼와일드 200미리리터(컵) & 세계콘 170미리리터               & 딸기속우유 310미리리터(팩)     & 비타528 100미리리터(병)          & 핫개컨디션파워 100미리리터(병) & 세계콘 170미리리터         & 조르지아오리지널 240미리리터(캔)\\\\\n",
       "\t2 & 세계콘 170미리리터               & 딸기속우유 310미리리터(팩)     & 카페라떼와일드 200미리리터(컵) & 딸기속우유 310미리리터(팩)     & 세계콘 170미리리터             & 카페라떼와일드 200미리리터(컵)   & 조르지아오리지널 240미리리터(캔) & 육개장사발탕면 86g(컵)           & 핫개컨디션파워 100미리리터(병)   & 딸기속우유 310미리리터(팩)       & ⋯ & 카페라떼와일드 200미리리터(컵) & 핫개컨디션파워 100미리리터(병)   & 카페라떼와일드 200미리리터(컵) & 육개장사발탕면 86g(컵)         & 딸기속우유 310미리리터(팩)       & 핫개컨디션파워 100미리리터(병) & 구카카콜 250미리리터(캔)         & 핫개컨디션파워 100미리리터(병) & 딸기속우유 310미리리터(팩) & 조르지아오리지널 240미리리터(캔)\\\\\n",
       "\t3 & 비타528 100미리리터(병)          & 핫개컨디션파워 100미리리터(병) & 딸기속우유 310미리리터(팩)     & 세계콘 170미리리터             & 카페라떼와일드 200미리리터(컵) & 세계콘 170미리리터               & 비타528 100미리리터(병)          & 비타528 100미리리터(병)          & 핫개컨디션파워 100미리리터(병)   & 육개장사발탕면 86g(컵)           & ⋯ & 세계콘 170미리리터             & 비타528 100미리리터(병)          & 구카카콜 250미리리터(캔)       & 딸기속우유 310미리리터(팩)     & 조르지아오리지널 240미리리터(캔) & 세계콘 170미리리터             & 조르지아오리지널 240미리리터(캔) & 딸기속우유 310미리리터(팩)     & 육개장사발탕면 86g(컵)     & 구카카콜 250미리리터(캔)        \\\\\n",
       "\t4 & 카페라떼와일드 200미리리터(컵)   & 딸기속우유 310미리리터(팩)     & 구카카콜 250미리리터(캔)       & 딸기속우유 310미리리터(팩)     & 딸기속우유 310미리리터(팩)     & 비타528 100미리리터(병)          & 딸기속우유 310미리리터(팩)       & 조르지아오리지널 240미리리터(캔) & 조르지아오리지널 240미리리터(캔) & 조르지아오리지널 240미리리터(캔) & ⋯ & 구카카콜 250미리리터(캔)       & 카페라떼와일드 200미리리터(컵)   & 핫개컨디션파워 100미리리터(병) & 핫개컨디션파워 100미리리터(병) & 구카카콜 250미리리터(캔)         & 구카카콜 250미리리터(캔)       & 딸기속우유 310미리리터(팩)       & 핫개컨디션파워 100미리리터(병) & 세계콘 170미리리터         & 딸기속우유 310미리리터(팩)      \\\\\n",
       "\t5 & 조르지아오리지널 240미리리터(캔) & 육개장사발탕면 86g(컵)         & 비타528 100미리리터(병)        & 핫개컨디션파워 100미리리터(병) & 비타528 100미리리터(병)        & 구카카콜 250미리리터(캔)         & 핫개컨디션파워 100미리리터(병)   & 카페라떼와일드 200미리리터(컵)   & 육개장사발탕면 86g(컵)           & 카페라떼와일드 200미리리터(컵)   & ⋯ & 세계콘 170미리리터             & 조르지아오리지널 240미리리터(캔) & 카페라떼와일드 200미리리터(컵) & 비타528 100미리리터(병)        & 핫개컨디션파워 100미리리터(병)   & 카페라떼와일드 200미리리터(컵) & 카페라떼와일드 200미리리터(컵)   & 비타528 100미리리터(병)        & 딸기속우유 310미리리터(팩) & 핫개컨디션파워 100미리리터(병)  \\\\\n",
       "\t6 & 구카카콜 250미리리터(캔)         & 카페라떼와일드 200미리리터(컵) & 딸기속우유 310미리리터(팩)     & 세계콘 170미리리터             & 구카카콜 250미리리터(캔)       & 조르지아오리지널 240미리리터(캔) & 카페라떼와일드 200미리리터(컵)   & 구카카콜 250미리리터(캔)         & 육개장사발탕면 86g(컵)           & 세계콘 170미리리터               & ⋯ & 딸기속우유 310미리리터(팩)     & 구카카콜 250미리리터(캔)         & 육개장사발탕면 86g(컵)         & 육개장사발탕면 86g(컵)         & 카페라떼와일드 200미리리터(컵)   & 딸기속우유 310미리리터(팩)     & 조르지아오리지널 240미리리터(캔) & 비타528 100미리리터(병)        & 비타528 100미리리터(병)    & 카페라떼와일드 200미리리터(컵)  \\\\\n",
       "\\end{tabular}\n"
      ],
      "text/markdown": [
       "\n",
       "A data.frame: 6 × 2000\n",
       "\n",
       "| <!--/--> | V1 &lt;chr&gt; | V2 &lt;chr&gt; | V3 &lt;chr&gt; | V4 &lt;chr&gt; | V5 &lt;chr&gt; | V6 &lt;chr&gt; | V7 &lt;chr&gt; | V8 &lt;chr&gt; | V9 &lt;chr&gt; | V10 &lt;chr&gt; | ⋯ ⋯ | V1991 &lt;chr&gt; | V1992 &lt;chr&gt; | V1993 &lt;chr&gt; | V1994 &lt;chr&gt; | V1995 &lt;chr&gt; | V1996 &lt;chr&gt; | V1997 &lt;chr&gt; | V1998 &lt;chr&gt; | V1999 &lt;chr&gt; | V2000 &lt;chr&gt; |\n",
       "|---|---|---|---|---|---|---|---|---|---|---|---|---|---|---|---|---|---|---|---|---|---|\n",
       "| 1 | 비타528 100미리리터(병)          | 구카카콜 250미리리터(캔)       | 구카카콜 250미리리터(캔)       | 딸기속우유 310미리리터(팩)     | 비타528 100미리리터(병)        | 조르지아오리지널 240미리리터(캔) | 세계콘 170미리리터               | 구카카콜 250미리리터(캔)         | 카페라떼와일드 200미리리터(컵)   | 육개장사발탕면 86g(컵)           | ⋯ | 구카카콜 250미리리터(캔)       | 조르지아오리지널 240미리리터(캔) | 카페라떼와일드 200미리리터(컵) | 카페라떼와일드 200미리리터(컵) | 세계콘 170미리리터               | 딸기속우유 310미리리터(팩)     | 비타528 100미리리터(병)          | 핫개컨디션파워 100미리리터(병) | 세계콘 170미리리터         | 조르지아오리지널 240미리리터(캔) |\n",
       "| 2 | 세계콘 170미리리터               | 딸기속우유 310미리리터(팩)     | 카페라떼와일드 200미리리터(컵) | 딸기속우유 310미리리터(팩)     | 세계콘 170미리리터             | 카페라떼와일드 200미리리터(컵)   | 조르지아오리지널 240미리리터(캔) | 육개장사발탕면 86g(컵)           | 핫개컨디션파워 100미리리터(병)   | 딸기속우유 310미리리터(팩)       | ⋯ | 카페라떼와일드 200미리리터(컵) | 핫개컨디션파워 100미리리터(병)   | 카페라떼와일드 200미리리터(컵) | 육개장사발탕면 86g(컵)         | 딸기속우유 310미리리터(팩)       | 핫개컨디션파워 100미리리터(병) | 구카카콜 250미리리터(캔)         | 핫개컨디션파워 100미리리터(병) | 딸기속우유 310미리리터(팩) | 조르지아오리지널 240미리리터(캔) |\n",
       "| 3 | 비타528 100미리리터(병)          | 핫개컨디션파워 100미리리터(병) | 딸기속우유 310미리리터(팩)     | 세계콘 170미리리터             | 카페라떼와일드 200미리리터(컵) | 세계콘 170미리리터               | 비타528 100미리리터(병)          | 비타528 100미리리터(병)          | 핫개컨디션파워 100미리리터(병)   | 육개장사발탕면 86g(컵)           | ⋯ | 세계콘 170미리리터             | 비타528 100미리리터(병)          | 구카카콜 250미리리터(캔)       | 딸기속우유 310미리리터(팩)     | 조르지아오리지널 240미리리터(캔) | 세계콘 170미리리터             | 조르지아오리지널 240미리리터(캔) | 딸기속우유 310미리리터(팩)     | 육개장사발탕면 86g(컵)     | 구카카콜 250미리리터(캔)         |\n",
       "| 4 | 카페라떼와일드 200미리리터(컵)   | 딸기속우유 310미리리터(팩)     | 구카카콜 250미리리터(캔)       | 딸기속우유 310미리리터(팩)     | 딸기속우유 310미리리터(팩)     | 비타528 100미리리터(병)          | 딸기속우유 310미리리터(팩)       | 조르지아오리지널 240미리리터(캔) | 조르지아오리지널 240미리리터(캔) | 조르지아오리지널 240미리리터(캔) | ⋯ | 구카카콜 250미리리터(캔)       | 카페라떼와일드 200미리리터(컵)   | 핫개컨디션파워 100미리리터(병) | 핫개컨디션파워 100미리리터(병) | 구카카콜 250미리리터(캔)         | 구카카콜 250미리리터(캔)       | 딸기속우유 310미리리터(팩)       | 핫개컨디션파워 100미리리터(병) | 세계콘 170미리리터         | 딸기속우유 310미리리터(팩)       |\n",
       "| 5 | 조르지아오리지널 240미리리터(캔) | 육개장사발탕면 86g(컵)         | 비타528 100미리리터(병)        | 핫개컨디션파워 100미리리터(병) | 비타528 100미리리터(병)        | 구카카콜 250미리리터(캔)         | 핫개컨디션파워 100미리리터(병)   | 카페라떼와일드 200미리리터(컵)   | 육개장사발탕면 86g(컵)           | 카페라떼와일드 200미리리터(컵)   | ⋯ | 세계콘 170미리리터             | 조르지아오리지널 240미리리터(캔) | 카페라떼와일드 200미리리터(컵) | 비타528 100미리리터(병)        | 핫개컨디션파워 100미리리터(병)   | 카페라떼와일드 200미리리터(컵) | 카페라떼와일드 200미리리터(컵)   | 비타528 100미리리터(병)        | 딸기속우유 310미리리터(팩) | 핫개컨디션파워 100미리리터(병)   |\n",
       "| 6 | 구카카콜 250미리리터(캔)         | 카페라떼와일드 200미리리터(컵) | 딸기속우유 310미리리터(팩)     | 세계콘 170미리리터             | 구카카콜 250미리리터(캔)       | 조르지아오리지널 240미리리터(캔) | 카페라떼와일드 200미리리터(컵)   | 구카카콜 250미리리터(캔)         | 육개장사발탕면 86g(컵)           | 세계콘 170미리리터               | ⋯ | 딸기속우유 310미리리터(팩)     | 구카카콜 250미리리터(캔)         | 육개장사발탕면 86g(컵)         | 육개장사발탕면 86g(컵)         | 카페라떼와일드 200미리리터(컵)   | 딸기속우유 310미리리터(팩)     | 조르지아오리지널 240미리리터(캔) | 비타528 100미리리터(병)        | 비타528 100미리리터(병)    | 카페라떼와일드 200미리리터(컵)   |\n",
       "\n"
      ],
      "text/plain": [
       "  V1                               V2                            \n",
       "1 비타528 100미리리터(병)          구카카콜 250미리리터(캔)      \n",
       "2 세계콘 170미리리터               딸기속우유 310미리리터(팩)    \n",
       "3 비타528 100미리리터(병)          핫개컨디션파워 100미리리터(병)\n",
       "4 카페라떼와일드 200미리리터(컵)   딸기속우유 310미리리터(팩)    \n",
       "5 조르지아오리지널 240미리리터(캔) 육개장사발탕면 86g(컵)        \n",
       "6 구카카콜 250미리리터(캔)         카페라떼와일드 200미리리터(컵)\n",
       "  V3                             V4                            \n",
       "1 구카카콜 250미리리터(캔)       딸기속우유 310미리리터(팩)    \n",
       "2 카페라떼와일드 200미리리터(컵) 딸기속우유 310미리리터(팩)    \n",
       "3 딸기속우유 310미리리터(팩)     세계콘 170미리리터            \n",
       "4 구카카콜 250미리리터(캔)       딸기속우유 310미리리터(팩)    \n",
       "5 비타528 100미리리터(병)        핫개컨디션파워 100미리리터(병)\n",
       "6 딸기속우유 310미리리터(팩)     세계콘 170미리리터            \n",
       "  V5                             V6                              \n",
       "1 비타528 100미리리터(병)        조르지아오리지널 240미리리터(캔)\n",
       "2 세계콘 170미리리터             카페라떼와일드 200미리리터(컵)  \n",
       "3 카페라떼와일드 200미리리터(컵) 세계콘 170미리리터              \n",
       "4 딸기속우유 310미리리터(팩)     비타528 100미리리터(병)         \n",
       "5 비타528 100미리리터(병)        구카카콜 250미리리터(캔)        \n",
       "6 구카카콜 250미리리터(캔)       조르지아오리지널 240미리리터(캔)\n",
       "  V7                               V8                              \n",
       "1 세계콘 170미리리터               구카카콜 250미리리터(캔)        \n",
       "2 조르지아오리지널 240미리리터(캔) 육개장사발탕면 86g(컵)          \n",
       "3 비타528 100미리리터(병)          비타528 100미리리터(병)         \n",
       "4 딸기속우유 310미리리터(팩)       조르지아오리지널 240미리리터(캔)\n",
       "5 핫개컨디션파워 100미리리터(병)   카페라떼와일드 200미리리터(컵)  \n",
       "6 카페라떼와일드 200미리리터(컵)   구카카콜 250미리리터(캔)        \n",
       "  V9                               V10                              <U+22EF>       \n",
       "1 카페라떼와일드 200미리리터(컵)   육개장사발탕면 86g(컵)           <U+22EF>\n",
       "2 핫개컨디션파워 100미리리터(병)   딸기속우유 310미리리터(팩)       <U+22EF>\n",
       "3 핫개컨디션파워 100미리리터(병)   육개장사발탕면 86g(컵)           <U+22EF>\n",
       "4 조르지아오리지널 240미리리터(캔) 조르지아오리지널 240미리리터(캔) <U+22EF>\n",
       "5 육개장사발탕면 86g(컵)           카페라떼와일드 200미리리터(컵)   <U+22EF>\n",
       "6 육개장사발탕면 86g(컵)           세계콘 170미리리터               <U+22EF>\n",
       "  V1991                          V1992                           \n",
       "1 구카카콜 250미리리터(캔)       조르지아오리지널 240미리리터(캔)\n",
       "2 카페라떼와일드 200미리리터(컵) 핫개컨디션파워 100미리리터(병)  \n",
       "3 세계콘 170미리리터             비타528 100미리리터(병)         \n",
       "4 구카카콜 250미리리터(캔)       카페라떼와일드 200미리리터(컵)  \n",
       "5 세계콘 170미리리터             조르지아오리지널 240미리리터(캔)\n",
       "6 딸기속우유 310미리리터(팩)     구카카콜 250미리리터(캔)        \n",
       "  V1993                          V1994                         \n",
       "1 카페라떼와일드 200미리리터(컵) 카페라떼와일드 200미리리터(컵)\n",
       "2 카페라떼와일드 200미리리터(컵) 육개장사발탕면 86g(컵)        \n",
       "3 구카카콜 250미리리터(캔)       딸기속우유 310미리리터(팩)    \n",
       "4 핫개컨디션파워 100미리리터(병) 핫개컨디션파워 100미리리터(병)\n",
       "5 카페라떼와일드 200미리리터(컵) 비타528 100미리리터(병)       \n",
       "6 육개장사발탕면 86g(컵)         육개장사발탕면 86g(컵)        \n",
       "  V1995                            V1996                         \n",
       "1 세계콘 170미리리터               딸기속우유 310미리리터(팩)    \n",
       "2 딸기속우유 310미리리터(팩)       핫개컨디션파워 100미리리터(병)\n",
       "3 조르지아오리지널 240미리리터(캔) 세계콘 170미리리터            \n",
       "4 구카카콜 250미리리터(캔)         구카카콜 250미리리터(캔)      \n",
       "5 핫개컨디션파워 100미리리터(병)   카페라떼와일드 200미리리터(컵)\n",
       "6 카페라떼와일드 200미리리터(컵)   딸기속우유 310미리리터(팩)    \n",
       "  V1997                            V1998                         \n",
       "1 비타528 100미리리터(병)          핫개컨디션파워 100미리리터(병)\n",
       "2 구카카콜 250미리리터(캔)         핫개컨디션파워 100미리리터(병)\n",
       "3 조르지아오리지널 240미리리터(캔) 딸기속우유 310미리리터(팩)    \n",
       "4 딸기속우유 310미리리터(팩)       핫개컨디션파워 100미리리터(병)\n",
       "5 카페라떼와일드 200미리리터(컵)   비타528 100미리리터(병)       \n",
       "6 조르지아오리지널 240미리리터(캔) 비타528 100미리리터(병)       \n",
       "  V1999                      V2000                           \n",
       "1 세계콘 170미리리터         조르지아오리지널 240미리리터(캔)\n",
       "2 딸기속우유 310미리리터(팩) 조르지아오리지널 240미리리터(캔)\n",
       "3 육개장사발탕면 86g(컵)     구카카콜 250미리리터(캔)        \n",
       "4 세계콘 170미리리터         딸기속우유 310미리리터(팩)      \n",
       "5 딸기속우유 310미리리터(팩) 핫개컨디션파워 100미리리터(병)  \n",
       "6 비타528 100미리리터(병)    카페라떼와일드 200미리리터(컵)  "
      ]
     },
     "metadata": {},
     "output_type": "display_data"
    }
   ],
   "source": [
    "event <- read.csv('./rggagi/example_eventsale.csv'\n",
    "                  , header = F)\n",
    "head(event,10)"
   ]
  },
  {
   "cell_type": "code",
   "execution_count": 51,
   "id": "3b5b6d43",
   "metadata": {},
   "outputs": [],
   "source": [
    "event <- as.list(event)\n",
    "event  <- lapply(event, as.character)"
   ]
  },
  {
   "cell_type": "code",
   "execution_count": 52,
   "id": "a5409100",
   "metadata": {},
   "outputs": [
    {
     "data": {
      "text/html": [
       "<dl>\n",
       "\t<dt>$V1</dt>\n",
       "\t\t<dd><style>\n",
       ".list-inline {list-style: none; margin:0; padding: 0}\n",
       ".list-inline>li {display: inline-block}\n",
       ".list-inline>li:not(:last-child)::after {content: \"\\00b7\"; padding: 0 .5ex}\n",
       "</style>\n",
       "<ol class=list-inline><li>'비타528 100미리리터(병)'</li><li>'세계콘 170미리리터'</li><li>'비타528 100미리리터(병)'</li><li>'카페라떼와일드 200미리리터(컵)'</li><li>'조르지아오리지널 240미리리터(캔)'</li><li>'구카카콜 250미리리터(캔)'</li></ol>\n",
       "</dd>\n",
       "\t<dt>$V2</dt>\n",
       "\t\t<dd><style>\n",
       ".list-inline {list-style: none; margin:0; padding: 0}\n",
       ".list-inline>li {display: inline-block}\n",
       ".list-inline>li:not(:last-child)::after {content: \"\\00b7\"; padding: 0 .5ex}\n",
       "</style>\n",
       "<ol class=list-inline><li>'구카카콜 250미리리터(캔)'</li><li>'딸기속우유 310미리리터(팩)'</li><li>'핫개컨디션파워 100미리리터(병)'</li><li>'딸기속우유 310미리리터(팩)'</li><li>'육개장사발탕면 86g(컵)'</li><li>'카페라떼와일드 200미리리터(컵)'</li></ol>\n",
       "</dd>\n",
       "\t<dt>$V3</dt>\n",
       "\t\t<dd><style>\n",
       ".list-inline {list-style: none; margin:0; padding: 0}\n",
       ".list-inline>li {display: inline-block}\n",
       ".list-inline>li:not(:last-child)::after {content: \"\\00b7\"; padding: 0 .5ex}\n",
       "</style>\n",
       "<ol class=list-inline><li>'구카카콜 250미리리터(캔)'</li><li>'카페라떼와일드 200미리리터(컵)'</li><li>'딸기속우유 310미리리터(팩)'</li><li>'구카카콜 250미리리터(캔)'</li><li>'비타528 100미리리터(병)'</li><li>'딸기속우유 310미리리터(팩)'</li></ol>\n",
       "</dd>\n",
       "</dl>\n"
      ],
      "text/latex": [
       "\\begin{description}\n",
       "\\item[\\$V1] \\begin{enumerate*}\n",
       "\\item '비타528 100미리리터(병)'\n",
       "\\item '세계콘 170미리리터'\n",
       "\\item '비타528 100미리리터(병)'\n",
       "\\item '카페라떼와일드 200미리리터(컵)'\n",
       "\\item '조르지아오리지널 240미리리터(캔)'\n",
       "\\item '구카카콜 250미리리터(캔)'\n",
       "\\end{enumerate*}\n",
       "\n",
       "\\item[\\$V2] \\begin{enumerate*}\n",
       "\\item '구카카콜 250미리리터(캔)'\n",
       "\\item '딸기속우유 310미리리터(팩)'\n",
       "\\item '핫개컨디션파워 100미리리터(병)'\n",
       "\\item '딸기속우유 310미리리터(팩)'\n",
       "\\item '육개장사발탕면 86g(컵)'\n",
       "\\item '카페라떼와일드 200미리리터(컵)'\n",
       "\\end{enumerate*}\n",
       "\n",
       "\\item[\\$V3] \\begin{enumerate*}\n",
       "\\item '구카카콜 250미리리터(캔)'\n",
       "\\item '카페라떼와일드 200미리리터(컵)'\n",
       "\\item '딸기속우유 310미리리터(팩)'\n",
       "\\item '구카카콜 250미리리터(캔)'\n",
       "\\item '비타528 100미리리터(병)'\n",
       "\\item '딸기속우유 310미리리터(팩)'\n",
       "\\end{enumerate*}\n",
       "\n",
       "\\end{description}\n"
      ],
      "text/markdown": [
       "$V1\n",
       ":   1. '비타528 100미리리터(병)'\n",
       "2. '세계콘 170미리리터'\n",
       "3. '비타528 100미리리터(병)'\n",
       "4. '카페라떼와일드 200미리리터(컵)'\n",
       "5. '조르지아오리지널 240미리리터(캔)'\n",
       "6. '구카카콜 250미리리터(캔)'\n",
       "\n",
       "\n",
       "\n",
       "$V2\n",
       ":   1. '구카카콜 250미리리터(캔)'\n",
       "2. '딸기속우유 310미리리터(팩)'\n",
       "3. '핫개컨디션파워 100미리리터(병)'\n",
       "4. '딸기속우유 310미리리터(팩)'\n",
       "5. '육개장사발탕면 86g(컵)'\n",
       "6. '카페라떼와일드 200미리리터(컵)'\n",
       "\n",
       "\n",
       "\n",
       "$V3\n",
       ":   1. '구카카콜 250미리리터(캔)'\n",
       "2. '카페라떼와일드 200미리리터(컵)'\n",
       "3. '딸기속우유 310미리리터(팩)'\n",
       "4. '구카카콜 250미리리터(캔)'\n",
       "5. '비타528 100미리리터(병)'\n",
       "6. '딸기속우유 310미리리터(팩)'\n",
       "\n",
       "\n",
       "\n",
       "\n",
       "\n"
      ],
      "text/plain": [
       "$V1\n",
       "[1] \"비타528 100미리리터(병)\"          \"세계콘 170미리리터\"              \n",
       "[3] \"비타528 100미리리터(병)\"          \"카페라떼와일드 200미리리터(컵)\"  \n",
       "[5] \"조르지아오리지널 240미리리터(캔)\" \"구카카콜 250미리리터(캔)\"        \n",
       "\n",
       "$V2\n",
       "[1] \"구카카콜 250미리리터(캔)\"       \"딸기속우유 310미리리터(팩)\"    \n",
       "[3] \"핫개컨디션파워 100미리리터(병)\" \"딸기속우유 310미리리터(팩)\"    \n",
       "[5] \"육개장사발탕면 86g(컵)\"         \"카페라떼와일드 200미리리터(컵)\"\n",
       "\n",
       "$V3\n",
       "[1] \"구카카콜 250미리리터(캔)\"       \"카페라떼와일드 200미리리터(컵)\"\n",
       "[3] \"딸기속우유 310미리리터(팩)\"     \"구카카콜 250미리리터(캔)\"      \n",
       "[5] \"비타528 100미리리터(병)\"        \"딸기속우유 310미리리터(팩)\"    \n"
      ]
     },
     "metadata": {},
     "output_type": "display_data"
    }
   ],
   "source": [
    "head(event, 3)"
   ]
  },
  {
   "cell_type": "code",
   "execution_count": 53,
   "id": "4951aad9",
   "metadata": {},
   "outputs": [
    {
     "data": {
      "text/html": [
       "2000"
      ],
      "text/latex": [
       "2000"
      ],
      "text/markdown": [
       "2000"
      ],
      "text/plain": [
       "[1] 2000"
      ]
     },
     "metadata": {},
     "output_type": "display_data"
    }
   ],
   "source": [
    "length(event)"
   ]
  },
  {
   "cell_type": "code",
   "execution_count": 54,
   "id": "26030101",
   "metadata": {},
   "outputs": [],
   "source": [
    "s <- df[sample(nrow(df),1000),]"
   ]
  },
  {
   "cell_type": "code",
   "execution_count": 55,
   "id": "cc5b696c",
   "metadata": {},
   "outputs": [
    {
     "name": "stdout",
     "output_type": "stream",
     "text": [
      "'data.frame':\t1000 obs. of  5 variables:\n",
      " $ Date       : POSIXct, format: \"2009-03-23 17:52:13\" \"2015-10-22 11:52:32\" ...\n",
      " $ sellproduct: chr  \"제주도사다수 500미리리터(P)\" \"바나나멋우유 240미리리터(P)\" \"우유속에카푸치노 310미리리터(팩)\" \"참이슬로 360미리리터(병)\" ...\n",
      " $ company    : chr  \"㈜낭심\" \"㈜싱글벙글\" \"항상유업㈜\" \"㈜잔루\" ...\n",
      " $ payment    : chr  \"신용카드\" \"신용카드\" \"현금\" \"현금\" ...\n",
      " $ margin     : num  0.07 0.25 0.18 0.06 0.21 0.31 0.04 0.25 0.17 0.27 ...\n"
     ]
    }
   ],
   "source": [
    "str(s)"
   ]
  },
  {
   "cell_type": "code",
   "execution_count": 56,
   "id": "0277adc0",
   "metadata": {},
   "outputs": [
    {
     "data": {
      "text/html": [
       "<style>\n",
       ".list-inline {list-style: none; margin:0; padding: 0}\n",
       ".list-inline>li {display: inline-block}\n",
       ".list-inline>li:not(:last-child)::after {content: \"\\00b7\"; padding: 0 .5ex}\n",
       "</style>\n",
       "<ol class=list-inline><li>'구카카콜 250미리리터(캔)'</li><li>'세계콘 170미리리터'</li><li>'딸기속우유 310미리리터(팩)'</li><li>'조르지아오리지널 240미리리터(캔)'</li><li>'육개장사발탕면 86g(컵)'</li><li>'카페라떼와일드 200미리리터(컵)'</li><li>'핫개컨디션파워 100미리리터(병)'</li><li>'비타528 100미리리터(병)'</li></ol>\n"
      ],
      "text/latex": [
       "\\begin{enumerate*}\n",
       "\\item '구카카콜 250미리리터(캔)'\n",
       "\\item '세계콘 170미리리터'\n",
       "\\item '딸기속우유 310미리리터(팩)'\n",
       "\\item '조르지아오리지널 240미리리터(캔)'\n",
       "\\item '육개장사발탕면 86g(컵)'\n",
       "\\item '카페라떼와일드 200미리리터(컵)'\n",
       "\\item '핫개컨디션파워 100미리리터(병)'\n",
       "\\item '비타528 100미리리터(병)'\n",
       "\\end{enumerate*}\n"
      ],
      "text/markdown": [
       "1. '구카카콜 250미리리터(캔)'\n",
       "2. '세계콘 170미리리터'\n",
       "3. '딸기속우유 310미리리터(팩)'\n",
       "4. '조르지아오리지널 240미리리터(캔)'\n",
       "5. '육개장사발탕면 86g(컵)'\n",
       "6. '카페라떼와일드 200미리리터(컵)'\n",
       "7. '핫개컨디션파워 100미리리터(병)'\n",
       "8. '비타528 100미리리터(병)'\n",
       "\n",
       "\n"
      ],
      "text/plain": [
       "[1] \"구카카콜 250미리리터(캔)\"         \"세계콘 170미리리터\"              \n",
       "[3] \"딸기속우유 310미리리터(팩)\"       \"조르지아오리지널 240미리리터(캔)\"\n",
       "[5] \"육개장사발탕면 86g(컵)\"           \"카페라떼와일드 200미리리터(컵)\"  \n",
       "[7] \"핫개컨디션파워 100미리리터(병)\"   \"비타528 100미리리터(병)\"         "
      ]
     },
     "metadata": {},
     "output_type": "display_data"
    }
   ],
   "source": [
    "(eventlist)"
   ]
  },
  {
   "cell_type": "code",
   "execution_count": 57,
   "id": "2d1584a2",
   "metadata": {},
   "outputs": [],
   "source": [
    " s2 <- s  %>% filter(s$sellproduct == eventlist[1] \n",
    "              | s$sellproduct == eventlist[2]\n",
    "              | s$sellproduct == eventlist[3]\n",
    "              | s$sellproduct == eventlist[4]\n",
    "              | s$sellproduct == eventlist[5]\n",
    "              | s$sellproduct == eventlist[6]\n",
    "              | s$sellproduct == eventlist[7]\n",
    "              | s$sellproduct == eventlist[8]\n",
    "             )  %>% \n",
    "        group_by(sellproduct)  %>% \n",
    "        summarise(margin=min(margin))  %>% \n",
    "        mutate(marginTF=ifelse(margin > 0.13, 1, 0))\n"
   ]
  },
  {
   "cell_type": "code",
   "execution_count": 58,
   "id": "d2a3f3d9",
   "metadata": {},
   "outputs": [
    {
     "data": {
      "text/html": [
       "<table class=\"dataframe\">\n",
       "<caption>A tibble: 8 × 3</caption>\n",
       "<thead>\n",
       "\t<tr><th scope=col>sellproduct</th><th scope=col>margin</th><th scope=col>marginTF</th></tr>\n",
       "\t<tr><th scope=col>&lt;chr&gt;</th><th scope=col>&lt;dbl&gt;</th><th scope=col>&lt;dbl&gt;</th></tr>\n",
       "</thead>\n",
       "<tbody>\n",
       "\t<tr><td>구카카콜 250미리리터(캔)        </td><td>0.10</td><td>0</td></tr>\n",
       "\t<tr><td>딸기속우유 310미리리터(팩)      </td><td>0.11</td><td>0</td></tr>\n",
       "\t<tr><td>비타528 100미리리터(병)         </td><td>0.20</td><td>1</td></tr>\n",
       "\t<tr><td>세계콘 170미리리터              </td><td>0.15</td><td>1</td></tr>\n",
       "\t<tr><td>육개장사발탕면 86g(컵)          </td><td>0.28</td><td>1</td></tr>\n",
       "\t<tr><td>조르지아오리지널 240미리리터(캔)</td><td>0.27</td><td>1</td></tr>\n",
       "\t<tr><td>카페라떼와일드 200미리리터(컵)  </td><td>0.23</td><td>1</td></tr>\n",
       "\t<tr><td>핫개컨디션파워 100미리리터(병)  </td><td>0.30</td><td>1</td></tr>\n",
       "</tbody>\n",
       "</table>\n"
      ],
      "text/latex": [
       "A tibble: 8 × 3\n",
       "\\begin{tabular}{lll}\n",
       " sellproduct & margin & marginTF\\\\\n",
       " <chr> & <dbl> & <dbl>\\\\\n",
       "\\hline\n",
       "\t 구카카콜 250미리리터(캔)         & 0.10 & 0\\\\\n",
       "\t 딸기속우유 310미리리터(팩)       & 0.11 & 0\\\\\n",
       "\t 비타528 100미리리터(병)          & 0.20 & 1\\\\\n",
       "\t 세계콘 170미리리터               & 0.15 & 1\\\\\n",
       "\t 육개장사발탕면 86g(컵)           & 0.28 & 1\\\\\n",
       "\t 조르지아오리지널 240미리리터(캔) & 0.27 & 1\\\\\n",
       "\t 카페라떼와일드 200미리리터(컵)   & 0.23 & 1\\\\\n",
       "\t 핫개컨디션파워 100미리리터(병)   & 0.30 & 1\\\\\n",
       "\\end{tabular}\n"
      ],
      "text/markdown": [
       "\n",
       "A tibble: 8 × 3\n",
       "\n",
       "| sellproduct &lt;chr&gt; | margin &lt;dbl&gt; | marginTF &lt;dbl&gt; |\n",
       "|---|---|---|\n",
       "| 구카카콜 250미리리터(캔)         | 0.10 | 0 |\n",
       "| 딸기속우유 310미리리터(팩)       | 0.11 | 0 |\n",
       "| 비타528 100미리리터(병)          | 0.20 | 1 |\n",
       "| 세계콘 170미리리터               | 0.15 | 1 |\n",
       "| 육개장사발탕면 86g(컵)           | 0.28 | 1 |\n",
       "| 조르지아오리지널 240미리리터(캔) | 0.27 | 1 |\n",
       "| 카페라떼와일드 200미리리터(컵)   | 0.23 | 1 |\n",
       "| 핫개컨디션파워 100미리리터(병)   | 0.30 | 1 |\n",
       "\n"
      ],
      "text/plain": [
       "  sellproduct                      margin marginTF\n",
       "1 구카카콜 250미리리터(캔)         0.10   0       \n",
       "2 딸기속우유 310미리리터(팩)       0.11   0       \n",
       "3 비타528 100미리리터(병)          0.20   1       \n",
       "4 세계콘 170미리리터               0.15   1       \n",
       "5 육개장사발탕면 86g(컵)           0.28   1       \n",
       "6 조르지아오리지널 240미리리터(캔) 0.27   1       \n",
       "7 카페라떼와일드 200미리리터(컵)   0.23   1       \n",
       "8 핫개컨디션파워 100미리리터(병)   0.30   1       "
      ]
     },
     "metadata": {},
     "output_type": "display_data"
    }
   ],
   "source": [
    "(s2)"
   ]
  },
  {
   "cell_type": "code",
   "execution_count": 59,
   "id": "e37164e8",
   "metadata": {
    "scrolled": true
   },
   "outputs": [
    {
     "name": "stdout",
     "output_type": "stream",
     "text": [
      "package 'gtools' successfully unpacked and MD5 sums checked\n"
     ]
    },
    {
     "name": "stderr",
     "output_type": "stream",
     "text": [
      "Warning message:\n",
      "\"cannot remove prior installation of package 'gtools'\"\n",
      "Warning message in file.copy(savedcopy, lib, recursive = TRUE):\n",
      "\"C:\\Users\\NOTEBOOK\\.conda\\envs\\py38\\Lib\\R\\library\\00LOCK\\gtools\\libs\\x64\\gtools.dll를 C:\\Users\\NOTEBOOK\\.conda\\envs\\py38\\Lib\\R\\library\\gtools\\libs\\x64\\gtools.dll로 복사하는데 문제가 발생했습니다: Permission denied\"\n",
      "Warning message:\n",
      "\"restored 'gtools'\"\n"
     ]
    },
    {
     "name": "stdout",
     "output_type": "stream",
     "text": [
      "\n",
      "The downloaded binary packages are in\n",
      "\tC:\\Users\\NOTEBOOK\\AppData\\Local\\Temp\\RtmpKoMlTJ\\downloaded_packages\n"
     ]
    }
   ],
   "source": [
    "install.packages('gtools')"
   ]
  },
  {
   "cell_type": "code",
   "execution_count": 60,
   "id": "a0a6e939",
   "metadata": {},
   "outputs": [],
   "source": [
    "library('gtools')"
   ]
  },
  {
   "cell_type": "code",
   "execution_count": 61,
   "id": "5ee87861",
   "metadata": {},
   "outputs": [],
   "source": [
    "com <- combinations(length(eventlist), 6, eventlist\n",
    "             , repeats.allowed = T)"
   ]
  },
  {
   "cell_type": "code",
   "execution_count": 62,
   "id": "0ae1211a",
   "metadata": {
    "scrolled": true
   },
   "outputs": [
    {
     "data": {
      "text/html": [
       "<table class=\"dataframe\">\n",
       "<caption>A matrix: 3 × 6 of type chr</caption>\n",
       "<tbody>\n",
       "\t<tr><td>구카카콜 250미리리터(캔)</td><td>구카카콜 250미리리터(캔)</td><td>구카카콜 250미리리터(캔)</td><td>구카카콜 250미리리터(캔)</td><td>구카카콜 250미리리터(캔)</td><td>구카카콜 250미리리터(캔)  </td></tr>\n",
       "\t<tr><td>구카카콜 250미리리터(캔)</td><td>구카카콜 250미리리터(캔)</td><td>구카카콜 250미리리터(캔)</td><td>구카카콜 250미리리터(캔)</td><td>구카카콜 250미리리터(캔)</td><td>딸기속우유 310미리리터(팩)</td></tr>\n",
       "\t<tr><td>구카카콜 250미리리터(캔)</td><td>구카카콜 250미리리터(캔)</td><td>구카카콜 250미리리터(캔)</td><td>구카카콜 250미리리터(캔)</td><td>구카카콜 250미리리터(캔)</td><td>비타528 100미리리터(병)   </td></tr>\n",
       "</tbody>\n",
       "</table>\n"
      ],
      "text/latex": [
       "A matrix: 3 × 6 of type chr\n",
       "\\begin{tabular}{llllll}\n",
       "\t 구카카콜 250미리리터(캔) & 구카카콜 250미리리터(캔) & 구카카콜 250미리리터(캔) & 구카카콜 250미리리터(캔) & 구카카콜 250미리리터(캔) & 구카카콜 250미리리터(캔)  \\\\\n",
       "\t 구카카콜 250미리리터(캔) & 구카카콜 250미리리터(캔) & 구카카콜 250미리리터(캔) & 구카카콜 250미리리터(캔) & 구카카콜 250미리리터(캔) & 딸기속우유 310미리리터(팩)\\\\\n",
       "\t 구카카콜 250미리리터(캔) & 구카카콜 250미리리터(캔) & 구카카콜 250미리리터(캔) & 구카카콜 250미리리터(캔) & 구카카콜 250미리리터(캔) & 비타528 100미리리터(병)   \\\\\n",
       "\\end{tabular}\n"
      ],
      "text/markdown": [
       "\n",
       "A matrix: 3 × 6 of type chr\n",
       "\n",
       "| 구카카콜 250미리리터(캔) | 구카카콜 250미리리터(캔) | 구카카콜 250미리리터(캔) | 구카카콜 250미리리터(캔) | 구카카콜 250미리리터(캔) | 구카카콜 250미리리터(캔)   |\n",
       "| 구카카콜 250미리리터(캔) | 구카카콜 250미리리터(캔) | 구카카콜 250미리리터(캔) | 구카카콜 250미리리터(캔) | 구카카콜 250미리리터(캔) | 딸기속우유 310미리리터(팩) |\n",
       "| 구카카콜 250미리리터(캔) | 구카카콜 250미리리터(캔) | 구카카콜 250미리리터(캔) | 구카카콜 250미리리터(캔) | 구카카콜 250미리리터(캔) | 비타528 100미리리터(병)    |\n",
       "\n"
      ],
      "text/plain": [
       "     [,1]                     [,2]                     [,3]                    \n",
       "[1,] 구카카콜 250미리리터(캔) 구카카콜 250미리리터(캔) 구카카콜 250미리리터(캔)\n",
       "[2,] 구카카콜 250미리리터(캔) 구카카콜 250미리리터(캔) 구카카콜 250미리리터(캔)\n",
       "[3,] 구카카콜 250미리리터(캔) 구카카콜 250미리리터(캔) 구카카콜 250미리리터(캔)\n",
       "     [,4]                     [,5]                    \n",
       "[1,] 구카카콜 250미리리터(캔) 구카카콜 250미리리터(캔)\n",
       "[2,] 구카카콜 250미리리터(캔) 구카카콜 250미리리터(캔)\n",
       "[3,] 구카카콜 250미리리터(캔) 구카카콜 250미리리터(캔)\n",
       "     [,6]                      \n",
       "[1,] 구카카콜 250미리리터(캔)  \n",
       "[2,] 딸기속우유 310미리리터(팩)\n",
       "[3,] 비타528 100미리리터(병)   "
      ]
     },
     "metadata": {},
     "output_type": "display_data"
    }
   ],
   "source": [
    "head(com,3)"
   ]
  },
  {
   "cell_type": "code",
   "execution_count": 63,
   "id": "abb696bf",
   "metadata": {},
   "outputs": [],
   "source": [
    "c <- NULL\n",
    "for(j in 1:length(event)){\n",
    "    #print(event[j])\n",
    "    for(i in 1:nrow(com)){\n",
    "        if(all(event[[j]] %in% com[i,])){\n",
    "            c <- c(c,i)\n",
    "            break()\n",
    "        }\n",
    "    }\n",
    "}"
   ]
  },
  {
   "cell_type": "code",
   "execution_count": 64,
   "id": "26aff0a0",
   "metadata": {},
   "outputs": [
    {
     "data": {
      "text/html": [
       "<style>\n",
       ".list-inline {list-style: none; margin:0; padding: 0}\n",
       ".list-inline>li {display: inline-block}\n",
       ".list-inline>li:not(:last-child)::after {content: \"\\00b7\"; padding: 0 .5ex}\n",
       "</style>\n",
       "<ol class=list-inline><li>236</li><li>193</li><li>48</li><li>54</li><li>158</li><li>236</li><li>1088</li><li>246</li><li>310</li><li>491</li></ol>\n"
      ],
      "text/latex": [
       "\\begin{enumerate*}\n",
       "\\item 236\n",
       "\\item 193\n",
       "\\item 48\n",
       "\\item 54\n",
       "\\item 158\n",
       "\\item 236\n",
       "\\item 1088\n",
       "\\item 246\n",
       "\\item 310\n",
       "\\item 491\n",
       "\\end{enumerate*}\n"
      ],
      "text/markdown": [
       "1. 236\n",
       "2. 193\n",
       "3. 48\n",
       "4. 54\n",
       "5. 158\n",
       "6. 236\n",
       "7. 1088\n",
       "8. 246\n",
       "9. 310\n",
       "10. 491\n",
       "\n",
       "\n"
      ],
      "text/plain": [
       " [1]  236  193   48   54  158  236 1088  246  310  491"
      ]
     },
     "metadata": {},
     "output_type": "display_data"
    }
   ],
   "source": [
    "# 판매\n",
    "head(c,10)"
   ]
  },
  {
   "cell_type": "code",
   "execution_count": 65,
   "id": "b34398e9",
   "metadata": {},
   "outputs": [
    {
     "data": {
      "text/html": [
       "2000"
      ],
      "text/latex": [
       "2000"
      ],
      "text/markdown": [
       "2000"
      ],
      "text/plain": [
       "[1] 2000"
      ]
     },
     "metadata": {},
     "output_type": "display_data"
    }
   ],
   "source": [
    "length(c)"
   ]
  },
  {
   "cell_type": "code",
   "execution_count": 66,
   "id": "3f75dc8b",
   "metadata": {},
   "outputs": [
    {
     "name": "stderr",
     "output_type": "stream",
     "text": [
      "Warning message in event[[1]] %in% com[1121212121212121, ]:\n",
      "\"NAs introduced by coercion to integer range\"\n"
     ]
    },
    {
     "data": {
      "text/html": [
       "FALSE"
      ],
      "text/latex": [
       "FALSE"
      ],
      "text/markdown": [
       "FALSE"
      ],
      "text/plain": [
       "[1] FALSE"
      ]
     },
     "metadata": {},
     "output_type": "display_data"
    }
   ],
   "source": [
    "all(event[[1]] %in% com[1121212121212121,])"
   ]
  },
  {
   "cell_type": "code",
   "execution_count": 67,
   "id": "27895ca9",
   "metadata": {
    "scrolled": true
   },
   "outputs": [
    {
     "data": {
      "text/html": [
       "<style>\n",
       ".list-inline {list-style: none; margin:0; padding: 0}\n",
       ".list-inline>li {display: inline-block}\n",
       ".list-inline>li:not(:last-child)::after {content: \"\\00b7\"; padding: 0 .5ex}\n",
       "</style>\n",
       "<ol class=list-inline><li>'구카카콜 250미리리터(캔)'</li><li>'세계콘 170미리리터'</li><li>'딸기속우유 310미리리터(팩)'</li><li>'조르지아오리지널 240미리리터(캔)'</li><li>'육개장사발탕면 86g(컵)'</li><li>'카페라떼와일드 200미리리터(컵)'</li><li>'핫개컨디션파워 100미리리터(병)'</li><li>'비타528 100미리리터(병)'</li></ol>\n"
      ],
      "text/latex": [
       "\\begin{enumerate*}\n",
       "\\item '구카카콜 250미리리터(캔)'\n",
       "\\item '세계콘 170미리리터'\n",
       "\\item '딸기속우유 310미리리터(팩)'\n",
       "\\item '조르지아오리지널 240미리리터(캔)'\n",
       "\\item '육개장사발탕면 86g(컵)'\n",
       "\\item '카페라떼와일드 200미리리터(컵)'\n",
       "\\item '핫개컨디션파워 100미리리터(병)'\n",
       "\\item '비타528 100미리리터(병)'\n",
       "\\end{enumerate*}\n"
      ],
      "text/markdown": [
       "1. '구카카콜 250미리리터(캔)'\n",
       "2. '세계콘 170미리리터'\n",
       "3. '딸기속우유 310미리리터(팩)'\n",
       "4. '조르지아오리지널 240미리리터(캔)'\n",
       "5. '육개장사발탕면 86g(컵)'\n",
       "6. '카페라떼와일드 200미리리터(컵)'\n",
       "7. '핫개컨디션파워 100미리리터(병)'\n",
       "8. '비타528 100미리리터(병)'\n",
       "\n",
       "\n"
      ],
      "text/plain": [
       "[1] \"구카카콜 250미리리터(캔)\"         \"세계콘 170미리리터\"              \n",
       "[3] \"딸기속우유 310미리리터(팩)\"       \"조르지아오리지널 240미리리터(캔)\"\n",
       "[5] \"육개장사발탕면 86g(컵)\"           \"카페라떼와일드 200미리리터(컵)\"  \n",
       "[7] \"핫개컨디션파워 100미리리터(병)\"   \"비타528 100미리리터(병)\"         "
      ]
     },
     "metadata": {},
     "output_type": "display_data"
    },
    {
     "data": {
      "text/html": [
       "<table class=\"dataframe\">\n",
       "<caption>A tibble: 8 × 3</caption>\n",
       "<thead>\n",
       "\t<tr><th scope=col>sellproduct</th><th scope=col>margin</th><th scope=col>marginTF</th></tr>\n",
       "\t<tr><th scope=col>&lt;chr&gt;</th><th scope=col>&lt;dbl&gt;</th><th scope=col>&lt;dbl&gt;</th></tr>\n",
       "</thead>\n",
       "<tbody>\n",
       "\t<tr><td>구카카콜 250미리리터(캔)        </td><td>0.10</td><td>0</td></tr>\n",
       "\t<tr><td>딸기속우유 310미리리터(팩)      </td><td>0.11</td><td>0</td></tr>\n",
       "\t<tr><td>비타528 100미리리터(병)         </td><td>0.20</td><td>1</td></tr>\n",
       "\t<tr><td>세계콘 170미리리터              </td><td>0.15</td><td>1</td></tr>\n",
       "\t<tr><td>육개장사발탕면 86g(컵)          </td><td>0.28</td><td>1</td></tr>\n",
       "\t<tr><td>조르지아오리지널 240미리리터(캔)</td><td>0.27</td><td>1</td></tr>\n",
       "\t<tr><td>카페라떼와일드 200미리리터(컵)  </td><td>0.23</td><td>1</td></tr>\n",
       "\t<tr><td>핫개컨디션파워 100미리리터(병)  </td><td>0.30</td><td>1</td></tr>\n",
       "</tbody>\n",
       "</table>\n"
      ],
      "text/latex": [
       "A tibble: 8 × 3\n",
       "\\begin{tabular}{lll}\n",
       " sellproduct & margin & marginTF\\\\\n",
       " <chr> & <dbl> & <dbl>\\\\\n",
       "\\hline\n",
       "\t 구카카콜 250미리리터(캔)         & 0.10 & 0\\\\\n",
       "\t 딸기속우유 310미리리터(팩)       & 0.11 & 0\\\\\n",
       "\t 비타528 100미리리터(병)          & 0.20 & 1\\\\\n",
       "\t 세계콘 170미리리터               & 0.15 & 1\\\\\n",
       "\t 육개장사발탕면 86g(컵)           & 0.28 & 1\\\\\n",
       "\t 조르지아오리지널 240미리리터(캔) & 0.27 & 1\\\\\n",
       "\t 카페라떼와일드 200미리리터(컵)   & 0.23 & 1\\\\\n",
       "\t 핫개컨디션파워 100미리리터(병)   & 0.30 & 1\\\\\n",
       "\\end{tabular}\n"
      ],
      "text/markdown": [
       "\n",
       "A tibble: 8 × 3\n",
       "\n",
       "| sellproduct &lt;chr&gt; | margin &lt;dbl&gt; | marginTF &lt;dbl&gt; |\n",
       "|---|---|---|\n",
       "| 구카카콜 250미리리터(캔)         | 0.10 | 0 |\n",
       "| 딸기속우유 310미리리터(팩)       | 0.11 | 0 |\n",
       "| 비타528 100미리리터(병)          | 0.20 | 1 |\n",
       "| 세계콘 170미리리터               | 0.15 | 1 |\n",
       "| 육개장사발탕면 86g(컵)           | 0.28 | 1 |\n",
       "| 조르지아오리지널 240미리리터(캔) | 0.27 | 1 |\n",
       "| 카페라떼와일드 200미리리터(컵)   | 0.23 | 1 |\n",
       "| 핫개컨디션파워 100미리리터(병)   | 0.30 | 1 |\n",
       "\n"
      ],
      "text/plain": [
       "  sellproduct                      margin marginTF\n",
       "1 구카카콜 250미리리터(캔)         0.10   0       \n",
       "2 딸기속우유 310미리리터(팩)       0.11   0       \n",
       "3 비타528 100미리리터(병)          0.20   1       \n",
       "4 세계콘 170미리리터               0.15   1       \n",
       "5 육개장사발탕면 86g(컵)           0.28   1       \n",
       "6 조르지아오리지널 240미리리터(캔) 0.27   1       \n",
       "7 카페라떼와일드 200미리리터(컵)   0.23   1       \n",
       "8 핫개컨디션파워 100미리리터(병)   0.30   1       "
      ]
     },
     "metadata": {},
     "output_type": "display_data"
    }
   ],
   "source": [
    "eventlist\n",
    "s2"
   ]
  },
  {
   "cell_type": "code",
   "execution_count": 68,
   "id": "9af52c76",
   "metadata": {},
   "outputs": [],
   "source": [
    "com2 <- com"
   ]
  },
  {
   "cell_type": "code",
   "execution_count": 69,
   "id": "cfe1e55f",
   "metadata": {},
   "outputs": [],
   "source": [
    "for (i in 1:length(eventlist)){\n",
    "    com2[com == eventlist[i]] <- s2[s2$sellproduct == eventlist[i],]$marginTF\n",
    "}"
   ]
  },
  {
   "cell_type": "code",
   "execution_count": 70,
   "id": "a30345f6",
   "metadata": {},
   "outputs": [
    {
     "ename": "ERROR",
     "evalue": "Error in `[.tbl_df`(s2, S2$sellproduct == eventlist[i], ): 객체 'S2'를 찾을 수 없습니다\n",
     "output_type": "error",
     "traceback": [
      "Error in `[.tbl_df`(s2, S2$sellproduct == eventlist[i], ): 객체 'S2'를 찾을 수 없습니다\nTraceback:\n",
      "1. s2[S2$sellproduct == eventlist[i], ]",
      "2. `[.tbl_df`(s2, S2$sellproduct == eventlist[i], )"
     ]
    }
   ],
   "source": [
    "com2[com == eventlist[i]] <- s2[S2$sellproduct == eventlist[i],]$marginTF"
   ]
  },
  {
   "cell_type": "code",
   "execution_count": 71,
   "id": "6c279406",
   "metadata": {
    "scrolled": true
   },
   "outputs": [
    {
     "data": {
      "text/html": [
       "<table class=\"dataframe\">\n",
       "<caption>A matrix: 6 × 6 of type chr</caption>\n",
       "<tbody>\n",
       "\t<tr><td>0</td><td>0</td><td>0</td><td>0</td><td>0</td><td>0</td></tr>\n",
       "\t<tr><td>0</td><td>0</td><td>0</td><td>0</td><td>0</td><td>0</td></tr>\n",
       "\t<tr><td>0</td><td>0</td><td>0</td><td>0</td><td>0</td><td>1</td></tr>\n",
       "\t<tr><td>0</td><td>0</td><td>0</td><td>0</td><td>0</td><td>1</td></tr>\n",
       "\t<tr><td>0</td><td>0</td><td>0</td><td>0</td><td>0</td><td>1</td></tr>\n",
       "\t<tr><td>0</td><td>0</td><td>0</td><td>0</td><td>0</td><td>1</td></tr>\n",
       "</tbody>\n",
       "</table>\n"
      ],
      "text/latex": [
       "A matrix: 6 × 6 of type chr\n",
       "\\begin{tabular}{llllll}\n",
       "\t 0 & 0 & 0 & 0 & 0 & 0\\\\\n",
       "\t 0 & 0 & 0 & 0 & 0 & 0\\\\\n",
       "\t 0 & 0 & 0 & 0 & 0 & 1\\\\\n",
       "\t 0 & 0 & 0 & 0 & 0 & 1\\\\\n",
       "\t 0 & 0 & 0 & 0 & 0 & 1\\\\\n",
       "\t 0 & 0 & 0 & 0 & 0 & 1\\\\\n",
       "\\end{tabular}\n"
      ],
      "text/markdown": [
       "\n",
       "A matrix: 6 × 6 of type chr\n",
       "\n",
       "| 0 | 0 | 0 | 0 | 0 | 0 |\n",
       "| 0 | 0 | 0 | 0 | 0 | 0 |\n",
       "| 0 | 0 | 0 | 0 | 0 | 1 |\n",
       "| 0 | 0 | 0 | 0 | 0 | 1 |\n",
       "| 0 | 0 | 0 | 0 | 0 | 1 |\n",
       "| 0 | 0 | 0 | 0 | 0 | 1 |\n",
       "\n"
      ],
      "text/plain": [
       "     [,1] [,2] [,3] [,4] [,5] [,6]\n",
       "[1,] 0    0    0    0    0    0   \n",
       "[2,] 0    0    0    0    0    0   \n",
       "[3,] 0    0    0    0    0    1   \n",
       "[4,] 0    0    0    0    0    1   \n",
       "[5,] 0    0    0    0    0    1   \n",
       "[6,] 0    0    0    0    0    1   "
      ]
     },
     "metadata": {},
     "output_type": "display_data"
    },
    {
     "data": {
      "text/html": [
       "<table class=\"dataframe\">\n",
       "<caption>A matrix: 6 × 6 of type chr</caption>\n",
       "<tbody>\n",
       "\t<tr><th scope=row>[1711,]</th><td>1</td><td>1</td><td>1</td><td>1</td><td>1</td><td>1</td></tr>\n",
       "\t<tr><th scope=row>[1712,]</th><td>1</td><td>1</td><td>1</td><td>1</td><td>1</td><td>1</td></tr>\n",
       "\t<tr><th scope=row>[1713,]</th><td>1</td><td>1</td><td>1</td><td>1</td><td>1</td><td>1</td></tr>\n",
       "\t<tr><th scope=row>[1714,]</th><td>1</td><td>1</td><td>1</td><td>1</td><td>1</td><td>1</td></tr>\n",
       "\t<tr><th scope=row>[1715,]</th><td>1</td><td>1</td><td>1</td><td>1</td><td>1</td><td>1</td></tr>\n",
       "\t<tr><th scope=row>[1716,]</th><td>1</td><td>1</td><td>1</td><td>1</td><td>1</td><td>1</td></tr>\n",
       "</tbody>\n",
       "</table>\n"
      ],
      "text/latex": [
       "A matrix: 6 × 6 of type chr\n",
       "\\begin{tabular}{r|llllll}\n",
       "\t{[}1711,{]} & 1 & 1 & 1 & 1 & 1 & 1\\\\\n",
       "\t{[}1712,{]} & 1 & 1 & 1 & 1 & 1 & 1\\\\\n",
       "\t{[}1713,{]} & 1 & 1 & 1 & 1 & 1 & 1\\\\\n",
       "\t{[}1714,{]} & 1 & 1 & 1 & 1 & 1 & 1\\\\\n",
       "\t{[}1715,{]} & 1 & 1 & 1 & 1 & 1 & 1\\\\\n",
       "\t{[}1716,{]} & 1 & 1 & 1 & 1 & 1 & 1\\\\\n",
       "\\end{tabular}\n"
      ],
      "text/markdown": [
       "\n",
       "A matrix: 6 × 6 of type chr\n",
       "\n",
       "| [1711,] | 1 | 1 | 1 | 1 | 1 | 1 |\n",
       "| [1712,] | 1 | 1 | 1 | 1 | 1 | 1 |\n",
       "| [1713,] | 1 | 1 | 1 | 1 | 1 | 1 |\n",
       "| [1714,] | 1 | 1 | 1 | 1 | 1 | 1 |\n",
       "| [1715,] | 1 | 1 | 1 | 1 | 1 | 1 |\n",
       "| [1716,] | 1 | 1 | 1 | 1 | 1 | 1 |\n",
       "\n"
      ],
      "text/plain": [
       "        [,1] [,2] [,3] [,4] [,5] [,6]\n",
       "[1711,] 1    1    1    1    1    1   \n",
       "[1712,] 1    1    1    1    1    1   \n",
       "[1713,] 1    1    1    1    1    1   \n",
       "[1714,] 1    1    1    1    1    1   \n",
       "[1715,] 1    1    1    1    1    1   \n",
       "[1716,] 1    1    1    1    1    1   "
      ]
     },
     "metadata": {},
     "output_type": "display_data"
    }
   ],
   "source": [
    "head(com2)\n",
    "tail(com2)"
   ]
  },
  {
   "cell_type": "code",
   "execution_count": 72,
   "id": "6b1e8b55",
   "metadata": {
    "scrolled": true
   },
   "outputs": [
    {
     "data": {
      "text/html": [
       "<table class=\"dataframe\">\n",
       "<caption>A tibble: 8 × 3</caption>\n",
       "<thead>\n",
       "\t<tr><th scope=col>sellproduct</th><th scope=col>margin</th><th scope=col>marginTF</th></tr>\n",
       "\t<tr><th scope=col>&lt;chr&gt;</th><th scope=col>&lt;dbl&gt;</th><th scope=col>&lt;dbl&gt;</th></tr>\n",
       "</thead>\n",
       "<tbody>\n",
       "\t<tr><td>구카카콜 250미리리터(캔)        </td><td>0.10</td><td>0</td></tr>\n",
       "\t<tr><td>딸기속우유 310미리리터(팩)      </td><td>0.11</td><td>0</td></tr>\n",
       "\t<tr><td>비타528 100미리리터(병)         </td><td>0.20</td><td>1</td></tr>\n",
       "\t<tr><td>세계콘 170미리리터              </td><td>0.15</td><td>1</td></tr>\n",
       "\t<tr><td>육개장사발탕면 86g(컵)          </td><td>0.28</td><td>1</td></tr>\n",
       "\t<tr><td>조르지아오리지널 240미리리터(캔)</td><td>0.27</td><td>1</td></tr>\n",
       "\t<tr><td>카페라떼와일드 200미리리터(컵)  </td><td>0.23</td><td>1</td></tr>\n",
       "\t<tr><td>핫개컨디션파워 100미리리터(병)  </td><td>0.30</td><td>1</td></tr>\n",
       "</tbody>\n",
       "</table>\n"
      ],
      "text/latex": [
       "A tibble: 8 × 3\n",
       "\\begin{tabular}{lll}\n",
       " sellproduct & margin & marginTF\\\\\n",
       " <chr> & <dbl> & <dbl>\\\\\n",
       "\\hline\n",
       "\t 구카카콜 250미리리터(캔)         & 0.10 & 0\\\\\n",
       "\t 딸기속우유 310미리리터(팩)       & 0.11 & 0\\\\\n",
       "\t 비타528 100미리리터(병)          & 0.20 & 1\\\\\n",
       "\t 세계콘 170미리리터               & 0.15 & 1\\\\\n",
       "\t 육개장사발탕면 86g(컵)           & 0.28 & 1\\\\\n",
       "\t 조르지아오리지널 240미리리터(캔) & 0.27 & 1\\\\\n",
       "\t 카페라떼와일드 200미리리터(컵)   & 0.23 & 1\\\\\n",
       "\t 핫개컨디션파워 100미리리터(병)   & 0.30 & 1\\\\\n",
       "\\end{tabular}\n"
      ],
      "text/markdown": [
       "\n",
       "A tibble: 8 × 3\n",
       "\n",
       "| sellproduct &lt;chr&gt; | margin &lt;dbl&gt; | marginTF &lt;dbl&gt; |\n",
       "|---|---|---|\n",
       "| 구카카콜 250미리리터(캔)         | 0.10 | 0 |\n",
       "| 딸기속우유 310미리리터(팩)       | 0.11 | 0 |\n",
       "| 비타528 100미리리터(병)          | 0.20 | 1 |\n",
       "| 세계콘 170미리리터               | 0.15 | 1 |\n",
       "| 육개장사발탕면 86g(컵)           | 0.28 | 1 |\n",
       "| 조르지아오리지널 240미리리터(캔) | 0.27 | 1 |\n",
       "| 카페라떼와일드 200미리리터(컵)   | 0.23 | 1 |\n",
       "| 핫개컨디션파워 100미리리터(병)   | 0.30 | 1 |\n",
       "\n"
      ],
      "text/plain": [
       "  sellproduct                      margin marginTF\n",
       "1 구카카콜 250미리리터(캔)         0.10   0       \n",
       "2 딸기속우유 310미리리터(팩)       0.11   0       \n",
       "3 비타528 100미리리터(병)          0.20   1       \n",
       "4 세계콘 170미리리터               0.15   1       \n",
       "5 육개장사발탕면 86g(컵)           0.28   1       \n",
       "6 조르지아오리지널 240미리리터(캔) 0.27   1       \n",
       "7 카페라떼와일드 200미리리터(컵)   0.23   1       \n",
       "8 핫개컨디션파워 100미리리터(병)   0.30   1       "
      ]
     },
     "metadata": {},
     "output_type": "display_data"
    }
   ],
   "source": [
    "s2"
   ]
  },
  {
   "cell_type": "code",
   "execution_count": 73,
   "id": "7aa47915",
   "metadata": {},
   "outputs": [],
   "source": [
    "com3 <- apply(com2, 2, as.integer)"
   ]
  },
  {
   "cell_type": "code",
   "execution_count": 74,
   "id": "cd96bdba",
   "metadata": {},
   "outputs": [
    {
     "data": {
      "text/html": [
       "<table class=\"dataframe\">\n",
       "<caption>A matrix: 6 × 6 of type int</caption>\n",
       "<tbody>\n",
       "\t<tr><td>0</td><td>0</td><td>0</td><td>0</td><td>0</td><td>0</td></tr>\n",
       "\t<tr><td>0</td><td>0</td><td>0</td><td>0</td><td>0</td><td>0</td></tr>\n",
       "\t<tr><td>0</td><td>0</td><td>0</td><td>0</td><td>0</td><td>1</td></tr>\n",
       "\t<tr><td>0</td><td>0</td><td>0</td><td>0</td><td>0</td><td>1</td></tr>\n",
       "\t<tr><td>0</td><td>0</td><td>0</td><td>0</td><td>0</td><td>1</td></tr>\n",
       "\t<tr><td>0</td><td>0</td><td>0</td><td>0</td><td>0</td><td>1</td></tr>\n",
       "</tbody>\n",
       "</table>\n"
      ],
      "text/latex": [
       "A matrix: 6 × 6 of type int\n",
       "\\begin{tabular}{llllll}\n",
       "\t 0 & 0 & 0 & 0 & 0 & 0\\\\\n",
       "\t 0 & 0 & 0 & 0 & 0 & 0\\\\\n",
       "\t 0 & 0 & 0 & 0 & 0 & 1\\\\\n",
       "\t 0 & 0 & 0 & 0 & 0 & 1\\\\\n",
       "\t 0 & 0 & 0 & 0 & 0 & 1\\\\\n",
       "\t 0 & 0 & 0 & 0 & 0 & 1\\\\\n",
       "\\end{tabular}\n"
      ],
      "text/markdown": [
       "\n",
       "A matrix: 6 × 6 of type int\n",
       "\n",
       "| 0 | 0 | 0 | 0 | 0 | 0 |\n",
       "| 0 | 0 | 0 | 0 | 0 | 0 |\n",
       "| 0 | 0 | 0 | 0 | 0 | 1 |\n",
       "| 0 | 0 | 0 | 0 | 0 | 1 |\n",
       "| 0 | 0 | 0 | 0 | 0 | 1 |\n",
       "| 0 | 0 | 0 | 0 | 0 | 1 |\n",
       "\n"
      ],
      "text/plain": [
       "     [,1] [,2] [,3] [,4] [,5] [,6]\n",
       "[1,] 0    0    0    0    0    0   \n",
       "[2,] 0    0    0    0    0    0   \n",
       "[3,] 0    0    0    0    0    1   \n",
       "[4,] 0    0    0    0    0    1   \n",
       "[5,] 0    0    0    0    0    1   \n",
       "[6,] 0    0    0    0    0    1   "
      ]
     },
     "metadata": {},
     "output_type": "display_data"
    }
   ],
   "source": [
    "head(com3)"
   ]
  },
  {
   "cell_type": "code",
   "execution_count": 75,
   "id": "e7ca9aa8",
   "metadata": {},
   "outputs": [],
   "source": [
    "rv <- rowSums(com3)"
   ]
  },
  {
   "cell_type": "code",
   "execution_count": 76,
   "id": "d14637aa",
   "metadata": {},
   "outputs": [
    {
     "data": {
      "text/plain": [
       "\n",
       "   0    1    2    3    4    5    6  Sum \n",
       "   2   26  302  840  682  142    6 2000 "
      ]
     },
     "metadata": {},
     "output_type": "display_data"
    }
   ],
   "source": [
    "rv_b <- table(rv[c])\n",
    "addmargins(rv_b, margin = 1)"
   ]
  },
  {
   "cell_type": "code",
   "execution_count": 77,
   "id": "74adfbe4",
   "metadata": {},
   "outputs": [
    {
     "data": {
      "text/html": [
       "<table class=\"dataframe\">\n",
       "<caption>A data.frame: 7 × 2</caption>\n",
       "<thead>\n",
       "\t<tr><th scope=col>Var1</th><th scope=col>Freq</th></tr>\n",
       "\t<tr><th scope=col>&lt;fct&gt;</th><th scope=col>&lt;dbl&gt;</th></tr>\n",
       "</thead>\n",
       "<tbody>\n",
       "\t<tr><td>0</td><td>0.001</td></tr>\n",
       "\t<tr><td>1</td><td>0.013</td></tr>\n",
       "\t<tr><td>2</td><td>0.151</td></tr>\n",
       "\t<tr><td>3</td><td>0.420</td></tr>\n",
       "\t<tr><td>4</td><td>0.341</td></tr>\n",
       "\t<tr><td>5</td><td>0.071</td></tr>\n",
       "\t<tr><td>6</td><td>0.003</td></tr>\n",
       "</tbody>\n",
       "</table>\n"
      ],
      "text/latex": [
       "A data.frame: 7 × 2\n",
       "\\begin{tabular}{ll}\n",
       " Var1 & Freq\\\\\n",
       " <fct> & <dbl>\\\\\n",
       "\\hline\n",
       "\t 0 & 0.001\\\\\n",
       "\t 1 & 0.013\\\\\n",
       "\t 2 & 0.151\\\\\n",
       "\t 3 & 0.420\\\\\n",
       "\t 4 & 0.341\\\\\n",
       "\t 5 & 0.071\\\\\n",
       "\t 6 & 0.003\\\\\n",
       "\\end{tabular}\n"
      ],
      "text/markdown": [
       "\n",
       "A data.frame: 7 × 2\n",
       "\n",
       "| Var1 &lt;fct&gt; | Freq &lt;dbl&gt; |\n",
       "|---|---|\n",
       "| 0 | 0.001 |\n",
       "| 1 | 0.013 |\n",
       "| 2 | 0.151 |\n",
       "| 3 | 0.420 |\n",
       "| 4 | 0.341 |\n",
       "| 5 | 0.071 |\n",
       "| 6 | 0.003 |\n",
       "\n"
      ],
      "text/plain": [
       "  Var1 Freq \n",
       "1 0    0.001\n",
       "2 1    0.013\n",
       "3 2    0.151\n",
       "4 3    0.420\n",
       "5 4    0.341\n",
       "6 5    0.071\n",
       "7 6    0.003"
      ]
     },
     "metadata": {},
     "output_type": "display_data"
    }
   ],
   "source": [
    "rv_b_p <- prop.table(rv_b)\n",
    "df_rv_b_p  <- as.data.frame(rv_b_p)\n",
    "df_rv_b_p"
   ]
  },
  {
   "cell_type": "code",
   "execution_count": 78,
   "id": "44c40bd6",
   "metadata": {},
   "outputs": [
    {
     "data": {
      "text/html": [
       "3.312"
      ],
      "text/latex": [
       "3.312"
      ],
      "text/markdown": [
       "3.312"
      ],
      "text/plain": [
       "[1] 3.312"
      ]
     },
     "metadata": {},
     "output_type": "display_data"
    }
   ],
   "source": [
    "1*0.013 + 2*0.151 + 3*0.420 + 4 * 0.341 + 5 *  0.071 + 6 * 0.003"
   ]
  },
  {
   "cell_type": "code",
   "execution_count": 80,
   "id": "fbb9ade4",
   "metadata": {
    "scrolled": true
   },
   "outputs": [
    {
     "ename": "ERROR",
     "evalue": "Error in library(ggplo2): 'ggplo2'이라고 불리는 패키지가 없습니다\n",
     "output_type": "error",
     "traceback": [
      "Error in library(ggplo2): 'ggplo2'이라고 불리는 패키지가 없습니다\nTraceback:\n",
      "1. library(ggplo2)"
     ]
    }
   ],
   "source": [
    "library(ggplo2)\n",
    "library(ggtheme)"
   ]
  },
  {
   "cell_type": "code",
   "execution_count": 81,
   "id": "541a00c8",
   "metadata": {},
   "outputs": [],
   "source": [
    "rv_df <- as.data.frame(rv_b)\n",
    "rv_df <- cbind(df_rv_b_p)\n"
   ]
  },
  {
   "cell_type": "code",
   "execution_count": 82,
   "id": "fee134e6",
   "metadata": {
    "scrolled": true
   },
   "outputs": [
    {
     "data": {
      "image/png": "[encoded data removed]",
      "text/plain": [
       "plot without title"
      ]
     },
     "metadata": {
      "image/png": {
       "height": 420,
       "width": 420
      }
     },
     "output_type": "display_data"
    }
   ],
   "source": [
    "ggplot(rv_df, aes(x=Var1, y=Freq, fill=Var1)) +\n",
    "geom_bar(stat='identity')"
   ]
  },
  {
   "cell_type": "code",
   "execution_count": 83,
   "id": "a2d7e194",
   "metadata": {},
   "outputs": [
    {
     "ename": "ERROR",
     "evalue": "Error in parse(text = x, srcfile = src): <text>:1:12: 예상하지 못한 기호(symbol)입니다.\n1: 게임데이터 기하분포로\n               ^\n",
     "output_type": "error",
     "traceback": [
      "Error in parse(text = x, srcfile = src): <text>:1:12: 예상하지 못한 기호(symbol)입니다.\n1: 게임데이터 기하분포로\n               ^\nTraceback:\n"
     ]
    }
   ],
   "source": [
    "게임데이터 기하분포로 분석하기 - 기하분포\n",
    "기하분포: K번째 성공할 확률 분포\n",
    "게임밸런스 조절등에 사용"
   ]
  },
  {
   "cell_type": "code",
   "execution_count": 84,
   "id": "2069755c",
   "metadata": {},
   "outputs": [],
   "source": [
    "df <- fread('./rggagi/example_gamedata.csv'\n",
    "            ,data.table=T )"
   ]
  },
  {
   "cell_type": "code",
   "execution_count": 85,
   "id": "d1231cbf",
   "metadata": {},
   "outputs": [
    {
     "name": "stdout",
     "output_type": "stream",
     "text": [
      "Classes 'data.table' and 'data.frame':\t35937721 obs. of  4 variables:\n",
      " $ Date2   : POSIXct, format: \"2015-02-15 00:00:00\" \"2015-02-15 00:00:00\" ...\n",
      " $ memberID: int  376966 267011 428436 461887 352132 321647 485839 426910 428073 480706 ...\n",
      " $ stage   : chr  \"stage_01\" \"stage_01\" \"stage_01\" \"stage_01\" ...\n",
      " $ success : logi  TRUE TRUE TRUE TRUE TRUE TRUE ...\n",
      " - attr(*, \".internal.selfref\")=<externalptr> \n"
     ]
    }
   ],
   "source": [
    "str(df)"
   ]
  },
  {
   "cell_type": "code",
   "execution_count": 86,
   "id": "46d174f9",
   "metadata": {},
   "outputs": [
    {
     "data": {
      "text/html": [
       "<table class=\"dataframe\">\n",
       "<caption>A data.table: 6 × 4</caption>\n",
       "<thead>\n",
       "\t<tr><th scope=col>Date2</th><th scope=col>memberID</th><th scope=col>stage</th><th scope=col>success</th></tr>\n",
       "\t<tr><th scope=col>&lt;dttm&gt;</th><th scope=col>&lt;int&gt;</th><th scope=col>&lt;chr&gt;</th><th scope=col>&lt;lgl&gt;</th></tr>\n",
       "</thead>\n",
       "<tbody>\n",
       "\t<tr><td>2015-02-15 00:00:00</td><td>376966</td><td>stage_01</td><td>TRUE</td></tr>\n",
       "\t<tr><td>2015-02-15 00:00:00</td><td>267011</td><td>stage_01</td><td>TRUE</td></tr>\n",
       "\t<tr><td>2015-02-15 00:00:01</td><td>428436</td><td>stage_01</td><td>TRUE</td></tr>\n",
       "\t<tr><td>2015-02-15 00:00:03</td><td>461887</td><td>stage_01</td><td>TRUE</td></tr>\n",
       "\t<tr><td>2015-02-15 00:00:04</td><td>352132</td><td>stage_01</td><td>TRUE</td></tr>\n",
       "\t<tr><td>2015-02-15 00:00:06</td><td>321647</td><td>stage_01</td><td>TRUE</td></tr>\n",
       "</tbody>\n",
       "</table>\n"
      ],
      "text/latex": [
       "A data.table: 6 × 4\n",
       "\\begin{tabular}{llll}\n",
       " Date2 & memberID & stage & success\\\\\n",
       " <dttm> & <int> & <chr> & <lgl>\\\\\n",
       "\\hline\n",
       "\t 2015-02-15 00:00:00 & 376966 & stage\\_01 & TRUE\\\\\n",
       "\t 2015-02-15 00:00:00 & 267011 & stage\\_01 & TRUE\\\\\n",
       "\t 2015-02-15 00:00:01 & 428436 & stage\\_01 & TRUE\\\\\n",
       "\t 2015-02-15 00:00:03 & 461887 & stage\\_01 & TRUE\\\\\n",
       "\t 2015-02-15 00:00:04 & 352132 & stage\\_01 & TRUE\\\\\n",
       "\t 2015-02-15 00:00:06 & 321647 & stage\\_01 & TRUE\\\\\n",
       "\\end{tabular}\n"
      ],
      "text/markdown": [
       "\n",
       "A data.table: 6 × 4\n",
       "\n",
       "| Date2 &lt;dttm&gt; | memberID &lt;int&gt; | stage &lt;chr&gt; | success &lt;lgl&gt; |\n",
       "|---|---|---|---|\n",
       "| 2015-02-15 00:00:00 | 376966 | stage_01 | TRUE |\n",
       "| 2015-02-15 00:00:00 | 267011 | stage_01 | TRUE |\n",
       "| 2015-02-15 00:00:01 | 428436 | stage_01 | TRUE |\n",
       "| 2015-02-15 00:00:03 | 461887 | stage_01 | TRUE |\n",
       "| 2015-02-15 00:00:04 | 352132 | stage_01 | TRUE |\n",
       "| 2015-02-15 00:00:06 | 321647 | stage_01 | TRUE |\n",
       "\n"
      ],
      "text/plain": [
       "  Date2               memberID stage    success\n",
       "1 2015-02-15 00:00:00 376966   stage_01 TRUE   \n",
       "2 2015-02-15 00:00:00 267011   stage_01 TRUE   \n",
       "3 2015-02-15 00:00:01 428436   stage_01 TRUE   \n",
       "4 2015-02-15 00:00:03 461887   stage_01 TRUE   \n",
       "5 2015-02-15 00:00:04 352132   stage_01 TRUE   \n",
       "6 2015-02-15 00:00:06 321647   stage_01 TRUE   "
      ]
     },
     "metadata": {},
     "output_type": "display_data"
    },
    {
     "data": {
      "text/html": [
       "<table class=\"dataframe\">\n",
       "<caption>A data.table: 6 × 4</caption>\n",
       "<thead>\n",
       "\t<tr><th scope=col>Date2</th><th scope=col>memberID</th><th scope=col>stage</th><th scope=col>success</th></tr>\n",
       "\t<tr><th scope=col>&lt;dttm&gt;</th><th scope=col>&lt;int&gt;</th><th scope=col>&lt;chr&gt;</th><th scope=col>&lt;lgl&gt;</th></tr>\n",
       "</thead>\n",
       "<tbody>\n",
       "\t<tr><td>2015-12-31 22:59:51</td><td>147516</td><td>stage_08</td><td>TRUE</td></tr>\n",
       "\t<tr><td>2015-12-31 22:59:52</td><td>191572</td><td>stage_08</td><td>TRUE</td></tr>\n",
       "\t<tr><td>2015-12-31 22:59:53</td><td>491758</td><td>stage_08</td><td>TRUE</td></tr>\n",
       "\t<tr><td>2015-12-31 22:59:54</td><td>277967</td><td>stage_08</td><td>TRUE</td></tr>\n",
       "\t<tr><td>2015-12-31 22:59:55</td><td>433520</td><td>stage_08</td><td>TRUE</td></tr>\n",
       "\t<tr><td>2015-12-31 23:00:00</td><td>313777</td><td>stage_08</td><td>TRUE</td></tr>\n",
       "</tbody>\n",
       "</table>\n"
      ],
      "text/latex": [
       "A data.table: 6 × 4\n",
       "\\begin{tabular}{llll}\n",
       " Date2 & memberID & stage & success\\\\\n",
       " <dttm> & <int> & <chr> & <lgl>\\\\\n",
       "\\hline\n",
       "\t 2015-12-31 22:59:51 & 147516 & stage\\_08 & TRUE\\\\\n",
       "\t 2015-12-31 22:59:52 & 191572 & stage\\_08 & TRUE\\\\\n",
       "\t 2015-12-31 22:59:53 & 491758 & stage\\_08 & TRUE\\\\\n",
       "\t 2015-12-31 22:59:54 & 277967 & stage\\_08 & TRUE\\\\\n",
       "\t 2015-12-31 22:59:55 & 433520 & stage\\_08 & TRUE\\\\\n",
       "\t 2015-12-31 23:00:00 & 313777 & stage\\_08 & TRUE\\\\\n",
       "\\end{tabular}\n"
      ],
      "text/markdown": [
       "\n",
       "A data.table: 6 × 4\n",
       "\n",
       "| Date2 &lt;dttm&gt; | memberID &lt;int&gt; | stage &lt;chr&gt; | success &lt;lgl&gt; |\n",
       "|---|---|---|---|\n",
       "| 2015-12-31 22:59:51 | 147516 | stage_08 | TRUE |\n",
       "| 2015-12-31 22:59:52 | 191572 | stage_08 | TRUE |\n",
       "| 2015-12-31 22:59:53 | 491758 | stage_08 | TRUE |\n",
       "| 2015-12-31 22:59:54 | 277967 | stage_08 | TRUE |\n",
       "| 2015-12-31 22:59:55 | 433520 | stage_08 | TRUE |\n",
       "| 2015-12-31 23:00:00 | 313777 | stage_08 | TRUE |\n",
       "\n"
      ],
      "text/plain": [
       "  Date2               memberID stage    success\n",
       "1 2015-12-31 22:59:51 147516   stage_08 TRUE   \n",
       "2 2015-12-31 22:59:52 191572   stage_08 TRUE   \n",
       "3 2015-12-31 22:59:53 491758   stage_08 TRUE   \n",
       "4 2015-12-31 22:59:54 277967   stage_08 TRUE   \n",
       "5 2015-12-31 22:59:55 433520   stage_08 TRUE   \n",
       "6 2015-12-31 23:00:00 313777   stage_08 TRUE   "
      ]
     },
     "metadata": {},
     "output_type": "display_data"
    }
   ],
   "source": [
    "head(df)\n",
    "tail(df)"
   ]
  },
  {
   "cell_type": "code",
   "execution_count": 87,
   "id": "508ded3f",
   "metadata": {},
   "outputs": [],
   "source": [
    "df2 <- tibble::tibble(df)"
   ]
  },
  {
   "cell_type": "code",
   "execution_count": 88,
   "id": "c21dc0ac",
   "metadata": {},
   "outputs": [
    {
     "name": "stderr",
     "output_type": "stream",
     "text": [
      "\u001b[1m\u001b[22m`summarise()` has grouped output by 'stage'. You can override using the `.groups` argument.\n"
     ]
    }
   ],
   "source": [
    "sf <- df2 %>%     \n",
    "    group_by(stage, success) %>%     \n",
    "    summarise(count=n())"
   ]
  },
  {
   "cell_type": "code",
   "execution_count": 89,
   "id": "78092a73",
   "metadata": {
    "scrolled": true
   },
   "outputs": [
    {
     "data": {
      "text/html": [
       "<table class=\"dataframe\">\n",
       "<caption>A grouped_df: 16 × 3</caption>\n",
       "<thead>\n",
       "\t<tr><th scope=col>stage</th><th scope=col>success</th><th scope=col>count</th></tr>\n",
       "\t<tr><th scope=col>&lt;chr&gt;</th><th scope=col>&lt;lgl&gt;</th><th scope=col>&lt;int&gt;</th></tr>\n",
       "</thead>\n",
       "<tbody>\n",
       "\t<tr><td>stage_01</td><td>FALSE</td><td>     60</td></tr>\n",
       "\t<tr><td>stage_01</td><td> TRUE</td><td> 500007</td></tr>\n",
       "\t<tr><td>stage_02</td><td>FALSE</td><td> 503610</td></tr>\n",
       "\t<tr><td>stage_02</td><td> TRUE</td><td> 500858</td></tr>\n",
       "\t<tr><td>stage_03</td><td>FALSE</td><td>1071222</td></tr>\n",
       "\t<tr><td>stage_03</td><td> TRUE</td><td> 521440</td></tr>\n",
       "\t<tr><td>stage_04</td><td>FALSE</td><td>2051331</td></tr>\n",
       "\t<tr><td>stage_04</td><td> TRUE</td><td> 721099</td></tr>\n",
       "\t<tr><td>stage_05</td><td>FALSE</td><td>4263240</td></tr>\n",
       "\t<tr><td>stage_05</td><td> TRUE</td><td> 897753</td></tr>\n",
       "\t<tr><td>stage_06</td><td>FALSE</td><td>6020643</td></tr>\n",
       "\t<tr><td>stage_06</td><td> TRUE</td><td>1426092</td></tr>\n",
       "\t<tr><td>stage_07</td><td>FALSE</td><td>7945384</td></tr>\n",
       "\t<tr><td>stage_07</td><td> TRUE</td><td> 515538</td></tr>\n",
       "\t<tr><td>stage_08</td><td>FALSE</td><td>7999460</td></tr>\n",
       "\t<tr><td>stage_08</td><td> TRUE</td><td> 999984</td></tr>\n",
       "</tbody>\n",
       "</table>\n"
      ],
      "text/latex": [
       "A grouped\\_df: 16 × 3\n",
       "\\begin{tabular}{lll}\n",
       " stage & success & count\\\\\n",
       " <chr> & <lgl> & <int>\\\\\n",
       "\\hline\n",
       "\t stage\\_01 & FALSE &      60\\\\\n",
       "\t stage\\_01 &  TRUE &  500007\\\\\n",
       "\t stage\\_02 & FALSE &  503610\\\\\n",
       "\t stage\\_02 &  TRUE &  500858\\\\\n",
       "\t stage\\_03 & FALSE & 1071222\\\\\n",
       "\t stage\\_03 &  TRUE &  521440\\\\\n",
       "\t stage\\_04 & FALSE & 2051331\\\\\n",
       "\t stage\\_04 &  TRUE &  721099\\\\\n",
       "\t stage\\_05 & FALSE & 4263240\\\\\n",
       "\t stage\\_05 &  TRUE &  897753\\\\\n",
       "\t stage\\_06 & FALSE & 6020643\\\\\n",
       "\t stage\\_06 &  TRUE & 1426092\\\\\n",
       "\t stage\\_07 & FALSE & 7945384\\\\\n",
       "\t stage\\_07 &  TRUE &  515538\\\\\n",
       "\t stage\\_08 & FALSE & 7999460\\\\\n",
       "\t stage\\_08 &  TRUE &  999984\\\\\n",
       "\\end{tabular}\n"
      ],
      "text/markdown": [
       "\n",
       "A grouped_df: 16 × 3\n",
       "\n",
       "| stage &lt;chr&gt; | success &lt;lgl&gt; | count &lt;int&gt; |\n",
       "|---|---|---|\n",
       "| stage_01 | FALSE |      60 |\n",
       "| stage_01 |  TRUE |  500007 |\n",
       "| stage_02 | FALSE |  503610 |\n",
       "| stage_02 |  TRUE |  500858 |\n",
       "| stage_03 | FALSE | 1071222 |\n",
       "| stage_03 |  TRUE |  521440 |\n",
       "| stage_04 | FALSE | 2051331 |\n",
       "| stage_04 |  TRUE |  721099 |\n",
       "| stage_05 | FALSE | 4263240 |\n",
       "| stage_05 |  TRUE |  897753 |\n",
       "| stage_06 | FALSE | 6020643 |\n",
       "| stage_06 |  TRUE | 1426092 |\n",
       "| stage_07 | FALSE | 7945384 |\n",
       "| stage_07 |  TRUE |  515538 |\n",
       "| stage_08 | FALSE | 7999460 |\n",
       "| stage_08 |  TRUE |  999984 |\n",
       "\n"
      ],
      "text/plain": [
       "   stage    success count  \n",
       "1  stage_01 FALSE        60\n",
       "2  stage_01  TRUE    500007\n",
       "3  stage_02 FALSE    503610\n",
       "4  stage_02  TRUE    500858\n",
       "5  stage_03 FALSE   1071222\n",
       "6  stage_03  TRUE    521440\n",
       "7  stage_04 FALSE   2051331\n",
       "8  stage_04  TRUE    721099\n",
       "9  stage_05 FALSE   4263240\n",
       "10 stage_05  TRUE    897753\n",
       "11 stage_06 FALSE   6020643\n",
       "12 stage_06  TRUE   1426092\n",
       "13 stage_07 FALSE   7945384\n",
       "14 stage_07  TRUE    515538\n",
       "15 stage_08 FALSE   7999460\n",
       "16 stage_08  TRUE    999984"
      ]
     },
     "metadata": {},
     "output_type": "display_data"
    }
   ],
   "source": [
    "sf"
   ]
  },
  {
   "cell_type": "code",
   "execution_count": 90,
   "id": "d30e99ba",
   "metadata": {},
   "outputs": [
    {
     "ename": "ERROR",
     "evalue": "Error in eval(expr, envir, enclos): 객체 'geo'를 찾을 수 없습니다\n",
     "output_type": "error",
     "traceback": [
      "Error in eval(expr, envir, enclos): 객체 'geo'를 찾을 수 없습니다\nTraceback:\n"
     ]
    }
   ],
   "source": [
    "ggplot(sf, aes(x=factor(stage), y=count, color=success, group=sucess)) +\n",
    "geo"
   ]
  }
 ],
 "metadata": {
  "kernelspec": {
   "display_name": "R",
   "language": "R",
   "name": "ir"
  },
  "language_info": {
   "codemirror_mode": "r",
   "file_extension": ".r",
   "mimetype": "text/x-r-source",
   "name": "R",
   "pygments_lexer": "r",
   "version": "4.1.3"
  }
 },
 "nbformat": 4,
 "nbformat_minor": 5
}
