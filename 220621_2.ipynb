{
 "cells": [
  {
   "cell_type": "code",
   "execution_count": 1,
   "id": "a70804c8",
   "metadata": {},
   "outputs": [],
   "source": [
    "# 전국 인구조사 자료 정리하기 - 통계청 작성 전국 인구조사 데이터\n",
    "# 시별 도별 인구수\n",
    "# Data 불러오기\n",
    "# 인구수에 \",\" 가 있어 문자열로 불러오기 stringsAsFactors = F\n",
    "df <- read.csv('./rggagi/example_population.csv', stringsAsFactors = F)"
   ]
  },
  {
   "cell_type": "code",
   "execution_count": 2,
   "id": "caf21aef",
   "metadata": {},
   "outputs": [
    {
     "name": "stdout",
     "output_type": "stream",
     "text": [
      "'data.frame':\t281 obs. of  7 variables:\n",
      " $ City      : chr  \"서울특별시  (1100000000)\" \"서울특별시 종로구 (1111000000)\" \"서울특별시 중구 (1114000000)\" \"서울특별시 용산구 (1117000000)\" ...\n",
      " $ Population: chr  \"10,078,850\" \"155,695\" \"126,817\" \"235,186\" ...\n",
      " $ Households: chr  \"4,197,478\" \"72,882\" \"59,614\" \"108,138\" ...\n",
      " $ PersInHou : num  2.4 2.14 2.13 2.17 2.35 2.28 2.26 2.36 2.41 2.36 ...\n",
      " $ Male      : chr  \"4,962,774\" \"76,962\" \"63,292\" \"114,119\" ...\n",
      " $ Female    : chr  \"5,116,076\" \"78,733\" \"63,525\" \"121,067\" ...\n",
      " $ SexRatio  : num  0.97 0.98 1 0.94 0.99 0.97 1.01 1 0.96 0.97 ...\n"
     ]
    }
   ],
   "source": [
    "# 자료 요약 살펴보기\n",
    "str(df)\n"
   ]
  },
  {
   "cell_type": "code",
   "execution_count": 3,
   "id": "29bd9c66",
   "metadata": {},
   "outputs": [
    {
     "data": {
      "text/html": [
       "<table class=\"dataframe\">\n",
       "<caption>A data.frame: 6 × 7</caption>\n",
       "<thead>\n",
       "\t<tr><th></th><th scope=col>City</th><th scope=col>Population</th><th scope=col>Households</th><th scope=col>PersInHou</th><th scope=col>Male</th><th scope=col>Female</th><th scope=col>SexRatio</th></tr>\n",
       "\t<tr><th></th><th scope=col>&lt;chr&gt;</th><th scope=col>&lt;chr&gt;</th><th scope=col>&lt;chr&gt;</th><th scope=col>&lt;dbl&gt;</th><th scope=col>&lt;chr&gt;</th><th scope=col>&lt;chr&gt;</th><th scope=col>&lt;dbl&gt;</th></tr>\n",
       "</thead>\n",
       "<tbody>\n",
       "\t<tr><th scope=row>1</th><td>서울특별시  (1100000000)      </td><td>10,078,850</td><td>4,197,478</td><td>2.40</td><td>4,962,774</td><td>5,116,076</td><td>0.97</td></tr>\n",
       "\t<tr><th scope=row>2</th><td>서울특별시 종로구 (1111000000)</td><td>155,695   </td><td>72,882   </td><td>2.14</td><td>76,962   </td><td>78,733   </td><td>0.98</td></tr>\n",
       "\t<tr><th scope=row>3</th><td>서울특별시 중구 (1114000000)  </td><td>126,817   </td><td>59,614   </td><td>2.13</td><td>63,292   </td><td>63,525   </td><td>1.00</td></tr>\n",
       "\t<tr><th scope=row>4</th><td>서울특별시 용산구 (1117000000)</td><td>235,186   </td><td>108,138  </td><td>2.17</td><td>114,119  </td><td>121,067  </td><td>0.94</td></tr>\n",
       "\t<tr><th scope=row>5</th><td>서울특별시 성동구 (1120000000)</td><td>298,145   </td><td>126,915  </td><td>2.35</td><td>148,265  </td><td>149,880  </td><td>0.99</td></tr>\n",
       "\t<tr><th scope=row>6</th><td>서울특별시 광진구 (1121500000)</td><td>362,197   </td><td>158,769  </td><td>2.28</td><td>177,946  </td><td>184,251  </td><td>0.97</td></tr>\n",
       "</tbody>\n",
       "</table>\n"
      ],
      "text/latex": [
       "A data.frame: 6 × 7\n",
       "\\begin{tabular}{r|lllllll}\n",
       "  & City & Population & Households & PersInHou & Male & Female & SexRatio\\\\\n",
       "  & <chr> & <chr> & <chr> & <dbl> & <chr> & <chr> & <dbl>\\\\\n",
       "\\hline\n",
       "\t1 & 서울특별시  (1100000000)       & 10,078,850 & 4,197,478 & 2.40 & 4,962,774 & 5,116,076 & 0.97\\\\\n",
       "\t2 & 서울특별시 종로구 (1111000000) & 155,695    & 72,882    & 2.14 & 76,962    & 78,733    & 0.98\\\\\n",
       "\t3 & 서울특별시 중구 (1114000000)   & 126,817    & 59,614    & 2.13 & 63,292    & 63,525    & 1.00\\\\\n",
       "\t4 & 서울특별시 용산구 (1117000000) & 235,186    & 108,138   & 2.17 & 114,119   & 121,067   & 0.94\\\\\n",
       "\t5 & 서울특별시 성동구 (1120000000) & 298,145    & 126,915   & 2.35 & 148,265   & 149,880   & 0.99\\\\\n",
       "\t6 & 서울특별시 광진구 (1121500000) & 362,197    & 158,769   & 2.28 & 177,946   & 184,251   & 0.97\\\\\n",
       "\\end{tabular}\n"
      ],
      "text/markdown": [
       "\n",
       "A data.frame: 6 × 7\n",
       "\n",
       "| <!--/--> | City &lt;chr&gt; | Population &lt;chr&gt; | Households &lt;chr&gt; | PersInHou &lt;dbl&gt; | Male &lt;chr&gt; | Female &lt;chr&gt; | SexRatio &lt;dbl&gt; |\n",
       "|---|---|---|---|---|---|---|---|\n",
       "| 1 | 서울특별시  (1100000000)       | 10,078,850 | 4,197,478 | 2.40 | 4,962,774 | 5,116,076 | 0.97 |\n",
       "| 2 | 서울특별시 종로구 (1111000000) | 155,695    | 72,882    | 2.14 | 76,962    | 78,733    | 0.98 |\n",
       "| 3 | 서울특별시 중구 (1114000000)   | 126,817    | 59,614    | 2.13 | 63,292    | 63,525    | 1.00 |\n",
       "| 4 | 서울특별시 용산구 (1117000000) | 235,186    | 108,138   | 2.17 | 114,119   | 121,067   | 0.94 |\n",
       "| 5 | 서울특별시 성동구 (1120000000) | 298,145    | 126,915   | 2.35 | 148,265   | 149,880   | 0.99 |\n",
       "| 6 | 서울특별시 광진구 (1121500000) | 362,197    | 158,769   | 2.28 | 177,946   | 184,251   | 0.97 |\n",
       "\n"
      ],
      "text/plain": [
       "  City                           Population Households PersInHou Male     \n",
       "1 서울특별시  (1100000000)       10,078,850 4,197,478  2.40      4,962,774\n",
       "2 서울특별시 종로구 (1111000000) 155,695    72,882     2.14      76,962   \n",
       "3 서울특별시 중구 (1114000000)   126,817    59,614     2.13      63,292   \n",
       "4 서울특별시 용산구 (1117000000) 235,186    108,138    2.17      114,119  \n",
       "5 서울특별시 성동구 (1120000000) 298,145    126,915    2.35      148,265  \n",
       "6 서울특별시 광진구 (1121500000) 362,197    158,769    2.28      177,946  \n",
       "  Female    SexRatio\n",
       "1 5,116,076 0.97    \n",
       "2 78,733    0.98    \n",
       "3 63,525    1.00    \n",
       "4 121,067   0.94    \n",
       "5 149,880   0.99    \n",
       "6 184,251   0.97    "
      ]
     },
     "metadata": {},
     "output_type": "display_data"
    }
   ],
   "source": [
    "# 자료 값 확인 head()\n",
    "head(df)\n"
   ]
  },
  {
   "cell_type": "code",
   "execution_count": 4,
   "id": "2f7ea4ae",
   "metadata": {},
   "outputs": [
    {
     "name": "stdout",
     "output_type": "stream",
     "text": [
      "package 'stringr' successfully unpacked and MD5 sums checked\n",
      "\n",
      "The downloaded binary packages are in\n",
      "\tC:\\Users\\NOTEBOOK\\AppData\\Local\\Temp\\RtmpsfKvU2\\downloaded_packages\n"
     ]
    }
   ],
   "source": [
    "# 서울특별시 종로구 (1111000000) => 서울특별시 종로구 이렇게 만들기\n",
    "# 문자열 분리 - str_split_fixed() \n",
    "install.packages('stringr')"
   ]
  },
  {
   "cell_type": "code",
   "execution_count": 5,
   "id": "89bcfa41",
   "metadata": {},
   "outputs": [],
   "source": [
    "library('stringr')"
   ]
  },
  {
   "cell_type": "code",
   "execution_count": 6,
   "id": "95ef7bcc",
   "metadata": {},
   "outputs": [
    {
     "data": {
      "text/html": [
       "<table class=\"dataframe\">\n",
       "<caption>A matrix: 6 × 2 of type chr</caption>\n",
       "<tbody>\n",
       "\t<tr><td>서울특별시        </td><td>1100000000)</td></tr>\n",
       "\t<tr><td>서울특별시 종로구 </td><td>1111000000)</td></tr>\n",
       "\t<tr><td>서울특별시 중구   </td><td>1114000000)</td></tr>\n",
       "\t<tr><td>서울특별시 용산구 </td><td>1117000000)</td></tr>\n",
       "\t<tr><td>서울특별시 성동구 </td><td>1120000000)</td></tr>\n",
       "\t<tr><td>서울특별시 광진구 </td><td>1121500000)</td></tr>\n",
       "</tbody>\n",
       "</table>\n"
      ],
      "text/latex": [
       "A matrix: 6 × 2 of type chr\n",
       "\\begin{tabular}{ll}\n",
       "\t 서울특별시         & 1100000000)\\\\\n",
       "\t 서울특별시 종로구  & 1111000000)\\\\\n",
       "\t 서울특별시 중구    & 1114000000)\\\\\n",
       "\t 서울특별시 용산구  & 1117000000)\\\\\n",
       "\t 서울특별시 성동구  & 1120000000)\\\\\n",
       "\t 서울특별시 광진구  & 1121500000)\\\\\n",
       "\\end{tabular}\n"
      ],
      "text/markdown": [
       "\n",
       "A matrix: 6 × 2 of type chr\n",
       "\n",
       "| 서울특별시         | 1100000000) |\n",
       "| 서울특별시 종로구  | 1111000000) |\n",
       "| 서울특별시 중구    | 1114000000) |\n",
       "| 서울특별시 용산구  | 1117000000) |\n",
       "| 서울특별시 성동구  | 1120000000) |\n",
       "| 서울특별시 광진구  | 1121500000) |\n",
       "\n"
      ],
      "text/plain": [
       "     [,1]               [,2]       \n",
       "[1,] 서울특별시         1100000000)\n",
       "[2,] 서울특별시 종로구  1111000000)\n",
       "[3,] 서울특별시 중구    1114000000)\n",
       "[4,] 서울특별시 용산구  1117000000)\n",
       "[5,] 서울특별시 성동구  1120000000)\n",
       "[6,] 서울특별시 광진구  1121500000)"
      ]
     },
     "metadata": {},
     "output_type": "display_data"
    }
   ],
   "source": [
    "# ( 기준으로 2개 분리\n",
    "temp <- str_split_fixed(df[,1], '\\\\(', 2)\n",
    "head(temp)\n"
   ]
  },
  {
   "cell_type": "code",
   "execution_count": 8,
   "id": "2c8b3cf5",
   "metadata": {},
   "outputs": [
    {
     "data": {
      "text/html": [
       "<table class=\"dataframe\">\n",
       "<caption>A matrix: 6 × 2 of type chr</caption>\n",
       "<tbody>\n",
       "\t<tr><td>서울특별시</td><td>       </td></tr>\n",
       "\t<tr><td>서울특별시</td><td>종로구 </td></tr>\n",
       "\t<tr><td>서울특별시</td><td>중구   </td></tr>\n",
       "\t<tr><td>서울특별시</td><td>용산구 </td></tr>\n",
       "\t<tr><td>서울특별시</td><td>성동구 </td></tr>\n",
       "\t<tr><td>서울특별시</td><td>광진구 </td></tr>\n",
       "</tbody>\n",
       "</table>\n"
      ],
      "text/latex": [
       "A matrix: 6 × 2 of type chr\n",
       "\\begin{tabular}{ll}\n",
       "\t 서울특별시 &        \\\\\n",
       "\t 서울특별시 & 종로구 \\\\\n",
       "\t 서울특별시 & 중구   \\\\\n",
       "\t 서울특별시 & 용산구 \\\\\n",
       "\t 서울특별시 & 성동구 \\\\\n",
       "\t 서울특별시 & 광진구 \\\\\n",
       "\\end{tabular}\n"
      ],
      "text/markdown": [
       "\n",
       "A matrix: 6 × 2 of type chr\n",
       "\n",
       "| 서울특별시 | <!----> |\n",
       "| 서울특별시 | 종로구  |\n",
       "| 서울특별시 | 중구    |\n",
       "| 서울특별시 | 용산구  |\n",
       "| 서울특별시 | 성동구  |\n",
       "| 서울특별시 | 광진구  |\n",
       "\n"
      ],
      "text/plain": [
       "     [,1]       [,2]   \n",
       "[1,] 서울특별시        \n",
       "[2,] 서울특별시 종로구 \n",
       "[3,] 서울특별시 중구   \n",
       "[4,] 서울특별시 용산구 \n",
       "[5,] 서울특별시 성동구 \n",
       "[6,] 서울특별시 광진구 "
      ]
     },
     "metadata": {},
     "output_type": "display_data"
    }
   ],
   "source": [
    "# 공백 기준으로 시 구 분리 => 분리해야 더 다양한 분석 가능\n",
    "new_city <- str_split_fixed(temp[,1], ' ',2)\n",
    "head(new_city)"
   ]
  },
  {
   "cell_type": "code",
   "execution_count": 9,
   "id": "fd5f942b",
   "metadata": {},
   "outputs": [
    {
     "data": {
      "text/html": [
       "<table class=\"dataframe\">\n",
       "<caption>A matrix: 6 × 2 of type chr</caption>\n",
       "<thead>\n",
       "\t<tr><th scope=col>Provinces</th><th scope=col>City</th></tr>\n",
       "</thead>\n",
       "<tbody>\n",
       "\t<tr><td>서울특별시</td><td>       </td></tr>\n",
       "\t<tr><td>서울특별시</td><td>종로구 </td></tr>\n",
       "\t<tr><td>서울특별시</td><td>중구   </td></tr>\n",
       "\t<tr><td>서울특별시</td><td>용산구 </td></tr>\n",
       "\t<tr><td>서울특별시</td><td>성동구 </td></tr>\n",
       "\t<tr><td>서울특별시</td><td>광진구 </td></tr>\n",
       "</tbody>\n",
       "</table>\n"
      ],
      "text/latex": [
       "A matrix: 6 × 2 of type chr\n",
       "\\begin{tabular}{ll}\n",
       " Provinces & City\\\\\n",
       "\\hline\n",
       "\t 서울특별시 &        \\\\\n",
       "\t 서울특별시 & 종로구 \\\\\n",
       "\t 서울특별시 & 중구   \\\\\n",
       "\t 서울특별시 & 용산구 \\\\\n",
       "\t 서울특별시 & 성동구 \\\\\n",
       "\t 서울특별시 & 광진구 \\\\\n",
       "\\end{tabular}\n"
      ],
      "text/markdown": [
       "\n",
       "A matrix: 6 × 2 of type chr\n",
       "\n",
       "| Provinces | City |\n",
       "|---|---|\n",
       "| 서울특별시 | <!----> |\n",
       "| 서울특별시 | 종로구  |\n",
       "| 서울특별시 | 중구    |\n",
       "| 서울특별시 | 용산구  |\n",
       "| 서울특별시 | 성동구  |\n",
       "| 서울특별시 | 광진구  |\n",
       "\n"
      ],
      "text/plain": [
       "     Provinces  City   \n",
       "[1,] 서울특별시        \n",
       "[2,] 서울특별시 종로구 \n",
       "[3,] 서울특별시 중구   \n",
       "[4,] 서울특별시 용산구 \n",
       "[5,] 서울특별시 성동구 \n",
       "[6,] 서울특별시 광진구 "
      ]
     },
     "metadata": {},
     "output_type": "display_data"
    }
   ],
   "source": [
    "# 변수명 변경\n",
    "colnames(new_city) <- c('Provinces', 'City')\n",
    "head(new_city)"
   ]
  },
  {
   "cell_type": "code",
   "execution_count": 10,
   "id": "e8f2b952",
   "metadata": {},
   "outputs": [
    {
     "data": {
      "text/html": [
       "<table class=\"dataframe\">\n",
       "<caption>A data.frame: 2 × 8</caption>\n",
       "<thead>\n",
       "\t<tr><th></th><th scope=col>Provinces</th><th scope=col>City</th><th scope=col>Population</th><th scope=col>Households</th><th scope=col>PersInHou</th><th scope=col>Male</th><th scope=col>Female</th><th scope=col>SexRatio</th></tr>\n",
       "\t<tr><th></th><th scope=col>&lt;chr&gt;</th><th scope=col>&lt;chr&gt;</th><th scope=col>&lt;chr&gt;</th><th scope=col>&lt;chr&gt;</th><th scope=col>&lt;dbl&gt;</th><th scope=col>&lt;chr&gt;</th><th scope=col>&lt;chr&gt;</th><th scope=col>&lt;dbl&gt;</th></tr>\n",
       "</thead>\n",
       "<tbody>\n",
       "\t<tr><th scope=row>82</th><td>세종특별자치시</td><td> </td><td>185,212</td><td>72,733</td><td>2.55</td><td>93,058</td><td>92,154</td><td>1.01</td></tr>\n",
       "\t<tr><th scope=row>83</th><td>세종특별자치시</td><td> </td><td>185,212</td><td>72,733</td><td>2.55</td><td>93,058</td><td>92,154</td><td>1.01</td></tr>\n",
       "</tbody>\n",
       "</table>\n"
      ],
      "text/latex": [
       "A data.frame: 2 × 8\n",
       "\\begin{tabular}{r|llllllll}\n",
       "  & Provinces & City & Population & Households & PersInHou & Male & Female & SexRatio\\\\\n",
       "  & <chr> & <chr> & <chr> & <chr> & <dbl> & <chr> & <chr> & <dbl>\\\\\n",
       "\\hline\n",
       "\t82 & 세종특별자치시 &   & 185,212 & 72,733 & 2.55 & 93,058 & 92,154 & 1.01\\\\\n",
       "\t83 & 세종특별자치시 &   & 185,212 & 72,733 & 2.55 & 93,058 & 92,154 & 1.01\\\\\n",
       "\\end{tabular}\n"
      ],
      "text/markdown": [
       "\n",
       "A data.frame: 2 × 8\n",
       "\n",
       "| <!--/--> | Provinces &lt;chr&gt; | City &lt;chr&gt; | Population &lt;chr&gt; | Households &lt;chr&gt; | PersInHou &lt;dbl&gt; | Male &lt;chr&gt; | Female &lt;chr&gt; | SexRatio &lt;dbl&gt; |\n",
       "|---|---|---|---|---|---|---|---|---|\n",
       "| 82 | 세종특별자치시 | <!----> | 185,212 | 72,733 | 2.55 | 93,058 | 92,154 | 1.01 |\n",
       "| 83 | 세종특별자치시 | <!----> | 185,212 | 72,733 | 2.55 | 93,058 | 92,154 | 1.01 |\n",
       "\n"
      ],
      "text/plain": [
       "   Provinces      City Population Households PersInHou Male   Female SexRatio\n",
       "82 세종특별자치시      185,212    72,733     2.55      93,058 92,154 1.01    \n",
       "83 세종특별자치시      185,212    72,733     2.55      93,058 92,154 1.01    "
      ]
     },
     "metadata": {},
     "output_type": "display_data"
    }
   ],
   "source": [
    "# 새오운 dataframe 생성\n",
    "df_new  <- data.frame(new_city, df[,c(2:7)])\n",
    "df_new[df_new$Provinces == '세종특별자치시',]\n"
   ]
  },
  {
   "cell_type": "code",
   "execution_count": 11,
   "id": "bccd3a11",
   "metadata": {},
   "outputs": [
    {
     "data": {
      "text/html": [
       "<table class=\"dataframe\">\n",
       "<caption>A data.frame: 6 × 8</caption>\n",
       "<thead>\n",
       "\t<tr><th></th><th scope=col>Provinces</th><th scope=col>City</th><th scope=col>Population</th><th scope=col>Households</th><th scope=col>PersInHou</th><th scope=col>Male</th><th scope=col>Female</th><th scope=col>SexRatio</th></tr>\n",
       "\t<tr><th></th><th scope=col>&lt;chr&gt;</th><th scope=col>&lt;chr&gt;</th><th scope=col>&lt;chr&gt;</th><th scope=col>&lt;chr&gt;</th><th scope=col>&lt;dbl&gt;</th><th scope=col>&lt;chr&gt;</th><th scope=col>&lt;chr&gt;</th><th scope=col>&lt;dbl&gt;</th></tr>\n",
       "</thead>\n",
       "<tbody>\n",
       "\t<tr><th scope=row>1</th><td>서울특별시</td><td>NA     </td><td>10,078,850</td><td>4,197,478</td><td>2.40</td><td>4,962,774</td><td>5,116,076</td><td>0.97</td></tr>\n",
       "\t<tr><th scope=row>2</th><td>서울특별시</td><td>종로구 </td><td>155,695   </td><td>72,882   </td><td>2.14</td><td>76,962   </td><td>78,733   </td><td>0.98</td></tr>\n",
       "\t<tr><th scope=row>3</th><td>서울특별시</td><td>중구   </td><td>126,817   </td><td>59,614   </td><td>2.13</td><td>63,292   </td><td>63,525   </td><td>1.00</td></tr>\n",
       "\t<tr><th scope=row>4</th><td>서울특별시</td><td>용산구 </td><td>235,186   </td><td>108,138  </td><td>2.17</td><td>114,119  </td><td>121,067  </td><td>0.94</td></tr>\n",
       "\t<tr><th scope=row>5</th><td>서울특별시</td><td>성동구 </td><td>298,145   </td><td>126,915  </td><td>2.35</td><td>148,265  </td><td>149,880  </td><td>0.99</td></tr>\n",
       "\t<tr><th scope=row>6</th><td>서울특별시</td><td>광진구 </td><td>362,197   </td><td>158,769  </td><td>2.28</td><td>177,946  </td><td>184,251  </td><td>0.97</td></tr>\n",
       "</tbody>\n",
       "</table>\n"
      ],
      "text/latex": [
       "A data.frame: 6 × 8\n",
       "\\begin{tabular}{r|llllllll}\n",
       "  & Provinces & City & Population & Households & PersInHou & Male & Female & SexRatio\\\\\n",
       "  & <chr> & <chr> & <chr> & <chr> & <dbl> & <chr> & <chr> & <dbl>\\\\\n",
       "\\hline\n",
       "\t1 & 서울특별시 & NA      & 10,078,850 & 4,197,478 & 2.40 & 4,962,774 & 5,116,076 & 0.97\\\\\n",
       "\t2 & 서울특별시 & 종로구  & 155,695    & 72,882    & 2.14 & 76,962    & 78,733    & 0.98\\\\\n",
       "\t3 & 서울특별시 & 중구    & 126,817    & 59,614    & 2.13 & 63,292    & 63,525    & 1.00\\\\\n",
       "\t4 & 서울특별시 & 용산구  & 235,186    & 108,138   & 2.17 & 114,119   & 121,067   & 0.94\\\\\n",
       "\t5 & 서울특별시 & 성동구  & 298,145    & 126,915   & 2.35 & 148,265   & 149,880   & 0.99\\\\\n",
       "\t6 & 서울특별시 & 광진구  & 362,197    & 158,769   & 2.28 & 177,946   & 184,251   & 0.97\\\\\n",
       "\\end{tabular}\n"
      ],
      "text/markdown": [
       "\n",
       "A data.frame: 6 × 8\n",
       "\n",
       "| <!--/--> | Provinces &lt;chr&gt; | City &lt;chr&gt; | Population &lt;chr&gt; | Households &lt;chr&gt; | PersInHou &lt;dbl&gt; | Male &lt;chr&gt; | Female &lt;chr&gt; | SexRatio &lt;dbl&gt; |\n",
       "|---|---|---|---|---|---|---|---|---|\n",
       "| 1 | 서울특별시 | NA      | 10,078,850 | 4,197,478 | 2.40 | 4,962,774 | 5,116,076 | 0.97 |\n",
       "| 2 | 서울특별시 | 종로구  | 155,695    | 72,882    | 2.14 | 76,962    | 78,733    | 0.98 |\n",
       "| 3 | 서울특별시 | 중구    | 126,817    | 59,614    | 2.13 | 63,292    | 63,525    | 1.00 |\n",
       "| 4 | 서울특별시 | 용산구  | 235,186    | 108,138   | 2.17 | 114,119   | 121,067   | 0.94 |\n",
       "| 5 | 서울특별시 | 성동구  | 298,145    | 126,915   | 2.35 | 148,265   | 149,880   | 0.99 |\n",
       "| 6 | 서울특별시 | 광진구  | 362,197    | 158,769   | 2.28 | 177,946   | 184,251   | 0.97 |\n",
       "\n"
      ],
      "text/plain": [
       "  Provinces  City    Population Households PersInHou Male      Female   \n",
       "1 서울특별시 NA      10,078,850 4,197,478  2.40      4,962,774 5,116,076\n",
       "2 서울특별시 종로구  155,695    72,882     2.14      76,962    78,733   \n",
       "3 서울특별시 중구    126,817    59,614     2.13      63,292    63,525   \n",
       "4 서울특별시 용산구  235,186    108,138    2.17      114,119   121,067  \n",
       "5 서울특별시 성동구  298,145    126,915    2.35      148,265   149,880  \n",
       "6 서울특별시 광진구  362,197    158,769    2.28      177,946   184,251  \n",
       "  SexRatio\n",
       "1 0.97    \n",
       "2 0.98    \n",
       "3 1.00    \n",
       "4 0.94    \n",
       "5 0.99    \n",
       "6 0.97    "
      ]
     },
     "metadata": {},
     "output_type": "display_data"
    },
    {
     "data": {
      "text/html": [
       "<table class=\"dataframe\">\n",
       "<caption>A data.frame: 2 × 8</caption>\n",
       "<thead>\n",
       "\t<tr><th></th><th scope=col>Provinces</th><th scope=col>City</th><th scope=col>Population</th><th scope=col>Households</th><th scope=col>PersInHou</th><th scope=col>Male</th><th scope=col>Female</th><th scope=col>SexRatio</th></tr>\n",
       "\t<tr><th></th><th scope=col>&lt;chr&gt;</th><th scope=col>&lt;chr&gt;</th><th scope=col>&lt;chr&gt;</th><th scope=col>&lt;chr&gt;</th><th scope=col>&lt;dbl&gt;</th><th scope=col>&lt;chr&gt;</th><th scope=col>&lt;chr&gt;</th><th scope=col>&lt;dbl&gt;</th></tr>\n",
       "</thead>\n",
       "<tbody>\n",
       "\t<tr><th scope=row>82</th><td>세종특별자치시</td><td>NA</td><td>185,212</td><td>72,733</td><td>2.55</td><td>93,058</td><td>92,154</td><td>1.01</td></tr>\n",
       "\t<tr><th scope=row>83</th><td>세종특별자치시</td><td>NA</td><td>185,212</td><td>72,733</td><td>2.55</td><td>93,058</td><td>92,154</td><td>1.01</td></tr>\n",
       "</tbody>\n",
       "</table>\n"
      ],
      "text/latex": [
       "A data.frame: 2 × 8\n",
       "\\begin{tabular}{r|llllllll}\n",
       "  & Provinces & City & Population & Households & PersInHou & Male & Female & SexRatio\\\\\n",
       "  & <chr> & <chr> & <chr> & <chr> & <dbl> & <chr> & <chr> & <dbl>\\\\\n",
       "\\hline\n",
       "\t82 & 세종특별자치시 & NA & 185,212 & 72,733 & 2.55 & 93,058 & 92,154 & 1.01\\\\\n",
       "\t83 & 세종특별자치시 & NA & 185,212 & 72,733 & 2.55 & 93,058 & 92,154 & 1.01\\\\\n",
       "\\end{tabular}\n"
      ],
      "text/markdown": [
       "\n",
       "A data.frame: 2 × 8\n",
       "\n",
       "| <!--/--> | Provinces &lt;chr&gt; | City &lt;chr&gt; | Population &lt;chr&gt; | Households &lt;chr&gt; | PersInHou &lt;dbl&gt; | Male &lt;chr&gt; | Female &lt;chr&gt; | SexRatio &lt;dbl&gt; |\n",
       "|---|---|---|---|---|---|---|---|---|\n",
       "| 82 | 세종특별자치시 | NA | 185,212 | 72,733 | 2.55 | 93,058 | 92,154 | 1.01 |\n",
       "| 83 | 세종특별자치시 | NA | 185,212 | 72,733 | 2.55 | 93,058 | 92,154 | 1.01 |\n",
       "\n"
      ],
      "text/plain": [
       "   Provinces      City Population Households PersInHou Male   Female SexRatio\n",
       "82 세종특별자치시 NA   185,212    72,733     2.55      93,058 92,154 1.01    \n",
       "83 세종특별자치시 NA   185,212    72,733     2.55      93,058 92,154 1.01    "
      ]
     },
     "metadata": {},
     "output_type": "display_data"
    }
   ],
   "source": [
    "# City 공백 => NA\n",
    "df_new[df_new == \" \"] <- NA\n",
    "head(df_new)\n",
    "df_new[df_new$Provinces == '세종특별자치시',]\n"
   ]
  },
  {
   "cell_type": "code",
   "execution_count": 12,
   "id": "f51eff27",
   "metadata": {},
   "outputs": [
    {
     "data": {
      "text/html": [
       "<table class=\"dataframe\">\n",
       "<caption>A data.frame: 6 × 8</caption>\n",
       "<thead>\n",
       "\t<tr><th></th><th scope=col>Provinces</th><th scope=col>City</th><th scope=col>Population</th><th scope=col>Households</th><th scope=col>PersInHou</th><th scope=col>Male</th><th scope=col>Female</th><th scope=col>SexRatio</th></tr>\n",
       "\t<tr><th></th><th scope=col>&lt;chr&gt;</th><th scope=col>&lt;chr&gt;</th><th scope=col>&lt;chr&gt;</th><th scope=col>&lt;chr&gt;</th><th scope=col>&lt;dbl&gt;</th><th scope=col>&lt;chr&gt;</th><th scope=col>&lt;chr&gt;</th><th scope=col>&lt;dbl&gt;</th></tr>\n",
       "</thead>\n",
       "<tbody>\n",
       "\t<tr><th scope=row>2</th><td>서울특별시</td><td>종로구   </td><td>155,695</td><td>72,882 </td><td>2.14</td><td>76,962 </td><td>78,733 </td><td>0.98</td></tr>\n",
       "\t<tr><th scope=row>3</th><td>서울특별시</td><td>중구     </td><td>126,817</td><td>59,614 </td><td>2.13</td><td>63,292 </td><td>63,525 </td><td>1.00</td></tr>\n",
       "\t<tr><th scope=row>4</th><td>서울특별시</td><td>용산구   </td><td>235,186</td><td>108,138</td><td>2.17</td><td>114,119</td><td>121,067</td><td>0.94</td></tr>\n",
       "\t<tr><th scope=row>5</th><td>서울특별시</td><td>성동구   </td><td>298,145</td><td>126,915</td><td>2.35</td><td>148,265</td><td>149,880</td><td>0.99</td></tr>\n",
       "\t<tr><th scope=row>6</th><td>서울특별시</td><td>광진구   </td><td>362,197</td><td>158,769</td><td>2.28</td><td>177,946</td><td>184,251</td><td>0.97</td></tr>\n",
       "\t<tr><th scope=row>7</th><td>서울특별시</td><td>동대문구 </td><td>362,604</td><td>160,110</td><td>2.26</td><td>181,825</td><td>180,779</td><td>1.01</td></tr>\n",
       "</tbody>\n",
       "</table>\n"
      ],
      "text/latex": [
       "A data.frame: 6 × 8\n",
       "\\begin{tabular}{r|llllllll}\n",
       "  & Provinces & City & Population & Households & PersInHou & Male & Female & SexRatio\\\\\n",
       "  & <chr> & <chr> & <chr> & <chr> & <dbl> & <chr> & <chr> & <dbl>\\\\\n",
       "\\hline\n",
       "\t2 & 서울특별시 & 종로구    & 155,695 & 72,882  & 2.14 & 76,962  & 78,733  & 0.98\\\\\n",
       "\t3 & 서울특별시 & 중구      & 126,817 & 59,614  & 2.13 & 63,292  & 63,525  & 1.00\\\\\n",
       "\t4 & 서울특별시 & 용산구    & 235,186 & 108,138 & 2.17 & 114,119 & 121,067 & 0.94\\\\\n",
       "\t5 & 서울특별시 & 성동구    & 298,145 & 126,915 & 2.35 & 148,265 & 149,880 & 0.99\\\\\n",
       "\t6 & 서울특별시 & 광진구    & 362,197 & 158,769 & 2.28 & 177,946 & 184,251 & 0.97\\\\\n",
       "\t7 & 서울특별시 & 동대문구  & 362,604 & 160,110 & 2.26 & 181,825 & 180,779 & 1.01\\\\\n",
       "\\end{tabular}\n"
      ],
      "text/markdown": [
       "\n",
       "A data.frame: 6 × 8\n",
       "\n",
       "| <!--/--> | Provinces &lt;chr&gt; | City &lt;chr&gt; | Population &lt;chr&gt; | Households &lt;chr&gt; | PersInHou &lt;dbl&gt; | Male &lt;chr&gt; | Female &lt;chr&gt; | SexRatio &lt;dbl&gt; |\n",
       "|---|---|---|---|---|---|---|---|---|\n",
       "| 2 | 서울특별시 | 종로구    | 155,695 | 72,882  | 2.14 | 76,962  | 78,733  | 0.98 |\n",
       "| 3 | 서울특별시 | 중구      | 126,817 | 59,614  | 2.13 | 63,292  | 63,525  | 1.00 |\n",
       "| 4 | 서울특별시 | 용산구    | 235,186 | 108,138 | 2.17 | 114,119 | 121,067 | 0.94 |\n",
       "| 5 | 서울특별시 | 성동구    | 298,145 | 126,915 | 2.35 | 148,265 | 149,880 | 0.99 |\n",
       "| 6 | 서울특별시 | 광진구    | 362,197 | 158,769 | 2.28 | 177,946 | 184,251 | 0.97 |\n",
       "| 7 | 서울특별시 | 동대문구  | 362,604 | 160,110 | 2.26 | 181,825 | 180,779 | 1.01 |\n",
       "\n"
      ],
      "text/plain": [
       "  Provinces  City      Population Households PersInHou Male    Female  SexRatio\n",
       "2 서울특별시 종로구    155,695    72,882     2.14      76,962  78,733  0.98    \n",
       "3 서울특별시 중구      126,817    59,614     2.13      63,292  63,525  1.00    \n",
       "4 서울특별시 용산구    235,186    108,138    2.17      114,119 121,067 0.94    \n",
       "5 서울특별시 성동구    298,145    126,915    2.35      148,265 149,880 0.99    \n",
       "6 서울특별시 광진구    362,197    158,769    2.28      177,946 184,251 0.97    \n",
       "7 서울특별시 동대문구  362,604    160,110    2.26      181,825 180,779 1.01    "
      ]
     },
     "metadata": {},
     "output_type": "display_data"
    },
    {
     "data": {
      "text/html": [
       "<table class=\"dataframe\">\n",
       "<caption>A data.frame: 0 × 8</caption>\n",
       "<thead>\n",
       "\t<tr><th scope=col>Provinces</th><th scope=col>City</th><th scope=col>Population</th><th scope=col>Households</th><th scope=col>PersInHou</th><th scope=col>Male</th><th scope=col>Female</th><th scope=col>SexRatio</th></tr>\n",
       "\t<tr><th scope=col>&lt;chr&gt;</th><th scope=col>&lt;chr&gt;</th><th scope=col>&lt;chr&gt;</th><th scope=col>&lt;chr&gt;</th><th scope=col>&lt;dbl&gt;</th><th scope=col>&lt;chr&gt;</th><th scope=col>&lt;chr&gt;</th><th scope=col>&lt;dbl&gt;</th></tr>\n",
       "</thead>\n",
       "<tbody>\n",
       "</tbody>\n",
       "</table>\n"
      ],
      "text/latex": [
       "A data.frame: 0 × 8\n",
       "\\begin{tabular}{llllllll}\n",
       " Provinces & City & Population & Households & PersInHou & Male & Female & SexRatio\\\\\n",
       " <chr> & <chr> & <chr> & <chr> & <dbl> & <chr> & <chr> & <dbl>\\\\\n",
       "\\hline\n",
       "\\end{tabular}\n"
      ],
      "text/markdown": [
       "\n",
       "A data.frame: 0 × 8\n",
       "\n",
       "| Provinces &lt;chr&gt; | City &lt;chr&gt; | Population &lt;chr&gt; | Households &lt;chr&gt; | PersInHou &lt;dbl&gt; | Male &lt;chr&gt; | Female &lt;chr&gt; | SexRatio &lt;dbl&gt; |\n",
       "|---|---|---|---|---|---|---|---|\n",
       "\n"
      ],
      "text/plain": [
       "     Provinces City Population Households PersInHou Male Female SexRatio"
      ]
     },
     "metadata": {},
     "output_type": "display_data"
    }
   ],
   "source": [
    "# NA행 삭제 - complete.cases() NA 가 있는 행 FALSE\n",
    "df_new2 <- df_new[complete.cases(df_new),]\n",
    "head(df_new2)\n",
    "df_new2[df_new2$Provinces == '세종특별자치시',]"
   ]
  },
  {
   "cell_type": "code",
   "execution_count": 13,
   "id": "43d1f5de",
   "metadata": {},
   "outputs": [
    {
     "data": {
      "text/html": [
       "<style>\n",
       ".list-inline {list-style: none; margin:0; padding: 0}\n",
       ".list-inline>li {display: inline-block}\n",
       ".list-inline>li:not(:last-child)::after {content: \"\\00b7\"; padding: 0 .5ex}\n",
       "</style>\n",
       "<ol class=list-inline><li>FALSE</li><li>TRUE</li><li>TRUE</li><li>TRUE</li><li>TRUE</li><li>TRUE</li></ol>\n"
      ],
      "text/latex": [
       "\\begin{enumerate*}\n",
       "\\item FALSE\n",
       "\\item TRUE\n",
       "\\item TRUE\n",
       "\\item TRUE\n",
       "\\item TRUE\n",
       "\\item TRUE\n",
       "\\end{enumerate*}\n"
      ],
      "text/markdown": [
       "1. FALSE\n",
       "2. TRUE\n",
       "3. TRUE\n",
       "4. TRUE\n",
       "5. TRUE\n",
       "6. TRUE\n",
       "\n",
       "\n"
      ],
      "text/plain": [
       "[1] FALSE  TRUE  TRUE  TRUE  TRUE  TRUE"
      ]
     },
     "metadata": {},
     "output_type": "display_data"
    }
   ],
   "source": [
    "head(complete.cases(df_new))\n"
   ]
  },
  {
   "cell_type": "code",
   "execution_count": 14,
   "id": "d754da89",
   "metadata": {},
   "outputs": [
    {
     "data": {
      "text/html": [
       "<table class=\"dataframe\">\n",
       "<caption>A matrix: 6 × 8 of type lgl</caption>\n",
       "<thead>\n",
       "\t<tr><th scope=col>Provinces</th><th scope=col>City</th><th scope=col>Population</th><th scope=col>Households</th><th scope=col>PersInHou</th><th scope=col>Male</th><th scope=col>Female</th><th scope=col>SexRatio</th></tr>\n",
       "</thead>\n",
       "<tbody>\n",
       "\t<tr><td>FALSE</td><td> TRUE</td><td>FALSE</td><td>FALSE</td><td>FALSE</td><td>FALSE</td><td>FALSE</td><td>FALSE</td></tr>\n",
       "\t<tr><td>FALSE</td><td>FALSE</td><td>FALSE</td><td>FALSE</td><td>FALSE</td><td>FALSE</td><td>FALSE</td><td>FALSE</td></tr>\n",
       "\t<tr><td>FALSE</td><td>FALSE</td><td>FALSE</td><td>FALSE</td><td>FALSE</td><td>FALSE</td><td>FALSE</td><td>FALSE</td></tr>\n",
       "\t<tr><td>FALSE</td><td>FALSE</td><td>FALSE</td><td>FALSE</td><td>FALSE</td><td>FALSE</td><td>FALSE</td><td>FALSE</td></tr>\n",
       "\t<tr><td>FALSE</td><td>FALSE</td><td>FALSE</td><td>FALSE</td><td>FALSE</td><td>FALSE</td><td>FALSE</td><td>FALSE</td></tr>\n",
       "\t<tr><td>FALSE</td><td>FALSE</td><td>FALSE</td><td>FALSE</td><td>FALSE</td><td>FALSE</td><td>FALSE</td><td>FALSE</td></tr>\n",
       "</tbody>\n",
       "</table>\n"
      ],
      "text/latex": [
       "A matrix: 6 × 8 of type lgl\n",
       "\\begin{tabular}{llllllll}\n",
       " Provinces & City & Population & Households & PersInHou & Male & Female & SexRatio\\\\\n",
       "\\hline\n",
       "\t FALSE &  TRUE & FALSE & FALSE & FALSE & FALSE & FALSE & FALSE\\\\\n",
       "\t FALSE & FALSE & FALSE & FALSE & FALSE & FALSE & FALSE & FALSE\\\\\n",
       "\t FALSE & FALSE & FALSE & FALSE & FALSE & FALSE & FALSE & FALSE\\\\\n",
       "\t FALSE & FALSE & FALSE & FALSE & FALSE & FALSE & FALSE & FALSE\\\\\n",
       "\t FALSE & FALSE & FALSE & FALSE & FALSE & FALSE & FALSE & FALSE\\\\\n",
       "\t FALSE & FALSE & FALSE & FALSE & FALSE & FALSE & FALSE & FALSE\\\\\n",
       "\\end{tabular}\n"
      ],
      "text/markdown": [
       "\n",
       "A matrix: 6 × 8 of type lgl\n",
       "\n",
       "| Provinces | City | Population | Households | PersInHou | Male | Female | SexRatio |\n",
       "|---|---|---|---|---|---|---|---|\n",
       "| FALSE |  TRUE | FALSE | FALSE | FALSE | FALSE | FALSE | FALSE |\n",
       "| FALSE | FALSE | FALSE | FALSE | FALSE | FALSE | FALSE | FALSE |\n",
       "| FALSE | FALSE | FALSE | FALSE | FALSE | FALSE | FALSE | FALSE |\n",
       "| FALSE | FALSE | FALSE | FALSE | FALSE | FALSE | FALSE | FALSE |\n",
       "| FALSE | FALSE | FALSE | FALSE | FALSE | FALSE | FALSE | FALSE |\n",
       "| FALSE | FALSE | FALSE | FALSE | FALSE | FALSE | FALSE | FALSE |\n",
       "\n"
      ],
      "text/plain": [
       "     Provinces City  Population Households PersInHou Male  Female SexRatio\n",
       "[1,] FALSE      TRUE FALSE      FALSE      FALSE     FALSE FALSE  FALSE   \n",
       "[2,] FALSE     FALSE FALSE      FALSE      FALSE     FALSE FALSE  FALSE   \n",
       "[3,] FALSE     FALSE FALSE      FALSE      FALSE     FALSE FALSE  FALSE   \n",
       "[4,] FALSE     FALSE FALSE      FALSE      FALSE     FALSE FALSE  FALSE   \n",
       "[5,] FALSE     FALSE FALSE      FALSE      FALSE     FALSE FALSE  FALSE   \n",
       "[6,] FALSE     FALSE FALSE      FALSE      FALSE     FALSE FALSE  FALSE   "
      ]
     },
     "metadata": {},
     "output_type": "display_data"
    }
   ],
   "source": [
    "# is.na() NA 가 있는 값 TRUE\n",
    "head(is.na(df_new))\n"
   ]
  },
  {
   "cell_type": "code",
   "execution_count": 15,
   "id": "029a818b",
   "metadata": {},
   "outputs": [
    {
     "data": {
      "text/html": [
       "<table class=\"dataframe\">\n",
       "<caption>A data.frame: 18 × 8</caption>\n",
       "<thead>\n",
       "\t<tr><th></th><th scope=col>Provinces</th><th scope=col>City</th><th scope=col>Population</th><th scope=col>Households</th><th scope=col>PersInHou</th><th scope=col>Male</th><th scope=col>Female</th><th scope=col>SexRatio</th></tr>\n",
       "\t<tr><th></th><th scope=col>&lt;chr&gt;</th><th scope=col>&lt;chr&gt;</th><th scope=col>&lt;chr&gt;</th><th scope=col>&lt;chr&gt;</th><th scope=col>&lt;dbl&gt;</th><th scope=col>&lt;chr&gt;</th><th scope=col>&lt;chr&gt;</th><th scope=col>&lt;dbl&gt;</th></tr>\n",
       "</thead>\n",
       "<tbody>\n",
       "\t<tr><th scope=row>1</th><td>서울특별시    </td><td>NA</td><td>10,078,850</td><td>4,197,478</td><td>2.40</td><td>4,962,774</td><td>5,116,076</td><td>0.97</td></tr>\n",
       "\t<tr><th scope=row>27</th><td>부산광역시    </td><td>NA</td><td>3,517,491 </td><td>1,430,441</td><td>2.46</td><td>1,737,975</td><td>1,779,516</td><td>0.98</td></tr>\n",
       "\t<tr><th scope=row>44</th><td>대구광역시    </td><td>NA</td><td>2,491,137 </td><td>977,714  </td><td>2.55</td><td>1,239,275</td><td>1,251,862</td><td>0.99</td></tr>\n",
       "\t<tr><th scope=row>53</th><td>인천광역시    </td><td>NA</td><td>2,914,271 </td><td>1,145,232</td><td>2.54</td><td>1,464,320</td><td>1,449,951</td><td>1.01</td></tr>\n",
       "\t<tr><th scope=row>64</th><td>광주광역시    </td><td>NA</td><td>1,476,974 </td><td>577,941  </td><td>2.56</td><td>731,808  </td><td>745,166  </td><td>0.98</td></tr>\n",
       "\t<tr><th scope=row>70</th><td>대전광역시    </td><td>NA</td><td>1,525,656 </td><td>595,216  </td><td>2.56</td><td>763,262  </td><td>762,394  </td><td>1.00</td></tr>\n",
       "\t<tr><th scope=row>76</th><td>울산광역시    </td><td>NA</td><td>1,169,768 </td><td>447,229  </td><td>2.62</td><td>602,945  </td><td>566,823  </td><td>1.06</td></tr>\n",
       "\t<tr><th scope=row>82</th><td>세종특별자치시</td><td>NA</td><td>185,212   </td><td>72,733   </td><td>2.55</td><td>93,058   </td><td>92,154   </td><td>1.01</td></tr>\n",
       "\t<tr><th scope=row>83</th><td>세종특별자치시</td><td>NA</td><td>185,212   </td><td>72,733   </td><td>2.55</td><td>93,058   </td><td>92,154   </td><td>1.01</td></tr>\n",
       "\t<tr><th scope=row>84</th><td>경기도        </td><td>NA</td><td>12,432,063</td><td>4,829,521</td><td>2.57</td><td>6,256,986</td><td>6,175,077</td><td>1.01</td></tr>\n",
       "\t<tr><th scope=row>136</th><td>강원도        </td><td>NA</td><td>1,547,166 </td><td>680,373  </td><td>2.27</td><td>780,487  </td><td>766,679  </td><td>1.02</td></tr>\n",
       "\t<tr><th scope=row>155</th><td>충청북도      </td><td>NA</td><td>1,582,181 </td><td>664,186  </td><td>2.38</td><td>797,908  </td><td>784,273  </td><td>1.02</td></tr>\n",
       "\t<tr><th scope=row>171</th><td>충청남도      </td><td>NA</td><td>2,068,444 </td><td>878,544  </td><td>2.35</td><td>1,049,546</td><td>1,018,898</td><td>1.03</td></tr>\n",
       "\t<tr><th scope=row>189</th><td>전라북도      </td><td>NA</td><td>1,869,668 </td><td>778,350  </td><td>2.40</td><td>930,224  </td><td>939,444  </td><td>0.99</td></tr>\n",
       "\t<tr><th scope=row>206</th><td>전라남도      </td><td>NA</td><td>1,902,638 </td><td>827,264  </td><td>2.30</td><td>950,693  </td><td>951,945  </td><td>1.00</td></tr>\n",
       "\t<tr><th scope=row>229</th><td>경상북도      </td><td>NA</td><td>2,697,791 </td><td>1,160,150</td><td>2.33</td><td>1,354,618</td><td>1,343,173</td><td>1.01</td></tr>\n",
       "\t<tr><th scope=row>255</th><td>경상남도      </td><td>NA</td><td>3,356,540 </td><td>1,356,430</td><td>2.47</td><td>1,690,798</td><td>1,665,742</td><td>1.02</td></tr>\n",
       "\t<tr><th scope=row>279</th><td>제주특별자치도</td><td>NA</td><td>615,250   </td><td>251,478  </td><td>2.45</td><td>308,627  </td><td>306,623  </td><td>1.01</td></tr>\n",
       "</tbody>\n",
       "</table>\n"
      ],
      "text/latex": [
       "A data.frame: 18 × 8\n",
       "\\begin{tabular}{r|llllllll}\n",
       "  & Provinces & City & Population & Households & PersInHou & Male & Female & SexRatio\\\\\n",
       "  & <chr> & <chr> & <chr> & <chr> & <dbl> & <chr> & <chr> & <dbl>\\\\\n",
       "\\hline\n",
       "\t1 & 서울특별시     & NA & 10,078,850 & 4,197,478 & 2.40 & 4,962,774 & 5,116,076 & 0.97\\\\\n",
       "\t27 & 부산광역시     & NA & 3,517,491  & 1,430,441 & 2.46 & 1,737,975 & 1,779,516 & 0.98\\\\\n",
       "\t44 & 대구광역시     & NA & 2,491,137  & 977,714   & 2.55 & 1,239,275 & 1,251,862 & 0.99\\\\\n",
       "\t53 & 인천광역시     & NA & 2,914,271  & 1,145,232 & 2.54 & 1,464,320 & 1,449,951 & 1.01\\\\\n",
       "\t64 & 광주광역시     & NA & 1,476,974  & 577,941   & 2.56 & 731,808   & 745,166   & 0.98\\\\\n",
       "\t70 & 대전광역시     & NA & 1,525,656  & 595,216   & 2.56 & 763,262   & 762,394   & 1.00\\\\\n",
       "\t76 & 울산광역시     & NA & 1,169,768  & 447,229   & 2.62 & 602,945   & 566,823   & 1.06\\\\\n",
       "\t82 & 세종특별자치시 & NA & 185,212    & 72,733    & 2.55 & 93,058    & 92,154    & 1.01\\\\\n",
       "\t83 & 세종특별자치시 & NA & 185,212    & 72,733    & 2.55 & 93,058    & 92,154    & 1.01\\\\\n",
       "\t84 & 경기도         & NA & 12,432,063 & 4,829,521 & 2.57 & 6,256,986 & 6,175,077 & 1.01\\\\\n",
       "\t136 & 강원도         & NA & 1,547,166  & 680,373   & 2.27 & 780,487   & 766,679   & 1.02\\\\\n",
       "\t155 & 충청북도       & NA & 1,582,181  & 664,186   & 2.38 & 797,908   & 784,273   & 1.02\\\\\n",
       "\t171 & 충청남도       & NA & 2,068,444  & 878,544   & 2.35 & 1,049,546 & 1,018,898 & 1.03\\\\\n",
       "\t189 & 전라북도       & NA & 1,869,668  & 778,350   & 2.40 & 930,224   & 939,444   & 0.99\\\\\n",
       "\t206 & 전라남도       & NA & 1,902,638  & 827,264   & 2.30 & 950,693   & 951,945   & 1.00\\\\\n",
       "\t229 & 경상북도       & NA & 2,697,791  & 1,160,150 & 2.33 & 1,354,618 & 1,343,173 & 1.01\\\\\n",
       "\t255 & 경상남도       & NA & 3,356,540  & 1,356,430 & 2.47 & 1,690,798 & 1,665,742 & 1.02\\\\\n",
       "\t279 & 제주특별자치도 & NA & 615,250    & 251,478   & 2.45 & 308,627   & 306,623   & 1.01\\\\\n",
       "\\end{tabular}\n"
      ],
      "text/markdown": [
       "\n",
       "A data.frame: 18 × 8\n",
       "\n",
       "| <!--/--> | Provinces &lt;chr&gt; | City &lt;chr&gt; | Population &lt;chr&gt; | Households &lt;chr&gt; | PersInHou &lt;dbl&gt; | Male &lt;chr&gt; | Female &lt;chr&gt; | SexRatio &lt;dbl&gt; |\n",
       "|---|---|---|---|---|---|---|---|---|\n",
       "| 1 | 서울특별시     | NA | 10,078,850 | 4,197,478 | 2.40 | 4,962,774 | 5,116,076 | 0.97 |\n",
       "| 27 | 부산광역시     | NA | 3,517,491  | 1,430,441 | 2.46 | 1,737,975 | 1,779,516 | 0.98 |\n",
       "| 44 | 대구광역시     | NA | 2,491,137  | 977,714   | 2.55 | 1,239,275 | 1,251,862 | 0.99 |\n",
       "| 53 | 인천광역시     | NA | 2,914,271  | 1,145,232 | 2.54 | 1,464,320 | 1,449,951 | 1.01 |\n",
       "| 64 | 광주광역시     | NA | 1,476,974  | 577,941   | 2.56 | 731,808   | 745,166   | 0.98 |\n",
       "| 70 | 대전광역시     | NA | 1,525,656  | 595,216   | 2.56 | 763,262   | 762,394   | 1.00 |\n",
       "| 76 | 울산광역시     | NA | 1,169,768  | 447,229   | 2.62 | 602,945   | 566,823   | 1.06 |\n",
       "| 82 | 세종특별자치시 | NA | 185,212    | 72,733    | 2.55 | 93,058    | 92,154    | 1.01 |\n",
       "| 83 | 세종특별자치시 | NA | 185,212    | 72,733    | 2.55 | 93,058    | 92,154    | 1.01 |\n",
       "| 84 | 경기도         | NA | 12,432,063 | 4,829,521 | 2.57 | 6,256,986 | 6,175,077 | 1.01 |\n",
       "| 136 | 강원도         | NA | 1,547,166  | 680,373   | 2.27 | 780,487   | 766,679   | 1.02 |\n",
       "| 155 | 충청북도       | NA | 1,582,181  | 664,186   | 2.38 | 797,908   | 784,273   | 1.02 |\n",
       "| 171 | 충청남도       | NA | 2,068,444  | 878,544   | 2.35 | 1,049,546 | 1,018,898 | 1.03 |\n",
       "| 189 | 전라북도       | NA | 1,869,668  | 778,350   | 2.40 | 930,224   | 939,444   | 0.99 |\n",
       "| 206 | 전라남도       | NA | 1,902,638  | 827,264   | 2.30 | 950,693   | 951,945   | 1.00 |\n",
       "| 229 | 경상북도       | NA | 2,697,791  | 1,160,150 | 2.33 | 1,354,618 | 1,343,173 | 1.01 |\n",
       "| 255 | 경상남도       | NA | 3,356,540  | 1,356,430 | 2.47 | 1,690,798 | 1,665,742 | 1.02 |\n",
       "| 279 | 제주특별자치도 | NA | 615,250    | 251,478   | 2.45 | 308,627   | 306,623   | 1.01 |\n",
       "\n"
      ],
      "text/plain": [
       "    Provinces      City Population Households PersInHou Male      Female   \n",
       "1   서울특별시     NA   10,078,850 4,197,478  2.40      4,962,774 5,116,076\n",
       "27  부산광역시     NA   3,517,491  1,430,441  2.46      1,737,975 1,779,516\n",
       "44  대구광역시     NA   2,491,137  977,714    2.55      1,239,275 1,251,862\n",
       "53  인천광역시     NA   2,914,271  1,145,232  2.54      1,464,320 1,449,951\n",
       "64  광주광역시     NA   1,476,974  577,941    2.56      731,808   745,166  \n",
       "70  대전광역시     NA   1,525,656  595,216    2.56      763,262   762,394  \n",
       "76  울산광역시     NA   1,169,768  447,229    2.62      602,945   566,823  \n",
       "82  세종특별자치시 NA   185,212    72,733     2.55      93,058    92,154   \n",
       "83  세종특별자치시 NA   185,212    72,733     2.55      93,058    92,154   \n",
       "84  경기도         NA   12,432,063 4,829,521  2.57      6,256,986 6,175,077\n",
       "136 강원도         NA   1,547,166  680,373    2.27      780,487   766,679  \n",
       "155 충청북도       NA   1,582,181  664,186    2.38      797,908   784,273  \n",
       "171 충청남도       NA   2,068,444  878,544    2.35      1,049,546 1,018,898\n",
       "189 전라북도       NA   1,869,668  778,350    2.40      930,224   939,444  \n",
       "206 전라남도       NA   1,902,638  827,264    2.30      950,693   951,945  \n",
       "229 경상북도       NA   2,697,791  1,160,150  2.33      1,354,618 1,343,173\n",
       "255 경상남도       NA   3,356,540  1,356,430  2.47      1,690,798 1,665,742\n",
       "279 제주특별자치도 NA   615,250    251,478    2.45      308,627   306,623  \n",
       "    SexRatio\n",
       "1   0.97    \n",
       "27  0.98    \n",
       "44  0.99    \n",
       "53  1.01    \n",
       "64  0.98    \n",
       "70  1.00    \n",
       "76  1.06    \n",
       "82  1.01    \n",
       "83  1.01    \n",
       "84  1.01    \n",
       "136 1.02    \n",
       "155 1.02    \n",
       "171 1.03    \n",
       "189 0.99    \n",
       "206 1.00    \n",
       "229 1.01    \n",
       "255 1.02    \n",
       "279 1.01    "
      ]
     },
     "metadata": {},
     "output_type": "display_data"
    }
   ],
   "source": [
    "# NA 가 있는 행 불러오기\n",
    "df_new3 <- df_new[is.na(df_new$City),]\n",
    "df_new3\n"
   ]
  },
  {
   "cell_type": "code",
   "execution_count": 16,
   "id": "7f68bbd0",
   "metadata": {},
   "outputs": [
    {
     "data": {
      "text/html": [
       "<table class=\"dataframe\">\n",
       "<caption>A data.frame: 6 × 8</caption>\n",
       "<thead>\n",
       "\t<tr><th></th><th scope=col>Provinces</th><th scope=col>City</th><th scope=col>Population</th><th scope=col>Households</th><th scope=col>PersInHou</th><th scope=col>Male</th><th scope=col>Female</th><th scope=col>SexRatio</th></tr>\n",
       "\t<tr><th></th><th scope=col>&lt;chr&gt;</th><th scope=col>&lt;chr&gt;</th><th scope=col>&lt;chr&gt;</th><th scope=col>&lt;chr&gt;</th><th scope=col>&lt;dbl&gt;</th><th scope=col>&lt;chr&gt;</th><th scope=col>&lt;chr&gt;</th><th scope=col>&lt;dbl&gt;</th></tr>\n",
       "</thead>\n",
       "<tbody>\n",
       "\t<tr><th scope=row>1</th><td>서울특별시</td><td>NA</td><td>10,078,850</td><td>4,197,478</td><td>2.40</td><td>4,962,774</td><td>5,116,076</td><td>0.97</td></tr>\n",
       "\t<tr><th scope=row>27</th><td>부산광역시</td><td>NA</td><td>3,517,491 </td><td>1,430,441</td><td>2.46</td><td>1,737,975</td><td>1,779,516</td><td>0.98</td></tr>\n",
       "\t<tr><th scope=row>44</th><td>대구광역시</td><td>NA</td><td>2,491,137 </td><td>977,714  </td><td>2.55</td><td>1,239,275</td><td>1,251,862</td><td>0.99</td></tr>\n",
       "\t<tr><th scope=row>53</th><td>인천광역시</td><td>NA</td><td>2,914,271 </td><td>1,145,232</td><td>2.54</td><td>1,464,320</td><td>1,449,951</td><td>1.01</td></tr>\n",
       "\t<tr><th scope=row>64</th><td>광주광역시</td><td>NA</td><td>1,476,974 </td><td>577,941  </td><td>2.56</td><td>731,808  </td><td>745,166  </td><td>0.98</td></tr>\n",
       "\t<tr><th scope=row>70</th><td>대전광역시</td><td>NA</td><td>1,525,656 </td><td>595,216  </td><td>2.56</td><td>763,262  </td><td>762,394  </td><td>1.00</td></tr>\n",
       "</tbody>\n",
       "</table>\n"
      ],
      "text/latex": [
       "A data.frame: 6 × 8\n",
       "\\begin{tabular}{r|llllllll}\n",
       "  & Provinces & City & Population & Households & PersInHou & Male & Female & SexRatio\\\\\n",
       "  & <chr> & <chr> & <chr> & <chr> & <dbl> & <chr> & <chr> & <dbl>\\\\\n",
       "\\hline\n",
       "\t1 & 서울특별시 & NA & 10,078,850 & 4,197,478 & 2.40 & 4,962,774 & 5,116,076 & 0.97\\\\\n",
       "\t27 & 부산광역시 & NA & 3,517,491  & 1,430,441 & 2.46 & 1,737,975 & 1,779,516 & 0.98\\\\\n",
       "\t44 & 대구광역시 & NA & 2,491,137  & 977,714   & 2.55 & 1,239,275 & 1,251,862 & 0.99\\\\\n",
       "\t53 & 인천광역시 & NA & 2,914,271  & 1,145,232 & 2.54 & 1,464,320 & 1,449,951 & 1.01\\\\\n",
       "\t64 & 광주광역시 & NA & 1,476,974  & 577,941   & 2.56 & 731,808   & 745,166   & 0.98\\\\\n",
       "\t70 & 대전광역시 & NA & 1,525,656  & 595,216   & 2.56 & 763,262   & 762,394   & 1.00\\\\\n",
       "\\end{tabular}\n"
      ],
      "text/markdown": [
       "\n",
       "A data.frame: 6 × 8\n",
       "\n",
       "| <!--/--> | Provinces &lt;chr&gt; | City &lt;chr&gt; | Population &lt;chr&gt; | Households &lt;chr&gt; | PersInHou &lt;dbl&gt; | Male &lt;chr&gt; | Female &lt;chr&gt; | SexRatio &lt;dbl&gt; |\n",
       "|---|---|---|---|---|---|---|---|---|\n",
       "| 1 | 서울특별시 | NA | 10,078,850 | 4,197,478 | 2.40 | 4,962,774 | 5,116,076 | 0.97 |\n",
       "| 27 | 부산광역시 | NA | 3,517,491  | 1,430,441 | 2.46 | 1,737,975 | 1,779,516 | 0.98 |\n",
       "| 44 | 대구광역시 | NA | 2,491,137  | 977,714   | 2.55 | 1,239,275 | 1,251,862 | 0.99 |\n",
       "| 53 | 인천광역시 | NA | 2,914,271  | 1,145,232 | 2.54 | 1,464,320 | 1,449,951 | 1.01 |\n",
       "| 64 | 광주광역시 | NA | 1,476,974  | 577,941   | 2.56 | 731,808   | 745,166   | 0.98 |\n",
       "| 70 | 대전광역시 | NA | 1,525,656  | 595,216   | 2.56 | 763,262   | 762,394   | 1.00 |\n",
       "\n"
      ],
      "text/plain": [
       "   Provinces  City Population Households PersInHou Male      Female    SexRatio\n",
       "1  서울특별시 NA   10,078,850 4,197,478  2.40      4,962,774 5,116,076 0.97    \n",
       "27 부산광역시 NA   3,517,491  1,430,441  2.46      1,737,975 1,779,516 0.98    \n",
       "44 대구광역시 NA   2,491,137  977,714    2.55      1,239,275 1,251,862 0.99    \n",
       "53 인천광역시 NA   2,914,271  1,145,232  2.54      1,464,320 1,449,951 1.01    \n",
       "64 광주광역시 NA   1,476,974  577,941    2.56      731,808   745,166   0.98    \n",
       "70 대전광역시 NA   1,525,656  595,216    2.56      763,262   762,394   1.00    "
      ]
     },
     "metadata": {},
     "output_type": "display_data"
    }
   ],
   "source": [
    "df_new4 <- df_new[!complete.cases(df_new),]\n",
    "head(df_new4)\n"
   ]
  },
  {
   "cell_type": "code",
   "execution_count": 17,
   "id": "142e3898",
   "metadata": {},
   "outputs": [
    {
     "name": "stdout",
     "output_type": "stream",
     "text": [
      "'data.frame':\t263 obs. of  8 variables:\n",
      " $ Provinces : chr  \"서울특별시\" \"서울특별시\" \"서울특별시\" \"서울특별시\" ...\n",
      " $ City      : chr  \"종로구 \" \"중구 \" \"용산구 \" \"성동구 \" ...\n",
      " $ Population: chr  \"155,695\" \"126,817\" \"235,186\" \"298,145\" ...\n",
      " $ Households: chr  \"72,882\" \"59,614\" \"108,138\" \"126,915\" ...\n",
      " $ PersInHou : num  2.14 2.13 2.17 2.35 2.28 2.26 2.36 2.41 2.36 2.57 ...\n",
      " $ Male      : chr  \"76,962\" \"63,292\" \"114,119\" \"148,265\" ...\n",
      " $ Female    : chr  \"78,733\" \"63,525\" \"121,067\" \"149,880\" ...\n",
      " $ SexRatio  : num  0.98 1 0.94 0.99 0.97 1.01 1 0.96 0.97 0.97 ...\n"
     ]
    }
   ],
   "source": [
    "# 인구수 변수 \",\" 처리하고 수치형으로 변환\n",
    "str(df_new2)\n"
   ]
  },
  {
   "cell_type": "code",
   "execution_count": 18,
   "id": "9c3cd48f",
   "metadata": {},
   "outputs": [],
   "source": [
    "for(i in 3:8){\n",
    "    df_new2[,i] <- sapply(df_new2[,i], function(x) gsub(',','',x))\n",
    "    df_new2[,i] <- as.numeric(df_new2[,i])\n",
    "}\n",
    "df_fin <- df_new2"
   ]
  },
  {
   "cell_type": "code",
   "execution_count": 19,
   "id": "7e01ea37",
   "metadata": {},
   "outputs": [
    {
     "data": {
      "text/html": [
       "<table class=\"dataframe\">\n",
       "<caption>A data.frame: 6 × 8</caption>\n",
       "<thead>\n",
       "\t<tr><th></th><th scope=col>Provinces</th><th scope=col>City</th><th scope=col>Population</th><th scope=col>Households</th><th scope=col>PersInHou</th><th scope=col>Male</th><th scope=col>Female</th><th scope=col>SexRatio</th></tr>\n",
       "\t<tr><th></th><th scope=col>&lt;chr&gt;</th><th scope=col>&lt;chr&gt;</th><th scope=col>&lt;dbl&gt;</th><th scope=col>&lt;dbl&gt;</th><th scope=col>&lt;dbl&gt;</th><th scope=col>&lt;dbl&gt;</th><th scope=col>&lt;dbl&gt;</th><th scope=col>&lt;dbl&gt;</th></tr>\n",
       "</thead>\n",
       "<tbody>\n",
       "\t<tr><th scope=row>2</th><td>서울특별시</td><td>종로구   </td><td>155695</td><td> 72882</td><td>2.14</td><td> 76962</td><td> 78733</td><td>0.98</td></tr>\n",
       "\t<tr><th scope=row>3</th><td>서울특별시</td><td>중구     </td><td>126817</td><td> 59614</td><td>2.13</td><td> 63292</td><td> 63525</td><td>1.00</td></tr>\n",
       "\t<tr><th scope=row>4</th><td>서울특별시</td><td>용산구   </td><td>235186</td><td>108138</td><td>2.17</td><td>114119</td><td>121067</td><td>0.94</td></tr>\n",
       "\t<tr><th scope=row>5</th><td>서울특별시</td><td>성동구   </td><td>298145</td><td>126915</td><td>2.35</td><td>148265</td><td>149880</td><td>0.99</td></tr>\n",
       "\t<tr><th scope=row>6</th><td>서울특별시</td><td>광진구   </td><td>362197</td><td>158769</td><td>2.28</td><td>177946</td><td>184251</td><td>0.97</td></tr>\n",
       "\t<tr><th scope=row>7</th><td>서울특별시</td><td>동대문구 </td><td>362604</td><td>160110</td><td>2.26</td><td>181825</td><td>180779</td><td>1.01</td></tr>\n",
       "</tbody>\n",
       "</table>\n"
      ],
      "text/latex": [
       "A data.frame: 6 × 8\n",
       "\\begin{tabular}{r|llllllll}\n",
       "  & Provinces & City & Population & Households & PersInHou & Male & Female & SexRatio\\\\\n",
       "  & <chr> & <chr> & <dbl> & <dbl> & <dbl> & <dbl> & <dbl> & <dbl>\\\\\n",
       "\\hline\n",
       "\t2 & 서울특별시 & 종로구    & 155695 &  72882 & 2.14 &  76962 &  78733 & 0.98\\\\\n",
       "\t3 & 서울특별시 & 중구      & 126817 &  59614 & 2.13 &  63292 &  63525 & 1.00\\\\\n",
       "\t4 & 서울특별시 & 용산구    & 235186 & 108138 & 2.17 & 114119 & 121067 & 0.94\\\\\n",
       "\t5 & 서울특별시 & 성동구    & 298145 & 126915 & 2.35 & 148265 & 149880 & 0.99\\\\\n",
       "\t6 & 서울특별시 & 광진구    & 362197 & 158769 & 2.28 & 177946 & 184251 & 0.97\\\\\n",
       "\t7 & 서울특별시 & 동대문구  & 362604 & 160110 & 2.26 & 181825 & 180779 & 1.01\\\\\n",
       "\\end{tabular}\n"
      ],
      "text/markdown": [
       "\n",
       "A data.frame: 6 × 8\n",
       "\n",
       "| <!--/--> | Provinces &lt;chr&gt; | City &lt;chr&gt; | Population &lt;dbl&gt; | Households &lt;dbl&gt; | PersInHou &lt;dbl&gt; | Male &lt;dbl&gt; | Female &lt;dbl&gt; | SexRatio &lt;dbl&gt; |\n",
       "|---|---|---|---|---|---|---|---|---|\n",
       "| 2 | 서울특별시 | 종로구    | 155695 |  72882 | 2.14 |  76962 |  78733 | 0.98 |\n",
       "| 3 | 서울특별시 | 중구      | 126817 |  59614 | 2.13 |  63292 |  63525 | 1.00 |\n",
       "| 4 | 서울특별시 | 용산구    | 235186 | 108138 | 2.17 | 114119 | 121067 | 0.94 |\n",
       "| 5 | 서울특별시 | 성동구    | 298145 | 126915 | 2.35 | 148265 | 149880 | 0.99 |\n",
       "| 6 | 서울특별시 | 광진구    | 362197 | 158769 | 2.28 | 177946 | 184251 | 0.97 |\n",
       "| 7 | 서울특별시 | 동대문구  | 362604 | 160110 | 2.26 | 181825 | 180779 | 1.01 |\n",
       "\n"
      ],
      "text/plain": [
       "  Provinces  City      Population Households PersInHou Male   Female SexRatio\n",
       "2 서울특별시 종로구    155695      72882     2.14       76962  78733 0.98    \n",
       "3 서울특별시 중구      126817      59614     2.13       63292  63525 1.00    \n",
       "4 서울특별시 용산구    235186     108138     2.17      114119 121067 0.94    \n",
       "5 서울특별시 성동구    298145     126915     2.35      148265 149880 0.99    \n",
       "6 서울특별시 광진구    362197     158769     2.28      177946 184251 0.97    \n",
       "7 서울특별시 동대문구  362604     160110     2.26      181825 180779 1.01    "
      ]
     },
     "metadata": {},
     "output_type": "display_data"
    }
   ],
   "source": [
    "head(df_fin)\n"
   ]
  },
  {
   "cell_type": "code",
   "execution_count": 22,
   "id": "64bbf53e",
   "metadata": {},
   "outputs": [
    {
     "name": "stdout",
     "output_type": "stream",
     "text": [
      "        강원도         경기도       경상남도       경상북도     광주광역시 \n",
      "       1547166       18723822        4428762        3215695        1476974 \n",
      "    대구광역시     대전광역시     부산광역시     서울특별시     울산광역시 \n",
      "       2491137        1525656        3517491       10078850        1169768 \n",
      "    인천광역시       전라남도       전라북도 제주특별자치도       충청남도 \n",
      "       2914271        1902638        2523806         615250        2671383 \n",
      "      충청북도 \n",
      "       2414568 \n"
     ]
    },
    {
     "data": {
      "text/html": [
       "<style>\n",
       ".dl-inline {width: auto; margin:0; padding: 0}\n",
       ".dl-inline>dt, .dl-inline>dd {float: none; width: auto; display: inline-block}\n",
       ".dl-inline>dt::after {content: \":\\0020\"; padding-right: .5ex}\n",
       ".dl-inline>dt:not(:first-of-type) {padding-left: .5ex}\n",
       "</style><dl class=dl-inline><dt>강원도</dt><dd>1547166</dd><dt>경기도</dt><dd>18723822</dd><dt>경상남도</dt><dd>4428762</dd><dt>경상북도</dt><dd>3215695</dd><dt>광주광역시</dt><dd>1476974</dd><dt>대구광역시</dt><dd>2491137</dd><dt>대전광역시</dt><dd>1525656</dd><dt>부산광역시</dt><dd>3517491</dd><dt>서울특별시</dt><dd>10078850</dd><dt>울산광역시</dt><dd>1169768</dd><dt>인천광역시</dt><dd>2914271</dd><dt>전라남도</dt><dd>1902638</dd><dt>전라북도</dt><dd>2523806</dd><dt>제주특별자치도</dt><dd>615250</dd><dt>충청남도</dt><dd>2671383</dd><dt>충청북도</dt><dd>2414568</dd></dl>\n"
      ],
      "text/latex": [
       "\\begin{description*}\n",
       "\\item[강원도] 1547166\n",
       "\\item[경기도] 18723822\n",
       "\\item[경상남도] 4428762\n",
       "\\item[경상북도] 3215695\n",
       "\\item[광주광역시] 1476974\n",
       "\\item[대구광역시] 2491137\n",
       "\\item[대전광역시] 1525656\n",
       "\\item[부산광역시] 3517491\n",
       "\\item[서울특별시] 10078850\n",
       "\\item[울산광역시] 1169768\n",
       "\\item[인천광역시] 2914271\n",
       "\\item[전라남도] 1902638\n",
       "\\item[전라북도] 2523806\n",
       "\\item[제주특별자치도] 615250\n",
       "\\item[충청남도] 2671383\n",
       "\\item[충청북도] 2414568\n",
       "\\end{description*}\n"
      ],
      "text/markdown": [
       "강원도\n",
       ":   1547166경기도\n",
       ":   18723822경상남도\n",
       ":   4428762경상북도\n",
       ":   3215695광주광역시\n",
       ":   1476974대구광역시\n",
       ":   2491137대전광역시\n",
       ":   1525656부산광역시\n",
       ":   3517491서울특별시\n",
       ":   10078850울산광역시\n",
       ":   1169768인천광역시\n",
       ":   2914271전라남도\n",
       ":   1902638전라북도\n",
       ":   2523806제주특별자치도\n",
       ":   615250충청남도\n",
       ":   2671383충청북도\n",
       ":   2414568\n",
       "\n"
      ],
      "text/plain": [
       "        강원도         경기도       경상남도       경상북도     광주광역시 \n",
       "       1547166       18723822        4428762        3215695        1476974 \n",
       "    대구광역시     대전광역시     부산광역시     서울특별시     울산광역시 \n",
       "       2491137        1525656        3517491       10078850        1169768 \n",
       "    인천광역시       전라남도       전라북도 제주특별자치도       충청남도 \n",
       "       2914271        1902638        2523806         615250        2671383 \n",
       "      충청북도 \n",
       "       2414568 "
      ]
     },
     "metadata": {},
     "output_type": "display_data"
    }
   ],
   "source": [
    "# 그룹혈로 동일한 함수 적용 - tapply(적용할변수, 그룹지을변수, 적욜할함수)\n",
    "# tapply(heigh, sex, mean) - 성별로 키갑 평균\n",
    "# 도(첫번재 변수)별 인구수 합계\n",
    "sum_pop <- tapply(df_fin$Population, df_fin$Provinces, sum)\n",
    "print(sum_pop)\n",
    "sum_pop"
   ]
  },
  {
   "cell_type": "code",
   "execution_count": 23,
   "id": "3464c482",
   "metadata": {},
   "outputs": [
    {
     "data": {
      "text/html": [
       "<style>\n",
       ".dl-inline {width: auto; margin:0; padding: 0}\n",
       ".dl-inline>dt, .dl-inline>dd {float: none; width: auto; display: inline-block}\n",
       ".dl-inline>dt::after {content: \":\\0020\"; padding-right: .5ex}\n",
       ".dl-inline>dt:not(:first-of-type) {padding-left: .5ex}\n",
       "</style><dl class=dl-inline><dt>강원도</dt><dd>1547166</dd><dt>경기도</dt><dd>18723822</dd><dt>경상남도</dt><dd>4428762</dd><dt>경상북도</dt><dd>3215695</dd><dt>광주광역시</dt><dd>1476974</dd><dt>대구광역시</dt><dd>2491137</dd><dt>대전광역시</dt><dd>1525656</dd><dt>부산광역시</dt><dd>3517491</dd><dt>서울특별시</dt><dd>10078850</dd><dt>울산광역시</dt><dd>1169768</dd><dt>인천광역시</dt><dd>2914271</dd><dt>전라남도</dt><dd>1902638</dd><dt>전라북도</dt><dd>2523806</dd><dt>제주특별자치도</dt><dd>615250</dd><dt>충청남도</dt><dd>2671383</dd><dt>충청북도</dt><dd>2414568</dd></dl>\n"
      ],
      "text/latex": [
       "\\begin{description*}\n",
       "\\item[강원도] 1547166\n",
       "\\item[경기도] 18723822\n",
       "\\item[경상남도] 4428762\n",
       "\\item[경상북도] 3215695\n",
       "\\item[광주광역시] 1476974\n",
       "\\item[대구광역시] 2491137\n",
       "\\item[대전광역시] 1525656\n",
       "\\item[부산광역시] 3517491\n",
       "\\item[서울특별시] 10078850\n",
       "\\item[울산광역시] 1169768\n",
       "\\item[인천광역시] 2914271\n",
       "\\item[전라남도] 1902638\n",
       "\\item[전라북도] 2523806\n",
       "\\item[제주특별자치도] 615250\n",
       "\\item[충청남도] 2671383\n",
       "\\item[충청북도] 2414568\n",
       "\\end{description*}\n"
      ],
      "text/markdown": [
       "강원도\n",
       ":   1547166경기도\n",
       ":   18723822경상남도\n",
       ":   4428762경상북도\n",
       ":   3215695광주광역시\n",
       ":   1476974대구광역시\n",
       ":   2491137대전광역시\n",
       ":   1525656부산광역시\n",
       ":   3517491서울특별시\n",
       ":   10078850울산광역시\n",
       ":   1169768인천광역시\n",
       ":   2914271전라남도\n",
       ":   1902638전라북도\n",
       ":   2523806제주특별자치도\n",
       ":   615250충청남도\n",
       ":   2671383충청북도\n",
       ":   2414568\n",
       "\n"
      ],
      "text/plain": [
       "        강원도         경기도       경상남도       경상북도     광주광역시 \n",
       "       1547166       18723822        4428762        3215695        1476974 \n",
       "    대구광역시     대전광역시     부산광역시     서울특별시     울산광역시 \n",
       "       2491137        1525656        3517491       10078850        1169768 \n",
       "    인천광역시       전라남도       전라북도 제주특별자치도       충청남도 \n",
       "       2914271        1902638        2523806         615250        2671383 \n",
       "      충청북도 \n",
       "       2414568 "
      ]
     },
     "metadata": {},
     "output_type": "display_data"
    }
   ],
   "source": [
    "# Level 값이 남아있어 나온 세종특별자치시 삭제\n",
    "df_fin[,1] <- factor(df_fin[,1]) # 갑이 없는 Levle 삭제 됨\n",
    "sum_pop <- tapply(df_fin$Population, df_fin$Provinces, sum)\n",
    "sum_pop"
   ]
  },
  {
   "cell_type": "code",
   "execution_count": 24,
   "id": "bd906bf5",
   "metadata": {},
   "outputs": [],
   "source": [
    "# 시각화 - ggplot()\n",
    "library('ggplot2')\n",
    "library('ggthemes')\n"
   ]
  },
  {
   "cell_type": "code",
   "execution_count": 25,
   "id": "800cfe3b",
   "metadata": {},
   "outputs": [
    {
     "data": {
      "image/png": "[encoded data removed]",
      "text/plain": [
       "plot without title"
      ]
     },
     "metadata": {
      "image/png": {
       "height": 420,
       "width": 420
      }
     },
     "output_type": "display_data"
    }
   ],
   "source": [
    "ggplot(df_fin, aes(x=Provinces, y=Population, fill=Provinces)) +\n",
    "geom_bar(stat='identity') + \n",
    "theme_wsj()\n"
   ]
  },
  {
   "cell_type": "code",
   "execution_count": 26,
   "id": "118b6396",
   "metadata": {},
   "outputs": [],
   "source": [
    "# csv로 저장하기\n",
    "write.csv(df_fin, 'example_population_f.csv')"
   ]
  }
 ],
 "metadata": {
  "kernelspec": {
   "display_name": "R",
   "language": "R",
   "name": "ir"
  },
  "language_info": {
   "codemirror_mode": "r",
   "file_extension": ".r",
   "mimetype": "text/x-r-source",
   "name": "R",
   "pygments_lexer": "r",
   "version": "4.1.3"
  }
 },
 "nbformat": 4,
 "nbformat_minor": 5
}
