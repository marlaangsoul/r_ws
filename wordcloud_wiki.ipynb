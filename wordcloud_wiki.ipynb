{
 "cells": [
  {
   "cell_type": "code",
   "execution_count": 1,
   "id": "681cd873",
   "metadata": {
    "scrolled": true
   },
   "outputs": [
    {
     "name": "stdout",
     "output_type": "stream",
     "text": [
      "package 'rJava' successfully unpacked and MD5 sums checked\n",
      "\n",
      "The downloaded binary packages are in\n",
      "\tC:\\Users\\NOTEBOOK\\AppData\\Local\\Temp\\RtmpGWvJ8I\\downloaded_packages\n"
     ]
    }
   ],
   "source": [
    "install.packages('rJava')\n"
   ]
  },
  {
   "cell_type": "code",
   "execution_count": 2,
   "id": "ce7f434a",
   "metadata": {
    "scrolled": true
   },
   "outputs": [
    {
     "name": "stdout",
     "output_type": "stream",
     "text": [
      "package 'multilinguer' successfully unpacked and MD5 sums checked\n",
      "\n",
      "The downloaded binary packages are in\n",
      "\tC:\\Users\\NOTEBOOK\\AppData\\Local\\Temp\\RtmpGWvJ8I\\downloaded_packages\n"
     ]
    }
   ],
   "source": [
    "install.packages('multilinguer')"
   ]
  },
  {
   "cell_type": "code",
   "execution_count": 3,
   "id": "576da74b",
   "metadata": {
    "scrolled": true
   },
   "outputs": [
    {
     "name": "stderr",
     "output_type": "stream",
     "text": [
      "Warning message:\n",
      "\"package 'binary' is not available for this version of R\n",
      "\n",
      "A version of this package for your version of R might be available elsewhere,\n",
      "see the ideas at\n",
      "https://cran.r-project.org/doc/manuals/r-patched/R-admin.html#Installing-packages\"\n",
      "'plogr'(들)을 또한 설치합니다.\n",
      "\n",
      "\n"
     ]
    },
    {
     "name": "stdout",
     "output_type": "stream",
     "text": [
      "package 'plogr' successfully unpacked and MD5 sums checked\n",
      "package 'stringr' successfully unpacked and MD5 sums checked\n",
      "package 'hash' successfully unpacked and MD5 sums checked\n",
      "package 'tau' successfully unpacked and MD5 sums checked\n",
      "package 'Sejong' successfully unpacked and MD5 sums checked\n",
      "package 'RSQLite' successfully unpacked and MD5 sums checked\n",
      "package 'devtools' successfully unpacked and MD5 sums checked\n",
      "\n",
      "The downloaded binary packages are in\n",
      "\tC:\\Users\\NOTEBOOK\\AppData\\Local\\Temp\\RtmpGWvJ8I\\downloaded_packages\n"
     ]
    }
   ],
   "source": [
    "install.packages(c('stringr','hash','tau','Sejong','RSQLite','devtools',\n",
    "                  type='binary'))"
   ]
  },
  {
   "cell_type": "code",
   "execution_count": 4,
   "id": "7b8448aa",
   "metadata": {
    "scrolled": true
   },
   "outputs": [
    {
     "name": "stdout",
     "output_type": "stream",
     "text": [
      "package 'remotes' successfully unpacked and MD5 sums checked\n",
      "\n",
      "The downloaded binary packages are in\n",
      "\tC:\\Users\\NOTEBOOK\\AppData\\Local\\Temp\\RtmpGWvJ8I\\downloaded_packages\n"
     ]
    }
   ],
   "source": [
    "install.packages('remotes')\n"
   ]
  },
  {
   "cell_type": "code",
   "execution_count": 1,
   "id": "85239fc7",
   "metadata": {
    "scrolled": true
   },
   "outputs": [
    {
     "name": "stderr",
     "output_type": "stream",
     "text": [
      "Skipping install of 'KoNLP' from a github remote, the SHA1 (960fbbcf) has not changed since last install.\n",
      "  Use `force = TRUE` to force installation\n",
      "\n"
     ]
    }
   ],
   "source": [
    "remotes::install_github('haven-jeon/KoNLP'\n",
    "                       ,upgrade='never'\n",
    "                       ,INSTALL_opts=c('--no-multiarch'))"
   ]
  },
  {
   "cell_type": "code",
   "execution_count": 2,
   "id": "465d7f57",
   "metadata": {},
   "outputs": [
    {
     "name": "stderr",
     "output_type": "stream",
     "text": [
      "Checking user defined dictionary!\n",
      "\n",
      "\n"
     ]
    }
   ],
   "source": [
    "library(KoNLP)"
   ]
  },
  {
   "cell_type": "code",
   "execution_count": 3,
   "id": "00141b83",
   "metadata": {},
   "outputs": [
    {
     "name": "stdout",
     "output_type": "stream",
     "text": [
      "Backup was just finished!\n",
      "1213109 words dictionary was built.\n"
     ]
    }
   ],
   "source": [
    "useNIADic()"
   ]
  },
  {
   "cell_type": "code",
   "execution_count": 7,
   "id": "bab8fa3d",
   "metadata": {},
   "outputs": [
    {
     "name": "stderr",
     "output_type": "stream",
     "text": [
      "Warning message in readLines(\"./economy.txt\", encoding = \"UTF-8\"):\n",
      "\"'./economy.txt'에서 불완전한 마지막 행이 발견되었습니다\"\n"
     ]
    }
   ],
   "source": [
    "txt <- readLines('./economy.txt', encoding=\"UTF-8\")"
   ]
  },
  {
   "cell_type": "code",
   "execution_count": 8,
   "id": "0f50f963",
   "metadata": {},
   "outputs": [
    {
     "data": {
      "text/html": [
       "<style>\n",
       ".list-inline {list-style: none; margin:0; padding: 0}\n",
       ".list-inline>li {display: inline-block}\n",
       ".list-inline>li:not(:last-child)::after {content: \"\\00b7\"; padding: 0 .5ex}\n",
       "</style>\n",
       "<ol class=list-inline><li>'경제'</li><li>'위키백과, 우리 모두의 백과사전.'</li><li>''</li><li>' 다른 뜻에 대해서는 경제 (동음이의) 문서를 참고하십시오.'</li><li>'경제학'</li><li>'GDP per capita (nominal) 2015.png'</li></ol>\n"
      ],
      "text/latex": [
       "\\begin{enumerate*}\n",
       "\\item '경제'\n",
       "\\item '위키백과, 우리 모두의 백과사전.'\n",
       "\\item ''\n",
       "\\item ' 다른 뜻에 대해서는 경제 (동음이의) 문서를 참고하십시오.'\n",
       "\\item '경제학'\n",
       "\\item 'GDP per capita (nominal) 2015.png'\n",
       "\\end{enumerate*}\n"
      ],
      "text/markdown": [
       "1. '경제'\n",
       "2. '위키백과, 우리 모두의 백과사전.'\n",
       "3. ''\n",
       "4. ' 다른 뜻에 대해서는 경제 (동음이의) 문서를 참고하십시오.'\n",
       "5. '경제학'\n",
       "6. 'GDP per capita (nominal) 2015.png'\n",
       "\n",
       "\n"
      ],
      "text/plain": [
       "[1] \"경제\"                                                    \n",
       "[2] \"위키백과, 우리 모두의 백과사전.\"                         \n",
       "[3] \"\"                                                        \n",
       "[4] \" 다른 뜻에 대해서는 경제 (동음이의) 문서를 참고하십시오.\"\n",
       "[5] \"경제학\"                                                  \n",
       "[6] \"GDP per capita (nominal) 2015.png\"                       "
      ]
     },
     "metadata": {},
     "output_type": "display_data"
    }
   ],
   "source": [
    "head(txt)\n"
   ]
  },
  {
   "cell_type": "code",
   "execution_count": 9,
   "id": "4caac3d9",
   "metadata": {},
   "outputs": [
    {
     "name": "stdout",
     "output_type": "stream",
     "text": [
      "package 'stringr' successfully unpacked and MD5 sums checked\n",
      "\n",
      "The downloaded binary packages are in\n",
      "\tC:\\Users\\NOTEBOOK\\AppData\\Local\\Temp\\RtmpWgLvyL\\downloaded_packages\n"
     ]
    }
   ],
   "source": [
    "install.packages('stringr')"
   ]
  },
  {
   "cell_type": "code",
   "execution_count": 15,
   "id": "7da4a012",
   "metadata": {},
   "outputs": [],
   "source": [
    "library(stringr)\n",
    "library(dplyr)\n"
   ]
  },
  {
   "cell_type": "code",
   "execution_count": 16,
   "id": "1a2b7edd",
   "metadata": {},
   "outputs": [],
   "source": [
    "txt  <- str_replace_all(txt, '\\\\W',' ')"
   ]
  },
  {
   "cell_type": "code",
   "execution_count": 17,
   "id": "e0ef56ed",
   "metadata": {},
   "outputs": [
    {
     "data": {
      "text/html": [
       "<style>\n",
       ".list-inline {list-style: none; margin:0; padding: 0}\n",
       ".list-inline>li {display: inline-block}\n",
       ".list-inline>li:not(:last-child)::after {content: \"\\00b7\"; padding: 0 .5ex}\n",
       "</style>\n",
       "<ol class=list-inline><li>'대한민국'</li><li>'영토'</li><li>'한반도'</li><li>'부속도서'</li><li>'한'</li></ol>\n"
      ],
      "text/latex": [
       "\\begin{enumerate*}\n",
       "\\item '대한민국'\n",
       "\\item '영토'\n",
       "\\item '한반도'\n",
       "\\item '부속도서'\n",
       "\\item '한'\n",
       "\\end{enumerate*}\n"
      ],
      "text/markdown": [
       "1. '대한민국'\n",
       "2. '영토'\n",
       "3. '한반도'\n",
       "4. '부속도서'\n",
       "5. '한'\n",
       "\n",
       "\n"
      ],
      "text/plain": [
       "[1] \"대한민국\" \"영토\"     \"한반도\"   \"부속도서\" \"한\"      "
      ]
     },
     "metadata": {},
     "output_type": "display_data"
    }
   ],
   "source": [
    "extractNoun('대한민국의 영토는 한반도와 그 부속도서로 한다')"
   ]
  },
  {
   "cell_type": "code",
   "execution_count": 18,
   "id": "65292a5d",
   "metadata": {},
   "outputs": [],
   "source": [
    "nouns <- extractNoun(txt)"
   ]
  },
  {
   "cell_type": "code",
   "execution_count": 19,
   "id": "b9c05431",
   "metadata": {},
   "outputs": [],
   "source": [
    "# 추출한 명사 list 를 문자열 벡터로 변환, 단어별 빈도표 생성\n",
    "wordcount <- table(unlist(nouns))"
   ]
  },
  {
   "cell_type": "code",
   "execution_count": 20,
   "id": "049056cd",
   "metadata": {},
   "outputs": [],
   "source": [
    "df_word <- as.data.frame(wordcount)"
   ]
  },
  {
   "cell_type": "code",
   "execution_count": 21,
   "id": "269895a7",
   "metadata": {},
   "outputs": [],
   "source": [
    "df_word <- rename(df_word, word=Var1, freq=Freq)"
   ]
  },
  {
   "cell_type": "code",
   "execution_count": 22,
   "id": "5a763e21",
   "metadata": {},
   "outputs": [
    {
     "data": {
      "text/html": [
       "<table class=\"dataframe\">\n",
       "<caption>A data.frame: 183 × 2</caption>\n",
       "<thead>\n",
       "\t<tr><th scope=col>word</th><th scope=col>freq</th></tr>\n",
       "\t<tr><th scope=col>&lt;fct&gt;</th><th scope=col>&lt;int&gt;</th></tr>\n",
       "</thead>\n",
       "<tbody>\n",
       "\t<tr><td>2015                                </td><td> 1</td></tr>\n",
       "\t<tr><td>capita                              </td><td> 1</td></tr>\n",
       "\t<tr><td>economy                             </td><td> 1</td></tr>\n",
       "\t<tr><td>Economy                             </td><td> 1</td></tr>\n",
       "\t<tr><td>GDP                                 </td><td> 1</td></tr>\n",
       "\t<tr><td>nominal                             </td><td> 1</td></tr>\n",
       "\t<tr><td>nomos                               </td><td> 1</td></tr>\n",
       "\t<tr><td>oiko                                </td><td> 1</td></tr>\n",
       "\t<tr><td>per                                 </td><td> 1</td></tr>\n",
       "\t<tr><td>pn                                  </td><td> 1</td></tr>\n",
       "\t<tr><td>TV                                  </td><td> 1</td></tr>\n",
       "\t<tr><td>ο&lt;U+1F30&gt;κον&lt;U+03CC&gt;μο&lt;U+03C2&gt;</td><td> 1</td></tr>\n",
       "\t<tr><td>가계                                </td><td> 7</td></tr>\n",
       "\t<tr><td>가정                                </td><td> 2</td></tr>\n",
       "\t<tr><td>가지                                </td><td> 1</td></tr>\n",
       "\t<tr><td>개념                                </td><td> 1</td></tr>\n",
       "\t<tr><td>개발                                </td><td> 1</td></tr>\n",
       "\t<tr><td>개별적                              </td><td> 1</td></tr>\n",
       "\t<tr><td>거시경제                            </td><td> 1</td></tr>\n",
       "\t<tr><td>게임                                </td><td> 1</td></tr>\n",
       "\t<tr><td>결정                                </td><td> 4</td></tr>\n",
       "\t<tr><td>경세제민                            </td><td> 1</td></tr>\n",
       "\t<tr><td>經世濟民                            </td><td> 1</td></tr>\n",
       "\t<tr><td>경제                                </td><td>24</td></tr>\n",
       "\t<tr><td>經濟                                </td><td> 2</td></tr>\n",
       "\t<tr><td>경제계                              </td><td> 1</td></tr>\n",
       "\t<tr><td>경제란                              </td><td> 1</td></tr>\n",
       "\t<tr><td>경제사상                            </td><td> 1</td></tr>\n",
       "\t<tr><td>경제재                              </td><td> 1</td></tr>\n",
       "\t<tr><td>경제학                              </td><td> 1</td></tr>\n",
       "\t<tr><td>⋮</td><td>⋮</td></tr>\n",
       "\t<tr><td>종합적    </td><td> 1</td></tr>\n",
       "\t<tr><td>주류      </td><td> 1</td></tr>\n",
       "\t<tr><td>주체      </td><td> 2</td></tr>\n",
       "\t<tr><td>증대      </td><td> 1</td></tr>\n",
       "\t<tr><td>증진      </td><td> 1</td></tr>\n",
       "\t<tr><td>지도하    </td><td> 1</td></tr>\n",
       "\t<tr><td>지역      </td><td> 1</td></tr>\n",
       "\t<tr><td>지역별    </td><td> 1</td></tr>\n",
       "\t<tr><td>지원      </td><td> 1</td></tr>\n",
       "\t<tr><td>집단      </td><td> 1</td></tr>\n",
       "\t<tr><td>집안      </td><td> 1</td></tr>\n",
       "\t<tr><td>차이      </td><td> 1</td></tr>\n",
       "\t<tr><td>참고하십시</td><td> 1</td></tr>\n",
       "\t<tr><td>천연      </td><td> 1</td></tr>\n",
       "\t<tr><td>특정      </td><td> 1</td></tr>\n",
       "\t<tr><td>편안      </td><td> 1</td></tr>\n",
       "\t<tr><td>프로그램  </td><td> 1</td></tr>\n",
       "\t<tr><td>하게      </td><td> 1</td></tr>\n",
       "\t<tr><td>하기      </td><td> 2</td></tr>\n",
       "\t<tr><td>학술지    </td><td> 1</td></tr>\n",
       "\t<tr><td>행동      </td><td> 1</td></tr>\n",
       "\t<tr><td>행위      </td><td> 1</td></tr>\n",
       "\t<tr><td>현대      </td><td> 1</td></tr>\n",
       "\t<tr><td>형식      </td><td> 1</td></tr>\n",
       "\t<tr><td>화제      </td><td> 1</td></tr>\n",
       "\t<tr><td>화폐      </td><td> 1</td></tr>\n",
       "\t<tr><td>환경      </td><td> 1</td></tr>\n",
       "\t<tr><td>활동      </td><td>14</td></tr>\n",
       "\t<tr><td>획득      </td><td> 2</td></tr>\n",
       "\t<tr><td>희망      </td><td> 1</td></tr>\n",
       "</tbody>\n",
       "</table>\n"
      ],
      "text/latex": [
       "A data.frame: 183 × 2\n",
       "\\begin{tabular}{ll}\n",
       " word & freq\\\\\n",
       " <fct> & <int>\\\\\n",
       "\\hline\n",
       "\t 2015                                 &  1\\\\\n",
       "\t capita                               &  1\\\\\n",
       "\t economy                              &  1\\\\\n",
       "\t Economy                              &  1\\\\\n",
       "\t GDP                                  &  1\\\\\n",
       "\t nominal                              &  1\\\\\n",
       "\t nomos                                &  1\\\\\n",
       "\t oiko                                 &  1\\\\\n",
       "\t per                                  &  1\\\\\n",
       "\t pn                                   &  1\\\\\n",
       "\t TV                                   &  1\\\\\n",
       "\t ο<U+1F30>κον<U+03CC>μο<U+03C2> &  1\\\\\n",
       "\t 가계                                 &  7\\\\\n",
       "\t 가정                                 &  2\\\\\n",
       "\t 가지                                 &  1\\\\\n",
       "\t 개념                                 &  1\\\\\n",
       "\t 개발                                 &  1\\\\\n",
       "\t 개별적                               &  1\\\\\n",
       "\t 거시경제                             &  1\\\\\n",
       "\t 게임                                 &  1\\\\\n",
       "\t 결정                                 &  4\\\\\n",
       "\t 경세제민                             &  1\\\\\n",
       "\t 經世濟民                             &  1\\\\\n",
       "\t 경제                                 & 24\\\\\n",
       "\t 經濟                                 &  2\\\\\n",
       "\t 경제계                               &  1\\\\\n",
       "\t 경제란                               &  1\\\\\n",
       "\t 경제사상                             &  1\\\\\n",
       "\t 경제재                               &  1\\\\\n",
       "\t 경제학                               &  1\\\\\n",
       "\t ⋮ & ⋮\\\\\n",
       "\t 종합적     &  1\\\\\n",
       "\t 주류       &  1\\\\\n",
       "\t 주체       &  2\\\\\n",
       "\t 증대       &  1\\\\\n",
       "\t 증진       &  1\\\\\n",
       "\t 지도하     &  1\\\\\n",
       "\t 지역       &  1\\\\\n",
       "\t 지역별     &  1\\\\\n",
       "\t 지원       &  1\\\\\n",
       "\t 집단       &  1\\\\\n",
       "\t 집안       &  1\\\\\n",
       "\t 차이       &  1\\\\\n",
       "\t 참고하십시 &  1\\\\\n",
       "\t 천연       &  1\\\\\n",
       "\t 특정       &  1\\\\\n",
       "\t 편안       &  1\\\\\n",
       "\t 프로그램   &  1\\\\\n",
       "\t 하게       &  1\\\\\n",
       "\t 하기       &  2\\\\\n",
       "\t 학술지     &  1\\\\\n",
       "\t 행동       &  1\\\\\n",
       "\t 행위       &  1\\\\\n",
       "\t 현대       &  1\\\\\n",
       "\t 형식       &  1\\\\\n",
       "\t 화제       &  1\\\\\n",
       "\t 화폐       &  1\\\\\n",
       "\t 환경       &  1\\\\\n",
       "\t 활동       & 14\\\\\n",
       "\t 획득       &  2\\\\\n",
       "\t 희망       &  1\\\\\n",
       "\\end{tabular}\n"
      ],
      "text/markdown": [
       "\n",
       "A data.frame: 183 × 2\n",
       "\n",
       "| word &lt;fct&gt; | freq &lt;int&gt; |\n",
       "|---|---|\n",
       "| 2015                                 |  1 |\n",
       "| capita                               |  1 |\n",
       "| economy                              |  1 |\n",
       "| Economy                              |  1 |\n",
       "| GDP                                  |  1 |\n",
       "| nominal                              |  1 |\n",
       "| nomos                                |  1 |\n",
       "| oiko                                 |  1 |\n",
       "| per                                  |  1 |\n",
       "| pn                                   |  1 |\n",
       "| TV                                   |  1 |\n",
       "| ο&lt;U+1F30&gt;κον&lt;U+03CC&gt;μο&lt;U+03C2&gt; |  1 |\n",
       "| 가계                                 |  7 |\n",
       "| 가정                                 |  2 |\n",
       "| 가지                                 |  1 |\n",
       "| 개념                                 |  1 |\n",
       "| 개발                                 |  1 |\n",
       "| 개별적                               |  1 |\n",
       "| 거시경제                             |  1 |\n",
       "| 게임                                 |  1 |\n",
       "| 결정                                 |  4 |\n",
       "| 경세제민                             |  1 |\n",
       "| 經世濟民                             |  1 |\n",
       "| 경제                                 | 24 |\n",
       "| 經濟                                 |  2 |\n",
       "| 경제계                               |  1 |\n",
       "| 경제란                               |  1 |\n",
       "| 경제사상                             |  1 |\n",
       "| 경제재                               |  1 |\n",
       "| 경제학                               |  1 |\n",
       "| ⋮ | ⋮ |\n",
       "| 종합적     |  1 |\n",
       "| 주류       |  1 |\n",
       "| 주체       |  2 |\n",
       "| 증대       |  1 |\n",
       "| 증진       |  1 |\n",
       "| 지도하     |  1 |\n",
       "| 지역       |  1 |\n",
       "| 지역별     |  1 |\n",
       "| 지원       |  1 |\n",
       "| 집단       |  1 |\n",
       "| 집안       |  1 |\n",
       "| 차이       |  1 |\n",
       "| 참고하십시 |  1 |\n",
       "| 천연       |  1 |\n",
       "| 특정       |  1 |\n",
       "| 편안       |  1 |\n",
       "| 프로그램   |  1 |\n",
       "| 하게       |  1 |\n",
       "| 하기       |  2 |\n",
       "| 학술지     |  1 |\n",
       "| 행동       |  1 |\n",
       "| 행위       |  1 |\n",
       "| 현대       |  1 |\n",
       "| 형식       |  1 |\n",
       "| 화제       |  1 |\n",
       "| 화폐       |  1 |\n",
       "| 환경       |  1 |\n",
       "| 활동       | 14 |\n",
       "| 획득       |  2 |\n",
       "| 희망       |  1 |\n",
       "\n"
      ],
      "text/plain": [
       "    word                                 freq\n",
       "1   2015                                  1  \n",
       "2   capita                                1  \n",
       "3   economy                               1  \n",
       "4   Economy                               1  \n",
       "5   GDP                                   1  \n",
       "6   nominal                               1  \n",
       "7   nomos                                 1  \n",
       "8   oiko                                  1  \n",
       "9   per                                   1  \n",
       "10  pn                                    1  \n",
       "11  TV                                    1  \n",
       "12  ο<U+1F30>κον<U+03CC>μο<U+03C2>  1  \n",
       "13  가계                                  7  \n",
       "14  가정                                  2  \n",
       "15  가지                                  1  \n",
       "16  개념                                  1  \n",
       "17  개발                                  1  \n",
       "18  개별적                                1  \n",
       "19  거시경제                              1  \n",
       "20  게임                                  1  \n",
       "21  결정                                  4  \n",
       "22  경세제민                              1  \n",
       "23  經世濟民                              1  \n",
       "24  경제                                 24  \n",
       "25  經濟                                  2  \n",
       "26  경제계                                1  \n",
       "27  경제란                                1  \n",
       "28  경제사상                              1  \n",
       "29  경제재                                1  \n",
       "30  경제학                                1  \n",
       "<U+22EE>   <U+22EE>                             <U+22EE>\n",
       "154 종합적                                1  \n",
       "155 주류                                  1  \n",
       "156 주체                                  2  \n",
       "157 증대                                  1  \n",
       "158 증진                                  1  \n",
       "159 지도하                                1  \n",
       "160 지역                                  1  \n",
       "161 지역별                                1  \n",
       "162 지원                                  1  \n",
       "163 집단                                  1  \n",
       "164 집안                                  1  \n",
       "165 차이                                  1  \n",
       "166 참고하십시                            1  \n",
       "167 천연                                  1  \n",
       "168 특정                                  1  \n",
       "169 편안                                  1  \n",
       "170 프로그램                              1  \n",
       "171 하게                                  1  \n",
       "172 하기                                  2  \n",
       "173 학술지                                1  \n",
       "174 행동                                  1  \n",
       "175 행위                                  1  \n",
       "176 현대                                  1  \n",
       "177 형식                                  1  \n",
       "178 화제                                  1  \n",
       "179 화폐                                  1  \n",
       "180 환경                                  1  \n",
       "181 활동                                 14  \n",
       "182 획득                                  2  \n",
       "183 희망                                  1  "
      ]
     },
     "metadata": {},
     "output_type": "display_data"
    }
   ],
   "source": [
    "df_word <- filter(df_word, str_length(word) >= 2)\n",
    "df_word"
   ]
  },
  {
   "cell_type": "code",
   "execution_count": 23,
   "id": "502e6d1f",
   "metadata": {},
   "outputs": [],
   "source": [
    "top_20 <- df_word %>% \n",
    "    arrange(desc(freq)) %>% \n",
    "    head(20)"
   ]
  },
  {
   "cell_type": "code",
   "execution_count": 24,
   "id": "6250584c",
   "metadata": {},
   "outputs": [
    {
     "data": {
      "text/html": [
       "<table class=\"dataframe\">\n",
       "<caption>A data.frame: 20 × 2</caption>\n",
       "<thead>\n",
       "\t<tr><th></th><th scope=col>word</th><th scope=col>freq</th></tr>\n",
       "\t<tr><th></th><th scope=col>&lt;fct&gt;</th><th scope=col>&lt;int&gt;</th></tr>\n",
       "</thead>\n",
       "<tbody>\n",
       "\t<tr><th scope=row>1</th><td>경제  </td><td>24</td></tr>\n",
       "\t<tr><th scope=row>2</th><td>기업  </td><td>14</td></tr>\n",
       "\t<tr><th scope=row>3</th><td>활동  </td><td>14</td></tr>\n",
       "\t<tr><th scope=row>4</th><td>재화  </td><td> 8</td></tr>\n",
       "\t<tr><th scope=row>5</th><td>가계  </td><td> 7</td></tr>\n",
       "\t<tr><th scope=row>6</th><td>국가  </td><td> 7</td></tr>\n",
       "\t<tr><th scope=row>7</th><td>누구  </td><td> 6</td></tr>\n",
       "\t<tr><th scope=row>8</th><td>생산  </td><td> 5</td></tr>\n",
       "\t<tr><th scope=row>9</th><td>결정  </td><td> 4</td></tr>\n",
       "\t<tr><th scope=row>10</th><td>소비  </td><td> 4</td></tr>\n",
       "\t<tr><th scope=row>11</th><td>이룩  </td><td> 4</td></tr>\n",
       "\t<tr><th scope=row>12</th><td>산업  </td><td> 3</td></tr>\n",
       "\t<tr><th scope=row>13</th><td>식구  </td><td> 3</td></tr>\n",
       "\t<tr><th scope=row>14</th><td>인간  </td><td> 3</td></tr>\n",
       "\t<tr><th scope=row>15</th><td>가정  </td><td> 2</td></tr>\n",
       "\t<tr><th scope=row>16</th><td>經濟  </td><td> 2</td></tr>\n",
       "\t<tr><th scope=row>17</th><td>관련  </td><td> 2</td></tr>\n",
       "\t<tr><th scope=row>18</th><td>국민  </td><td> 2</td></tr>\n",
       "\t<tr><th scope=row>19</th><td>기업자</td><td> 2</td></tr>\n",
       "\t<tr><th scope=row>20</th><td>농업  </td><td> 2</td></tr>\n",
       "</tbody>\n",
       "</table>\n"
      ],
      "text/latex": [
       "A data.frame: 20 × 2\n",
       "\\begin{tabular}{r|ll}\n",
       "  & word & freq\\\\\n",
       "  & <fct> & <int>\\\\\n",
       "\\hline\n",
       "\t1 & 경제   & 24\\\\\n",
       "\t2 & 기업   & 14\\\\\n",
       "\t3 & 활동   & 14\\\\\n",
       "\t4 & 재화   &  8\\\\\n",
       "\t5 & 가계   &  7\\\\\n",
       "\t6 & 국가   &  7\\\\\n",
       "\t7 & 누구   &  6\\\\\n",
       "\t8 & 생산   &  5\\\\\n",
       "\t9 & 결정   &  4\\\\\n",
       "\t10 & 소비   &  4\\\\\n",
       "\t11 & 이룩   &  4\\\\\n",
       "\t12 & 산업   &  3\\\\\n",
       "\t13 & 식구   &  3\\\\\n",
       "\t14 & 인간   &  3\\\\\n",
       "\t15 & 가정   &  2\\\\\n",
       "\t16 & 經濟   &  2\\\\\n",
       "\t17 & 관련   &  2\\\\\n",
       "\t18 & 국민   &  2\\\\\n",
       "\t19 & 기업자 &  2\\\\\n",
       "\t20 & 농업   &  2\\\\\n",
       "\\end{tabular}\n"
      ],
      "text/markdown": [
       "\n",
       "A data.frame: 20 × 2\n",
       "\n",
       "| <!--/--> | word &lt;fct&gt; | freq &lt;int&gt; |\n",
       "|---|---|---|\n",
       "| 1 | 경제   | 24 |\n",
       "| 2 | 기업   | 14 |\n",
       "| 3 | 활동   | 14 |\n",
       "| 4 | 재화   |  8 |\n",
       "| 5 | 가계   |  7 |\n",
       "| 6 | 국가   |  7 |\n",
       "| 7 | 누구   |  6 |\n",
       "| 8 | 생산   |  5 |\n",
       "| 9 | 결정   |  4 |\n",
       "| 10 | 소비   |  4 |\n",
       "| 11 | 이룩   |  4 |\n",
       "| 12 | 산업   |  3 |\n",
       "| 13 | 식구   |  3 |\n",
       "| 14 | 인간   |  3 |\n",
       "| 15 | 가정   |  2 |\n",
       "| 16 | 經濟   |  2 |\n",
       "| 17 | 관련   |  2 |\n",
       "| 18 | 국민   |  2 |\n",
       "| 19 | 기업자 |  2 |\n",
       "| 20 | 농업   |  2 |\n",
       "\n"
      ],
      "text/plain": [
       "   word   freq\n",
       "1  경제   24  \n",
       "2  기업   14  \n",
       "3  활동   14  \n",
       "4  재화    8  \n",
       "5  가계    7  \n",
       "6  국가    7  \n",
       "7  누구    6  \n",
       "8  생산    5  \n",
       "9  결정    4  \n",
       "10 소비    4  \n",
       "11 이룩    4  \n",
       "12 산업    3  \n",
       "13 식구    3  \n",
       "14 인간    3  \n",
       "15 가정    2  \n",
       "16 經濟    2  \n",
       "17 관련    2  \n",
       "18 국민    2  \n",
       "19 기업자  2  \n",
       "20 농업    2  "
      ]
     },
     "metadata": {},
     "output_type": "display_data"
    }
   ],
   "source": [
    "top_20"
   ]
  },
  {
   "cell_type": "code",
   "execution_count": 25,
   "id": "98204ead",
   "metadata": {},
   "outputs": [
    {
     "name": "stdout",
     "output_type": "stream",
     "text": [
      "package 'wordcloud' successfully unpacked and MD5 sums checked\n"
     ]
    },
    {
     "name": "stderr",
     "output_type": "stream",
     "text": [
      "Warning message:\n",
      "\"cannot remove prior installation of package 'wordcloud'\"\n",
      "Warning message in file.copy(savedcopy, lib, recursive = TRUE):\n",
      "\"C:\\Users\\NOTEBOOK\\.conda\\envs\\py38\\Lib\\R\\library\\00LOCK\\wordcloud\\libs\\x64\\wordcloud.dll를 C:\\Users\\NOTEBOOK\\.conda\\envs\\py38\\Lib\\R\\library\\wordcloud\\libs\\x64\\wordcloud.dll로 복사하는데 문제가 발생했습니다: Permission denied\"\n",
      "Warning message:\n",
      "\"restored 'wordcloud'\"\n"
     ]
    },
    {
     "name": "stdout",
     "output_type": "stream",
     "text": [
      "\n",
      "The downloaded binary packages are in\n",
      "\tC:\\Users\\NOTEBOOK\\AppData\\Local\\Temp\\RtmpWgLvyL\\downloaded_packages\n"
     ]
    }
   ],
   "source": [
    "install.packages('wordcloud')"
   ]
  },
  {
   "cell_type": "code",
   "execution_count": 27,
   "id": "437315b1",
   "metadata": {},
   "outputs": [],
   "source": [
    "library(wordcloud)"
   ]
  },
  {
   "cell_type": "code",
   "execution_count": 28,
   "id": "f6d24ef2",
   "metadata": {},
   "outputs": [],
   "source": [
    "library(RColorBrewer)\n"
   ]
  },
  {
   "cell_type": "code",
   "execution_count": 29,
   "id": "e069944b",
   "metadata": {},
   "outputs": [],
   "source": [
    "pal <- brewer.pal(8, 'Dark2')\n"
   ]
  },
  {
   "cell_type": "code",
   "execution_count": 30,
   "id": "ad483a13",
   "metadata": {},
   "outputs": [],
   "source": [
    "set.seed(1234)"
   ]
  },
  {
   "cell_type": "code",
   "execution_count": 31,
   "id": "246b590d",
   "metadata": {
    "scrolled": true
   },
   "outputs": [
    {
     "data": {
      "image/png": "[encoded data removed]",
      "text/plain": [
       "plot without title"
      ]
     },
     "metadata": {
      "image/png": {
       "height": 420,
       "width": 420
      }
     },
     "output_type": "display_data"
    }
   ],
   "source": [
    "wordcloud(words = df_word$word,\n",
    "          freq = df_word$freq,\n",
    "          min.freq = 2,\n",
    "          max.words = 200,\n",
    "          random.order = F,\n",
    "          rot.per = .1,\n",
    "          scale = c(4, 0.3),\n",
    "          colors = pal          \n",
    "         )"
   ]
  }
 ],
 "metadata": {
  "kernelspec": {
   "display_name": "R",
   "language": "R",
   "name": "ir"
  },
  "language_info": {
   "codemirror_mode": "r",
   "file_extension": ".r",
   "mimetype": "text/x-r-source",
   "name": "R",
   "pygments_lexer": "r",
   "version": "4.1.3"
  }
 },
 "nbformat": 4,
 "nbformat_minor": 5
}
