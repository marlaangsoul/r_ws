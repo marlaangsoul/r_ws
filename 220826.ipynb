{
 "cells": [
  {
   "cell_type": "code",
   "execution_count": 2,
   "id": "3a130343",
   "metadata": {},
   "outputs": [],
   "source": [
    "library('foreign')\n",
    "library('dplyr')\n",
    "library('ggplot2')\n",
    "library('readxl')"
   ]
  },
  {
   "cell_type": "code",
   "execution_count": 14,
   "id": "5443017b",
   "metadata": {},
   "outputs": [
    {
     "name": "stderr",
     "output_type": "stream",
     "text": [
      "Warning message in read.spss(file = \"./doit_r/RMD/Koweps_hpc10_2015_beta1.sav\", :\n",
      "\"./doit_r/RMD/Koweps_hpc10_2015_beta1.sav: Compression bias (0) is not the usual value of 100\"\n"
     ]
    }
   ],
   "source": [
    "raw_welfare <- read.spss(file = './doit_r/RMD/Koweps_hpc10_2015_beta1.sav'\n",
    "                         ,to.data.frame = T)"
   ]
  },
  {
   "cell_type": "code",
   "execution_count": 15,
   "id": "8bd182b0",
   "metadata": {},
   "outputs": [],
   "source": [
    "welfare <- raw_welfare"
   ]
  },
  {
   "cell_type": "code",
   "execution_count": 16,
   "id": "f3d91102",
   "metadata": {},
   "outputs": [
    {
     "data": {
      "text/html": [
       "<table class=\"dataframe\">\n",
       "<caption>A data.frame: 6 × 957</caption>\n",
       "<thead>\n",
       "\t<tr><th></th><th scope=col>h10_id</th><th scope=col>h10_ind</th><th scope=col>h10_sn</th><th scope=col>h10_merkey</th><th scope=col>h_new</th><th scope=col>h10_cobf</th><th scope=col>h10_reg5</th><th scope=col>h10_reg7</th><th scope=col>h10_din</th><th scope=col>h10_cin</th><th scope=col>⋯</th><th scope=col>c1007_4aq19</th><th scope=col>c1007_4aq20</th><th scope=col>c1007_4aq21</th><th scope=col>c1007_4aq22</th><th scope=col>c1007_4aq23</th><th scope=col>h10_pers_income1</th><th scope=col>h10_pers_income2</th><th scope=col>h10_pers_income3</th><th scope=col>h10_pers_income4</th><th scope=col>h10_pers_income5</th></tr>\n",
       "\t<tr><th></th><th scope=col>&lt;dbl&gt;</th><th scope=col>&lt;dbl&gt;</th><th scope=col>&lt;dbl&gt;</th><th scope=col>&lt;dbl&gt;</th><th scope=col>&lt;dbl&gt;</th><th scope=col>&lt;dbl&gt;</th><th scope=col>&lt;dbl&gt;</th><th scope=col>&lt;dbl&gt;</th><th scope=col>&lt;dbl&gt;</th><th scope=col>&lt;dbl&gt;</th><th scope=col>⋯</th><th scope=col>&lt;dbl&gt;</th><th scope=col>&lt;dbl&gt;</th><th scope=col>&lt;dbl&gt;</th><th scope=col>&lt;dbl&gt;</th><th scope=col>&lt;dbl&gt;</th><th scope=col>&lt;dbl&gt;</th><th scope=col>&lt;dbl&gt;</th><th scope=col>&lt;dbl&gt;</th><th scope=col>&lt;dbl&gt;</th><th scope=col>&lt;dbl&gt;</th></tr>\n",
       "</thead>\n",
       "<tbody>\n",
       "\t<tr><th scope=row>1</th><td>1</td><td>1</td><td>1</td><td>10101</td><td>0</td><td>NA</td><td>1</td><td>1</td><td> 864</td><td> 864</td><td>⋯</td><td>NA</td><td>NA</td><td>NA</td><td>NA</td><td>NA</td><td>NA</td><td>  NA</td><td>  NA</td><td>0</td><td>NA</td></tr>\n",
       "\t<tr><th scope=row>2</th><td>2</td><td>1</td><td>1</td><td>20101</td><td>0</td><td>NA</td><td>1</td><td>1</td><td> 600</td><td> 600</td><td>⋯</td><td>NA</td><td>NA</td><td>NA</td><td>NA</td><td>NA</td><td>NA</td><td>  NA</td><td>  NA</td><td>0</td><td>NA</td></tr>\n",
       "\t<tr><th scope=row>3</th><td>3</td><td>1</td><td>1</td><td>30101</td><td>0</td><td>NA</td><td>1</td><td>1</td><td>1571</td><td>1619</td><td>⋯</td><td>NA</td><td>NA</td><td>NA</td><td>NA</td><td>NA</td><td>NA</td><td>1440</td><td>  NA</td><td>0</td><td>NA</td></tr>\n",
       "\t<tr><th scope=row>4</th><td>4</td><td>1</td><td>1</td><td>40101</td><td>0</td><td>NA</td><td>1</td><td>1</td><td>3579</td><td>3687</td><td>⋯</td><td>NA</td><td>NA</td><td>NA</td><td>NA</td><td>NA</td><td>NA</td><td>2400</td><td>  NA</td><td>0</td><td>NA</td></tr>\n",
       "\t<tr><th scope=row>5</th><td>4</td><td>1</td><td>1</td><td>40101</td><td>0</td><td>NA</td><td>1</td><td>1</td><td>3579</td><td>3687</td><td>⋯</td><td>NA</td><td>NA</td><td>NA</td><td>NA</td><td>NA</td><td>NA</td><td>  NA</td><td>  NA</td><td>0</td><td>NA</td></tr>\n",
       "\t<tr><th scope=row>6</th><td>6</td><td>1</td><td>1</td><td>60101</td><td>0</td><td>NA</td><td>1</td><td>1</td><td>3030</td><td>3486</td><td>⋯</td><td>NA</td><td>NA</td><td>NA</td><td>NA</td><td>NA</td><td>NA</td><td>  NA</td><td>3000</td><td>0</td><td>NA</td></tr>\n",
       "</tbody>\n",
       "</table>\n"
      ],
      "text/latex": [
       "A data.frame: 6 × 957\n",
       "\\begin{tabular}{r|lllllllllllllllllllll}\n",
       "  & h10\\_id & h10\\_ind & h10\\_sn & h10\\_merkey & h\\_new & h10\\_cobf & h10\\_reg5 & h10\\_reg7 & h10\\_din & h10\\_cin & ⋯ & c1007\\_4aq19 & c1007\\_4aq20 & c1007\\_4aq21 & c1007\\_4aq22 & c1007\\_4aq23 & h10\\_pers\\_income1 & h10\\_pers\\_income2 & h10\\_pers\\_income3 & h10\\_pers\\_income4 & h10\\_pers\\_income5\\\\\n",
       "  & <dbl> & <dbl> & <dbl> & <dbl> & <dbl> & <dbl> & <dbl> & <dbl> & <dbl> & <dbl> & ⋯ & <dbl> & <dbl> & <dbl> & <dbl> & <dbl> & <dbl> & <dbl> & <dbl> & <dbl> & <dbl>\\\\\n",
       "\\hline\n",
       "\t1 & 1 & 1 & 1 & 10101 & 0 & NA & 1 & 1 &  864 &  864 & ⋯ & NA & NA & NA & NA & NA & NA &   NA &   NA & 0 & NA\\\\\n",
       "\t2 & 2 & 1 & 1 & 20101 & 0 & NA & 1 & 1 &  600 &  600 & ⋯ & NA & NA & NA & NA & NA & NA &   NA &   NA & 0 & NA\\\\\n",
       "\t3 & 3 & 1 & 1 & 30101 & 0 & NA & 1 & 1 & 1571 & 1619 & ⋯ & NA & NA & NA & NA & NA & NA & 1440 &   NA & 0 & NA\\\\\n",
       "\t4 & 4 & 1 & 1 & 40101 & 0 & NA & 1 & 1 & 3579 & 3687 & ⋯ & NA & NA & NA & NA & NA & NA & 2400 &   NA & 0 & NA\\\\\n",
       "\t5 & 4 & 1 & 1 & 40101 & 0 & NA & 1 & 1 & 3579 & 3687 & ⋯ & NA & NA & NA & NA & NA & NA &   NA &   NA & 0 & NA\\\\\n",
       "\t6 & 6 & 1 & 1 & 60101 & 0 & NA & 1 & 1 & 3030 & 3486 & ⋯ & NA & NA & NA & NA & NA & NA &   NA & 3000 & 0 & NA\\\\\n",
       "\\end{tabular}\n"
      ],
      "text/markdown": [
       "\n",
       "A data.frame: 6 × 957\n",
       "\n",
       "| <!--/--> | h10_id &lt;dbl&gt; | h10_ind &lt;dbl&gt; | h10_sn &lt;dbl&gt; | h10_merkey &lt;dbl&gt; | h_new &lt;dbl&gt; | h10_cobf &lt;dbl&gt; | h10_reg5 &lt;dbl&gt; | h10_reg7 &lt;dbl&gt; | h10_din &lt;dbl&gt; | h10_cin &lt;dbl&gt; | ⋯ ⋯ | c1007_4aq19 &lt;dbl&gt; | c1007_4aq20 &lt;dbl&gt; | c1007_4aq21 &lt;dbl&gt; | c1007_4aq22 &lt;dbl&gt; | c1007_4aq23 &lt;dbl&gt; | h10_pers_income1 &lt;dbl&gt; | h10_pers_income2 &lt;dbl&gt; | h10_pers_income3 &lt;dbl&gt; | h10_pers_income4 &lt;dbl&gt; | h10_pers_income5 &lt;dbl&gt; |\n",
       "|---|---|---|---|---|---|---|---|---|---|---|---|---|---|---|---|---|---|---|---|---|---|\n",
       "| 1 | 1 | 1 | 1 | 10101 | 0 | NA | 1 | 1 |  864 |  864 | ⋯ | NA | NA | NA | NA | NA | NA |   NA |   NA | 0 | NA |\n",
       "| 2 | 2 | 1 | 1 | 20101 | 0 | NA | 1 | 1 |  600 |  600 | ⋯ | NA | NA | NA | NA | NA | NA |   NA |   NA | 0 | NA |\n",
       "| 3 | 3 | 1 | 1 | 30101 | 0 | NA | 1 | 1 | 1571 | 1619 | ⋯ | NA | NA | NA | NA | NA | NA | 1440 |   NA | 0 | NA |\n",
       "| 4 | 4 | 1 | 1 | 40101 | 0 | NA | 1 | 1 | 3579 | 3687 | ⋯ | NA | NA | NA | NA | NA | NA | 2400 |   NA | 0 | NA |\n",
       "| 5 | 4 | 1 | 1 | 40101 | 0 | NA | 1 | 1 | 3579 | 3687 | ⋯ | NA | NA | NA | NA | NA | NA |   NA |   NA | 0 | NA |\n",
       "| 6 | 6 | 1 | 1 | 60101 | 0 | NA | 1 | 1 | 3030 | 3486 | ⋯ | NA | NA | NA | NA | NA | NA |   NA | 3000 | 0 | NA |\n",
       "\n"
      ],
      "text/plain": [
       "  h10_id h10_ind h10_sn h10_merkey h_new h10_cobf h10_reg5 h10_reg7 h10_din\n",
       "1 1      1       1      10101      0     NA       1        1         864   \n",
       "2 2      1       1      20101      0     NA       1        1         600   \n",
       "3 3      1       1      30101      0     NA       1        1        1571   \n",
       "4 4      1       1      40101      0     NA       1        1        3579   \n",
       "5 4      1       1      40101      0     NA       1        1        3579   \n",
       "6 6      1       1      60101      0     NA       1        1        3030   \n",
       "  h10_cin <U+22EF>        c1007_4aq19 c1007_4aq20 c1007_4aq21 c1007_4aq22 c1007_4aq23\n",
       "1  864    <U+22EF> NA          NA          NA          NA          NA         \n",
       "2  600    <U+22EF> NA          NA          NA          NA          NA         \n",
       "3 1619    <U+22EF> NA          NA          NA          NA          NA         \n",
       "4 3687    <U+22EF> NA          NA          NA          NA          NA         \n",
       "5 3687    <U+22EF> NA          NA          NA          NA          NA         \n",
       "6 3486    <U+22EF> NA          NA          NA          NA          NA         \n",
       "  h10_pers_income1 h10_pers_income2 h10_pers_income3 h10_pers_income4\n",
       "1 NA                 NA               NA             0               \n",
       "2 NA                 NA               NA             0               \n",
       "3 NA               1440               NA             0               \n",
       "4 NA               2400               NA             0               \n",
       "5 NA                 NA               NA             0               \n",
       "6 NA                 NA             3000             0               \n",
       "  h10_pers_income5\n",
       "1 NA              \n",
       "2 NA              \n",
       "3 NA              \n",
       "4 NA              \n",
       "5 NA              \n",
       "6 NA              "
      ]
     },
     "metadata": {},
     "output_type": "display_data"
    }
   ],
   "source": [
    "head(welfare)"
   ]
  },
  {
   "cell_type": "code",
   "execution_count": 19,
   "id": "381d35d4",
   "metadata": {},
   "outputs": [
    {
     "name": "stdout",
     "output_type": "stream",
     "text": [
      "'data.frame':\t16664 obs. of  957 variables:\n",
      " $ h10_id          : num  1 2 3 4 4 6 6 6 6 6 ...\n",
      " $ h10_ind         : num  1 1 1 1 1 1 1 1 1 1 ...\n",
      " $ h10_sn          : num  1 1 1 1 1 1 1 1 1 1 ...\n",
      " $ h10_merkey      : num  10101 20101 30101 40101 40101 ...\n",
      " $ h_new           : num  0 0 0 0 0 0 0 0 0 0 ...\n",
      " $ h10_cobf        : num  NA NA NA NA NA NA NA NA NA NA ...\n",
      " $ h10_reg5        : num  1 1 1 1 1 1 1 1 1 1 ...\n",
      " $ h10_reg7        : num  1 1 1 1 1 1 1 1 1 1 ...\n",
      " $ h10_din         : num  864 600 1571 3579 3579 ...\n",
      " $ h10_cin         : num  864 600 1619 3687 3687 ...\n",
      " $ h10_flag        : num  0 0 0 0 0 0 0 0 0 0 ...\n",
      " $ p10_wgl         : num  777 960 1059 1012 1075 ...\n",
      " $ p10_wsl         : num  0.257 0.317 0.35 0.334 0.355 ...\n",
      " $ p10_wgc         : num  764 949 1048 992 1057 ...\n",
      " $ p10_wsc         : num  0.252 0.314 0.346 0.328 0.349 ...\n",
      " $ h10_hc          : num  2 2 1 1 1 1 1 1 1 1 ...\n",
      " $ nh1001_1        : num  NA NA NA NA NA NA NA NA NA NA ...\n",
      " $ nh1001_2        : num  NA NA NA NA NA NA NA NA NA NA ...\n",
      " $ h1001_1         : num  1 1 1 2 2 5 5 5 5 5 ...\n",
      " $ h10_pind        : num  1 1 1 1 4 1 1 1 1 1 ...\n",
      " $ h10_pid         : num  101 201 301 401 402 601 602 603 604 605 ...\n",
      " $ h10_g1          : num  1 1 1 1 2 1 2 3 4 5 ...\n",
      " $ h10_g2          : num  10 10 10 10 2 10 20 11 1 2 ...\n",
      " $ h10_g3          : num  2 2 1 1 2 1 2 2 1 2 ...\n",
      " $ h10_g4          : num  1936 1945 1948 1942 1923 ...\n",
      " $ h10_g6          : num  2 4 3 7 2 6 5 3 4 4 ...\n",
      " $ h10_g7          : num  0 5 5 3 0 5 5 1 5 5 ...\n",
      " $ h10_g8          : num  0 0 0 0 0 0 0 0 0 0 ...\n",
      " $ h10_g9          : num  0 0 0 0 0 0 0 0 0 0 ...\n",
      " $ h10_g10         : num  2 2 2 3 2 1 1 0 1 1 ...\n",
      " $ h10_g11         : num  2 2 2 1 1 1 1 1 1 1 ...\n",
      " $ h10_g12         : num  1 1 1 1 1 1 1 1 1 1 ...\n",
      " $ h1001_110       : num  1 1 1 5 5 5 5 5 5 5 ...\n",
      " $ h1001_5aq1      : num  0 0 0 0 0 0 0 0 0 0 ...\n",
      " $ h1001_5aq2      : num  0 0 0 0 0 0 0 0 0 0 ...\n",
      " $ h1001_5aq3      : num  0 0 0 0 0 0 0 0 0 0 ...\n",
      " $ h1001_5aq4      : num  0 0 0 0 0 0 0 0 0 0 ...\n",
      " $ h10_med1        : num  1 1 1 1 2 1 2 3 4 5 ...\n",
      " $ h10_med2        : num  3 4 3 3 4 3 5 2 3 3 ...\n",
      " $ h10_med3        : num  60 28 12 3 6 5 0 3 0 14 ...\n",
      " $ h10_med4        : num  0 0 0 0 0 0 5 0 0 0 ...\n",
      " $ h10_med5        : num  0 0 0 0 0 0 23 0 0 0 ...\n",
      " $ h10_med6        : num  0 0 0 0 0 0 1 0 0 0 ...\n",
      " $ h10_med7        : num  3 2 2 1 1 2 1 2 0 2 ...\n",
      " $ h10_med8        : num  0 1 0 1 1 1 1 0 0 1 ...\n",
      " $ h10_g9_1        : num  3 3 3 3 3 3 3 0 0 3 ...\n",
      " $ h10_med9        : num  8 5 7 3 15 23 1 0 0 6 ...\n",
      " $ h10_med10       : num  0 0 0 0 0 1 1 1 0 0 ...\n",
      " $ h10_eco1        : num  1 1 1 1 2 1 2 3 4 5 ...\n",
      " $ h10_eco2        : num  2 3 1 1 3 1 1 0 3 3 ...\n",
      " $ h10_eco3        : num  NA NA NA NA NA NA NA NA NA NA ...\n",
      " $ h10_eco4        : num  9 9 2 2 9 6 9 NA 9 9 ...\n",
      " $ h10_eco4_1      : num  NA NA NA NA NA NA NA NA NA NA ...\n",
      " $ h10_eco5_1      : num  NA NA 1 1 NA NA NA NA NA NA ...\n",
      " $ h10_eco6        : num  NA NA 2 2 NA NA NA NA NA NA ...\n",
      " $ h10_eco_7_1     : num  NA NA 1 1 NA NA NA NA NA NA ...\n",
      " $ h10_eco_7_2     : num  NA NA 2 2 NA NA NA NA NA NA ...\n",
      " $ h10_eco_7_3     : num  NA NA 1 3 NA NA NA NA NA NA ...\n",
      " $ h10_eco8        : num  NA NA 75 42 NA 46 NA NA NA NA ...\n",
      " $ h10_eco9        : num  NA NA 942 762 NA 530 NA NA NA NA ...\n",
      " $ h10_eco10       : num  NA NA 3 2 NA 1 NA NA NA NA ...\n",
      " $ h10_eco11       : num  10 10 NA NA 10 NA 6 NA 10 10 ...\n",
      " $ h10_soc1        : num  1 1 1 1 2 1 2 3 4 5 ...\n",
      " $ h10_soc_2       : num  0 0 0 1 0 2 0 0 0 0 ...\n",
      " $ h10_soc_3       : num  NA NA NA NA NA 1 NA NA NA NA ...\n",
      " $ h10_soc_4       : num  NA NA NA NA NA 2 NA NA NA NA ...\n",
      " $ h10_soc_5       : num  NA NA NA NA NA 1 NA NA NA NA ...\n",
      " $ h10_soc_6       : num  NA NA NA NA NA NA NA NA NA NA ...\n",
      " $ h10_soc_7       : num  NA NA NA NA NA NA NA NA NA NA ...\n",
      " $ h10_soc_8       : num  NA NA NA NA NA NA NA NA NA NA ...\n",
      " $ h10_soc_9       : num  NA NA NA NA NA 0 NA NA NA NA ...\n",
      " $ h10_soc_10      : num  NA NA NA NA NA 0 NA NA NA NA ...\n",
      " $ h10_soc_11      : num  NA NA NA NA NA NA NA NA NA NA ...\n",
      " $ h10_soc8        : num  0 0 1 2 0 0 0 0 0 0 ...\n",
      " $ h10_soc9        : num  0 0 1 2 0 0 0 0 0 0 ...\n",
      " $ h10_soc11       : num  0 0 2 2 0 0 0 0 0 0 ...\n",
      " $ h10_soc10       : num  0 0 2 2 0 0 0 0 0 0 ...\n",
      " $ h10_soc_12      : num  4 4 4 4 4 4 4 4 4 4 ...\n",
      " $ h10_soc_13      : num  4 4 1 3 4 3 4 4 4 4 ...\n",
      " $ h1005_1         : num  1 1 1 1 1 1 1 1 1 1 ...\n",
      " $ h1005_3aq1      : num  2 2 1 2 2 2 2 2 2 2 ...\n",
      " $ h1005_2         : num  NA NA NA NA NA NA NA NA NA NA ...\n",
      " $ h1005_3         : num  NA NA NA NA NA NA NA NA NA NA ...\n",
      " $ h1005_4         : num  2 2 2 2 2 2 2 2 2 2 ...\n",
      " $ h1005_5         : num  NA NA NA NA NA NA NA NA NA NA ...\n",
      " $ h1005_6         : num  NA NA NA NA NA NA NA NA NA NA ...\n",
      " $ h1005_7         : num  0 0 0 0 0 1 1 1 1 1 ...\n",
      " $ nh1005_8        : num  4 3 3 3 3 3 3 3 3 3 ...\n",
      " $ nh1005_9        : num  5 4 3 3 3 4 4 4 4 4 ...\n",
      " $ h1005_3aq2      : num  0 0 0 0 0 11 11 11 11 11 ...\n",
      " $ h1006_aq1       : num  2 2 2 2 2 2 2 2 2 2 ...\n",
      " $ h1006_1         : num  2 2 2 1 1 2 2 2 2 2 ...\n",
      " $ h1006_2         : num  3 3 1 3 3 3 3 3 3 3 ...\n",
      " $ h1006_4         : num  2 3 1 3 3 3 3 3 3 3 ...\n",
      " $ h1006_5         : num  33 198 23 73 73 82 82 82 82 82 ...\n",
      " $ h1006_3         : num  2 1 3 1 1 1 1 1 1 1 ...\n",
      " $ h1006_6         : num  5000 60000 200 20000 20000 50700 50700 50700 50700 50700 ...\n",
      " $ h1006_8         : num  1 1 1 1 1 1 1 1 1 1 ...\n",
      " $ h1006_9         : num  88 4 88 88 88 88 88 88 88 88 ...\n",
      "  [list output truncated]\n",
      " - attr(*, \"variable.labels\")= Named chr [1:957] \"가구 패널 ID(h10_id)\" \"가구생성차수(h10_ind)\" \"가구분리일련번호(h10_sn)\" \"패널간 가구머지 키변수(h10_merkey)\" ...\n",
      "  ..- attr(*, \"names\")= chr [1:957] \"h10_id\" \"h10_ind\" \"h10_sn\" \"h10_merkey\" ...\n"
     ]
    }
   ],
   "source": [
    "str(welfare)"
   ]
  },
  {
   "cell_type": "code",
   "execution_count": 20,
   "id": "e7b3f671",
   "metadata": {},
   "outputs": [],
   "source": [
    "#summary(welfare)"
   ]
  },
  {
   "cell_type": "code",
   "execution_count": 21,
   "id": "a90a7430",
   "metadata": {},
   "outputs": [],
   "source": [
    "welfare <- rename(welfare,\n",
    "                  sex = h10_g3,\n",
    "                  birth = h10_g4,\n",
    "                  marriage = h10_g10,\n",
    "                  religion= h10_g11,\n",
    "                  income = p1002_8aq1,\n",
    "                  code_job = h10_eco9,\n",
    "                  code_region = h10_reg7\n",
    ")"
   ]
  },
  {
   "cell_type": "code",
   "execution_count": 22,
   "id": "925932c3",
   "metadata": {},
   "outputs": [
    {
     "data": {
      "text/html": [
       "'numeric'"
      ],
      "text/latex": [
       "'numeric'"
      ],
      "text/markdown": [
       "'numeric'"
      ],
      "text/plain": [
       "[1] \"numeric\""
      ]
     },
     "metadata": {},
     "output_type": "display_data"
    },
    {
     "data": {
      "text/plain": [
       "\n",
       "   1    2 \n",
       "7578 9086 "
      ]
     },
     "metadata": {},
     "output_type": "display_data"
    }
   ],
   "source": [
    "# 성별에 따른 월급 차이\n",
    "# 성별,월급\n",
    "class(welfare$sex)\n",
    "table(welfare$sex)"
   ]
  },
  {
   "cell_type": "code",
   "execution_count": 23,
   "id": "9f7f29b6",
   "metadata": {},
   "outputs": [],
   "source": [
    "welfare$sex <- ifelse(welfare$sex == 9, NA, welfare$sex)"
   ]
  },
  {
   "cell_type": "code",
   "execution_count": 24,
   "id": "c2b3eac0",
   "metadata": {},
   "outputs": [
    {
     "data": {
      "text/plain": [
       "\n",
       "FALSE \n",
       "16664 "
      ]
     },
     "metadata": {},
     "output_type": "display_data"
    }
   ],
   "source": [
    "table(is.na(welfare$sex))"
   ]
  },
  {
   "cell_type": "code",
   "execution_count": 25,
   "id": "d50ec172",
   "metadata": {},
   "outputs": [
    {
     "data": {
      "text/plain": [
       "\n",
       "female   male \n",
       "  9086   7578 "
      ]
     },
     "metadata": {},
     "output_type": "display_data"
    }
   ],
   "source": [
    "welfare$sex <- ifelse(welfare$sex == 1, 'male','female')\n",
    "table(welfare$sex)\n"
   ]
  },
  {
   "cell_type": "code",
   "execution_count": 26,
   "id": "6da65836",
   "metadata": {
    "scrolled": true
   },
   "outputs": [
    {
     "data": {
      "image/png": "[encoded data removed]",
      "text/plain": [
       "plot without title"
      ]
     },
     "metadata": {
      "image/png": {
       "height": 420,
       "width": 420
      }
     },
     "output_type": "display_data"
    }
   ],
   "source": [
    "qplot(welfare$sex)"
   ]
  },
  {
   "cell_type": "code",
   "execution_count": 27,
   "id": "c159eb43",
   "metadata": {},
   "outputs": [
    {
     "data": {
      "text/html": [
       "'numeric'"
      ],
      "text/latex": [
       "'numeric'"
      ],
      "text/markdown": [
       "'numeric'"
      ],
      "text/plain": [
       "[1] \"numeric\""
      ]
     },
     "metadata": {},
     "output_type": "display_data"
    },
    {
     "data": {
      "text/plain": [
       "   Min. 1st Qu.  Median    Mean 3rd Qu.    Max.    NA's \n",
       "    0.0   122.0   192.5   241.6   316.6  2400.0   12030 "
      ]
     },
     "metadata": {},
     "output_type": "display_data"
    }
   ],
   "source": [
    "class(welfare$income)\n",
    "summary(welfare$income)"
   ]
  },
  {
   "cell_type": "code",
   "execution_count": 28,
   "id": "1978a283",
   "metadata": {},
   "outputs": [
    {
     "name": "stderr",
     "output_type": "stream",
     "text": [
      "`stat_bin()` using `bins = 30`. Pick better value with `binwidth`.\n",
      "\n",
      "Warning message:\n",
      "\"Removed 12051 rows containing non-finite values (stat_bin).\"\n",
      "Warning message:\n",
      "\"Removed 2 rows containing missing values (geom_bar).\"\n"
     ]
    },
    {
     "data": {
      "image/png": "[encoded data removed]",
      "text/plain": [
       "plot without title"
      ]
     },
     "metadata": {
      "image/png": {
       "height": 420,
       "width": 420
      }
     },
     "output_type": "display_data"
    }
   ],
   "source": [
    "qplot(welfare$income) + xlim(0,1000)"
   ]
  },
  {
   "cell_type": "code",
   "execution_count": 29,
   "id": "e620e31f",
   "metadata": {},
   "outputs": [
    {
     "data": {
      "text/plain": [
       "   Min. 1st Qu.  Median    Mean 3rd Qu.    Max.    NA's \n",
       "    0.0   122.0   192.5   241.6   316.6  2400.0   12030 "
      ]
     },
     "metadata": {},
     "output_type": "display_data"
    }
   ],
   "source": [
    "summary(welfare$income)"
   ]
  },
  {
   "cell_type": "code",
   "execution_count": 30,
   "id": "69a42e65",
   "metadata": {},
   "outputs": [],
   "source": [
    "# 이상치 처리\n",
    "welfare$income <- ifelse(welfare$income %in% c(0,9999), NA, welfare$income)"
   ]
  },
  {
   "cell_type": "code",
   "execution_count": 31,
   "id": "b69c7b56",
   "metadata": {
    "scrolled": true
   },
   "outputs": [
    {
     "data": {
      "text/plain": [
       "\n",
       "FALSE  TRUE \n",
       " 4620 12044 "
      ]
     },
     "metadata": {},
     "output_type": "display_data"
    }
   ],
   "source": [
    "# NA 결측치\n",
    "table(is.na(welfare$income))"
   ]
  },
  {
   "cell_type": "code",
   "execution_count": 32,
   "id": "57773c00",
   "metadata": {},
   "outputs": [],
   "source": [
    "#성별에 따른 월급 차이 분석하기\n",
    "sex_income <- welfare %>% \n",
    "    filter(!is.na(income)) %>% \n",
    "    group_by(sex) %>% \n",
    "    summarise(mean_income=mean(income))"
   ]
  },
  {
   "cell_type": "code",
   "execution_count": 33,
   "id": "ea9eea84",
   "metadata": {},
   "outputs": [
    {
     "data": {
      "text/html": [
       "<table class=\"dataframe\">\n",
       "<caption>A tibble: 2 × 2</caption>\n",
       "<thead>\n",
       "\t<tr><th scope=col>sex</th><th scope=col>mean_income</th></tr>\n",
       "\t<tr><th scope=col>&lt;chr&gt;</th><th scope=col>&lt;dbl&gt;</th></tr>\n",
       "</thead>\n",
       "<tbody>\n",
       "\t<tr><td>female</td><td>163.2471</td></tr>\n",
       "\t<tr><td>male  </td><td>312.2932</td></tr>\n",
       "</tbody>\n",
       "</table>\n"
      ],
      "text/latex": [
       "A tibble: 2 × 2\n",
       "\\begin{tabular}{ll}\n",
       " sex & mean\\_income\\\\\n",
       " <chr> & <dbl>\\\\\n",
       "\\hline\n",
       "\t female & 163.2471\\\\\n",
       "\t male   & 312.2932\\\\\n",
       "\\end{tabular}\n"
      ],
      "text/markdown": [
       "\n",
       "A tibble: 2 × 2\n",
       "\n",
       "| sex &lt;chr&gt; | mean_income &lt;dbl&gt; |\n",
       "|---|---|\n",
       "| female | 163.2471 |\n",
       "| male   | 312.2932 |\n",
       "\n"
      ],
      "text/plain": [
       "  sex    mean_income\n",
       "1 female 163.2471   \n",
       "2 male   312.2932   "
      ]
     },
     "metadata": {},
     "output_type": "display_data"
    }
   ],
   "source": [
    "sex_income"
   ]
  },
  {
   "cell_type": "code",
   "execution_count": 34,
   "id": "8a3b95a9",
   "metadata": {},
   "outputs": [
    {
     "data": {
      "image/png": "[encoded data removed]",
      "text/plain": [
       "plot without title"
      ]
     },
     "metadata": {
      "image/png": {
       "height": 420,
       "width": 420
      }
     },
     "output_type": "display_data"
    }
   ],
   "source": [
    "ggplot(data=sex_income, aes(x=sex, y=mean_income)) +\n",
    "geom_col()"
   ]
  },
  {
   "cell_type": "code",
   "execution_count": 35,
   "id": "023b73f1",
   "metadata": {},
   "outputs": [
    {
     "ename": "ERROR",
     "evalue": "Error in parse(text = x, srcfile = src): <text>:1:8: 예상하지 못한 기호(symbol)입니다.\n1: 나이와 월급의\n           ^\n",
     "output_type": "error",
     "traceback": [
      "Error in parse(text = x, srcfile = src): <text>:1:8: 예상하지 못한 기호(symbol)입니다.\n1: 나이와 월급의\n           ^\nTraceback:\n"
     ]
    }
   ],
   "source": [
    "나이와 월급의 관계\n",
    "몇 살 때 월급을 가장 많이 받을까"
   ]
  },
  {
   "cell_type": "code",
   "execution_count": 36,
   "id": "1c8629ea",
   "metadata": {},
   "outputs": [
    {
     "data": {
      "text/html": [
       "'numeric'"
      ],
      "text/latex": [
       "'numeric'"
      ],
      "text/markdown": [
       "'numeric'"
      ],
      "text/plain": [
       "[1] \"numeric\""
      ]
     },
     "metadata": {},
     "output_type": "display_data"
    },
    {
     "data": {
      "text/plain": [
       "   Min. 1st Qu.  Median    Mean 3rd Qu.    Max. \n",
       "   1907    1946    1966    1968    1988    2014 "
      ]
     },
     "metadata": {},
     "output_type": "display_data"
    }
   ],
   "source": [
    "class(welfare$birth)\n",
    "summary(welfare$birth)"
   ]
  },
  {
   "cell_type": "code",
   "execution_count": 37,
   "id": "13fd8c4b",
   "metadata": {},
   "outputs": [
    {
     "name": "stderr",
     "output_type": "stream",
     "text": [
      "`stat_bin()` using `bins = 30`. Pick better value with `binwidth`.\n",
      "\n"
     ]
    },
    {
     "data": {
      "image/png": "[encoded data removed]",
      "text/plain": [
       "plot without title"
      ]
     },
     "metadata": {
      "image/png": {
       "height": 420,
       "width": 420
      }
     },
     "output_type": "display_data"
    }
   ],
   "source": [
    "qplot(welfare$birth)"
   ]
  },
  {
   "cell_type": "code",
   "execution_count": 38,
   "id": "1d1314eb",
   "metadata": {},
   "outputs": [
    {
     "data": {
      "text/plain": [
       "\n",
       "FALSE \n",
       "16664 "
      ]
     },
     "metadata": {},
     "output_type": "display_data"
    }
   ],
   "source": [
    "table(is.na(welfare$birth))"
   ]
  },
  {
   "cell_type": "code",
   "execution_count": 39,
   "id": "468013f0",
   "metadata": {},
   "outputs": [
    {
     "data": {
      "text/plain": [
       "   Min. 1st Qu.  Median    Mean 3rd Qu.    Max. \n",
       "   1.00   27.00   49.00   47.43   69.00  108.00 "
      ]
     },
     "metadata": {},
     "output_type": "display_data"
    }
   ],
   "source": [
    "welfare$age <- 2015 - welfare$birth \n",
    "summary(welfare$age)"
   ]
  },
  {
   "cell_type": "code",
   "execution_count": 40,
   "id": "44868e05",
   "metadata": {},
   "outputs": [
    {
     "name": "stderr",
     "output_type": "stream",
     "text": [
      "`stat_bin()` using `bins = 30`. Pick better value with `binwidth`.\n",
      "\n"
     ]
    },
    {
     "data": {
      "image/png": "[encoded data removed]",
      "text/plain": [
       "plot without title"
      ]
     },
     "metadata": {
      "image/png": {
       "height": 420,
       "width": 420
      }
     },
     "output_type": "display_data"
    }
   ],
   "source": [
    "qplot(welfare$age)"
   ]
  },
  {
   "cell_type": "code",
   "execution_count": 41,
   "id": "444c2817",
   "metadata": {},
   "outputs": [],
   "source": [
    "#나이에 따른 월급 평균표 만들기\n",
    "age_income <- welfare %>% \n",
    "    filter(!is.na(income)) %>% \n",
    "    group_by(age) %>% \n",
    "    summarise(mean_income=mean(income))"
   ]
  },
  {
   "cell_type": "code",
   "execution_count": 42,
   "id": "9a47efb5",
   "metadata": {
    "scrolled": true
   },
   "outputs": [
    {
     "data": {
      "text/html": [
       "<table class=\"dataframe\">\n",
       "<caption>A tibble: 69 × 2</caption>\n",
       "<thead>\n",
       "\t<tr><th scope=col>age</th><th scope=col>mean_income</th></tr>\n",
       "\t<tr><th scope=col>&lt;dbl&gt;</th><th scope=col>&lt;dbl&gt;</th></tr>\n",
       "</thead>\n",
       "<tbody>\n",
       "\t<tr><td>19</td><td>121.3000</td></tr>\n",
       "\t<tr><td>20</td><td>105.5185</td></tr>\n",
       "\t<tr><td>21</td><td>130.0923</td></tr>\n",
       "\t<tr><td>22</td><td>141.7157</td></tr>\n",
       "\t<tr><td>23</td><td>134.0877</td></tr>\n",
       "\t<tr><td>24</td><td>144.6559</td></tr>\n",
       "\t<tr><td>25</td><td>157.7284</td></tr>\n",
       "\t<tr><td>26</td><td>188.2451</td></tr>\n",
       "\t<tr><td>27</td><td>204.7289</td></tr>\n",
       "\t<tr><td>28</td><td>188.6780</td></tr>\n",
       "\t<tr><td>29</td><td>237.4092</td></tr>\n",
       "\t<tr><td>30</td><td>224.5873</td></tr>\n",
       "\t<tr><td>31</td><td>240.3529</td></tr>\n",
       "\t<tr><td>32</td><td>257.6603</td></tr>\n",
       "\t<tr><td>33</td><td>251.5806</td></tr>\n",
       "\t<tr><td>34</td><td>246.8458</td></tr>\n",
       "\t<tr><td>35</td><td>284.8673</td></tr>\n",
       "\t<tr><td>36</td><td>290.3609</td></tr>\n",
       "\t<tr><td>37</td><td>288.2641</td></tr>\n",
       "\t<tr><td>38</td><td>291.5244</td></tr>\n",
       "\t<tr><td>39</td><td>306.4672</td></tr>\n",
       "\t<tr><td>40</td><td>291.8454</td></tr>\n",
       "\t<tr><td>41</td><td>301.1134</td></tr>\n",
       "\t<tr><td>42</td><td>277.5355</td></tr>\n",
       "\t<tr><td>43</td><td>314.8973</td></tr>\n",
       "\t<tr><td>44</td><td>293.5813</td></tr>\n",
       "\t<tr><td>45</td><td>300.3084</td></tr>\n",
       "\t<tr><td>46</td><td>302.1247</td></tr>\n",
       "\t<tr><td>47</td><td>271.7291</td></tr>\n",
       "\t<tr><td>48</td><td>315.0338</td></tr>\n",
       "\t<tr><td>⋮</td><td>⋮</td></tr>\n",
       "\t<tr><td>58</td><td>201.94877</td></tr>\n",
       "\t<tr><td>59</td><td>260.07197</td></tr>\n",
       "\t<tr><td>60</td><td>203.10677</td></tr>\n",
       "\t<tr><td>61</td><td>174.40463</td></tr>\n",
       "\t<tr><td>62</td><td>158.56275</td></tr>\n",
       "\t<tr><td>63</td><td>158.32671</td></tr>\n",
       "\t<tr><td>64</td><td>121.10278</td></tr>\n",
       "\t<tr><td>65</td><td>110.33380</td></tr>\n",
       "\t<tr><td>66</td><td> 98.04872</td></tr>\n",
       "\t<tr><td>67</td><td>107.38611</td></tr>\n",
       "\t<tr><td>68</td><td>106.85867</td></tr>\n",
       "\t<tr><td>69</td><td>120.92121</td></tr>\n",
       "\t<tr><td>70</td><td>111.36500</td></tr>\n",
       "\t<tr><td>71</td><td> 65.63333</td></tr>\n",
       "\t<tr><td>72</td><td> 84.26842</td></tr>\n",
       "\t<tr><td>73</td><td> 72.06889</td></tr>\n",
       "\t<tr><td>74</td><td> 60.97765</td></tr>\n",
       "\t<tr><td>75</td><td> 38.30588</td></tr>\n",
       "\t<tr><td>76</td><td> 33.33889</td></tr>\n",
       "\t<tr><td>77</td><td> 31.39412</td></tr>\n",
       "\t<tr><td>78</td><td> 47.95500</td></tr>\n",
       "\t<tr><td>79</td><td> 32.36364</td></tr>\n",
       "\t<tr><td>80</td><td> 40.68462</td></tr>\n",
       "\t<tr><td>81</td><td> 20.00000</td></tr>\n",
       "\t<tr><td>82</td><td> 28.33333</td></tr>\n",
       "\t<tr><td>83</td><td> 21.66667</td></tr>\n",
       "\t<tr><td>84</td><td> 20.00000</td></tr>\n",
       "\t<tr><td>86</td><td> 20.00000</td></tr>\n",
       "\t<tr><td>87</td><td> 15.00000</td></tr>\n",
       "\t<tr><td>88</td><td> 20.00000</td></tr>\n",
       "</tbody>\n",
       "</table>\n"
      ],
      "text/latex": [
       "A tibble: 69 × 2\n",
       "\\begin{tabular}{ll}\n",
       " age & mean\\_income\\\\\n",
       " <dbl> & <dbl>\\\\\n",
       "\\hline\n",
       "\t 19 & 121.3000\\\\\n",
       "\t 20 & 105.5185\\\\\n",
       "\t 21 & 130.0923\\\\\n",
       "\t 22 & 141.7157\\\\\n",
       "\t 23 & 134.0877\\\\\n",
       "\t 24 & 144.6559\\\\\n",
       "\t 25 & 157.7284\\\\\n",
       "\t 26 & 188.2451\\\\\n",
       "\t 27 & 204.7289\\\\\n",
       "\t 28 & 188.6780\\\\\n",
       "\t 29 & 237.4092\\\\\n",
       "\t 30 & 224.5873\\\\\n",
       "\t 31 & 240.3529\\\\\n",
       "\t 32 & 257.6603\\\\\n",
       "\t 33 & 251.5806\\\\\n",
       "\t 34 & 246.8458\\\\\n",
       "\t 35 & 284.8673\\\\\n",
       "\t 36 & 290.3609\\\\\n",
       "\t 37 & 288.2641\\\\\n",
       "\t 38 & 291.5244\\\\\n",
       "\t 39 & 306.4672\\\\\n",
       "\t 40 & 291.8454\\\\\n",
       "\t 41 & 301.1134\\\\\n",
       "\t 42 & 277.5355\\\\\n",
       "\t 43 & 314.8973\\\\\n",
       "\t 44 & 293.5813\\\\\n",
       "\t 45 & 300.3084\\\\\n",
       "\t 46 & 302.1247\\\\\n",
       "\t 47 & 271.7291\\\\\n",
       "\t 48 & 315.0338\\\\\n",
       "\t ⋮ & ⋮\\\\\n",
       "\t 58 & 201.94877\\\\\n",
       "\t 59 & 260.07197\\\\\n",
       "\t 60 & 203.10677\\\\\n",
       "\t 61 & 174.40463\\\\\n",
       "\t 62 & 158.56275\\\\\n",
       "\t 63 & 158.32671\\\\\n",
       "\t 64 & 121.10278\\\\\n",
       "\t 65 & 110.33380\\\\\n",
       "\t 66 &  98.04872\\\\\n",
       "\t 67 & 107.38611\\\\\n",
       "\t 68 & 106.85867\\\\\n",
       "\t 69 & 120.92121\\\\\n",
       "\t 70 & 111.36500\\\\\n",
       "\t 71 &  65.63333\\\\\n",
       "\t 72 &  84.26842\\\\\n",
       "\t 73 &  72.06889\\\\\n",
       "\t 74 &  60.97765\\\\\n",
       "\t 75 &  38.30588\\\\\n",
       "\t 76 &  33.33889\\\\\n",
       "\t 77 &  31.39412\\\\\n",
       "\t 78 &  47.95500\\\\\n",
       "\t 79 &  32.36364\\\\\n",
       "\t 80 &  40.68462\\\\\n",
       "\t 81 &  20.00000\\\\\n",
       "\t 82 &  28.33333\\\\\n",
       "\t 83 &  21.66667\\\\\n",
       "\t 84 &  20.00000\\\\\n",
       "\t 86 &  20.00000\\\\\n",
       "\t 87 &  15.00000\\\\\n",
       "\t 88 &  20.00000\\\\\n",
       "\\end{tabular}\n"
      ],
      "text/markdown": [
       "\n",
       "A tibble: 69 × 2\n",
       "\n",
       "| age &lt;dbl&gt; | mean_income &lt;dbl&gt; |\n",
       "|---|---|\n",
       "| 19 | 121.3000 |\n",
       "| 20 | 105.5185 |\n",
       "| 21 | 130.0923 |\n",
       "| 22 | 141.7157 |\n",
       "| 23 | 134.0877 |\n",
       "| 24 | 144.6559 |\n",
       "| 25 | 157.7284 |\n",
       "| 26 | 188.2451 |\n",
       "| 27 | 204.7289 |\n",
       "| 28 | 188.6780 |\n",
       "| 29 | 237.4092 |\n",
       "| 30 | 224.5873 |\n",
       "| 31 | 240.3529 |\n",
       "| 32 | 257.6603 |\n",
       "| 33 | 251.5806 |\n",
       "| 34 | 246.8458 |\n",
       "| 35 | 284.8673 |\n",
       "| 36 | 290.3609 |\n",
       "| 37 | 288.2641 |\n",
       "| 38 | 291.5244 |\n",
       "| 39 | 306.4672 |\n",
       "| 40 | 291.8454 |\n",
       "| 41 | 301.1134 |\n",
       "| 42 | 277.5355 |\n",
       "| 43 | 314.8973 |\n",
       "| 44 | 293.5813 |\n",
       "| 45 | 300.3084 |\n",
       "| 46 | 302.1247 |\n",
       "| 47 | 271.7291 |\n",
       "| 48 | 315.0338 |\n",
       "| ⋮ | ⋮ |\n",
       "| 58 | 201.94877 |\n",
       "| 59 | 260.07197 |\n",
       "| 60 | 203.10677 |\n",
       "| 61 | 174.40463 |\n",
       "| 62 | 158.56275 |\n",
       "| 63 | 158.32671 |\n",
       "| 64 | 121.10278 |\n",
       "| 65 | 110.33380 |\n",
       "| 66 |  98.04872 |\n",
       "| 67 | 107.38611 |\n",
       "| 68 | 106.85867 |\n",
       "| 69 | 120.92121 |\n",
       "| 70 | 111.36500 |\n",
       "| 71 |  65.63333 |\n",
       "| 72 |  84.26842 |\n",
       "| 73 |  72.06889 |\n",
       "| 74 |  60.97765 |\n",
       "| 75 |  38.30588 |\n",
       "| 76 |  33.33889 |\n",
       "| 77 |  31.39412 |\n",
       "| 78 |  47.95500 |\n",
       "| 79 |  32.36364 |\n",
       "| 80 |  40.68462 |\n",
       "| 81 |  20.00000 |\n",
       "| 82 |  28.33333 |\n",
       "| 83 |  21.66667 |\n",
       "| 84 |  20.00000 |\n",
       "| 86 |  20.00000 |\n",
       "| 87 |  15.00000 |\n",
       "| 88 |  20.00000 |\n",
       "\n"
      ],
      "text/plain": [
       "   age mean_income\n",
       "1  19  121.3000   \n",
       "2  20  105.5185   \n",
       "3  21  130.0923   \n",
       "4  22  141.7157   \n",
       "5  23  134.0877   \n",
       "6  24  144.6559   \n",
       "7  25  157.7284   \n",
       "8  26  188.2451   \n",
       "9  27  204.7289   \n",
       "10 28  188.6780   \n",
       "11 29  237.4092   \n",
       "12 30  224.5873   \n",
       "13 31  240.3529   \n",
       "14 32  257.6603   \n",
       "15 33  251.5806   \n",
       "16 34  246.8458   \n",
       "17 35  284.8673   \n",
       "18 36  290.3609   \n",
       "19 37  288.2641   \n",
       "20 38  291.5244   \n",
       "21 39  306.4672   \n",
       "22 40  291.8454   \n",
       "23 41  301.1134   \n",
       "24 42  277.5355   \n",
       "25 43  314.8973   \n",
       "26 44  293.5813   \n",
       "27 45  300.3084   \n",
       "28 46  302.1247   \n",
       "29 47  271.7291   \n",
       "30 48  315.0338   \n",
       "<U+22EE>  <U+22EE> <U+22EE>   \n",
       "40 58  201.94877  \n",
       "41 59  260.07197  \n",
       "42 60  203.10677  \n",
       "43 61  174.40463  \n",
       "44 62  158.56275  \n",
       "45 63  158.32671  \n",
       "46 64  121.10278  \n",
       "47 65  110.33380  \n",
       "48 66   98.04872  \n",
       "49 67  107.38611  \n",
       "50 68  106.85867  \n",
       "51 69  120.92121  \n",
       "52 70  111.36500  \n",
       "53 71   65.63333  \n",
       "54 72   84.26842  \n",
       "55 73   72.06889  \n",
       "56 74   60.97765  \n",
       "57 75   38.30588  \n",
       "58 76   33.33889  \n",
       "59 77   31.39412  \n",
       "60 78   47.95500  \n",
       "61 79   32.36364  \n",
       "62 80   40.68462  \n",
       "63 81   20.00000  \n",
       "64 82   28.33333  \n",
       "65 83   21.66667  \n",
       "66 84   20.00000  \n",
       "67 86   20.00000  \n",
       "68 87   15.00000  \n",
       "69 88   20.00000  "
      ]
     },
     "metadata": {},
     "output_type": "display_data"
    }
   ],
   "source": [
    "age_income"
   ]
  },
  {
   "cell_type": "code",
   "execution_count": 43,
   "id": "babe93ce",
   "metadata": {
    "scrolled": true
   },
   "outputs": [
    {
     "data": {
      "image/png": "[encoded data removed]",
      "text/plain": [
       "plot without title"
      ]
     },
     "metadata": {
      "image/png": {
       "height": 420,
       "width": 420
      }
     },
     "output_type": "display_data"
    }
   ],
   "source": [
    "ggplot(data=age_income, aes(x=age, y=mean_income)) +\n",
    "geom_line()"
   ]
  },
  {
   "cell_type": "code",
   "execution_count": 44,
   "id": "2adc4810",
   "metadata": {},
   "outputs": [
    {
     "data": {
      "text/plain": [
       "\n",
       "middle    old  young \n",
       "  6128   6072   4464 "
      ]
     },
     "metadata": {},
     "output_type": "display_data"
    }
   ],
   "source": [
    "#어떤 연령대의 월급이 가장 많을까\n",
    "\n",
    "welfare <- welfare %>% \n",
    "    mutate(ageg=ifelse(age < 30, 'young',\n",
    "                      ifelse(age <= 59,'middle','old')))\n",
    "table(welfare$ageg)"
   ]
  },
  {
   "cell_type": "code",
   "execution_count": 45,
   "id": "6d2c1927",
   "metadata": {},
   "outputs": [
    {
     "data": {
      "image/png": "[encoded data removed]",
      "text/plain": [
       "plot without title"
      ]
     },
     "metadata": {
      "image/png": {
       "height": 420,
       "width": 420
      }
     },
     "output_type": "display_data"
    }
   ],
   "source": [
    "qplot(welfare$ageg)"
   ]
  },
  {
   "cell_type": "code",
   "execution_count": 46,
   "id": "8a197418",
   "metadata": {},
   "outputs": [
    {
     "data": {
      "text/html": [
       "<table class=\"dataframe\">\n",
       "<caption>A tibble: 3 × 2</caption>\n",
       "<thead>\n",
       "\t<tr><th scope=col>ageg</th><th scope=col>mean_income</th></tr>\n",
       "\t<tr><th scope=col>&lt;chr&gt;</th><th scope=col>&lt;dbl&gt;</th></tr>\n",
       "</thead>\n",
       "<tbody>\n",
       "\t<tr><td>middle</td><td>282.4978</td></tr>\n",
       "\t<tr><td>old   </td><td>113.2301</td></tr>\n",
       "\t<tr><td>young </td><td>173.8400</td></tr>\n",
       "</tbody>\n",
       "</table>\n"
      ],
      "text/latex": [
       "A tibble: 3 × 2\n",
       "\\begin{tabular}{ll}\n",
       " ageg & mean\\_income\\\\\n",
       " <chr> & <dbl>\\\\\n",
       "\\hline\n",
       "\t middle & 282.4978\\\\\n",
       "\t old    & 113.2301\\\\\n",
       "\t young  & 173.8400\\\\\n",
       "\\end{tabular}\n"
      ],
      "text/markdown": [
       "\n",
       "A tibble: 3 × 2\n",
       "\n",
       "| ageg &lt;chr&gt; | mean_income &lt;dbl&gt; |\n",
       "|---|---|\n",
       "| middle | 282.4978 |\n",
       "| old    | 113.2301 |\n",
       "| young  | 173.8400 |\n",
       "\n"
      ],
      "text/plain": [
       "  ageg   mean_income\n",
       "1 middle 282.4978   \n",
       "2 old    113.2301   \n",
       "3 young  173.8400   "
      ]
     },
     "metadata": {},
     "output_type": "display_data"
    }
   ],
   "source": [
    "ageg_income <- welfare %>% \n",
    "    filter(!is.na(income)) %>% \n",
    "    group_by(ageg) %>% \n",
    "    summarise(mean_income=mean(income))\n",
    "ageg_income"
   ]
  },
  {
   "cell_type": "code",
   "execution_count": 47,
   "id": "05b066ba",
   "metadata": {
    "scrolled": true
   },
   "outputs": [
    {
     "data": {
      "image/png": "[encoded data removed]",
      "text/plain": [
       "plot without title"
      ]
     },
     "metadata": {
      "image/png": {
       "height": 420,
       "width": 420
      }
     },
     "output_type": "display_data"
    }
   ],
   "source": [
    "ggplot(data=ageg_income, aes(x=ageg, y=mean_income)) +\n",
    "geom_col() +\n",
    "scale_x_discrete(limits=c('young','middle','old'))"
   ]
  },
  {
   "cell_type": "code",
   "execution_count": 48,
   "id": "13aa20b7",
   "metadata": {},
   "outputs": [
    {
     "name": "stderr",
     "output_type": "stream",
     "text": [
      "\u001b[1m\u001b[22m`summarise()` has grouped output by 'ageg'. You can override using the `.groups` argument.\n"
     ]
    },
    {
     "data": {
      "text/html": [
       "<table class=\"dataframe\">\n",
       "<caption>A grouped_df: 6 × 3</caption>\n",
       "<thead>\n",
       "\t<tr><th scope=col>ageg</th><th scope=col>sex</th><th scope=col>mean_income</th></tr>\n",
       "\t<tr><th scope=col>&lt;chr&gt;</th><th scope=col>&lt;chr&gt;</th><th scope=col>&lt;dbl&gt;</th></tr>\n",
       "</thead>\n",
       "<tbody>\n",
       "\t<tr><td>middle</td><td>female</td><td>186.42441</td></tr>\n",
       "\t<tr><td>middle</td><td>male  </td><td>354.62883</td></tr>\n",
       "\t<tr><td>old   </td><td>female</td><td> 75.72841</td></tr>\n",
       "\t<tr><td>old   </td><td>male  </td><td>156.79832</td></tr>\n",
       "\t<tr><td>young </td><td>female</td><td>167.67865</td></tr>\n",
       "\t<tr><td>young </td><td>male  </td><td>183.85930</td></tr>\n",
       "</tbody>\n",
       "</table>\n"
      ],
      "text/latex": [
       "A grouped\\_df: 6 × 3\n",
       "\\begin{tabular}{lll}\n",
       " ageg & sex & mean\\_income\\\\\n",
       " <chr> & <chr> & <dbl>\\\\\n",
       "\\hline\n",
       "\t middle & female & 186.42441\\\\\n",
       "\t middle & male   & 354.62883\\\\\n",
       "\t old    & female &  75.72841\\\\\n",
       "\t old    & male   & 156.79832\\\\\n",
       "\t young  & female & 167.67865\\\\\n",
       "\t young  & male   & 183.85930\\\\\n",
       "\\end{tabular}\n"
      ],
      "text/markdown": [
       "\n",
       "A grouped_df: 6 × 3\n",
       "\n",
       "| ageg &lt;chr&gt; | sex &lt;chr&gt; | mean_income &lt;dbl&gt; |\n",
       "|---|---|---|\n",
       "| middle | female | 186.42441 |\n",
       "| middle | male   | 354.62883 |\n",
       "| old    | female |  75.72841 |\n",
       "| old    | male   | 156.79832 |\n",
       "| young  | female | 167.67865 |\n",
       "| young  | male   | 183.85930 |\n",
       "\n"
      ],
      "text/plain": [
       "  ageg   sex    mean_income\n",
       "1 middle female 186.42441  \n",
       "2 middle male   354.62883  \n",
       "3 old    female  75.72841  \n",
       "4 old    male   156.79832  \n",
       "5 young  female 167.67865  \n",
       "6 young  male   183.85930  "
      ]
     },
     "metadata": {},
     "output_type": "display_data"
    }
   ],
   "source": [
    "#성별 월급 차이는 연령대별로 다를까?\"\n",
    "sex_income <- welfare %>% \n",
    "    filter(!is.na(income)) %>% \n",
    "    group_by(ageg, sex) %>% \n",
    "    summarise(mean_income=mean(income))\n",
    "sex_income"
   ]
  },
  {
   "cell_type": "code",
   "execution_count": 49,
   "id": "3238f14c",
   "metadata": {},
   "outputs": [
    {
     "data": {
      "image/png": "[encoded data removed]",
      "text/plain": [
       "plot without title"
      ]
     },
     "metadata": {
      "image/png": {
       "height": 420,
       "width": 420
      }
     },
     "output_type": "display_data"
    }
   ],
   "source": [
    "ggplot(data=sex_income, aes(x=ageg, y=mean_income, fill=sex))+\n",
    "geom_col()+\n",
    "scale_x_discrete(limits=c('young','middle','old'))"
   ]
  },
  {
   "cell_type": "code",
   "execution_count": null,
   "id": "42e53b75",
   "metadata": {},
   "outputs": [],
   "source": []
  },
  {
   "cell_type": "code",
   "execution_count": null,
   "id": "59176122",
   "metadata": {},
   "outputs": [],
   "source": []
  },
  {
   "cell_type": "code",
   "execution_count": null,
   "id": "9b67a0a2",
   "metadata": {},
   "outputs": [],
   "source": []
  },
  {
   "cell_type": "code",
   "execution_count": null,
   "id": "8dadce34",
   "metadata": {},
   "outputs": [],
   "source": []
  }
 ],
 "metadata": {
  "kernelspec": {
   "display_name": "R",
   "language": "R",
   "name": "ir"
  },
  "language_info": {
   "codemirror_mode": "r",
   "file_extension": ".r",
   "mimetype": "text/x-r-source",
   "name": "R",
   "pygments_lexer": "r",
   "version": "4.1.3"
  }
 },
 "nbformat": 4,
 "nbformat_minor": 5
}
