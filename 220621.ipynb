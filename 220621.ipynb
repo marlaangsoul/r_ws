{
 "cells": [
  {
   "cell_type": "code",
   "execution_count": 1,
   "id": "28702418",
   "metadata": {},
   "outputs": [
    {
     "name": "stdout",
     "output_type": "stream",
     "text": [
      "package 'XML' successfully unpacked and MD5 sums checked\n",
      "\n",
      "The downloaded binary packages are in\n",
      "\tC:\\Users\\NOTEBOOK\\AppData\\Local\\Temp\\RtmpYBe6b3\\downloaded_packages\n"
     ]
    }
   ],
   "source": [
    "install.packages('XML')"
   ]
  },
  {
   "cell_type": "code",
   "execution_count": 2,
   "id": "eed844da",
   "metadata": {},
   "outputs": [],
   "source": [
    "library('XML')"
   ]
  },
  {
   "cell_type": "code",
   "execution_count": 3,
   "id": "5ace2798",
   "metadata": {},
   "outputs": [
    {
     "data": {
      "text/plain": [
       "$doc\n",
       "$file\n",
       "[1] \"rggagi/score.xml\"\n",
       "\n",
       "$version\n",
       "[1] \"1.0\"\n",
       "\n",
       "$children\n",
       "$children$mathscore\n",
       "<mathscore>\n",
       " <student>\n",
       "  <name>Peter</name>\n",
       "  <score>100</score>\n",
       " </student>\n",
       " <student>\n",
       "  <name>Abel</name>\n",
       "  <score>90</score>\n",
       " </student>\n",
       " <student>\n",
       "  <name>Elin</name>\n",
       "  <score>80</score>\n",
       " </student>\n",
       "</mathscore>\n",
       "\n",
       "\n",
       "attr(,\"class\")\n",
       "[1] \"XMLDocumentContent\"\n",
       "\n",
       "$dtd\n",
       "$external\n",
       "NULL\n",
       "\n",
       "$internal\n",
       "NULL\n",
       "\n",
       "attr(,\"class\")\n",
       "[1] \"DTDList\"\n",
       "\n",
       "attr(,\"class\")\n",
       "[1] \"XMLDocument\"         \"XMLAbstractDocument\""
      ]
     },
     "metadata": {},
     "output_type": "display_data"
    }
   ],
   "source": [
    "DocFromXML <- xmlTreeParse('rggagi/score.xml')\n",
    "DocFromXML"
   ]
  },
  {
   "cell_type": "code",
   "execution_count": 4,
   "id": "288c6ede",
   "metadata": {},
   "outputs": [
    {
     "data": {
      "text/plain": [
       "<?xml version=\"1.0\"?>\n",
       "<mathscore>\n",
       "  <student>\n",
       "    <name>Peter</name>\n",
       "    <score>100</score>\n",
       "  </student>\n",
       "  <student>\n",
       "    <name>Abel</name>\n",
       "    <score>90</score>\n",
       "  </student>\n",
       "  <student>\n",
       "    <name>Elin</name>\n",
       "    <score>80</score>\n",
       "  </student>\n",
       "</mathscore>\n",
       " "
      ]
     },
     "metadata": {},
     "output_type": "display_data"
    }
   ],
   "source": [
    "DocFromXML <- xmlTreeParse('rggagi/score.xml', useInternalNodes = T)\n",
    "DocFromXML"
   ]
  },
  {
   "cell_type": "code",
   "execution_count": 6,
   "id": "9b0acfd9",
   "metadata": {},
   "outputs": [
    {
     "data": {
      "text/plain": [
       "<mathscore>\n",
       "  <student>\n",
       "    <name>Peter</name>\n",
       "    <score>100</score>\n",
       "  </student>\n",
       "  <student>\n",
       "    <name>Abel</name>\n",
       "    <score>90</score>\n",
       "  </student>\n",
       "  <student>\n",
       "    <name>Elin</name>\n",
       "    <score>80</score>\n",
       "  </student>\n",
       "</mathscore> "
      ]
     },
     "metadata": {},
     "output_type": "display_data"
    }
   ],
   "source": [
    "RootNode <- xmlRoot(DocFromXML)\n",
    "RootNode"
   ]
  },
  {
   "cell_type": "code",
   "execution_count": null,
   "id": "ef1e3ae9",
   "metadata": {},
   "outputs": [],
   "source": []
  },
  {
   "cell_type": "code",
   "execution_count": 7,
   "id": "4599d69d",
   "metadata": {},
   "outputs": [
    {
     "data": {
      "text/html": [
       "<style>\n",
       ".list-inline {list-style: none; margin:0; padding: 0}\n",
       ".list-inline>li {display: inline-block}\n",
       ".list-inline>li:not(:last-child)::after {content: \"\\00b7\"; padding: 0 .5ex}\n",
       "</style>\n",
       "<ol class=list-inline><li>'Peter'</li><li>'Abel'</li><li>'Elin'</li></ol>\n"
      ],
      "text/latex": [
       "\\begin{enumerate*}\n",
       "\\item 'Peter'\n",
       "\\item 'Abel'\n",
       "\\item 'Elin'\n",
       "\\end{enumerate*}\n"
      ],
      "text/markdown": [
       "1. 'Peter'\n",
       "2. 'Abel'\n",
       "3. 'Elin'\n",
       "\n",
       "\n"
      ],
      "text/plain": [
       "[1] \"Peter\" \"Abel\"  \"Elin\" "
      ]
     },
     "metadata": {},
     "output_type": "display_data"
    }
   ],
   "source": [
    "Names <- xpathSApply(RootNode, '//name', xmlValue)\n",
    "Names"
   ]
  },
  {
   "cell_type": "code",
   "execution_count": 8,
   "id": "0664461b",
   "metadata": {},
   "outputs": [
    {
     "data": {
      "text/html": [
       "<style>\n",
       ".list-inline {list-style: none; margin:0; padding: 0}\n",
       ".list-inline>li {display: inline-block}\n",
       ".list-inline>li:not(:last-child)::after {content: \"\\00b7\"; padding: 0 .5ex}\n",
       "</style>\n",
       "<ol class=list-inline><li>'100'</li><li>'90'</li><li>'80'</li></ol>\n"
      ],
      "text/latex": [
       "\\begin{enumerate*}\n",
       "\\item '100'\n",
       "\\item '90'\n",
       "\\item '80'\n",
       "\\end{enumerate*}\n"
      ],
      "text/markdown": [
       "1. '100'\n",
       "2. '90'\n",
       "3. '80'\n",
       "\n",
       "\n"
      ],
      "text/plain": [
       "[1] \"100\" \"90\"  \"80\" "
      ]
     },
     "metadata": {},
     "output_type": "display_data"
    }
   ],
   "source": [
    "Scores <- xpathSApply(RootNode, '//score', xmlValue)\n",
    "Scores"
   ]
  },
  {
   "cell_type": "code",
   "execution_count": 9,
   "id": "7f35982f",
   "metadata": {},
   "outputs": [
    {
     "data": {
      "text/html": [
       "<table class=\"dataframe\">\n",
       "<caption>A data.frame: 3 × 2</caption>\n",
       "<thead>\n",
       "\t<tr><th scope=col>NAME</th><th scope=col>SCORE</th></tr>\n",
       "\t<tr><th scope=col>&lt;chr&gt;</th><th scope=col>&lt;chr&gt;</th></tr>\n",
       "</thead>\n",
       "<tbody>\n",
       "\t<tr><td>Peter</td><td>100</td></tr>\n",
       "\t<tr><td>Abel </td><td>90 </td></tr>\n",
       "\t<tr><td>Elin </td><td>80 </td></tr>\n",
       "</tbody>\n",
       "</table>\n"
      ],
      "text/latex": [
       "A data.frame: 3 × 2\n",
       "\\begin{tabular}{ll}\n",
       " NAME & SCORE\\\\\n",
       " <chr> & <chr>\\\\\n",
       "\\hline\n",
       "\t Peter & 100\\\\\n",
       "\t Abel  & 90 \\\\\n",
       "\t Elin  & 80 \\\\\n",
       "\\end{tabular}\n"
      ],
      "text/markdown": [
       "\n",
       "A data.frame: 3 × 2\n",
       "\n",
       "| NAME &lt;chr&gt; | SCORE &lt;chr&gt; |\n",
       "|---|---|\n",
       "| Peter | 100 |\n",
       "| Abel  | 90  |\n",
       "| Elin  | 80  |\n",
       "\n"
      ],
      "text/plain": [
       "  NAME  SCORE\n",
       "1 Peter 100  \n",
       "2 Abel  90   \n",
       "3 Elin  80   "
      ]
     },
     "metadata": {},
     "output_type": "display_data"
    }
   ],
   "source": [
    "NameScore = data.frame(NAME=Names, SCORE=Scores)\n",
    "NameScore"
   ]
  },
  {
   "cell_type": "code",
   "execution_count": 10,
   "id": "b3820e37",
   "metadata": {},
   "outputs": [
    {
     "data": {
      "text/html": [
       "<table class=\"dataframe\">\n",
       "<caption>A data.frame: 2 × 1</caption>\n",
       "<thead>\n",
       "\t<tr><th scope=col>V1</th></tr>\n",
       "\t<tr><th scope=col>&lt;chr&gt;</th></tr>\n",
       "</thead>\n",
       "<tbody>\n",
       "\t<tr><td>List &lt;- read.delim(clipboard, header = F)</td></tr>\n",
       "\t<tr><td>List                                     </td></tr>\n",
       "</tbody>\n",
       "</table>\n"
      ],
      "text/latex": [
       "A data.frame: 2 × 1\n",
       "\\begin{tabular}{l}\n",
       " V1\\\\\n",
       " <chr>\\\\\n",
       "\\hline\n",
       "\t List <- read.delim(clipboard, header = F)\\\\\n",
       "\t List                                     \\\\\n",
       "\\end{tabular}\n"
      ],
      "text/markdown": [
       "\n",
       "A data.frame: 2 × 1\n",
       "\n",
       "| V1 &lt;chr&gt; |\n",
       "|---|\n",
       "| List &lt;- read.delim(clipboard, header = F) |\n",
       "| List                                      |\n",
       "\n"
      ],
      "text/plain": [
       "  V1                                       \n",
       "1 List <- read.delim(clipboard, header = F)\n",
       "2 List                                     "
      ]
     },
     "metadata": {},
     "output_type": "display_data"
    }
   ],
   "source": [
    "List <- read.delim(\"clipboard\", header = F)\n",
    "List"
   ]
  },
  {
   "cell_type": "code",
   "execution_count": 11,
   "id": "6f7cbd73",
   "metadata": {},
   "outputs": [],
   "source": [
    "a1 <- c(1,2,3,4,5)"
   ]
  },
  {
   "cell_type": "code",
   "execution_count": 12,
   "id": "9023b977",
   "metadata": {},
   "outputs": [
    {
     "data": {
      "text/html": [
       "<style>\n",
       ".list-inline {list-style: none; margin:0; padding: 0}\n",
       ".list-inline>li {display: inline-block}\n",
       ".list-inline>li:not(:last-child)::after {content: \"\\00b7\"; padding: 0 .5ex}\n",
       "</style>\n",
       "<ol class=list-inline><li>1</li><li>2</li><li>3</li><li>4</li><li>5</li></ol>\n"
      ],
      "text/latex": [
       "\\begin{enumerate*}\n",
       "\\item 1\n",
       "\\item 2\n",
       "\\item 3\n",
       "\\item 4\n",
       "\\item 5\n",
       "\\end{enumerate*}\n"
      ],
      "text/markdown": [
       "1. 1\n",
       "2. 2\n",
       "3. 3\n",
       "4. 4\n",
       "5. 5\n",
       "\n",
       "\n"
      ],
      "text/plain": [
       "[1] 1 2 3 4 5"
      ]
     },
     "metadata": {},
     "output_type": "display_data"
    }
   ],
   "source": [
    "a1"
   ]
  },
  {
   "cell_type": "code",
   "execution_count": 13,
   "id": "51f20e48",
   "metadata": {},
   "outputs": [
    {
     "data": {
      "text/html": [
       "<style>\n",
       ".list-inline {list-style: none; margin:0; padding: 0}\n",
       ".list-inline>li {display: inline-block}\n",
       ".list-inline>li:not(:last-child)::after {content: \"\\00b7\"; padding: 0 .5ex}\n",
       "</style>\n",
       "<ol class=list-inline><li>'numeric'</li><li>'vector'</li></ol>\n"
      ],
      "text/latex": [
       "\\begin{enumerate*}\n",
       "\\item 'numeric'\n",
       "\\item 'vector'\n",
       "\\end{enumerate*}\n"
      ],
      "text/markdown": [
       "1. 'numeric'\n",
       "2. 'vector'\n",
       "\n",
       "\n"
      ],
      "text/plain": [
       "[1] \"numeric\" \"vector\" "
      ]
     },
     "metadata": {},
     "output_type": "display_data"
    }
   ],
   "source": [
    "is(a1)"
   ]
  },
  {
   "cell_type": "code",
   "execution_count": 14,
   "id": "fb2f1cc6",
   "metadata": {},
   "outputs": [
    {
     "data": {
      "text/html": [
       "<style>\n",
       ".list-inline {list-style: none; margin:0; padding: 0}\n",
       ".list-inline>li {display: inline-block}\n",
       ".list-inline>li:not(:last-child)::after {content: \"\\00b7\"; padding: 0 .5ex}\n",
       "</style>\n",
       "<ol class=list-inline><li>1</li><li>2</li><li>3</li></ol>\n"
      ],
      "text/latex": [
       "\\begin{enumerate*}\n",
       "\\item 1\n",
       "\\item 2\n",
       "\\item 3\n",
       "\\end{enumerate*}\n"
      ],
      "text/markdown": [
       "1. 1\n",
       "2. 2\n",
       "3. 3\n",
       "\n",
       "\n"
      ],
      "text/plain": [
       "[1] 1 2 3"
      ]
     },
     "metadata": {},
     "output_type": "display_data"
    }
   ],
   "source": [
    "a2  <- c(1L,2L,3L)\n",
    "a2"
   ]
  },
  {
   "cell_type": "code",
   "execution_count": 15,
   "id": "98f31dd2",
   "metadata": {},
   "outputs": [
    {
     "data": {
      "text/html": [
       "<style>\n",
       ".list-inline {list-style: none; margin:0; padding: 0}\n",
       ".list-inline>li {display: inline-block}\n",
       ".list-inline>li:not(:last-child)::after {content: \"\\00b7\"; padding: 0 .5ex}\n",
       "</style>\n",
       "<ol class=list-inline><li>'integer'</li><li>'double'</li><li>'numeric'</li><li>'vector'</li><li>'data.frameRowLabels'</li></ol>\n"
      ],
      "text/latex": [
       "\\begin{enumerate*}\n",
       "\\item 'integer'\n",
       "\\item 'double'\n",
       "\\item 'numeric'\n",
       "\\item 'vector'\n",
       "\\item 'data.frameRowLabels'\n",
       "\\end{enumerate*}\n"
      ],
      "text/markdown": [
       "1. 'integer'\n",
       "2. 'double'\n",
       "3. 'numeric'\n",
       "4. 'vector'\n",
       "5. 'data.frameRowLabels'\n",
       "\n",
       "\n"
      ],
      "text/plain": [
       "[1] \"integer\"             \"double\"              \"numeric\"            \n",
       "[4] \"vector\"              \"data.frameRowLabels\""
      ]
     },
     "metadata": {},
     "output_type": "display_data"
    }
   ],
   "source": [
    "is(a2)"
   ]
  },
  {
   "cell_type": "code",
   "execution_count": 16,
   "id": "79ec1c0c",
   "metadata": {},
   "outputs": [],
   "source": [
    "a3 <- as.integer(a1)"
   ]
  },
  {
   "cell_type": "code",
   "execution_count": 17,
   "id": "c31ace02",
   "metadata": {},
   "outputs": [
    {
     "data": {
      "text/html": [
       "<style>\n",
       ".list-inline {list-style: none; margin:0; padding: 0}\n",
       ".list-inline>li {display: inline-block}\n",
       ".list-inline>li:not(:last-child)::after {content: \"\\00b7\"; padding: 0 .5ex}\n",
       "</style>\n",
       "<ol class=list-inline><li>1</li><li>2</li><li>3</li><li>4</li><li>5</li></ol>\n"
      ],
      "text/latex": [
       "\\begin{enumerate*}\n",
       "\\item 1\n",
       "\\item 2\n",
       "\\item 3\n",
       "\\item 4\n",
       "\\item 5\n",
       "\\end{enumerate*}\n"
      ],
      "text/markdown": [
       "1. 1\n",
       "2. 2\n",
       "3. 3\n",
       "4. 4\n",
       "5. 5\n",
       "\n",
       "\n"
      ],
      "text/plain": [
       "[1] 1 2 3 4 5"
      ]
     },
     "metadata": {},
     "output_type": "display_data"
    }
   ],
   "source": [
    "a3"
   ]
  },
  {
   "cell_type": "code",
   "execution_count": 18,
   "id": "cc2f8c94",
   "metadata": {},
   "outputs": [
    {
     "data": {
      "text/html": [
       "<style>\n",
       ".list-inline {list-style: none; margin:0; padding: 0}\n",
       ".list-inline>li {display: inline-block}\n",
       ".list-inline>li:not(:last-child)::after {content: \"\\00b7\"; padding: 0 .5ex}\n",
       "</style>\n",
       "<ol class=list-inline><li>'integer'</li><li>'double'</li><li>'numeric'</li><li>'vector'</li><li>'data.frameRowLabels'</li></ol>\n"
      ],
      "text/latex": [
       "\\begin{enumerate*}\n",
       "\\item 'integer'\n",
       "\\item 'double'\n",
       "\\item 'numeric'\n",
       "\\item 'vector'\n",
       "\\item 'data.frameRowLabels'\n",
       "\\end{enumerate*}\n"
      ],
      "text/markdown": [
       "1. 'integer'\n",
       "2. 'double'\n",
       "3. 'numeric'\n",
       "4. 'vector'\n",
       "5. 'data.frameRowLabels'\n",
       "\n",
       "\n"
      ],
      "text/plain": [
       "[1] \"integer\"             \"double\"              \"numeric\"            \n",
       "[4] \"vector\"              \"data.frameRowLabels\""
      ]
     },
     "metadata": {},
     "output_type": "display_data"
    }
   ],
   "source": [
    "is(a3)"
   ]
  },
  {
   "cell_type": "code",
   "execution_count": 19,
   "id": "7c1977eb",
   "metadata": {},
   "outputs": [
    {
     "data": {
      "text/html": [
       "<style>\n",
       ".list-inline {list-style: none; margin:0; padding: 0}\n",
       ".list-inline>li {display: inline-block}\n",
       ".list-inline>li:not(:last-child)::after {content: \"\\00b7\"; padding: 0 .5ex}\n",
       "</style>\n",
       "<ol class=list-inline><li>1.23</li><li>3.14</li><li>6.66</li></ol>\n"
      ],
      "text/latex": [
       "\\begin{enumerate*}\n",
       "\\item 1.23\n",
       "\\item 3.14\n",
       "\\item 6.66\n",
       "\\end{enumerate*}\n"
      ],
      "text/markdown": [
       "1. 1.23\n",
       "2. 3.14\n",
       "3. 6.66\n",
       "\n",
       "\n"
      ],
      "text/plain": [
       "[1] 1.23 3.14 6.66"
      ]
     },
     "metadata": {},
     "output_type": "display_data"
    }
   ],
   "source": [
    "b <- c(1.23, 3.14, 6.66)\n",
    "b"
   ]
  },
  {
   "cell_type": "code",
   "execution_count": 20,
   "id": "989b9128",
   "metadata": {},
   "outputs": [
    {
     "data": {
      "text/html": [
       "<style>\n",
       ".list-inline {list-style: none; margin:0; padding: 0}\n",
       ".list-inline>li {display: inline-block}\n",
       ".list-inline>li:not(:last-child)::after {content: \"\\00b7\"; padding: 0 .5ex}\n",
       "</style>\n",
       "<ol class=list-inline><li>'a'</li><li>'b'</li><li>'b'</li><li>'c'</li><li>'a'</li></ol>\n"
      ],
      "text/latex": [
       "\\begin{enumerate*}\n",
       "\\item 'a'\n",
       "\\item 'b'\n",
       "\\item 'b'\n",
       "\\item 'c'\n",
       "\\item 'a'\n",
       "\\end{enumerate*}\n"
      ],
      "text/markdown": [
       "1. 'a'\n",
       "2. 'b'\n",
       "3. 'b'\n",
       "4. 'c'\n",
       "5. 'a'\n",
       "\n",
       "\n"
      ],
      "text/plain": [
       "[1] \"a\" \"b\" \"b\" \"c\" \"a\""
      ]
     },
     "metadata": {},
     "output_type": "display_data"
    }
   ],
   "source": [
    "c1 <- c('a','b','b','c','a')\n",
    "c1"
   ]
  },
  {
   "cell_type": "code",
   "execution_count": 21,
   "id": "15a0bdb3",
   "metadata": {},
   "outputs": [
    {
     "data": {
      "text/html": [
       "<style>\n",
       ".list-inline {list-style: none; margin:0; padding: 0}\n",
       ".list-inline>li {display: inline-block}\n",
       ".list-inline>li:not(:last-child)::after {content: \"\\00b7\"; padding: 0 .5ex}\n",
       "</style>\n",
       "<ol class=list-inline><li>'function'</li><li>'OptionalFunction'</li><li>'PossibleMethod'</li><li>'functionOrNULL'</li></ol>\n"
      ],
      "text/latex": [
       "\\begin{enumerate*}\n",
       "\\item 'function'\n",
       "\\item 'OptionalFunction'\n",
       "\\item 'PossibleMethod'\n",
       "\\item 'functionOrNULL'\n",
       "\\end{enumerate*}\n"
      ],
      "text/markdown": [
       "1. 'function'\n",
       "2. 'OptionalFunction'\n",
       "3. 'PossibleMethod'\n",
       "4. 'functionOrNULL'\n",
       "\n",
       "\n"
      ],
      "text/plain": [
       "[1] \"function\"         \"OptionalFunction\" \"PossibleMethod\"   \"functionOrNULL\"  "
      ]
     },
     "metadata": {},
     "output_type": "display_data"
    }
   ],
   "source": [
    "is(c)"
   ]
  },
  {
   "cell_type": "code",
   "execution_count": 22,
   "id": "4c1e9007",
   "metadata": {},
   "outputs": [
    {
     "data": {
      "text/html": [
       "<style>\n",
       ".list-inline {list-style: none; margin:0; padding: 0}\n",
       ".list-inline>li {display: inline-block}\n",
       ".list-inline>li:not(:last-child)::after {content: \"\\00b7\"; padding: 0 .5ex}\n",
       "</style>\n",
       "<ol class=list-inline><li>'1'</li><li>'2'</li><li>'3'</li><li>'a'</li></ol>\n"
      ],
      "text/latex": [
       "\\begin{enumerate*}\n",
       "\\item '1'\n",
       "\\item '2'\n",
       "\\item '3'\n",
       "\\item 'a'\n",
       "\\end{enumerate*}\n"
      ],
      "text/markdown": [
       "1. '1'\n",
       "2. '2'\n",
       "3. '3'\n",
       "4. 'a'\n",
       "\n",
       "\n"
      ],
      "text/plain": [
       "[1] \"1\" \"2\" \"3\" \"a\""
      ]
     },
     "metadata": {},
     "output_type": "display_data"
    }
   ],
   "source": [
    "c2 <- c(1,2,3,'a')\n",
    "c2"
   ]
  },
  {
   "cell_type": "code",
   "execution_count": 23,
   "id": "75913be0",
   "metadata": {},
   "outputs": [
    {
     "data": {
      "text/html": [
       "<style>\n",
       ".list-inline {list-style: none; margin:0; padding: 0}\n",
       ".list-inline>li {display: inline-block}\n",
       ".list-inline>li:not(:last-child)::after {content: \"\\00b7\"; padding: 0 .5ex}\n",
       "</style>\n",
       "<ol class=list-inline><li>'character'</li><li>'vector'</li><li>'data.frameRowLabels'</li><li>'SuperClassMethod'</li></ol>\n"
      ],
      "text/latex": [
       "\\begin{enumerate*}\n",
       "\\item 'character'\n",
       "\\item 'vector'\n",
       "\\item 'data.frameRowLabels'\n",
       "\\item 'SuperClassMethod'\n",
       "\\end{enumerate*}\n"
      ],
      "text/markdown": [
       "1. 'character'\n",
       "2. 'vector'\n",
       "3. 'data.frameRowLabels'\n",
       "4. 'SuperClassMethod'\n",
       "\n",
       "\n"
      ],
      "text/plain": [
       "[1] \"character\"           \"vector\"              \"data.frameRowLabels\"\n",
       "[4] \"SuperClassMethod\"   "
      ]
     },
     "metadata": {},
     "output_type": "display_data"
    }
   ],
   "source": [
    "is(c2)"
   ]
  },
  {
   "cell_type": "code",
   "execution_count": 24,
   "id": "51db4e68",
   "metadata": {},
   "outputs": [
    {
     "data": {
      "text/html": [
       "<style>\n",
       ".list-inline {list-style: none; margin:0; padding: 0}\n",
       ".list-inline>li {display: inline-block}\n",
       ".list-inline>li:not(:last-child)::after {content: \"\\00b7\"; padding: 0 .5ex}\n",
       "</style>\n",
       "<ol class=list-inline><li>a</li><li>b</li><li>b</li><li>c</li><li>a</li></ol>\n",
       "\n",
       "<details>\n",
       "\t<summary style=display:list-item;cursor:pointer>\n",
       "\t\t<strong>Levels</strong>:\n",
       "\t</summary>\n",
       "\t<style>\n",
       "\t.list-inline {list-style: none; margin:0; padding: 0}\n",
       "\t.list-inline>li {display: inline-block}\n",
       "\t.list-inline>li:not(:last-child)::after {content: \"\\00b7\"; padding: 0 .5ex}\n",
       "\t</style>\n",
       "\t<ol class=list-inline><li>'a'</li><li>'b'</li><li>'c'</li></ol>\n",
       "</details>"
      ],
      "text/latex": [
       "\\begin{enumerate*}\n",
       "\\item a\n",
       "\\item b\n",
       "\\item b\n",
       "\\item c\n",
       "\\item a\n",
       "\\end{enumerate*}\n",
       "\n",
       "\\emph{Levels}: \\begin{enumerate*}\n",
       "\\item 'a'\n",
       "\\item 'b'\n",
       "\\item 'c'\n",
       "\\end{enumerate*}\n"
      ],
      "text/markdown": [
       "1. a\n",
       "2. b\n",
       "3. b\n",
       "4. c\n",
       "5. a\n",
       "\n",
       "\n",
       "\n",
       "**Levels**: 1. 'a'\n",
       "2. 'b'\n",
       "3. 'c'\n",
       "\n",
       "\n"
      ],
      "text/plain": [
       "[1] a b b c a\n",
       "Levels: a b c"
      ]
     },
     "metadata": {},
     "output_type": "display_data"
    }
   ],
   "source": [
    "d1 <- as.factor(c1)\n",
    "d1"
   ]
  },
  {
   "cell_type": "code",
   "execution_count": 25,
   "id": "1b9211a6",
   "metadata": {},
   "outputs": [
    {
     "data": {
      "text/html": [
       "<style>\n",
       ".list-inline {list-style: none; margin:0; padding: 0}\n",
       ".list-inline>li {display: inline-block}\n",
       ".list-inline>li:not(:last-child)::after {content: \"\\00b7\"; padding: 0 .5ex}\n",
       "</style>\n",
       "<ol class=list-inline><li>'factor'</li><li>'integer'</li><li>'oldClass'</li><li>'double'</li><li>'numeric'</li><li>'vector'</li><li>'data.frameRowLabels'</li></ol>\n"
      ],
      "text/latex": [
       "\\begin{enumerate*}\n",
       "\\item 'factor'\n",
       "\\item 'integer'\n",
       "\\item 'oldClass'\n",
       "\\item 'double'\n",
       "\\item 'numeric'\n",
       "\\item 'vector'\n",
       "\\item 'data.frameRowLabels'\n",
       "\\end{enumerate*}\n"
      ],
      "text/markdown": [
       "1. 'factor'\n",
       "2. 'integer'\n",
       "3. 'oldClass'\n",
       "4. 'double'\n",
       "5. 'numeric'\n",
       "6. 'vector'\n",
       "7. 'data.frameRowLabels'\n",
       "\n",
       "\n"
      ],
      "text/plain": [
       "[1] \"factor\"              \"integer\"             \"oldClass\"           \n",
       "[4] \"double\"              \"numeric\"             \"vector\"             \n",
       "[7] \"data.frameRowLabels\""
      ]
     },
     "metadata": {},
     "output_type": "display_data"
    }
   ],
   "source": [
    "is(d1)"
   ]
  },
  {
   "cell_type": "code",
   "execution_count": 26,
   "id": "bdd46390",
   "metadata": {},
   "outputs": [
    {
     "data": {
      "text/html": [
       "<style>\n",
       ".list-inline {list-style: none; margin:0; padding: 0}\n",
       ".list-inline>li {display: inline-block}\n",
       ".list-inline>li:not(:last-child)::after {content: \"\\00b7\"; padding: 0 .5ex}\n",
       "</style>\n",
       "<ol class=list-inline><li>a</li><li>b</li><li>b</li><li>c</li><li>a</li></ol>\n",
       "\n",
       "<details>\n",
       "\t<summary style=display:list-item;cursor:pointer>\n",
       "\t\t<strong>Levels</strong>:\n",
       "\t</summary>\n",
       "\t<style>\n",
       "\t.list-inline {list-style: none; margin:0; padding: 0}\n",
       "\t.list-inline>li {display: inline-block}\n",
       "\t.list-inline>li:not(:last-child)::after {content: \"\\00b7\"; padding: 0 .5ex}\n",
       "\t</style>\n",
       "\t<ol class=list-inline><li>'a'</li><li>'b'</li><li>'c'</li><li>'d'</li></ol>\n",
       "</details>"
      ],
      "text/latex": [
       "\\begin{enumerate*}\n",
       "\\item a\n",
       "\\item b\n",
       "\\item b\n",
       "\\item c\n",
       "\\item a\n",
       "\\end{enumerate*}\n",
       "\n",
       "\\emph{Levels}: \\begin{enumerate*}\n",
       "\\item 'a'\n",
       "\\item 'b'\n",
       "\\item 'c'\n",
       "\\item 'd'\n",
       "\\end{enumerate*}\n"
      ],
      "text/markdown": [
       "1. a\n",
       "2. b\n",
       "3. b\n",
       "4. c\n",
       "5. a\n",
       "\n",
       "\n",
       "\n",
       "**Levels**: 1. 'a'\n",
       "2. 'b'\n",
       "3. 'c'\n",
       "4. 'd'\n",
       "\n",
       "\n"
      ],
      "text/plain": [
       "[1] a b b c a\n",
       "Levels: a b c d"
      ]
     },
     "metadata": {},
     "output_type": "display_data"
    }
   ],
   "source": [
    "d2 <- factor(d1, levels = c('a','b','c','d'))\n",
    "d2"
   ]
  },
  {
   "cell_type": "code",
   "execution_count": 27,
   "id": "9fa5b94b",
   "metadata": {},
   "outputs": [],
   "source": [
    "a1 <- c(1,2,3,4,5)\n",
    "b1 <- c('a','b','c','d','e')\n",
    "c1 <- c(1.1, 2.2, 3.3, 4.4, 5.5)"
   ]
  },
  {
   "cell_type": "code",
   "execution_count": 29,
   "id": "5d140fc2",
   "metadata": {},
   "outputs": [
    {
     "data": {
      "text/html": [
       "<table class=\"dataframe\">\n",
       "<caption>A data.frame: 5 × 3</caption>\n",
       "<thead>\n",
       "\t<tr><th scope=col>a1</th><th scope=col>b1</th><th scope=col>c1</th></tr>\n",
       "\t<tr><th scope=col>&lt;dbl&gt;</th><th scope=col>&lt;chr&gt;</th><th scope=col>&lt;dbl&gt;</th></tr>\n",
       "</thead>\n",
       "<tbody>\n",
       "\t<tr><td>1</td><td>a</td><td>1.1</td></tr>\n",
       "\t<tr><td>2</td><td>b</td><td>2.2</td></tr>\n",
       "\t<tr><td>3</td><td>c</td><td>3.3</td></tr>\n",
       "\t<tr><td>4</td><td>d</td><td>4.4</td></tr>\n",
       "\t<tr><td>5</td><td>e</td><td>5.5</td></tr>\n",
       "</tbody>\n",
       "</table>\n"
      ],
      "text/latex": [
       "A data.frame: 5 × 3\n",
       "\\begin{tabular}{lll}\n",
       " a1 & b1 & c1\\\\\n",
       " <dbl> & <chr> & <dbl>\\\\\n",
       "\\hline\n",
       "\t 1 & a & 1.1\\\\\n",
       "\t 2 & b & 2.2\\\\\n",
       "\t 3 & c & 3.3\\\\\n",
       "\t 4 & d & 4.4\\\\\n",
       "\t 5 & e & 5.5\\\\\n",
       "\\end{tabular}\n"
      ],
      "text/markdown": [
       "\n",
       "A data.frame: 5 × 3\n",
       "\n",
       "| a1 &lt;dbl&gt; | b1 &lt;chr&gt; | c1 &lt;dbl&gt; |\n",
       "|---|---|---|\n",
       "| 1 | a | 1.1 |\n",
       "| 2 | b | 2.2 |\n",
       "| 3 | c | 3.3 |\n",
       "| 4 | d | 4.4 |\n",
       "| 5 | e | 5.5 |\n",
       "\n"
      ],
      "text/plain": [
       "  a1 b1 c1 \n",
       "1 1  a  1.1\n",
       "2 2  b  2.2\n",
       "3 3  c  3.3\n",
       "4 4  d  4.4\n",
       "5 5  e  5.5"
      ]
     },
     "metadata": {},
     "output_type": "display_data"
    }
   ],
   "source": [
    "df1 <- data.frame(a1, b1, c1)\n",
    "df1"
   ]
  },
  {
   "cell_type": "code",
   "execution_count": 30,
   "id": "d6042070",
   "metadata": {},
   "outputs": [
    {
     "data": {
      "text/html": [
       "<table class=\"dataframe\">\n",
       "<caption>A data.frame: 5 × 3</caption>\n",
       "<thead>\n",
       "\t<tr><th scope=col>count</th><th scope=col>name</th><th scope=col>meanCount</th></tr>\n",
       "\t<tr><th scope=col>&lt;dbl&gt;</th><th scope=col>&lt;chr&gt;</th><th scope=col>&lt;dbl&gt;</th></tr>\n",
       "</thead>\n",
       "<tbody>\n",
       "\t<tr><td>1</td><td>a</td><td>1.1</td></tr>\n",
       "\t<tr><td>2</td><td>b</td><td>2.2</td></tr>\n",
       "\t<tr><td>3</td><td>c</td><td>3.3</td></tr>\n",
       "\t<tr><td>4</td><td>d</td><td>4.4</td></tr>\n",
       "\t<tr><td>5</td><td>e</td><td>5.5</td></tr>\n",
       "</tbody>\n",
       "</table>\n"
      ],
      "text/latex": [
       "A data.frame: 5 × 3\n",
       "\\begin{tabular}{lll}\n",
       " count & name & meanCount\\\\\n",
       " <dbl> & <chr> & <dbl>\\\\\n",
       "\\hline\n",
       "\t 1 & a & 1.1\\\\\n",
       "\t 2 & b & 2.2\\\\\n",
       "\t 3 & c & 3.3\\\\\n",
       "\t 4 & d & 4.4\\\\\n",
       "\t 5 & e & 5.5\\\\\n",
       "\\end{tabular}\n"
      ],
      "text/markdown": [
       "\n",
       "A data.frame: 5 × 3\n",
       "\n",
       "| count &lt;dbl&gt; | name &lt;chr&gt; | meanCount &lt;dbl&gt; |\n",
       "|---|---|---|\n",
       "| 1 | a | 1.1 |\n",
       "| 2 | b | 2.2 |\n",
       "| 3 | c | 3.3 |\n",
       "| 4 | d | 4.4 |\n",
       "| 5 | e | 5.5 |\n",
       "\n"
      ],
      "text/plain": [
       "  count name meanCount\n",
       "1 1     a    1.1      \n",
       "2 2     b    2.2      \n",
       "3 3     c    3.3      \n",
       "4 4     d    4.4      \n",
       "5 5     e    5.5      "
      ]
     },
     "metadata": {},
     "output_type": "display_data"
    }
   ],
   "source": [
    "df2 <- data.frame(count=a1, name=b1, meanCount=c1)\n",
    "df2"
   ]
  },
  {
   "cell_type": "code",
   "execution_count": 31,
   "id": "90179d58",
   "metadata": {},
   "outputs": [],
   "source": [
    "# csv 파일 불러 오기\n",
    "df_csv <- read.csv('./rggagi/example_studentlist.csv')"
   ]
  },
  {
   "cell_type": "code",
   "execution_count": 32,
   "id": "d480ad88",
   "metadata": {
    "scrolled": false
   },
   "outputs": [
    {
     "data": {
      "text/html": [
       "<table class=\"dataframe\">\n",
       "<caption>A data.frame: 17 × 8</caption>\n",
       "<thead>\n",
       "\t<tr><th scope=col>name</th><th scope=col>sex</th><th scope=col>age</th><th scope=col>grade</th><th scope=col>absence</th><th scope=col>bloodtype</th><th scope=col>height</th><th scope=col>weight</th></tr>\n",
       "\t<tr><th scope=col>&lt;chr&gt;</th><th scope=col>&lt;chr&gt;</th><th scope=col>&lt;int&gt;</th><th scope=col>&lt;int&gt;</th><th scope=col>&lt;chr&gt;</th><th scope=col>&lt;chr&gt;</th><th scope=col>&lt;dbl&gt;</th><th scope=col>&lt;dbl&gt;</th></tr>\n",
       "</thead>\n",
       "<tbody>\n",
       "\t<tr><td>김길동</td><td>남자</td><td>23</td><td>3</td><td>유</td><td>O </td><td>165.3</td><td>68.2</td></tr>\n",
       "\t<tr><td>이미린</td><td>여자</td><td>22</td><td>2</td><td>무</td><td>AB</td><td>170.1</td><td>53.0</td></tr>\n",
       "\t<tr><td>홍길동</td><td>남자</td><td>24</td><td>4</td><td>무</td><td>B </td><td>175.0</td><td>80.1</td></tr>\n",
       "\t<tr><td>김철수</td><td>남자</td><td>23</td><td>3</td><td>무</td><td>AB</td><td>182.1</td><td>85.7</td></tr>\n",
       "\t<tr><td>손세수</td><td>여자</td><td>20</td><td>1</td><td>유</td><td>A </td><td>168.0</td><td>49.5</td></tr>\n",
       "\t<tr><td>박미희</td><td>여자</td><td>21</td><td>2</td><td>무</td><td>O </td><td>162.0</td><td>52.0</td></tr>\n",
       "\t<tr><td>강수친</td><td>여자</td><td>22</td><td>1</td><td>무</td><td>O </td><td>155.2</td><td>45.3</td></tr>\n",
       "\t<tr><td>이희수</td><td>여자</td><td>23</td><td>1</td><td>무</td><td>A </td><td>176.9</td><td>55.0</td></tr>\n",
       "\t<tr><td>이철린</td><td>남자</td><td>23</td><td>3</td><td>무</td><td>B </td><td>178.5</td><td>64.2</td></tr>\n",
       "\t<tr><td>방희철</td><td>남자</td><td>22</td><td>2</td><td>무</td><td>B </td><td>176.1</td><td>61.3</td></tr>\n",
       "\t<tr><td>박수호</td><td>남자</td><td>24</td><td>4</td><td>유</td><td>O </td><td>167.1</td><td>62.0</td></tr>\n",
       "\t<tr><td>임동민</td><td>남자</td><td>22</td><td>2</td><td>무</td><td>AB</td><td>180.0</td><td>75.8</td></tr>\n",
       "\t<tr><td>김민수</td><td>남자</td><td>21</td><td>1</td><td>무</td><td>A </td><td>162.2</td><td>55.3</td></tr>\n",
       "\t<tr><td>이희진</td><td>여자</td><td>23</td><td>3</td><td>무</td><td>O </td><td>176.1</td><td>53.1</td></tr>\n",
       "\t<tr><td>김미진</td><td>여자</td><td>22</td><td>2</td><td>무</td><td>B </td><td>158.2</td><td>45.2</td></tr>\n",
       "\t<tr><td>김동수</td><td>남자</td><td>24</td><td>4</td><td>유</td><td>B </td><td>168.6</td><td>70.2</td></tr>\n",
       "\t<tr><td>여수근</td><td>남자</td><td>21</td><td>1</td><td>무</td><td>A </td><td>169.2</td><td>62.2</td></tr>\n",
       "</tbody>\n",
       "</table>\n"
      ],
      "text/latex": [
       "A data.frame: 17 × 8\n",
       "\\begin{tabular}{llllllll}\n",
       " name & sex & age & grade & absence & bloodtype & height & weight\\\\\n",
       " <chr> & <chr> & <int> & <int> & <chr> & <chr> & <dbl> & <dbl>\\\\\n",
       "\\hline\n",
       "\t 김길동 & 남자 & 23 & 3 & 유 & O  & 165.3 & 68.2\\\\\n",
       "\t 이미린 & 여자 & 22 & 2 & 무 & AB & 170.1 & 53.0\\\\\n",
       "\t 홍길동 & 남자 & 24 & 4 & 무 & B  & 175.0 & 80.1\\\\\n",
       "\t 김철수 & 남자 & 23 & 3 & 무 & AB & 182.1 & 85.7\\\\\n",
       "\t 손세수 & 여자 & 20 & 1 & 유 & A  & 168.0 & 49.5\\\\\n",
       "\t 박미희 & 여자 & 21 & 2 & 무 & O  & 162.0 & 52.0\\\\\n",
       "\t 강수친 & 여자 & 22 & 1 & 무 & O  & 155.2 & 45.3\\\\\n",
       "\t 이희수 & 여자 & 23 & 1 & 무 & A  & 176.9 & 55.0\\\\\n",
       "\t 이철린 & 남자 & 23 & 3 & 무 & B  & 178.5 & 64.2\\\\\n",
       "\t 방희철 & 남자 & 22 & 2 & 무 & B  & 176.1 & 61.3\\\\\n",
       "\t 박수호 & 남자 & 24 & 4 & 유 & O  & 167.1 & 62.0\\\\\n",
       "\t 임동민 & 남자 & 22 & 2 & 무 & AB & 180.0 & 75.8\\\\\n",
       "\t 김민수 & 남자 & 21 & 1 & 무 & A  & 162.2 & 55.3\\\\\n",
       "\t 이희진 & 여자 & 23 & 3 & 무 & O  & 176.1 & 53.1\\\\\n",
       "\t 김미진 & 여자 & 22 & 2 & 무 & B  & 158.2 & 45.2\\\\\n",
       "\t 김동수 & 남자 & 24 & 4 & 유 & B  & 168.6 & 70.2\\\\\n",
       "\t 여수근 & 남자 & 21 & 1 & 무 & A  & 169.2 & 62.2\\\\\n",
       "\\end{tabular}\n"
      ],
      "text/markdown": [
       "\n",
       "A data.frame: 17 × 8\n",
       "\n",
       "| name &lt;chr&gt; | sex &lt;chr&gt; | age &lt;int&gt; | grade &lt;int&gt; | absence &lt;chr&gt; | bloodtype &lt;chr&gt; | height &lt;dbl&gt; | weight &lt;dbl&gt; |\n",
       "|---|---|---|---|---|---|---|---|\n",
       "| 김길동 | 남자 | 23 | 3 | 유 | O  | 165.3 | 68.2 |\n",
       "| 이미린 | 여자 | 22 | 2 | 무 | AB | 170.1 | 53.0 |\n",
       "| 홍길동 | 남자 | 24 | 4 | 무 | B  | 175.0 | 80.1 |\n",
       "| 김철수 | 남자 | 23 | 3 | 무 | AB | 182.1 | 85.7 |\n",
       "| 손세수 | 여자 | 20 | 1 | 유 | A  | 168.0 | 49.5 |\n",
       "| 박미희 | 여자 | 21 | 2 | 무 | O  | 162.0 | 52.0 |\n",
       "| 강수친 | 여자 | 22 | 1 | 무 | O  | 155.2 | 45.3 |\n",
       "| 이희수 | 여자 | 23 | 1 | 무 | A  | 176.9 | 55.0 |\n",
       "| 이철린 | 남자 | 23 | 3 | 무 | B  | 178.5 | 64.2 |\n",
       "| 방희철 | 남자 | 22 | 2 | 무 | B  | 176.1 | 61.3 |\n",
       "| 박수호 | 남자 | 24 | 4 | 유 | O  | 167.1 | 62.0 |\n",
       "| 임동민 | 남자 | 22 | 2 | 무 | AB | 180.0 | 75.8 |\n",
       "| 김민수 | 남자 | 21 | 1 | 무 | A  | 162.2 | 55.3 |\n",
       "| 이희진 | 여자 | 23 | 3 | 무 | O  | 176.1 | 53.1 |\n",
       "| 김미진 | 여자 | 22 | 2 | 무 | B  | 158.2 | 45.2 |\n",
       "| 김동수 | 남자 | 24 | 4 | 유 | B  | 168.6 | 70.2 |\n",
       "| 여수근 | 남자 | 21 | 1 | 무 | A  | 169.2 | 62.2 |\n",
       "\n"
      ],
      "text/plain": [
       "   name   sex  age grade absence bloodtype height weight\n",
       "1  김길동 남자 23  3     유      O         165.3  68.2  \n",
       "2  이미린 여자 22  2     무      AB        170.1  53.0  \n",
       "3  홍길동 남자 24  4     무      B         175.0  80.1  \n",
       "4  김철수 남자 23  3     무      AB        182.1  85.7  \n",
       "5  손세수 여자 20  1     유      A         168.0  49.5  \n",
       "6  박미희 여자 21  2     무      O         162.0  52.0  \n",
       "7  강수친 여자 22  1     무      O         155.2  45.3  \n",
       "8  이희수 여자 23  1     무      A         176.9  55.0  \n",
       "9  이철린 남자 23  3     무      B         178.5  64.2  \n",
       "10 방희철 남자 22  2     무      B         176.1  61.3  \n",
       "11 박수호 남자 24  4     유      O         167.1  62.0  \n",
       "12 임동민 남자 22  2     무      AB        180.0  75.8  \n",
       "13 김민수 남자 21  1     무      A         162.2  55.3  \n",
       "14 이희진 여자 23  3     무      O         176.1  53.1  \n",
       "15 김미진 여자 22  2     무      B         158.2  45.2  \n",
       "16 김동수 남자 24  4     유      B         168.6  70.2  \n",
       "17 여수근 남자 21  1     무      A         169.2  62.2  "
      ]
     },
     "metadata": {},
     "output_type": "display_data"
    }
   ],
   "source": [
    "df_csv"
   ]
  },
  {
   "cell_type": "code",
   "execution_count": 33,
   "id": "bbf1c9d9",
   "metadata": {},
   "outputs": [
    {
     "data": {
      "text/html": [
       "TRUE"
      ],
      "text/latex": [
       "TRUE"
      ],
      "text/markdown": [
       "TRUE"
      ],
      "text/plain": [
       "[1] TRUE"
      ]
     },
     "metadata": {},
     "output_type": "display_data"
    }
   ],
   "source": [
    "# 벡터 확인\n",
    "is.vector(df_csv$height)"
   ]
  },
  {
   "cell_type": "code",
   "execution_count": 35,
   "id": "625c3136",
   "metadata": {
    "scrolled": true
   },
   "outputs": [
    {
     "name": "stdout",
     "output_type": "stream",
     "text": [
      "'data.frame':\t17 obs. of  8 variables:\n",
      " $ name     : chr  \"김길동\" \"이미린\" \"홍길동\" \"김철수\" ...\n",
      " $ sex      : chr  \"남자\" \"여자\" \"남자\" \"남자\" ...\n",
      " $ age      : int  23 22 24 23 20 21 22 23 23 22 ...\n",
      " $ grade    : int  3 2 4 3 1 2 1 1 3 2 ...\n",
      " $ absence  : chr  \"유\" \"무\" \"무\" \"무\" ...\n",
      " $ bloodtype: chr  \"O\" \"AB\" \"B\" \"AB\" ...\n",
      " $ height   : num  165 170 175 182 168 ...\n",
      " $ weight   : num  68.2 53 80.1 85.7 49.5 52 45.3 55 64.2 61.3 ...\n"
     ]
    }
   ],
   "source": [
    "str(df_csv)"
   ]
  },
  {
   "cell_type": "code",
   "execution_count": 36,
   "id": "3d380c45",
   "metadata": {},
   "outputs": [
    {
     "data": {
      "text/html": [
       "<style>\n",
       ".list-inline {list-style: none; margin:0; padding: 0}\n",
       ".list-inline>li {display: inline-block}\n",
       ".list-inline>li:not(:last-child)::after {content: \"\\00b7\"; padding: 0 .5ex}\n",
       "</style>\n",
       "<ol class=list-inline><li>165.3</li><li>170.1</li><li>175</li><li>182.1</li><li>168</li><li>162</li><li>155.2</li><li>176.9</li><li>178.5</li><li>176.1</li><li>167.1</li><li>180</li><li>162.2</li><li>176.1</li><li>158.2</li><li>168.6</li><li>169.2</li></ol>\n"
      ],
      "text/latex": [
       "\\begin{enumerate*}\n",
       "\\item 165.3\n",
       "\\item 170.1\n",
       "\\item 175\n",
       "\\item 182.1\n",
       "\\item 168\n",
       "\\item 162\n",
       "\\item 155.2\n",
       "\\item 176.9\n",
       "\\item 178.5\n",
       "\\item 176.1\n",
       "\\item 167.1\n",
       "\\item 180\n",
       "\\item 162.2\n",
       "\\item 176.1\n",
       "\\item 158.2\n",
       "\\item 168.6\n",
       "\\item 169.2\n",
       "\\end{enumerate*}\n"
      ],
      "text/markdown": [
       "1. 165.3\n",
       "2. 170.1\n",
       "3. 175\n",
       "4. 182.1\n",
       "5. 168\n",
       "6. 162\n",
       "7. 155.2\n",
       "8. 176.9\n",
       "9. 178.5\n",
       "10. 176.1\n",
       "11. 167.1\n",
       "12. 180\n",
       "13. 162.2\n",
       "14. 176.1\n",
       "15. 158.2\n",
       "16. 168.6\n",
       "17. 169.2\n",
       "\n",
       "\n"
      ],
      "text/plain": [
       " [1] 165.3 170.1 175.0 182.1 168.0 162.0 155.2 176.9 178.5 176.1 167.1 180.0\n",
       "[13] 162.2 176.1 158.2 168.6 169.2"
      ]
     },
     "metadata": {},
     "output_type": "display_data"
    }
   ],
   "source": [
    "df_csv$height"
   ]
  },
  {
   "cell_type": "code",
   "execution_count": 37,
   "id": "faf1e9a6",
   "metadata": {
    "scrolled": true
   },
   "outputs": [
    {
     "data": {
      "text/html": [
       "<style>\n",
       ".list-inline {list-style: none; margin:0; padding: 0}\n",
       ".list-inline>li {display: inline-block}\n",
       ".list-inline>li:not(:last-child)::after {content: \"\\00b7\"; padding: 0 .5ex}\n",
       "</style>\n",
       "<ol class=list-inline><li>165.3</li><li>170.1</li><li>175</li><li>182.1</li><li>168</li><li>162</li><li>155.2</li><li>176.9</li><li>178.5</li><li>176.1</li><li>167.1</li><li>180</li><li>162.2</li><li>176.1</li><li>158.2</li><li>168.6</li><li>169.2</li></ol>\n"
      ],
      "text/latex": [
       "\\begin{enumerate*}\n",
       "\\item 165.3\n",
       "\\item 170.1\n",
       "\\item 175\n",
       "\\item 182.1\n",
       "\\item 168\n",
       "\\item 162\n",
       "\\item 155.2\n",
       "\\item 176.9\n",
       "\\item 178.5\n",
       "\\item 176.1\n",
       "\\item 167.1\n",
       "\\item 180\n",
       "\\item 162.2\n",
       "\\item 176.1\n",
       "\\item 158.2\n",
       "\\item 168.6\n",
       "\\item 169.2\n",
       "\\end{enumerate*}\n"
      ],
      "text/markdown": [
       "1. 165.3\n",
       "2. 170.1\n",
       "3. 175\n",
       "4. 182.1\n",
       "5. 168\n",
       "6. 162\n",
       "7. 155.2\n",
       "8. 176.9\n",
       "9. 178.5\n",
       "10. 176.1\n",
       "11. 167.1\n",
       "12. 180\n",
       "13. 162.2\n",
       "14. 176.1\n",
       "15. 158.2\n",
       "16. 168.6\n",
       "17. 169.2\n",
       "\n",
       "\n"
      ],
      "text/plain": [
       " [1] 165.3 170.1 175.0 182.1 168.0 162.0 155.2 176.9 178.5 176.1 167.1 180.0\n",
       "[13] 162.2 176.1 158.2 168.6 169.2"
      ]
     },
     "metadata": {},
     "output_type": "display_data"
    }
   ],
   "source": [
    "df_csv[[7]]"
   ]
  },
  {
   "cell_type": "code",
   "execution_count": 39,
   "id": "6d0c58e5",
   "metadata": {
    "scrolled": false
   },
   "outputs": [
    {
     "data": {
      "text/html": [
       "<table class=\"dataframe\">\n",
       "<caption>A data.frame: 17 × 1</caption>\n",
       "<thead>\n",
       "\t<tr><th scope=col>height</th></tr>\n",
       "\t<tr><th scope=col>&lt;dbl&gt;</th></tr>\n",
       "</thead>\n",
       "<tbody>\n",
       "\t<tr><td>165.3</td></tr>\n",
       "\t<tr><td>170.1</td></tr>\n",
       "\t<tr><td>175.0</td></tr>\n",
       "\t<tr><td>182.1</td></tr>\n",
       "\t<tr><td>168.0</td></tr>\n",
       "\t<tr><td>162.0</td></tr>\n",
       "\t<tr><td>155.2</td></tr>\n",
       "\t<tr><td>176.9</td></tr>\n",
       "\t<tr><td>178.5</td></tr>\n",
       "\t<tr><td>176.1</td></tr>\n",
       "\t<tr><td>167.1</td></tr>\n",
       "\t<tr><td>180.0</td></tr>\n",
       "\t<tr><td>162.2</td></tr>\n",
       "\t<tr><td>176.1</td></tr>\n",
       "\t<tr><td>158.2</td></tr>\n",
       "\t<tr><td>168.6</td></tr>\n",
       "\t<tr><td>169.2</td></tr>\n",
       "</tbody>\n",
       "</table>\n"
      ],
      "text/latex": [
       "A data.frame: 17 × 1\n",
       "\\begin{tabular}{l}\n",
       " height\\\\\n",
       " <dbl>\\\\\n",
       "\\hline\n",
       "\t 165.3\\\\\n",
       "\t 170.1\\\\\n",
       "\t 175.0\\\\\n",
       "\t 182.1\\\\\n",
       "\t 168.0\\\\\n",
       "\t 162.0\\\\\n",
       "\t 155.2\\\\\n",
       "\t 176.9\\\\\n",
       "\t 178.5\\\\\n",
       "\t 176.1\\\\\n",
       "\t 167.1\\\\\n",
       "\t 180.0\\\\\n",
       "\t 162.2\\\\\n",
       "\t 176.1\\\\\n",
       "\t 158.2\\\\\n",
       "\t 168.6\\\\\n",
       "\t 169.2\\\\\n",
       "\\end{tabular}\n"
      ],
      "text/markdown": [
       "\n",
       "A data.frame: 17 × 1\n",
       "\n",
       "| height &lt;dbl&gt; |\n",
       "|---|\n",
       "| 165.3 |\n",
       "| 170.1 |\n",
       "| 175.0 |\n",
       "| 182.1 |\n",
       "| 168.0 |\n",
       "| 162.0 |\n",
       "| 155.2 |\n",
       "| 176.9 |\n",
       "| 178.5 |\n",
       "| 176.1 |\n",
       "| 167.1 |\n",
       "| 180.0 |\n",
       "| 162.2 |\n",
       "| 176.1 |\n",
       "| 158.2 |\n",
       "| 168.6 |\n",
       "| 169.2 |\n",
       "\n"
      ],
      "text/plain": [
       "   height\n",
       "1  165.3 \n",
       "2  170.1 \n",
       "3  175.0 \n",
       "4  182.1 \n",
       "5  168.0 \n",
       "6  162.0 \n",
       "7  155.2 \n",
       "8  176.9 \n",
       "9  178.5 \n",
       "10 176.1 \n",
       "11 167.1 \n",
       "12 180.0 \n",
       "13 162.2 \n",
       "14 176.1 \n",
       "15 158.2 \n",
       "16 168.6 \n",
       "17 169.2 "
      ]
     },
     "metadata": {},
     "output_type": "display_data"
    }
   ],
   "source": [
    "df_csv[7]"
   ]
  },
  {
   "cell_type": "code",
   "execution_count": 40,
   "id": "bbd61159",
   "metadata": {},
   "outputs": [
    {
     "data": {
      "text/html": [
       "<style>\n",
       ".list-inline {list-style: none; margin:0; padding: 0}\n",
       ".list-inline>li {display: inline-block}\n",
       ".list-inline>li:not(:last-child)::after {content: \"\\00b7\"; padding: 0 .5ex}\n",
       "</style>\n",
       "<ol class=list-inline><li>'numeric'</li><li>'vector'</li></ol>\n"
      ],
      "text/latex": [
       "\\begin{enumerate*}\n",
       "\\item 'numeric'\n",
       "\\item 'vector'\n",
       "\\end{enumerate*}\n"
      ],
      "text/markdown": [
       "1. 'numeric'\n",
       "2. 'vector'\n",
       "\n",
       "\n"
      ],
      "text/plain": [
       "[1] \"numeric\" \"vector\" "
      ]
     },
     "metadata": {},
     "output_type": "display_data"
    },
    {
     "data": {
      "text/html": [
       "<style>\n",
       ".list-inline {list-style: none; margin:0; padding: 0}\n",
       ".list-inline>li {display: inline-block}\n",
       ".list-inline>li:not(:last-child)::after {content: \"\\00b7\"; padding: 0 .5ex}\n",
       "</style>\n",
       "<ol class=list-inline><li>'numeric'</li><li>'vector'</li></ol>\n"
      ],
      "text/latex": [
       "\\begin{enumerate*}\n",
       "\\item 'numeric'\n",
       "\\item 'vector'\n",
       "\\end{enumerate*}\n"
      ],
      "text/markdown": [
       "1. 'numeric'\n",
       "2. 'vector'\n",
       "\n",
       "\n"
      ],
      "text/plain": [
       "[1] \"numeric\" \"vector\" "
      ]
     },
     "metadata": {},
     "output_type": "display_data"
    },
    {
     "data": {
      "text/html": [
       "<style>\n",
       ".list-inline {list-style: none; margin:0; padding: 0}\n",
       ".list-inline>li {display: inline-block}\n",
       ".list-inline>li:not(:last-child)::after {content: \"\\00b7\"; padding: 0 .5ex}\n",
       "</style>\n",
       "<ol class=list-inline><li>'data.frame'</li><li>'list'</li><li>'oldClass'</li><li>'vector'</li><li>'listOrNULL'</li></ol>\n"
      ],
      "text/latex": [
       "\\begin{enumerate*}\n",
       "\\item 'data.frame'\n",
       "\\item 'list'\n",
       "\\item 'oldClass'\n",
       "\\item 'vector'\n",
       "\\item 'listOrNULL'\n",
       "\\end{enumerate*}\n"
      ],
      "text/markdown": [
       "1. 'data.frame'\n",
       "2. 'list'\n",
       "3. 'oldClass'\n",
       "4. 'vector'\n",
       "5. 'listOrNULL'\n",
       "\n",
       "\n"
      ],
      "text/plain": [
       "[1] \"data.frame\" \"list\"       \"oldClass\"   \"vector\"     \"listOrNULL\""
      ]
     },
     "metadata": {},
     "output_type": "display_data"
    }
   ],
   "source": [
    "is(df_csv$height)\n",
    "is(df_csv[[7]])\n",
    "is(df_csv[7])"
   ]
  },
  {
   "cell_type": "code",
   "execution_count": 41,
   "id": "1f757aaf",
   "metadata": {},
   "outputs": [],
   "source": [
    "df_csv <- read.csv('./rggagi/example_studentlist.csv')"
   ]
  },
  {
   "cell_type": "code",
   "execution_count": 42,
   "id": "6509a4a1",
   "metadata": {
    "scrolled": true
   },
   "outputs": [
    {
     "data": {
      "text/html": [
       "<table class=\"dataframe\">\n",
       "<caption>A data.frame: 17 × 2</caption>\n",
       "<thead>\n",
       "\t<tr><th scope=col>bloodtype</th><th scope=col>height</th></tr>\n",
       "\t<tr><th scope=col>&lt;chr&gt;</th><th scope=col>&lt;dbl&gt;</th></tr>\n",
       "</thead>\n",
       "<tbody>\n",
       "\t<tr><td>O </td><td>165.3</td></tr>\n",
       "\t<tr><td>AB</td><td>170.1</td></tr>\n",
       "\t<tr><td>B </td><td>175.0</td></tr>\n",
       "\t<tr><td>AB</td><td>182.1</td></tr>\n",
       "\t<tr><td>A </td><td>168.0</td></tr>\n",
       "\t<tr><td>O </td><td>162.0</td></tr>\n",
       "\t<tr><td>O </td><td>155.2</td></tr>\n",
       "\t<tr><td>A </td><td>176.9</td></tr>\n",
       "\t<tr><td>B </td><td>178.5</td></tr>\n",
       "\t<tr><td>B </td><td>176.1</td></tr>\n",
       "\t<tr><td>O </td><td>167.1</td></tr>\n",
       "\t<tr><td>AB</td><td>180.0</td></tr>\n",
       "\t<tr><td>A </td><td>162.2</td></tr>\n",
       "\t<tr><td>O </td><td>176.1</td></tr>\n",
       "\t<tr><td>B </td><td>158.2</td></tr>\n",
       "\t<tr><td>B </td><td>168.6</td></tr>\n",
       "\t<tr><td>A </td><td>169.2</td></tr>\n",
       "</tbody>\n",
       "</table>\n"
      ],
      "text/latex": [
       "A data.frame: 17 × 2\n",
       "\\begin{tabular}{ll}\n",
       " bloodtype & height\\\\\n",
       " <chr> & <dbl>\\\\\n",
       "\\hline\n",
       "\t O  & 165.3\\\\\n",
       "\t AB & 170.1\\\\\n",
       "\t B  & 175.0\\\\\n",
       "\t AB & 182.1\\\\\n",
       "\t A  & 168.0\\\\\n",
       "\t O  & 162.0\\\\\n",
       "\t O  & 155.2\\\\\n",
       "\t A  & 176.9\\\\\n",
       "\t B  & 178.5\\\\\n",
       "\t B  & 176.1\\\\\n",
       "\t O  & 167.1\\\\\n",
       "\t AB & 180.0\\\\\n",
       "\t A  & 162.2\\\\\n",
       "\t O  & 176.1\\\\\n",
       "\t B  & 158.2\\\\\n",
       "\t B  & 168.6\\\\\n",
       "\t A  & 169.2\\\\\n",
       "\\end{tabular}\n"
      ],
      "text/markdown": [
       "\n",
       "A data.frame: 17 × 2\n",
       "\n",
       "| bloodtype &lt;chr&gt; | height &lt;dbl&gt; |\n",
       "|---|---|\n",
       "| O  | 165.3 |\n",
       "| AB | 170.1 |\n",
       "| B  | 175.0 |\n",
       "| AB | 182.1 |\n",
       "| A  | 168.0 |\n",
       "| O  | 162.0 |\n",
       "| O  | 155.2 |\n",
       "| A  | 176.9 |\n",
       "| B  | 178.5 |\n",
       "| B  | 176.1 |\n",
       "| O  | 167.1 |\n",
       "| AB | 180.0 |\n",
       "| A  | 162.2 |\n",
       "| O  | 176.1 |\n",
       "| B  | 158.2 |\n",
       "| B  | 168.6 |\n",
       "| A  | 169.2 |\n",
       "\n"
      ],
      "text/plain": [
       "   bloodtype height\n",
       "1  O         165.3 \n",
       "2  AB        170.1 \n",
       "3  B         175.0 \n",
       "4  AB        182.1 \n",
       "5  A         168.0 \n",
       "6  O         162.0 \n",
       "7  O         155.2 \n",
       "8  A         176.9 \n",
       "9  B         178.5 \n",
       "10 B         176.1 \n",
       "11 O         167.1 \n",
       "12 AB        180.0 \n",
       "13 A         162.2 \n",
       "14 O         176.1 \n",
       "15 B         158.2 \n",
       "16 B         168.6 \n",
       "17 A         169.2 "
      ]
     },
     "metadata": {},
     "output_type": "display_data"
    }
   ],
   "source": [
    "df_csv[c(6,7)]"
   ]
  },
  {
   "cell_type": "code",
   "execution_count": 43,
   "id": "a227890d",
   "metadata": {},
   "outputs": [
    {
     "data": {
      "text/html": [
       "<style>\n",
       ".list-inline {list-style: none; margin:0; padding: 0}\n",
       ".list-inline>li {display: inline-block}\n",
       ".list-inline>li:not(:last-child)::after {content: \"\\00b7\"; padding: 0 .5ex}\n",
       "</style>\n",
       "<ol class=list-inline><li>165.3</li><li>170.1</li><li>175</li><li>182.1</li><li>168</li><li>162</li><li>155.2</li><li>176.9</li><li>178.5</li><li>176.1</li><li>167.1</li><li>180</li><li>162.2</li><li>176.1</li><li>158.2</li><li>168.6</li><li>169.2</li></ol>\n"
      ],
      "text/latex": [
       "\\begin{enumerate*}\n",
       "\\item 165.3\n",
       "\\item 170.1\n",
       "\\item 175\n",
       "\\item 182.1\n",
       "\\item 168\n",
       "\\item 162\n",
       "\\item 155.2\n",
       "\\item 176.9\n",
       "\\item 178.5\n",
       "\\item 176.1\n",
       "\\item 167.1\n",
       "\\item 180\n",
       "\\item 162.2\n",
       "\\item 176.1\n",
       "\\item 158.2\n",
       "\\item 168.6\n",
       "\\item 169.2\n",
       "\\end{enumerate*}\n"
      ],
      "text/markdown": [
       "1. 165.3\n",
       "2. 170.1\n",
       "3. 175\n",
       "4. 182.1\n",
       "5. 168\n",
       "6. 162\n",
       "7. 155.2\n",
       "8. 176.9\n",
       "9. 178.5\n",
       "10. 176.1\n",
       "11. 167.1\n",
       "12. 180\n",
       "13. 162.2\n",
       "14. 176.1\n",
       "15. 158.2\n",
       "16. 168.6\n",
       "17. 169.2\n",
       "\n",
       "\n"
      ],
      "text/plain": [
       " [1] 165.3 170.1 175.0 182.1 168.0 162.0 155.2 176.9 178.5 176.1 167.1 180.0\n",
       "[13] 162.2 176.1 158.2 168.6 169.2"
      ]
     },
     "metadata": {},
     "output_type": "display_data"
    }
   ],
   "source": [
    "# 행,열 방식으로 가저오기\n",
    "df_csv[,7]"
   ]
  },
  {
   "cell_type": "code",
   "execution_count": 44,
   "id": "51e7374d",
   "metadata": {},
   "outputs": [
    {
     "data": {
      "text/html": [
       "<table class=\"dataframe\">\n",
       "<caption>A data.frame: 1 × 8</caption>\n",
       "<thead>\n",
       "\t<tr><th></th><th scope=col>name</th><th scope=col>sex</th><th scope=col>age</th><th scope=col>grade</th><th scope=col>absence</th><th scope=col>bloodtype</th><th scope=col>height</th><th scope=col>weight</th></tr>\n",
       "\t<tr><th></th><th scope=col>&lt;chr&gt;</th><th scope=col>&lt;chr&gt;</th><th scope=col>&lt;int&gt;</th><th scope=col>&lt;int&gt;</th><th scope=col>&lt;chr&gt;</th><th scope=col>&lt;chr&gt;</th><th scope=col>&lt;dbl&gt;</th><th scope=col>&lt;dbl&gt;</th></tr>\n",
       "</thead>\n",
       "<tbody>\n",
       "\t<tr><th scope=row>2</th><td>이미린</td><td>여자</td><td>22</td><td>2</td><td>무</td><td>AB</td><td>170.1</td><td>53</td></tr>\n",
       "</tbody>\n",
       "</table>\n"
      ],
      "text/latex": [
       "A data.frame: 1 × 8\n",
       "\\begin{tabular}{r|llllllll}\n",
       "  & name & sex & age & grade & absence & bloodtype & height & weight\\\\\n",
       "  & <chr> & <chr> & <int> & <int> & <chr> & <chr> & <dbl> & <dbl>\\\\\n",
       "\\hline\n",
       "\t2 & 이미린 & 여자 & 22 & 2 & 무 & AB & 170.1 & 53\\\\\n",
       "\\end{tabular}\n"
      ],
      "text/markdown": [
       "\n",
       "A data.frame: 1 × 8\n",
       "\n",
       "| <!--/--> | name &lt;chr&gt; | sex &lt;chr&gt; | age &lt;int&gt; | grade &lt;int&gt; | absence &lt;chr&gt; | bloodtype &lt;chr&gt; | height &lt;dbl&gt; | weight &lt;dbl&gt; |\n",
       "|---|---|---|---|---|---|---|---|---|\n",
       "| 2 | 이미린 | 여자 | 22 | 2 | 무 | AB | 170.1 | 53 |\n",
       "\n"
      ],
      "text/plain": [
       "  name   sex  age grade absence bloodtype height weight\n",
       "2 이미린 여자 22  2     무      AB        170.1  53    "
      ]
     },
     "metadata": {},
     "output_type": "display_data"
    }
   ],
   "source": [
    "df_csv[2,]\n"
   ]
  },
  {
   "cell_type": "code",
   "execution_count": 45,
   "id": "3c4f4116",
   "metadata": {},
   "outputs": [
    {
     "data": {
      "text/html": [
       "'이미린'"
      ],
      "text/latex": [
       "'이미린'"
      ],
      "text/markdown": [
       "'이미린'"
      ],
      "text/plain": [
       "[1] \"이미린\""
      ]
     },
     "metadata": {},
     "output_type": "display_data"
    }
   ],
   "source": [
    "df_csv[2,1]\n"
   ]
  },
  {
   "cell_type": "code",
   "execution_count": 46,
   "id": "22a8a1c4",
   "metadata": {},
   "outputs": [
    {
     "data": {
      "text/html": [
       "'이미린'"
      ],
      "text/latex": [
       "'이미린'"
      ],
      "text/markdown": [
       "'이미린'"
      ],
      "text/plain": [
       "[1] \"이미린\""
      ]
     },
     "metadata": {},
     "output_type": "display_data"
    }
   ],
   "source": [
    "df_csv2 <- read.csv('./rggagi/example_studentlist.csv', stringsAsFactors = F)\n",
    "df_csv2[2,1]"
   ]
  },
  {
   "cell_type": "code",
   "execution_count": 48,
   "id": "1cafdc08",
   "metadata": {},
   "outputs": [
    {
     "data": {
      "text/html": [
       "<style>\n",
       ".list-inline {list-style: none; margin:0; padding: 0}\n",
       ".list-inline>li {display: inline-block}\n",
       ".list-inline>li:not(:last-child)::after {content: \"\\00b7\"; padding: 0 .5ex}\n",
       "</style>\n",
       "<ol class=list-inline><li>'.GlobalEnv'</li><li>'package:XML'</li><li>'jupyter:irkernel'</li><li>'package:stats'</li><li>'package:graphics'</li><li>'package:grDevices'</li><li>'package:utils'</li><li>'package:datasets'</li><li>'package:methods'</li><li>'Autoloads'</li><li>'package:base'</li></ol>\n"
      ],
      "text/latex": [
       "\\begin{enumerate*}\n",
       "\\item '.GlobalEnv'\n",
       "\\item 'package:XML'\n",
       "\\item 'jupyter:irkernel'\n",
       "\\item 'package:stats'\n",
       "\\item 'package:graphics'\n",
       "\\item 'package:grDevices'\n",
       "\\item 'package:utils'\n",
       "\\item 'package:datasets'\n",
       "\\item 'package:methods'\n",
       "\\item 'Autoloads'\n",
       "\\item 'package:base'\n",
       "\\end{enumerate*}\n"
      ],
      "text/markdown": [
       "1. '.GlobalEnv'\n",
       "2. 'package:XML'\n",
       "3. 'jupyter:irkernel'\n",
       "4. 'package:stats'\n",
       "5. 'package:graphics'\n",
       "6. 'package:grDevices'\n",
       "7. 'package:utils'\n",
       "8. 'package:datasets'\n",
       "9. 'package:methods'\n",
       "10. 'Autoloads'\n",
       "11. 'package:base'\n",
       "\n",
       "\n"
      ],
      "text/plain": [
       " [1] \".GlobalEnv\"        \"package:XML\"       \"jupyter:irkernel\" \n",
       " [4] \"package:stats\"     \"package:graphics\"  \"package:grDevices\"\n",
       " [7] \"package:utils\"     \"package:datasets\"  \"package:methods\"  \n",
       "[10] \"Autoloads\"         \"package:base\"     "
      ]
     },
     "metadata": {},
     "output_type": "display_data"
    }
   ],
   "source": [
    "# 검색 목록\n",
    "search()"
   ]
  },
  {
   "cell_type": "code",
   "execution_count": 49,
   "id": "e859c8cc",
   "metadata": {},
   "outputs": [],
   "source": [
    "attach(df_csv2)"
   ]
  },
  {
   "cell_type": "code",
   "execution_count": 50,
   "id": "1095fed7",
   "metadata": {},
   "outputs": [
    {
     "data": {
      "text/html": [
       "<style>\n",
       ".list-inline {list-style: none; margin:0; padding: 0}\n",
       ".list-inline>li {display: inline-block}\n",
       ".list-inline>li:not(:last-child)::after {content: \"\\00b7\"; padding: 0 .5ex}\n",
       "</style>\n",
       "<ol class=list-inline><li>'.GlobalEnv'</li><li>'df_csv2'</li><li>'package:XML'</li><li>'jupyter:irkernel'</li><li>'package:stats'</li><li>'package:graphics'</li><li>'package:grDevices'</li><li>'package:utils'</li><li>'package:datasets'</li><li>'package:methods'</li><li>'Autoloads'</li><li>'package:base'</li></ol>\n"
      ],
      "text/latex": [
       "\\begin{enumerate*}\n",
       "\\item '.GlobalEnv'\n",
       "\\item 'df\\_csv2'\n",
       "\\item 'package:XML'\n",
       "\\item 'jupyter:irkernel'\n",
       "\\item 'package:stats'\n",
       "\\item 'package:graphics'\n",
       "\\item 'package:grDevices'\n",
       "\\item 'package:utils'\n",
       "\\item 'package:datasets'\n",
       "\\item 'package:methods'\n",
       "\\item 'Autoloads'\n",
       "\\item 'package:base'\n",
       "\\end{enumerate*}\n"
      ],
      "text/markdown": [
       "1. '.GlobalEnv'\n",
       "2. 'df_csv2'\n",
       "3. 'package:XML'\n",
       "4. 'jupyter:irkernel'\n",
       "5. 'package:stats'\n",
       "6. 'package:graphics'\n",
       "7. 'package:grDevices'\n",
       "8. 'package:utils'\n",
       "9. 'package:datasets'\n",
       "10. 'package:methods'\n",
       "11. 'Autoloads'\n",
       "12. 'package:base'\n",
       "\n",
       "\n"
      ],
      "text/plain": [
       " [1] \".GlobalEnv\"        \"df_csv2\"           \"package:XML\"      \n",
       " [4] \"jupyter:irkernel\"  \"package:stats\"     \"package:graphics\" \n",
       " [7] \"package:grDevices\" \"package:utils\"     \"package:datasets\" \n",
       "[10] \"package:methods\"   \"Autoloads\"         \"package:base\"     "
      ]
     },
     "metadata": {},
     "output_type": "display_data"
    }
   ],
   "source": [
    "search()\n"
   ]
  },
  {
   "cell_type": "code",
   "execution_count": 51,
   "id": "cc3d31a3",
   "metadata": {},
   "outputs": [
    {
     "data": {
      "text/html": [
       "<style>\n",
       ".list-inline {list-style: none; margin:0; padding: 0}\n",
       ".list-inline>li {display: inline-block}\n",
       ".list-inline>li:not(:last-child)::after {content: \"\\00b7\"; padding: 0 .5ex}\n",
       "</style>\n",
       "<ol class=list-inline><li>165.3</li><li>170.1</li><li>175</li><li>182.1</li><li>168</li><li>162</li><li>155.2</li><li>176.9</li><li>178.5</li><li>176.1</li><li>167.1</li><li>180</li><li>162.2</li><li>176.1</li><li>158.2</li><li>168.6</li><li>169.2</li></ol>\n"
      ],
      "text/latex": [
       "\\begin{enumerate*}\n",
       "\\item 165.3\n",
       "\\item 170.1\n",
       "\\item 175\n",
       "\\item 182.1\n",
       "\\item 168\n",
       "\\item 162\n",
       "\\item 155.2\n",
       "\\item 176.9\n",
       "\\item 178.5\n",
       "\\item 176.1\n",
       "\\item 167.1\n",
       "\\item 180\n",
       "\\item 162.2\n",
       "\\item 176.1\n",
       "\\item 158.2\n",
       "\\item 168.6\n",
       "\\item 169.2\n",
       "\\end{enumerate*}\n"
      ],
      "text/markdown": [
       "1. 165.3\n",
       "2. 170.1\n",
       "3. 175\n",
       "4. 182.1\n",
       "5. 168\n",
       "6. 162\n",
       "7. 155.2\n",
       "8. 176.9\n",
       "9. 178.5\n",
       "10. 176.1\n",
       "11. 167.1\n",
       "12. 180\n",
       "13. 162.2\n",
       "14. 176.1\n",
       "15. 158.2\n",
       "16. 168.6\n",
       "17. 169.2\n",
       "\n",
       "\n"
      ],
      "text/plain": [
       " [1] 165.3 170.1 175.0 182.1 168.0 162.0 155.2 176.9 178.5 176.1 167.1 180.0\n",
       "[13] 162.2 176.1 158.2 168.6 169.2"
      ]
     },
     "metadata": {},
     "output_type": "display_data"
    }
   ],
   "source": [
    "height"
   ]
  },
  {
   "cell_type": "code",
   "execution_count": 52,
   "id": "f880899f",
   "metadata": {},
   "outputs": [],
   "source": [
    "detach(df_csv2)"
   ]
  },
  {
   "cell_type": "code",
   "execution_count": 53,
   "id": "c8b8d7ce",
   "metadata": {},
   "outputs": [],
   "source": [
    "# 조건으로 변수 선택 subset()\n",
    "# csv 파일 불러 오기\n",
    "df_csv <- read.csv('./rggagi/example_studentlist.csv')"
   ]
  },
  {
   "cell_type": "code",
   "execution_count": 54,
   "id": "3cdc05da",
   "metadata": {},
   "outputs": [
    {
     "data": {
      "text/html": [
       "<table class=\"dataframe\">\n",
       "<caption>A data.frame: 8 × 8</caption>\n",
       "<thead>\n",
       "\t<tr><th></th><th scope=col>name</th><th scope=col>sex</th><th scope=col>age</th><th scope=col>grade</th><th scope=col>absence</th><th scope=col>bloodtype</th><th scope=col>height</th><th scope=col>weight</th></tr>\n",
       "\t<tr><th></th><th scope=col>&lt;chr&gt;</th><th scope=col>&lt;chr&gt;</th><th scope=col>&lt;int&gt;</th><th scope=col>&lt;int&gt;</th><th scope=col>&lt;chr&gt;</th><th scope=col>&lt;chr&gt;</th><th scope=col>&lt;dbl&gt;</th><th scope=col>&lt;dbl&gt;</th></tr>\n",
       "</thead>\n",
       "<tbody>\n",
       "\t<tr><th scope=row>2</th><td>이미린</td><td>여자</td><td>22</td><td>2</td><td>무</td><td>AB</td><td>170.1</td><td>53.0</td></tr>\n",
       "\t<tr><th scope=row>3</th><td>홍길동</td><td>남자</td><td>24</td><td>4</td><td>무</td><td>B </td><td>175.0</td><td>80.1</td></tr>\n",
       "\t<tr><th scope=row>4</th><td>김철수</td><td>남자</td><td>23</td><td>3</td><td>무</td><td>AB</td><td>182.1</td><td>85.7</td></tr>\n",
       "\t<tr><th scope=row>8</th><td>이희수</td><td>여자</td><td>23</td><td>1</td><td>무</td><td>A </td><td>176.9</td><td>55.0</td></tr>\n",
       "\t<tr><th scope=row>9</th><td>이철린</td><td>남자</td><td>23</td><td>3</td><td>무</td><td>B </td><td>178.5</td><td>64.2</td></tr>\n",
       "\t<tr><th scope=row>10</th><td>방희철</td><td>남자</td><td>22</td><td>2</td><td>무</td><td>B </td><td>176.1</td><td>61.3</td></tr>\n",
       "\t<tr><th scope=row>12</th><td>임동민</td><td>남자</td><td>22</td><td>2</td><td>무</td><td>AB</td><td>180.0</td><td>75.8</td></tr>\n",
       "\t<tr><th scope=row>14</th><td>이희진</td><td>여자</td><td>23</td><td>3</td><td>무</td><td>O </td><td>176.1</td><td>53.1</td></tr>\n",
       "</tbody>\n",
       "</table>\n"
      ],
      "text/latex": [
       "A data.frame: 8 × 8\n",
       "\\begin{tabular}{r|llllllll}\n",
       "  & name & sex & age & grade & absence & bloodtype & height & weight\\\\\n",
       "  & <chr> & <chr> & <int> & <int> & <chr> & <chr> & <dbl> & <dbl>\\\\\n",
       "\\hline\n",
       "\t2 & 이미린 & 여자 & 22 & 2 & 무 & AB & 170.1 & 53.0\\\\\n",
       "\t3 & 홍길동 & 남자 & 24 & 4 & 무 & B  & 175.0 & 80.1\\\\\n",
       "\t4 & 김철수 & 남자 & 23 & 3 & 무 & AB & 182.1 & 85.7\\\\\n",
       "\t8 & 이희수 & 여자 & 23 & 1 & 무 & A  & 176.9 & 55.0\\\\\n",
       "\t9 & 이철린 & 남자 & 23 & 3 & 무 & B  & 178.5 & 64.2\\\\\n",
       "\t10 & 방희철 & 남자 & 22 & 2 & 무 & B  & 176.1 & 61.3\\\\\n",
       "\t12 & 임동민 & 남자 & 22 & 2 & 무 & AB & 180.0 & 75.8\\\\\n",
       "\t14 & 이희진 & 여자 & 23 & 3 & 무 & O  & 176.1 & 53.1\\\\\n",
       "\\end{tabular}\n"
      ],
      "text/markdown": [
       "\n",
       "A data.frame: 8 × 8\n",
       "\n",
       "| <!--/--> | name &lt;chr&gt; | sex &lt;chr&gt; | age &lt;int&gt; | grade &lt;int&gt; | absence &lt;chr&gt; | bloodtype &lt;chr&gt; | height &lt;dbl&gt; | weight &lt;dbl&gt; |\n",
       "|---|---|---|---|---|---|---|---|---|\n",
       "| 2 | 이미린 | 여자 | 22 | 2 | 무 | AB | 170.1 | 53.0 |\n",
       "| 3 | 홍길동 | 남자 | 24 | 4 | 무 | B  | 175.0 | 80.1 |\n",
       "| 4 | 김철수 | 남자 | 23 | 3 | 무 | AB | 182.1 | 85.7 |\n",
       "| 8 | 이희수 | 여자 | 23 | 1 | 무 | A  | 176.9 | 55.0 |\n",
       "| 9 | 이철린 | 남자 | 23 | 3 | 무 | B  | 178.5 | 64.2 |\n",
       "| 10 | 방희철 | 남자 | 22 | 2 | 무 | B  | 176.1 | 61.3 |\n",
       "| 12 | 임동민 | 남자 | 22 | 2 | 무 | AB | 180.0 | 75.8 |\n",
       "| 14 | 이희진 | 여자 | 23 | 3 | 무 | O  | 176.1 | 53.1 |\n",
       "\n"
      ],
      "text/plain": [
       "   name   sex  age grade absence bloodtype height weight\n",
       "2  이미린 여자 22  2     무      AB        170.1  53.0  \n",
       "3  홍길동 남자 24  4     무      B         175.0  80.1  \n",
       "4  김철수 남자 23  3     무      AB        182.1  85.7  \n",
       "8  이희수 여자 23  1     무      A         176.9  55.0  \n",
       "9  이철린 남자 23  3     무      B         178.5  64.2  \n",
       "10 방희철 남자 22  2     무      B         176.1  61.3  \n",
       "12 임동민 남자 22  2     무      AB        180.0  75.8  \n",
       "14 이희진 여자 23  3     무      O         176.1  53.1  "
      ]
     },
     "metadata": {},
     "output_type": "display_data"
    }
   ],
   "source": [
    "# 키가 170보다 큰 관측치 - subset =\n",
    "subset(df_csv, subset = (height > 170))"
   ]
  },
  {
   "cell_type": "code",
   "execution_count": 55,
   "id": "06d90cad",
   "metadata": {},
   "outputs": [
    {
     "data": {
      "text/html": [
       "<table class=\"dataframe\">\n",
       "<caption>A data.frame: 17 × 7</caption>\n",
       "<thead>\n",
       "\t<tr><th></th><th scope=col>name</th><th scope=col>sex</th><th scope=col>age</th><th scope=col>grade</th><th scope=col>absence</th><th scope=col>bloodtype</th><th scope=col>weight</th></tr>\n",
       "\t<tr><th></th><th scope=col>&lt;chr&gt;</th><th scope=col>&lt;chr&gt;</th><th scope=col>&lt;int&gt;</th><th scope=col>&lt;int&gt;</th><th scope=col>&lt;chr&gt;</th><th scope=col>&lt;chr&gt;</th><th scope=col>&lt;dbl&gt;</th></tr>\n",
       "</thead>\n",
       "<tbody>\n",
       "\t<tr><th scope=row>1</th><td>김길동</td><td>남자</td><td>23</td><td>3</td><td>유</td><td>O </td><td>68.2</td></tr>\n",
       "\t<tr><th scope=row>2</th><td>이미린</td><td>여자</td><td>22</td><td>2</td><td>무</td><td>AB</td><td>53.0</td></tr>\n",
       "\t<tr><th scope=row>3</th><td>홍길동</td><td>남자</td><td>24</td><td>4</td><td>무</td><td>B </td><td>80.1</td></tr>\n",
       "\t<tr><th scope=row>4</th><td>김철수</td><td>남자</td><td>23</td><td>3</td><td>무</td><td>AB</td><td>85.7</td></tr>\n",
       "\t<tr><th scope=row>5</th><td>손세수</td><td>여자</td><td>20</td><td>1</td><td>유</td><td>A </td><td>49.5</td></tr>\n",
       "\t<tr><th scope=row>6</th><td>박미희</td><td>여자</td><td>21</td><td>2</td><td>무</td><td>O </td><td>52.0</td></tr>\n",
       "\t<tr><th scope=row>7</th><td>강수친</td><td>여자</td><td>22</td><td>1</td><td>무</td><td>O </td><td>45.3</td></tr>\n",
       "\t<tr><th scope=row>8</th><td>이희수</td><td>여자</td><td>23</td><td>1</td><td>무</td><td>A </td><td>55.0</td></tr>\n",
       "\t<tr><th scope=row>9</th><td>이철린</td><td>남자</td><td>23</td><td>3</td><td>무</td><td>B </td><td>64.2</td></tr>\n",
       "\t<tr><th scope=row>10</th><td>방희철</td><td>남자</td><td>22</td><td>2</td><td>무</td><td>B </td><td>61.3</td></tr>\n",
       "\t<tr><th scope=row>11</th><td>박수호</td><td>남자</td><td>24</td><td>4</td><td>유</td><td>O </td><td>62.0</td></tr>\n",
       "\t<tr><th scope=row>12</th><td>임동민</td><td>남자</td><td>22</td><td>2</td><td>무</td><td>AB</td><td>75.8</td></tr>\n",
       "\t<tr><th scope=row>13</th><td>김민수</td><td>남자</td><td>21</td><td>1</td><td>무</td><td>A </td><td>55.3</td></tr>\n",
       "\t<tr><th scope=row>14</th><td>이희진</td><td>여자</td><td>23</td><td>3</td><td>무</td><td>O </td><td>53.1</td></tr>\n",
       "\t<tr><th scope=row>15</th><td>김미진</td><td>여자</td><td>22</td><td>2</td><td>무</td><td>B </td><td>45.2</td></tr>\n",
       "\t<tr><th scope=row>16</th><td>김동수</td><td>남자</td><td>24</td><td>4</td><td>유</td><td>B </td><td>70.2</td></tr>\n",
       "\t<tr><th scope=row>17</th><td>여수근</td><td>남자</td><td>21</td><td>1</td><td>무</td><td>A </td><td>62.2</td></tr>\n",
       "</tbody>\n",
       "</table>\n"
      ],
      "text/latex": [
       "A data.frame: 17 × 7\n",
       "\\begin{tabular}{r|lllllll}\n",
       "  & name & sex & age & grade & absence & bloodtype & weight\\\\\n",
       "  & <chr> & <chr> & <int> & <int> & <chr> & <chr> & <dbl>\\\\\n",
       "\\hline\n",
       "\t1 & 김길동 & 남자 & 23 & 3 & 유 & O  & 68.2\\\\\n",
       "\t2 & 이미린 & 여자 & 22 & 2 & 무 & AB & 53.0\\\\\n",
       "\t3 & 홍길동 & 남자 & 24 & 4 & 무 & B  & 80.1\\\\\n",
       "\t4 & 김철수 & 남자 & 23 & 3 & 무 & AB & 85.7\\\\\n",
       "\t5 & 손세수 & 여자 & 20 & 1 & 유 & A  & 49.5\\\\\n",
       "\t6 & 박미희 & 여자 & 21 & 2 & 무 & O  & 52.0\\\\\n",
       "\t7 & 강수친 & 여자 & 22 & 1 & 무 & O  & 45.3\\\\\n",
       "\t8 & 이희수 & 여자 & 23 & 1 & 무 & A  & 55.0\\\\\n",
       "\t9 & 이철린 & 남자 & 23 & 3 & 무 & B  & 64.2\\\\\n",
       "\t10 & 방희철 & 남자 & 22 & 2 & 무 & B  & 61.3\\\\\n",
       "\t11 & 박수호 & 남자 & 24 & 4 & 유 & O  & 62.0\\\\\n",
       "\t12 & 임동민 & 남자 & 22 & 2 & 무 & AB & 75.8\\\\\n",
       "\t13 & 김민수 & 남자 & 21 & 1 & 무 & A  & 55.3\\\\\n",
       "\t14 & 이희진 & 여자 & 23 & 3 & 무 & O  & 53.1\\\\\n",
       "\t15 & 김미진 & 여자 & 22 & 2 & 무 & B  & 45.2\\\\\n",
       "\t16 & 김동수 & 남자 & 24 & 4 & 유 & B  & 70.2\\\\\n",
       "\t17 & 여수근 & 남자 & 21 & 1 & 무 & A  & 62.2\\\\\n",
       "\\end{tabular}\n"
      ],
      "text/markdown": [
       "\n",
       "A data.frame: 17 × 7\n",
       "\n",
       "| <!--/--> | name &lt;chr&gt; | sex &lt;chr&gt; | age &lt;int&gt; | grade &lt;int&gt; | absence &lt;chr&gt; | bloodtype &lt;chr&gt; | weight &lt;dbl&gt; |\n",
       "|---|---|---|---|---|---|---|---|\n",
       "| 1 | 김길동 | 남자 | 23 | 3 | 유 | O  | 68.2 |\n",
       "| 2 | 이미린 | 여자 | 22 | 2 | 무 | AB | 53.0 |\n",
       "| 3 | 홍길동 | 남자 | 24 | 4 | 무 | B  | 80.1 |\n",
       "| 4 | 김철수 | 남자 | 23 | 3 | 무 | AB | 85.7 |\n",
       "| 5 | 손세수 | 여자 | 20 | 1 | 유 | A  | 49.5 |\n",
       "| 6 | 박미희 | 여자 | 21 | 2 | 무 | O  | 52.0 |\n",
       "| 7 | 강수친 | 여자 | 22 | 1 | 무 | O  | 45.3 |\n",
       "| 8 | 이희수 | 여자 | 23 | 1 | 무 | A  | 55.0 |\n",
       "| 9 | 이철린 | 남자 | 23 | 3 | 무 | B  | 64.2 |\n",
       "| 10 | 방희철 | 남자 | 22 | 2 | 무 | B  | 61.3 |\n",
       "| 11 | 박수호 | 남자 | 24 | 4 | 유 | O  | 62.0 |\n",
       "| 12 | 임동민 | 남자 | 22 | 2 | 무 | AB | 75.8 |\n",
       "| 13 | 김민수 | 남자 | 21 | 1 | 무 | A  | 55.3 |\n",
       "| 14 | 이희진 | 여자 | 23 | 3 | 무 | O  | 53.1 |\n",
       "| 15 | 김미진 | 여자 | 22 | 2 | 무 | B  | 45.2 |\n",
       "| 16 | 김동수 | 남자 | 24 | 4 | 유 | B  | 70.2 |\n",
       "| 17 | 여수근 | 남자 | 21 | 1 | 무 | A  | 62.2 |\n",
       "\n"
      ],
      "text/plain": [
       "   name   sex  age grade absence bloodtype weight\n",
       "1  김길동 남자 23  3     유      O         68.2  \n",
       "2  이미린 여자 22  2     무      AB        53.0  \n",
       "3  홍길동 남자 24  4     무      B         80.1  \n",
       "4  김철수 남자 23  3     무      AB        85.7  \n",
       "5  손세수 여자 20  1     유      A         49.5  \n",
       "6  박미희 여자 21  2     무      O         52.0  \n",
       "7  강수친 여자 22  1     무      O         45.3  \n",
       "8  이희수 여자 23  1     무      A         55.0  \n",
       "9  이철린 남자 23  3     무      B         64.2  \n",
       "10 방희철 남자 22  2     무      B         61.3  \n",
       "11 박수호 남자 24  4     유      O         62.0  \n",
       "12 임동민 남자 22  2     무      AB        75.8  \n",
       "13 김민수 남자 21  1     무      A         55.3  \n",
       "14 이희진 여자 23  3     무      O         53.1  \n",
       "15 김미진 여자 22  2     무      B         45.2  \n",
       "16 김동수 남자 24  4     유      B         70.2  \n",
       "17 여수근 남자 21  1     무      A         62.2  "
      ]
     },
     "metadata": {},
     "output_type": "display_data"
    }
   ],
   "source": [
    "# 특정변수 빼고 보기 - select =\n",
    "subset(df_csv, select = -height)"
   ]
  },
  {
   "cell_type": "code",
   "execution_count": 28,
   "id": "ec3d438c",
   "metadata": {},
   "outputs": [
    {
     "data": {
      "text/html": [
       "<table class=\"dataframe\">\n",
       "<caption>A data.frame: 5 × 3</caption>\n",
       "<thead>\n",
       "\t<tr><th scope=col>a1</th><th scope=col>b1</th><th scope=col>c1</th></tr>\n",
       "\t<tr><th scope=col>&lt;dbl&gt;</th><th scope=col>&lt;chr&gt;</th><th scope=col>&lt;dbl&gt;</th></tr>\n",
       "</thead>\n",
       "<tbody>\n",
       "\t<tr><td>1</td><td>a</td><td>1.1</td></tr>\n",
       "\t<tr><td>2</td><td>b</td><td>2.2</td></tr>\n",
       "\t<tr><td>3</td><td>c</td><td>3.3</td></tr>\n",
       "\t<tr><td>4</td><td>d</td><td>4.4</td></tr>\n",
       "\t<tr><td>5</td><td>e</td><td>5.5</td></tr>\n",
       "</tbody>\n",
       "</table>\n"
      ],
      "text/latex": [
       "A data.frame: 5 × 3\n",
       "\\begin{tabular}{lll}\n",
       " a1 & b1 & c1\\\\\n",
       " <dbl> & <chr> & <dbl>\\\\\n",
       "\\hline\n",
       "\t 1 & a & 1.1\\\\\n",
       "\t 2 & b & 2.2\\\\\n",
       "\t 3 & c & 3.3\\\\\n",
       "\t 4 & d & 4.4\\\\\n",
       "\t 5 & e & 5.5\\\\\n",
       "\\end{tabular}\n"
      ],
      "text/markdown": [
       "\n",
       "A data.frame: 5 × 3\n",
       "\n",
       "| a1 &lt;dbl&gt; | b1 &lt;chr&gt; | c1 &lt;dbl&gt; |\n",
       "|---|---|---|\n",
       "| 1 | a | 1.1 |\n",
       "| 2 | b | 2.2 |\n",
       "| 3 | c | 3.3 |\n",
       "| 4 | d | 4.4 |\n",
       "| 5 | e | 5.5 |\n",
       "\n"
      ],
      "text/plain": [
       "  a1 b1 c1 \n",
       "1 1  a  1.1\n",
       "2 2  b  2.2\n",
       "3 3  c  3.3\n",
       "4 4  d  4.4\n",
       "5 5  e  5.5"
      ]
     },
     "metadata": {},
     "output_type": "display_data"
    }
   ],
   "source": [
    "df1 <- data.frame(a1, b1, c1)\n",
    "df1"
   ]
  },
  {
   "cell_type": "code",
   "execution_count": 56,
   "id": "c5e27d4e",
   "metadata": {},
   "outputs": [
    {
     "data": {
      "text/html": [
       "<table class=\"dataframe\">\n",
       "<caption>A data.frame: 17 × 6</caption>\n",
       "<thead>\n",
       "\t<tr><th></th><th scope=col>name</th><th scope=col>sex</th><th scope=col>age</th><th scope=col>grade</th><th scope=col>absence</th><th scope=col>bloodtype</th></tr>\n",
       "\t<tr><th></th><th scope=col>&lt;chr&gt;</th><th scope=col>&lt;chr&gt;</th><th scope=col>&lt;int&gt;</th><th scope=col>&lt;int&gt;</th><th scope=col>&lt;chr&gt;</th><th scope=col>&lt;chr&gt;</th></tr>\n",
       "</thead>\n",
       "<tbody>\n",
       "\t<tr><th scope=row>1</th><td>김길동</td><td>남자</td><td>23</td><td>3</td><td>유</td><td>O </td></tr>\n",
       "\t<tr><th scope=row>2</th><td>이미린</td><td>여자</td><td>22</td><td>2</td><td>무</td><td>AB</td></tr>\n",
       "\t<tr><th scope=row>3</th><td>홍길동</td><td>남자</td><td>24</td><td>4</td><td>무</td><td>B </td></tr>\n",
       "\t<tr><th scope=row>4</th><td>김철수</td><td>남자</td><td>23</td><td>3</td><td>무</td><td>AB</td></tr>\n",
       "\t<tr><th scope=row>5</th><td>손세수</td><td>여자</td><td>20</td><td>1</td><td>유</td><td>A </td></tr>\n",
       "\t<tr><th scope=row>6</th><td>박미희</td><td>여자</td><td>21</td><td>2</td><td>무</td><td>O </td></tr>\n",
       "\t<tr><th scope=row>7</th><td>강수친</td><td>여자</td><td>22</td><td>1</td><td>무</td><td>O </td></tr>\n",
       "\t<tr><th scope=row>8</th><td>이희수</td><td>여자</td><td>23</td><td>1</td><td>무</td><td>A </td></tr>\n",
       "\t<tr><th scope=row>9</th><td>이철린</td><td>남자</td><td>23</td><td>3</td><td>무</td><td>B </td></tr>\n",
       "\t<tr><th scope=row>10</th><td>방희철</td><td>남자</td><td>22</td><td>2</td><td>무</td><td>B </td></tr>\n",
       "\t<tr><th scope=row>11</th><td>박수호</td><td>남자</td><td>24</td><td>4</td><td>유</td><td>O </td></tr>\n",
       "\t<tr><th scope=row>12</th><td>임동민</td><td>남자</td><td>22</td><td>2</td><td>무</td><td>AB</td></tr>\n",
       "\t<tr><th scope=row>13</th><td>김민수</td><td>남자</td><td>21</td><td>1</td><td>무</td><td>A </td></tr>\n",
       "\t<tr><th scope=row>14</th><td>이희진</td><td>여자</td><td>23</td><td>3</td><td>무</td><td>O </td></tr>\n",
       "\t<tr><th scope=row>15</th><td>김미진</td><td>여자</td><td>22</td><td>2</td><td>무</td><td>B </td></tr>\n",
       "\t<tr><th scope=row>16</th><td>김동수</td><td>남자</td><td>24</td><td>4</td><td>유</td><td>B </td></tr>\n",
       "\t<tr><th scope=row>17</th><td>여수근</td><td>남자</td><td>21</td><td>1</td><td>무</td><td>A </td></tr>\n",
       "</tbody>\n",
       "</table>\n"
      ],
      "text/latex": [
       "A data.frame: 17 × 6\n",
       "\\begin{tabular}{r|llllll}\n",
       "  & name & sex & age & grade & absence & bloodtype\\\\\n",
       "  & <chr> & <chr> & <int> & <int> & <chr> & <chr>\\\\\n",
       "\\hline\n",
       "\t1 & 김길동 & 남자 & 23 & 3 & 유 & O \\\\\n",
       "\t2 & 이미린 & 여자 & 22 & 2 & 무 & AB\\\\\n",
       "\t3 & 홍길동 & 남자 & 24 & 4 & 무 & B \\\\\n",
       "\t4 & 김철수 & 남자 & 23 & 3 & 무 & AB\\\\\n",
       "\t5 & 손세수 & 여자 & 20 & 1 & 유 & A \\\\\n",
       "\t6 & 박미희 & 여자 & 21 & 2 & 무 & O \\\\\n",
       "\t7 & 강수친 & 여자 & 22 & 1 & 무 & O \\\\\n",
       "\t8 & 이희수 & 여자 & 23 & 1 & 무 & A \\\\\n",
       "\t9 & 이철린 & 남자 & 23 & 3 & 무 & B \\\\\n",
       "\t10 & 방희철 & 남자 & 22 & 2 & 무 & B \\\\\n",
       "\t11 & 박수호 & 남자 & 24 & 4 & 유 & O \\\\\n",
       "\t12 & 임동민 & 남자 & 22 & 2 & 무 & AB\\\\\n",
       "\t13 & 김민수 & 남자 & 21 & 1 & 무 & A \\\\\n",
       "\t14 & 이희진 & 여자 & 23 & 3 & 무 & O \\\\\n",
       "\t15 & 김미진 & 여자 & 22 & 2 & 무 & B \\\\\n",
       "\t16 & 김동수 & 남자 & 24 & 4 & 유 & B \\\\\n",
       "\t17 & 여수근 & 남자 & 21 & 1 & 무 & A \\\\\n",
       "\\end{tabular}\n"
      ],
      "text/markdown": [
       "\n",
       "A data.frame: 17 × 6\n",
       "\n",
       "| <!--/--> | name &lt;chr&gt; | sex &lt;chr&gt; | age &lt;int&gt; | grade &lt;int&gt; | absence &lt;chr&gt; | bloodtype &lt;chr&gt; |\n",
       "|---|---|---|---|---|---|---|\n",
       "| 1 | 김길동 | 남자 | 23 | 3 | 유 | O  |\n",
       "| 2 | 이미린 | 여자 | 22 | 2 | 무 | AB |\n",
       "| 3 | 홍길동 | 남자 | 24 | 4 | 무 | B  |\n",
       "| 4 | 김철수 | 남자 | 23 | 3 | 무 | AB |\n",
       "| 5 | 손세수 | 여자 | 20 | 1 | 유 | A  |\n",
       "| 6 | 박미희 | 여자 | 21 | 2 | 무 | O  |\n",
       "| 7 | 강수친 | 여자 | 22 | 1 | 무 | O  |\n",
       "| 8 | 이희수 | 여자 | 23 | 1 | 무 | A  |\n",
       "| 9 | 이철린 | 남자 | 23 | 3 | 무 | B  |\n",
       "| 10 | 방희철 | 남자 | 22 | 2 | 무 | B  |\n",
       "| 11 | 박수호 | 남자 | 24 | 4 | 유 | O  |\n",
       "| 12 | 임동민 | 남자 | 22 | 2 | 무 | AB |\n",
       "| 13 | 김민수 | 남자 | 21 | 1 | 무 | A  |\n",
       "| 14 | 이희진 | 여자 | 23 | 3 | 무 | O  |\n",
       "| 15 | 김미진 | 여자 | 22 | 2 | 무 | B  |\n",
       "| 16 | 김동수 | 남자 | 24 | 4 | 유 | B  |\n",
       "| 17 | 여수근 | 남자 | 21 | 1 | 무 | A  |\n",
       "\n"
      ],
      "text/plain": [
       "   name   sex  age grade absence bloodtype\n",
       "1  김길동 남자 23  3     유      O        \n",
       "2  이미린 여자 22  2     무      AB       \n",
       "3  홍길동 남자 24  4     무      B        \n",
       "4  김철수 남자 23  3     무      AB       \n",
       "5  손세수 여자 20  1     유      A        \n",
       "6  박미희 여자 21  2     무      O        \n",
       "7  강수친 여자 22  1     무      O        \n",
       "8  이희수 여자 23  1     무      A        \n",
       "9  이철린 남자 23  3     무      B        \n",
       "10 방희철 남자 22  2     무      B        \n",
       "11 박수호 남자 24  4     유      O        \n",
       "12 임동민 남자 22  2     무      AB       \n",
       "13 김민수 남자 21  1     무      A        \n",
       "14 이희진 여자 23  3     무      O        \n",
       "15 김미진 여자 22  2     무      B        \n",
       "16 김동수 남자 24  4     유      B        \n",
       "17 여수근 남자 21  1     무      A        "
      ]
     },
     "metadata": {},
     "output_type": "display_data"
    }
   ],
   "source": [
    "# 특정변수 여러개 빼고 보기 - select =\n",
    "subset(df_csv, select = c(-height,-weight))"
   ]
  },
  {
   "cell_type": "code",
   "execution_count": 57,
   "id": "a665e59d",
   "metadata": {},
   "outputs": [],
   "source": [
    "# 변수명 바꾸기 - colname()\n",
    "# csv 파일 불러 오기\n",
    "df_csv <- read.csv('./rggagi/example_studentlist.csv')"
   ]
  },
  {
   "cell_type": "code",
   "execution_count": 58,
   "id": "de7aba41",
   "metadata": {},
   "outputs": [
    {
     "data": {
      "text/html": [
       "<style>\n",
       ".list-inline {list-style: none; margin:0; padding: 0}\n",
       ".list-inline>li {display: inline-block}\n",
       ".list-inline>li:not(:last-child)::after {content: \"\\00b7\"; padding: 0 .5ex}\n",
       "</style>\n",
       "<ol class=list-inline><li>'name'</li><li>'sex'</li><li>'age'</li><li>'grade'</li><li>'absence'</li><li>'bloodtype'</li><li>'height'</li><li>'weight'</li></ol>\n"
      ],
      "text/latex": [
       "\\begin{enumerate*}\n",
       "\\item 'name'\n",
       "\\item 'sex'\n",
       "\\item 'age'\n",
       "\\item 'grade'\n",
       "\\item 'absence'\n",
       "\\item 'bloodtype'\n",
       "\\item 'height'\n",
       "\\item 'weight'\n",
       "\\end{enumerate*}\n"
      ],
      "text/markdown": [
       "1. 'name'\n",
       "2. 'sex'\n",
       "3. 'age'\n",
       "4. 'grade'\n",
       "5. 'absence'\n",
       "6. 'bloodtype'\n",
       "7. 'height'\n",
       "8. 'weight'\n",
       "\n",
       "\n"
      ],
      "text/plain": [
       "[1] \"name\"      \"sex\"       \"age\"       \"grade\"     \"absence\"   \"bloodtype\"\n",
       "[7] \"height\"    \"weight\"   "
      ]
     },
     "metadata": {},
     "output_type": "display_data"
    }
   ],
   "source": [
    "# 이름확인하기\n",
    "colnames(df_csv)"
   ]
  },
  {
   "cell_type": "code",
   "execution_count": 59,
   "id": "6fe221b3",
   "metadata": {},
   "outputs": [
    {
     "data": {
      "text/html": [
       "<table class=\"dataframe\">\n",
       "<caption>A data.frame: 17 × 8</caption>\n",
       "<thead>\n",
       "\t<tr><th scope=col>name</th><th scope=col>sex</th><th scope=col>age</th><th scope=col>grade</th><th scope=col>absence</th><th scope=col>blood</th><th scope=col>height</th><th scope=col>weight</th></tr>\n",
       "\t<tr><th scope=col>&lt;chr&gt;</th><th scope=col>&lt;chr&gt;</th><th scope=col>&lt;int&gt;</th><th scope=col>&lt;int&gt;</th><th scope=col>&lt;chr&gt;</th><th scope=col>&lt;chr&gt;</th><th scope=col>&lt;dbl&gt;</th><th scope=col>&lt;dbl&gt;</th></tr>\n",
       "</thead>\n",
       "<tbody>\n",
       "\t<tr><td>김길동</td><td>남자</td><td>23</td><td>3</td><td>유</td><td>O </td><td>165.3</td><td>68.2</td></tr>\n",
       "\t<tr><td>이미린</td><td>여자</td><td>22</td><td>2</td><td>무</td><td>AB</td><td>170.1</td><td>53.0</td></tr>\n",
       "\t<tr><td>홍길동</td><td>남자</td><td>24</td><td>4</td><td>무</td><td>B </td><td>175.0</td><td>80.1</td></tr>\n",
       "\t<tr><td>김철수</td><td>남자</td><td>23</td><td>3</td><td>무</td><td>AB</td><td>182.1</td><td>85.7</td></tr>\n",
       "\t<tr><td>손세수</td><td>여자</td><td>20</td><td>1</td><td>유</td><td>A </td><td>168.0</td><td>49.5</td></tr>\n",
       "\t<tr><td>박미희</td><td>여자</td><td>21</td><td>2</td><td>무</td><td>O </td><td>162.0</td><td>52.0</td></tr>\n",
       "\t<tr><td>강수친</td><td>여자</td><td>22</td><td>1</td><td>무</td><td>O </td><td>155.2</td><td>45.3</td></tr>\n",
       "\t<tr><td>이희수</td><td>여자</td><td>23</td><td>1</td><td>무</td><td>A </td><td>176.9</td><td>55.0</td></tr>\n",
       "\t<tr><td>이철린</td><td>남자</td><td>23</td><td>3</td><td>무</td><td>B </td><td>178.5</td><td>64.2</td></tr>\n",
       "\t<tr><td>방희철</td><td>남자</td><td>22</td><td>2</td><td>무</td><td>B </td><td>176.1</td><td>61.3</td></tr>\n",
       "\t<tr><td>박수호</td><td>남자</td><td>24</td><td>4</td><td>유</td><td>O </td><td>167.1</td><td>62.0</td></tr>\n",
       "\t<tr><td>임동민</td><td>남자</td><td>22</td><td>2</td><td>무</td><td>AB</td><td>180.0</td><td>75.8</td></tr>\n",
       "\t<tr><td>김민수</td><td>남자</td><td>21</td><td>1</td><td>무</td><td>A </td><td>162.2</td><td>55.3</td></tr>\n",
       "\t<tr><td>이희진</td><td>여자</td><td>23</td><td>3</td><td>무</td><td>O </td><td>176.1</td><td>53.1</td></tr>\n",
       "\t<tr><td>김미진</td><td>여자</td><td>22</td><td>2</td><td>무</td><td>B </td><td>158.2</td><td>45.2</td></tr>\n",
       "\t<tr><td>김동수</td><td>남자</td><td>24</td><td>4</td><td>유</td><td>B </td><td>168.6</td><td>70.2</td></tr>\n",
       "\t<tr><td>여수근</td><td>남자</td><td>21</td><td>1</td><td>무</td><td>A </td><td>169.2</td><td>62.2</td></tr>\n",
       "</tbody>\n",
       "</table>\n"
      ],
      "text/latex": [
       "A data.frame: 17 × 8\n",
       "\\begin{tabular}{llllllll}\n",
       " name & sex & age & grade & absence & blood & height & weight\\\\\n",
       " <chr> & <chr> & <int> & <int> & <chr> & <chr> & <dbl> & <dbl>\\\\\n",
       "\\hline\n",
       "\t 김길동 & 남자 & 23 & 3 & 유 & O  & 165.3 & 68.2\\\\\n",
       "\t 이미린 & 여자 & 22 & 2 & 무 & AB & 170.1 & 53.0\\\\\n",
       "\t 홍길동 & 남자 & 24 & 4 & 무 & B  & 175.0 & 80.1\\\\\n",
       "\t 김철수 & 남자 & 23 & 3 & 무 & AB & 182.1 & 85.7\\\\\n",
       "\t 손세수 & 여자 & 20 & 1 & 유 & A  & 168.0 & 49.5\\\\\n",
       "\t 박미희 & 여자 & 21 & 2 & 무 & O  & 162.0 & 52.0\\\\\n",
       "\t 강수친 & 여자 & 22 & 1 & 무 & O  & 155.2 & 45.3\\\\\n",
       "\t 이희수 & 여자 & 23 & 1 & 무 & A  & 176.9 & 55.0\\\\\n",
       "\t 이철린 & 남자 & 23 & 3 & 무 & B  & 178.5 & 64.2\\\\\n",
       "\t 방희철 & 남자 & 22 & 2 & 무 & B  & 176.1 & 61.3\\\\\n",
       "\t 박수호 & 남자 & 24 & 4 & 유 & O  & 167.1 & 62.0\\\\\n",
       "\t 임동민 & 남자 & 22 & 2 & 무 & AB & 180.0 & 75.8\\\\\n",
       "\t 김민수 & 남자 & 21 & 1 & 무 & A  & 162.2 & 55.3\\\\\n",
       "\t 이희진 & 여자 & 23 & 3 & 무 & O  & 176.1 & 53.1\\\\\n",
       "\t 김미진 & 여자 & 22 & 2 & 무 & B  & 158.2 & 45.2\\\\\n",
       "\t 김동수 & 남자 & 24 & 4 & 유 & B  & 168.6 & 70.2\\\\\n",
       "\t 여수근 & 남자 & 21 & 1 & 무 & A  & 169.2 & 62.2\\\\\n",
       "\\end{tabular}\n"
      ],
      "text/markdown": [
       "\n",
       "A data.frame: 17 × 8\n",
       "\n",
       "| name &lt;chr&gt; | sex &lt;chr&gt; | age &lt;int&gt; | grade &lt;int&gt; | absence &lt;chr&gt; | blood &lt;chr&gt; | height &lt;dbl&gt; | weight &lt;dbl&gt; |\n",
       "|---|---|---|---|---|---|---|---|\n",
       "| 김길동 | 남자 | 23 | 3 | 유 | O  | 165.3 | 68.2 |\n",
       "| 이미린 | 여자 | 22 | 2 | 무 | AB | 170.1 | 53.0 |\n",
       "| 홍길동 | 남자 | 24 | 4 | 무 | B  | 175.0 | 80.1 |\n",
       "| 김철수 | 남자 | 23 | 3 | 무 | AB | 182.1 | 85.7 |\n",
       "| 손세수 | 여자 | 20 | 1 | 유 | A  | 168.0 | 49.5 |\n",
       "| 박미희 | 여자 | 21 | 2 | 무 | O  | 162.0 | 52.0 |\n",
       "| 강수친 | 여자 | 22 | 1 | 무 | O  | 155.2 | 45.3 |\n",
       "| 이희수 | 여자 | 23 | 1 | 무 | A  | 176.9 | 55.0 |\n",
       "| 이철린 | 남자 | 23 | 3 | 무 | B  | 178.5 | 64.2 |\n",
       "| 방희철 | 남자 | 22 | 2 | 무 | B  | 176.1 | 61.3 |\n",
       "| 박수호 | 남자 | 24 | 4 | 유 | O  | 167.1 | 62.0 |\n",
       "| 임동민 | 남자 | 22 | 2 | 무 | AB | 180.0 | 75.8 |\n",
       "| 김민수 | 남자 | 21 | 1 | 무 | A  | 162.2 | 55.3 |\n",
       "| 이희진 | 여자 | 23 | 3 | 무 | O  | 176.1 | 53.1 |\n",
       "| 김미진 | 여자 | 22 | 2 | 무 | B  | 158.2 | 45.2 |\n",
       "| 김동수 | 남자 | 24 | 4 | 유 | B  | 168.6 | 70.2 |\n",
       "| 여수근 | 남자 | 21 | 1 | 무 | A  | 169.2 | 62.2 |\n",
       "\n"
      ],
      "text/plain": [
       "   name   sex  age grade absence blood height weight\n",
       "1  김길동 남자 23  3     유      O     165.3  68.2  \n",
       "2  이미린 여자 22  2     무      AB    170.1  53.0  \n",
       "3  홍길동 남자 24  4     무      B     175.0  80.1  \n",
       "4  김철수 남자 23  3     무      AB    182.1  85.7  \n",
       "5  손세수 여자 20  1     유      A     168.0  49.5  \n",
       "6  박미희 여자 21  2     무      O     162.0  52.0  \n",
       "7  강수친 여자 22  1     무      O     155.2  45.3  \n",
       "8  이희수 여자 23  1     무      A     176.9  55.0  \n",
       "9  이철린 남자 23  3     무      B     178.5  64.2  \n",
       "10 방희철 남자 22  2     무      B     176.1  61.3  \n",
       "11 박수호 남자 24  4     유      O     167.1  62.0  \n",
       "12 임동민 남자 22  2     무      AB    180.0  75.8  \n",
       "13 김민수 남자 21  1     무      A     162.2  55.3  \n",
       "14 이희진 여자 23  3     무      O     176.1  53.1  \n",
       "15 김미진 여자 22  2     무      B     158.2  45.2  \n",
       "16 김동수 남자 24  4     유      B     168.6  70.2  \n",
       "17 여수근 남자 21  1     무      A     169.2  62.2  "
      ]
     },
     "metadata": {},
     "output_type": "display_data"
    }
   ],
   "source": [
    "# 변수명 이름 바꾸기\n",
    "colnames(df_csv)[6] <- 'blood'\n",
    "df_csv"
   ]
  },
  {
   "cell_type": "code",
   "execution_count": 60,
   "id": "52f239d9",
   "metadata": {},
   "outputs": [
    {
     "data": {
      "text/html": [
       "<table class=\"dataframe\">\n",
       "<caption>A data.frame: 6 × 8</caption>\n",
       "<thead>\n",
       "\t<tr><th></th><th scope=col>na</th><th scope=col>se</th><th scope=col>ag</th><th scope=col>gr</th><th scope=col>ab</th><th scope=col>bl</th><th scope=col>he</th><th scope=col>we</th></tr>\n",
       "\t<tr><th></th><th scope=col>&lt;chr&gt;</th><th scope=col>&lt;chr&gt;</th><th scope=col>&lt;int&gt;</th><th scope=col>&lt;int&gt;</th><th scope=col>&lt;chr&gt;</th><th scope=col>&lt;chr&gt;</th><th scope=col>&lt;dbl&gt;</th><th scope=col>&lt;dbl&gt;</th></tr>\n",
       "</thead>\n",
       "<tbody>\n",
       "\t<tr><th scope=row>1</th><td>김길동</td><td>남자</td><td>23</td><td>3</td><td>유</td><td>O </td><td>165.3</td><td>68.2</td></tr>\n",
       "\t<tr><th scope=row>2</th><td>이미린</td><td>여자</td><td>22</td><td>2</td><td>무</td><td>AB</td><td>170.1</td><td>53.0</td></tr>\n",
       "\t<tr><th scope=row>3</th><td>홍길동</td><td>남자</td><td>24</td><td>4</td><td>무</td><td>B </td><td>175.0</td><td>80.1</td></tr>\n",
       "\t<tr><th scope=row>4</th><td>김철수</td><td>남자</td><td>23</td><td>3</td><td>무</td><td>AB</td><td>182.1</td><td>85.7</td></tr>\n",
       "\t<tr><th scope=row>5</th><td>손세수</td><td>여자</td><td>20</td><td>1</td><td>유</td><td>A </td><td>168.0</td><td>49.5</td></tr>\n",
       "\t<tr><th scope=row>6</th><td>박미희</td><td>여자</td><td>21</td><td>2</td><td>무</td><td>O </td><td>162.0</td><td>52.0</td></tr>\n",
       "</tbody>\n",
       "</table>\n"
      ],
      "text/latex": [
       "A data.frame: 6 × 8\n",
       "\\begin{tabular}{r|llllllll}\n",
       "  & na & se & ag & gr & ab & bl & he & we\\\\\n",
       "  & <chr> & <chr> & <int> & <int> & <chr> & <chr> & <dbl> & <dbl>\\\\\n",
       "\\hline\n",
       "\t1 & 김길동 & 남자 & 23 & 3 & 유 & O  & 165.3 & 68.2\\\\\n",
       "\t2 & 이미린 & 여자 & 22 & 2 & 무 & AB & 170.1 & 53.0\\\\\n",
       "\t3 & 홍길동 & 남자 & 24 & 4 & 무 & B  & 175.0 & 80.1\\\\\n",
       "\t4 & 김철수 & 남자 & 23 & 3 & 무 & AB & 182.1 & 85.7\\\\\n",
       "\t5 & 손세수 & 여자 & 20 & 1 & 유 & A  & 168.0 & 49.5\\\\\n",
       "\t6 & 박미희 & 여자 & 21 & 2 & 무 & O  & 162.0 & 52.0\\\\\n",
       "\\end{tabular}\n"
      ],
      "text/markdown": [
       "\n",
       "A data.frame: 6 × 8\n",
       "\n",
       "| <!--/--> | na &lt;chr&gt; | se &lt;chr&gt; | ag &lt;int&gt; | gr &lt;int&gt; | ab &lt;chr&gt; | bl &lt;chr&gt; | he &lt;dbl&gt; | we &lt;dbl&gt; |\n",
       "|---|---|---|---|---|---|---|---|---|\n",
       "| 1 | 김길동 | 남자 | 23 | 3 | 유 | O  | 165.3 | 68.2 |\n",
       "| 2 | 이미린 | 여자 | 22 | 2 | 무 | AB | 170.1 | 53.0 |\n",
       "| 3 | 홍길동 | 남자 | 24 | 4 | 무 | B  | 175.0 | 80.1 |\n",
       "| 4 | 김철수 | 남자 | 23 | 3 | 무 | AB | 182.1 | 85.7 |\n",
       "| 5 | 손세수 | 여자 | 20 | 1 | 유 | A  | 168.0 | 49.5 |\n",
       "| 6 | 박미희 | 여자 | 21 | 2 | 무 | O  | 162.0 | 52.0 |\n",
       "\n"
      ],
      "text/plain": [
       "  na     se   ag gr ab bl he    we  \n",
       "1 김길동 남자 23 3  유 O  165.3 68.2\n",
       "2 이미린 여자 22 2  무 AB 170.1 53.0\n",
       "3 홍길동 남자 24 4  무 B  175.0 80.1\n",
       "4 김철수 남자 23 3  무 AB 182.1 85.7\n",
       "5 손세수 여자 20 1  유 A  168.0 49.5\n",
       "6 박미희 여자 21 2  무 O  162.0 52.0"
      ]
     },
     "metadata": {},
     "output_type": "display_data"
    },
    {
     "data": {
      "text/html": [
       "<table class=\"dataframe\">\n",
       "<caption>A data.frame: 6 × 8</caption>\n",
       "<thead>\n",
       "\t<tr><th></th><th scope=col>name</th><th scope=col>sex</th><th scope=col>age</th><th scope=col>grade</th><th scope=col>absence</th><th scope=col>blood</th><th scope=col>height</th><th scope=col>weight</th></tr>\n",
       "\t<tr><th></th><th scope=col>&lt;chr&gt;</th><th scope=col>&lt;chr&gt;</th><th scope=col>&lt;int&gt;</th><th scope=col>&lt;int&gt;</th><th scope=col>&lt;chr&gt;</th><th scope=col>&lt;chr&gt;</th><th scope=col>&lt;dbl&gt;</th><th scope=col>&lt;dbl&gt;</th></tr>\n",
       "</thead>\n",
       "<tbody>\n",
       "\t<tr><th scope=row>1</th><td>김길동</td><td>남자</td><td>23</td><td>3</td><td>유</td><td>O </td><td>165.3</td><td>68.2</td></tr>\n",
       "\t<tr><th scope=row>2</th><td>이미린</td><td>여자</td><td>22</td><td>2</td><td>무</td><td>AB</td><td>170.1</td><td>53.0</td></tr>\n",
       "\t<tr><th scope=row>3</th><td>홍길동</td><td>남자</td><td>24</td><td>4</td><td>무</td><td>B </td><td>175.0</td><td>80.1</td></tr>\n",
       "\t<tr><th scope=row>4</th><td>김철수</td><td>남자</td><td>23</td><td>3</td><td>무</td><td>AB</td><td>182.1</td><td>85.7</td></tr>\n",
       "\t<tr><th scope=row>5</th><td>손세수</td><td>여자</td><td>20</td><td>1</td><td>유</td><td>A </td><td>168.0</td><td>49.5</td></tr>\n",
       "\t<tr><th scope=row>6</th><td>박미희</td><td>여자</td><td>21</td><td>2</td><td>무</td><td>O </td><td>162.0</td><td>52.0</td></tr>\n",
       "</tbody>\n",
       "</table>\n"
      ],
      "text/latex": [
       "A data.frame: 6 × 8\n",
       "\\begin{tabular}{r|llllllll}\n",
       "  & name & sex & age & grade & absence & blood & height & weight\\\\\n",
       "  & <chr> & <chr> & <int> & <int> & <chr> & <chr> & <dbl> & <dbl>\\\\\n",
       "\\hline\n",
       "\t1 & 김길동 & 남자 & 23 & 3 & 유 & O  & 165.3 & 68.2\\\\\n",
       "\t2 & 이미린 & 여자 & 22 & 2 & 무 & AB & 170.1 & 53.0\\\\\n",
       "\t3 & 홍길동 & 남자 & 24 & 4 & 무 & B  & 175.0 & 80.1\\\\\n",
       "\t4 & 김철수 & 남자 & 23 & 3 & 무 & AB & 182.1 & 85.7\\\\\n",
       "\t5 & 손세수 & 여자 & 20 & 1 & 유 & A  & 168.0 & 49.5\\\\\n",
       "\t6 & 박미희 & 여자 & 21 & 2 & 무 & O  & 162.0 & 52.0\\\\\n",
       "\\end{tabular}\n"
      ],
      "text/markdown": [
       "\n",
       "A data.frame: 6 × 8\n",
       "\n",
       "| <!--/--> | name &lt;chr&gt; | sex &lt;chr&gt; | age &lt;int&gt; | grade &lt;int&gt; | absence &lt;chr&gt; | blood &lt;chr&gt; | height &lt;dbl&gt; | weight &lt;dbl&gt; |\n",
       "|---|---|---|---|---|---|---|---|---|\n",
       "| 1 | 김길동 | 남자 | 23 | 3 | 유 | O  | 165.3 | 68.2 |\n",
       "| 2 | 이미린 | 여자 | 22 | 2 | 무 | AB | 170.1 | 53.0 |\n",
       "| 3 | 홍길동 | 남자 | 24 | 4 | 무 | B  | 175.0 | 80.1 |\n",
       "| 4 | 김철수 | 남자 | 23 | 3 | 무 | AB | 182.1 | 85.7 |\n",
       "| 5 | 손세수 | 여자 | 20 | 1 | 유 | A  | 168.0 | 49.5 |\n",
       "| 6 | 박미희 | 여자 | 21 | 2 | 무 | O  | 162.0 | 52.0 |\n",
       "\n"
      ],
      "text/plain": [
       "  name   sex  age grade absence blood height weight\n",
       "1 김길동 남자 23  3     유      O     165.3  68.2  \n",
       "2 이미린 여자 22  2     무      AB    170.1  53.0  \n",
       "3 홍길동 남자 24  4     무      B     175.0  80.1  \n",
       "4 김철수 남자 23  3     무      AB    182.1  85.7  \n",
       "5 손세수 여자 20  1     유      A     168.0  49.5  \n",
       "6 박미희 여자 21  2     무      O     162.0  52.0  "
      ]
     },
     "metadata": {},
     "output_type": "display_data"
    }
   ],
   "source": [
    "# 모든 변수명 바꾸기\n",
    "old_list <- colnames(df_csv)\n",
    "new_list <- c('na','se','ag','gr','ab','bl','he','we')\n",
    "colnames(df_csv)  <- new_list\n",
    "head(df_csv)\n",
    "colnames(df_csv)  <- old_list\n",
    "head(df_csv)"
   ]
  },
  {
   "cell_type": "code",
   "execution_count": 62,
   "id": "9f610aea",
   "metadata": {},
   "outputs": [
    {
     "data": {
      "text/html": [
       "<style>\n",
       ".list-inline {list-style: none; margin:0; padding: 0}\n",
       ".list-inline>li {display: inline-block}\n",
       ".list-inline>li:not(:last-child)::after {content: \"\\00b7\"; padding: 0 .5ex}\n",
       "</style>\n",
       "<ol class=list-inline><li>0.00249596601387274</li><li>0.00183175439560572</li><li>0.00261551020408163</li><li>0.0025844071288624</li><li>0.00175382653061224</li><li>0.00198140527358634</li><li>0.00188067940269954</li><li>0.00175754730758132</li><li>0.00201492361650543</li><li>0.00197670455296649</li><li>0.00222043870854987</li><li>0.00233950617283951</li><li>0.00210195508429866</li><li>0.00171228404180295</li><li>0.00180603214737222</li><li>0.00246957358696065</li><li>0.0021726494866679</li></ol>\n"
      ],
      "text/latex": [
       "\\begin{enumerate*}\n",
       "\\item 0.00249596601387274\n",
       "\\item 0.00183175439560572\n",
       "\\item 0.00261551020408163\n",
       "\\item 0.0025844071288624\n",
       "\\item 0.00175382653061224\n",
       "\\item 0.00198140527358634\n",
       "\\item 0.00188067940269954\n",
       "\\item 0.00175754730758132\n",
       "\\item 0.00201492361650543\n",
       "\\item 0.00197670455296649\n",
       "\\item 0.00222043870854987\n",
       "\\item 0.00233950617283951\n",
       "\\item 0.00210195508429866\n",
       "\\item 0.00171228404180295\n",
       "\\item 0.00180603214737222\n",
       "\\item 0.00246957358696065\n",
       "\\item 0.0021726494866679\n",
       "\\end{enumerate*}\n"
      ],
      "text/markdown": [
       "1. 0.00249596601387274\n",
       "2. 0.00183175439560572\n",
       "3. 0.00261551020408163\n",
       "4. 0.0025844071288624\n",
       "5. 0.00175382653061224\n",
       "6. 0.00198140527358634\n",
       "7. 0.00188067940269954\n",
       "8. 0.00175754730758132\n",
       "9. 0.00201492361650543\n",
       "10. 0.00197670455296649\n",
       "11. 0.00222043870854987\n",
       "12. 0.00233950617283951\n",
       "13. 0.00210195508429866\n",
       "14. 0.00171228404180295\n",
       "15. 0.00180603214737222\n",
       "16. 0.00246957358696065\n",
       "17. 0.0021726494866679\n",
       "\n",
       "\n"
      ],
      "text/plain": [
       " [1] 0.002495966 0.001831754 0.002615510 0.002584407 0.001753827 0.001981405\n",
       " [7] 0.001880679 0.001757547 0.002014924 0.001976705 0.002220439 0.002339506\n",
       "[13] 0.002101955 0.001712284 0.001806032 0.002469574 0.002172649"
      ]
     },
     "metadata": {},
     "output_type": "display_data"
    }
   ],
   "source": [
    "# 새로운 변수 추가 - cbind()\n",
    "bmi <- df_csv$weight/df_csv$height^2\n",
    "bmi"
   ]
  },
  {
   "cell_type": "code",
   "execution_count": 63,
   "id": "c4b60dd2",
   "metadata": {},
   "outputs": [
    {
     "data": {
      "text/html": [
       "<table class=\"dataframe\">\n",
       "<caption>A data.frame: 17 × 9</caption>\n",
       "<thead>\n",
       "\t<tr><th scope=col>name</th><th scope=col>sex</th><th scope=col>age</th><th scope=col>grade</th><th scope=col>absence</th><th scope=col>blood</th><th scope=col>height</th><th scope=col>weight</th><th scope=col>bmi</th></tr>\n",
       "\t<tr><th scope=col>&lt;chr&gt;</th><th scope=col>&lt;chr&gt;</th><th scope=col>&lt;int&gt;</th><th scope=col>&lt;int&gt;</th><th scope=col>&lt;chr&gt;</th><th scope=col>&lt;chr&gt;</th><th scope=col>&lt;dbl&gt;</th><th scope=col>&lt;dbl&gt;</th><th scope=col>&lt;dbl&gt;</th></tr>\n",
       "</thead>\n",
       "<tbody>\n",
       "\t<tr><td>김길동</td><td>남자</td><td>23</td><td>3</td><td>유</td><td>O </td><td>165.3</td><td>68.2</td><td>0.002495966</td></tr>\n",
       "\t<tr><td>이미린</td><td>여자</td><td>22</td><td>2</td><td>무</td><td>AB</td><td>170.1</td><td>53.0</td><td>0.001831754</td></tr>\n",
       "\t<tr><td>홍길동</td><td>남자</td><td>24</td><td>4</td><td>무</td><td>B </td><td>175.0</td><td>80.1</td><td>0.002615510</td></tr>\n",
       "\t<tr><td>김철수</td><td>남자</td><td>23</td><td>3</td><td>무</td><td>AB</td><td>182.1</td><td>85.7</td><td>0.002584407</td></tr>\n",
       "\t<tr><td>손세수</td><td>여자</td><td>20</td><td>1</td><td>유</td><td>A </td><td>168.0</td><td>49.5</td><td>0.001753827</td></tr>\n",
       "\t<tr><td>박미희</td><td>여자</td><td>21</td><td>2</td><td>무</td><td>O </td><td>162.0</td><td>52.0</td><td>0.001981405</td></tr>\n",
       "\t<tr><td>강수친</td><td>여자</td><td>22</td><td>1</td><td>무</td><td>O </td><td>155.2</td><td>45.3</td><td>0.001880679</td></tr>\n",
       "\t<tr><td>이희수</td><td>여자</td><td>23</td><td>1</td><td>무</td><td>A </td><td>176.9</td><td>55.0</td><td>0.001757547</td></tr>\n",
       "\t<tr><td>이철린</td><td>남자</td><td>23</td><td>3</td><td>무</td><td>B </td><td>178.5</td><td>64.2</td><td>0.002014924</td></tr>\n",
       "\t<tr><td>방희철</td><td>남자</td><td>22</td><td>2</td><td>무</td><td>B </td><td>176.1</td><td>61.3</td><td>0.001976705</td></tr>\n",
       "\t<tr><td>박수호</td><td>남자</td><td>24</td><td>4</td><td>유</td><td>O </td><td>167.1</td><td>62.0</td><td>0.002220439</td></tr>\n",
       "\t<tr><td>임동민</td><td>남자</td><td>22</td><td>2</td><td>무</td><td>AB</td><td>180.0</td><td>75.8</td><td>0.002339506</td></tr>\n",
       "\t<tr><td>김민수</td><td>남자</td><td>21</td><td>1</td><td>무</td><td>A </td><td>162.2</td><td>55.3</td><td>0.002101955</td></tr>\n",
       "\t<tr><td>이희진</td><td>여자</td><td>23</td><td>3</td><td>무</td><td>O </td><td>176.1</td><td>53.1</td><td>0.001712284</td></tr>\n",
       "\t<tr><td>김미진</td><td>여자</td><td>22</td><td>2</td><td>무</td><td>B </td><td>158.2</td><td>45.2</td><td>0.001806032</td></tr>\n",
       "\t<tr><td>김동수</td><td>남자</td><td>24</td><td>4</td><td>유</td><td>B </td><td>168.6</td><td>70.2</td><td>0.002469574</td></tr>\n",
       "\t<tr><td>여수근</td><td>남자</td><td>21</td><td>1</td><td>무</td><td>A </td><td>169.2</td><td>62.2</td><td>0.002172649</td></tr>\n",
       "</tbody>\n",
       "</table>\n"
      ],
      "text/latex": [
       "A data.frame: 17 × 9\n",
       "\\begin{tabular}{lllllllll}\n",
       " name & sex & age & grade & absence & blood & height & weight & bmi\\\\\n",
       " <chr> & <chr> & <int> & <int> & <chr> & <chr> & <dbl> & <dbl> & <dbl>\\\\\n",
       "\\hline\n",
       "\t 김길동 & 남자 & 23 & 3 & 유 & O  & 165.3 & 68.2 & 0.002495966\\\\\n",
       "\t 이미린 & 여자 & 22 & 2 & 무 & AB & 170.1 & 53.0 & 0.001831754\\\\\n",
       "\t 홍길동 & 남자 & 24 & 4 & 무 & B  & 175.0 & 80.1 & 0.002615510\\\\\n",
       "\t 김철수 & 남자 & 23 & 3 & 무 & AB & 182.1 & 85.7 & 0.002584407\\\\\n",
       "\t 손세수 & 여자 & 20 & 1 & 유 & A  & 168.0 & 49.5 & 0.001753827\\\\\n",
       "\t 박미희 & 여자 & 21 & 2 & 무 & O  & 162.0 & 52.0 & 0.001981405\\\\\n",
       "\t 강수친 & 여자 & 22 & 1 & 무 & O  & 155.2 & 45.3 & 0.001880679\\\\\n",
       "\t 이희수 & 여자 & 23 & 1 & 무 & A  & 176.9 & 55.0 & 0.001757547\\\\\n",
       "\t 이철린 & 남자 & 23 & 3 & 무 & B  & 178.5 & 64.2 & 0.002014924\\\\\n",
       "\t 방희철 & 남자 & 22 & 2 & 무 & B  & 176.1 & 61.3 & 0.001976705\\\\\n",
       "\t 박수호 & 남자 & 24 & 4 & 유 & O  & 167.1 & 62.0 & 0.002220439\\\\\n",
       "\t 임동민 & 남자 & 22 & 2 & 무 & AB & 180.0 & 75.8 & 0.002339506\\\\\n",
       "\t 김민수 & 남자 & 21 & 1 & 무 & A  & 162.2 & 55.3 & 0.002101955\\\\\n",
       "\t 이희진 & 여자 & 23 & 3 & 무 & O  & 176.1 & 53.1 & 0.001712284\\\\\n",
       "\t 김미진 & 여자 & 22 & 2 & 무 & B  & 158.2 & 45.2 & 0.001806032\\\\\n",
       "\t 김동수 & 남자 & 24 & 4 & 유 & B  & 168.6 & 70.2 & 0.002469574\\\\\n",
       "\t 여수근 & 남자 & 21 & 1 & 무 & A  & 169.2 & 62.2 & 0.002172649\\\\\n",
       "\\end{tabular}\n"
      ],
      "text/markdown": [
       "\n",
       "A data.frame: 17 × 9\n",
       "\n",
       "| name &lt;chr&gt; | sex &lt;chr&gt; | age &lt;int&gt; | grade &lt;int&gt; | absence &lt;chr&gt; | blood &lt;chr&gt; | height &lt;dbl&gt; | weight &lt;dbl&gt; | bmi &lt;dbl&gt; |\n",
       "|---|---|---|---|---|---|---|---|---|\n",
       "| 김길동 | 남자 | 23 | 3 | 유 | O  | 165.3 | 68.2 | 0.002495966 |\n",
       "| 이미린 | 여자 | 22 | 2 | 무 | AB | 170.1 | 53.0 | 0.001831754 |\n",
       "| 홍길동 | 남자 | 24 | 4 | 무 | B  | 175.0 | 80.1 | 0.002615510 |\n",
       "| 김철수 | 남자 | 23 | 3 | 무 | AB | 182.1 | 85.7 | 0.002584407 |\n",
       "| 손세수 | 여자 | 20 | 1 | 유 | A  | 168.0 | 49.5 | 0.001753827 |\n",
       "| 박미희 | 여자 | 21 | 2 | 무 | O  | 162.0 | 52.0 | 0.001981405 |\n",
       "| 강수친 | 여자 | 22 | 1 | 무 | O  | 155.2 | 45.3 | 0.001880679 |\n",
       "| 이희수 | 여자 | 23 | 1 | 무 | A  | 176.9 | 55.0 | 0.001757547 |\n",
       "| 이철린 | 남자 | 23 | 3 | 무 | B  | 178.5 | 64.2 | 0.002014924 |\n",
       "| 방희철 | 남자 | 22 | 2 | 무 | B  | 176.1 | 61.3 | 0.001976705 |\n",
       "| 박수호 | 남자 | 24 | 4 | 유 | O  | 167.1 | 62.0 | 0.002220439 |\n",
       "| 임동민 | 남자 | 22 | 2 | 무 | AB | 180.0 | 75.8 | 0.002339506 |\n",
       "| 김민수 | 남자 | 21 | 1 | 무 | A  | 162.2 | 55.3 | 0.002101955 |\n",
       "| 이희진 | 여자 | 23 | 3 | 무 | O  | 176.1 | 53.1 | 0.001712284 |\n",
       "| 김미진 | 여자 | 22 | 2 | 무 | B  | 158.2 | 45.2 | 0.001806032 |\n",
       "| 김동수 | 남자 | 24 | 4 | 유 | B  | 168.6 | 70.2 | 0.002469574 |\n",
       "| 여수근 | 남자 | 21 | 1 | 무 | A  | 169.2 | 62.2 | 0.002172649 |\n",
       "\n"
      ],
      "text/plain": [
       "   name   sex  age grade absence blood height weight bmi        \n",
       "1  김길동 남자 23  3     유      O     165.3  68.2   0.002495966\n",
       "2  이미린 여자 22  2     무      AB    170.1  53.0   0.001831754\n",
       "3  홍길동 남자 24  4     무      B     175.0  80.1   0.002615510\n",
       "4  김철수 남자 23  3     무      AB    182.1  85.7   0.002584407\n",
       "5  손세수 여자 20  1     유      A     168.0  49.5   0.001753827\n",
       "6  박미희 여자 21  2     무      O     162.0  52.0   0.001981405\n",
       "7  강수친 여자 22  1     무      O     155.2  45.3   0.001880679\n",
       "8  이희수 여자 23  1     무      A     176.9  55.0   0.001757547\n",
       "9  이철린 남자 23  3     무      B     178.5  64.2   0.002014924\n",
       "10 방희철 남자 22  2     무      B     176.1  61.3   0.001976705\n",
       "11 박수호 남자 24  4     유      O     167.1  62.0   0.002220439\n",
       "12 임동민 남자 22  2     무      AB    180.0  75.8   0.002339506\n",
       "13 김민수 남자 21  1     무      A     162.2  55.3   0.002101955\n",
       "14 이희진 여자 23  3     무      O     176.1  53.1   0.001712284\n",
       "15 김미진 여자 22  2     무      B     158.2  45.2   0.001806032\n",
       "16 김동수 남자 24  4     유      B     168.6  70.2   0.002469574\n",
       "17 여수근 남자 21  1     무      A     169.2  62.2   0.002172649"
      ]
     },
     "metadata": {},
     "output_type": "display_data"
    }
   ],
   "source": [
    "df_bmi <- cbind(df_csv,bmi)\n",
    "df_bmi"
   ]
  },
  {
   "cell_type": "code",
   "execution_count": 64,
   "id": "f31e4304",
   "metadata": {},
   "outputs": [
    {
     "data": {
      "text/html": [
       "<table class=\"dataframe\">\n",
       "<caption>A data.frame: 17 × 8</caption>\n",
       "<thead>\n",
       "\t<tr><th scope=col>name</th><th scope=col>sex</th><th scope=col>age</th><th scope=col>grade</th><th scope=col>absence</th><th scope=col>bloodtype</th><th scope=col>height</th><th scope=col>weight</th></tr>\n",
       "\t<tr><th scope=col>&lt;chr&gt;</th><th scope=col>&lt;chr&gt;</th><th scope=col>&lt;int&gt;</th><th scope=col>&lt;int&gt;</th><th scope=col>&lt;chr&gt;</th><th scope=col>&lt;chr&gt;</th><th scope=col>&lt;dbl&gt;</th><th scope=col>&lt;dbl&gt;</th></tr>\n",
       "</thead>\n",
       "<tbody>\n",
       "\t<tr><td>김길동</td><td>남자</td><td>23</td><td>3</td><td>유</td><td>O </td><td>165.3</td><td>68.2</td></tr>\n",
       "\t<tr><td>이미린</td><td>여자</td><td>22</td><td>2</td><td>무</td><td>AB</td><td>170.1</td><td>53.0</td></tr>\n",
       "\t<tr><td>홍길동</td><td>남자</td><td>24</td><td>4</td><td>무</td><td>B </td><td>175.0</td><td>80.1</td></tr>\n",
       "\t<tr><td>김철수</td><td>남자</td><td>23</td><td>3</td><td>무</td><td>AB</td><td>182.1</td><td>85.7</td></tr>\n",
       "\t<tr><td>손세수</td><td>여자</td><td>20</td><td>1</td><td>유</td><td>A </td><td>168.0</td><td>49.5</td></tr>\n",
       "\t<tr><td>박미희</td><td>여자</td><td>21</td><td>2</td><td>무</td><td>O </td><td>162.0</td><td>52.0</td></tr>\n",
       "\t<tr><td>강수친</td><td>여자</td><td>22</td><td>1</td><td>무</td><td>O </td><td>155.2</td><td>45.3</td></tr>\n",
       "\t<tr><td>이희수</td><td>여자</td><td>23</td><td>1</td><td>무</td><td>A </td><td>176.9</td><td>55.0</td></tr>\n",
       "\t<tr><td>이철린</td><td>남자</td><td>23</td><td>3</td><td>무</td><td>B </td><td>178.5</td><td>64.2</td></tr>\n",
       "\t<tr><td>방희철</td><td>남자</td><td>22</td><td>2</td><td>무</td><td>B </td><td>176.1</td><td>61.3</td></tr>\n",
       "\t<tr><td>박수호</td><td>남자</td><td>24</td><td>4</td><td>유</td><td>O </td><td>167.1</td><td>62.0</td></tr>\n",
       "\t<tr><td>임동민</td><td>남자</td><td>22</td><td>2</td><td>무</td><td>AB</td><td>180.0</td><td>75.8</td></tr>\n",
       "\t<tr><td>김민수</td><td>남자</td><td>21</td><td>1</td><td>무</td><td>A </td><td>162.2</td><td>55.3</td></tr>\n",
       "\t<tr><td>이희진</td><td>여자</td><td>23</td><td>3</td><td>무</td><td>O </td><td>176.1</td><td>53.1</td></tr>\n",
       "\t<tr><td>김미진</td><td>여자</td><td>22</td><td>2</td><td>무</td><td>B </td><td>158.2</td><td>45.2</td></tr>\n",
       "\t<tr><td>김동수</td><td>남자</td><td>24</td><td>4</td><td>유</td><td>B </td><td>168.6</td><td>70.2</td></tr>\n",
       "\t<tr><td>여수근</td><td>남자</td><td>21</td><td>1</td><td>무</td><td>A </td><td>169.2</td><td>62.2</td></tr>\n",
       "</tbody>\n",
       "</table>\n"
      ],
      "text/latex": [
       "A data.frame: 17 × 8\n",
       "\\begin{tabular}{llllllll}\n",
       " name & sex & age & grade & absence & bloodtype & height & weight\\\\\n",
       " <chr> & <chr> & <int> & <int> & <chr> & <chr> & <dbl> & <dbl>\\\\\n",
       "\\hline\n",
       "\t 김길동 & 남자 & 23 & 3 & 유 & O  & 165.3 & 68.2\\\\\n",
       "\t 이미린 & 여자 & 22 & 2 & 무 & AB & 170.1 & 53.0\\\\\n",
       "\t 홍길동 & 남자 & 24 & 4 & 무 & B  & 175.0 & 80.1\\\\\n",
       "\t 김철수 & 남자 & 23 & 3 & 무 & AB & 182.1 & 85.7\\\\\n",
       "\t 손세수 & 여자 & 20 & 1 & 유 & A  & 168.0 & 49.5\\\\\n",
       "\t 박미희 & 여자 & 21 & 2 & 무 & O  & 162.0 & 52.0\\\\\n",
       "\t 강수친 & 여자 & 22 & 1 & 무 & O  & 155.2 & 45.3\\\\\n",
       "\t 이희수 & 여자 & 23 & 1 & 무 & A  & 176.9 & 55.0\\\\\n",
       "\t 이철린 & 남자 & 23 & 3 & 무 & B  & 178.5 & 64.2\\\\\n",
       "\t 방희철 & 남자 & 22 & 2 & 무 & B  & 176.1 & 61.3\\\\\n",
       "\t 박수호 & 남자 & 24 & 4 & 유 & O  & 167.1 & 62.0\\\\\n",
       "\t 임동민 & 남자 & 22 & 2 & 무 & AB & 180.0 & 75.8\\\\\n",
       "\t 김민수 & 남자 & 21 & 1 & 무 & A  & 162.2 & 55.3\\\\\n",
       "\t 이희진 & 여자 & 23 & 3 & 무 & O  & 176.1 & 53.1\\\\\n",
       "\t 김미진 & 여자 & 22 & 2 & 무 & B  & 158.2 & 45.2\\\\\n",
       "\t 김동수 & 남자 & 24 & 4 & 유 & B  & 168.6 & 70.2\\\\\n",
       "\t 여수근 & 남자 & 21 & 1 & 무 & A  & 169.2 & 62.2\\\\\n",
       "\\end{tabular}\n"
      ],
      "text/markdown": [
       "\n",
       "A data.frame: 17 × 8\n",
       "\n",
       "| name &lt;chr&gt; | sex &lt;chr&gt; | age &lt;int&gt; | grade &lt;int&gt; | absence &lt;chr&gt; | bloodtype &lt;chr&gt; | height &lt;dbl&gt; | weight &lt;dbl&gt; |\n",
       "|---|---|---|---|---|---|---|---|\n",
       "| 김길동 | 남자 | 23 | 3 | 유 | O  | 165.3 | 68.2 |\n",
       "| 이미린 | 여자 | 22 | 2 | 무 | AB | 170.1 | 53.0 |\n",
       "| 홍길동 | 남자 | 24 | 4 | 무 | B  | 175.0 | 80.1 |\n",
       "| 김철수 | 남자 | 23 | 3 | 무 | AB | 182.1 | 85.7 |\n",
       "| 손세수 | 여자 | 20 | 1 | 유 | A  | 168.0 | 49.5 |\n",
       "| 박미희 | 여자 | 21 | 2 | 무 | O  | 162.0 | 52.0 |\n",
       "| 강수친 | 여자 | 22 | 1 | 무 | O  | 155.2 | 45.3 |\n",
       "| 이희수 | 여자 | 23 | 1 | 무 | A  | 176.9 | 55.0 |\n",
       "| 이철린 | 남자 | 23 | 3 | 무 | B  | 178.5 | 64.2 |\n",
       "| 방희철 | 남자 | 22 | 2 | 무 | B  | 176.1 | 61.3 |\n",
       "| 박수호 | 남자 | 24 | 4 | 유 | O  | 167.1 | 62.0 |\n",
       "| 임동민 | 남자 | 22 | 2 | 무 | AB | 180.0 | 75.8 |\n",
       "| 김민수 | 남자 | 21 | 1 | 무 | A  | 162.2 | 55.3 |\n",
       "| 이희진 | 여자 | 23 | 3 | 무 | O  | 176.1 | 53.1 |\n",
       "| 김미진 | 여자 | 22 | 2 | 무 | B  | 158.2 | 45.2 |\n",
       "| 김동수 | 남자 | 24 | 4 | 유 | B  | 168.6 | 70.2 |\n",
       "| 여수근 | 남자 | 21 | 1 | 무 | A  | 169.2 | 62.2 |\n",
       "\n"
      ],
      "text/plain": [
       "   name   sex  age grade absence bloodtype height weight\n",
       "1  김길동 남자 23  3     유      O         165.3  68.2  \n",
       "2  이미린 여자 22  2     무      AB        170.1  53.0  \n",
       "3  홍길동 남자 24  4     무      B         175.0  80.1  \n",
       "4  김철수 남자 23  3     무      AB        182.1  85.7  \n",
       "5  손세수 여자 20  1     유      A         168.0  49.5  \n",
       "6  박미희 여자 21  2     무      O         162.0  52.0  \n",
       "7  강수친 여자 22  1     무      O         155.2  45.3  \n",
       "8  이희수 여자 23  1     무      A         176.9  55.0  \n",
       "9  이철린 남자 23  3     무      B         178.5  64.2  \n",
       "10 방희철 남자 22  2     무      B         176.1  61.3  \n",
       "11 박수호 남자 24  4     유      O         167.1  62.0  \n",
       "12 임동민 남자 22  2     무      AB        180.0  75.8  \n",
       "13 김민수 남자 21  1     무      A         162.2  55.3  \n",
       "14 이희진 여자 23  3     무      O         176.1  53.1  \n",
       "15 김미진 여자 22  2     무      B         158.2  45.2  \n",
       "16 김동수 남자 24  4     유      B         168.6  70.2  \n",
       "17 여수근 남자 21  1     무      A         169.2  62.2  "
      ]
     },
     "metadata": {},
     "output_type": "display_data"
    },
    {
     "data": {
      "text/html": [
       "<table class=\"dataframe\">\n",
       "<caption>A data.frame: 17 × 2</caption>\n",
       "<thead>\n",
       "\t<tr><th scope=col>name</th><th scope=col>footsize</th></tr>\n",
       "\t<tr><th scope=col>&lt;chr&gt;</th><th scope=col>&lt;int&gt;</th></tr>\n",
       "</thead>\n",
       "<tbody>\n",
       "\t<tr><td>강수친</td><td>245</td></tr>\n",
       "\t<tr><td>김길동</td><td>270</td></tr>\n",
       "\t<tr><td>김동수</td><td>265</td></tr>\n",
       "\t<tr><td>김미진</td><td>235</td></tr>\n",
       "\t<tr><td>김민수</td><td>270</td></tr>\n",
       "\t<tr><td>김철수</td><td>280</td></tr>\n",
       "\t<tr><td>박미희</td><td>240</td></tr>\n",
       "\t<tr><td>박수호</td><td> NA</td></tr>\n",
       "\t<tr><td>방희철</td><td>275</td></tr>\n",
       "\t<tr><td>손세수</td><td>240</td></tr>\n",
       "\t<tr><td>여수근</td><td>265</td></tr>\n",
       "\t<tr><td>이미린</td><td>245</td></tr>\n",
       "\t<tr><td>이철린</td><td> NA</td></tr>\n",
       "\t<tr><td>이희수</td><td>245</td></tr>\n",
       "\t<tr><td>이희진</td><td>245</td></tr>\n",
       "\t<tr><td>임동민</td><td>280</td></tr>\n",
       "\t<tr><td>홍길동</td><td>275</td></tr>\n",
       "</tbody>\n",
       "</table>\n"
      ],
      "text/latex": [
       "A data.frame: 17 × 2\n",
       "\\begin{tabular}{ll}\n",
       " name & footsize\\\\\n",
       " <chr> & <int>\\\\\n",
       "\\hline\n",
       "\t 강수친 & 245\\\\\n",
       "\t 김길동 & 270\\\\\n",
       "\t 김동수 & 265\\\\\n",
       "\t 김미진 & 235\\\\\n",
       "\t 김민수 & 270\\\\\n",
       "\t 김철수 & 280\\\\\n",
       "\t 박미희 & 240\\\\\n",
       "\t 박수호 &  NA\\\\\n",
       "\t 방희철 & 275\\\\\n",
       "\t 손세수 & 240\\\\\n",
       "\t 여수근 & 265\\\\\n",
       "\t 이미린 & 245\\\\\n",
       "\t 이철린 &  NA\\\\\n",
       "\t 이희수 & 245\\\\\n",
       "\t 이희진 & 245\\\\\n",
       "\t 임동민 & 280\\\\\n",
       "\t 홍길동 & 275\\\\\n",
       "\\end{tabular}\n"
      ],
      "text/markdown": [
       "\n",
       "A data.frame: 17 × 2\n",
       "\n",
       "| name &lt;chr&gt; | footsize &lt;int&gt; |\n",
       "|---|---|\n",
       "| 강수친 | 245 |\n",
       "| 김길동 | 270 |\n",
       "| 김동수 | 265 |\n",
       "| 김미진 | 235 |\n",
       "| 김민수 | 270 |\n",
       "| 김철수 | 280 |\n",
       "| 박미희 | 240 |\n",
       "| 박수호 |  NA |\n",
       "| 방희철 | 275 |\n",
       "| 손세수 | 240 |\n",
       "| 여수근 | 265 |\n",
       "| 이미린 | 245 |\n",
       "| 이철린 |  NA |\n",
       "| 이희수 | 245 |\n",
       "| 이희진 | 245 |\n",
       "| 임동민 | 280 |\n",
       "| 홍길동 | 275 |\n",
       "\n"
      ],
      "text/plain": [
       "   name   footsize\n",
       "1  강수친 245     \n",
       "2  김길동 270     \n",
       "3  김동수 265     \n",
       "4  김미진 235     \n",
       "5  김민수 270     \n",
       "6  김철수 280     \n",
       "7  박미희 240     \n",
       "8  박수호  NA     \n",
       "9  방희철 275     \n",
       "10 손세수 240     \n",
       "11 여수근 265     \n",
       "12 이미린 245     \n",
       "13 이철린  NA     \n",
       "14 이희수 245     \n",
       "15 이희진 245     \n",
       "16 임동민 280     \n",
       "17 홍길동 275     "
      ]
     },
     "metadata": {},
     "output_type": "display_data"
    }
   ],
   "source": [
    "# 2개의 데이터프레임 합치기 - merge()\n",
    "df_1 <- read.csv('./rggagi/example_studentlist.csv')\n",
    "df_2 <- read.csv('./rggagi/omit.csv')\n",
    "df_1\n",
    "df_2"
   ]
  },
  {
   "cell_type": "code",
   "execution_count": 65,
   "id": "20263a8f",
   "metadata": {
    "scrolled": true
   },
   "outputs": [
    {
     "data": {
      "text/html": [
       "<table class=\"dataframe\">\n",
       "<caption>A data.frame: 17 × 9</caption>\n",
       "<thead>\n",
       "\t<tr><th scope=col>name</th><th scope=col>sex</th><th scope=col>age</th><th scope=col>grade</th><th scope=col>absence</th><th scope=col>bloodtype</th><th scope=col>height</th><th scope=col>weight</th><th scope=col>footsize</th></tr>\n",
       "\t<tr><th scope=col>&lt;chr&gt;</th><th scope=col>&lt;chr&gt;</th><th scope=col>&lt;int&gt;</th><th scope=col>&lt;int&gt;</th><th scope=col>&lt;chr&gt;</th><th scope=col>&lt;chr&gt;</th><th scope=col>&lt;dbl&gt;</th><th scope=col>&lt;dbl&gt;</th><th scope=col>&lt;int&gt;</th></tr>\n",
       "</thead>\n",
       "<tbody>\n",
       "\t<tr><td>강수친</td><td>여자</td><td>22</td><td>1</td><td>무</td><td>O </td><td>155.2</td><td>45.3</td><td>245</td></tr>\n",
       "\t<tr><td>김길동</td><td>남자</td><td>23</td><td>3</td><td>유</td><td>O </td><td>165.3</td><td>68.2</td><td>270</td></tr>\n",
       "\t<tr><td>김동수</td><td>남자</td><td>24</td><td>4</td><td>유</td><td>B </td><td>168.6</td><td>70.2</td><td>265</td></tr>\n",
       "\t<tr><td>김미진</td><td>여자</td><td>22</td><td>2</td><td>무</td><td>B </td><td>158.2</td><td>45.2</td><td>235</td></tr>\n",
       "\t<tr><td>김민수</td><td>남자</td><td>21</td><td>1</td><td>무</td><td>A </td><td>162.2</td><td>55.3</td><td>270</td></tr>\n",
       "\t<tr><td>김철수</td><td>남자</td><td>23</td><td>3</td><td>무</td><td>AB</td><td>182.1</td><td>85.7</td><td>280</td></tr>\n",
       "\t<tr><td>박미희</td><td>여자</td><td>21</td><td>2</td><td>무</td><td>O </td><td>162.0</td><td>52.0</td><td>240</td></tr>\n",
       "\t<tr><td>박수호</td><td>남자</td><td>24</td><td>4</td><td>유</td><td>O </td><td>167.1</td><td>62.0</td><td> NA</td></tr>\n",
       "\t<tr><td>방희철</td><td>남자</td><td>22</td><td>2</td><td>무</td><td>B </td><td>176.1</td><td>61.3</td><td>275</td></tr>\n",
       "\t<tr><td>손세수</td><td>여자</td><td>20</td><td>1</td><td>유</td><td>A </td><td>168.0</td><td>49.5</td><td>240</td></tr>\n",
       "\t<tr><td>여수근</td><td>남자</td><td>21</td><td>1</td><td>무</td><td>A </td><td>169.2</td><td>62.2</td><td>265</td></tr>\n",
       "\t<tr><td>이미린</td><td>여자</td><td>22</td><td>2</td><td>무</td><td>AB</td><td>170.1</td><td>53.0</td><td>245</td></tr>\n",
       "\t<tr><td>이철린</td><td>남자</td><td>23</td><td>3</td><td>무</td><td>B </td><td>178.5</td><td>64.2</td><td> NA</td></tr>\n",
       "\t<tr><td>이희수</td><td>여자</td><td>23</td><td>1</td><td>무</td><td>A </td><td>176.9</td><td>55.0</td><td>245</td></tr>\n",
       "\t<tr><td>이희진</td><td>여자</td><td>23</td><td>3</td><td>무</td><td>O </td><td>176.1</td><td>53.1</td><td>245</td></tr>\n",
       "\t<tr><td>임동민</td><td>남자</td><td>22</td><td>2</td><td>무</td><td>AB</td><td>180.0</td><td>75.8</td><td>280</td></tr>\n",
       "\t<tr><td>홍길동</td><td>남자</td><td>24</td><td>4</td><td>무</td><td>B </td><td>175.0</td><td>80.1</td><td>275</td></tr>\n",
       "</tbody>\n",
       "</table>\n"
      ],
      "text/latex": [
       "A data.frame: 17 × 9\n",
       "\\begin{tabular}{lllllllll}\n",
       " name & sex & age & grade & absence & bloodtype & height & weight & footsize\\\\\n",
       " <chr> & <chr> & <int> & <int> & <chr> & <chr> & <dbl> & <dbl> & <int>\\\\\n",
       "\\hline\n",
       "\t 강수친 & 여자 & 22 & 1 & 무 & O  & 155.2 & 45.3 & 245\\\\\n",
       "\t 김길동 & 남자 & 23 & 3 & 유 & O  & 165.3 & 68.2 & 270\\\\\n",
       "\t 김동수 & 남자 & 24 & 4 & 유 & B  & 168.6 & 70.2 & 265\\\\\n",
       "\t 김미진 & 여자 & 22 & 2 & 무 & B  & 158.2 & 45.2 & 235\\\\\n",
       "\t 김민수 & 남자 & 21 & 1 & 무 & A  & 162.2 & 55.3 & 270\\\\\n",
       "\t 김철수 & 남자 & 23 & 3 & 무 & AB & 182.1 & 85.7 & 280\\\\\n",
       "\t 박미희 & 여자 & 21 & 2 & 무 & O  & 162.0 & 52.0 & 240\\\\\n",
       "\t 박수호 & 남자 & 24 & 4 & 유 & O  & 167.1 & 62.0 &  NA\\\\\n",
       "\t 방희철 & 남자 & 22 & 2 & 무 & B  & 176.1 & 61.3 & 275\\\\\n",
       "\t 손세수 & 여자 & 20 & 1 & 유 & A  & 168.0 & 49.5 & 240\\\\\n",
       "\t 여수근 & 남자 & 21 & 1 & 무 & A  & 169.2 & 62.2 & 265\\\\\n",
       "\t 이미린 & 여자 & 22 & 2 & 무 & AB & 170.1 & 53.0 & 245\\\\\n",
       "\t 이철린 & 남자 & 23 & 3 & 무 & B  & 178.5 & 64.2 &  NA\\\\\n",
       "\t 이희수 & 여자 & 23 & 1 & 무 & A  & 176.9 & 55.0 & 245\\\\\n",
       "\t 이희진 & 여자 & 23 & 3 & 무 & O  & 176.1 & 53.1 & 245\\\\\n",
       "\t 임동민 & 남자 & 22 & 2 & 무 & AB & 180.0 & 75.8 & 280\\\\\n",
       "\t 홍길동 & 남자 & 24 & 4 & 무 & B  & 175.0 & 80.1 & 275\\\\\n",
       "\\end{tabular}\n"
      ],
      "text/markdown": [
       "\n",
       "A data.frame: 17 × 9\n",
       "\n",
       "| name &lt;chr&gt; | sex &lt;chr&gt; | age &lt;int&gt; | grade &lt;int&gt; | absence &lt;chr&gt; | bloodtype &lt;chr&gt; | height &lt;dbl&gt; | weight &lt;dbl&gt; | footsize &lt;int&gt; |\n",
       "|---|---|---|---|---|---|---|---|---|\n",
       "| 강수친 | 여자 | 22 | 1 | 무 | O  | 155.2 | 45.3 | 245 |\n",
       "| 김길동 | 남자 | 23 | 3 | 유 | O  | 165.3 | 68.2 | 270 |\n",
       "| 김동수 | 남자 | 24 | 4 | 유 | B  | 168.6 | 70.2 | 265 |\n",
       "| 김미진 | 여자 | 22 | 2 | 무 | B  | 158.2 | 45.2 | 235 |\n",
       "| 김민수 | 남자 | 21 | 1 | 무 | A  | 162.2 | 55.3 | 270 |\n",
       "| 김철수 | 남자 | 23 | 3 | 무 | AB | 182.1 | 85.7 | 280 |\n",
       "| 박미희 | 여자 | 21 | 2 | 무 | O  | 162.0 | 52.0 | 240 |\n",
       "| 박수호 | 남자 | 24 | 4 | 유 | O  | 167.1 | 62.0 |  NA |\n",
       "| 방희철 | 남자 | 22 | 2 | 무 | B  | 176.1 | 61.3 | 275 |\n",
       "| 손세수 | 여자 | 20 | 1 | 유 | A  | 168.0 | 49.5 | 240 |\n",
       "| 여수근 | 남자 | 21 | 1 | 무 | A  | 169.2 | 62.2 | 265 |\n",
       "| 이미린 | 여자 | 22 | 2 | 무 | AB | 170.1 | 53.0 | 245 |\n",
       "| 이철린 | 남자 | 23 | 3 | 무 | B  | 178.5 | 64.2 |  NA |\n",
       "| 이희수 | 여자 | 23 | 1 | 무 | A  | 176.9 | 55.0 | 245 |\n",
       "| 이희진 | 여자 | 23 | 3 | 무 | O  | 176.1 | 53.1 | 245 |\n",
       "| 임동민 | 남자 | 22 | 2 | 무 | AB | 180.0 | 75.8 | 280 |\n",
       "| 홍길동 | 남자 | 24 | 4 | 무 | B  | 175.0 | 80.1 | 275 |\n",
       "\n"
      ],
      "text/plain": [
       "   name   sex  age grade absence bloodtype height weight footsize\n",
       "1  강수친 여자 22  1     무      O         155.2  45.3   245     \n",
       "2  김길동 남자 23  3     유      O         165.3  68.2   270     \n",
       "3  김동수 남자 24  4     유      B         168.6  70.2   265     \n",
       "4  김미진 여자 22  2     무      B         158.2  45.2   235     \n",
       "5  김민수 남자 21  1     무      A         162.2  55.3   270     \n",
       "6  김철수 남자 23  3     무      AB        182.1  85.7   280     \n",
       "7  박미희 여자 21  2     무      O         162.0  52.0   240     \n",
       "8  박수호 남자 24  4     유      O         167.1  62.0    NA     \n",
       "9  방희철 남자 22  2     무      B         176.1  61.3   275     \n",
       "10 손세수 여자 20  1     유      A         168.0  49.5   240     \n",
       "11 여수근 남자 21  1     무      A         169.2  62.2   265     \n",
       "12 이미린 여자 22  2     무      AB        170.1  53.0   245     \n",
       "13 이철린 남자 23  3     무      B         178.5  64.2    NA     \n",
       "14 이희수 여자 23  1     무      A         176.9  55.0   245     \n",
       "15 이희진 여자 23  3     무      O         176.1  53.1   245     \n",
       "16 임동민 남자 22  2     무      AB        180.0  75.8   280     \n",
       "17 홍길동 남자 24  4     무      B         175.0  80.1   275     "
      ]
     },
     "metadata": {},
     "output_type": "display_data"
    }
   ],
   "source": [
    "df_merge <- merge(df_1, df_2, by='name')\n",
    "df_merge\n",
    "\n",
    "# merge 함수로 df_1, df_2를 name을 기준으로 묻어라. "
   ]
  },
  {
   "cell_type": "code",
   "execution_count": 67,
   "id": "26874a68",
   "metadata": {},
   "outputs": [
    {
     "data": {
      "text/html": [
       "<table class=\"dataframe\">\n",
       "<caption>A data.frame: 6 × 9</caption>\n",
       "<thead>\n",
       "\t<tr><th></th><th scope=col>name</th><th scope=col>sex</th><th scope=col>age</th><th scope=col>grade</th><th scope=col>absence</th><th scope=col>bloodtype</th><th scope=col>height</th><th scope=col>weight</th><th scope=col>footsize</th></tr>\n",
       "\t<tr><th></th><th scope=col>&lt;chr&gt;</th><th scope=col>&lt;chr&gt;</th><th scope=col>&lt;int&gt;</th><th scope=col>&lt;int&gt;</th><th scope=col>&lt;chr&gt;</th><th scope=col>&lt;chr&gt;</th><th scope=col>&lt;dbl&gt;</th><th scope=col>&lt;dbl&gt;</th><th scope=col>&lt;int&gt;</th></tr>\n",
       "</thead>\n",
       "<tbody>\n",
       "\t<tr><th scope=row>1</th><td>강수친</td><td>여자</td><td>22</td><td>1</td><td>무</td><td>O </td><td>155.2</td><td>45.3</td><td>245</td></tr>\n",
       "\t<tr><th scope=row>2</th><td>김길동</td><td>남자</td><td>23</td><td>3</td><td>유</td><td>O </td><td>165.3</td><td>68.2</td><td>270</td></tr>\n",
       "\t<tr><th scope=row>3</th><td>김동수</td><td>남자</td><td>24</td><td>4</td><td>유</td><td>B </td><td>168.6</td><td>70.2</td><td>265</td></tr>\n",
       "\t<tr><th scope=row>4</th><td>김미진</td><td>여자</td><td>22</td><td>2</td><td>무</td><td>B </td><td>158.2</td><td>45.2</td><td>235</td></tr>\n",
       "\t<tr><th scope=row>5</th><td>김민수</td><td>남자</td><td>21</td><td>1</td><td>무</td><td>A </td><td>162.2</td><td>55.3</td><td>270</td></tr>\n",
       "\t<tr><th scope=row>6</th><td>김철수</td><td>남자</td><td>23</td><td>3</td><td>무</td><td>AB</td><td>182.1</td><td>85.7</td><td>280</td></tr>\n",
       "</tbody>\n",
       "</table>\n"
      ],
      "text/latex": [
       "A data.frame: 6 × 9\n",
       "\\begin{tabular}{r|lllllllll}\n",
       "  & name & sex & age & grade & absence & bloodtype & height & weight & footsize\\\\\n",
       "  & <chr> & <chr> & <int> & <int> & <chr> & <chr> & <dbl> & <dbl> & <int>\\\\\n",
       "\\hline\n",
       "\t1 & 강수친 & 여자 & 22 & 1 & 무 & O  & 155.2 & 45.3 & 245\\\\\n",
       "\t2 & 김길동 & 남자 & 23 & 3 & 유 & O  & 165.3 & 68.2 & 270\\\\\n",
       "\t3 & 김동수 & 남자 & 24 & 4 & 유 & B  & 168.6 & 70.2 & 265\\\\\n",
       "\t4 & 김미진 & 여자 & 22 & 2 & 무 & B  & 158.2 & 45.2 & 235\\\\\n",
       "\t5 & 김민수 & 남자 & 21 & 1 & 무 & A  & 162.2 & 55.3 & 270\\\\\n",
       "\t6 & 김철수 & 남자 & 23 & 3 & 무 & AB & 182.1 & 85.7 & 280\\\\\n",
       "\\end{tabular}\n"
      ],
      "text/markdown": [
       "\n",
       "A data.frame: 6 × 9\n",
       "\n",
       "| <!--/--> | name &lt;chr&gt; | sex &lt;chr&gt; | age &lt;int&gt; | grade &lt;int&gt; | absence &lt;chr&gt; | bloodtype &lt;chr&gt; | height &lt;dbl&gt; | weight &lt;dbl&gt; | footsize &lt;int&gt; |\n",
       "|---|---|---|---|---|---|---|---|---|---|\n",
       "| 1 | 강수친 | 여자 | 22 | 1 | 무 | O  | 155.2 | 45.3 | 245 |\n",
       "| 2 | 김길동 | 남자 | 23 | 3 | 유 | O  | 165.3 | 68.2 | 270 |\n",
       "| 3 | 김동수 | 남자 | 24 | 4 | 유 | B  | 168.6 | 70.2 | 265 |\n",
       "| 4 | 김미진 | 여자 | 22 | 2 | 무 | B  | 158.2 | 45.2 | 235 |\n",
       "| 5 | 김민수 | 남자 | 21 | 1 | 무 | A  | 162.2 | 55.3 | 270 |\n",
       "| 6 | 김철수 | 남자 | 23 | 3 | 무 | AB | 182.1 | 85.7 | 280 |\n",
       "\n"
      ],
      "text/plain": [
       "  name   sex  age grade absence bloodtype height weight footsize\n",
       "1 강수친 여자 22  1     무      O         155.2  45.3   245     \n",
       "2 김길동 남자 23  3     유      O         165.3  68.2   270     \n",
       "3 김동수 남자 24  4     유      B         168.6  70.2   265     \n",
       "4 김미진 여자 22  2     무      B         158.2  45.2   235     \n",
       "5 김민수 남자 21  1     무      A         162.2  55.3   270     \n",
       "6 김철수 남자 23  3     무      AB        182.1  85.7   280     "
      ]
     },
     "metadata": {},
     "output_type": "display_data"
    },
    {
     "data": {
      "text/html": [
       "<table class=\"dataframe\">\n",
       "<caption>A data.frame: 6 × 9</caption>\n",
       "<thead>\n",
       "\t<tr><th></th><th scope=col>name</th><th scope=col>sex</th><th scope=col>age</th><th scope=col>grade</th><th scope=col>absence</th><th scope=col>bloodtype</th><th scope=col>height</th><th scope=col>weight</th><th scope=col>footsize</th></tr>\n",
       "\t<tr><th></th><th scope=col>&lt;chr&gt;</th><th scope=col>&lt;chr&gt;</th><th scope=col>&lt;int&gt;</th><th scope=col>&lt;int&gt;</th><th scope=col>&lt;chr&gt;</th><th scope=col>&lt;chr&gt;</th><th scope=col>&lt;dbl&gt;</th><th scope=col>&lt;dbl&gt;</th><th scope=col>&lt;int&gt;</th></tr>\n",
       "</thead>\n",
       "<tbody>\n",
       "\t<tr><th scope=row>12</th><td>이미린</td><td>여자</td><td>22</td><td>2</td><td>무</td><td>AB</td><td>170.1</td><td>53.0</td><td>245</td></tr>\n",
       "\t<tr><th scope=row>13</th><td>이철린</td><td>남자</td><td>23</td><td>3</td><td>무</td><td>B </td><td>178.5</td><td>64.2</td><td> NA</td></tr>\n",
       "\t<tr><th scope=row>14</th><td>이희수</td><td>여자</td><td>23</td><td>1</td><td>무</td><td>A </td><td>176.9</td><td>55.0</td><td>245</td></tr>\n",
       "\t<tr><th scope=row>15</th><td>이희진</td><td>여자</td><td>23</td><td>3</td><td>무</td><td>O </td><td>176.1</td><td>53.1</td><td>245</td></tr>\n",
       "\t<tr><th scope=row>16</th><td>임동민</td><td>남자</td><td>22</td><td>2</td><td>무</td><td>AB</td><td>180.0</td><td>75.8</td><td>280</td></tr>\n",
       "\t<tr><th scope=row>17</th><td>홍길동</td><td>남자</td><td>24</td><td>4</td><td>무</td><td>B </td><td>175.0</td><td>80.1</td><td>275</td></tr>\n",
       "</tbody>\n",
       "</table>\n"
      ],
      "text/latex": [
       "A data.frame: 6 × 9\n",
       "\\begin{tabular}{r|lllllllll}\n",
       "  & name & sex & age & grade & absence & bloodtype & height & weight & footsize\\\\\n",
       "  & <chr> & <chr> & <int> & <int> & <chr> & <chr> & <dbl> & <dbl> & <int>\\\\\n",
       "\\hline\n",
       "\t12 & 이미린 & 여자 & 22 & 2 & 무 & AB & 170.1 & 53.0 & 245\\\\\n",
       "\t13 & 이철린 & 남자 & 23 & 3 & 무 & B  & 178.5 & 64.2 &  NA\\\\\n",
       "\t14 & 이희수 & 여자 & 23 & 1 & 무 & A  & 176.9 & 55.0 & 245\\\\\n",
       "\t15 & 이희진 & 여자 & 23 & 3 & 무 & O  & 176.1 & 53.1 & 245\\\\\n",
       "\t16 & 임동민 & 남자 & 22 & 2 & 무 & AB & 180.0 & 75.8 & 280\\\\\n",
       "\t17 & 홍길동 & 남자 & 24 & 4 & 무 & B  & 175.0 & 80.1 & 275\\\\\n",
       "\\end{tabular}\n"
      ],
      "text/markdown": [
       "\n",
       "A data.frame: 6 × 9\n",
       "\n",
       "| <!--/--> | name &lt;chr&gt; | sex &lt;chr&gt; | age &lt;int&gt; | grade &lt;int&gt; | absence &lt;chr&gt; | bloodtype &lt;chr&gt; | height &lt;dbl&gt; | weight &lt;dbl&gt; | footsize &lt;int&gt; |\n",
       "|---|---|---|---|---|---|---|---|---|---|\n",
       "| 12 | 이미린 | 여자 | 22 | 2 | 무 | AB | 170.1 | 53.0 | 245 |\n",
       "| 13 | 이철린 | 남자 | 23 | 3 | 무 | B  | 178.5 | 64.2 |  NA |\n",
       "| 14 | 이희수 | 여자 | 23 | 1 | 무 | A  | 176.9 | 55.0 | 245 |\n",
       "| 15 | 이희진 | 여자 | 23 | 3 | 무 | O  | 176.1 | 53.1 | 245 |\n",
       "| 16 | 임동민 | 남자 | 22 | 2 | 무 | AB | 180.0 | 75.8 | 280 |\n",
       "| 17 | 홍길동 | 남자 | 24 | 4 | 무 | B  | 175.0 | 80.1 | 275 |\n",
       "\n"
      ],
      "text/plain": [
       "   name   sex  age grade absence bloodtype height weight footsize\n",
       "12 이미린 여자 22  2     무      AB        170.1  53.0   245     \n",
       "13 이철린 남자 23  3     무      B         178.5  64.2    NA     \n",
       "14 이희수 여자 23  1     무      A         176.9  55.0   245     \n",
       "15 이희진 여자 23  3     무      O         176.1  53.1   245     \n",
       "16 임동민 남자 22  2     무      AB        180.0  75.8   280     \n",
       "17 홍길동 남자 24  4     무      B         175.0  80.1   275     "
      ]
     },
     "metadata": {},
     "output_type": "display_data"
    }
   ],
   "source": [
    "# 행으로 추가하기 - rbind\n",
    "# 같은 이름의 열 이름을 가지고 있어야 함\n",
    "df_head <- head(df_merge)\n",
    "df_tail <- tail(df_merge)\n",
    "df_head\n",
    "df_tail"
   ]
  },
  {
   "cell_type": "code",
   "execution_count": 68,
   "id": "d0b6a1e9",
   "metadata": {
    "scrolled": true
   },
   "outputs": [
    {
     "data": {
      "text/html": [
       "<table class=\"dataframe\">\n",
       "<caption>A data.frame: 12 × 9</caption>\n",
       "<thead>\n",
       "\t<tr><th></th><th scope=col>name</th><th scope=col>sex</th><th scope=col>age</th><th scope=col>grade</th><th scope=col>absence</th><th scope=col>bloodtype</th><th scope=col>height</th><th scope=col>weight</th><th scope=col>footsize</th></tr>\n",
       "\t<tr><th></th><th scope=col>&lt;chr&gt;</th><th scope=col>&lt;chr&gt;</th><th scope=col>&lt;int&gt;</th><th scope=col>&lt;int&gt;</th><th scope=col>&lt;chr&gt;</th><th scope=col>&lt;chr&gt;</th><th scope=col>&lt;dbl&gt;</th><th scope=col>&lt;dbl&gt;</th><th scope=col>&lt;int&gt;</th></tr>\n",
       "</thead>\n",
       "<tbody>\n",
       "\t<tr><th scope=row>1</th><td>강수친</td><td>여자</td><td>22</td><td>1</td><td>무</td><td>O </td><td>155.2</td><td>45.3</td><td>245</td></tr>\n",
       "\t<tr><th scope=row>2</th><td>김길동</td><td>남자</td><td>23</td><td>3</td><td>유</td><td>O </td><td>165.3</td><td>68.2</td><td>270</td></tr>\n",
       "\t<tr><th scope=row>3</th><td>김동수</td><td>남자</td><td>24</td><td>4</td><td>유</td><td>B </td><td>168.6</td><td>70.2</td><td>265</td></tr>\n",
       "\t<tr><th scope=row>4</th><td>김미진</td><td>여자</td><td>22</td><td>2</td><td>무</td><td>B </td><td>158.2</td><td>45.2</td><td>235</td></tr>\n",
       "\t<tr><th scope=row>5</th><td>김민수</td><td>남자</td><td>21</td><td>1</td><td>무</td><td>A </td><td>162.2</td><td>55.3</td><td>270</td></tr>\n",
       "\t<tr><th scope=row>6</th><td>김철수</td><td>남자</td><td>23</td><td>3</td><td>무</td><td>AB</td><td>182.1</td><td>85.7</td><td>280</td></tr>\n",
       "\t<tr><th scope=row>12</th><td>이미린</td><td>여자</td><td>22</td><td>2</td><td>무</td><td>AB</td><td>170.1</td><td>53.0</td><td>245</td></tr>\n",
       "\t<tr><th scope=row>13</th><td>이철린</td><td>남자</td><td>23</td><td>3</td><td>무</td><td>B </td><td>178.5</td><td>64.2</td><td> NA</td></tr>\n",
       "\t<tr><th scope=row>14</th><td>이희수</td><td>여자</td><td>23</td><td>1</td><td>무</td><td>A </td><td>176.9</td><td>55.0</td><td>245</td></tr>\n",
       "\t<tr><th scope=row>15</th><td>이희진</td><td>여자</td><td>23</td><td>3</td><td>무</td><td>O </td><td>176.1</td><td>53.1</td><td>245</td></tr>\n",
       "\t<tr><th scope=row>16</th><td>임동민</td><td>남자</td><td>22</td><td>2</td><td>무</td><td>AB</td><td>180.0</td><td>75.8</td><td>280</td></tr>\n",
       "\t<tr><th scope=row>17</th><td>홍길동</td><td>남자</td><td>24</td><td>4</td><td>무</td><td>B </td><td>175.0</td><td>80.1</td><td>275</td></tr>\n",
       "</tbody>\n",
       "</table>\n"
      ],
      "text/latex": [
       "A data.frame: 12 × 9\n",
       "\\begin{tabular}{r|lllllllll}\n",
       "  & name & sex & age & grade & absence & bloodtype & height & weight & footsize\\\\\n",
       "  & <chr> & <chr> & <int> & <int> & <chr> & <chr> & <dbl> & <dbl> & <int>\\\\\n",
       "\\hline\n",
       "\t1 & 강수친 & 여자 & 22 & 1 & 무 & O  & 155.2 & 45.3 & 245\\\\\n",
       "\t2 & 김길동 & 남자 & 23 & 3 & 유 & O  & 165.3 & 68.2 & 270\\\\\n",
       "\t3 & 김동수 & 남자 & 24 & 4 & 유 & B  & 168.6 & 70.2 & 265\\\\\n",
       "\t4 & 김미진 & 여자 & 22 & 2 & 무 & B  & 158.2 & 45.2 & 235\\\\\n",
       "\t5 & 김민수 & 남자 & 21 & 1 & 무 & A  & 162.2 & 55.3 & 270\\\\\n",
       "\t6 & 김철수 & 남자 & 23 & 3 & 무 & AB & 182.1 & 85.7 & 280\\\\\n",
       "\t12 & 이미린 & 여자 & 22 & 2 & 무 & AB & 170.1 & 53.0 & 245\\\\\n",
       "\t13 & 이철린 & 남자 & 23 & 3 & 무 & B  & 178.5 & 64.2 &  NA\\\\\n",
       "\t14 & 이희수 & 여자 & 23 & 1 & 무 & A  & 176.9 & 55.0 & 245\\\\\n",
       "\t15 & 이희진 & 여자 & 23 & 3 & 무 & O  & 176.1 & 53.1 & 245\\\\\n",
       "\t16 & 임동민 & 남자 & 22 & 2 & 무 & AB & 180.0 & 75.8 & 280\\\\\n",
       "\t17 & 홍길동 & 남자 & 24 & 4 & 무 & B  & 175.0 & 80.1 & 275\\\\\n",
       "\\end{tabular}\n"
      ],
      "text/markdown": [
       "\n",
       "A data.frame: 12 × 9\n",
       "\n",
       "| <!--/--> | name &lt;chr&gt; | sex &lt;chr&gt; | age &lt;int&gt; | grade &lt;int&gt; | absence &lt;chr&gt; | bloodtype &lt;chr&gt; | height &lt;dbl&gt; | weight &lt;dbl&gt; | footsize &lt;int&gt; |\n",
       "|---|---|---|---|---|---|---|---|---|---|\n",
       "| 1 | 강수친 | 여자 | 22 | 1 | 무 | O  | 155.2 | 45.3 | 245 |\n",
       "| 2 | 김길동 | 남자 | 23 | 3 | 유 | O  | 165.3 | 68.2 | 270 |\n",
       "| 3 | 김동수 | 남자 | 24 | 4 | 유 | B  | 168.6 | 70.2 | 265 |\n",
       "| 4 | 김미진 | 여자 | 22 | 2 | 무 | B  | 158.2 | 45.2 | 235 |\n",
       "| 5 | 김민수 | 남자 | 21 | 1 | 무 | A  | 162.2 | 55.3 | 270 |\n",
       "| 6 | 김철수 | 남자 | 23 | 3 | 무 | AB | 182.1 | 85.7 | 280 |\n",
       "| 12 | 이미린 | 여자 | 22 | 2 | 무 | AB | 170.1 | 53.0 | 245 |\n",
       "| 13 | 이철린 | 남자 | 23 | 3 | 무 | B  | 178.5 | 64.2 |  NA |\n",
       "| 14 | 이희수 | 여자 | 23 | 1 | 무 | A  | 176.9 | 55.0 | 245 |\n",
       "| 15 | 이희진 | 여자 | 23 | 3 | 무 | O  | 176.1 | 53.1 | 245 |\n",
       "| 16 | 임동민 | 남자 | 22 | 2 | 무 | AB | 180.0 | 75.8 | 280 |\n",
       "| 17 | 홍길동 | 남자 | 24 | 4 | 무 | B  | 175.0 | 80.1 | 275 |\n",
       "\n"
      ],
      "text/plain": [
       "   name   sex  age grade absence bloodtype height weight footsize\n",
       "1  강수친 여자 22  1     무      O         155.2  45.3   245     \n",
       "2  김길동 남자 23  3     유      O         165.3  68.2   270     \n",
       "3  김동수 남자 24  4     유      B         168.6  70.2   265     \n",
       "4  김미진 여자 22  2     무      B         158.2  45.2   235     \n",
       "5  김민수 남자 21  1     무      A         162.2  55.3   270     \n",
       "6  김철수 남자 23  3     무      AB        182.1  85.7   280     \n",
       "12 이미린 여자 22  2     무      AB        170.1  53.0   245     \n",
       "13 이철린 남자 23  3     무      B         178.5  64.2    NA     \n",
       "14 이희수 여자 23  1     무      A         176.9  55.0   245     \n",
       "15 이희진 여자 23  3     무      O         176.1  53.1   245     \n",
       "16 임동민 남자 22  2     무      AB        180.0  75.8   280     \n",
       "17 홍길동 남자 24  4     무      B         175.0  80.1   275     "
      ]
     },
     "metadata": {},
     "output_type": "display_data"
    }
   ],
   "source": [
    "df_rbind <- rbind(df_head, df_tail)\n",
    "df_rbind"
   ]
  },
  {
   "cell_type": "code",
   "execution_count": 69,
   "id": "9780f39f",
   "metadata": {},
   "outputs": [
    {
     "data": {
      "text/html": [
       "<ol>\n",
       "\t<li><table class=\"dataframe\">\n",
       "<caption>A data.frame: 17 × 8</caption>\n",
       "<thead>\n",
       "\t<tr><th scope=col>name</th><th scope=col>sex</th><th scope=col>age</th><th scope=col>grade</th><th scope=col>absence</th><th scope=col>bloodtype</th><th scope=col>height</th><th scope=col>weight</th></tr>\n",
       "\t<tr><th scope=col>&lt;chr&gt;</th><th scope=col>&lt;chr&gt;</th><th scope=col>&lt;int&gt;</th><th scope=col>&lt;int&gt;</th><th scope=col>&lt;chr&gt;</th><th scope=col>&lt;chr&gt;</th><th scope=col>&lt;dbl&gt;</th><th scope=col>&lt;dbl&gt;</th></tr>\n",
       "</thead>\n",
       "<tbody>\n",
       "\t<tr><td>김길동</td><td>남자</td><td>23</td><td>3</td><td>유</td><td>O </td><td>165.3</td><td>68.2</td></tr>\n",
       "\t<tr><td>이미린</td><td>여자</td><td>22</td><td>2</td><td>무</td><td>AB</td><td>170.1</td><td>53.0</td></tr>\n",
       "\t<tr><td>홍길동</td><td>남자</td><td>24</td><td>4</td><td>무</td><td>B </td><td>175.0</td><td>80.1</td></tr>\n",
       "\t<tr><td>김철수</td><td>남자</td><td>23</td><td>3</td><td>무</td><td>AB</td><td>182.1</td><td>85.7</td></tr>\n",
       "\t<tr><td>손세수</td><td>여자</td><td>20</td><td>1</td><td>유</td><td>A </td><td>168.0</td><td>49.5</td></tr>\n",
       "\t<tr><td>박미희</td><td>여자</td><td>21</td><td>2</td><td>무</td><td>O </td><td>162.0</td><td>52.0</td></tr>\n",
       "\t<tr><td>강수친</td><td>여자</td><td>22</td><td>1</td><td>무</td><td>O </td><td>155.2</td><td>45.3</td></tr>\n",
       "\t<tr><td>이희수</td><td>여자</td><td>23</td><td>1</td><td>무</td><td>A </td><td>176.9</td><td>55.0</td></tr>\n",
       "\t<tr><td>이철린</td><td>남자</td><td>23</td><td>3</td><td>무</td><td>B </td><td>178.5</td><td>64.2</td></tr>\n",
       "\t<tr><td>방희철</td><td>남자</td><td>22</td><td>2</td><td>무</td><td>B </td><td>176.1</td><td>61.3</td></tr>\n",
       "\t<tr><td>박수호</td><td>남자</td><td>24</td><td>4</td><td>유</td><td>O </td><td>167.1</td><td>62.0</td></tr>\n",
       "\t<tr><td>임동민</td><td>남자</td><td>22</td><td>2</td><td>무</td><td>AB</td><td>180.0</td><td>75.8</td></tr>\n",
       "\t<tr><td>김민수</td><td>남자</td><td>21</td><td>1</td><td>무</td><td>A </td><td>162.2</td><td>55.3</td></tr>\n",
       "\t<tr><td>이희진</td><td>여자</td><td>23</td><td>3</td><td>무</td><td>O </td><td>176.1</td><td>53.1</td></tr>\n",
       "\t<tr><td>김미진</td><td>여자</td><td>22</td><td>2</td><td>무</td><td>B </td><td>158.2</td><td>45.2</td></tr>\n",
       "\t<tr><td>김동수</td><td>남자</td><td>24</td><td>4</td><td>유</td><td>B </td><td>168.6</td><td>70.2</td></tr>\n",
       "\t<tr><td>여수근</td><td>남자</td><td>21</td><td>1</td><td>무</td><td>A </td><td>169.2</td><td>62.2</td></tr>\n",
       "</tbody>\n",
       "</table>\n",
       "</li>\n",
       "\t<li><style>\n",
       ".list-inline {list-style: none; margin:0; padding: 0}\n",
       ".list-inline>li {display: inline-block}\n",
       ".list-inline>li:not(:last-child)::after {content: \"\\00b7\"; padding: 0 .5ex}\n",
       "</style>\n",
       "<ol class=list-inline><li>1</li><li>2</li><li>3</li><li>4</li><li>5</li><li>6</li><li>7</li><li>8</li><li>9</li><li>10</li><li>11</li><li>12</li><li>13</li><li>14</li><li>15</li><li>16</li><li>17</li><li>18</li><li>19</li><li>20</li></ol>\n",
       "</li>\n",
       "\t<li><style>\n",
       ".list-inline {list-style: none; margin:0; padding: 0}\n",
       ".list-inline>li {display: inline-block}\n",
       ".list-inline>li:not(:last-child)::after {content: \"\\00b7\"; padding: 0 .5ex}\n",
       "</style>\n",
       "<ol class=list-inline><li>'a'</li><li>'b'</li><li>'c'</li></ol>\n",
       "</li>\n",
       "\t<li><style>\n",
       ".list-inline {list-style: none; margin:0; padding: 0}\n",
       ".list-inline>li {display: inline-block}\n",
       ".list-inline>li:not(:last-child)::after {content: \"\\00b7\"; padding: 0 .5ex}\n",
       "</style>\n",
       "<ol class=list-inline><li>TRUE</li><li>FALSE</li><li>TRUE</li><li>FALSE</li><li>TRUE</li></ol>\n",
       "</li>\n",
       "\t<li><pre class=language-r><code>function (x, ...) \n",
       "UseMethod(\"mean\")</code></pre></li>\n",
       "</ol>\n"
      ],
      "text/latex": [
       "\\begin{enumerate}\n",
       "\\item A data.frame: 17 × 8\n",
       "\\begin{tabular}{llllllll}\n",
       " name & sex & age & grade & absence & bloodtype & height & weight\\\\\n",
       " <chr> & <chr> & <int> & <int> & <chr> & <chr> & <dbl> & <dbl>\\\\\n",
       "\\hline\n",
       "\t 김길동 & 남자 & 23 & 3 & 유 & O  & 165.3 & 68.2\\\\\n",
       "\t 이미린 & 여자 & 22 & 2 & 무 & AB & 170.1 & 53.0\\\\\n",
       "\t 홍길동 & 남자 & 24 & 4 & 무 & B  & 175.0 & 80.1\\\\\n",
       "\t 김철수 & 남자 & 23 & 3 & 무 & AB & 182.1 & 85.7\\\\\n",
       "\t 손세수 & 여자 & 20 & 1 & 유 & A  & 168.0 & 49.5\\\\\n",
       "\t 박미희 & 여자 & 21 & 2 & 무 & O  & 162.0 & 52.0\\\\\n",
       "\t 강수친 & 여자 & 22 & 1 & 무 & O  & 155.2 & 45.3\\\\\n",
       "\t 이희수 & 여자 & 23 & 1 & 무 & A  & 176.9 & 55.0\\\\\n",
       "\t 이철린 & 남자 & 23 & 3 & 무 & B  & 178.5 & 64.2\\\\\n",
       "\t 방희철 & 남자 & 22 & 2 & 무 & B  & 176.1 & 61.3\\\\\n",
       "\t 박수호 & 남자 & 24 & 4 & 유 & O  & 167.1 & 62.0\\\\\n",
       "\t 임동민 & 남자 & 22 & 2 & 무 & AB & 180.0 & 75.8\\\\\n",
       "\t 김민수 & 남자 & 21 & 1 & 무 & A  & 162.2 & 55.3\\\\\n",
       "\t 이희진 & 여자 & 23 & 3 & 무 & O  & 176.1 & 53.1\\\\\n",
       "\t 김미진 & 여자 & 22 & 2 & 무 & B  & 158.2 & 45.2\\\\\n",
       "\t 김동수 & 남자 & 24 & 4 & 유 & B  & 168.6 & 70.2\\\\\n",
       "\t 여수근 & 남자 & 21 & 1 & 무 & A  & 169.2 & 62.2\\\\\n",
       "\\end{tabular}\n",
       "\n",
       "\\item \\begin{enumerate*}\n",
       "\\item 1\n",
       "\\item 2\n",
       "\\item 3\n",
       "\\item 4\n",
       "\\item 5\n",
       "\\item 6\n",
       "\\item 7\n",
       "\\item 8\n",
       "\\item 9\n",
       "\\item 10\n",
       "\\item 11\n",
       "\\item 12\n",
       "\\item 13\n",
       "\\item 14\n",
       "\\item 15\n",
       "\\item 16\n",
       "\\item 17\n",
       "\\item 18\n",
       "\\item 19\n",
       "\\item 20\n",
       "\\end{enumerate*}\n",
       "\n",
       "\\item \\begin{enumerate*}\n",
       "\\item 'a'\n",
       "\\item 'b'\n",
       "\\item 'c'\n",
       "\\end{enumerate*}\n",
       "\n",
       "\\item \\begin{enumerate*}\n",
       "\\item TRUE\n",
       "\\item FALSE\n",
       "\\item TRUE\n",
       "\\item FALSE\n",
       "\\item TRUE\n",
       "\\end{enumerate*}\n",
       "\n",
       "\\item \\begin{minted}{r}\n",
       "function (x, ...) \n",
       "UseMethod(\"mean\")\n",
       "\\end{minted}\n",
       "\\end{enumerate}\n"
      ],
      "text/markdown": [
       "1. \n",
       "A data.frame: 17 × 8\n",
       "\n",
       "| name &lt;chr&gt; | sex &lt;chr&gt; | age &lt;int&gt; | grade &lt;int&gt; | absence &lt;chr&gt; | bloodtype &lt;chr&gt; | height &lt;dbl&gt; | weight &lt;dbl&gt; |\n",
       "|---|---|---|---|---|---|---|---|\n",
       "| 김길동 | 남자 | 23 | 3 | 유 | O  | 165.3 | 68.2 |\n",
       "| 이미린 | 여자 | 22 | 2 | 무 | AB | 170.1 | 53.0 |\n",
       "| 홍길동 | 남자 | 24 | 4 | 무 | B  | 175.0 | 80.1 |\n",
       "| 김철수 | 남자 | 23 | 3 | 무 | AB | 182.1 | 85.7 |\n",
       "| 손세수 | 여자 | 20 | 1 | 유 | A  | 168.0 | 49.5 |\n",
       "| 박미희 | 여자 | 21 | 2 | 무 | O  | 162.0 | 52.0 |\n",
       "| 강수친 | 여자 | 22 | 1 | 무 | O  | 155.2 | 45.3 |\n",
       "| 이희수 | 여자 | 23 | 1 | 무 | A  | 176.9 | 55.0 |\n",
       "| 이철린 | 남자 | 23 | 3 | 무 | B  | 178.5 | 64.2 |\n",
       "| 방희철 | 남자 | 22 | 2 | 무 | B  | 176.1 | 61.3 |\n",
       "| 박수호 | 남자 | 24 | 4 | 유 | O  | 167.1 | 62.0 |\n",
       "| 임동민 | 남자 | 22 | 2 | 무 | AB | 180.0 | 75.8 |\n",
       "| 김민수 | 남자 | 21 | 1 | 무 | A  | 162.2 | 55.3 |\n",
       "| 이희진 | 여자 | 23 | 3 | 무 | O  | 176.1 | 53.1 |\n",
       "| 김미진 | 여자 | 22 | 2 | 무 | B  | 158.2 | 45.2 |\n",
       "| 김동수 | 남자 | 24 | 4 | 유 | B  | 168.6 | 70.2 |\n",
       "| 여수근 | 남자 | 21 | 1 | 무 | A  | 169.2 | 62.2 |\n",
       "\n",
       "\n",
       "2. 1. 1\n",
       "2. 2\n",
       "3. 3\n",
       "4. 4\n",
       "5. 5\n",
       "6. 6\n",
       "7. 7\n",
       "8. 8\n",
       "9. 9\n",
       "10. 10\n",
       "11. 11\n",
       "12. 12\n",
       "13. 13\n",
       "14. 14\n",
       "15. 15\n",
       "16. 16\n",
       "17. 17\n",
       "18. 18\n",
       "19. 19\n",
       "20. 20\n",
       "\n",
       "\n",
       "\n",
       "3. 1. 'a'\n",
       "2. 'b'\n",
       "3. 'c'\n",
       "\n",
       "\n",
       "\n",
       "4. 1. TRUE\n",
       "2. FALSE\n",
       "3. TRUE\n",
       "4. FALSE\n",
       "5. TRUE\n",
       "\n",
       "\n",
       "\n",
       "5. ```r\n",
       "function (x, ...) \n",
       "UseMethod(\"mean\")\n",
       "```\n",
       "\n",
       "\n"
      ],
      "text/plain": [
       "[[1]]\n",
       "     name  sex age grade absence bloodtype height weight\n",
       "1  김길동 남자  23     3      유         O  165.3   68.2\n",
       "2  이미린 여자  22     2      무        AB  170.1   53.0\n",
       "3  홍길동 남자  24     4      무         B  175.0   80.1\n",
       "4  김철수 남자  23     3      무        AB  182.1   85.7\n",
       "5  손세수 여자  20     1      유         A  168.0   49.5\n",
       "6  박미희 여자  21     2      무         O  162.0   52.0\n",
       "7  강수친 여자  22     1      무         O  155.2   45.3\n",
       "8  이희수 여자  23     1      무         A  176.9   55.0\n",
       "9  이철린 남자  23     3      무         B  178.5   64.2\n",
       "10 방희철 남자  22     2      무         B  176.1   61.3\n",
       "11 박수호 남자  24     4      유         O  167.1   62.0\n",
       "12 임동민 남자  22     2      무        AB  180.0   75.8\n",
       "13 김민수 남자  21     1      무         A  162.2   55.3\n",
       "14 이희진 여자  23     3      무         O  176.1   53.1\n",
       "15 김미진 여자  22     2      무         B  158.2   45.2\n",
       "16 김동수 남자  24     4      유         B  168.6   70.2\n",
       "17 여수근 남자  21     1      무         A  169.2   62.2\n",
       "\n",
       "[[2]]\n",
       " [1]  1  2  3  4  5  6  7  8  9 10 11 12 13 14 15 16 17 18 19 20\n",
       "\n",
       "[[3]]\n",
       "[1] \"a\" \"b\" \"c\"\n",
       "\n",
       "[[4]]\n",
       "[1]  TRUE FALSE  TRUE FALSE  TRUE\n",
       "\n",
       "[[5]]\n",
       "function (x, ...) \n",
       "UseMethod(\"mean\")\n",
       "<bytecode: 0x0000000009ca8b88>\n",
       "<environment: namespace:base>\n"
      ]
     },
     "metadata": {},
     "output_type": "display_data"
    }
   ],
   "source": [
    "# 모든 종류의 데이터 객체 담기 - list\n",
    "df <- read.csv('./rggagi/example_studentlist.csv')\n",
    "n <- c(1:20)\n",
    "s <- c('a','b','c')\n",
    "b <- c(T,F,T,F,T)\n",
    "tmp_list1 <- list(df, n, s, b, mean)\n",
    "tmp_list1"
   ]
  },
  {
   "cell_type": "code",
   "execution_count": 70,
   "id": "e075b631",
   "metadata": {},
   "outputs": [
    {
     "data": {
      "text/html": [
       "<ol>\n",
       "\t<li><table class=\"dataframe\">\n",
       "<caption>A data.frame: 17 × 8</caption>\n",
       "<thead>\n",
       "\t<tr><th scope=col>name</th><th scope=col>sex</th><th scope=col>age</th><th scope=col>grade</th><th scope=col>absence</th><th scope=col>bloodtype</th><th scope=col>height</th><th scope=col>weight</th></tr>\n",
       "\t<tr><th scope=col>&lt;chr&gt;</th><th scope=col>&lt;chr&gt;</th><th scope=col>&lt;int&gt;</th><th scope=col>&lt;int&gt;</th><th scope=col>&lt;chr&gt;</th><th scope=col>&lt;chr&gt;</th><th scope=col>&lt;dbl&gt;</th><th scope=col>&lt;dbl&gt;</th></tr>\n",
       "</thead>\n",
       "<tbody>\n",
       "\t<tr><td>김길동</td><td>남자</td><td>23</td><td>3</td><td>유</td><td>O </td><td>165.3</td><td>68.2</td></tr>\n",
       "\t<tr><td>이미린</td><td>여자</td><td>22</td><td>2</td><td>무</td><td>AB</td><td>170.1</td><td>53.0</td></tr>\n",
       "\t<tr><td>홍길동</td><td>남자</td><td>24</td><td>4</td><td>무</td><td>B </td><td>175.0</td><td>80.1</td></tr>\n",
       "\t<tr><td>김철수</td><td>남자</td><td>23</td><td>3</td><td>무</td><td>AB</td><td>182.1</td><td>85.7</td></tr>\n",
       "\t<tr><td>손세수</td><td>여자</td><td>20</td><td>1</td><td>유</td><td>A </td><td>168.0</td><td>49.5</td></tr>\n",
       "\t<tr><td>박미희</td><td>여자</td><td>21</td><td>2</td><td>무</td><td>O </td><td>162.0</td><td>52.0</td></tr>\n",
       "\t<tr><td>강수친</td><td>여자</td><td>22</td><td>1</td><td>무</td><td>O </td><td>155.2</td><td>45.3</td></tr>\n",
       "\t<tr><td>이희수</td><td>여자</td><td>23</td><td>1</td><td>무</td><td>A </td><td>176.9</td><td>55.0</td></tr>\n",
       "\t<tr><td>이철린</td><td>남자</td><td>23</td><td>3</td><td>무</td><td>B </td><td>178.5</td><td>64.2</td></tr>\n",
       "\t<tr><td>방희철</td><td>남자</td><td>22</td><td>2</td><td>무</td><td>B </td><td>176.1</td><td>61.3</td></tr>\n",
       "\t<tr><td>박수호</td><td>남자</td><td>24</td><td>4</td><td>유</td><td>O </td><td>167.1</td><td>62.0</td></tr>\n",
       "\t<tr><td>임동민</td><td>남자</td><td>22</td><td>2</td><td>무</td><td>AB</td><td>180.0</td><td>75.8</td></tr>\n",
       "\t<tr><td>김민수</td><td>남자</td><td>21</td><td>1</td><td>무</td><td>A </td><td>162.2</td><td>55.3</td></tr>\n",
       "\t<tr><td>이희진</td><td>여자</td><td>23</td><td>3</td><td>무</td><td>O </td><td>176.1</td><td>53.1</td></tr>\n",
       "\t<tr><td>김미진</td><td>여자</td><td>22</td><td>2</td><td>무</td><td>B </td><td>158.2</td><td>45.2</td></tr>\n",
       "\t<tr><td>김동수</td><td>남자</td><td>24</td><td>4</td><td>유</td><td>B </td><td>168.6</td><td>70.2</td></tr>\n",
       "\t<tr><td>여수근</td><td>남자</td><td>21</td><td>1</td><td>무</td><td>A </td><td>169.2</td><td>62.2</td></tr>\n",
       "</tbody>\n",
       "</table>\n",
       "</li>\n",
       "\t<li><style>\n",
       ".list-inline {list-style: none; margin:0; padding: 0}\n",
       ".list-inline>li {display: inline-block}\n",
       ".list-inline>li:not(:last-child)::after {content: \"\\00b7\"; padding: 0 .5ex}\n",
       "</style>\n",
       "<ol class=list-inline><li>1</li><li>2</li><li>3</li><li>4</li><li>5</li><li>6</li><li>7</li><li>8</li><li>9</li><li>10</li><li>11</li><li>12</li><li>13</li><li>14</li><li>15</li><li>16</li><li>17</li><li>18</li><li>19</li><li>20</li></ol>\n",
       "</li>\n",
       "\t<li><style>\n",
       ".list-inline {list-style: none; margin:0; padding: 0}\n",
       ".list-inline>li {display: inline-block}\n",
       ".list-inline>li:not(:last-child)::after {content: \"\\00b7\"; padding: 0 .5ex}\n",
       "</style>\n",
       "<ol class=list-inline><li>'a'</li><li>'b'</li><li>'c'</li></ol>\n",
       "</li>\n",
       "\t<li><style>\n",
       ".list-inline {list-style: none; margin:0; padding: 0}\n",
       ".list-inline>li {display: inline-block}\n",
       ".list-inline>li:not(:last-child)::after {content: \"\\00b7\"; padding: 0 .5ex}\n",
       "</style>\n",
       "<ol class=list-inline><li>TRUE</li><li>FALSE</li><li>TRUE</li><li>FALSE</li><li>TRUE</li></ol>\n",
       "</li>\n",
       "\t<li><pre class=language-r><code>function (x, ...) \n",
       "UseMethod(\"mean\")</code></pre></li>\n",
       "</ol>\n"
      ],
      "text/latex": [
       "\\begin{enumerate}\n",
       "\\item A data.frame: 17 × 8\n",
       "\\begin{tabular}{llllllll}\n",
       " name & sex & age & grade & absence & bloodtype & height & weight\\\\\n",
       " <chr> & <chr> & <int> & <int> & <chr> & <chr> & <dbl> & <dbl>\\\\\n",
       "\\hline\n",
       "\t 김길동 & 남자 & 23 & 3 & 유 & O  & 165.3 & 68.2\\\\\n",
       "\t 이미린 & 여자 & 22 & 2 & 무 & AB & 170.1 & 53.0\\\\\n",
       "\t 홍길동 & 남자 & 24 & 4 & 무 & B  & 175.0 & 80.1\\\\\n",
       "\t 김철수 & 남자 & 23 & 3 & 무 & AB & 182.1 & 85.7\\\\\n",
       "\t 손세수 & 여자 & 20 & 1 & 유 & A  & 168.0 & 49.5\\\\\n",
       "\t 박미희 & 여자 & 21 & 2 & 무 & O  & 162.0 & 52.0\\\\\n",
       "\t 강수친 & 여자 & 22 & 1 & 무 & O  & 155.2 & 45.3\\\\\n",
       "\t 이희수 & 여자 & 23 & 1 & 무 & A  & 176.9 & 55.0\\\\\n",
       "\t 이철린 & 남자 & 23 & 3 & 무 & B  & 178.5 & 64.2\\\\\n",
       "\t 방희철 & 남자 & 22 & 2 & 무 & B  & 176.1 & 61.3\\\\\n",
       "\t 박수호 & 남자 & 24 & 4 & 유 & O  & 167.1 & 62.0\\\\\n",
       "\t 임동민 & 남자 & 22 & 2 & 무 & AB & 180.0 & 75.8\\\\\n",
       "\t 김민수 & 남자 & 21 & 1 & 무 & A  & 162.2 & 55.3\\\\\n",
       "\t 이희진 & 여자 & 23 & 3 & 무 & O  & 176.1 & 53.1\\\\\n",
       "\t 김미진 & 여자 & 22 & 2 & 무 & B  & 158.2 & 45.2\\\\\n",
       "\t 김동수 & 남자 & 24 & 4 & 유 & B  & 168.6 & 70.2\\\\\n",
       "\t 여수근 & 남자 & 21 & 1 & 무 & A  & 169.2 & 62.2\\\\\n",
       "\\end{tabular}\n",
       "\n",
       "\\item \\begin{enumerate*}\n",
       "\\item 1\n",
       "\\item 2\n",
       "\\item 3\n",
       "\\item 4\n",
       "\\item 5\n",
       "\\item 6\n",
       "\\item 7\n",
       "\\item 8\n",
       "\\item 9\n",
       "\\item 10\n",
       "\\item 11\n",
       "\\item 12\n",
       "\\item 13\n",
       "\\item 14\n",
       "\\item 15\n",
       "\\item 16\n",
       "\\item 17\n",
       "\\item 18\n",
       "\\item 19\n",
       "\\item 20\n",
       "\\end{enumerate*}\n",
       "\n",
       "\\item \\begin{enumerate*}\n",
       "\\item 'a'\n",
       "\\item 'b'\n",
       "\\item 'c'\n",
       "\\end{enumerate*}\n",
       "\n",
       "\\item \\begin{enumerate*}\n",
       "\\item TRUE\n",
       "\\item FALSE\n",
       "\\item TRUE\n",
       "\\item FALSE\n",
       "\\item TRUE\n",
       "\\end{enumerate*}\n",
       "\n",
       "\\item \\begin{minted}{r}\n",
       "function (x, ...) \n",
       "UseMethod(\"mean\")\n",
       "\\end{minted}\n",
       "\\end{enumerate}\n"
      ],
      "text/markdown": [
       "1. \n",
       "A data.frame: 17 × 8\n",
       "\n",
       "| name &lt;chr&gt; | sex &lt;chr&gt; | age &lt;int&gt; | grade &lt;int&gt; | absence &lt;chr&gt; | bloodtype &lt;chr&gt; | height &lt;dbl&gt; | weight &lt;dbl&gt; |\n",
       "|---|---|---|---|---|---|---|---|\n",
       "| 김길동 | 남자 | 23 | 3 | 유 | O  | 165.3 | 68.2 |\n",
       "| 이미린 | 여자 | 22 | 2 | 무 | AB | 170.1 | 53.0 |\n",
       "| 홍길동 | 남자 | 24 | 4 | 무 | B  | 175.0 | 80.1 |\n",
       "| 김철수 | 남자 | 23 | 3 | 무 | AB | 182.1 | 85.7 |\n",
       "| 손세수 | 여자 | 20 | 1 | 유 | A  | 168.0 | 49.5 |\n",
       "| 박미희 | 여자 | 21 | 2 | 무 | O  | 162.0 | 52.0 |\n",
       "| 강수친 | 여자 | 22 | 1 | 무 | O  | 155.2 | 45.3 |\n",
       "| 이희수 | 여자 | 23 | 1 | 무 | A  | 176.9 | 55.0 |\n",
       "| 이철린 | 남자 | 23 | 3 | 무 | B  | 178.5 | 64.2 |\n",
       "| 방희철 | 남자 | 22 | 2 | 무 | B  | 176.1 | 61.3 |\n",
       "| 박수호 | 남자 | 24 | 4 | 유 | O  | 167.1 | 62.0 |\n",
       "| 임동민 | 남자 | 22 | 2 | 무 | AB | 180.0 | 75.8 |\n",
       "| 김민수 | 남자 | 21 | 1 | 무 | A  | 162.2 | 55.3 |\n",
       "| 이희진 | 여자 | 23 | 3 | 무 | O  | 176.1 | 53.1 |\n",
       "| 김미진 | 여자 | 22 | 2 | 무 | B  | 158.2 | 45.2 |\n",
       "| 김동수 | 남자 | 24 | 4 | 유 | B  | 168.6 | 70.2 |\n",
       "| 여수근 | 남자 | 21 | 1 | 무 | A  | 169.2 | 62.2 |\n",
       "\n",
       "\n",
       "2. 1. 1\n",
       "2. 2\n",
       "3. 3\n",
       "4. 4\n",
       "5. 5\n",
       "6. 6\n",
       "7. 7\n",
       "8. 8\n",
       "9. 9\n",
       "10. 10\n",
       "11. 11\n",
       "12. 12\n",
       "13. 13\n",
       "14. 14\n",
       "15. 15\n",
       "16. 16\n",
       "17. 17\n",
       "18. 18\n",
       "19. 19\n",
       "20. 20\n",
       "\n",
       "\n",
       "\n",
       "3. 1. 'a'\n",
       "2. 'b'\n",
       "3. 'c'\n",
       "\n",
       "\n",
       "\n",
       "4. 1. TRUE\n",
       "2. FALSE\n",
       "3. TRUE\n",
       "4. FALSE\n",
       "5. TRUE\n",
       "\n",
       "\n",
       "\n",
       "5. ```r\n",
       "function (x, ...) \n",
       "UseMethod(\"mean\")\n",
       "```\n",
       "\n",
       "\n"
      ],
      "text/plain": [
       "[[1]]\n",
       "     name  sex age grade absence bloodtype height weight\n",
       "1  김길동 남자  23     3      유         O  165.3   68.2\n",
       "2  이미린 여자  22     2      무        AB  170.1   53.0\n",
       "3  홍길동 남자  24     4      무         B  175.0   80.1\n",
       "4  김철수 남자  23     3      무        AB  182.1   85.7\n",
       "5  손세수 여자  20     1      유         A  168.0   49.5\n",
       "6  박미희 여자  21     2      무         O  162.0   52.0\n",
       "7  강수친 여자  22     1      무         O  155.2   45.3\n",
       "8  이희수 여자  23     1      무         A  176.9   55.0\n",
       "9  이철린 남자  23     3      무         B  178.5   64.2\n",
       "10 방희철 남자  22     2      무         B  176.1   61.3\n",
       "11 박수호 남자  24     4      유         O  167.1   62.0\n",
       "12 임동민 남자  22     2      무        AB  180.0   75.8\n",
       "13 김민수 남자  21     1      무         A  162.2   55.3\n",
       "14 이희진 여자  23     3      무         O  176.1   53.1\n",
       "15 김미진 여자  22     2      무         B  158.2   45.2\n",
       "16 김동수 남자  24     4      유         B  168.6   70.2\n",
       "17 여수근 남자  21     1      무         A  169.2   62.2\n",
       "\n",
       "[[2]]\n",
       " [1]  1  2  3  4  5  6  7  8  9 10 11 12 13 14 15 16 17 18 19 20\n",
       "\n",
       "[[3]]\n",
       "[1] \"a\" \"b\" \"c\"\n",
       "\n",
       "[[4]]\n",
       "[1]  TRUE FALSE  TRUE FALSE  TRUE\n",
       "\n",
       "[[5]]\n",
       "function (x, ...) \n",
       "UseMethod(\"mean\")\n",
       "<bytecode: 0x0000000009ca8b88>\n",
       "<environment: namespace:base>\n"
      ]
     },
     "metadata": {},
     "output_type": "display_data"
    }
   ],
   "source": [
    "# 모든 종류의 데이터 객체 담기 - list\n",
    "df <- read.csv('./rggagi/example_studentlist.csv')\n",
    "n <- c(1:20)\n",
    "s <- c('a','b','c')\n",
    "b <- c(T,F,T,F,T)\n",
    "tmp_list1 <- list(df, n, s, b, mean)\n",
    "tmp_list1"
   ]
  },
  {
   "cell_type": "code",
   "execution_count": 71,
   "id": "6f176e20",
   "metadata": {
    "scrolled": true
   },
   "outputs": [
    {
     "data": {
      "text/html": [
       "<dl>\n",
       "\t<dt>$DataFrame</dt>\n",
       "\t\t<dd><table class=\"dataframe\">\n",
       "<caption>A data.frame: 17 × 8</caption>\n",
       "<thead>\n",
       "\t<tr><th scope=col>name</th><th scope=col>sex</th><th scope=col>age</th><th scope=col>grade</th><th scope=col>absence</th><th scope=col>bloodtype</th><th scope=col>height</th><th scope=col>weight</th></tr>\n",
       "\t<tr><th scope=col>&lt;chr&gt;</th><th scope=col>&lt;chr&gt;</th><th scope=col>&lt;int&gt;</th><th scope=col>&lt;int&gt;</th><th scope=col>&lt;chr&gt;</th><th scope=col>&lt;chr&gt;</th><th scope=col>&lt;dbl&gt;</th><th scope=col>&lt;dbl&gt;</th></tr>\n",
       "</thead>\n",
       "<tbody>\n",
       "\t<tr><td>김길동</td><td>남자</td><td>23</td><td>3</td><td>유</td><td>O </td><td>165.3</td><td>68.2</td></tr>\n",
       "\t<tr><td>이미린</td><td>여자</td><td>22</td><td>2</td><td>무</td><td>AB</td><td>170.1</td><td>53.0</td></tr>\n",
       "\t<tr><td>홍길동</td><td>남자</td><td>24</td><td>4</td><td>무</td><td>B </td><td>175.0</td><td>80.1</td></tr>\n",
       "\t<tr><td>김철수</td><td>남자</td><td>23</td><td>3</td><td>무</td><td>AB</td><td>182.1</td><td>85.7</td></tr>\n",
       "\t<tr><td>손세수</td><td>여자</td><td>20</td><td>1</td><td>유</td><td>A </td><td>168.0</td><td>49.5</td></tr>\n",
       "\t<tr><td>박미희</td><td>여자</td><td>21</td><td>2</td><td>무</td><td>O </td><td>162.0</td><td>52.0</td></tr>\n",
       "\t<tr><td>강수친</td><td>여자</td><td>22</td><td>1</td><td>무</td><td>O </td><td>155.2</td><td>45.3</td></tr>\n",
       "\t<tr><td>이희수</td><td>여자</td><td>23</td><td>1</td><td>무</td><td>A </td><td>176.9</td><td>55.0</td></tr>\n",
       "\t<tr><td>이철린</td><td>남자</td><td>23</td><td>3</td><td>무</td><td>B </td><td>178.5</td><td>64.2</td></tr>\n",
       "\t<tr><td>방희철</td><td>남자</td><td>22</td><td>2</td><td>무</td><td>B </td><td>176.1</td><td>61.3</td></tr>\n",
       "\t<tr><td>박수호</td><td>남자</td><td>24</td><td>4</td><td>유</td><td>O </td><td>167.1</td><td>62.0</td></tr>\n",
       "\t<tr><td>임동민</td><td>남자</td><td>22</td><td>2</td><td>무</td><td>AB</td><td>180.0</td><td>75.8</td></tr>\n",
       "\t<tr><td>김민수</td><td>남자</td><td>21</td><td>1</td><td>무</td><td>A </td><td>162.2</td><td>55.3</td></tr>\n",
       "\t<tr><td>이희진</td><td>여자</td><td>23</td><td>3</td><td>무</td><td>O </td><td>176.1</td><td>53.1</td></tr>\n",
       "\t<tr><td>김미진</td><td>여자</td><td>22</td><td>2</td><td>무</td><td>B </td><td>158.2</td><td>45.2</td></tr>\n",
       "\t<tr><td>김동수</td><td>남자</td><td>24</td><td>4</td><td>유</td><td>B </td><td>168.6</td><td>70.2</td></tr>\n",
       "\t<tr><td>여수근</td><td>남자</td><td>21</td><td>1</td><td>무</td><td>A </td><td>169.2</td><td>62.2</td></tr>\n",
       "</tbody>\n",
       "</table>\n",
       "</dd>\n",
       "\t<dt>$Number</dt>\n",
       "\t\t<dd><style>\n",
       ".list-inline {list-style: none; margin:0; padding: 0}\n",
       ".list-inline>li {display: inline-block}\n",
       ".list-inline>li:not(:last-child)::after {content: \"\\00b7\"; padding: 0 .5ex}\n",
       "</style>\n",
       "<ol class=list-inline><li>1</li><li>2</li><li>3</li><li>4</li><li>5</li><li>6</li><li>7</li><li>8</li><li>9</li><li>10</li><li>11</li><li>12</li><li>13</li><li>14</li><li>15</li><li>16</li><li>17</li><li>18</li><li>19</li><li>20</li></ol>\n",
       "</dd>\n",
       "\t<dt>$String</dt>\n",
       "\t\t<dd><style>\n",
       ".list-inline {list-style: none; margin:0; padding: 0}\n",
       ".list-inline>li {display: inline-block}\n",
       ".list-inline>li:not(:last-child)::after {content: \"\\00b7\"; padding: 0 .5ex}\n",
       "</style>\n",
       "<ol class=list-inline><li>'a'</li><li>'b'</li><li>'c'</li></ol>\n",
       "</dd>\n",
       "\t<dt>$Bool</dt>\n",
       "\t\t<dd><style>\n",
       ".list-inline {list-style: none; margin:0; padding: 0}\n",
       ".list-inline>li {display: inline-block}\n",
       ".list-inline>li:not(:last-child)::after {content: \"\\00b7\"; padding: 0 .5ex}\n",
       "</style>\n",
       "<ol class=list-inline><li>TRUE</li><li>FALSE</li><li>TRUE</li><li>FALSE</li><li>TRUE</li></ol>\n",
       "</dd>\n",
       "\t<dt>$Func</dt>\n",
       "\t\t<dd><pre class=language-r><code>function (x, ...) \n",
       "UseMethod(\"mean\")</code></pre></dd>\n",
       "</dl>\n"
      ],
      "text/latex": [
       "\\begin{description}\n",
       "\\item[\\$DataFrame] A data.frame: 17 × 8\n",
       "\\begin{tabular}{llllllll}\n",
       " name & sex & age & grade & absence & bloodtype & height & weight\\\\\n",
       " <chr> & <chr> & <int> & <int> & <chr> & <chr> & <dbl> & <dbl>\\\\\n",
       "\\hline\n",
       "\t 김길동 & 남자 & 23 & 3 & 유 & O  & 165.3 & 68.2\\\\\n",
       "\t 이미린 & 여자 & 22 & 2 & 무 & AB & 170.1 & 53.0\\\\\n",
       "\t 홍길동 & 남자 & 24 & 4 & 무 & B  & 175.0 & 80.1\\\\\n",
       "\t 김철수 & 남자 & 23 & 3 & 무 & AB & 182.1 & 85.7\\\\\n",
       "\t 손세수 & 여자 & 20 & 1 & 유 & A  & 168.0 & 49.5\\\\\n",
       "\t 박미희 & 여자 & 21 & 2 & 무 & O  & 162.0 & 52.0\\\\\n",
       "\t 강수친 & 여자 & 22 & 1 & 무 & O  & 155.2 & 45.3\\\\\n",
       "\t 이희수 & 여자 & 23 & 1 & 무 & A  & 176.9 & 55.0\\\\\n",
       "\t 이철린 & 남자 & 23 & 3 & 무 & B  & 178.5 & 64.2\\\\\n",
       "\t 방희철 & 남자 & 22 & 2 & 무 & B  & 176.1 & 61.3\\\\\n",
       "\t 박수호 & 남자 & 24 & 4 & 유 & O  & 167.1 & 62.0\\\\\n",
       "\t 임동민 & 남자 & 22 & 2 & 무 & AB & 180.0 & 75.8\\\\\n",
       "\t 김민수 & 남자 & 21 & 1 & 무 & A  & 162.2 & 55.3\\\\\n",
       "\t 이희진 & 여자 & 23 & 3 & 무 & O  & 176.1 & 53.1\\\\\n",
       "\t 김미진 & 여자 & 22 & 2 & 무 & B  & 158.2 & 45.2\\\\\n",
       "\t 김동수 & 남자 & 24 & 4 & 유 & B  & 168.6 & 70.2\\\\\n",
       "\t 여수근 & 남자 & 21 & 1 & 무 & A  & 169.2 & 62.2\\\\\n",
       "\\end{tabular}\n",
       "\n",
       "\\item[\\$Number] \\begin{enumerate*}\n",
       "\\item 1\n",
       "\\item 2\n",
       "\\item 3\n",
       "\\item 4\n",
       "\\item 5\n",
       "\\item 6\n",
       "\\item 7\n",
       "\\item 8\n",
       "\\item 9\n",
       "\\item 10\n",
       "\\item 11\n",
       "\\item 12\n",
       "\\item 13\n",
       "\\item 14\n",
       "\\item 15\n",
       "\\item 16\n",
       "\\item 17\n",
       "\\item 18\n",
       "\\item 19\n",
       "\\item 20\n",
       "\\end{enumerate*}\n",
       "\n",
       "\\item[\\$String] \\begin{enumerate*}\n",
       "\\item 'a'\n",
       "\\item 'b'\n",
       "\\item 'c'\n",
       "\\end{enumerate*}\n",
       "\n",
       "\\item[\\$Bool] \\begin{enumerate*}\n",
       "\\item TRUE\n",
       "\\item FALSE\n",
       "\\item TRUE\n",
       "\\item FALSE\n",
       "\\item TRUE\n",
       "\\end{enumerate*}\n",
       "\n",
       "\\item[\\$Func] \\begin{minted}{r}\n",
       "function (x, ...) \n",
       "UseMethod(\"mean\")\n",
       "\\end{minted}\n",
       "\\end{description}\n"
      ],
      "text/markdown": [
       "$DataFrame\n",
       ":   \n",
       "A data.frame: 17 × 8\n",
       "\n",
       "| name &lt;chr&gt; | sex &lt;chr&gt; | age &lt;int&gt; | grade &lt;int&gt; | absence &lt;chr&gt; | bloodtype &lt;chr&gt; | height &lt;dbl&gt; | weight &lt;dbl&gt; |\n",
       "|---|---|---|---|---|---|---|---|\n",
       "| 김길동 | 남자 | 23 | 3 | 유 | O  | 165.3 | 68.2 |\n",
       "| 이미린 | 여자 | 22 | 2 | 무 | AB | 170.1 | 53.0 |\n",
       "| 홍길동 | 남자 | 24 | 4 | 무 | B  | 175.0 | 80.1 |\n",
       "| 김철수 | 남자 | 23 | 3 | 무 | AB | 182.1 | 85.7 |\n",
       "| 손세수 | 여자 | 20 | 1 | 유 | A  | 168.0 | 49.5 |\n",
       "| 박미희 | 여자 | 21 | 2 | 무 | O  | 162.0 | 52.0 |\n",
       "| 강수친 | 여자 | 22 | 1 | 무 | O  | 155.2 | 45.3 |\n",
       "| 이희수 | 여자 | 23 | 1 | 무 | A  | 176.9 | 55.0 |\n",
       "| 이철린 | 남자 | 23 | 3 | 무 | B  | 178.5 | 64.2 |\n",
       "| 방희철 | 남자 | 22 | 2 | 무 | B  | 176.1 | 61.3 |\n",
       "| 박수호 | 남자 | 24 | 4 | 유 | O  | 167.1 | 62.0 |\n",
       "| 임동민 | 남자 | 22 | 2 | 무 | AB | 180.0 | 75.8 |\n",
       "| 김민수 | 남자 | 21 | 1 | 무 | A  | 162.2 | 55.3 |\n",
       "| 이희진 | 여자 | 23 | 3 | 무 | O  | 176.1 | 53.1 |\n",
       "| 김미진 | 여자 | 22 | 2 | 무 | B  | 158.2 | 45.2 |\n",
       "| 김동수 | 남자 | 24 | 4 | 유 | B  | 168.6 | 70.2 |\n",
       "| 여수근 | 남자 | 21 | 1 | 무 | A  | 169.2 | 62.2 |\n",
       "\n",
       "\n",
       "$Number\n",
       ":   1. 1\n",
       "2. 2\n",
       "3. 3\n",
       "4. 4\n",
       "5. 5\n",
       "6. 6\n",
       "7. 7\n",
       "8. 8\n",
       "9. 9\n",
       "10. 10\n",
       "11. 11\n",
       "12. 12\n",
       "13. 13\n",
       "14. 14\n",
       "15. 15\n",
       "16. 16\n",
       "17. 17\n",
       "18. 18\n",
       "19. 19\n",
       "20. 20\n",
       "\n",
       "\n",
       "\n",
       "$String\n",
       ":   1. 'a'\n",
       "2. 'b'\n",
       "3. 'c'\n",
       "\n",
       "\n",
       "\n",
       "$Bool\n",
       ":   1. TRUE\n",
       "2. FALSE\n",
       "3. TRUE\n",
       "4. FALSE\n",
       "5. TRUE\n",
       "\n",
       "\n",
       "\n",
       "$Func\n",
       ":   ```r\n",
       "function (x, ...) \n",
       "UseMethod(\"mean\")\n",
       "```\n",
       "\n",
       "\n"
      ],
      "text/plain": [
       "$DataFrame\n",
       "     name  sex age grade absence bloodtype height weight\n",
       "1  김길동 남자  23     3      유         O  165.3   68.2\n",
       "2  이미린 여자  22     2      무        AB  170.1   53.0\n",
       "3  홍길동 남자  24     4      무         B  175.0   80.1\n",
       "4  김철수 남자  23     3      무        AB  182.1   85.7\n",
       "5  손세수 여자  20     1      유         A  168.0   49.5\n",
       "6  박미희 여자  21     2      무         O  162.0   52.0\n",
       "7  강수친 여자  22     1      무         O  155.2   45.3\n",
       "8  이희수 여자  23     1      무         A  176.9   55.0\n",
       "9  이철린 남자  23     3      무         B  178.5   64.2\n",
       "10 방희철 남자  22     2      무         B  176.1   61.3\n",
       "11 박수호 남자  24     4      유         O  167.1   62.0\n",
       "12 임동민 남자  22     2      무        AB  180.0   75.8\n",
       "13 김민수 남자  21     1      무         A  162.2   55.3\n",
       "14 이희진 여자  23     3      무         O  176.1   53.1\n",
       "15 김미진 여자  22     2      무         B  158.2   45.2\n",
       "16 김동수 남자  24     4      유         B  168.6   70.2\n",
       "17 여수근 남자  21     1      무         A  169.2   62.2\n",
       "\n",
       "$Number\n",
       " [1]  1  2  3  4  5  6  7  8  9 10 11 12 13 14 15 16 17 18 19 20\n",
       "\n",
       "$String\n",
       "[1] \"a\" \"b\" \"c\"\n",
       "\n",
       "$Bool\n",
       "[1]  TRUE FALSE  TRUE FALSE  TRUE\n",
       "\n",
       "$Func\n",
       "function (x, ...) \n",
       "UseMethod(\"mean\")\n",
       "<bytecode: 0x0000000009ca8b88>\n",
       "<environment: namespace:base>\n"
      ]
     },
     "metadata": {},
     "output_type": "display_data"
    }
   ],
   "source": [
    "tmp_list2 <- list(DataFrame=df, Number=n, String=s, Bool=b, Func=mean)\n",
    "tmp_list2\n",
    "\n",
    "# list의 모든 데이터 값에 위와 같이 이름을 설정할수 있음. "
   ]
  },
  {
   "cell_type": "code",
   "execution_count": 72,
   "id": "1e681c2c",
   "metadata": {},
   "outputs": [
    {
     "data": {
      "text/html": [
       "<ol>\n",
       "\t<li><style>\n",
       ".list-inline {list-style: none; margin:0; padding: 0}\n",
       ".list-inline>li {display: inline-block}\n",
       ".list-inline>li:not(:last-child)::after {content: \"\\00b7\"; padding: 0 .5ex}\n",
       "</style>\n",
       "<ol class=list-inline><li>1</li><li>2</li><li>3</li><li>4</li><li>5</li><li>6</li><li>7</li><li>8</li><li>9</li><li>10</li><li>11</li><li>12</li><li>13</li><li>14</li><li>15</li><li>16</li><li>17</li><li>18</li><li>19</li><li>20</li></ol>\n",
       "</li>\n",
       "\t<li><style>\n",
       ".list-inline {list-style: none; margin:0; padding: 0}\n",
       ".list-inline>li {display: inline-block}\n",
       ".list-inline>li:not(:last-child)::after {content: \"\\00b7\"; padding: 0 .5ex}\n",
       "</style>\n",
       "<ol class=list-inline><li>'a'</li><li>'b'</li><li>'c'</li></ol>\n",
       "</li>\n",
       "\t<li><style>\n",
       ".list-inline {list-style: none; margin:0; padding: 0}\n",
       ".list-inline>li {display: inline-block}\n",
       ".list-inline>li:not(:last-child)::after {content: \"\\00b7\"; padding: 0 .5ex}\n",
       "</style>\n",
       "<ol class=list-inline><li>TRUE</li><li>FALSE</li><li>TRUE</li><li>FALSE</li><li>TRUE</li></ol>\n",
       "</li>\n",
       "\t<li><pre class=language-r><code>function (x, ...) \n",
       "UseMethod(\"mean\")</code></pre></li>\n",
       "</ol>\n"
      ],
      "text/latex": [
       "\\begin{enumerate}\n",
       "\\item \\begin{enumerate*}\n",
       "\\item 1\n",
       "\\item 2\n",
       "\\item 3\n",
       "\\item 4\n",
       "\\item 5\n",
       "\\item 6\n",
       "\\item 7\n",
       "\\item 8\n",
       "\\item 9\n",
       "\\item 10\n",
       "\\item 11\n",
       "\\item 12\n",
       "\\item 13\n",
       "\\item 14\n",
       "\\item 15\n",
       "\\item 16\n",
       "\\item 17\n",
       "\\item 18\n",
       "\\item 19\n",
       "\\item 20\n",
       "\\end{enumerate*}\n",
       "\n",
       "\\item \\begin{enumerate*}\n",
       "\\item 'a'\n",
       "\\item 'b'\n",
       "\\item 'c'\n",
       "\\end{enumerate*}\n",
       "\n",
       "\\item \\begin{enumerate*}\n",
       "\\item TRUE\n",
       "\\item FALSE\n",
       "\\item TRUE\n",
       "\\item FALSE\n",
       "\\item TRUE\n",
       "\\end{enumerate*}\n",
       "\n",
       "\\item \\begin{minted}{r}\n",
       "function (x, ...) \n",
       "UseMethod(\"mean\")\n",
       "\\end{minted}\n",
       "\\end{enumerate}\n"
      ],
      "text/markdown": [
       "1. 1. 1\n",
       "2. 2\n",
       "3. 3\n",
       "4. 4\n",
       "5. 5\n",
       "6. 6\n",
       "7. 7\n",
       "8. 8\n",
       "9. 9\n",
       "10. 10\n",
       "11. 11\n",
       "12. 12\n",
       "13. 13\n",
       "14. 14\n",
       "15. 15\n",
       "16. 16\n",
       "17. 17\n",
       "18. 18\n",
       "19. 19\n",
       "20. 20\n",
       "\n",
       "\n",
       "\n",
       "2. 1. 'a'\n",
       "2. 'b'\n",
       "3. 'c'\n",
       "\n",
       "\n",
       "\n",
       "3. 1. TRUE\n",
       "2. FALSE\n",
       "3. TRUE\n",
       "4. FALSE\n",
       "5. TRUE\n",
       "\n",
       "\n",
       "\n",
       "4. ```r\n",
       "function (x, ...) \n",
       "UseMethod(\"mean\")\n",
       "```\n",
       "\n",
       "\n"
      ],
      "text/plain": [
       "[[1]]\n",
       " [1]  1  2  3  4  5  6  7  8  9 10 11 12 13 14 15 16 17 18 19 20\n",
       "\n",
       "[[2]]\n",
       "[1] \"a\" \"b\" \"c\"\n",
       "\n",
       "[[3]]\n",
       "[1]  TRUE FALSE  TRUE FALSE  TRUE\n",
       "\n",
       "[[4]]\n",
       "function (x, ...) \n",
       "UseMethod(\"mean\")\n",
       "<bytecode: 0x0000000009ca8b88>\n",
       "<environment: namespace:base>\n"
      ]
     },
     "metadata": {},
     "output_type": "display_data"
    }
   ],
   "source": [
    "# 항목 삭제\n",
    "tmp_list1[1] <- NULL\n",
    "tmp_list1"
   ]
  },
  {
   "cell_type": "code",
   "execution_count": 73,
   "id": "0eba0ab5",
   "metadata": {},
   "outputs": [
    {
     "data": {
      "text/html": [
       "<ol>\n",
       "\t<li><style>\n",
       ".list-inline {list-style: none; margin:0; padding: 0}\n",
       ".list-inline>li {display: inline-block}\n",
       ".list-inline>li:not(:last-child)::after {content: \"\\00b7\"; padding: 0 .5ex}\n",
       "</style>\n",
       "<ol class=list-inline><li>1</li><li>2</li><li>3</li><li>4</li><li>5</li><li>6</li><li>7</li><li>8</li><li>9</li><li>10</li><li>11</li><li>12</li><li>13</li><li>14</li><li>15</li><li>16</li><li>17</li><li>18</li><li>19</li><li>20</li></ol>\n",
       "</li>\n",
       "\t<li><style>\n",
       ".list-inline {list-style: none; margin:0; padding: 0}\n",
       ".list-inline>li {display: inline-block}\n",
       ".list-inline>li:not(:last-child)::after {content: \"\\00b7\"; padding: 0 .5ex}\n",
       "</style>\n",
       "<ol class=list-inline><li>'a'</li><li>'b'</li><li>'c'</li></ol>\n",
       "</li>\n",
       "\t<li><style>\n",
       ".list-inline {list-style: none; margin:0; padding: 0}\n",
       ".list-inline>li {display: inline-block}\n",
       ".list-inline>li:not(:last-child)::after {content: \"\\00b7\"; padding: 0 .5ex}\n",
       "</style>\n",
       "<ol class=list-inline><li>TRUE</li><li>FALSE</li><li>TRUE</li><li>FALSE</li><li>TRUE</li></ol>\n",
       "</li>\n",
       "\t<li><pre class=language-r><code>function (x, ...) \n",
       "UseMethod(\"mean\")</code></pre></li>\n",
       "</ol>\n"
      ],
      "text/latex": [
       "\\begin{enumerate}\n",
       "\\item \\begin{enumerate*}\n",
       "\\item 1\n",
       "\\item 2\n",
       "\\item 3\n",
       "\\item 4\n",
       "\\item 5\n",
       "\\item 6\n",
       "\\item 7\n",
       "\\item 8\n",
       "\\item 9\n",
       "\\item 10\n",
       "\\item 11\n",
       "\\item 12\n",
       "\\item 13\n",
       "\\item 14\n",
       "\\item 15\n",
       "\\item 16\n",
       "\\item 17\n",
       "\\item 18\n",
       "\\item 19\n",
       "\\item 20\n",
       "\\end{enumerate*}\n",
       "\n",
       "\\item \\begin{enumerate*}\n",
       "\\item 'a'\n",
       "\\item 'b'\n",
       "\\item 'c'\n",
       "\\end{enumerate*}\n",
       "\n",
       "\\item \\begin{enumerate*}\n",
       "\\item TRUE\n",
       "\\item FALSE\n",
       "\\item TRUE\n",
       "\\item FALSE\n",
       "\\item TRUE\n",
       "\\end{enumerate*}\n",
       "\n",
       "\\item \\begin{minted}{r}\n",
       "function (x, ...) \n",
       "UseMethod(\"mean\")\n",
       "\\end{minted}\n",
       "\\end{enumerate}\n"
      ],
      "text/markdown": [
       "1. 1. 1\n",
       "2. 2\n",
       "3. 3\n",
       "4. 4\n",
       "5. 5\n",
       "6. 6\n",
       "7. 7\n",
       "8. 8\n",
       "9. 9\n",
       "10. 10\n",
       "11. 11\n",
       "12. 12\n",
       "13. 13\n",
       "14. 14\n",
       "15. 15\n",
       "16. 16\n",
       "17. 17\n",
       "18. 18\n",
       "19. 19\n",
       "20. 20\n",
       "\n",
       "\n",
       "\n",
       "2. 1. 'a'\n",
       "2. 'b'\n",
       "3. 'c'\n",
       "\n",
       "\n",
       "\n",
       "3. 1. TRUE\n",
       "2. FALSE\n",
       "3. TRUE\n",
       "4. FALSE\n",
       "5. TRUE\n",
       "\n",
       "\n",
       "\n",
       "4. ```r\n",
       "function (x, ...) \n",
       "UseMethod(\"mean\")\n",
       "```\n",
       "\n",
       "\n"
      ],
      "text/plain": [
       "[[1]]\n",
       " [1]  1  2  3  4  5  6  7  8  9 10 11 12 13 14 15 16 17 18 19 20\n",
       "\n",
       "[[2]]\n",
       "[1] \"a\" \"b\" \"c\"\n",
       "\n",
       "[[3]]\n",
       "[1]  TRUE FALSE  TRUE FALSE  TRUE\n",
       "\n",
       "[[4]]\n",
       "function (x, ...) \n",
       "UseMethod(\"mean\")\n",
       "<bytecode: 0x0000000009ca8b88>\n",
       "<environment: namespace:base>\n"
      ]
     },
     "metadata": {},
     "output_type": "display_data"
    }
   ],
   "source": [
    "tmp_list1"
   ]
  },
  {
   "cell_type": "markdown",
   "id": "00d44d18",
   "metadata": {},
   "source": [
    "위와 같이 [1]번의 같이 완전히 삭제 된것을 알수 있다"
   ]
  },
  {
   "cell_type": "code",
   "execution_count": 74,
   "id": "dedf97ff",
   "metadata": {
    "scrolled": true
   },
   "outputs": [
    {
     "data": {
      "text/html": [
       "<strong>$Number</strong> = <style>\n",
       ".list-inline {list-style: none; margin:0; padding: 0}\n",
       ".list-inline>li {display: inline-block}\n",
       ".list-inline>li:not(:last-child)::after {content: \"\\00b7\"; padding: 0 .5ex}\n",
       "</style>\n",
       "<ol class=list-inline><li>1</li><li>2</li><li>3</li><li>4</li><li>5</li><li>6</li><li>7</li><li>8</li><li>9</li><li>10</li><li>11</li><li>12</li><li>13</li><li>14</li><li>15</li><li>16</li><li>17</li><li>18</li><li>19</li><li>20</li></ol>\n"
      ],
      "text/latex": [
       "\\textbf{\\$Number} = \\begin{enumerate*}\n",
       "\\item 1\n",
       "\\item 2\n",
       "\\item 3\n",
       "\\item 4\n",
       "\\item 5\n",
       "\\item 6\n",
       "\\item 7\n",
       "\\item 8\n",
       "\\item 9\n",
       "\\item 10\n",
       "\\item 11\n",
       "\\item 12\n",
       "\\item 13\n",
       "\\item 14\n",
       "\\item 15\n",
       "\\item 16\n",
       "\\item 17\n",
       "\\item 18\n",
       "\\item 19\n",
       "\\item 20\n",
       "\\end{enumerate*}\n"
      ],
      "text/markdown": [
       "**$Number** = 1. 1\n",
       "2. 2\n",
       "3. 3\n",
       "4. 4\n",
       "5. 5\n",
       "6. 6\n",
       "7. 7\n",
       "8. 8\n",
       "9. 9\n",
       "10. 10\n",
       "11. 11\n",
       "12. 12\n",
       "13. 13\n",
       "14. 14\n",
       "15. 15\n",
       "16. 16\n",
       "17. 17\n",
       "18. 18\n",
       "19. 19\n",
       "20. 20\n",
       "\n",
       "\n"
      ],
      "text/plain": [
       "$Number\n",
       " [1]  1  2  3  4  5  6  7  8  9 10 11 12 13 14 15 16 17 18 19 20\n"
      ]
     },
     "metadata": {},
     "output_type": "display_data"
    },
    {
     "data": {
      "text/html": [
       "<strong>$Number</strong> = <style>\n",
       ".list-inline {list-style: none; margin:0; padding: 0}\n",
       ".list-inline>li {display: inline-block}\n",
       ".list-inline>li:not(:last-child)::after {content: \"\\00b7\"; padding: 0 .5ex}\n",
       "</style>\n",
       "<ol class=list-inline><li>1</li><li>2</li><li>3</li><li>4</li><li>5</li><li>6</li><li>7</li><li>8</li><li>9</li><li>10</li><li>11</li><li>12</li><li>13</li><li>14</li><li>15</li><li>16</li><li>17</li><li>18</li><li>19</li><li>20</li></ol>\n"
      ],
      "text/latex": [
       "\\textbf{\\$Number} = \\begin{enumerate*}\n",
       "\\item 1\n",
       "\\item 2\n",
       "\\item 3\n",
       "\\item 4\n",
       "\\item 5\n",
       "\\item 6\n",
       "\\item 7\n",
       "\\item 8\n",
       "\\item 9\n",
       "\\item 10\n",
       "\\item 11\n",
       "\\item 12\n",
       "\\item 13\n",
       "\\item 14\n",
       "\\item 15\n",
       "\\item 16\n",
       "\\item 17\n",
       "\\item 18\n",
       "\\item 19\n",
       "\\item 20\n",
       "\\end{enumerate*}\n"
      ],
      "text/markdown": [
       "**$Number** = 1. 1\n",
       "2. 2\n",
       "3. 3\n",
       "4. 4\n",
       "5. 5\n",
       "6. 6\n",
       "7. 7\n",
       "8. 8\n",
       "9. 9\n",
       "10. 10\n",
       "11. 11\n",
       "12. 12\n",
       "13. 13\n",
       "14. 14\n",
       "15. 15\n",
       "16. 16\n",
       "17. 17\n",
       "18. 18\n",
       "19. 19\n",
       "20. 20\n",
       "\n",
       "\n"
      ],
      "text/plain": [
       "$Number\n",
       " [1]  1  2  3  4  5  6  7  8  9 10 11 12 13 14 15 16 17 18 19 20\n"
      ]
     },
     "metadata": {},
     "output_type": "display_data"
    }
   ],
   "source": [
    "# 항목 선택\n",
    "tmp_list2[2]\n",
    "tmp_list2['Number']"
   ]
  },
  {
   "cell_type": "code",
   "execution_count": 75,
   "id": "cd40f2f1",
   "metadata": {},
   "outputs": [
    {
     "data": {
      "text/html": [
       "'list'"
      ],
      "text/latex": [
       "'list'"
      ],
      "text/markdown": [
       "'list'"
      ],
      "text/plain": [
       "[1] \"list\""
      ]
     },
     "metadata": {},
     "output_type": "display_data"
    },
    {
     "data": {
      "text/html": [
       "'integer'"
      ],
      "text/latex": [
       "'integer'"
      ],
      "text/markdown": [
       "'integer'"
      ],
      "text/plain": [
       "[1] \"integer\""
      ]
     },
     "metadata": {},
     "output_type": "display_data"
    }
   ],
   "source": [
    "# 자료형 확인 - 함수에 인자로 사용 시 주의\n",
    "class(tmp_list1[1])\n",
    "class(tmp_list1[[1]])"
   ]
  },
  {
   "cell_type": "code",
   "execution_count": 76,
   "id": "3e3fd03d",
   "metadata": {},
   "outputs": [
    {
     "data": {
      "text/html": [
       "<dl>\n",
       "\t<dt>$Number</dt>\n",
       "\t\t<dd><style>\n",
       ".list-inline {list-style: none; margin:0; padding: 0}\n",
       ".list-inline>li {display: inline-block}\n",
       ".list-inline>li:not(:last-child)::after {content: \"\\00b7\"; padding: 0 .5ex}\n",
       "</style>\n",
       "<ol class=list-inline><li>1</li><li>2</li><li>3</li><li>4</li><li>5</li><li>6</li><li>7</li><li>8</li><li>9</li><li>10</li><li>11</li><li>12</li><li>13</li><li>14</li><li>15</li><li>16</li><li>17</li><li>18</li><li>19</li><li>20</li></ol>\n",
       "</dd>\n",
       "\t<dt>$String</dt>\n",
       "\t\t<dd><style>\n",
       ".list-inline {list-style: none; margin:0; padding: 0}\n",
       ".list-inline>li {display: inline-block}\n",
       ".list-inline>li:not(:last-child)::after {content: \"\\00b7\"; padding: 0 .5ex}\n",
       "</style>\n",
       "<ol class=list-inline><li>'a'</li><li>'b'</li><li>'c'</li></ol>\n",
       "</dd>\n",
       "</dl>\n"
      ],
      "text/latex": [
       "\\begin{description}\n",
       "\\item[\\$Number] \\begin{enumerate*}\n",
       "\\item 1\n",
       "\\item 2\n",
       "\\item 3\n",
       "\\item 4\n",
       "\\item 5\n",
       "\\item 6\n",
       "\\item 7\n",
       "\\item 8\n",
       "\\item 9\n",
       "\\item 10\n",
       "\\item 11\n",
       "\\item 12\n",
       "\\item 13\n",
       "\\item 14\n",
       "\\item 15\n",
       "\\item 16\n",
       "\\item 17\n",
       "\\item 18\n",
       "\\item 19\n",
       "\\item 20\n",
       "\\end{enumerate*}\n",
       "\n",
       "\\item[\\$String] \\begin{enumerate*}\n",
       "\\item 'a'\n",
       "\\item 'b'\n",
       "\\item 'c'\n",
       "\\end{enumerate*}\n",
       "\n",
       "\\end{description}\n"
      ],
      "text/markdown": [
       "$Number\n",
       ":   1. 1\n",
       "2. 2\n",
       "3. 3\n",
       "4. 4\n",
       "5. 5\n",
       "6. 6\n",
       "7. 7\n",
       "8. 8\n",
       "9. 9\n",
       "10. 10\n",
       "11. 11\n",
       "12. 12\n",
       "13. 13\n",
       "14. 14\n",
       "15. 15\n",
       "16. 16\n",
       "17. 17\n",
       "18. 18\n",
       "19. 19\n",
       "20. 20\n",
       "\n",
       "\n",
       "\n",
       "$String\n",
       ":   1. 'a'\n",
       "2. 'b'\n",
       "3. 'c'\n",
       "\n",
       "\n",
       "\n",
       "\n",
       "\n"
      ],
      "text/plain": [
       "$Number\n",
       " [1]  1  2  3  4  5  6  7  8  9 10 11 12 13 14 15 16 17 18 19 20\n",
       "\n",
       "$String\n",
       "[1] \"a\" \"b\" \"c\"\n"
      ]
     },
     "metadata": {},
     "output_type": "display_data"
    },
    {
     "data": {
      "text/html": [
       "<dl>\n",
       "\t<dt>$Number</dt>\n",
       "\t\t<dd><style>\n",
       ".list-inline {list-style: none; margin:0; padding: 0}\n",
       ".list-inline>li {display: inline-block}\n",
       ".list-inline>li:not(:last-child)::after {content: \"\\00b7\"; padding: 0 .5ex}\n",
       "</style>\n",
       "<ol class=list-inline><li>1</li><li>2</li><li>3</li><li>4</li><li>5</li><li>6</li><li>7</li><li>8</li><li>9</li><li>10</li><li>11</li><li>12</li><li>13</li><li>14</li><li>15</li><li>16</li><li>17</li><li>18</li><li>19</li><li>20</li></ol>\n",
       "</dd>\n",
       "\t<dt>$String</dt>\n",
       "\t\t<dd><style>\n",
       ".list-inline {list-style: none; margin:0; padding: 0}\n",
       ".list-inline>li {display: inline-block}\n",
       ".list-inline>li:not(:last-child)::after {content: \"\\00b7\"; padding: 0 .5ex}\n",
       "</style>\n",
       "<ol class=list-inline><li>'a'</li><li>'b'</li><li>'c'</li></ol>\n",
       "</dd>\n",
       "</dl>\n"
      ],
      "text/latex": [
       "\\begin{description}\n",
       "\\item[\\$Number] \\begin{enumerate*}\n",
       "\\item 1\n",
       "\\item 2\n",
       "\\item 3\n",
       "\\item 4\n",
       "\\item 5\n",
       "\\item 6\n",
       "\\item 7\n",
       "\\item 8\n",
       "\\item 9\n",
       "\\item 10\n",
       "\\item 11\n",
       "\\item 12\n",
       "\\item 13\n",
       "\\item 14\n",
       "\\item 15\n",
       "\\item 16\n",
       "\\item 17\n",
       "\\item 18\n",
       "\\item 19\n",
       "\\item 20\n",
       "\\end{enumerate*}\n",
       "\n",
       "\\item[\\$String] \\begin{enumerate*}\n",
       "\\item 'a'\n",
       "\\item 'b'\n",
       "\\item 'c'\n",
       "\\end{enumerate*}\n",
       "\n",
       "\\end{description}\n"
      ],
      "text/markdown": [
       "$Number\n",
       ":   1. 1\n",
       "2. 2\n",
       "3. 3\n",
       "4. 4\n",
       "5. 5\n",
       "6. 6\n",
       "7. 7\n",
       "8. 8\n",
       "9. 9\n",
       "10. 10\n",
       "11. 11\n",
       "12. 12\n",
       "13. 13\n",
       "14. 14\n",
       "15. 15\n",
       "16. 16\n",
       "17. 17\n",
       "18. 18\n",
       "19. 19\n",
       "20. 20\n",
       "\n",
       "\n",
       "\n",
       "$String\n",
       ":   1. 'a'\n",
       "2. 'b'\n",
       "3. 'c'\n",
       "\n",
       "\n",
       "\n",
       "\n",
       "\n"
      ],
      "text/plain": [
       "$Number\n",
       " [1]  1  2  3  4  5  6  7  8  9 10 11 12 13 14 15 16 17 18 19 20\n",
       "\n",
       "$String\n",
       "[1] \"a\" \"b\" \"c\"\n"
      ]
     },
     "metadata": {},
     "output_type": "display_data"
    },
    {
     "data": {
      "text/html": [
       "<style>\n",
       ".list-inline {list-style: none; margin:0; padding: 0}\n",
       ".list-inline>li {display: inline-block}\n",
       ".list-inline>li:not(:last-child)::after {content: \"\\00b7\"; padding: 0 .5ex}\n",
       "</style>\n",
       "<ol class=list-inline><li>1</li><li>2</li><li>3</li><li>4</li><li>5</li><li>6</li><li>7</li><li>8</li><li>9</li><li>10</li><li>11</li><li>12</li><li>13</li><li>14</li><li>15</li><li>16</li><li>17</li><li>18</li><li>19</li><li>20</li></ol>\n"
      ],
      "text/latex": [
       "\\begin{enumerate*}\n",
       "\\item 1\n",
       "\\item 2\n",
       "\\item 3\n",
       "\\item 4\n",
       "\\item 5\n",
       "\\item 6\n",
       "\\item 7\n",
       "\\item 8\n",
       "\\item 9\n",
       "\\item 10\n",
       "\\item 11\n",
       "\\item 12\n",
       "\\item 13\n",
       "\\item 14\n",
       "\\item 15\n",
       "\\item 16\n",
       "\\item 17\n",
       "\\item 18\n",
       "\\item 19\n",
       "\\item 20\n",
       "\\end{enumerate*}\n"
      ],
      "text/markdown": [
       "1. 1\n",
       "2. 2\n",
       "3. 3\n",
       "4. 4\n",
       "5. 5\n",
       "6. 6\n",
       "7. 7\n",
       "8. 8\n",
       "9. 9\n",
       "10. 10\n",
       "11. 11\n",
       "12. 12\n",
       "13. 13\n",
       "14. 14\n",
       "15. 15\n",
       "16. 16\n",
       "17. 17\n",
       "18. 18\n",
       "19. 19\n",
       "20. 20\n",
       "\n",
       "\n"
      ],
      "text/plain": [
       " [1]  1  2  3  4  5  6  7  8  9 10 11 12 13 14 15 16 17 18 19 20"
      ]
     },
     "metadata": {},
     "output_type": "display_data"
    },
    {
     "data": {
      "text/html": [
       "<style>\n",
       ".list-inline {list-style: none; margin:0; padding: 0}\n",
       ".list-inline>li {display: inline-block}\n",
       ".list-inline>li:not(:last-child)::after {content: \"\\00b7\"; padding: 0 .5ex}\n",
       "</style>\n",
       "<ol class=list-inline><li>'a'</li><li>'b'</li><li>'c'</li></ol>\n"
      ],
      "text/latex": [
       "\\begin{enumerate*}\n",
       "\\item 'a'\n",
       "\\item 'b'\n",
       "\\item 'c'\n",
       "\\end{enumerate*}\n"
      ],
      "text/markdown": [
       "1. 'a'\n",
       "2. 'b'\n",
       "3. 'c'\n",
       "\n",
       "\n"
      ],
      "text/plain": [
       "[1] \"a\" \"b\" \"c\""
      ]
     },
     "metadata": {},
     "output_type": "display_data"
    }
   ],
   "source": [
    "# 여러개 항목 선택\n",
    "tmp_list2[c(2,3)] # list\n",
    "tmp_list2[c('Number','String')] # list\n",
    "tmp_list2$Number # integer\n",
    "tmp_list2$String # character"
   ]
  },
  {
   "cell_type": "code",
   "execution_count": 78,
   "id": "eb4c6da6",
   "metadata": {},
   "outputs": [],
   "source": [
    "# 리스트 모든 항목에 동일 함수 적용\n",
    "df <- read.csv('./rggagi/example_studentlist.csv')"
   ]
  },
  {
   "cell_type": "code",
   "execution_count": 79,
   "id": "c18c87fb",
   "metadata": {},
   "outputs": [
    {
     "data": {
      "text/html": [
       "<dl>\n",
       "\t<dt>$남자</dt>\n",
       "\t\t<dd><style>\n",
       ".list-inline {list-style: none; margin:0; padding: 0}\n",
       ".list-inline>li {display: inline-block}\n",
       ".list-inline>li:not(:last-child)::after {content: \"\\00b7\"; padding: 0 .5ex}\n",
       "</style>\n",
       "<ol class=list-inline><li>165.3</li><li>175</li><li>182.1</li><li>178.5</li><li>176.1</li><li>167.1</li><li>180</li><li>162.2</li><li>168.6</li><li>169.2</li></ol>\n",
       "</dd>\n",
       "\t<dt>$여자</dt>\n",
       "\t\t<dd><style>\n",
       ".list-inline {list-style: none; margin:0; padding: 0}\n",
       ".list-inline>li {display: inline-block}\n",
       ".list-inline>li:not(:last-child)::after {content: \"\\00b7\"; padding: 0 .5ex}\n",
       "</style>\n",
       "<ol class=list-inline><li>170.1</li><li>168</li><li>162</li><li>155.2</li><li>176.9</li><li>176.1</li><li>158.2</li></ol>\n",
       "</dd>\n",
       "</dl>\n"
      ],
      "text/latex": [
       "\\begin{description}\n",
       "\\item[\\$남자] \\begin{enumerate*}\n",
       "\\item 165.3\n",
       "\\item 175\n",
       "\\item 182.1\n",
       "\\item 178.5\n",
       "\\item 176.1\n",
       "\\item 167.1\n",
       "\\item 180\n",
       "\\item 162.2\n",
       "\\item 168.6\n",
       "\\item 169.2\n",
       "\\end{enumerate*}\n",
       "\n",
       "\\item[\\$여자] \\begin{enumerate*}\n",
       "\\item 170.1\n",
       "\\item 168\n",
       "\\item 162\n",
       "\\item 155.2\n",
       "\\item 176.9\n",
       "\\item 176.1\n",
       "\\item 158.2\n",
       "\\end{enumerate*}\n",
       "\n",
       "\\end{description}\n"
      ],
      "text/markdown": [
       "$남자\n",
       ":   1. 165.3\n",
       "2. 175\n",
       "3. 182.1\n",
       "4. 178.5\n",
       "5. 176.1\n",
       "6. 167.1\n",
       "7. 180\n",
       "8. 162.2\n",
       "9. 168.6\n",
       "10. 169.2\n",
       "\n",
       "\n",
       "\n",
       "$여자\n",
       ":   1. 170.1\n",
       "2. 168\n",
       "3. 162\n",
       "4. 155.2\n",
       "5. 176.9\n",
       "6. 176.1\n",
       "7. 158.2\n",
       "\n",
       "\n",
       "\n",
       "\n",
       "\n"
      ],
      "text/plain": [
       "$남자\n",
       " [1] 165.3 175.0 182.1 178.5 176.1 167.1 180.0 162.2 168.6 169.2\n",
       "\n",
       "$여자\n",
       "[1] 170.1 168.0 162.0 155.2 176.9 176.1 158.2\n"
      ]
     },
     "metadata": {},
     "output_type": "display_data"
    }
   ],
   "source": [
    "# 성별에 따른 키값을 리스트로 반환 - split\n",
    "height_sex <- split(df$height, df$sex)\n",
    "height_sex"
   ]
  },
  {
   "cell_type": "code",
   "execution_count": 80,
   "id": "239959ca",
   "metadata": {},
   "outputs": [
    {
     "name": "stderr",
     "output_type": "stream",
     "text": [
      "Warning message in mean.default(height_sex):\n",
      "\"인자가 수치형 또는 논리형이 아니므로 NA를 반환합니다\"\n"
     ]
    },
    {
     "data": {
      "text/html": [
       "&lt;NA&gt;"
      ],
      "text/latex": [
       "<NA>"
      ],
      "text/markdown": [
       "&lt;NA&gt;"
      ],
      "text/plain": [
       "[1] NA"
      ]
     },
     "metadata": {},
     "output_type": "display_data"
    },
    {
     "name": "stderr",
     "output_type": "stream",
     "text": [
      "Warning message in mean.default(height_sex[1]):\n",
      "\"인자가 수치형 또는 논리형이 아니므로 NA를 반환합니다\"\n"
     ]
    },
    {
     "data": {
      "text/html": [
       "&lt;NA&gt;"
      ],
      "text/latex": [
       "<NA>"
      ],
      "text/markdown": [
       "&lt;NA&gt;"
      ],
      "text/plain": [
       "[1] NA"
      ]
     },
     "metadata": {},
     "output_type": "display_data"
    },
    {
     "data": {
      "text/html": [
       "172.41"
      ],
      "text/latex": [
       "172.41"
      ],
      "text/markdown": [
       "172.41"
      ],
      "text/plain": [
       "[1] 172.41"
      ]
     },
     "metadata": {},
     "output_type": "display_data"
    }
   ],
   "source": [
    "# 리스트 평균 구하기\n",
    "mean(height_sex)\n",
    "mean(height_sex[1])\n",
    "mean(height_sex[[1]])"
   ]
  },
  {
   "cell_type": "code",
   "execution_count": 81,
   "id": "4f5f208b",
   "metadata": {
    "scrolled": true
   },
   "outputs": [
    {
     "data": {
      "text/html": [
       "<style>\n",
       ".dl-inline {width: auto; margin:0; padding: 0}\n",
       ".dl-inline>dt, .dl-inline>dd {float: none; width: auto; display: inline-block}\n",
       ".dl-inline>dt::after {content: \":\\0020\"; padding-right: .5ex}\n",
       ".dl-inline>dt:not(:first-of-type) {padding-left: .5ex}\n",
       "</style><dl class=dl-inline><dt>남자</dt><dd>172.41</dd><dt>여자</dt><dd>166.642857142857</dd></dl>\n"
      ],
      "text/latex": [
       "\\begin{description*}\n",
       "\\item[남자] 172.41\n",
       "\\item[여자] 166.642857142857\n",
       "\\end{description*}\n"
      ],
      "text/markdown": [
       "남자\n",
       ":   172.41여자\n",
       ":   166.642857142857\n",
       "\n"
      ],
      "text/plain": [
       "    남자     여자 \n",
       "172.4100 166.6429 "
      ]
     },
     "metadata": {},
     "output_type": "display_data"
    },
    {
     "data": {
      "text/html": [
       "<strong>남자:</strong> 172.41"
      ],
      "text/latex": [
       "\\textbf{남자:} 172.41"
      ],
      "text/markdown": [
       "**남자:** 172.41"
      ],
      "text/plain": [
       "  남자 \n",
       "172.41 "
      ]
     },
     "metadata": {},
     "output_type": "display_data"
    },
    {
     "data": {
      "text/html": [
       "172.41"
      ],
      "text/latex": [
       "172.41"
      ],
      "text/markdown": [
       "172.41"
      ],
      "text/plain": [
       "[1] 172.41"
      ]
     },
     "metadata": {},
     "output_type": "display_data"
    }
   ],
   "source": [
    "height_sex_mean <- sapply(height_sex, mean)\n",
    "height_sex_mean\n",
    "height_sex_mean[1]\n",
    "height_sex_mean[[1]]"
   ]
  },
  {
   "cell_type": "code",
   "execution_count": 84,
   "id": "f2219971",
   "metadata": {
    "scrolled": false
   },
   "outputs": [
    {
     "data": {
      "text/html": [
       "<table class=\"dataframe\">\n",
       "<caption>A matrix: 2 × 2 of type dbl</caption>\n",
       "<thead>\n",
       "\t<tr><th scope=col>남자</th><th scope=col>여자</th></tr>\n",
       "</thead>\n",
       "<tbody>\n",
       "\t<tr><td>162.2</td><td>155.2</td></tr>\n",
       "\t<tr><td>182.1</td><td>176.9</td></tr>\n",
       "</tbody>\n",
       "</table>\n"
      ],
      "text/latex": [
       "A matrix: 2 × 2 of type dbl\n",
       "\\begin{tabular}{ll}\n",
       " 남자 & 여자\\\\\n",
       "\\hline\n",
       "\t 162.2 & 155.2\\\\\n",
       "\t 182.1 & 176.9\\\\\n",
       "\\end{tabular}\n"
      ],
      "text/markdown": [
       "\n",
       "A matrix: 2 × 2 of type dbl\n",
       "\n",
       "| 남자 | 여자 |\n",
       "|---|---|\n",
       "| 162.2 | 155.2 |\n",
       "| 182.1 | 176.9 |\n",
       "\n"
      ],
      "text/plain": [
       "     남자  여자 \n",
       "[1,] 162.2 155.2\n",
       "[2,] 182.1 176.9"
      ]
     },
     "metadata": {},
     "output_type": "display_data"
    },
    {
     "data": {
      "text/html": [
       "<style>\n",
       ".dl-inline {width: auto; margin:0; padding: 0}\n",
       ".dl-inline>dt, .dl-inline>dd {float: none; width: auto; display: inline-block}\n",
       ".dl-inline>dt::after {content: \":\\0020\"; padding-right: .5ex}\n",
       ".dl-inline>dt:not(:first-of-type) {padding-left: .5ex}\n",
       "</style><dl class=dl-inline><dt>남자</dt><dd>162.2</dd><dt>여자</dt><dd>155.2</dd></dl>\n"
      ],
      "text/latex": [
       "\\begin{description*}\n",
       "\\item[남자] 162.2\n",
       "\\item[여자] 155.2\n",
       "\\end{description*}\n"
      ],
      "text/markdown": [
       "남자\n",
       ":   162.2여자\n",
       ":   155.2\n",
       "\n"
      ],
      "text/plain": [
       " 남자  여자 \n",
       "162.2 155.2 "
      ]
     },
     "metadata": {},
     "output_type": "display_data"
    },
    {
     "data": {
      "text/html": [
       "<style>\n",
       ".list-inline {list-style: none; margin:0; padding: 0}\n",
       ".list-inline>li {display: inline-block}\n",
       ".list-inline>li:not(:last-child)::after {content: \"\\00b7\"; padding: 0 .5ex}\n",
       "</style>\n",
       "<ol class=list-inline><li>162.2</li><li>182.1</li></ol>\n"
      ],
      "text/latex": [
       "\\begin{enumerate*}\n",
       "\\item 162.2\n",
       "\\item 182.1\n",
       "\\end{enumerate*}\n"
      ],
      "text/markdown": [
       "1. 162.2\n",
       "2. 182.1\n",
       "\n",
       "\n"
      ],
      "text/plain": [
       "[1] 162.2 182.1"
      ]
     },
     "metadata": {},
     "output_type": "display_data"
    }
   ],
   "source": [
    "# 리스트 범위 구하기\n",
    "height_sex_range <- sapply(height_sex, range)\n",
    "height_sex_range\n",
    "height_sex_range[1,] # 행\n",
    "height_sex_range[,1] # 열"
   ]
  },
  {
   "cell_type": "code",
   "execution_count": 86,
   "id": "47a23c89",
   "metadata": {},
   "outputs": [
    {
     "data": {
      "text/html": [
       "<style>\n",
       ".dl-inline {width: auto; margin:0; padding: 0}\n",
       ".dl-inline>dt, .dl-inline>dd {float: none; width: auto; display: inline-block}\n",
       ".dl-inline>dt::after {content: \":\\0020\"; padding-right: .5ex}\n",
       ".dl-inline>dt:not(:first-of-type) {padding-left: .5ex}\n",
       "</style><dl class=dl-inline><dt>남자</dt><dd>6.80464710489987</dd><dt>여자</dt><dd>8.48741365058818</dd></dl>\n"
      ],
      "text/latex": [
       "\\begin{description*}\n",
       "\\item[남자] 6.80464710489987\n",
       "\\item[여자] 8.48741365058818\n",
       "\\end{description*}\n"
      ],
      "text/markdown": [
       "남자\n",
       ":   6.80464710489987여자\n",
       ":   8.48741365058818\n",
       "\n"
      ],
      "text/plain": [
       "    남자     여자 \n",
       "6.804647 8.487414 "
      ]
     },
     "metadata": {},
     "output_type": "display_data"
    },
    {
     "data": {
      "text/html": [
       "<strong>남자:</strong> 6.80464710489987"
      ],
      "text/latex": [
       "\\textbf{남자:} 6.80464710489987"
      ],
      "text/markdown": [
       "**남자:** 6.80464710489987"
      ],
      "text/plain": [
       "    남자 \n",
       "6.804647 "
      ]
     },
     "metadata": {},
     "output_type": "display_data"
    },
    {
     "data": {
      "text/html": [
       "6.80464710489987"
      ],
      "text/latex": [
       "6.80464710489987"
      ],
      "text/markdown": [
       "6.80464710489987"
      ],
      "text/plain": [
       "[1] 6.804647"
      ]
     },
     "metadata": {},
     "output_type": "display_data"
    }
   ],
   "source": [
    "# 리스트 표준편차 구하기\n",
    "height_sex_sd <- sapply(height_sex, sd)\n",
    "height_sex_sd\n",
    "height_sex_sd[1]\n",
    "height_sex_sd[[1]]\n"
   ]
  },
  {
   "cell_type": "code",
   "execution_count": 87,
   "id": "44643e13",
   "metadata": {},
   "outputs": [],
   "source": [
    "# 명목형 변수 도수분포표 만들기\n",
    "df <- read.csv('./rggagi/example_studentlist.csv')"
   ]
  },
  {
   "cell_type": "code",
   "execution_count": 88,
   "id": "411571b5",
   "metadata": {},
   "outputs": [
    {
     "data": {
      "text/plain": [
       "\n",
       " A AB  B  O \n",
       " 4  3  5  5 "
      ]
     },
     "metadata": {},
     "output_type": "display_data"
    }
   ],
   "source": [
    "# 빈도수 - table()\n",
    "blood_type_table <- table(df$bloodtype)\n",
    "blood_type_table"
   ]
  },
  {
   "cell_type": "code",
   "execution_count": 89,
   "id": "fa0b7569",
   "metadata": {},
   "outputs": [
    {
     "data": {
      "text/plain": [
       "\n",
       "        A        AB         B         O \n",
       "0.2352941 0.1764706 0.2941176 0.2941176 "
      ]
     },
     "metadata": {},
     "output_type": "display_data"
    }
   ],
   "source": [
    "# 상대도수 - prop.table\n",
    "blood_type_prop_table <- prop.table(blood_type_table)\n",
    "blood_type_prop_table"
   ]
  },
  {
   "cell_type": "code",
   "execution_count": 90,
   "id": "0685b270",
   "metadata": {},
   "outputs": [
    {
     "data": {
      "text/html": [
       "<table class=\"dataframe\">\n",
       "<caption>A matrix: 2 × 4 of type dbl</caption>\n",
       "<thead>\n",
       "\t<tr><th></th><th scope=col>A</th><th scope=col>AB</th><th scope=col>B</th><th scope=col>O</th></tr>\n",
       "</thead>\n",
       "<tbody>\n",
       "\t<tr><th scope=row>blood_type_table</th><td>4.0000000</td><td>3.0000000</td><td>5.0000000</td><td>5.0000000</td></tr>\n",
       "\t<tr><th scope=row>blood_type_prop_table</th><td>0.2352941</td><td>0.1764706</td><td>0.2941176</td><td>0.2941176</td></tr>\n",
       "</tbody>\n",
       "</table>\n"
      ],
      "text/latex": [
       "A matrix: 2 × 4 of type dbl\n",
       "\\begin{tabular}{r|llll}\n",
       "  & A & AB & B & O\\\\\n",
       "\\hline\n",
       "\tblood\\_type\\_table & 4.0000000 & 3.0000000 & 5.0000000 & 5.0000000\\\\\n",
       "\tblood\\_type\\_prop\\_table & 0.2352941 & 0.1764706 & 0.2941176 & 0.2941176\\\\\n",
       "\\end{tabular}\n"
      ],
      "text/markdown": [
       "\n",
       "A matrix: 2 × 4 of type dbl\n",
       "\n",
       "| <!--/--> | A | AB | B | O |\n",
       "|---|---|---|---|---|\n",
       "| blood_type_table | 4.0000000 | 3.0000000 | 5.0000000 | 5.0000000 |\n",
       "| blood_type_prop_table | 0.2352941 | 0.1764706 | 0.2941176 | 0.2941176 |\n",
       "\n"
      ],
      "text/plain": [
       "                      A         AB        B         O        \n",
       "blood_type_table      4.0000000 3.0000000 5.0000000 5.0000000\n",
       "blood_type_prop_table 0.2352941 0.1764706 0.2941176 0.2941176"
      ]
     },
     "metadata": {},
     "output_type": "display_data"
    }
   ],
   "source": [
    "# 함께 보기 - rbind\n",
    "blood_type_rbind <- rbind(blood_type_table, blood_type_prop_table)\n",
    "blood_type_rbind"
   ]
  },
  {
   "cell_type": "code",
   "execution_count": 92,
   "id": "b7a16e8c",
   "metadata": {
    "scrolled": true
   },
   "outputs": [
    {
     "data": {
      "text/html": [
       "<table class=\"dataframe\">\n",
       "<caption>A matrix: 2 × 5 of type dbl</caption>\n",
       "<thead>\n",
       "\t<tr><th></th><th scope=col>A</th><th scope=col>AB</th><th scope=col>B</th><th scope=col>O</th><th scope=col>Sum</th></tr>\n",
       "</thead>\n",
       "<tbody>\n",
       "\t<tr><th scope=row>blood_type_table</th><td>4.0000000</td><td>3.0000000</td><td>5.0000000</td><td>5.0000000</td><td>17</td></tr>\n",
       "\t<tr><th scope=row>blood_type_prop_table</th><td>0.2352941</td><td>0.1764706</td><td>0.2941176</td><td>0.2941176</td><td> 1</td></tr>\n",
       "</tbody>\n",
       "</table>\n"
      ],
      "text/latex": [
       "A matrix: 2 × 5 of type dbl\n",
       "\\begin{tabular}{r|lllll}\n",
       "  & A & AB & B & O & Sum\\\\\n",
       "\\hline\n",
       "\tblood\\_type\\_table & 4.0000000 & 3.0000000 & 5.0000000 & 5.0000000 & 17\\\\\n",
       "\tblood\\_type\\_prop\\_table & 0.2352941 & 0.1764706 & 0.2941176 & 0.2941176 &  1\\\\\n",
       "\\end{tabular}\n"
      ],
      "text/markdown": [
       "\n",
       "A matrix: 2 × 5 of type dbl\n",
       "\n",
       "| <!--/--> | A | AB | B | O | Sum |\n",
       "|---|---|---|---|---|---|\n",
       "| blood_type_table | 4.0000000 | 3.0000000 | 5.0000000 | 5.0000000 | 17 |\n",
       "| blood_type_prop_table | 0.2352941 | 0.1764706 | 0.2941176 | 0.2941176 |  1 |\n",
       "\n"
      ],
      "text/plain": [
       "                      A         AB        B         O         Sum\n",
       "blood_type_table      4.0000000 3.0000000 5.0000000 5.0000000 17 \n",
       "blood_type_prop_table 0.2352941 0.1764706 0.2941176 0.2941176  1 "
      ]
     },
     "metadata": {},
     "output_type": "display_data"
    }
   ],
   "source": [
    "# table 객체 합구하기 - addmargins()\n",
    "# margin : 1 열, 2 행, 생략시 행열의 합\n",
    "blood_type_rbind_sum <- addmargins(blood_type_rbind, margin = 2) \n",
    "blood_type_rbind_sum"
   ]
  },
  {
   "cell_type": "code",
   "execution_count": 93,
   "id": "eeda523e",
   "metadata": {},
   "outputs": [],
   "source": [
    "# 연속형 변수 도수분포표 만들기\n",
    "# 구간을 먼저 나눈다 - 계급\n",
    "df <- read.csv('./rggagi/example_studentlist.csv')"
   ]
  },
  {
   "cell_type": "code",
   "execution_count": 94,
   "id": "0243df7f",
   "metadata": {},
   "outputs": [
    {
     "data": {
      "text/html": [
       "<style>\n",
       ".list-inline {list-style: none; margin:0; padding: 0}\n",
       ".list-inline>li {display: inline-block}\n",
       ".list-inline>li:not(:last-child)::after {content: \"\\00b7\"; padding: 0 .5ex}\n",
       "</style>\n",
       "<ol class=list-inline><li>(162,169]</li><li>(169,175]</li><li>(169,175]</li><li>(175,182]</li><li>(162,169]</li><li>(162,169]</li><li>(155,162]</li><li>(175,182]</li><li>(175,182]</li><li>(175,182]</li><li>(162,169]</li><li>(175,182]</li><li>(162,169]</li><li>(175,182]</li><li>(155,162]</li><li>(162,169]</li><li>(169,175]</li></ol>\n",
       "\n",
       "<details>\n",
       "\t<summary style=display:list-item;cursor:pointer>\n",
       "\t\t<strong>Levels</strong>:\n",
       "\t</summary>\n",
       "\t<style>\n",
       "\t.list-inline {list-style: none; margin:0; padding: 0}\n",
       "\t.list-inline>li {display: inline-block}\n",
       "\t.list-inline>li:not(:last-child)::after {content: \"\\00b7\"; padding: 0 .5ex}\n",
       "\t</style>\n",
       "\t<ol class=list-inline><li>'(155,162]'</li><li>'(162,169]'</li><li>'(169,175]'</li><li>'(175,182]'</li></ol>\n",
       "</details>"
      ],
      "text/latex": [
       "\\begin{enumerate*}\n",
       "\\item (162,169{]}\n",
       "\\item (169,175{]}\n",
       "\\item (169,175{]}\n",
       "\\item (175,182{]}\n",
       "\\item (162,169{]}\n",
       "\\item (162,169{]}\n",
       "\\item (155,162{]}\n",
       "\\item (175,182{]}\n",
       "\\item (175,182{]}\n",
       "\\item (175,182{]}\n",
       "\\item (162,169{]}\n",
       "\\item (175,182{]}\n",
       "\\item (162,169{]}\n",
       "\\item (175,182{]}\n",
       "\\item (155,162{]}\n",
       "\\item (162,169{]}\n",
       "\\item (169,175{]}\n",
       "\\end{enumerate*}\n",
       "\n",
       "\\emph{Levels}: \\begin{enumerate*}\n",
       "\\item '(155,162{]}'\n",
       "\\item '(162,169{]}'\n",
       "\\item '(169,175{]}'\n",
       "\\item '(175,182{]}'\n",
       "\\end{enumerate*}\n"
      ],
      "text/markdown": [
       "1. (162,169]\n",
       "2. (169,175]\n",
       "3. (169,175]\n",
       "4. (175,182]\n",
       "5. (162,169]\n",
       "6. (162,169]\n",
       "7. (155,162]\n",
       "8. (175,182]\n",
       "9. (175,182]\n",
       "10. (175,182]\n",
       "11. (162,169]\n",
       "12. (175,182]\n",
       "13. (162,169]\n",
       "14. (175,182]\n",
       "15. (155,162]\n",
       "16. (162,169]\n",
       "17. (169,175]\n",
       "\n",
       "\n",
       "\n",
       "**Levels**: 1. '(155,162]'\n",
       "2. '(162,169]'\n",
       "3. '(169,175]'\n",
       "4. '(175,182]'\n",
       "\n",
       "\n"
      ],
      "text/plain": [
       " [1] (162,169] (169,175] (169,175] (175,182] (162,169] (162,169] (155,162]\n",
       " [8] (175,182] (175,182] (175,182] (162,169] (175,182] (162,169] (175,182]\n",
       "[15] (155,162] (162,169] (169,175]\n",
       "Levels: (155,162] (162,169] (169,175] (175,182]"
      ]
     },
     "metadata": {},
     "output_type": "display_data"
    }
   ],
   "source": [
    "# 4개의 구간으로 나누기 - cut()\n",
    "# ( - 미포함  ] - 포함\n",
    "height_break_4 <- cut(df$height, breaks = 4)\n",
    "height_break_4"
   ]
  },
  {
   "cell_type": "code",
   "execution_count": 97,
   "id": "c629130e",
   "metadata": {},
   "outputs": [
    {
     "data": {
      "text/plain": [
       "height_break_4\n",
       "(155,162] (162,169] (169,175] (175,182] \n",
       "        2         6         3         6 "
      ]
     },
     "metadata": {},
     "output_type": "display_data"
    }
   ],
   "source": [
    "# 빈도수 - table()\n",
    "height_break_4_table <- table(height_break_4)\n",
    "height_break_4_table"
   ]
  },
  {
   "cell_type": "code",
   "execution_count": 96,
   "id": "c8c26c5c",
   "metadata": {},
   "outputs": [
    {
     "data": {
      "text/plain": [
       "height_break_4\n",
       "(155,162] (162,169] (169,175] (175,182] \n",
       "0.1176471 0.3529412 0.1764706 0.3529412 "
      ]
     },
     "metadata": {},
     "output_type": "display_data"
    }
   ],
   "source": [
    "# 상대도수 - prop.table\n",
    "height_break_4_prop_table <- prop.table(height_break_4_table)\n",
    "height_break_4_prop_table"
   ]
  },
  {
   "cell_type": "code",
   "execution_count": 98,
   "id": "e85de1e2",
   "metadata": {
    "scrolled": true
   },
   "outputs": [
    {
     "data": {
      "text/html": [
       "<table class=\"dataframe\">\n",
       "<caption>A matrix: 2 × 4 of type dbl</caption>\n",
       "<thead>\n",
       "\t<tr><th></th><th scope=col>(155,162]</th><th scope=col>(162,169]</th><th scope=col>(169,175]</th><th scope=col>(175,182]</th></tr>\n",
       "</thead>\n",
       "<tbody>\n",
       "\t<tr><th scope=row>height_break_4_table</th><td>2.0000000</td><td>6.0000000</td><td>3.0000000</td><td>6.0000000</td></tr>\n",
       "\t<tr><th scope=row>height_break_4_prop_table</th><td>0.1176471</td><td>0.3529412</td><td>0.1764706</td><td>0.3529412</td></tr>\n",
       "</tbody>\n",
       "</table>\n"
      ],
      "text/latex": [
       "A matrix: 2 × 4 of type dbl\n",
       "\\begin{tabular}{r|llll}\n",
       "  & (155,162{]} & (162,169{]} & (169,175{]} & (175,182{]}\\\\\n",
       "\\hline\n",
       "\theight\\_break\\_4\\_table & 2.0000000 & 6.0000000 & 3.0000000 & 6.0000000\\\\\n",
       "\theight\\_break\\_4\\_prop\\_table & 0.1176471 & 0.3529412 & 0.1764706 & 0.3529412\\\\\n",
       "\\end{tabular}\n"
      ],
      "text/markdown": [
       "\n",
       "A matrix: 2 × 4 of type dbl\n",
       "\n",
       "| <!--/--> | (155,162] | (162,169] | (169,175] | (175,182] |\n",
       "|---|---|---|---|---|\n",
       "| height_break_4_table | 2.0000000 | 6.0000000 | 3.0000000 | 6.0000000 |\n",
       "| height_break_4_prop_table | 0.1176471 | 0.3529412 | 0.1764706 | 0.3529412 |\n",
       "\n"
      ],
      "text/plain": [
       "                          (155,162] (162,169] (169,175] (175,182]\n",
       "height_break_4_table      2.0000000 6.0000000 3.0000000 6.0000000\n",
       "height_break_4_prop_table 0.1176471 0.3529412 0.1764706 0.3529412"
      ]
     },
     "metadata": {},
     "output_type": "display_data"
    }
   ],
   "source": [
    "# 함께 보기 - rbind\n",
    "height_break_4_rbind <- rbind(height_break_4_table, height_break_4_prop_table)\n",
    "height_break_4_rbind"
   ]
  },
  {
   "cell_type": "code",
   "execution_count": 99,
   "id": "f1a2aaca",
   "metadata": {},
   "outputs": [
    {
     "data": {
      "text/html": [
       "<table class=\"dataframe\">\n",
       "<caption>A matrix: 3 × 4 of type dbl</caption>\n",
       "<thead>\n",
       "\t<tr><th></th><th scope=col>(155,162]</th><th scope=col>(162,169]</th><th scope=col>(169,175]</th><th scope=col>(175,182]</th></tr>\n",
       "</thead>\n",
       "<tbody>\n",
       "\t<tr><th scope=row>height_break_4_table</th><td>2.0000000</td><td>6.0000000</td><td>3.0000000</td><td>6.0000000</td></tr>\n",
       "\t<tr><th scope=row>height_break_4_prop_table</th><td>0.1176471</td><td>0.3529412</td><td>0.1764706</td><td>0.3529412</td></tr>\n",
       "\t<tr><th scope=row></th><td>0.1176471</td><td>0.4705882</td><td>0.6470588</td><td>1.0000000</td></tr>\n",
       "</tbody>\n",
       "</table>\n"
      ],
      "text/latex": [
       "A matrix: 3 × 4 of type dbl\n",
       "\\begin{tabular}{r|llll}\n",
       "  & (155,162{]} & (162,169{]} & (169,175{]} & (175,182{]}\\\\\n",
       "\\hline\n",
       "\theight\\_break\\_4\\_table & 2.0000000 & 6.0000000 & 3.0000000 & 6.0000000\\\\\n",
       "\theight\\_break\\_4\\_prop\\_table & 0.1176471 & 0.3529412 & 0.1764706 & 0.3529412\\\\\n",
       "\t & 0.1176471 & 0.4705882 & 0.6470588 & 1.0000000\\\\\n",
       "\\end{tabular}\n"
      ],
      "text/markdown": [
       "\n",
       "A matrix: 3 × 4 of type dbl\n",
       "\n",
       "| <!--/--> | (155,162] | (162,169] | (169,175] | (175,182] |\n",
       "|---|---|---|---|---|\n",
       "| height_break_4_table | 2.0000000 | 6.0000000 | 3.0000000 | 6.0000000 |\n",
       "| height_break_4_prop_table | 0.1176471 | 0.3529412 | 0.1764706 | 0.3529412 |\n",
       "| <!----> | 0.1176471 | 0.4705882 | 0.6470588 | 1.0000000 |\n",
       "\n"
      ],
      "text/plain": [
       "                          (155,162] (162,169] (169,175] (175,182]\n",
       "height_break_4_table      2.0000000 6.0000000 3.0000000 6.0000000\n",
       "height_break_4_prop_table 0.1176471 0.3529412 0.1764706 0.3529412\n",
       "                          0.1176471 0.4705882 0.6470588 1.0000000"
      ]
     },
     "metadata": {},
     "output_type": "display_data"
    }
   ],
   "source": [
    "# 누적상대도수 - cumsum()\n",
    "height_break_4_cumsum <- rbind(height_break_4_rbind, cumsum(height_break_4_rbind[2,]))\n",
    "height_break_4_cumsum\n"
   ]
  },
  {
   "cell_type": "code",
   "execution_count": 100,
   "id": "8ff79fb1",
   "metadata": {},
   "outputs": [
    {
     "data": {
      "text/html": [
       "<table class=\"dataframe\">\n",
       "<caption>A matrix: 3 × 4 of type dbl</caption>\n",
       "<thead>\n",
       "\t<tr><th></th><th scope=col>(155,162]</th><th scope=col>(162,169]</th><th scope=col>(169,175]</th><th scope=col>(175,182]</th></tr>\n",
       "</thead>\n",
       "<tbody>\n",
       "\t<tr><th scope=row>도수</th><td>2.0000000</td><td>6.0000000</td><td>3.0000000</td><td>6.0000000</td></tr>\n",
       "\t<tr><th scope=row>상대도수</th><td>0.1176471</td><td>0.3529412</td><td>0.1764706</td><td>0.3529412</td></tr>\n",
       "\t<tr><th scope=row>누적도수</th><td>0.1176471</td><td>0.4705882</td><td>0.6470588</td><td>1.0000000</td></tr>\n",
       "</tbody>\n",
       "</table>\n"
      ],
      "text/latex": [
       "A matrix: 3 × 4 of type dbl\n",
       "\\begin{tabular}{r|llll}\n",
       "  & (155,162{]} & (162,169{]} & (169,175{]} & (175,182{]}\\\\\n",
       "\\hline\n",
       "\t도수 & 2.0000000 & 6.0000000 & 3.0000000 & 6.0000000\\\\\n",
       "\t상대도수 & 0.1176471 & 0.3529412 & 0.1764706 & 0.3529412\\\\\n",
       "\t누적도수 & 0.1176471 & 0.4705882 & 0.6470588 & 1.0000000\\\\\n",
       "\\end{tabular}\n"
      ],
      "text/markdown": [
       "\n",
       "A matrix: 3 × 4 of type dbl\n",
       "\n",
       "| <!--/--> | (155,162] | (162,169] | (169,175] | (175,182] |\n",
       "|---|---|---|---|---|\n",
       "| 도수 | 2.0000000 | 6.0000000 | 3.0000000 | 6.0000000 |\n",
       "| 상대도수 | 0.1176471 | 0.3529412 | 0.1764706 | 0.3529412 |\n",
       "| 누적도수 | 0.1176471 | 0.4705882 | 0.6470588 | 1.0000000 |\n",
       "\n"
      ],
      "text/plain": [
       "         (155,162] (162,169] (169,175] (175,182]\n",
       "도수     2.0000000 6.0000000 3.0000000 6.0000000\n",
       "상대도수 0.1176471 0.3529412 0.1764706 0.3529412\n",
       "누적도수 0.1176471 0.4705882 0.6470588 1.0000000"
      ]
     },
     "metadata": {},
     "output_type": "display_data"
    }
   ],
   "source": [
    "# 이름 추가(변경)\n",
    "rownames(height_break_4_cumsum) <- c('도수','상대도수','누적도수')\n",
    "height_break_4_cumsum"
   ]
  },
  {
   "cell_type": "code",
   "execution_count": 101,
   "id": "9af4b6e0",
   "metadata": {},
   "outputs": [],
   "source": [
    "# 분할표 만들기 - 두 변수의 빈도수를 나타내는 표\n",
    "df <- read.csv('./rggagi/example_studentlist.csv')"
   ]
  },
  {
   "cell_type": "code",
   "execution_count": 102,
   "id": "7d7a84b5",
   "metadata": {},
   "outputs": [
    {
     "data": {
      "text/plain": [
       "      \n",
       "       A AB B O\n",
       "  남자 2  2 4 2\n",
       "  여자 2  1 1 3"
      ]
     },
     "metadata": {},
     "output_type": "display_data"
    }
   ],
   "source": [
    "# 빈도수 구하기 - table\n",
    "sex_blood_table <- table(df$sex, df$bloodtype)\n",
    "sex_blood_table"
   ]
  },
  {
   "cell_type": "code",
   "execution_count": 103,
   "id": "ad092d20",
   "metadata": {},
   "outputs": [
    {
     "data": {
      "text/html": [
       "<table class=\"dataframe\">\n",
       "<caption>A table: 3 × 5 of type dbl</caption>\n",
       "<thead>\n",
       "\t<tr><th></th><th scope=col>A</th><th scope=col>AB</th><th scope=col>B</th><th scope=col>O</th><th scope=col>Sum</th></tr>\n",
       "</thead>\n",
       "<tbody>\n",
       "\t<tr><th scope=row>남자</th><td>2</td><td>2</td><td>4</td><td>2</td><td>10</td></tr>\n",
       "\t<tr><th scope=row>여자</th><td>2</td><td>1</td><td>1</td><td>3</td><td> 7</td></tr>\n",
       "\t<tr><th scope=row>Sum</th><td>4</td><td>3</td><td>5</td><td>5</td><td>17</td></tr>\n",
       "</tbody>\n",
       "</table>\n"
      ],
      "text/latex": [
       "A table: 3 × 5 of type dbl\n",
       "\\begin{tabular}{r|lllll}\n",
       "  & A & AB & B & O & Sum\\\\\n",
       "\\hline\n",
       "\t남자 & 2 & 2 & 4 & 2 & 10\\\\\n",
       "\t여자 & 2 & 1 & 1 & 3 &  7\\\\\n",
       "\tSum & 4 & 3 & 5 & 5 & 17\\\\\n",
       "\\end{tabular}\n"
      ],
      "text/markdown": [
       "\n",
       "A table: 3 × 5 of type dbl\n",
       "\n",
       "| <!--/--> | A | AB | B | O | Sum |\n",
       "|---|---|---|---|---|---|\n",
       "| 남자 | 2 | 2 | 4 | 2 | 10 |\n",
       "| 여자 | 2 | 1 | 1 | 3 |  7 |\n",
       "| Sum | 4 | 3 | 5 | 5 | 17 |\n",
       "\n"
      ],
      "text/plain": [
       "      \n",
       "       A AB B O Sum\n",
       "  남자 2 2  4 2 10 \n",
       "  여자 2 1  1 3  7 \n",
       "  Sum  4 3  5 5 17 "
      ]
     },
     "metadata": {},
     "output_type": "display_data"
    }
   ],
   "source": [
    "# 도수 행, 열 합 구하기 - addmargins\n",
    "addmargins(sex_blood_table)"
   ]
  },
  {
   "cell_type": "code",
   "execution_count": 104,
   "id": "6c3dc01a",
   "metadata": {},
   "outputs": [
    {
     "data": {
      "text/plain": [
       "      \n",
       "                A         AB          B          O\n",
       "  남자 0.11764706 0.11764706 0.23529412 0.11764706\n",
       "  여자 0.11764706 0.05882353 0.05882353 0.17647059"
      ]
     },
     "metadata": {},
     "output_type": "display_data"
    }
   ],
   "source": [
    "# 상대도수 구하기\n",
    "sex_blood_prop_table <- prop.table(sex_blood_table)\n",
    "sex_blood_prop_table"
   ]
  },
  {
   "cell_type": "code",
   "execution_count": 105,
   "id": "5885cf95",
   "metadata": {},
   "outputs": [
    {
     "data": {
      "text/html": [
       "<table class=\"dataframe\">\n",
       "<caption>A table: 3 × 5 of type dbl</caption>\n",
       "<thead>\n",
       "\t<tr><th></th><th scope=col>A</th><th scope=col>AB</th><th scope=col>B</th><th scope=col>O</th><th scope=col>Sum</th></tr>\n",
       "</thead>\n",
       "<tbody>\n",
       "\t<tr><th scope=row>남자</th><td>0.1176471</td><td>0.11764706</td><td>0.23529412</td><td>0.1176471</td><td>0.5882353</td></tr>\n",
       "\t<tr><th scope=row>여자</th><td>0.1176471</td><td>0.05882353</td><td>0.05882353</td><td>0.1764706</td><td>0.4117647</td></tr>\n",
       "\t<tr><th scope=row>Sum</th><td>0.2352941</td><td>0.17647059</td><td>0.29411765</td><td>0.2941176</td><td>1.0000000</td></tr>\n",
       "</tbody>\n",
       "</table>\n"
      ],
      "text/latex": [
       "A table: 3 × 5 of type dbl\n",
       "\\begin{tabular}{r|lllll}\n",
       "  & A & AB & B & O & Sum\\\\\n",
       "\\hline\n",
       "\t남자 & 0.1176471 & 0.11764706 & 0.23529412 & 0.1176471 & 0.5882353\\\\\n",
       "\t여자 & 0.1176471 & 0.05882353 & 0.05882353 & 0.1764706 & 0.4117647\\\\\n",
       "\tSum & 0.2352941 & 0.17647059 & 0.29411765 & 0.2941176 & 1.0000000\\\\\n",
       "\\end{tabular}\n"
      ],
      "text/markdown": [
       "\n",
       "A table: 3 × 5 of type dbl\n",
       "\n",
       "| <!--/--> | A | AB | B | O | Sum |\n",
       "|---|---|---|---|---|---|\n",
       "| 남자 | 0.1176471 | 0.11764706 | 0.23529412 | 0.1176471 | 0.5882353 |\n",
       "| 여자 | 0.1176471 | 0.05882353 | 0.05882353 | 0.1764706 | 0.4117647 |\n",
       "| Sum | 0.2352941 | 0.17647059 | 0.29411765 | 0.2941176 | 1.0000000 |\n",
       "\n"
      ],
      "text/plain": [
       "      \n",
       "       A         AB         B          O         Sum      \n",
       "  남자 0.1176471 0.11764706 0.23529412 0.1176471 0.5882353\n",
       "  여자 0.1176471 0.05882353 0.05882353 0.1764706 0.4117647\n",
       "  Sum  0.2352941 0.17647059 0.29411765 0.2941176 1.0000000"
      ]
     },
     "metadata": {},
     "output_type": "display_data"
    }
   ],
   "source": [
    "# 상대도수 합 구하기\n",
    "addmargins(sex_blood_prop_table)"
   ]
  },
  {
   "cell_type": "code",
   "execution_count": 106,
   "id": "dc87fb2b",
   "metadata": {},
   "outputs": [
    {
     "data": {
      "text/plain": [
       "      \n",
       "               A        AB         B         O\n",
       "  남자 0.2000000 0.2000000 0.4000000 0.2000000\n",
       "  여자 0.2857143 0.1428571 0.1428571 0.4285714"
      ]
     },
     "metadata": {},
     "output_type": "display_data"
    }
   ],
   "source": [
    "# 행별 상대도수 구하기\n",
    "sex_blood_prop_table_margin_1 <- prop.table(sex_blood_table, margin = 1)\n",
    "sex_blood_prop_table_margin_1"
   ]
  },
  {
   "cell_type": "code",
   "execution_count": 107,
   "id": "35548015",
   "metadata": {
    "scrolled": true
   },
   "outputs": [
    {
     "data": {
      "text/plain": [
       "      \n",
       "               A        AB         B         O\n",
       "  남자 0.5000000 0.6666667 0.8000000 0.4000000\n",
       "  여자 0.5000000 0.3333333 0.2000000 0.6000000"
      ]
     },
     "metadata": {},
     "output_type": "display_data"
    }
   ],
   "source": [
    "# 열별 상대도수 구하기\n",
    "sex_blood_prop_table_margin_2 <- prop.table(sex_blood_table, margin = 2)\n",
    "sex_blood_prop_table_margin_2\n"
   ]
  },
  {
   "cell_type": "code",
   "execution_count": 108,
   "id": "feb00814",
   "metadata": {},
   "outputs": [
    {
     "data": {
      "text/html": [
       "<style>\n",
       ".list-inline {list-style: none; margin:0; padding: 0}\n",
       ".list-inline>li {display: inline-block}\n",
       ".list-inline>li:not(:last-child)::after {content: \"\\00b7\"; padding: 0 .5ex}\n",
       "</style>\n",
       "<ol class=list-inline><li>TRUE</li><li>TRUE</li><li>TRUE</li><li>TRUE</li><li>FALSE</li><li>TRUE</li><li>TRUE</li><li>TRUE</li><li>TRUE</li><li>TRUE</li></ol>\n"
      ],
      "text/latex": [
       "\\begin{enumerate*}\n",
       "\\item TRUE\n",
       "\\item TRUE\n",
       "\\item TRUE\n",
       "\\item TRUE\n",
       "\\item FALSE\n",
       "\\item TRUE\n",
       "\\item TRUE\n",
       "\\item TRUE\n",
       "\\item TRUE\n",
       "\\item TRUE\n",
       "\\end{enumerate*}\n"
      ],
      "text/markdown": [
       "1. TRUE\n",
       "2. TRUE\n",
       "3. TRUE\n",
       "4. TRUE\n",
       "5. FALSE\n",
       "6. TRUE\n",
       "7. TRUE\n",
       "8. TRUE\n",
       "9. TRUE\n",
       "10. TRUE\n",
       "\n",
       "\n"
      ],
      "text/plain": [
       " [1]  TRUE  TRUE  TRUE  TRUE FALSE  TRUE  TRUE  TRUE  TRUE  TRUE"
      ]
     },
     "metadata": {},
     "output_type": "display_data"
    }
   ],
   "source": [
    "# 결측치 NA - 값이 없는 경우 처리\n",
    "# complete.cases() - NA값을 조사해 논리값으로 반환\n",
    "# na.omit() - 행에 NA 가 있으면 행 삭제\n",
    "a <- c(1,2,3,4,NA,6,7,8,9,10)\n",
    "complete.cases(a)\n"
   ]
  },
  {
   "cell_type": "code",
   "execution_count": 109,
   "id": "7ba851fe",
   "metadata": {},
   "outputs": [
    {
     "data": {
      "text/html": [
       "<style>\n",
       ".list-inline {list-style: none; margin:0; padding: 0}\n",
       ".list-inline>li {display: inline-block}\n",
       ".list-inline>li:not(:last-child)::after {content: \"\\00b7\"; padding: 0 .5ex}\n",
       "</style>\n",
       "<ol class=list-inline><li>1</li><li>2</li><li>3</li><li>4</li><li>6</li><li>7</li><li>8</li><li>9</li><li>10</li></ol>\n"
      ],
      "text/latex": [
       "\\begin{enumerate*}\n",
       "\\item 1\n",
       "\\item 2\n",
       "\\item 3\n",
       "\\item 4\n",
       "\\item 6\n",
       "\\item 7\n",
       "\\item 8\n",
       "\\item 9\n",
       "\\item 10\n",
       "\\end{enumerate*}\n"
      ],
      "text/markdown": [
       "1. 1\n",
       "2. 2\n",
       "3. 3\n",
       "4. 4\n",
       "5. 6\n",
       "6. 7\n",
       "7. 8\n",
       "8. 9\n",
       "9. 10\n",
       "\n",
       "\n"
      ],
      "text/plain": [
       "[1]  1  2  3  4  6  7  8  9 10"
      ]
     },
     "metadata": {},
     "output_type": "display_data"
    }
   ],
   "source": [
    "a[complete.cases(a)]"
   ]
  },
  {
   "cell_type": "code",
   "execution_count": 111,
   "id": "0a758a55",
   "metadata": {},
   "outputs": [
    {
     "data": {
      "text/html": [
       "<style>\n",
       ".list-inline {list-style: none; margin:0; padding: 0}\n",
       ".list-inline>li {display: inline-block}\n",
       ".list-inline>li:not(:last-child)::after {content: \"\\00b7\"; padding: 0 .5ex}\n",
       "</style>\n",
       "<ol class=list-inline><li>1</li><li>2</li><li>3</li><li>4</li><li>6</li><li>7</li><li>8</li><li>9</li><li>10</li></ol>\n"
      ],
      "text/latex": [
       "\\begin{enumerate*}\n",
       "\\item 1\n",
       "\\item 2\n",
       "\\item 3\n",
       "\\item 4\n",
       "\\item 6\n",
       "\\item 7\n",
       "\\item 8\n",
       "\\item 9\n",
       "\\item 10\n",
       "\\end{enumerate*}\n"
      ],
      "text/markdown": [
       "1. 1\n",
       "2. 2\n",
       "3. 3\n",
       "4. 4\n",
       "5. 6\n",
       "6. 7\n",
       "7. 8\n",
       "8. 9\n",
       "9. 10\n",
       "\n",
       "\n"
      ],
      "text/plain": [
       "[1]  1  2  3  4  6  7  8  9 10\n",
       "attr(,\"na.action\")\n",
       "[1] 5\n",
       "attr(,\"class\")\n",
       "[1] \"omit\""
      ]
     },
     "metadata": {},
     "output_type": "display_data"
    }
   ],
   "source": [
    "na.omit(a)"
   ]
  },
  {
   "cell_type": "markdown",
   "id": "7312d6cf",
   "metadata": {},
   "source": [
    "데이터 개념 이해하기\n",
    "예제로 이해하기\n",
    "hflights 패키지 - 20만건 이상의 데이터"
   ]
  },
  {
   "cell_type": "code",
   "execution_count": 112,
   "id": "c0afe4cc",
   "metadata": {},
   "outputs": [
    {
     "name": "stdout",
     "output_type": "stream",
     "text": [
      "package 'hflights' successfully unpacked and MD5 sums checked\n",
      "\n",
      "The downloaded binary packages are in\n",
      "\tC:\\Users\\NOTEBOOK\\AppData\\Local\\Temp\\RtmpYBe6b3\\downloaded_packages\n"
     ]
    }
   ],
   "source": [
    "# 패키지 설치\n",
    "install.packages(\"hflights\")"
   ]
  },
  {
   "cell_type": "code",
   "execution_count": 113,
   "id": "90873c81",
   "metadata": {},
   "outputs": [],
   "source": [
    "library(ggplot2)"
   ]
  },
  {
   "cell_type": "code",
   "execution_count": 114,
   "id": "fa8877ee",
   "metadata": {},
   "outputs": [],
   "source": [
    "library(hflights)"
   ]
  },
  {
   "cell_type": "code",
   "execution_count": 115,
   "id": "17464825",
   "metadata": {},
   "outputs": [
    {
     "name": "stdout",
     "output_type": "stream",
     "text": [
      "'data.frame':\t227496 obs. of  21 variables:\n",
      " $ Year             : int  2011 2011 2011 2011 2011 2011 2011 2011 2011 2011 ...\n",
      " $ Month            : int  1 1 1 1 1 1 1 1 1 1 ...\n",
      " $ DayofMonth       : int  1 2 3 4 5 6 7 8 9 10 ...\n",
      " $ DayOfWeek        : int  6 7 1 2 3 4 5 6 7 1 ...\n",
      " $ DepTime          : int  1400 1401 1352 1403 1405 1359 1359 1355 1443 1443 ...\n",
      " $ ArrTime          : int  1500 1501 1502 1513 1507 1503 1509 1454 1554 1553 ...\n",
      " $ UniqueCarrier    : chr  \"AA\" \"AA\" \"AA\" \"AA\" ...\n",
      " $ FlightNum        : int  428 428 428 428 428 428 428 428 428 428 ...\n",
      " $ TailNum          : chr  \"N576AA\" \"N557AA\" \"N541AA\" \"N403AA\" ...\n",
      " $ ActualElapsedTime: int  60 60 70 70 62 64 70 59 71 70 ...\n",
      " $ AirTime          : int  40 45 48 39 44 45 43 40 41 45 ...\n",
      " $ ArrDelay         : int  -10 -9 -8 3 -3 -7 -1 -16 44 43 ...\n",
      " $ DepDelay         : int  0 1 -8 3 5 -1 -1 -5 43 43 ...\n",
      " $ Origin           : chr  \"IAH\" \"IAH\" \"IAH\" \"IAH\" ...\n",
      " $ Dest             : chr  \"DFW\" \"DFW\" \"DFW\" \"DFW\" ...\n",
      " $ Distance         : int  224 224 224 224 224 224 224 224 224 224 ...\n",
      " $ TaxiIn           : int  7 6 5 9 9 6 12 7 8 6 ...\n",
      " $ TaxiOut          : int  13 9 17 22 9 13 15 12 22 19 ...\n",
      " $ Cancelled        : int  0 0 0 0 0 0 0 0 0 0 ...\n",
      " $ CancellationCode : chr  \"\" \"\" \"\" \"\" ...\n",
      " $ Diverted         : int  0 0 0 0 0 0 0 0 0 0 ...\n"
     ]
    }
   ],
   "source": [
    "# 구조 살펴보기 - str()\n",
    "str(hflights)"
   ]
  },
  {
   "cell_type": "code",
   "execution_count": 116,
   "id": "30646559",
   "metadata": {},
   "outputs": [
    {
     "data": {
      "text/html": [
       "<table class=\"dataframe\">\n",
       "<caption>A data.frame: 6 × 21</caption>\n",
       "<thead>\n",
       "\t<tr><th></th><th scope=col>Year</th><th scope=col>Month</th><th scope=col>DayofMonth</th><th scope=col>DayOfWeek</th><th scope=col>DepTime</th><th scope=col>ArrTime</th><th scope=col>UniqueCarrier</th><th scope=col>FlightNum</th><th scope=col>TailNum</th><th scope=col>ActualElapsedTime</th><th scope=col>⋯</th><th scope=col>ArrDelay</th><th scope=col>DepDelay</th><th scope=col>Origin</th><th scope=col>Dest</th><th scope=col>Distance</th><th scope=col>TaxiIn</th><th scope=col>TaxiOut</th><th scope=col>Cancelled</th><th scope=col>CancellationCode</th><th scope=col>Diverted</th></tr>\n",
       "\t<tr><th></th><th scope=col>&lt;int&gt;</th><th scope=col>&lt;int&gt;</th><th scope=col>&lt;int&gt;</th><th scope=col>&lt;int&gt;</th><th scope=col>&lt;int&gt;</th><th scope=col>&lt;int&gt;</th><th scope=col>&lt;chr&gt;</th><th scope=col>&lt;int&gt;</th><th scope=col>&lt;chr&gt;</th><th scope=col>&lt;int&gt;</th><th scope=col>⋯</th><th scope=col>&lt;int&gt;</th><th scope=col>&lt;int&gt;</th><th scope=col>&lt;chr&gt;</th><th scope=col>&lt;chr&gt;</th><th scope=col>&lt;int&gt;</th><th scope=col>&lt;int&gt;</th><th scope=col>&lt;int&gt;</th><th scope=col>&lt;int&gt;</th><th scope=col>&lt;chr&gt;</th><th scope=col>&lt;int&gt;</th></tr>\n",
       "</thead>\n",
       "<tbody>\n",
       "\t<tr><th scope=row>5424</th><td>2011</td><td>1</td><td>1</td><td>6</td><td>1400</td><td>1500</td><td>AA</td><td>428</td><td>N576AA</td><td>60</td><td>⋯</td><td>-10</td><td> 0</td><td>IAH</td><td>DFW</td><td>224</td><td>7</td><td>13</td><td>0</td><td></td><td>0</td></tr>\n",
       "\t<tr><th scope=row>5425</th><td>2011</td><td>1</td><td>2</td><td>7</td><td>1401</td><td>1501</td><td>AA</td><td>428</td><td>N557AA</td><td>60</td><td>⋯</td><td> -9</td><td> 1</td><td>IAH</td><td>DFW</td><td>224</td><td>6</td><td> 9</td><td>0</td><td></td><td>0</td></tr>\n",
       "\t<tr><th scope=row>5426</th><td>2011</td><td>1</td><td>3</td><td>1</td><td>1352</td><td>1502</td><td>AA</td><td>428</td><td>N541AA</td><td>70</td><td>⋯</td><td> -8</td><td>-8</td><td>IAH</td><td>DFW</td><td>224</td><td>5</td><td>17</td><td>0</td><td></td><td>0</td></tr>\n",
       "\t<tr><th scope=row>5427</th><td>2011</td><td>1</td><td>4</td><td>2</td><td>1403</td><td>1513</td><td>AA</td><td>428</td><td>N403AA</td><td>70</td><td>⋯</td><td>  3</td><td> 3</td><td>IAH</td><td>DFW</td><td>224</td><td>9</td><td>22</td><td>0</td><td></td><td>0</td></tr>\n",
       "\t<tr><th scope=row>5428</th><td>2011</td><td>1</td><td>5</td><td>3</td><td>1405</td><td>1507</td><td>AA</td><td>428</td><td>N492AA</td><td>62</td><td>⋯</td><td> -3</td><td> 5</td><td>IAH</td><td>DFW</td><td>224</td><td>9</td><td> 9</td><td>0</td><td></td><td>0</td></tr>\n",
       "\t<tr><th scope=row>5429</th><td>2011</td><td>1</td><td>6</td><td>4</td><td>1359</td><td>1503</td><td>AA</td><td>428</td><td>N262AA</td><td>64</td><td>⋯</td><td> -7</td><td>-1</td><td>IAH</td><td>DFW</td><td>224</td><td>6</td><td>13</td><td>0</td><td></td><td>0</td></tr>\n",
       "</tbody>\n",
       "</table>\n"
      ],
      "text/latex": [
       "A data.frame: 6 × 21\n",
       "\\begin{tabular}{r|lllllllllllllllllllll}\n",
       "  & Year & Month & DayofMonth & DayOfWeek & DepTime & ArrTime & UniqueCarrier & FlightNum & TailNum & ActualElapsedTime & ⋯ & ArrDelay & DepDelay & Origin & Dest & Distance & TaxiIn & TaxiOut & Cancelled & CancellationCode & Diverted\\\\\n",
       "  & <int> & <int> & <int> & <int> & <int> & <int> & <chr> & <int> & <chr> & <int> & ⋯ & <int> & <int> & <chr> & <chr> & <int> & <int> & <int> & <int> & <chr> & <int>\\\\\n",
       "\\hline\n",
       "\t5424 & 2011 & 1 & 1 & 6 & 1400 & 1500 & AA & 428 & N576AA & 60 & ⋯ & -10 &  0 & IAH & DFW & 224 & 7 & 13 & 0 &  & 0\\\\\n",
       "\t5425 & 2011 & 1 & 2 & 7 & 1401 & 1501 & AA & 428 & N557AA & 60 & ⋯ &  -9 &  1 & IAH & DFW & 224 & 6 &  9 & 0 &  & 0\\\\\n",
       "\t5426 & 2011 & 1 & 3 & 1 & 1352 & 1502 & AA & 428 & N541AA & 70 & ⋯ &  -8 & -8 & IAH & DFW & 224 & 5 & 17 & 0 &  & 0\\\\\n",
       "\t5427 & 2011 & 1 & 4 & 2 & 1403 & 1513 & AA & 428 & N403AA & 70 & ⋯ &   3 &  3 & IAH & DFW & 224 & 9 & 22 & 0 &  & 0\\\\\n",
       "\t5428 & 2011 & 1 & 5 & 3 & 1405 & 1507 & AA & 428 & N492AA & 62 & ⋯ &  -3 &  5 & IAH & DFW & 224 & 9 &  9 & 0 &  & 0\\\\\n",
       "\t5429 & 2011 & 1 & 6 & 4 & 1359 & 1503 & AA & 428 & N262AA & 64 & ⋯ &  -7 & -1 & IAH & DFW & 224 & 6 & 13 & 0 &  & 0\\\\\n",
       "\\end{tabular}\n"
      ],
      "text/markdown": [
       "\n",
       "A data.frame: 6 × 21\n",
       "\n",
       "| <!--/--> | Year &lt;int&gt; | Month &lt;int&gt; | DayofMonth &lt;int&gt; | DayOfWeek &lt;int&gt; | DepTime &lt;int&gt; | ArrTime &lt;int&gt; | UniqueCarrier &lt;chr&gt; | FlightNum &lt;int&gt; | TailNum &lt;chr&gt; | ActualElapsedTime &lt;int&gt; | ⋯ ⋯ | ArrDelay &lt;int&gt; | DepDelay &lt;int&gt; | Origin &lt;chr&gt; | Dest &lt;chr&gt; | Distance &lt;int&gt; | TaxiIn &lt;int&gt; | TaxiOut &lt;int&gt; | Cancelled &lt;int&gt; | CancellationCode &lt;chr&gt; | Diverted &lt;int&gt; |\n",
       "|---|---|---|---|---|---|---|---|---|---|---|---|---|---|---|---|---|---|---|---|---|---|\n",
       "| 5424 | 2011 | 1 | 1 | 6 | 1400 | 1500 | AA | 428 | N576AA | 60 | ⋯ | -10 |  0 | IAH | DFW | 224 | 7 | 13 | 0 | <!----> | 0 |\n",
       "| 5425 | 2011 | 1 | 2 | 7 | 1401 | 1501 | AA | 428 | N557AA | 60 | ⋯ |  -9 |  1 | IAH | DFW | 224 | 6 |  9 | 0 | <!----> | 0 |\n",
       "| 5426 | 2011 | 1 | 3 | 1 | 1352 | 1502 | AA | 428 | N541AA | 70 | ⋯ |  -8 | -8 | IAH | DFW | 224 | 5 | 17 | 0 | <!----> | 0 |\n",
       "| 5427 | 2011 | 1 | 4 | 2 | 1403 | 1513 | AA | 428 | N403AA | 70 | ⋯ |   3 |  3 | IAH | DFW | 224 | 9 | 22 | 0 | <!----> | 0 |\n",
       "| 5428 | 2011 | 1 | 5 | 3 | 1405 | 1507 | AA | 428 | N492AA | 62 | ⋯ |  -3 |  5 | IAH | DFW | 224 | 9 |  9 | 0 | <!----> | 0 |\n",
       "| 5429 | 2011 | 1 | 6 | 4 | 1359 | 1503 | AA | 428 | N262AA | 64 | ⋯ |  -7 | -1 | IAH | DFW | 224 | 6 | 13 | 0 | <!----> | 0 |\n",
       "\n"
      ],
      "text/plain": [
       "     Year Month DayofMonth DayOfWeek DepTime ArrTime UniqueCarrier FlightNum\n",
       "5424 2011 1     1          6         1400    1500    AA            428      \n",
       "5425 2011 1     2          7         1401    1501    AA            428      \n",
       "5426 2011 1     3          1         1352    1502    AA            428      \n",
       "5427 2011 1     4          2         1403    1513    AA            428      \n",
       "5428 2011 1     5          3         1405    1507    AA            428      \n",
       "5429 2011 1     6          4         1359    1503    AA            428      \n",
       "     TailNum ActualElapsedTime <U+22EF>        ArrDelay DepDelay Origin Dest Distance\n",
       "5424 N576AA  60                <U+22EF> -10       0       IAH    DFW  224     \n",
       "5425 N557AA  60                <U+22EF>  -9       1       IAH    DFW  224     \n",
       "5426 N541AA  70                <U+22EF>  -8      -8       IAH    DFW  224     \n",
       "5427 N403AA  70                <U+22EF>   3       3       IAH    DFW  224     \n",
       "5428 N492AA  62                <U+22EF>  -3       5       IAH    DFW  224     \n",
       "5429 N262AA  64                <U+22EF>  -7      -1       IAH    DFW  224     \n",
       "     TaxiIn TaxiOut Cancelled CancellationCode Diverted\n",
       "5424 7      13      0                          0       \n",
       "5425 6       9      0                          0       \n",
       "5426 5      17      0                          0       \n",
       "5427 9      22      0                          0       \n",
       "5428 9       9      0                          0       \n",
       "5429 6      13      0                          0       "
      ]
     },
     "metadata": {},
     "output_type": "display_data"
    }
   ],
   "source": [
    "# 일부 확인 - head()\n",
    "head(hflights)"
   ]
  },
  {
   "cell_type": "code",
   "execution_count": 117,
   "id": "6c0cc2fe",
   "metadata": {},
   "outputs": [
    {
     "data": {
      "text/plain": [
       "\n",
       " ABQ  AEX  AGS  AMA  ANC  ASE  ATL  AUS  AVL  BFL  BHM  BKG  BNA  BOS  BPT  BRO \n",
       "2812  724    1 1297  125  125 7886 5022  350  504 2736  110 3481 1752    3 1692 \n",
       " BTR  BWI  CAE  CHS  CID  CLE  CLT  CMH  COS  CRP  CRW  CVG  DAL  DAY  DCA  DEN \n",
       "1762 2551  561 1200  410 2140 4735 1348 1657 4813  357 1535 9820  451 2699 5920 \n",
       " DFW  DSM  DTW  ECP  EGE  ELP  EWR  FLL  GJT  GPT  GRK  GRR  GSO  GSP  GUC  HDN \n",
       "6653  647 2601  729  110 3036 4314 2462  403 1618   42  677  630 1123   86  110 \n",
       " HNL  HOB  HRL  HSV  IAD  ICT  IND  JAN  JAX  JFK  LAS  LAX  LBB  LCH  LEX  LFT \n",
       " 402  309 3983  923 1980 1517 1750 2011 2135  695 4082 6064 1333  364  584 2313 \n",
       " LGA  LIT  LRD  MAF  MCI  MCO  MDW  MEM  MFE  MIA  MKE  MLU  MOB  MSP  MSY  MTJ \n",
       "2730 1579 1188 2306 3174 3687 2094 2399 1128 2463 1588  292 1674 2010 6823  164 \n",
       " OAK  OKC  OMA  ONT  ORD  ORF  PBI  PDX  PHL  PHX  PIT  PNS  PSP  RDU  RIC  RNO \n",
       " 690 3170 2044  952 5748  717 1253 1235 2367 5096 1664 1539  106 1740  900  243 \n",
       " RSW  SAN  SAT  SAV  SDF  SEA  SFO  SHV  SJC  SJU  SLC  SMF  SNA  STL  TPA  TUL \n",
       " 948 2936 4893  863 1279 2615 2818  787  885  391 2033 1014 1661 2509 3085 2924 \n",
       " TUS  TYS  VPS  XNA \n",
       "1565 1210  880 1172 "
      ]
     },
     "metadata": {},
     "output_type": "display_data"
    }
   ],
   "source": [
    "# 특정 변수 확인\n",
    "dest_table <- table(hflights$Dest)\n",
    "dest_table"
   ]
  },
  {
   "cell_type": "code",
   "execution_count": 118,
   "id": "6e1611bb",
   "metadata": {
    "scrolled": true
   },
   "outputs": [
    {
     "data": {
      "text/html": [
       "116"
      ],
      "text/latex": [
       "116"
      ],
      "text/markdown": [
       "116"
      ],
      "text/plain": [
       "[1] 116"
      ]
     },
     "metadata": {},
     "output_type": "display_data"
    }
   ],
   "source": [
    "# 명목형 변수 개수 확인 - length() 벡터나 리스트등 개수 확인 함수\n",
    "length(dest_table)"
   ]
  },
  {
   "cell_type": "code",
   "execution_count": 119,
   "id": "053b7da7",
   "metadata": {},
   "outputs": [
    {
     "data": {
      "text/html": [
       "<style>\n",
       ".list-inline {list-style: none; margin:0; padding: 0}\n",
       ".list-inline>li {display: inline-block}\n",
       ".list-inline>li:not(:last-child)::after {content: \"\\00b7\"; padding: 0 .5ex}\n",
       "</style>\n",
       "<ol class=list-inline><li>1</li><li>9820</li></ol>\n"
      ],
      "text/latex": [
       "\\begin{enumerate*}\n",
       "\\item 1\n",
       "\\item 9820\n",
       "\\end{enumerate*}\n"
      ],
      "text/markdown": [
       "1. 1\n",
       "2. 9820\n",
       "\n",
       "\n"
      ],
      "text/plain": [
       "[1]    1 9820"
      ]
     },
     "metadata": {},
     "output_type": "display_data"
    }
   ],
   "source": [
    "# 범위 살펴보기 - range() 가장 큰값, 작은값\n",
    "range(dest_table)"
   ]
  },
  {
   "cell_type": "code",
   "execution_count": 121,
   "id": "3aab930a",
   "metadata": {
    "scrolled": true
   },
   "outputs": [
    {
     "data": {
      "text/html": [
       "<style>\n",
       ".list-inline {list-style: none; margin:0; padding: 0}\n",
       ".list-inline>li {display: inline-block}\n",
       ".list-inline>li:not(:last-child)::after {content: \"\\00b7\"; padding: 0 .5ex}\n",
       "</style>\n",
       "<ol class=list-inline><li>1</li><li>9820</li></ol>\n"
      ],
      "text/latex": [
       "\\begin{enumerate*}\n",
       "\\item 1\n",
       "\\item 9820\n",
       "\\end{enumerate*}\n"
      ],
      "text/markdown": [
       "1. 1\n",
       "2. 9820\n",
       "\n",
       "\n"
      ],
      "text/plain": [
       "[1]    1 9820"
      ]
     },
     "metadata": {},
     "output_type": "display_data"
    }
   ],
   "source": [
    "# 범위 살펴보기 - range() 가장 큰값, 작은값\n",
    "range(dest_table)"
   ]
  },
  {
   "cell_type": "code",
   "execution_count": 122,
   "id": "63ab138b",
   "metadata": {},
   "outputs": [
    {
     "data": {
      "text/html": [
       "<strong>AGS:</strong> 1"
      ],
      "text/latex": [
       "\\textbf{AGS:} 1"
      ],
      "text/markdown": [
       "**AGS:** 1"
      ],
      "text/plain": [
       "AGS \n",
       "  1 "
      ]
     },
     "metadata": {},
     "output_type": "display_data"
    },
    {
     "data": {
      "text/html": [
       "<strong>DAL:</strong> 9820"
      ],
      "text/latex": [
       "\\textbf{DAL:} 9820"
      ],
      "text/markdown": [
       "**DAL:** 9820"
      ],
      "text/plain": [
       " DAL \n",
       "9820 "
      ]
     },
     "metadata": {},
     "output_type": "display_data"
    }
   ],
   "source": [
    "# 가장 큰값, 작은값의 이름 찾기\n",
    "dest_table[dest_table == 1] # 오거스타 리저널 공항\n",
    "dest_table[dest_table == 9820] # 댈러스 공항"
   ]
  },
  {
   "cell_type": "code",
   "execution_count": 123,
   "id": "8d9a086f",
   "metadata": {},
   "outputs": [
    {
     "data": {
      "text/plain": [
       "\n",
       " ATL  AUS  DAL  DEN  DFW  LAX  MSY  ORD  PHX \n",
       "7886 5022 9820 5920 6653 6064 6823 5748 5096 "
      ]
     },
     "metadata": {},
     "output_type": "display_data"
    }
   ],
   "source": [
    "dest_table_5000 <- dest_table[dest_table > 5000]\n",
    "dest_table_5000"
   ]
  },
  {
   "cell_type": "code",
   "execution_count": 124,
   "id": "b40f53f9",
   "metadata": {},
   "outputs": [
    {
     "data": {
      "image/png": "[encoded data removed]",
      "text/plain": [
       "plot without title"
      ]
     },
     "metadata": {
      "image/png": {
       "height": 420,
       "width": 420
      }
     },
     "output_type": "display_data"
    }
   ],
   "source": [
    "barplot(dest_table_5000)"
   ]
  },
  {
   "cell_type": "code",
   "execution_count": 125,
   "id": "ac87664e",
   "metadata": {},
   "outputs": [],
   "source": [
    "df <- read.csv('./rggagi/example_cancer.csv')"
   ]
  },
  {
   "cell_type": "code",
   "execution_count": 126,
   "id": "6a7c8b91",
   "metadata": {},
   "outputs": [
    {
     "name": "stdout",
     "output_type": "stream",
     "text": [
      "'data.frame':\t18310 obs. of  8 variables:\n",
      " $ age            : int  75 52 67 62 70 76 55 72 64 71 ...\n",
      " $ sex            : chr  \"남\" \"여\" \"여\" \"남\" ...\n",
      " $ height         : chr  \"161\" \"176.6\" \"154\" \"162\" ...\n",
      " $ weight         : chr  \"64\" \"75.3\" \"65.6\" \"57\" ...\n",
      " $ dateOfoperation: chr  \"2011-06-22\" \"2011-05-19\" \"2011-05-31\" \"2011-06-21\" ...\n",
      " $ cancerStaging  : chr  \"I\" \"IV\" \"III\" \"I\" ...\n",
      " $ hospitalization: int  48 17 10 11 10 10 12 18 15 35 ...\n",
      " $ diseaseCode    : chr  \"C187\" \"C187\" \"C187\" \"C187\" ...\n"
     ]
    }
   ],
   "source": [
    "str(df)"
   ]
  },
  {
   "cell_type": "code",
   "execution_count": 127,
   "id": "558b0c0e",
   "metadata": {},
   "outputs": [
    {
     "data": {
      "text/plain": [
       "\n",
       "   (0,10]   (10,20]   (20,30]   (30,40]   (40,50]   (50,60]   (60,70]   (70,80] \n",
       "        0         3        77       482      1917      4558      5679      4598 \n",
       "  (80,90]  (90,100] (100,110] \n",
       "      962        33         1 "
      ]
     },
     "metadata": {},
     "output_type": "display_data"
    }
   ],
   "source": [
    "age_table <- table(cut(df$age, breaks=(0:11)*10))\n",
    "age_table"
   ]
  },
  {
   "cell_type": "code",
   "execution_count": 128,
   "id": "4c1c7670",
   "metadata": {},
   "outputs": [
    {
     "data": {
      "text/plain": [
       "\n",
       "  1s  10s  20s  30s  40s  50s  60s  70s  80s  90s 100s \n",
       "   0    3   77  482 1917 4558 5679 4598  962   33    1 "
      ]
     },
     "metadata": {},
     "output_type": "display_data"
    }
   ],
   "source": [
    "rownames(age_table) <- c('1s','10s','20s','30s','40s','50s','60s','70s','80s','90s','100s')\n",
    "age_table"
   ]
  },
  {
   "cell_type": "code",
   "execution_count": 129,
   "id": "e9d8072f",
   "metadata": {
    "scrolled": true
   },
   "outputs": [
    {
     "data": {
      "image/png": "[encoded data removed]",
      "text/plain": [
       "plot without title"
      ]
     },
     "metadata": {
      "image/png": {
       "height": 420,
       "width": 420
      }
     },
     "output_type": "display_data"
    }
   ],
   "source": [
    "barplot(age_table)"
   ]
  },
  {
   "cell_type": "code",
   "execution_count": 130,
   "id": "b8b130ab",
   "metadata": {},
   "outputs": [
    {
     "name": "stdout",
     "output_type": "stream",
     "text": [
      "package 'ggthemes' successfully unpacked and MD5 sums checked\n",
      "\n",
      "The downloaded binary packages are in\n",
      "\tC:\\Users\\NOTEBOOK\\AppData\\Local\\Temp\\RtmpYBe6b3\\downloaded_packages\n"
     ]
    }
   ],
   "source": [
    "install.packages('ggthemes')"
   ]
  },
  {
   "cell_type": "code",
   "execution_count": 131,
   "id": "5c6be3d1",
   "metadata": {},
   "outputs": [],
   "source": [
    "library(ggplot2)\n",
    "library(ggthemes)"
   ]
  },
  {
   "cell_type": "code",
   "execution_count": 132,
   "id": "8212a130",
   "metadata": {},
   "outputs": [
    {
     "data": {
      "image/png": "[encoded data removed]",
      "text/plain": [
       "plot without title"
      ]
     },
     "metadata": {
      "image/png": {
       "height": 420,
       "width": 420
      }
     },
     "output_type": "display_data"
    }
   ],
   "source": [
    "ggplot(data=df, aes(x=age)) + \n",
    "    geom_freqpoly(binwidth=10, size=1.4, colour='orange') + \n",
    "    theme_wsj()"
   ]
  },
  {
   "cell_type": "code",
   "execution_count": 133,
   "id": "b32548dc",
   "metadata": {},
   "outputs": [],
   "source": [
    "df <- read.csv('./rggagi/example_coffee.csv', header = T, stringsAsFactors = T)"
   ]
  },
  {
   "cell_type": "code",
   "execution_count": 134,
   "id": "cf6cd5af",
   "metadata": {},
   "outputs": [
    {
     "name": "stdout",
     "output_type": "stream",
     "text": [
      "'data.frame':\t46832 obs. of  23 variables:\n",
      " $ number              : int  1 2 3 4 5 6 7 8 9 10 ...\n",
      " $ companyName         : Factor w/ 36991 levels \"-10\",\"#11(Sharp eleven)\",..: 2 4 5 6 7 8 9 10 11 12 ...\n",
      " $ adress              : Factor w/ 45197 levels \"\",\"강원도 강릉시 강동면 안인진리 3-5번지 통일공원 G동 2층 \",..: 32695 45012 14332 25672 35262 44619 44059 16795 4038 16983 ...\n",
      " $ adressBystreet      : Factor w/ 38866 levels \"\",\"강원도 강릉시 가작로 13, 1층 (교동)\",..: 28058 38633 12180 22436 1 38386 37843 14490 3373 14482 ...\n",
      " $ dateOflicensing     : int  20080917 20101124 20130902 20121108 20020911 20130822 20140605 20111209 20130315 20110908 ...\n",
      " $ stateOfbusiness     : Factor w/ 2 levels \"운영중\",\"폐업 등\": 1 1 1 1 2 1 1 1 1 1 ...\n",
      " $ dateOfclosure       : int  NA NA NA NA 20071105 NA NA NA NA NA ...\n",
      " $ startdateOfcessation: logi  NA NA NA NA NA NA ...\n",
      " $ duedateOfcessation  : logi  NA NA NA NA NA NA ...\n",
      " $ dateOfreOpen        : logi  NA NA NA NA NA NA ...\n",
      " $ areaOfsite          : logi  NA NA NA NA NA NA ...\n",
      " $ zip                 : logi  NA NA NA NA NA NA ...\n",
      " $ waterwork           : Factor w/ 5 levels \"\",\"간이상수도\",..: 4 4 4 4 4 4 4 4 4 4 ...\n",
      " $ numOfmenWorker      : int  NA NA NA NA 0 NA NA NA NA NA ...\n",
      " $ yearOfStart         : int  2008 2010 2013 2012 2002 2013 2014 2011 2013 2011 ...\n",
      " $ multipleUse         : Factor w/ 3 levels \"\",\"N\",\"Y\": 2 2 2 2 2 2 2 2 2 2 ...\n",
      " $ grade               : Factor w/ 8 levels \"\",\"갑\",\"관리\",..: 1 1 1 1 1 1 1 1 1 1 ...\n",
      " $ sizeOfsite          : num  20.8 212.7 20 64.2 11.4 ...\n",
      " $ numOfwomenWorker    : int  NA NA NA NA 0 NA NA NA NA NA ...\n",
      " $ vicintyOfsite       : Factor w/ 8 levels \"\",\"결혼예식장주변\",..: 1 1 4 1 1 1 1 3 1 3 ...\n",
      " $ sanitaryName        : Factor w/ 2 levels \"\",\"휴게음식점\": 2 2 2 2 2 2 2 2 2 2 ...\n",
      " $ businessCondition   : Factor w/ 2 levels \"\",\"커피숍\": 2 2 2 2 2 2 2 2 2 2 ...\n",
      " $ totalOfworker       : int  NA NA NA NA 0 NA NA NA NA NA ...\n"
     ]
    }
   ],
   "source": [
    "str(df)"
   ]
  },
  {
   "cell_type": "code",
   "execution_count": 137,
   "id": "e36d652a",
   "metadata": {},
   "outputs": [
    {
     "name": "stdout",
     "output_type": "stream",
     "text": [
      "'data.frame':\t46832 obs. of  16 variables:\n",
      " $ number           : int  1 2 3 4 5 6 7 8 9 10 ...\n",
      " $ companyName      : Factor w/ 36991 levels \"-10\",\"#11(Sharp eleven)\",..: 2 4 5 6 7 8 9 10 11 12 ...\n",
      " $ dateOflicensing  : int  20080917 20101124 20130902 20121108 20020911 20130822 20140605 20111209 20130315 20110908 ...\n",
      " $ stateOfbusiness  : Factor w/ 2 levels \"운영중\",\"폐업 등\": 1 1 1 1 2 1 1 1 1 1 ...\n",
      " $ areaOfsite       : logi  NA NA NA NA NA NA ...\n",
      " $ waterwork        : Factor w/ 5 levels \"\",\"간이상수도\",..: 4 4 4 4 4 4 4 4 4 4 ...\n",
      " $ numOfmenWorker   : int  NA NA NA NA 0 NA NA NA NA NA ...\n",
      " $ yearOfStart      : int  2008 2010 2013 2012 2002 2013 2014 2011 2013 2011 ...\n",
      " $ multipleUse      : Factor w/ 3 levels \"\",\"N\",\"Y\": 2 2 2 2 2 2 2 2 2 2 ...\n",
      " $ grade            : Factor w/ 8 levels \"\",\"갑\",\"관리\",..: 1 1 1 1 1 1 1 1 1 1 ...\n",
      " $ sizeOfsite       : num  20.8 212.7 20 64.2 11.4 ...\n",
      " $ numOfwomenWorker : int  NA NA NA NA 0 NA NA NA NA NA ...\n",
      " $ vicintyOfsite    : Factor w/ 8 levels \"\",\"결혼예식장주변\",..: 1 1 4 1 1 1 1 3 1 3 ...\n",
      " $ sanitaryName     : Factor w/ 2 levels \"\",\"휴게음식점\": 2 2 2 2 2 2 2 2 2 2 ...\n",
      " $ businessCondition: Factor w/ 2 levels \"\",\"커피숍\": 2 2 2 2 2 2 2 2 2 2 ...\n",
      " $ totalOfworker    : int  NA NA NA NA 0 NA NA NA NA NA ...\n"
     ]
    }
   ],
   "source": [
    "df <- subset(df, \n",
    "   select=c(-adress, -adressBystreet, -dateOfclosure, -startdateOfcessation, -duedateOfcessation, -dateOfreOpen, -zip))\n",
    "str(df)"
   ]
  },
  {
   "cell_type": "code",
   "execution_count": 138,
   "id": "e1b0516e",
   "metadata": {
    "scrolled": true
   },
   "outputs": [
    {
     "data": {
      "text/html": [
       "<style>\n",
       ".list-inline {list-style: none; margin:0; padding: 0}\n",
       ".list-inline>li {display: inline-block}\n",
       ".list-inline>li:not(:last-child)::after {content: \"\\00b7\"; padding: 0 .5ex}\n",
       "</style>\n",
       "<ol class=list-inline><li>&lt;NA&gt;</li><li>&lt;NA&gt;</li></ol>\n"
      ],
      "text/latex": [
       "\\begin{enumerate*}\n",
       "\\item <NA>\n",
       "\\item <NA>\n",
       "\\end{enumerate*}\n"
      ],
      "text/markdown": [
       "1. &lt;NA&gt;\n",
       "2. &lt;NA&gt;\n",
       "\n",
       "\n"
      ],
      "text/plain": [
       "[1] NA NA"
      ]
     },
     "metadata": {},
     "output_type": "display_data"
    },
    {
     "data": {
      "text/html": [
       "<style>\n",
       ".list-inline {list-style: none; margin:0; padding: 0}\n",
       ".list-inline>li {display: inline-block}\n",
       ".list-inline>li:not(:last-child)::after {content: \"\\00b7\"; padding: 0 .5ex}\n",
       "</style>\n",
       "<ol class=list-inline><li>1964</li><li>2015</li></ol>\n"
      ],
      "text/latex": [
       "\\begin{enumerate*}\n",
       "\\item 1964\n",
       "\\item 2015\n",
       "\\end{enumerate*}\n"
      ],
      "text/markdown": [
       "1. 1964\n",
       "2. 2015\n",
       "\n",
       "\n"
      ],
      "text/plain": [
       "[1] 1964 2015"
      ]
     },
     "metadata": {},
     "output_type": "display_data"
    },
    {
     "data": {
      "text/html": [
       "<table class=\"dataframe\">\n",
       "<caption>A data.frame: 2 × 16</caption>\n",
       "<thead>\n",
       "\t<tr><th></th><th scope=col>number</th><th scope=col>companyName</th><th scope=col>dateOflicensing</th><th scope=col>stateOfbusiness</th><th scope=col>areaOfsite</th><th scope=col>waterwork</th><th scope=col>numOfmenWorker</th><th scope=col>yearOfStart</th><th scope=col>multipleUse</th><th scope=col>grade</th><th scope=col>sizeOfsite</th><th scope=col>numOfwomenWorker</th><th scope=col>vicintyOfsite</th><th scope=col>sanitaryName</th><th scope=col>businessCondition</th><th scope=col>totalOfworker</th></tr>\n",
       "\t<tr><th></th><th scope=col>&lt;int&gt;</th><th scope=col>&lt;fct&gt;</th><th scope=col>&lt;int&gt;</th><th scope=col>&lt;fct&gt;</th><th scope=col>&lt;lgl&gt;</th><th scope=col>&lt;fct&gt;</th><th scope=col>&lt;int&gt;</th><th scope=col>&lt;int&gt;</th><th scope=col>&lt;fct&gt;</th><th scope=col>&lt;fct&gt;</th><th scope=col>&lt;dbl&gt;</th><th scope=col>&lt;int&gt;</th><th scope=col>&lt;fct&gt;</th><th scope=col>&lt;fct&gt;</th><th scope=col>&lt;fct&gt;</th><th scope=col>&lt;int&gt;</th></tr>\n",
       "</thead>\n",
       "<tbody>\n",
       "\t<tr><th scope=row>23035</th><td>23035</td><td>엠에스커피</td><td>19641125</td><td>폐업 등</td><td>NA</td><td>상수도전용</td><td>0</td><td>1964</td><td>N</td><td>    </td><td>0</td><td>0</td><td>기타</td><td>휴게음식점</td><td>커피숍</td><td>0</td></tr>\n",
       "\t<tr><th scope=row>46290</th><td>46290</td><td>홀릭      </td><td>19640929</td><td>폐업 등</td><td>NA</td><td>          </td><td>0</td><td>1964</td><td>N</td><td>기타</td><td>0</td><td>0</td><td>기타</td><td>휴게음식점</td><td>커피숍</td><td>0</td></tr>\n",
       "</tbody>\n",
       "</table>\n"
      ],
      "text/latex": [
       "A data.frame: 2 × 16\n",
       "\\begin{tabular}{r|llllllllllllllll}\n",
       "  & number & companyName & dateOflicensing & stateOfbusiness & areaOfsite & waterwork & numOfmenWorker & yearOfStart & multipleUse & grade & sizeOfsite & numOfwomenWorker & vicintyOfsite & sanitaryName & businessCondition & totalOfworker\\\\\n",
       "  & <int> & <fct> & <int> & <fct> & <lgl> & <fct> & <int> & <int> & <fct> & <fct> & <dbl> & <int> & <fct> & <fct> & <fct> & <int>\\\\\n",
       "\\hline\n",
       "\t23035 & 23035 & 엠에스커피 & 19641125 & 폐업 등 & NA & 상수도전용 & 0 & 1964 & N &      & 0 & 0 & 기타 & 휴게음식점 & 커피숍 & 0\\\\\n",
       "\t46290 & 46290 & 홀릭       & 19640929 & 폐업 등 & NA &            & 0 & 1964 & N & 기타 & 0 & 0 & 기타 & 휴게음식점 & 커피숍 & 0\\\\\n",
       "\\end{tabular}\n"
      ],
      "text/markdown": [
       "\n",
       "A data.frame: 2 × 16\n",
       "\n",
       "| <!--/--> | number &lt;int&gt; | companyName &lt;fct&gt; | dateOflicensing &lt;int&gt; | stateOfbusiness &lt;fct&gt; | areaOfsite &lt;lgl&gt; | waterwork &lt;fct&gt; | numOfmenWorker &lt;int&gt; | yearOfStart &lt;int&gt; | multipleUse &lt;fct&gt; | grade &lt;fct&gt; | sizeOfsite &lt;dbl&gt; | numOfwomenWorker &lt;int&gt; | vicintyOfsite &lt;fct&gt; | sanitaryName &lt;fct&gt; | businessCondition &lt;fct&gt; | totalOfworker &lt;int&gt; |\n",
       "|---|---|---|---|---|---|---|---|---|---|---|---|---|---|---|---|---|\n",
       "| 23035 | 23035 | 엠에스커피 | 19641125 | 폐업 등 | NA | 상수도전용 | 0 | 1964 | N | <!----> | 0 | 0 | 기타 | 휴게음식점 | 커피숍 | 0 |\n",
       "| 46290 | 46290 | 홀릭       | 19640929 | 폐업 등 | NA | <!----> | 0 | 1964 | N | 기타 | 0 | 0 | 기타 | 휴게음식점 | 커피숍 | 0 |\n",
       "\n"
      ],
      "text/plain": [
       "      number companyName dateOflicensing stateOfbusiness areaOfsite waterwork \n",
       "23035 23035  엠에스커피  19641125        폐업 등         NA         상수도전용\n",
       "46290 46290  홀릭        19640929        폐업 등         NA                   \n",
       "      numOfmenWorker yearOfStart multipleUse grade sizeOfsite numOfwomenWorker\n",
       "23035 0              1964        N                 0          0               \n",
       "46290 0              1964        N           기타  0          0               \n",
       "      vicintyOfsite sanitaryName businessCondition totalOfworker\n",
       "23035 기타          휴게음식점   커피숍            0            \n",
       "46290 기타          휴게음식점   커피숍            0            "
      ]
     },
     "metadata": {},
     "output_type": "display_data"
    }
   ],
   "source": [
    "range(df$yearOfStart)\n",
    "range(df$yearOfStart, na.rm = T) # 결측치 제거\n",
    "subset(df,subset = (yearOfStart == 1964))"
   ]
  },
  {
   "cell_type": "code",
   "execution_count": 139,
   "id": "b61c0881",
   "metadata": {},
   "outputs": [
    {
     "data": {
      "text/html": [
       "<style>\n",
       ".list-inline {list-style: none; margin:0; padding: 0}\n",
       ".list-inline>li {display: inline-block}\n",
       ".list-inline>li:not(:last-child)::after {content: \"\\00b7\"; padding: 0 .5ex}\n",
       "</style>\n",
       "<ol class=list-inline><li>1967</li><li>2015</li></ol>\n"
      ],
      "text/latex": [
       "\\begin{enumerate*}\n",
       "\\item 1967\n",
       "\\item 2015\n",
       "\\end{enumerate*}\n"
      ],
      "text/markdown": [
       "1. 1967\n",
       "2. 2015\n",
       "\n",
       "\n"
      ],
      "text/plain": [
       "[1] 1967 2015"
      ]
     },
     "metadata": {},
     "output_type": "display_data"
    },
    {
     "data": {
      "text/html": [
       "<table class=\"dataframe\">\n",
       "<caption>A data.frame: 2 × 16</caption>\n",
       "<thead>\n",
       "\t<tr><th></th><th scope=col>number</th><th scope=col>companyName</th><th scope=col>dateOflicensing</th><th scope=col>stateOfbusiness</th><th scope=col>areaOfsite</th><th scope=col>waterwork</th><th scope=col>numOfmenWorker</th><th scope=col>yearOfStart</th><th scope=col>multipleUse</th><th scope=col>grade</th><th scope=col>sizeOfsite</th><th scope=col>numOfwomenWorker</th><th scope=col>vicintyOfsite</th><th scope=col>sanitaryName</th><th scope=col>businessCondition</th><th scope=col>totalOfworker</th></tr>\n",
       "\t<tr><th></th><th scope=col>&lt;int&gt;</th><th scope=col>&lt;fct&gt;</th><th scope=col>&lt;int&gt;</th><th scope=col>&lt;fct&gt;</th><th scope=col>&lt;lgl&gt;</th><th scope=col>&lt;fct&gt;</th><th scope=col>&lt;int&gt;</th><th scope=col>&lt;int&gt;</th><th scope=col>&lt;fct&gt;</th><th scope=col>&lt;fct&gt;</th><th scope=col>&lt;dbl&gt;</th><th scope=col>&lt;int&gt;</th><th scope=col>&lt;fct&gt;</th><th scope=col>&lt;fct&gt;</th><th scope=col>&lt;fct&gt;</th><th scope=col>&lt;int&gt;</th></tr>\n",
       "</thead>\n",
       "<tbody>\n",
       "\t<tr><th scope=row>24108</th><td>24108</td><td>왕관 커피숍</td><td>19671013</td><td>운영중</td><td>NA</td><td>상수도전용</td><td>0</td><td>1967</td><td>N</td><td>갑</td><td>76.02</td><td>1</td><td>기타</td><td>휴게음식점</td><td>커피숍</td><td>1</td></tr>\n",
       "\t<tr><th scope=row>44934</th><td>44934</td><td>학커피숍   </td><td>19670414</td><td>운영중</td><td>NA</td><td>          </td><td>0</td><td>1967</td><td>N</td><td>  </td><td>59.13</td><td>0</td><td>    </td><td>휴게음식점</td><td>커피숍</td><td>0</td></tr>\n",
       "</tbody>\n",
       "</table>\n"
      ],
      "text/latex": [
       "A data.frame: 2 × 16\n",
       "\\begin{tabular}{r|llllllllllllllll}\n",
       "  & number & companyName & dateOflicensing & stateOfbusiness & areaOfsite & waterwork & numOfmenWorker & yearOfStart & multipleUse & grade & sizeOfsite & numOfwomenWorker & vicintyOfsite & sanitaryName & businessCondition & totalOfworker\\\\\n",
       "  & <int> & <fct> & <int> & <fct> & <lgl> & <fct> & <int> & <int> & <fct> & <fct> & <dbl> & <int> & <fct> & <fct> & <fct> & <int>\\\\\n",
       "\\hline\n",
       "\t24108 & 24108 & 왕관 커피숍 & 19671013 & 운영중 & NA & 상수도전용 & 0 & 1967 & N & 갑 & 76.02 & 1 & 기타 & 휴게음식점 & 커피숍 & 1\\\\\n",
       "\t44934 & 44934 & 학커피숍    & 19670414 & 운영중 & NA &            & 0 & 1967 & N &    & 59.13 & 0 &      & 휴게음식점 & 커피숍 & 0\\\\\n",
       "\\end{tabular}\n"
      ],
      "text/markdown": [
       "\n",
       "A data.frame: 2 × 16\n",
       "\n",
       "| <!--/--> | number &lt;int&gt; | companyName &lt;fct&gt; | dateOflicensing &lt;int&gt; | stateOfbusiness &lt;fct&gt; | areaOfsite &lt;lgl&gt; | waterwork &lt;fct&gt; | numOfmenWorker &lt;int&gt; | yearOfStart &lt;int&gt; | multipleUse &lt;fct&gt; | grade &lt;fct&gt; | sizeOfsite &lt;dbl&gt; | numOfwomenWorker &lt;int&gt; | vicintyOfsite &lt;fct&gt; | sanitaryName &lt;fct&gt; | businessCondition &lt;fct&gt; | totalOfworker &lt;int&gt; |\n",
       "|---|---|---|---|---|---|---|---|---|---|---|---|---|---|---|---|---|\n",
       "| 24108 | 24108 | 왕관 커피숍 | 19671013 | 운영중 | NA | 상수도전용 | 0 | 1967 | N | 갑 | 76.02 | 1 | 기타 | 휴게음식점 | 커피숍 | 1 |\n",
       "| 44934 | 44934 | 학커피숍    | 19670414 | 운영중 | NA | <!----> | 0 | 1967 | N | <!----> | 59.13 | 0 | <!----> | 휴게음식점 | 커피숍 | 0 |\n",
       "\n"
      ],
      "text/plain": [
       "      number companyName dateOflicensing stateOfbusiness areaOfsite waterwork \n",
       "24108 24108  왕관 커피숍 19671013        운영중          NA         상수도전용\n",
       "44934 44934  학커피숍    19670414        운영중          NA                   \n",
       "      numOfmenWorker yearOfStart multipleUse grade sizeOfsite numOfwomenWorker\n",
       "24108 0              1967        N           갑    76.02      1               \n",
       "44934 0              1967        N                 59.13      0               \n",
       "      vicintyOfsite sanitaryName businessCondition totalOfworker\n",
       "24108 기타          휴게음식점   커피숍            1            \n",
       "44934               휴게음식점   커피숍            0            "
      ]
     },
     "metadata": {},
     "output_type": "display_data"
    }
   ],
   "source": [
    "# 가장 오래된 운영중인 커피숍 찾기\n",
    "df_filter <- subset(df,subset = (stateOfbusiness == '운영중'))\n",
    "range(df_filter$yearOfStart, na.rm = T) # 결측치 제거\n",
    "subset(df_filter,subset = (yearOfStart == 1967))"
   ]
  },
  {
   "cell_type": "code",
   "execution_count": 140,
   "id": "f142d6aa",
   "metadata": {},
   "outputs": [
    {
     "data": {
      "text/plain": [
       "\n",
       "1964 1966 1967 1968 1969 1970 1971 1972 1974 1975 1976 1979 1980 1981 1982 1983 \n",
       "   2    2    3    1    2    4    6    3    1    2    5    4    9    8   12    9 \n",
       "1984 1985 1986 1987 1988 1989 1990 1991 1992 1993 1994 1995 1996 1997 1998 1999 \n",
       "  11   18   21   21   26   23   25   28   37   50   48   48   41   54   54   46 \n",
       "2000 2001 2002 2003 2004 2005 2006 2007 2008 2009 2010 2011 2012 2013 2014 2015 \n",
       "  89  183  398  799  648  654  863 1233 1579 2489 4172 5942 6315 7270 9905 3650 "
      ]
     },
     "metadata": {},
     "output_type": "display_data"
    }
   ],
   "source": [
    "# 해마다 오픈 하는 커피숍 개수 찾기\n",
    "table(df$yearOfStart)"
   ]
  },
  {
   "cell_type": "code",
   "execution_count": 142,
   "id": "97c85f0a",
   "metadata": {},
   "outputs": [
    {
     "name": "stderr",
     "output_type": "stream",
     "text": [
      "Warning message:\n",
      "\"Removed 19 rows containing non-finite values (stat_count).\"\n"
     ]
    },
    {
     "data": {
      "image/png": "[encoded data removed]",
      "text/plain": [
       "plot without title"
      ]
     },
     "metadata": {
      "image/png": {
       "height": 420,
       "width": 420
      }
     },
     "output_type": "display_data"
    }
   ],
   "source": [
    "# 간단한 시각화\n",
    "# 2000년부터 성작, 2010년부터 급성장\n",
    "qplot(data=df, yearOfStart, geom='bar')"
   ]
  },
  {
   "cell_type": "code",
   "execution_count": 143,
   "id": "e4f092c1",
   "metadata": {},
   "outputs": [
    {
     "data": {
      "text/plain": [
       "         \n",
       "          1964 1966 1967 1968 1969 1970 1971 1972 1974 1975 1976 1979 1980 1981\n",
       "  운영중     0    0    2    0    0    2    4    2    1    1    1    2    3    6\n",
       "  폐업 등    2    2    1    1    2    2    2    1    0    1    4    2    6    2\n",
       "         \n",
       "          1982 1983 1984 1985 1986 1987 1988 1989 1990 1991 1992 1993 1994 1995\n",
       "  운영중     2    3    4    5    5    6   11    5    7    7    3   14   14   13\n",
       "  폐업 등   10    6    7   13   16   15   15   18   18   21   34   36   34   35\n",
       "         \n",
       "          1996 1997 1998 1999 2000 2001 2002 2003 2004 2005 2006 2007 2008 2009\n",
       "  운영중    14   21   25   23   26   76  105  163  180  204  314  496  729 1229\n",
       "  폐업 등   27   33   29   23   63  107  293  636  468  450  549  737  850 1260\n",
       "         \n",
       "          2010 2011 2012 2013 2014 2015\n",
       "  운영중  2503 3961 4642 6045 9125 3564\n",
       "  폐업 등 1669 1981 1673 1225  780   86"
      ]
     },
     "metadata": {},
     "output_type": "display_data"
    }
   ],
   "source": [
    "stat_table <- table(df$stateOfbusiness, df$yearOfStart)\n",
    "stat_table\n"
   ]
  },
  {
   "cell_type": "code",
   "execution_count": 144,
   "id": "2940bf8e",
   "metadata": {},
   "outputs": [
    {
     "data": {
      "text/html": [
       "26"
      ],
      "text/latex": [
       "26"
      ],
      "text/markdown": [
       "26"
      ],
      "text/plain": [
       "[1] 26"
      ]
     },
     "metadata": {},
     "output_type": "display_data"
    },
    {
     "data": {
      "text/html": [
       "48"
      ],
      "text/latex": [
       "48"
      ],
      "text/markdown": [
       "48"
      ],
      "text/plain": [
       "[1] 48"
      ]
     },
     "metadata": {},
     "output_type": "display_data"
    }
   ],
   "source": [
    "which(colnames(stat_table) == 1993)\n",
    "which.max(colnames(stat_table))\n"
   ]
  },
  {
   "cell_type": "code",
   "execution_count": 145,
   "id": "021ee339",
   "metadata": {},
   "outputs": [
    {
     "data": {
      "text/plain": [
       "         \n",
       "          1993 1994 1995 1996 1997 1998 1999 2000 2001 2002 2003 2004 2005 2006\n",
       "  운영중    14   14   13   14   21   25   23   26   76  105  163  180  204  314\n",
       "  폐업 등   36   34   35   27   33   29   23   63  107  293  636  468  450  549\n",
       "         \n",
       "          2007 2008 2009 2010 2011 2012 2013 2014 2015\n",
       "  운영중   496  729 1229 2503 3961 4642 6045 9125 3564\n",
       "  폐업 등  737  850 1260 1669 1981 1673 1225  780   86"
      ]
     },
     "metadata": {},
     "output_type": "display_data"
    }
   ],
   "source": [
    "stat_table_col_26_93 <- stat_table[,c(26:48)]\n",
    "stat_table_col_26_93\n"
   ]
  },
  {
   "cell_type": "code",
   "execution_count": 146,
   "id": "51e475c5",
   "metadata": {},
   "outputs": [
    {
     "data": {
      "text/plain": [
       "         \n",
       "                1993       1994       1995       1996       1997       1998\n",
       "  운영중  0.28000000 0.29166667 0.27083333 0.34146341 0.38888889 0.46296296\n",
       "  폐업 등 0.72000000 0.70833333 0.72916667 0.65853659 0.61111111 0.53703704\n",
       "         \n",
       "                1999       2000       2001       2002       2003       2004\n",
       "  운영중  0.50000000 0.29213483 0.41530055 0.26381910 0.20400501 0.27777778\n",
       "  폐업 등 0.50000000 0.70786517 0.58469945 0.73618090 0.79599499 0.72222222\n",
       "         \n",
       "                2005       2006       2007       2008       2009       2010\n",
       "  운영중  0.31192661 0.36384705 0.40227088 0.46168461 0.49377260 0.59995206\n",
       "  폐업 등 0.68807339 0.63615295 0.59772912 0.53831539 0.50622740 0.40004794\n",
       "         \n",
       "                2011       2012       2013       2014       2015\n",
       "  운영중  0.66661057 0.73507522 0.83149931 0.92125189 0.97643836\n",
       "  폐업 등 0.33338943 0.26492478 0.16850069 0.07874811 0.02356164"
      ]
     },
     "metadata": {},
     "output_type": "display_data"
    }
   ],
   "source": [
    "# 비율 계산\n",
    "stat_prop_table <- prop.table(stat_table_col_26_93, margin = 2) # margin = 2 열 기준\n",
    "stat_prop_table\n"
   ]
  },
  {
   "cell_type": "code",
   "execution_count": 147,
   "id": "846fa6dd",
   "metadata": {},
   "outputs": [
    {
     "data": {
      "text/html": [
       "<table class=\"dataframe\">\n",
       "<caption>A data.frame: 23 × 5</caption>\n",
       "<thead>\n",
       "\t<tr><th></th><th scope=col>colnames.input1.</th><th scope=col>input1.1...</th><th scope=col>input1.2...</th><th scope=col>input2.1...</th><th scope=col>input2.2...</th></tr>\n",
       "\t<tr><th></th><th scope=col>&lt;chr&gt;</th><th scope=col>&lt;int&gt;</th><th scope=col>&lt;int&gt;</th><th scope=col>&lt;dbl&gt;</th><th scope=col>&lt;dbl&gt;</th></tr>\n",
       "</thead>\n",
       "<tbody>\n",
       "\t<tr><th scope=row>1993</th><td>1993</td><td>  14</td><td>  36</td><td>0.2800000</td><td>0.72000000</td></tr>\n",
       "\t<tr><th scope=row>1994</th><td>1994</td><td>  14</td><td>  34</td><td>0.2916667</td><td>0.70833333</td></tr>\n",
       "\t<tr><th scope=row>1995</th><td>1995</td><td>  13</td><td>  35</td><td>0.2708333</td><td>0.72916667</td></tr>\n",
       "\t<tr><th scope=row>1996</th><td>1996</td><td>  14</td><td>  27</td><td>0.3414634</td><td>0.65853659</td></tr>\n",
       "\t<tr><th scope=row>1997</th><td>1997</td><td>  21</td><td>  33</td><td>0.3888889</td><td>0.61111111</td></tr>\n",
       "\t<tr><th scope=row>1998</th><td>1998</td><td>  25</td><td>  29</td><td>0.4629630</td><td>0.53703704</td></tr>\n",
       "\t<tr><th scope=row>1999</th><td>1999</td><td>  23</td><td>  23</td><td>0.5000000</td><td>0.50000000</td></tr>\n",
       "\t<tr><th scope=row>2000</th><td>2000</td><td>  26</td><td>  63</td><td>0.2921348</td><td>0.70786517</td></tr>\n",
       "\t<tr><th scope=row>2001</th><td>2001</td><td>  76</td><td> 107</td><td>0.4153005</td><td>0.58469945</td></tr>\n",
       "\t<tr><th scope=row>2002</th><td>2002</td><td> 105</td><td> 293</td><td>0.2638191</td><td>0.73618090</td></tr>\n",
       "\t<tr><th scope=row>2003</th><td>2003</td><td> 163</td><td> 636</td><td>0.2040050</td><td>0.79599499</td></tr>\n",
       "\t<tr><th scope=row>2004</th><td>2004</td><td> 180</td><td> 468</td><td>0.2777778</td><td>0.72222222</td></tr>\n",
       "\t<tr><th scope=row>2005</th><td>2005</td><td> 204</td><td> 450</td><td>0.3119266</td><td>0.68807339</td></tr>\n",
       "\t<tr><th scope=row>2006</th><td>2006</td><td> 314</td><td> 549</td><td>0.3638470</td><td>0.63615295</td></tr>\n",
       "\t<tr><th scope=row>2007</th><td>2007</td><td> 496</td><td> 737</td><td>0.4022709</td><td>0.59772912</td></tr>\n",
       "\t<tr><th scope=row>2008</th><td>2008</td><td> 729</td><td> 850</td><td>0.4616846</td><td>0.53831539</td></tr>\n",
       "\t<tr><th scope=row>2009</th><td>2009</td><td>1229</td><td>1260</td><td>0.4937726</td><td>0.50622740</td></tr>\n",
       "\t<tr><th scope=row>2010</th><td>2010</td><td>2503</td><td>1669</td><td>0.5999521</td><td>0.40004794</td></tr>\n",
       "\t<tr><th scope=row>2011</th><td>2011</td><td>3961</td><td>1981</td><td>0.6666106</td><td>0.33338943</td></tr>\n",
       "\t<tr><th scope=row>2012</th><td>2012</td><td>4642</td><td>1673</td><td>0.7350752</td><td>0.26492478</td></tr>\n",
       "\t<tr><th scope=row>2013</th><td>2013</td><td>6045</td><td>1225</td><td>0.8314993</td><td>0.16850069</td></tr>\n",
       "\t<tr><th scope=row>2014</th><td>2014</td><td>9125</td><td> 780</td><td>0.9212519</td><td>0.07874811</td></tr>\n",
       "\t<tr><th scope=row>2015</th><td>2015</td><td>3564</td><td>  86</td><td>0.9764384</td><td>0.02356164</td></tr>\n",
       "</tbody>\n",
       "</table>\n"
      ],
      "text/latex": [
       "A data.frame: 23 × 5\n",
       "\\begin{tabular}{r|lllll}\n",
       "  & colnames.input1. & input1.1... & input1.2... & input2.1... & input2.2...\\\\\n",
       "  & <chr> & <int> & <int> & <dbl> & <dbl>\\\\\n",
       "\\hline\n",
       "\t1993 & 1993 &   14 &   36 & 0.2800000 & 0.72000000\\\\\n",
       "\t1994 & 1994 &   14 &   34 & 0.2916667 & 0.70833333\\\\\n",
       "\t1995 & 1995 &   13 &   35 & 0.2708333 & 0.72916667\\\\\n",
       "\t1996 & 1996 &   14 &   27 & 0.3414634 & 0.65853659\\\\\n",
       "\t1997 & 1997 &   21 &   33 & 0.3888889 & 0.61111111\\\\\n",
       "\t1998 & 1998 &   25 &   29 & 0.4629630 & 0.53703704\\\\\n",
       "\t1999 & 1999 &   23 &   23 & 0.5000000 & 0.50000000\\\\\n",
       "\t2000 & 2000 &   26 &   63 & 0.2921348 & 0.70786517\\\\\n",
       "\t2001 & 2001 &   76 &  107 & 0.4153005 & 0.58469945\\\\\n",
       "\t2002 & 2002 &  105 &  293 & 0.2638191 & 0.73618090\\\\\n",
       "\t2003 & 2003 &  163 &  636 & 0.2040050 & 0.79599499\\\\\n",
       "\t2004 & 2004 &  180 &  468 & 0.2777778 & 0.72222222\\\\\n",
       "\t2005 & 2005 &  204 &  450 & 0.3119266 & 0.68807339\\\\\n",
       "\t2006 & 2006 &  314 &  549 & 0.3638470 & 0.63615295\\\\\n",
       "\t2007 & 2007 &  496 &  737 & 0.4022709 & 0.59772912\\\\\n",
       "\t2008 & 2008 &  729 &  850 & 0.4616846 & 0.53831539\\\\\n",
       "\t2009 & 2009 & 1229 & 1260 & 0.4937726 & 0.50622740\\\\\n",
       "\t2010 & 2010 & 2503 & 1669 & 0.5999521 & 0.40004794\\\\\n",
       "\t2011 & 2011 & 3961 & 1981 & 0.6666106 & 0.33338943\\\\\n",
       "\t2012 & 2012 & 4642 & 1673 & 0.7350752 & 0.26492478\\\\\n",
       "\t2013 & 2013 & 6045 & 1225 & 0.8314993 & 0.16850069\\\\\n",
       "\t2014 & 2014 & 9125 &  780 & 0.9212519 & 0.07874811\\\\\n",
       "\t2015 & 2015 & 3564 &   86 & 0.9764384 & 0.02356164\\\\\n",
       "\\end{tabular}\n"
      ],
      "text/markdown": [
       "\n",
       "A data.frame: 23 × 5\n",
       "\n",
       "| <!--/--> | colnames.input1. &lt;chr&gt; | input1.1... &lt;int&gt; | input1.2... &lt;int&gt; | input2.1... &lt;dbl&gt; | input2.2... &lt;dbl&gt; |\n",
       "|---|---|---|---|---|---|\n",
       "| 1993 | 1993 |   14 |   36 | 0.2800000 | 0.72000000 |\n",
       "| 1994 | 1994 |   14 |   34 | 0.2916667 | 0.70833333 |\n",
       "| 1995 | 1995 |   13 |   35 | 0.2708333 | 0.72916667 |\n",
       "| 1996 | 1996 |   14 |   27 | 0.3414634 | 0.65853659 |\n",
       "| 1997 | 1997 |   21 |   33 | 0.3888889 | 0.61111111 |\n",
       "| 1998 | 1998 |   25 |   29 | 0.4629630 | 0.53703704 |\n",
       "| 1999 | 1999 |   23 |   23 | 0.5000000 | 0.50000000 |\n",
       "| 2000 | 2000 |   26 |   63 | 0.2921348 | 0.70786517 |\n",
       "| 2001 | 2001 |   76 |  107 | 0.4153005 | 0.58469945 |\n",
       "| 2002 | 2002 |  105 |  293 | 0.2638191 | 0.73618090 |\n",
       "| 2003 | 2003 |  163 |  636 | 0.2040050 | 0.79599499 |\n",
       "| 2004 | 2004 |  180 |  468 | 0.2777778 | 0.72222222 |\n",
       "| 2005 | 2005 |  204 |  450 | 0.3119266 | 0.68807339 |\n",
       "| 2006 | 2006 |  314 |  549 | 0.3638470 | 0.63615295 |\n",
       "| 2007 | 2007 |  496 |  737 | 0.4022709 | 0.59772912 |\n",
       "| 2008 | 2008 |  729 |  850 | 0.4616846 | 0.53831539 |\n",
       "| 2009 | 2009 | 1229 | 1260 | 0.4937726 | 0.50622740 |\n",
       "| 2010 | 2010 | 2503 | 1669 | 0.5999521 | 0.40004794 |\n",
       "| 2011 | 2011 | 3961 | 1981 | 0.6666106 | 0.33338943 |\n",
       "| 2012 | 2012 | 4642 | 1673 | 0.7350752 | 0.26492478 |\n",
       "| 2013 | 2013 | 6045 | 1225 | 0.8314993 | 0.16850069 |\n",
       "| 2014 | 2014 | 9125 |  780 | 0.9212519 | 0.07874811 |\n",
       "| 2015 | 2015 | 3564 |   86 | 0.9764384 | 0.02356164 |\n",
       "\n"
      ],
      "text/plain": [
       "     colnames.input1. input1.1... input1.2... input2.1... input2.2...\n",
       "1993 1993               14          36        0.2800000   0.72000000 \n",
       "1994 1994               14          34        0.2916667   0.70833333 \n",
       "1995 1995               13          35        0.2708333   0.72916667 \n",
       "1996 1996               14          27        0.3414634   0.65853659 \n",
       "1997 1997               21          33        0.3888889   0.61111111 \n",
       "1998 1998               25          29        0.4629630   0.53703704 \n",
       "1999 1999               23          23        0.5000000   0.50000000 \n",
       "2000 2000               26          63        0.2921348   0.70786517 \n",
       "2001 2001               76         107        0.4153005   0.58469945 \n",
       "2002 2002              105         293        0.2638191   0.73618090 \n",
       "2003 2003              163         636        0.2040050   0.79599499 \n",
       "2004 2004              180         468        0.2777778   0.72222222 \n",
       "2005 2005              204         450        0.3119266   0.68807339 \n",
       "2006 2006              314         549        0.3638470   0.63615295 \n",
       "2007 2007              496         737        0.4022709   0.59772912 \n",
       "2008 2008              729         850        0.4616846   0.53831539 \n",
       "2009 2009             1229        1260        0.4937726   0.50622740 \n",
       "2010 2010             2503        1669        0.5999521   0.40004794 \n",
       "2011 2011             3961        1981        0.6666106   0.33338943 \n",
       "2012 2012             4642        1673        0.7350752   0.26492478 \n",
       "2013 2013             6045        1225        0.8314993   0.16850069 \n",
       "2014 2014             9125         780        0.9212519   0.07874811 \n",
       "2015 2015             3564          86        0.9764384   0.02356164 "
      ]
     },
     "metadata": {},
     "output_type": "display_data"
    }
   ],
   "source": [
    "# 데이터 프레임 구성\n",
    "input1 <- stat_table_col_26_93\n",
    "input2 <-  stat_prop_table\n",
    "# df_bind <- data.frame(colnames(input1))\n",
    "# df_bind <- data.frame(colnames(input1),input1[1,])\n",
    "# df_bind <- data.frame(colnames(input1),input1[1,],input1[2,])\n",
    "# df_bind <- data.frame(colnames(input1),input1[1,],input1[2,],input2[1,])\n",
    "df_bind <- data.frame(colnames(input1),input1[1,],input1[2,],input2[1,],input2[2,])\n",
    "df_bind\n"
   ]
  },
  {
   "cell_type": "code",
   "execution_count": 148,
   "id": "98831c5a",
   "metadata": {},
   "outputs": [
    {
     "data": {
      "text/html": [
       "<table class=\"dataframe\">\n",
       "<caption>A data.frame: 23 × 5</caption>\n",
       "<thead>\n",
       "\t<tr><th scope=col>Year</th><th scope=col>Open</th><th scope=col>Close</th><th scope=col>POpen</th><th scope=col>PClose</th></tr>\n",
       "\t<tr><th scope=col>&lt;chr&gt;</th><th scope=col>&lt;int&gt;</th><th scope=col>&lt;int&gt;</th><th scope=col>&lt;dbl&gt;</th><th scope=col>&lt;dbl&gt;</th></tr>\n",
       "</thead>\n",
       "<tbody>\n",
       "\t<tr><td>1993</td><td>  14</td><td>  36</td><td>0.2800000</td><td>0.72000000</td></tr>\n",
       "\t<tr><td>1994</td><td>  14</td><td>  34</td><td>0.2916667</td><td>0.70833333</td></tr>\n",
       "\t<tr><td>1995</td><td>  13</td><td>  35</td><td>0.2708333</td><td>0.72916667</td></tr>\n",
       "\t<tr><td>1996</td><td>  14</td><td>  27</td><td>0.3414634</td><td>0.65853659</td></tr>\n",
       "\t<tr><td>1997</td><td>  21</td><td>  33</td><td>0.3888889</td><td>0.61111111</td></tr>\n",
       "\t<tr><td>1998</td><td>  25</td><td>  29</td><td>0.4629630</td><td>0.53703704</td></tr>\n",
       "\t<tr><td>1999</td><td>  23</td><td>  23</td><td>0.5000000</td><td>0.50000000</td></tr>\n",
       "\t<tr><td>2000</td><td>  26</td><td>  63</td><td>0.2921348</td><td>0.70786517</td></tr>\n",
       "\t<tr><td>2001</td><td>  76</td><td> 107</td><td>0.4153005</td><td>0.58469945</td></tr>\n",
       "\t<tr><td>2002</td><td> 105</td><td> 293</td><td>0.2638191</td><td>0.73618090</td></tr>\n",
       "\t<tr><td>2003</td><td> 163</td><td> 636</td><td>0.2040050</td><td>0.79599499</td></tr>\n",
       "\t<tr><td>2004</td><td> 180</td><td> 468</td><td>0.2777778</td><td>0.72222222</td></tr>\n",
       "\t<tr><td>2005</td><td> 204</td><td> 450</td><td>0.3119266</td><td>0.68807339</td></tr>\n",
       "\t<tr><td>2006</td><td> 314</td><td> 549</td><td>0.3638470</td><td>0.63615295</td></tr>\n",
       "\t<tr><td>2007</td><td> 496</td><td> 737</td><td>0.4022709</td><td>0.59772912</td></tr>\n",
       "\t<tr><td>2008</td><td> 729</td><td> 850</td><td>0.4616846</td><td>0.53831539</td></tr>\n",
       "\t<tr><td>2009</td><td>1229</td><td>1260</td><td>0.4937726</td><td>0.50622740</td></tr>\n",
       "\t<tr><td>2010</td><td>2503</td><td>1669</td><td>0.5999521</td><td>0.40004794</td></tr>\n",
       "\t<tr><td>2011</td><td>3961</td><td>1981</td><td>0.6666106</td><td>0.33338943</td></tr>\n",
       "\t<tr><td>2012</td><td>4642</td><td>1673</td><td>0.7350752</td><td>0.26492478</td></tr>\n",
       "\t<tr><td>2013</td><td>6045</td><td>1225</td><td>0.8314993</td><td>0.16850069</td></tr>\n",
       "\t<tr><td>2014</td><td>9125</td><td> 780</td><td>0.9212519</td><td>0.07874811</td></tr>\n",
       "\t<tr><td>2015</td><td>3564</td><td>  86</td><td>0.9764384</td><td>0.02356164</td></tr>\n",
       "</tbody>\n",
       "</table>\n"
      ],
      "text/latex": [
       "A data.frame: 23 × 5\n",
       "\\begin{tabular}{lllll}\n",
       " Year & Open & Close & POpen & PClose\\\\\n",
       " <chr> & <int> & <int> & <dbl> & <dbl>\\\\\n",
       "\\hline\n",
       "\t 1993 &   14 &   36 & 0.2800000 & 0.72000000\\\\\n",
       "\t 1994 &   14 &   34 & 0.2916667 & 0.70833333\\\\\n",
       "\t 1995 &   13 &   35 & 0.2708333 & 0.72916667\\\\\n",
       "\t 1996 &   14 &   27 & 0.3414634 & 0.65853659\\\\\n",
       "\t 1997 &   21 &   33 & 0.3888889 & 0.61111111\\\\\n",
       "\t 1998 &   25 &   29 & 0.4629630 & 0.53703704\\\\\n",
       "\t 1999 &   23 &   23 & 0.5000000 & 0.50000000\\\\\n",
       "\t 2000 &   26 &   63 & 0.2921348 & 0.70786517\\\\\n",
       "\t 2001 &   76 &  107 & 0.4153005 & 0.58469945\\\\\n",
       "\t 2002 &  105 &  293 & 0.2638191 & 0.73618090\\\\\n",
       "\t 2003 &  163 &  636 & 0.2040050 & 0.79599499\\\\\n",
       "\t 2004 &  180 &  468 & 0.2777778 & 0.72222222\\\\\n",
       "\t 2005 &  204 &  450 & 0.3119266 & 0.68807339\\\\\n",
       "\t 2006 &  314 &  549 & 0.3638470 & 0.63615295\\\\\n",
       "\t 2007 &  496 &  737 & 0.4022709 & 0.59772912\\\\\n",
       "\t 2008 &  729 &  850 & 0.4616846 & 0.53831539\\\\\n",
       "\t 2009 & 1229 & 1260 & 0.4937726 & 0.50622740\\\\\n",
       "\t 2010 & 2503 & 1669 & 0.5999521 & 0.40004794\\\\\n",
       "\t 2011 & 3961 & 1981 & 0.6666106 & 0.33338943\\\\\n",
       "\t 2012 & 4642 & 1673 & 0.7350752 & 0.26492478\\\\\n",
       "\t 2013 & 6045 & 1225 & 0.8314993 & 0.16850069\\\\\n",
       "\t 2014 & 9125 &  780 & 0.9212519 & 0.07874811\\\\\n",
       "\t 2015 & 3564 &   86 & 0.9764384 & 0.02356164\\\\\n",
       "\\end{tabular}\n"
      ],
      "text/markdown": [
       "\n",
       "A data.frame: 23 × 5\n",
       "\n",
       "| Year &lt;chr&gt; | Open &lt;int&gt; | Close &lt;int&gt; | POpen &lt;dbl&gt; | PClose &lt;dbl&gt; |\n",
       "|---|---|---|---|---|\n",
       "| 1993 |   14 |   36 | 0.2800000 | 0.72000000 |\n",
       "| 1994 |   14 |   34 | 0.2916667 | 0.70833333 |\n",
       "| 1995 |   13 |   35 | 0.2708333 | 0.72916667 |\n",
       "| 1996 |   14 |   27 | 0.3414634 | 0.65853659 |\n",
       "| 1997 |   21 |   33 | 0.3888889 | 0.61111111 |\n",
       "| 1998 |   25 |   29 | 0.4629630 | 0.53703704 |\n",
       "| 1999 |   23 |   23 | 0.5000000 | 0.50000000 |\n",
       "| 2000 |   26 |   63 | 0.2921348 | 0.70786517 |\n",
       "| 2001 |   76 |  107 | 0.4153005 | 0.58469945 |\n",
       "| 2002 |  105 |  293 | 0.2638191 | 0.73618090 |\n",
       "| 2003 |  163 |  636 | 0.2040050 | 0.79599499 |\n",
       "| 2004 |  180 |  468 | 0.2777778 | 0.72222222 |\n",
       "| 2005 |  204 |  450 | 0.3119266 | 0.68807339 |\n",
       "| 2006 |  314 |  549 | 0.3638470 | 0.63615295 |\n",
       "| 2007 |  496 |  737 | 0.4022709 | 0.59772912 |\n",
       "| 2008 |  729 |  850 | 0.4616846 | 0.53831539 |\n",
       "| 2009 | 1229 | 1260 | 0.4937726 | 0.50622740 |\n",
       "| 2010 | 2503 | 1669 | 0.5999521 | 0.40004794 |\n",
       "| 2011 | 3961 | 1981 | 0.6666106 | 0.33338943 |\n",
       "| 2012 | 4642 | 1673 | 0.7350752 | 0.26492478 |\n",
       "| 2013 | 6045 | 1225 | 0.8314993 | 0.16850069 |\n",
       "| 2014 | 9125 |  780 | 0.9212519 | 0.07874811 |\n",
       "| 2015 | 3564 |   86 | 0.9764384 | 0.02356164 |\n",
       "\n"
      ],
      "text/plain": [
       "   Year Open Close POpen     PClose    \n",
       "1  1993   14   36  0.2800000 0.72000000\n",
       "2  1994   14   34  0.2916667 0.70833333\n",
       "3  1995   13   35  0.2708333 0.72916667\n",
       "4  1996   14   27  0.3414634 0.65853659\n",
       "5  1997   21   33  0.3888889 0.61111111\n",
       "6  1998   25   29  0.4629630 0.53703704\n",
       "7  1999   23   23  0.5000000 0.50000000\n",
       "8  2000   26   63  0.2921348 0.70786517\n",
       "9  2001   76  107  0.4153005 0.58469945\n",
       "10 2002  105  293  0.2638191 0.73618090\n",
       "11 2003  163  636  0.2040050 0.79599499\n",
       "12 2004  180  468  0.2777778 0.72222222\n",
       "13 2005  204  450  0.3119266 0.68807339\n",
       "14 2006  314  549  0.3638470 0.63615295\n",
       "15 2007  496  737  0.4022709 0.59772912\n",
       "16 2008  729  850  0.4616846 0.53831539\n",
       "17 2009 1229 1260  0.4937726 0.50622740\n",
       "18 2010 2503 1669  0.5999521 0.40004794\n",
       "19 2011 3961 1981  0.6666106 0.33338943\n",
       "20 2012 4642 1673  0.7350752 0.26492478\n",
       "21 2013 6045 1225  0.8314993 0.16850069\n",
       "22 2014 9125  780  0.9212519 0.07874811\n",
       "23 2015 3564   86  0.9764384 0.02356164"
      ]
     },
     "metadata": {},
     "output_type": "display_data"
    }
   ],
   "source": [
    "# 행 열 이름 정리\n",
    "# 행이름 삭제\n",
    "rownames(df_bind) <- NULL\n",
    "colnames(df_bind) <- c('Year','Open','Close','POpen','PClose')\n",
    "df_bind\n"
   ]
  },
  {
   "cell_type": "code",
   "execution_count": 149,
   "id": "3e29ff84",
   "metadata": {},
   "outputs": [
    {
     "data": {
      "image/png": "[encoded data removed]",
      "text/plain": [
       "plot without title"
      ]
     },
     "metadata": {
      "image/png": {
       "height": 420,
       "width": 420
      }
     },
     "output_type": "display_data"
    }
   ],
   "source": [
    "# 시각화 - line graph\n",
    "ggplot(df_bind, aes(x=Year, y=Close, group=1)) +\n",
    "    geom_line(colour='steelblue1', size=1) +\n",
    "    geom_point(colour='steelblue', size=3) +\n",
    "    geom_line(aes(y=Open), colour='tomato2', size=1) +\n",
    "    geom_point(aes(y=Open), colour='red', size=3) +\n",
    "    theme_bw()\n"
   ]
  },
  {
   "cell_type": "code",
   "execution_count": 150,
   "id": "a15a1f1c",
   "metadata": {},
   "outputs": [],
   "source": [
    "# 전국 커피숍 규모 파악하기\n",
    "# 데이터 로드\n",
    "df <- read.csv('./rggagi/example_coffee.csv', header = T, stringsAsFactors = T)\n"
   ]
  },
  {
   "cell_type": "code",
   "execution_count": 151,
   "id": "3f3273ca",
   "metadata": {},
   "outputs": [],
   "source": [
    "# 규모 데이터 별도 저장\n",
    "size <- df$sizeOfsite\n"
   ]
  },
  {
   "cell_type": "code",
   "execution_count": 152,
   "id": "2451738c",
   "metadata": {},
   "outputs": [
    {
     "data": {
      "text/plain": [
       "    Min.  1st Qu.   Median     Mean  3rd Qu.     Max.     NA's \n",
       "    0.00    28.12    50.00    75.53    93.75 24075.00       19 "
      ]
     },
     "metadata": {},
     "output_type": "display_data"
    }
   ],
   "source": [
    "# 자료 특성 파악\n",
    "summary(size)"
   ]
  },
  {
   "cell_type": "code",
   "execution_count": 153,
   "id": "82d999f5",
   "metadata": {},
   "outputs": [],
   "source": [
    "# 아웃라이어 삭제 - 평균보다 지나치게 다른 값\n",
    "size[size > 10000] <- NA\n",
    "size[size == 0] <- NA"
   ]
  },
  {
   "cell_type": "code",
   "execution_count": 154,
   "id": "768f0fab",
   "metadata": {},
   "outputs": [],
   "source": [
    "# NA 값 제거 complete.cases() NA 값 False 린텉\n",
    "size <- size[complete.cases(size)]\n"
   ]
  },
  {
   "cell_type": "code",
   "execution_count": 155,
   "id": "57c40965",
   "metadata": {},
   "outputs": [
    {
     "data": {
      "text/plain": [
       "   Min. 1st Qu.  Median    Mean 3rd Qu.    Max. \n",
       "   0.25   30.00   51.92   77.23   95.30 1406.38 "
      ]
     },
     "metadata": {},
     "output_type": "display_data"
    }
   ],
   "source": [
    "summary(size)\n"
   ]
  },
  {
   "cell_type": "code",
   "execution_count": 156,
   "id": "460be6b7",
   "metadata": {},
   "outputs": [
    {
     "data": {
      "text/plain": [
       "\n",
       "             (0,20]             (20,40]             (40,60]             (60,80] \n",
       "               6026               11303                8293                5283 \n",
       "           (80,100]           (100,120]           (120,140]           (140,160] \n",
       "               4239                2246                1751                1297 \n",
       "          (160,180]           (180,200]           (200,220]           (220,240] \n",
       "                959                 882                 568                 512 \n",
       "          (240,260]           (260,280]           (280,300]           (300,320] \n",
       "                394                 331                 347                 179 \n",
       "          (320,340]           (340,360]           (360,380]           (380,400] \n",
       "                191                 112                 105                  94 \n",
       "          (400,420]           (420,440]           (440,460]           (460,480] \n",
       "                 81                  60                  42                  34 \n",
       "          (480,500]           (500,520]           (520,540]           (540,560] \n",
       "                 32                  18                  16                  14 \n",
       "          (560,580]           (580,600]           (600,620]           (620,640] \n",
       "                 12                   9                   9                   5 \n",
       "          (640,660]           (660,680]           (680,700]           (700,720] \n",
       "                  4                   4                   0                   1 \n",
       "          (720,740]           (740,760]           (760,780]           (780,800] \n",
       "                  1                   2                   4                   1 \n",
       "          (800,820]           (820,840]           (840,860]           (860,880] \n",
       "                  1                   1                   0                   0 \n",
       "          (880,900]           (900,920]           (920,940]           (940,960] \n",
       "                  0                   2                   1                   0 \n",
       "          (960,980]         (980,1e+03]    (1e+03,1.02e+03] (1.02e+03,1.04e+03] \n",
       "                  0                   1                   0                   0 \n",
       "(1.04e+03,1.06e+03] (1.06e+03,1.08e+03]  (1.08e+03,1.1e+03]  (1.1e+03,1.12e+03] \n",
       "                  2                   0                   0                   0 \n",
       "(1.12e+03,1.14e+03] (1.14e+03,1.16e+03] (1.16e+03,1.18e+03]  (1.18e+03,1.2e+03] \n",
       "                  0                   0                   0                   0 \n",
       " (1.2e+03,1.22e+03] (1.22e+03,1.24e+03] (1.24e+03,1.26e+03] (1.26e+03,1.28e+03] \n",
       "                  1                   0                   0                   0 \n",
       " (1.28e+03,1.3e+03]  (1.3e+03,1.32e+03] (1.32e+03,1.34e+03] (1.34e+03,1.36e+03] \n",
       "                  0                   0                   0                   0 \n",
       "(1.36e+03,1.38e+03]  (1.38e+03,1.4e+03]  (1.4e+03,1.42e+03] (1.42e+03,1.44e+03] \n",
       "                  0                   0                   1                   0 "
      ]
     },
     "metadata": {},
     "output_type": "display_data"
    }
   ],
   "source": [
    "# 20단위 계급 생성\n",
    "degree_size <- table(cut(size, breaks=(0:72)*20))\n",
    "degree_size"
   ]
  },
  {
   "cell_type": "code",
   "execution_count": 157,
   "id": "48fafb34",
   "metadata": {},
   "outputs": [],
   "source": [
    "# 시각화 - 30~40 (10평) 제일 많음\n",
    "library(ggplot2)\n",
    "library(ggthemes)\n"
   ]
  },
  {
   "cell_type": "code",
   "execution_count": 158,
   "id": "7b82fccb",
   "metadata": {},
   "outputs": [
    {
     "name": "stderr",
     "output_type": "stream",
     "text": [
      "Warning message:\n",
      "\"Removed 1060 rows containing non-finite values (stat_bin).\"\n",
      "Warning message:\n",
      "\"Removed 2 row(s) containing missing values (geom_path).\"\n"
     ]
    },
    {
     "data": {
      "image/png": "[encoded data removed]",
      "text/plain": [
       "plot without title"
      ]
     },
     "metadata": {
      "image/png": {
       "height": 420,
       "width": 420
      }
     },
     "output_type": "display_data"
    }
   ],
   "source": [
    "ggplot(data=df, aes(x=sizeOfsite)) +\n",
    "    geom_freqpoly(binwidth=10, size=1.2, colour='orange') +\n",
    "    scale_x_continuous(limits=c(0,300), breaks=seq(0, 300, 20)) +\n",
    "    theme_wsj()\n"
   ]
  },
  {
   "cell_type": "code",
   "execution_count": 184,
   "id": "379ed0d5",
   "metadata": {},
   "outputs": [],
   "source": [
    "# 전국 인구조사 자료 정리하기 - 통계청 작성 전국 인구조사 데이터\n",
    "# 시별 도별 인구수\n",
    "# Data 불러오기\n",
    "# 인구수에 \",\" 가 있어 문자열로 불러오기 stringsAsFactors = F\n",
    "\n",
    "df <- read.csv('./rggagi/example_population.csv', stringsAsFactors = F)"
   ]
  },
  {
   "cell_type": "code",
   "execution_count": 187,
   "id": "6603872b",
   "metadata": {},
   "outputs": [
    {
     "name": "stdout",
     "output_type": "stream",
     "text": [
      "'data.frame':\t281 obs. of  7 variables:\n",
      " $ City      : chr  \"서울특별시  (1100000000)\" \"서울특별시 종로구 (1111000000)\" \"서울특별시 중구 (1114000000)\" \"서울특별시 용산구 (1117000000)\" ...\n",
      " $ Population: chr  \"10,078,850\" \"155,695\" \"126,817\" \"235,186\" ...\n",
      " $ Households: chr  \"4,197,478\" \"72,882\" \"59,614\" \"108,138\" ...\n",
      " $ PersInHou : num  2.4 2.14 2.13 2.17 2.35 2.28 2.26 2.36 2.41 2.36 ...\n",
      " $ Male      : chr  \"4,962,774\" \"76,962\" \"63,292\" \"114,119\" ...\n",
      " $ Female    : chr  \"5,116,076\" \"78,733\" \"63,525\" \"121,067\" ...\n",
      " $ SexRatio  : num  0.97 0.98 1 0.94 0.99 0.97 1.01 1 0.96 0.97 ...\n"
     ]
    }
   ],
   "source": [
    "# 자료 요약 살펴보기\n",
    "str(df)\n"
   ]
  },
  {
   "cell_type": "code",
   "execution_count": 193,
   "id": "0e5d76fb",
   "metadata": {
    "scrolled": true
   },
   "outputs": [
    {
     "data": {
      "text/html": [
       "<table class=\"dataframe\">\n",
       "<caption>A data.frame: 6 × 7</caption>\n",
       "<thead>\n",
       "\t<tr><th></th><th scope=col>City</th><th scope=col>Population</th><th scope=col>Households</th><th scope=col>PersInHou</th><th scope=col>Male</th><th scope=col>Female</th><th scope=col>SexRatio</th></tr>\n",
       "\t<tr><th></th><th scope=col>&lt;chr&gt;</th><th scope=col>&lt;chr&gt;</th><th scope=col>&lt;chr&gt;</th><th scope=col>&lt;dbl&gt;</th><th scope=col>&lt;chr&gt;</th><th scope=col>&lt;chr&gt;</th><th scope=col>&lt;dbl&gt;</th></tr>\n",
       "</thead>\n",
       "<tbody>\n",
       "\t<tr><th scope=row>1</th><td>서울특별시  (1100000000)      </td><td>10,078,850</td><td>4,197,478</td><td>2.40</td><td>4,962,774</td><td>5,116,076</td><td>0.97</td></tr>\n",
       "\t<tr><th scope=row>2</th><td>서울특별시 종로구 (1111000000)</td><td>155,695   </td><td>72,882   </td><td>2.14</td><td>76,962   </td><td>78,733   </td><td>0.98</td></tr>\n",
       "\t<tr><th scope=row>3</th><td>서울특별시 중구 (1114000000)  </td><td>126,817   </td><td>59,614   </td><td>2.13</td><td>63,292   </td><td>63,525   </td><td>1.00</td></tr>\n",
       "\t<tr><th scope=row>4</th><td>서울특별시 용산구 (1117000000)</td><td>235,186   </td><td>108,138  </td><td>2.17</td><td>114,119  </td><td>121,067  </td><td>0.94</td></tr>\n",
       "\t<tr><th scope=row>5</th><td>서울특별시 성동구 (1120000000)</td><td>298,145   </td><td>126,915  </td><td>2.35</td><td>148,265  </td><td>149,880  </td><td>0.99</td></tr>\n",
       "\t<tr><th scope=row>6</th><td>서울특별시 광진구 (1121500000)</td><td>362,197   </td><td>158,769  </td><td>2.28</td><td>177,946  </td><td>184,251  </td><td>0.97</td></tr>\n",
       "</tbody>\n",
       "</table>\n"
      ],
      "text/latex": [
       "A data.frame: 6 × 7\n",
       "\\begin{tabular}{r|lllllll}\n",
       "  & City & Population & Households & PersInHou & Male & Female & SexRatio\\\\\n",
       "  & <chr> & <chr> & <chr> & <dbl> & <chr> & <chr> & <dbl>\\\\\n",
       "\\hline\n",
       "\t1 & 서울특별시  (1100000000)       & 10,078,850 & 4,197,478 & 2.40 & 4,962,774 & 5,116,076 & 0.97\\\\\n",
       "\t2 & 서울특별시 종로구 (1111000000) & 155,695    & 72,882    & 2.14 & 76,962    & 78,733    & 0.98\\\\\n",
       "\t3 & 서울특별시 중구 (1114000000)   & 126,817    & 59,614    & 2.13 & 63,292    & 63,525    & 1.00\\\\\n",
       "\t4 & 서울특별시 용산구 (1117000000) & 235,186    & 108,138   & 2.17 & 114,119   & 121,067   & 0.94\\\\\n",
       "\t5 & 서울특별시 성동구 (1120000000) & 298,145    & 126,915   & 2.35 & 148,265   & 149,880   & 0.99\\\\\n",
       "\t6 & 서울특별시 광진구 (1121500000) & 362,197    & 158,769   & 2.28 & 177,946   & 184,251   & 0.97\\\\\n",
       "\\end{tabular}\n"
      ],
      "text/markdown": [
       "\n",
       "A data.frame: 6 × 7\n",
       "\n",
       "| <!--/--> | City &lt;chr&gt; | Population &lt;chr&gt; | Households &lt;chr&gt; | PersInHou &lt;dbl&gt; | Male &lt;chr&gt; | Female &lt;chr&gt; | SexRatio &lt;dbl&gt; |\n",
       "|---|---|---|---|---|---|---|---|\n",
       "| 1 | 서울특별시  (1100000000)       | 10,078,850 | 4,197,478 | 2.40 | 4,962,774 | 5,116,076 | 0.97 |\n",
       "| 2 | 서울특별시 종로구 (1111000000) | 155,695    | 72,882    | 2.14 | 76,962    | 78,733    | 0.98 |\n",
       "| 3 | 서울특별시 중구 (1114000000)   | 126,817    | 59,614    | 2.13 | 63,292    | 63,525    | 1.00 |\n",
       "| 4 | 서울특별시 용산구 (1117000000) | 235,186    | 108,138   | 2.17 | 114,119   | 121,067   | 0.94 |\n",
       "| 5 | 서울특별시 성동구 (1120000000) | 298,145    | 126,915   | 2.35 | 148,265   | 149,880   | 0.99 |\n",
       "| 6 | 서울특별시 광진구 (1121500000) | 362,197    | 158,769   | 2.28 | 177,946   | 184,251   | 0.97 |\n",
       "\n"
      ],
      "text/plain": [
       "  City                           Population Households PersInHou Male     \n",
       "1 서울특별시  (1100000000)       10,078,850 4,197,478  2.40      4,962,774\n",
       "2 서울특별시 종로구 (1111000000) 155,695    72,882     2.14      76,962   \n",
       "3 서울특별시 중구 (1114000000)   126,817    59,614     2.13      63,292   \n",
       "4 서울특별시 용산구 (1117000000) 235,186    108,138    2.17      114,119  \n",
       "5 서울특별시 성동구 (1120000000) 298,145    126,915    2.35      148,265  \n",
       "6 서울특별시 광진구 (1121500000) 362,197    158,769    2.28      177,946  \n",
       "  Female    SexRatio\n",
       "1 5,116,076 0.97    \n",
       "2 78,733    0.98    \n",
       "3 63,525    1.00    \n",
       "4 121,067   0.94    \n",
       "5 149,880   0.99    \n",
       "6 184,251   0.97    "
      ]
     },
     "metadata": {},
     "output_type": "display_data"
    }
   ],
   "source": [
    "# 자료 값 확인 head()\n",
    "head(df)\n"
   ]
  },
  {
   "cell_type": "code",
   "execution_count": 174,
   "id": "3210ffd0",
   "metadata": {},
   "outputs": [
    {
     "name": "stderr",
     "output_type": "stream",
     "text": [
      "Warning message:\n",
      "\"패키지 'stringr'가 사용중이므로 설치되지 않을 것입니다\"\n"
     ]
    }
   ],
   "source": [
    "# 서울특별시 종로구 (1111000000) => 서울특별시 종로구 이렇게 만들기\n",
    "# 문자열 분리 - str_split_fixed() \n",
    "install.packages('stringr')"
   ]
  },
  {
   "cell_type": "code",
   "execution_count": 189,
   "id": "ba8431a2",
   "metadata": {},
   "outputs": [],
   "source": [
    "library('stringr')\n"
   ]
  }
 ],
 "metadata": {
  "kernelspec": {
   "display_name": "R",
   "language": "R",
   "name": "ir"
  },
  "language_info": {
   "codemirror_mode": "r",
   "file_extension": ".r",
   "mimetype": "text/x-r-source",
   "name": "R",
   "pygments_lexer": "r",
   "version": "4.1.3"
  }
 },
 "nbformat": 4,
 "nbformat_minor": 5
}
