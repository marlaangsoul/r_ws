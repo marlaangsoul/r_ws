{
 "cells": [
  {
   "cell_type": "code",
   "execution_count": 1,
   "id": "8ff403b5",
   "metadata": {},
   "outputs": [
    {
     "name": "stdout",
     "output_type": "stream",
     "text": [
      "package 'gtools' successfully unpacked and MD5 sums checked\n",
      "\n",
      "The downloaded binary packages are in\n",
      "\tC:\\Users\\NOTEBOOK\\AppData\\Local\\Temp\\Rtmp4MkThY\\downloaded_packages\n"
     ]
    }
   ],
   "source": [
    "install.packages('gtools')"
   ]
  },
  {
   "cell_type": "code",
   "execution_count": 1,
   "id": "943bb987",
   "metadata": {},
   "outputs": [],
   "source": [
    "library(gtools)\n"
   ]
  },
  {
   "cell_type": "code",
   "execution_count": 3,
   "id": "d09c0dc1",
   "metadata": {},
   "outputs": [],
   "source": [
    "data <- c('1','2','3')\n"
   ]
  },
  {
   "cell_type": "code",
   "execution_count": 4,
   "id": "743ced3c",
   "metadata": {},
   "outputs": [
    {
     "data": {
      "text/html": [
       "<table class=\"dataframe\">\n",
       "<caption>A matrix: 6 × 2 of type chr</caption>\n",
       "<tbody>\n",
       "\t<tr><td>1</td><td>2</td></tr>\n",
       "\t<tr><td>1</td><td>3</td></tr>\n",
       "\t<tr><td>2</td><td>1</td></tr>\n",
       "\t<tr><td>2</td><td>3</td></tr>\n",
       "\t<tr><td>3</td><td>1</td></tr>\n",
       "\t<tr><td>3</td><td>2</td></tr>\n",
       "</tbody>\n",
       "</table>\n"
      ],
      "text/latex": [
       "A matrix: 6 × 2 of type chr\n",
       "\\begin{tabular}{ll}\n",
       "\t 1 & 2\\\\\n",
       "\t 1 & 3\\\\\n",
       "\t 2 & 1\\\\\n",
       "\t 2 & 3\\\\\n",
       "\t 3 & 1\\\\\n",
       "\t 3 & 2\\\\\n",
       "\\end{tabular}\n"
      ],
      "text/markdown": [
       "\n",
       "A matrix: 6 × 2 of type chr\n",
       "\n",
       "| 1 | 2 |\n",
       "| 1 | 3 |\n",
       "| 2 | 1 |\n",
       "| 2 | 3 |\n",
       "| 3 | 1 |\n",
       "| 3 | 2 |\n",
       "\n"
      ],
      "text/plain": [
       "     [,1] [,2]\n",
       "[1,] 1    2   \n",
       "[2,] 1    3   \n",
       "[3,] 2    1   \n",
       "[4,] 2    3   \n",
       "[5,] 3    1   \n",
       "[6,] 3    2   "
      ]
     },
     "metadata": {},
     "output_type": "display_data"
    }
   ],
   "source": [
    "permutations(3,2,data)\n"
   ]
  },
  {
   "cell_type": "code",
   "execution_count": 5,
   "id": "20b3a2db",
   "metadata": {},
   "outputs": [
    {
     "data": {
      "text/html": [
       "<table class=\"dataframe\">\n",
       "<caption>A matrix: 3 × 2 of type chr</caption>\n",
       "<tbody>\n",
       "\t<tr><td>1</td><td>2</td></tr>\n",
       "\t<tr><td>1</td><td>3</td></tr>\n",
       "\t<tr><td>2</td><td>3</td></tr>\n",
       "</tbody>\n",
       "</table>\n"
      ],
      "text/latex": [
       "A matrix: 3 × 2 of type chr\n",
       "\\begin{tabular}{ll}\n",
       "\t 1 & 2\\\\\n",
       "\t 1 & 3\\\\\n",
       "\t 2 & 3\\\\\n",
       "\\end{tabular}\n"
      ],
      "text/markdown": [
       "\n",
       "A matrix: 3 × 2 of type chr\n",
       "\n",
       "| 1 | 2 |\n",
       "| 1 | 3 |\n",
       "| 2 | 3 |\n",
       "\n"
      ],
      "text/plain": [
       "     [,1] [,2]\n",
       "[1,] 1    2   \n",
       "[2,] 1    3   \n",
       "[3,] 2    3   "
      ]
     },
     "metadata": {},
     "output_type": "display_data"
    }
   ],
   "source": [
    "combinations(3,2,data)"
   ]
  },
  {
   "cell_type": "code",
   "execution_count": 6,
   "id": "0b353858",
   "metadata": {},
   "outputs": [
    {
     "data": {
      "text/html": [
       "<table class=\"dataframe\">\n",
       "<caption>A matrix: 9 × 2 of type chr</caption>\n",
       "<tbody>\n",
       "\t<tr><td>1</td><td>1</td></tr>\n",
       "\t<tr><td>1</td><td>2</td></tr>\n",
       "\t<tr><td>1</td><td>3</td></tr>\n",
       "\t<tr><td>2</td><td>1</td></tr>\n",
       "\t<tr><td>2</td><td>2</td></tr>\n",
       "\t<tr><td>2</td><td>3</td></tr>\n",
       "\t<tr><td>3</td><td>1</td></tr>\n",
       "\t<tr><td>3</td><td>2</td></tr>\n",
       "\t<tr><td>3</td><td>3</td></tr>\n",
       "</tbody>\n",
       "</table>\n"
      ],
      "text/latex": [
       "A matrix: 9 × 2 of type chr\n",
       "\\begin{tabular}{ll}\n",
       "\t 1 & 1\\\\\n",
       "\t 1 & 2\\\\\n",
       "\t 1 & 3\\\\\n",
       "\t 2 & 1\\\\\n",
       "\t 2 & 2\\\\\n",
       "\t 2 & 3\\\\\n",
       "\t 3 & 1\\\\\n",
       "\t 3 & 2\\\\\n",
       "\t 3 & 3\\\\\n",
       "\\end{tabular}\n"
      ],
      "text/markdown": [
       "\n",
       "A matrix: 9 × 2 of type chr\n",
       "\n",
       "| 1 | 1 |\n",
       "| 1 | 2 |\n",
       "| 1 | 3 |\n",
       "| 2 | 1 |\n",
       "| 2 | 2 |\n",
       "| 2 | 3 |\n",
       "| 3 | 1 |\n",
       "| 3 | 2 |\n",
       "| 3 | 3 |\n",
       "\n"
      ],
      "text/plain": [
       "      [,1] [,2]\n",
       " [1,] 1    1   \n",
       " [2,] 1    2   \n",
       " [3,] 1    3   \n",
       " [4,] 2    1   \n",
       " [5,] 2    2   \n",
       " [6,] 2    3   \n",
       " [7,] 3    1   \n",
       " [8,] 3    2   \n",
       " [9,] 3    3   "
      ]
     },
     "metadata": {},
     "output_type": "display_data"
    }
   ],
   "source": [
    "permutations(3,2,data, repeats.allowed = T)\n"
   ]
  },
  {
   "cell_type": "code",
   "execution_count": 7,
   "id": "9c48b6d9",
   "metadata": {},
   "outputs": [
    {
     "data": {
      "text/html": [
       "<table class=\"dataframe\">\n",
       "<caption>A matrix: 6 × 2 of type chr</caption>\n",
       "<tbody>\n",
       "\t<tr><td>1</td><td>1</td></tr>\n",
       "\t<tr><td>1</td><td>2</td></tr>\n",
       "\t<tr><td>1</td><td>3</td></tr>\n",
       "\t<tr><td>2</td><td>2</td></tr>\n",
       "\t<tr><td>2</td><td>3</td></tr>\n",
       "\t<tr><td>3</td><td>3</td></tr>\n",
       "</tbody>\n",
       "</table>\n"
      ],
      "text/latex": [
       "A matrix: 6 × 2 of type chr\n",
       "\\begin{tabular}{ll}\n",
       "\t 1 & 1\\\\\n",
       "\t 1 & 2\\\\\n",
       "\t 1 & 3\\\\\n",
       "\t 2 & 2\\\\\n",
       "\t 2 & 3\\\\\n",
       "\t 3 & 3\\\\\n",
       "\\end{tabular}\n"
      ],
      "text/markdown": [
       "\n",
       "A matrix: 6 × 2 of type chr\n",
       "\n",
       "| 1 | 1 |\n",
       "| 1 | 2 |\n",
       "| 1 | 3 |\n",
       "| 2 | 2 |\n",
       "| 2 | 3 |\n",
       "| 3 | 3 |\n",
       "\n"
      ],
      "text/plain": [
       "     [,1] [,2]\n",
       "[1,] 1    1   \n",
       "[2,] 1    2   \n",
       "[3,] 1    3   \n",
       "[4,] 2    2   \n",
       "[5,] 2    3   \n",
       "[6,] 3    3   "
      ]
     },
     "metadata": {},
     "output_type": "display_data"
    }
   ],
   "source": [
    "combinations(3,2,data, repeats.allowed = T)"
   ]
  },
  {
   "cell_type": "code",
   "execution_count": 8,
   "id": "eb37e27c",
   "metadata": {},
   "outputs": [
    {
     "data": {
      "text/html": [
       "<table class=\"dataframe\">\n",
       "<caption>A matrix: 9 × 2 of type chr</caption>\n",
       "<tbody>\n",
       "\t<tr><td>1</td><td>1</td></tr>\n",
       "\t<tr><td>1</td><td>2</td></tr>\n",
       "\t<tr><td>1</td><td>3</td></tr>\n",
       "\t<tr><td>2</td><td>1</td></tr>\n",
       "\t<tr><td>2</td><td>2</td></tr>\n",
       "\t<tr><td>2</td><td>3</td></tr>\n",
       "\t<tr><td>3</td><td>1</td></tr>\n",
       "\t<tr><td>3</td><td>2</td></tr>\n",
       "\t<tr><td>3</td><td>3</td></tr>\n",
       "</tbody>\n",
       "</table>\n"
      ],
      "text/latex": [
       "A matrix: 9 × 2 of type chr\n",
       "\\begin{tabular}{ll}\n",
       "\t 1 & 1\\\\\n",
       "\t 1 & 2\\\\\n",
       "\t 1 & 3\\\\\n",
       "\t 2 & 1\\\\\n",
       "\t 2 & 2\\\\\n",
       "\t 2 & 3\\\\\n",
       "\t 3 & 1\\\\\n",
       "\t 3 & 2\\\\\n",
       "\t 3 & 3\\\\\n",
       "\\end{tabular}\n"
      ],
      "text/markdown": [
       "\n",
       "A matrix: 9 × 2 of type chr\n",
       "\n",
       "| 1 | 1 |\n",
       "| 1 | 2 |\n",
       "| 1 | 3 |\n",
       "| 2 | 1 |\n",
       "| 2 | 2 |\n",
       "| 2 | 3 |\n",
       "| 3 | 1 |\n",
       "| 3 | 2 |\n",
       "| 3 | 3 |\n",
       "\n"
      ],
      "text/plain": [
       "      [,1] [,2]\n",
       " [1,] 1    1   \n",
       " [2,] 1    2   \n",
       " [3,] 1    3   \n",
       " [4,] 2    1   \n",
       " [5,] 2    2   \n",
       " [6,] 2    3   \n",
       " [7,] 3    1   \n",
       " [8,] 3    2   \n",
       " [9,] 3    3   "
      ]
     },
     "metadata": {},
     "output_type": "display_data"
    }
   ],
   "source": [
    "permutations(3,2,data, repeats.allowed = T)\n"
   ]
  },
  {
   "cell_type": "code",
   "execution_count": 9,
   "id": "5edc07c0",
   "metadata": {},
   "outputs": [
    {
     "data": {
      "text/html": [
       "<table class=\"dataframe\">\n",
       "<caption>A matrix: 6 × 2 of type chr</caption>\n",
       "<tbody>\n",
       "\t<tr><td>1</td><td>1</td></tr>\n",
       "\t<tr><td>1</td><td>2</td></tr>\n",
       "\t<tr><td>1</td><td>3</td></tr>\n",
       "\t<tr><td>2</td><td>2</td></tr>\n",
       "\t<tr><td>2</td><td>3</td></tr>\n",
       "\t<tr><td>3</td><td>3</td></tr>\n",
       "</tbody>\n",
       "</table>\n"
      ],
      "text/latex": [
       "A matrix: 6 × 2 of type chr\n",
       "\\begin{tabular}{ll}\n",
       "\t 1 & 1\\\\\n",
       "\t 1 & 2\\\\\n",
       "\t 1 & 3\\\\\n",
       "\t 2 & 2\\\\\n",
       "\t 2 & 3\\\\\n",
       "\t 3 & 3\\\\\n",
       "\\end{tabular}\n"
      ],
      "text/markdown": [
       "\n",
       "A matrix: 6 × 2 of type chr\n",
       "\n",
       "| 1 | 1 |\n",
       "| 1 | 2 |\n",
       "| 1 | 3 |\n",
       "| 2 | 2 |\n",
       "| 2 | 3 |\n",
       "| 3 | 3 |\n",
       "\n"
      ],
      "text/plain": [
       "     [,1] [,2]\n",
       "[1,] 1    1   \n",
       "[2,] 1    2   \n",
       "[3,] 1    3   \n",
       "[4,] 2    2   \n",
       "[5,] 2    3   \n",
       "[6,] 3    3   "
      ]
     },
     "metadata": {},
     "output_type": "display_data"
    }
   ],
   "source": [
    "combinations(3,2,data, repeats.allowed = T)\n"
   ]
  },
  {
   "cell_type": "markdown",
   "id": "1e46309f",
   "metadata": {},
   "source": [
    "### 상대도수의 극한 개념으로 동전던지기 확률 구하기\n",
    "- 앞면이 나올 확률이 진짜로 0.5 일까?\n"
   ]
  },
  {
   "cell_type": "markdown",
   "id": "58640c92",
   "metadata": {},
   "source": [
    "### 실제 확률 실험 결과\n",
    "\n",
    "</ul>\n",
    "<h5 id=\"&#49892;&#51228;-&#54869;&#47456;-&#49892;&#54744;-&#44208;&#44284;\">&#49892;&#51228; &#54869;&#47456; &#49892;&#54744; &#44208;&#44284;<a class=\"anchor-link\" href=\"#&#49892;&#51228;-&#54869;&#47456;-&#49892;&#54744;-&#44208;&#44284;\">&#182;</a></h5><table>\n",
    "<thead><tr>\n",
    "<th>실험자</th>\n",
    "<th>던진 횟수</th>\n",
    "<th>앞면</th>\n",
    "<th>상대도수</th>\n",
    "</tr>\n",
    "</thead>\n",
    "<tbody>\n",
    "<tr>\n",
    "<td>Buffon</td>\n",
    "<td>4040</td>\n",
    "<td>2048</td>\n",
    "<td>0.5080</td>\n",
    "</tr>\n",
    "<tr>\n",
    "<td>Pearson</td>\n",
    "<td>12000</td>\n",
    "<td>6019</td>\n",
    "<td>0.5016</td>\n",
    "</tr>\n",
    "</tbody>\n",
    "</table>\n",
    "<ul>\n",
    "\n",
    "- 실험결과 이론값과 실험값이 거의 비슷\n",
    "- 실험을 많이 할수록 어떤 값으로 수렴\n"
   ]
  },
  {
   "cell_type": "markdown",
   "id": "07d17798",
   "metadata": {},
   "source": [
    "### 확률실험과 확률변수\n",
    "- 확률변수는 반드시 숫자 이어야 함\n",
    "- 수학적으로 계산하여 의미를 찾아야 하기 때문\n",
    "- 확률변수는 이산형(확률질량함수)과 연속형(확률밀도함수)에 따라 달라짐\n"
   ]
  },
  {
   "cell_type": "markdown",
   "id": "d412dec9",
   "metadata": {},
   "source": [
    "### 체계적인 확률실험\n",
    "#### 베르누이 시행\n",
    "- 성공/실패, 동전던지기 앞면/뒷면, 합격/불합격\n",
    "- 웹시스템에 배너를 10000명에 노출 / 클릭 9명 => 성공/실패 => 클릭 확률 9/10000\n",
    "- 결과가 성공/실패로 나타남\n",
    "- 다른 사람이 클릭했다고 다른 사람이 클릭 못하는 건 아님\n",
    "- 모두에게 클릭할 확률은 동일\n",
    "- 옆 사람이 클릭하는 것에 영향을 받지 않음\n",
    "#### 정리\n",
    "- 결과는 성공/실패\n",
    "- 각 시행 확률은 동일\n",
    "- 각 시행은 독립적\n",
    "#### 베르누이 시행 확률분포\n",
    "- 베르누이 시행의 결과를 가지고 할 수 있는 확률분포\n",
    "#### 이항분포 X~B(n,p)\n",
    "- 성공확률이 P인 베르누이 시행을 n번 반복할 때 나타나는 특정 성공횟수 X의 확률에 대한 분포\n",
    "- 동전을 20번 던저셔 앞면이 나올 확률 => X~B(20,0.5) => 10번 성공 확률이 제일 높음 => 확률은?\n",
    "\n",
    "- 이항분포 평균 = n*p\n",
    "- 이항분포 분산 = np(1-p)\n"
   ]
  },
  {
   "cell_type": "code",
   "execution_count": 12,
   "id": "30a9498a",
   "metadata": {},
   "outputs": [
    {
     "data": {
      "text/html": [
       "<style>\n",
       ".list-inline {list-style: none; margin:0; padding: 0}\n",
       ".list-inline>li {display: inline-block}\n",
       ".list-inline>li:not(:last-child)::after {content: \"\\00b7\"; padding: 0 .5ex}\n",
       "</style>\n",
       "<ol class=list-inline><li>9.5367431640625e-07</li><li>1.9073486328125e-05</li><li>0.000181198120117188</li><li>0.00108718872070313</li><li>0.00462055206298827</li><li>0.0147857666015625</li><li>0.0369644165039063</li><li>0.0739288330078125</li><li>0.120134353637695</li><li>0.160179138183594</li><li>0.176197052001953</li><li>0.160179138183594</li><li>0.120134353637695</li><li>0.0739288330078124</li><li>0.0369644165039063</li><li>0.0147857666015625</li><li>0.00462055206298827</li><li>0.00108718872070313</li><li>0.000181198120117188</li><li>1.9073486328125e-05</li><li>9.5367431640625e-07</li></ol>\n"
      ],
      "text/latex": [
       "\\begin{enumerate*}\n",
       "\\item 9.5367431640625e-07\n",
       "\\item 1.9073486328125e-05\n",
       "\\item 0.000181198120117188\n",
       "\\item 0.00108718872070313\n",
       "\\item 0.00462055206298827\n",
       "\\item 0.0147857666015625\n",
       "\\item 0.0369644165039063\n",
       "\\item 0.0739288330078125\n",
       "\\item 0.120134353637695\n",
       "\\item 0.160179138183594\n",
       "\\item 0.176197052001953\n",
       "\\item 0.160179138183594\n",
       "\\item 0.120134353637695\n",
       "\\item 0.0739288330078124\n",
       "\\item 0.0369644165039063\n",
       "\\item 0.0147857666015625\n",
       "\\item 0.00462055206298827\n",
       "\\item 0.00108718872070313\n",
       "\\item 0.000181198120117188\n",
       "\\item 1.9073486328125e-05\n",
       "\\item 9.5367431640625e-07\n",
       "\\end{enumerate*}\n"
      ],
      "text/markdown": [
       "1. 9.5367431640625e-07\n",
       "2. 1.9073486328125e-05\n",
       "3. 0.000181198120117188\n",
       "4. 0.00108718872070313\n",
       "5. 0.00462055206298827\n",
       "6. 0.0147857666015625\n",
       "7. 0.0369644165039063\n",
       "8. 0.0739288330078125\n",
       "9. 0.120134353637695\n",
       "10. 0.160179138183594\n",
       "11. 0.176197052001953\n",
       "12. 0.160179138183594\n",
       "13. 0.120134353637695\n",
       "14. 0.0739288330078124\n",
       "15. 0.0369644165039063\n",
       "16. 0.0147857666015625\n",
       "17. 0.00462055206298827\n",
       "18. 0.00108718872070313\n",
       "19. 0.000181198120117188\n",
       "20. 1.9073486328125e-05\n",
       "21. 9.5367431640625e-07\n",
       "\n",
       "\n"
      ],
      "text/plain": [
       " [1] 9.536743e-07 1.907349e-05 1.811981e-04 1.087189e-03 4.620552e-03\n",
       " [6] 1.478577e-02 3.696442e-02 7.392883e-02 1.201344e-01 1.601791e-01\n",
       "[11] 1.761971e-01 1.601791e-01 1.201344e-01 7.392883e-02 3.696442e-02\n",
       "[16] 1.478577e-02 4.620552e-03 1.087189e-03 1.811981e-04 1.907349e-05\n",
       "[21] 9.536743e-07"
      ]
     },
     "metadata": {},
     "output_type": "display_data"
    },
    {
     "data": {
      "text/html": [
       "0.176197052001953"
      ],
      "text/latex": [
       "0.176197052001953"
      ],
      "text/markdown": [
       "0.176197052001953"
      ],
      "text/plain": [
       "[1] 0.1761971"
      ]
     },
     "metadata": {},
     "output_type": "display_data"
    }
   ],
   "source": [
    "Bino <- dbinom(0:20, size=20, prob=0.5)\n",
    "Bino\n",
    "Bino <- dbinom(10, size=20, prob=0.5)\n",
    "Bino"
   ]
  },
  {
   "cell_type": "markdown",
   "id": "fca269eb",
   "metadata": {},
   "source": [
    "#### n,p 변화에 따른 그래피\n"
   ]
  },
  {
   "attachments": {
    "image.png": {
     "image/png": "[encoded data removed]"
    }
   },
   "cell_type": "markdown",
   "id": "2371cdfb",
   "metadata": {},
   "source": [
    "![image.png](attachment:image.png)"
   ]
  },
  {
   "cell_type": "markdown",
   "id": "247e12aa",
   "metadata": {},
   "source": [
    "### 기하분포\n",
    "\n",
    "- 베르누이 시행에서 처음 성공까지 시도한 횟수 X의 분포\n",
    "- 30% 시험관 아기를 성공하는 병원에서 3번만에 성공할 확률?\n",
    "\n",
    "공식  : Pr(X=k)=(1−p)k−1p"
   ]
  },
  {
   "cell_type": "code",
   "execution_count": 14,
   "id": "0239d52c",
   "metadata": {},
   "outputs": [
    {
     "data": {
      "text/html": [
       "<style>\n",
       ".list-inline {list-style: none; margin:0; padding: 0}\n",
       ".list-inline>li {display: inline-block}\n",
       ".list-inline>li:not(:last-child)::after {content: \"\\00b7\"; padding: 0 .5ex}\n",
       "</style>\n",
       "<ol class=list-inline><li>0.21</li><li>0.147</li><li>0.1029</li><li>0.07203</li><li>0.050421</li><li>0.0352947</li><li>0.02470629</li><li>0.017294403</li><li>0.0121060821</li><li>0.00847425746999999</li></ol>\n"
      ],
      "text/latex": [
       "\\begin{enumerate*}\n",
       "\\item 0.21\n",
       "\\item 0.147\n",
       "\\item 0.1029\n",
       "\\item 0.07203\n",
       "\\item 0.050421\n",
       "\\item 0.0352947\n",
       "\\item 0.02470629\n",
       "\\item 0.017294403\n",
       "\\item 0.0121060821\n",
       "\\item 0.00847425746999999\n",
       "\\end{enumerate*}\n"
      ],
      "text/markdown": [
       "1. 0.21\n",
       "2. 0.147\n",
       "3. 0.1029\n",
       "4. 0.07203\n",
       "5. 0.050421\n",
       "6. 0.0352947\n",
       "7. 0.02470629\n",
       "8. 0.017294403\n",
       "9. 0.0121060821\n",
       "10. 0.00847425746999999\n",
       "\n",
       "\n"
      ],
      "text/plain": [
       " [1] 0.210000000 0.147000000 0.102900000 0.072030000 0.050421000 0.035294700\n",
       " [7] 0.024706290 0.017294403 0.012106082 0.008474257"
      ]
     },
     "metadata": {},
     "output_type": "display_data"
    }
   ],
   "source": [
    "a <- dgeom(1:10, 0.3) # 0.147\n",
    "a"
   ]
  }
 ],
 "metadata": {
  "kernelspec": {
   "display_name": "R",
   "language": "R",
   "name": "ir"
  },
  "language_info": {
   "codemirror_mode": "r",
   "file_extension": ".r",
   "mimetype": "text/x-r-source",
   "name": "R",
   "pygments_lexer": "r",
   "version": "4.1.3"
  }
 },
 "nbformat": 4,
 "nbformat_minor": 5
}
