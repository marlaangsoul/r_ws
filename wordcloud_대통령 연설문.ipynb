{
 "cells": [
  {
   "cell_type": "code",
   "execution_count": 1,
   "id": "681cd873",
   "metadata": {
    "scrolled": true
   },
   "outputs": [
    {
     "name": "stdout",
     "output_type": "stream",
     "text": [
      "package 'rJava' successfully unpacked and MD5 sums checked\n",
      "\n",
      "The downloaded binary packages are in\n",
      "\tC:\\Users\\NOTEBOOK\\AppData\\Local\\Temp\\RtmpGWvJ8I\\downloaded_packages\n"
     ]
    }
   ],
   "source": [
    "install.packages('rJava')\n"
   ]
  },
  {
   "cell_type": "code",
   "execution_count": 2,
   "id": "ce7f434a",
   "metadata": {},
   "outputs": [
    {
     "name": "stdout",
     "output_type": "stream",
     "text": [
      "package 'multilinguer' successfully unpacked and MD5 sums checked\n",
      "\n",
      "The downloaded binary packages are in\n",
      "\tC:\\Users\\NOTEBOOK\\AppData\\Local\\Temp\\RtmpGWvJ8I\\downloaded_packages\n"
     ]
    }
   ],
   "source": [
    "install.packages('multilinguer')"
   ]
  },
  {
   "cell_type": "code",
   "execution_count": 3,
   "id": "576da74b",
   "metadata": {},
   "outputs": [
    {
     "name": "stderr",
     "output_type": "stream",
     "text": [
      "Warning message:\n",
      "\"package 'binary' is not available for this version of R\n",
      "\n",
      "A version of this package for your version of R might be available elsewhere,\n",
      "see the ideas at\n",
      "https://cran.r-project.org/doc/manuals/r-patched/R-admin.html#Installing-packages\"\n",
      "'plogr'(들)을 또한 설치합니다.\n",
      "\n",
      "\n"
     ]
    },
    {
     "name": "stdout",
     "output_type": "stream",
     "text": [
      "package 'plogr' successfully unpacked and MD5 sums checked\n",
      "package 'stringr' successfully unpacked and MD5 sums checked\n",
      "package 'hash' successfully unpacked and MD5 sums checked\n",
      "package 'tau' successfully unpacked and MD5 sums checked\n",
      "package 'Sejong' successfully unpacked and MD5 sums checked\n",
      "package 'RSQLite' successfully unpacked and MD5 sums checked\n",
      "package 'devtools' successfully unpacked and MD5 sums checked\n",
      "\n",
      "The downloaded binary packages are in\n",
      "\tC:\\Users\\NOTEBOOK\\AppData\\Local\\Temp\\RtmpGWvJ8I\\downloaded_packages\n"
     ]
    }
   ],
   "source": [
    "install.packages(c('stringr','hash','tau','Sejong','RSQLite','devtools',\n",
    "                  type='binary'))"
   ]
  },
  {
   "cell_type": "code",
   "execution_count": 4,
   "id": "7b8448aa",
   "metadata": {},
   "outputs": [
    {
     "name": "stdout",
     "output_type": "stream",
     "text": [
      "package 'remotes' successfully unpacked and MD5 sums checked\n",
      "\n",
      "The downloaded binary packages are in\n",
      "\tC:\\Users\\NOTEBOOK\\AppData\\Local\\Temp\\RtmpGWvJ8I\\downloaded_packages\n"
     ]
    }
   ],
   "source": [
    "install.packages('remotes')\n"
   ]
  },
  {
   "cell_type": "code",
   "execution_count": 5,
   "id": "85239fc7",
   "metadata": {
    "scrolled": false
   },
   "outputs": [
    {
     "name": "stderr",
     "output_type": "stream",
     "text": [
      "Skipping install of 'KoNLP' from a github remote, the SHA1 (960fbbcf) has not changed since last install.\n",
      "  Use `force = TRUE` to force installation\n",
      "\n"
     ]
    }
   ],
   "source": [
    "remotes::install_github('haven-jeon/KoNLP'\n",
    "                       ,upgrade='never'\n",
    "                       ,INSTALL_opts=c('--no-multiarch'))"
   ]
  },
  {
   "cell_type": "code",
   "execution_count": 6,
   "id": "465d7f57",
   "metadata": {},
   "outputs": [],
   "source": [
    "library(KoNLP)"
   ]
  },
  {
   "cell_type": "code",
   "execution_count": 7,
   "id": "00141b83",
   "metadata": {},
   "outputs": [
    {
     "name": "stdout",
     "output_type": "stream",
     "text": [
      "Backup was just finished!\n",
      "1213109 words dictionary was built.\n"
     ]
    }
   ],
   "source": [
    "useNIADic()"
   ]
  },
  {
   "cell_type": "code",
   "execution_count": 8,
   "id": "bab8fa3d",
   "metadata": {},
   "outputs": [
    {
     "name": "stderr",
     "output_type": "stream",
     "text": [
      "Warning message in readLines(\"./president-youn.txt\", encoding = \"UTF-8\"):\n",
      "\"'./president-youn.txt'에서 불완전한 마지막 행이 발견되었습니다\"\n"
     ]
    }
   ],
   "source": [
    "txt <- readLines('./president-youn.txt', encoding=\"UTF-8\")"
   ]
  },
  {
   "cell_type": "code",
   "execution_count": 10,
   "id": "0f50f963",
   "metadata": {},
   "outputs": [
    {
     "data": {
      "text/html": [
       "<style>\n",
       ".list-inline {list-style: none; margin:0; padding: 0}\n",
       ".list-inline>li {display: inline-block}\n",
       ".list-inline>li:not(:last-child)::after {content: \"\\00b7\"; padding: 0 .5ex}\n",
       "</style>\n",
       "<ol class=list-inline><li>'존경하고 사랑하는 국민 여러분,'</li><li>'750만 재외동포 여러분,'</li><li>'그리고 자유를 사랑하는 세계 시민 여러분,'</li><li>''</li><li>'저는 이 나라를 자유민주주의와 시장경제 체제를 기반으로 국민이 진정한 주인인 나라로 재건하고, 국제사회에서 책임과 역할을 다하는 나라로 만들어야 하는 시대적 소명을 갖고 오늘 이 자리에 섰습니다.'</li><li>''</li></ol>\n"
      ],
      "text/latex": [
       "\\begin{enumerate*}\n",
       "\\item '존경하고 사랑하는 국민 여러분,'\n",
       "\\item '750만 재외동포 여러분,'\n",
       "\\item '그리고 자유를 사랑하는 세계 시민 여러분,'\n",
       "\\item ''\n",
       "\\item '저는 이 나라를 자유민주주의와 시장경제 체제를 기반으로 국민이 진정한 주인인 나라로 재건하고, 국제사회에서 책임과 역할을 다하는 나라로 만들어야 하는 시대적 소명을 갖고 오늘 이 자리에 섰습니다.'\n",
       "\\item ''\n",
       "\\end{enumerate*}\n"
      ],
      "text/markdown": [
       "1. '존경하고 사랑하는 국민 여러분,'\n",
       "2. '750만 재외동포 여러분,'\n",
       "3. '그리고 자유를 사랑하는 세계 시민 여러분,'\n",
       "4. ''\n",
       "5. '저는 이 나라를 자유민주주의와 시장경제 체제를 기반으로 국민이 진정한 주인인 나라로 재건하고, 국제사회에서 책임과 역할을 다하는 나라로 만들어야 하는 시대적 소명을 갖고 오늘 이 자리에 섰습니다.'\n",
       "6. ''\n",
       "\n",
       "\n"
      ],
      "text/plain": [
       "[1] \"존경하고 사랑하는 국민 여러분,\"                                                                                                                                                                 \n",
       "[2] \"750만 재외동포 여러분,\"                                                                                                                                                                         \n",
       "[3] \"그리고 자유를 사랑하는 세계 시민 여러분,\"                                                                                                                                                       \n",
       "[4] \"\"                                                                                                                                                                                               \n",
       "[5] \"저는 이 나라를 자유민주주의와 시장경제 체제를 기반으로 국민이 진정한 주인인 나라로 재건하고, 국제사회에서 책임과 역할을 다하는 나라로 만들어야 하는 시대적 소명을 갖고 오늘 이 자리에 섰습니다.\"\n",
       "[6] \"\"                                                                                                                                                                                               "
      ]
     },
     "metadata": {},
     "output_type": "display_data"
    }
   ],
   "source": [
    "head(txt)\n"
   ]
  },
  {
   "cell_type": "code",
   "execution_count": 11,
   "id": "4caac3d9",
   "metadata": {},
   "outputs": [
    {
     "name": "stdout",
     "output_type": "stream",
     "text": [
      "package 'stringr' successfully unpacked and MD5 sums checked\n",
      "\n",
      "The downloaded binary packages are in\n",
      "\tC:\\Users\\NOTEBOOK\\AppData\\Local\\Temp\\RtmpGQ5ahj\\downloaded_packages\n"
     ]
    }
   ],
   "source": [
    "install.packages('stringr')"
   ]
  },
  {
   "cell_type": "code",
   "execution_count": 12,
   "id": "7da4a012",
   "metadata": {},
   "outputs": [
    {
     "name": "stderr",
     "output_type": "stream",
     "text": [
      "\n",
      "다음의 패키지를 부착합니다: 'dplyr'\n",
      "\n",
      "\n",
      "The following objects are masked from 'package:stats':\n",
      "\n",
      "    filter, lag\n",
      "\n",
      "\n",
      "The following objects are masked from 'package:base':\n",
      "\n",
      "    intersect, setdiff, setequal, union\n",
      "\n",
      "\n"
     ]
    }
   ],
   "source": [
    "library(stringr)\n",
    "library(dplyr)\n"
   ]
  },
  {
   "cell_type": "code",
   "execution_count": 13,
   "id": "1a2b7edd",
   "metadata": {},
   "outputs": [],
   "source": [
    "txt  <- str_replace_all(txt, '\\\\W',' ')"
   ]
  },
  {
   "cell_type": "code",
   "execution_count": 14,
   "id": "e0ef56ed",
   "metadata": {},
   "outputs": [
    {
     "data": {
      "text/html": [
       "<style>\n",
       ".list-inline {list-style: none; margin:0; padding: 0}\n",
       ".list-inline>li {display: inline-block}\n",
       ".list-inline>li:not(:last-child)::after {content: \"\\00b7\"; padding: 0 .5ex}\n",
       "</style>\n",
       "<ol class=list-inline><li>'대한민국'</li><li>'영토'</li><li>'한반도'</li><li>'부속도서'</li><li>'한'</li></ol>\n"
      ],
      "text/latex": [
       "\\begin{enumerate*}\n",
       "\\item '대한민국'\n",
       "\\item '영토'\n",
       "\\item '한반도'\n",
       "\\item '부속도서'\n",
       "\\item '한'\n",
       "\\end{enumerate*}\n"
      ],
      "text/markdown": [
       "1. '대한민국'\n",
       "2. '영토'\n",
       "3. '한반도'\n",
       "4. '부속도서'\n",
       "5. '한'\n",
       "\n",
       "\n"
      ],
      "text/plain": [
       "[1] \"대한민국\" \"영토\"     \"한반도\"   \"부속도서\" \"한\"      "
      ]
     },
     "metadata": {},
     "output_type": "display_data"
    }
   ],
   "source": [
    "extractNoun('대한민국의 영토는 한반도와 그 부속도서로 한다')"
   ]
  },
  {
   "cell_type": "code",
   "execution_count": 15,
   "id": "65292a5d",
   "metadata": {},
   "outputs": [],
   "source": [
    "nouns <- extractNoun(txt)"
   ]
  },
  {
   "cell_type": "code",
   "execution_count": 16,
   "id": "b9c05431",
   "metadata": {},
   "outputs": [],
   "source": [
    "# 추출한 명사 list 를 문자열 벡터로 변환, 단어별 빈도표 생성\n",
    "wordcount <- table(unlist(nouns))"
   ]
  },
  {
   "cell_type": "code",
   "execution_count": 17,
   "id": "049056cd",
   "metadata": {},
   "outputs": [],
   "source": [
    "df_word <- as.data.frame(wordcount)"
   ]
  },
  {
   "cell_type": "code",
   "execution_count": 18,
   "id": "269895a7",
   "metadata": {},
   "outputs": [],
   "source": [
    "df_word <- rename(df_word, word=Var1, freq=Freq)"
   ]
  },
  {
   "cell_type": "code",
   "execution_count": 19,
   "id": "5a763e21",
   "metadata": {},
   "outputs": [
    {
     "data": {
      "text/html": [
       "<table class=\"dataframe\">\n",
       "<caption>A data.frame: 264 × 2</caption>\n",
       "<thead>\n",
       "\t<tr><th scope=col>word</th><th scope=col>freq</th></tr>\n",
       "\t<tr><th scope=col>&lt;fct&gt;</th><th scope=col>&lt;int&gt;</th></tr>\n",
       "</thead>\n",
       "<tbody>\n",
       "\t<tr><td>10    </td><td>1</td></tr>\n",
       "\t<tr><td>750   </td><td>1</td></tr>\n",
       "\t<tr><td>가능  </td><td>3</td></tr>\n",
       "\t<tr><td>가치  </td><td>7</td></tr>\n",
       "\t<tr><td>각국  </td><td>1</td></tr>\n",
       "\t<tr><td>각자  </td><td>1</td></tr>\n",
       "\t<tr><td>갈등  </td><td>4</td></tr>\n",
       "\t<tr><td>감내  </td><td>1</td></tr>\n",
       "\t<tr><td>감사  </td><td>2</td></tr>\n",
       "\t<tr><td>개발  </td><td>2</td></tr>\n",
       "\t<tr><td>개별  </td><td>1</td></tr>\n",
       "\t<tr><td>개선  </td><td>1</td></tr>\n",
       "\t<tr><td>개인  </td><td>2</td></tr>\n",
       "\t<tr><td>견해  </td><td>2</td></tr>\n",
       "\t<tr><td>결속력</td><td>1</td></tr>\n",
       "\t<tr><td>경의  </td><td>1</td></tr>\n",
       "\t<tr><td>경제  </td><td>5</td></tr>\n",
       "\t<tr><td>경축  </td><td>1</td></tr>\n",
       "\t<tr><td>계획  </td><td>1</td></tr>\n",
       "\t<tr><td>고통  </td><td>1</td></tr>\n",
       "\t<tr><td>공권력</td><td>1</td></tr>\n",
       "\t<tr><td>공급망</td><td>1</td></tr>\n",
       "\t<tr><td>공동체</td><td>2</td></tr>\n",
       "\t<tr><td>공유  </td><td>1</td></tr>\n",
       "\t<tr><td>공정  </td><td>3</td></tr>\n",
       "\t<tr><td>공화국</td><td>1</td></tr>\n",
       "\t<tr><td>과정  </td><td>2</td></tr>\n",
       "\t<tr><td>과학  </td><td>5</td></tr>\n",
       "\t<tr><td>교역  </td><td>1</td></tr>\n",
       "\t<tr><td>교육  </td><td>1</td></tr>\n",
       "\t<tr><td>⋮</td><td>⋮</td></tr>\n",
       "\t<tr><td>팬데믹  </td><td> 2</td></tr>\n",
       "\t<tr><td>평화    </td><td>12</td></tr>\n",
       "\t<tr><td>포스    </td><td> 1</td></tr>\n",
       "\t<tr><td>푸트    </td><td> 1</td></tr>\n",
       "\t<tr><td>풍요    </td><td> 2</td></tr>\n",
       "\t<tr><td>퓨리    </td><td> 1</td></tr>\n",
       "\t<tr><td>피었습니</td><td> 1</td></tr>\n",
       "\t<tr><td>필요    </td><td> 1</td></tr>\n",
       "\t<tr><td>하거    </td><td> 1</td></tr>\n",
       "\t<tr><td>하게    </td><td> 4</td></tr>\n",
       "\t<tr><td>하기    </td><td> 4</td></tr>\n",
       "\t<tr><td>하야시  </td><td> 1</td></tr>\n",
       "\t<tr><td>하지    </td><td> 2</td></tr>\n",
       "\t<tr><td>한반도  </td><td> 3</td></tr>\n",
       "\t<tr><td>합리    </td><td> 1</td></tr>\n",
       "\t<tr><td>해결    </td><td> 9</td></tr>\n",
       "\t<tr><td>해리스  </td><td> 1</td></tr>\n",
       "\t<tr><td>해서    </td><td> 2</td></tr>\n",
       "\t<tr><td>해주    </td><td> 2</td></tr>\n",
       "\t<tr><td>행위    </td><td> 1</td></tr>\n",
       "\t<tr><td>헌신    </td><td> 1</td></tr>\n",
       "\t<tr><td>헤쳐    </td><td> 1</td></tr>\n",
       "\t<tr><td>혁신    </td><td> 4</td></tr>\n",
       "\t<tr><td>협력    </td><td> 2</td></tr>\n",
       "\t<tr><td>혼자    </td><td> 1</td></tr>\n",
       "\t<tr><td>확대    </td><td> 3</td></tr>\n",
       "\t<tr><td>확신    </td><td> 1</td></tr>\n",
       "\t<tr><td>회피    </td><td> 1</td></tr>\n",
       "\t<tr><td>획기적  </td><td> 1</td></tr>\n",
       "\t<tr><td>후퇴    </td><td> 1</td></tr>\n",
       "</tbody>\n",
       "</table>\n"
      ],
      "text/latex": [
       "A data.frame: 264 × 2\n",
       "\\begin{tabular}{ll}\n",
       " word & freq\\\\\n",
       " <fct> & <int>\\\\\n",
       "\\hline\n",
       "\t 10     & 1\\\\\n",
       "\t 750    & 1\\\\\n",
       "\t 가능   & 3\\\\\n",
       "\t 가치   & 7\\\\\n",
       "\t 각국   & 1\\\\\n",
       "\t 각자   & 1\\\\\n",
       "\t 갈등   & 4\\\\\n",
       "\t 감내   & 1\\\\\n",
       "\t 감사   & 2\\\\\n",
       "\t 개발   & 2\\\\\n",
       "\t 개별   & 1\\\\\n",
       "\t 개선   & 1\\\\\n",
       "\t 개인   & 2\\\\\n",
       "\t 견해   & 2\\\\\n",
       "\t 결속력 & 1\\\\\n",
       "\t 경의   & 1\\\\\n",
       "\t 경제   & 5\\\\\n",
       "\t 경축   & 1\\\\\n",
       "\t 계획   & 1\\\\\n",
       "\t 고통   & 1\\\\\n",
       "\t 공권력 & 1\\\\\n",
       "\t 공급망 & 1\\\\\n",
       "\t 공동체 & 2\\\\\n",
       "\t 공유   & 1\\\\\n",
       "\t 공정   & 3\\\\\n",
       "\t 공화국 & 1\\\\\n",
       "\t 과정   & 2\\\\\n",
       "\t 과학   & 5\\\\\n",
       "\t 교역   & 1\\\\\n",
       "\t 교육   & 1\\\\\n",
       "\t ⋮ & ⋮\\\\\n",
       "\t 팬데믹   &  2\\\\\n",
       "\t 평화     & 12\\\\\n",
       "\t 포스     &  1\\\\\n",
       "\t 푸트     &  1\\\\\n",
       "\t 풍요     &  2\\\\\n",
       "\t 퓨리     &  1\\\\\n",
       "\t 피었습니 &  1\\\\\n",
       "\t 필요     &  1\\\\\n",
       "\t 하거     &  1\\\\\n",
       "\t 하게     &  4\\\\\n",
       "\t 하기     &  4\\\\\n",
       "\t 하야시   &  1\\\\\n",
       "\t 하지     &  2\\\\\n",
       "\t 한반도   &  3\\\\\n",
       "\t 합리     &  1\\\\\n",
       "\t 해결     &  9\\\\\n",
       "\t 해리스   &  1\\\\\n",
       "\t 해서     &  2\\\\\n",
       "\t 해주     &  2\\\\\n",
       "\t 행위     &  1\\\\\n",
       "\t 헌신     &  1\\\\\n",
       "\t 헤쳐     &  1\\\\\n",
       "\t 혁신     &  4\\\\\n",
       "\t 협력     &  2\\\\\n",
       "\t 혼자     &  1\\\\\n",
       "\t 확대     &  3\\\\\n",
       "\t 확신     &  1\\\\\n",
       "\t 회피     &  1\\\\\n",
       "\t 획기적   &  1\\\\\n",
       "\t 후퇴     &  1\\\\\n",
       "\\end{tabular}\n"
      ],
      "text/markdown": [
       "\n",
       "A data.frame: 264 × 2\n",
       "\n",
       "| word &lt;fct&gt; | freq &lt;int&gt; |\n",
       "|---|---|\n",
       "| 10     | 1 |\n",
       "| 750    | 1 |\n",
       "| 가능   | 3 |\n",
       "| 가치   | 7 |\n",
       "| 각국   | 1 |\n",
       "| 각자   | 1 |\n",
       "| 갈등   | 4 |\n",
       "| 감내   | 1 |\n",
       "| 감사   | 2 |\n",
       "| 개발   | 2 |\n",
       "| 개별   | 1 |\n",
       "| 개선   | 1 |\n",
       "| 개인   | 2 |\n",
       "| 견해   | 2 |\n",
       "| 결속력 | 1 |\n",
       "| 경의   | 1 |\n",
       "| 경제   | 5 |\n",
       "| 경축   | 1 |\n",
       "| 계획   | 1 |\n",
       "| 고통   | 1 |\n",
       "| 공권력 | 1 |\n",
       "| 공급망 | 1 |\n",
       "| 공동체 | 2 |\n",
       "| 공유   | 1 |\n",
       "| 공정   | 3 |\n",
       "| 공화국 | 1 |\n",
       "| 과정   | 2 |\n",
       "| 과학   | 5 |\n",
       "| 교역   | 1 |\n",
       "| 교육   | 1 |\n",
       "| ⋮ | ⋮ |\n",
       "| 팬데믹   |  2 |\n",
       "| 평화     | 12 |\n",
       "| 포스     |  1 |\n",
       "| 푸트     |  1 |\n",
       "| 풍요     |  2 |\n",
       "| 퓨리     |  1 |\n",
       "| 피었습니 |  1 |\n",
       "| 필요     |  1 |\n",
       "| 하거     |  1 |\n",
       "| 하게     |  4 |\n",
       "| 하기     |  4 |\n",
       "| 하야시   |  1 |\n",
       "| 하지     |  2 |\n",
       "| 한반도   |  3 |\n",
       "| 합리     |  1 |\n",
       "| 해결     |  9 |\n",
       "| 해리스   |  1 |\n",
       "| 해서     |  2 |\n",
       "| 해주     |  2 |\n",
       "| 행위     |  1 |\n",
       "| 헌신     |  1 |\n",
       "| 헤쳐     |  1 |\n",
       "| 혁신     |  4 |\n",
       "| 협력     |  2 |\n",
       "| 혼자     |  1 |\n",
       "| 확대     |  3 |\n",
       "| 확신     |  1 |\n",
       "| 회피     |  1 |\n",
       "| 획기적   |  1 |\n",
       "| 후퇴     |  1 |\n",
       "\n"
      ],
      "text/plain": [
       "    word     freq\n",
       "1   10       1   \n",
       "2   750      1   \n",
       "3   가능     3   \n",
       "4   가치     7   \n",
       "5   각국     1   \n",
       "6   각자     1   \n",
       "7   갈등     4   \n",
       "8   감내     1   \n",
       "9   감사     2   \n",
       "10  개발     2   \n",
       "11  개별     1   \n",
       "12  개선     1   \n",
       "13  개인     2   \n",
       "14  견해     2   \n",
       "15  결속력   1   \n",
       "16  경의     1   \n",
       "17  경제     5   \n",
       "18  경축     1   \n",
       "19  계획     1   \n",
       "20  고통     1   \n",
       "21  공권력   1   \n",
       "22  공급망   1   \n",
       "23  공동체   2   \n",
       "24  공유     1   \n",
       "25  공정     3   \n",
       "26  공화국   1   \n",
       "27  과정     2   \n",
       "28  과학     5   \n",
       "29  교역     1   \n",
       "30  교육     1   \n",
       "<U+22EE>   <U+22EE> <U+22EE>\n",
       "235 팬데믹    2  \n",
       "236 평화     12  \n",
       "237 포스      1  \n",
       "238 푸트      1  \n",
       "239 풍요      2  \n",
       "240 퓨리      1  \n",
       "241 피었습니  1  \n",
       "242 필요      1  \n",
       "243 하거      1  \n",
       "244 하게      4  \n",
       "245 하기      4  \n",
       "246 하야시    1  \n",
       "247 하지      2  \n",
       "248 한반도    3  \n",
       "249 합리      1  \n",
       "250 해결      9  \n",
       "251 해리스    1  \n",
       "252 해서      2  \n",
       "253 해주      2  \n",
       "254 행위      1  \n",
       "255 헌신      1  \n",
       "256 헤쳐      1  \n",
       "257 혁신      4  \n",
       "258 협력      2  \n",
       "259 혼자      1  \n",
       "260 확대      3  \n",
       "261 확신      1  \n",
       "262 회피      1  \n",
       "263 획기적    1  \n",
       "264 후퇴      1  "
      ]
     },
     "metadata": {},
     "output_type": "display_data"
    }
   ],
   "source": [
    "df_word <- filter(df_word, str_length(word) >= 2)\n",
    "df_word"
   ]
  },
  {
   "cell_type": "code",
   "execution_count": 20,
   "id": "502e6d1f",
   "metadata": {},
   "outputs": [],
   "source": [
    "top_20 <- df_word %>% \n",
    "    arrange(desc(freq)) %>% \n",
    "    head(20)"
   ]
  },
  {
   "cell_type": "code",
   "execution_count": 21,
   "id": "6250584c",
   "metadata": {},
   "outputs": [
    {
     "data": {
      "text/html": [
       "<table class=\"dataframe\">\n",
       "<caption>A data.frame: 20 × 2</caption>\n",
       "<thead>\n",
       "\t<tr><th></th><th scope=col>word</th><th scope=col>freq</th></tr>\n",
       "\t<tr><th></th><th scope=col>&lt;fct&gt;</th><th scope=col>&lt;int&gt;</th></tr>\n",
       "</thead>\n",
       "<tbody>\n",
       "\t<tr><th scope=row>1</th><td>자유    </td><td>35</td></tr>\n",
       "\t<tr><th scope=row>2</th><td>국민    </td><td>15</td></tr>\n",
       "\t<tr><th scope=row>3</th><td>시민    </td><td>15</td></tr>\n",
       "\t<tr><th scope=row>4</th><td>우리    </td><td>14</td></tr>\n",
       "\t<tr><th scope=row>5</th><td>세계    </td><td>13</td></tr>\n",
       "\t<tr><th scope=row>6</th><td>사회    </td><td>12</td></tr>\n",
       "\t<tr><th scope=row>7</th><td>평화    </td><td>12</td></tr>\n",
       "\t<tr><th scope=row>8</th><td>국제    </td><td> 9</td></tr>\n",
       "\t<tr><th scope=row>9</th><td>있습니  </td><td> 9</td></tr>\n",
       "\t<tr><th scope=row>10</th><td>해결    </td><td> 9</td></tr>\n",
       "\t<tr><th scope=row>11</th><td>민주주의</td><td> 8</td></tr>\n",
       "\t<tr><th scope=row>12</th><td>가치    </td><td> 7</td></tr>\n",
       "\t<tr><th scope=row>13</th><td>나라    </td><td> 7</td></tr>\n",
       "\t<tr><th scope=row>14</th><td>문제    </td><td> 7</td></tr>\n",
       "\t<tr><th scope=row>15</th><td>존경    </td><td> 7</td></tr>\n",
       "\t<tr><th scope=row>16</th><td>연대    </td><td> 6</td></tr>\n",
       "\t<tr><th scope=row>17</th><td>경제    </td><td> 5</td></tr>\n",
       "\t<tr><th scope=row>18</th><td>과학    </td><td> 5</td></tr>\n",
       "\t<tr><th scope=row>19</th><td>국가    </td><td> 5</td></tr>\n",
       "\t<tr><th scope=row>20</th><td>북한    </td><td> 5</td></tr>\n",
       "</tbody>\n",
       "</table>\n"
      ],
      "text/latex": [
       "A data.frame: 20 × 2\n",
       "\\begin{tabular}{r|ll}\n",
       "  & word & freq\\\\\n",
       "  & <fct> & <int>\\\\\n",
       "\\hline\n",
       "\t1 & 자유     & 35\\\\\n",
       "\t2 & 국민     & 15\\\\\n",
       "\t3 & 시민     & 15\\\\\n",
       "\t4 & 우리     & 14\\\\\n",
       "\t5 & 세계     & 13\\\\\n",
       "\t6 & 사회     & 12\\\\\n",
       "\t7 & 평화     & 12\\\\\n",
       "\t8 & 국제     &  9\\\\\n",
       "\t9 & 있습니   &  9\\\\\n",
       "\t10 & 해결     &  9\\\\\n",
       "\t11 & 민주주의 &  8\\\\\n",
       "\t12 & 가치     &  7\\\\\n",
       "\t13 & 나라     &  7\\\\\n",
       "\t14 & 문제     &  7\\\\\n",
       "\t15 & 존경     &  7\\\\\n",
       "\t16 & 연대     &  6\\\\\n",
       "\t17 & 경제     &  5\\\\\n",
       "\t18 & 과학     &  5\\\\\n",
       "\t19 & 국가     &  5\\\\\n",
       "\t20 & 북한     &  5\\\\\n",
       "\\end{tabular}\n"
      ],
      "text/markdown": [
       "\n",
       "A data.frame: 20 × 2\n",
       "\n",
       "| <!--/--> | word &lt;fct&gt; | freq &lt;int&gt; |\n",
       "|---|---|---|\n",
       "| 1 | 자유     | 35 |\n",
       "| 2 | 국민     | 15 |\n",
       "| 3 | 시민     | 15 |\n",
       "| 4 | 우리     | 14 |\n",
       "| 5 | 세계     | 13 |\n",
       "| 6 | 사회     | 12 |\n",
       "| 7 | 평화     | 12 |\n",
       "| 8 | 국제     |  9 |\n",
       "| 9 | 있습니   |  9 |\n",
       "| 10 | 해결     |  9 |\n",
       "| 11 | 민주주의 |  8 |\n",
       "| 12 | 가치     |  7 |\n",
       "| 13 | 나라     |  7 |\n",
       "| 14 | 문제     |  7 |\n",
       "| 15 | 존경     |  7 |\n",
       "| 16 | 연대     |  6 |\n",
       "| 17 | 경제     |  5 |\n",
       "| 18 | 과학     |  5 |\n",
       "| 19 | 국가     |  5 |\n",
       "| 20 | 북한     |  5 |\n",
       "\n"
      ],
      "text/plain": [
       "   word     freq\n",
       "1  자유     35  \n",
       "2  국민     15  \n",
       "3  시민     15  \n",
       "4  우리     14  \n",
       "5  세계     13  \n",
       "6  사회     12  \n",
       "7  평화     12  \n",
       "8  국제      9  \n",
       "9  있습니    9  \n",
       "10 해결      9  \n",
       "11 민주주의  8  \n",
       "12 가치      7  \n",
       "13 나라      7  \n",
       "14 문제      7  \n",
       "15 존경      7  \n",
       "16 연대      6  \n",
       "17 경제      5  \n",
       "18 과학      5  \n",
       "19 국가      5  \n",
       "20 북한      5  "
      ]
     },
     "metadata": {},
     "output_type": "display_data"
    }
   ],
   "source": [
    "top_20"
   ]
  },
  {
   "cell_type": "code",
   "execution_count": 22,
   "id": "98204ead",
   "metadata": {},
   "outputs": [
    {
     "name": "stdout",
     "output_type": "stream",
     "text": [
      "package 'wordcloud' successfully unpacked and MD5 sums checked\n",
      "\n",
      "The downloaded binary packages are in\n",
      "\tC:\\Users\\NOTEBOOK\\AppData\\Local\\Temp\\RtmpGQ5ahj\\downloaded_packages\n"
     ]
    }
   ],
   "source": [
    "install.packages('wordcloud')"
   ]
  },
  {
   "cell_type": "code",
   "execution_count": 23,
   "id": "437315b1",
   "metadata": {},
   "outputs": [
    {
     "name": "stderr",
     "output_type": "stream",
     "text": [
      "필요한 패키지를 로딩중입니다: RColorBrewer\n",
      "\n"
     ]
    }
   ],
   "source": [
    "library(wordcloud)"
   ]
  },
  {
   "cell_type": "code",
   "execution_count": 24,
   "id": "f6d24ef2",
   "metadata": {},
   "outputs": [],
   "source": [
    "library(RColorBrewer)\n"
   ]
  },
  {
   "cell_type": "code",
   "execution_count": 25,
   "id": "e069944b",
   "metadata": {},
   "outputs": [],
   "source": [
    "pal <- brewer.pal(8, 'Dark2')\n"
   ]
  },
  {
   "cell_type": "code",
   "execution_count": 26,
   "id": "ad483a13",
   "metadata": {},
   "outputs": [],
   "source": [
    "set.seed(1234)"
   ]
  },
  {
   "cell_type": "code",
   "execution_count": 27,
   "id": "246b590d",
   "metadata": {
    "scrolled": true
   },
   "outputs": [
    {
     "data": {
      "image/png": "[encoded data removed]",
      "text/plain": [
       "plot without title"
      ]
     },
     "metadata": {
      "image/png": {
       "height": 420,
       "width": 420
      }
     },
     "output_type": "display_data"
    }
   ],
   "source": [
    "wordcloud(words = df_word$word,\n",
    "          freq = df_word$freq,\n",
    "          min.freq = 2,\n",
    "          max.words = 200,\n",
    "          random.order = F,\n",
    "          rot.per = .1,\n",
    "          scale = c(4, 0.3),\n",
    "          colors = pal          \n",
    "         )"
   ]
  }
 ],
 "metadata": {
  "kernelspec": {
   "display_name": "R",
   "language": "R",
   "name": "ir"
  },
  "language_info": {
   "codemirror_mode": "r",
   "file_extension": ".r",
   "mimetype": "text/x-r-source",
   "name": "R",
   "pygments_lexer": "r",
   "version": "4.1.3"
  }
 },
 "nbformat": 4,
 "nbformat_minor": 5
}
