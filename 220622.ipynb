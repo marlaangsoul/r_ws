{
 "cells": [
  {
   "cell_type": "code",
   "execution_count": 1,
   "id": "de750c36",
   "metadata": {},
   "outputs": [],
   "source": [
    "# 데이터 로드\n",
    "df <- read.csv('./rggagi/example_studentlist.csv')"
   ]
  },
  {
   "cell_type": "code",
   "execution_count": 3,
   "id": "19b71f5a",
   "metadata": {},
   "outputs": [
    {
     "data": {
      "text/html": [
       "<table class=\"dataframe\">\n",
       "<caption>A data.frame: 6 × 8</caption>\n",
       "<thead>\n",
       "\t<tr><th></th><th scope=col>name</th><th scope=col>sex</th><th scope=col>age</th><th scope=col>grade</th><th scope=col>absence</th><th scope=col>bloodtype</th><th scope=col>height</th><th scope=col>weight</th></tr>\n",
       "\t<tr><th></th><th scope=col>&lt;chr&gt;</th><th scope=col>&lt;chr&gt;</th><th scope=col>&lt;int&gt;</th><th scope=col>&lt;int&gt;</th><th scope=col>&lt;chr&gt;</th><th scope=col>&lt;chr&gt;</th><th scope=col>&lt;dbl&gt;</th><th scope=col>&lt;dbl&gt;</th></tr>\n",
       "</thead>\n",
       "<tbody>\n",
       "\t<tr><th scope=row>1</th><td>김길동</td><td>남자</td><td>23</td><td>3</td><td>유</td><td>O </td><td>165.3</td><td>68.2</td></tr>\n",
       "\t<tr><th scope=row>2</th><td>이미린</td><td>여자</td><td>22</td><td>2</td><td>무</td><td>AB</td><td>170.1</td><td>53.0</td></tr>\n",
       "\t<tr><th scope=row>3</th><td>홍길동</td><td>남자</td><td>24</td><td>4</td><td>무</td><td>B </td><td>175.0</td><td>80.1</td></tr>\n",
       "\t<tr><th scope=row>4</th><td>김철수</td><td>남자</td><td>23</td><td>3</td><td>무</td><td>AB</td><td>182.1</td><td>85.7</td></tr>\n",
       "\t<tr><th scope=row>5</th><td>손세수</td><td>여자</td><td>20</td><td>1</td><td>유</td><td>A </td><td>168.0</td><td>49.5</td></tr>\n",
       "\t<tr><th scope=row>6</th><td>박미희</td><td>여자</td><td>21</td><td>2</td><td>무</td><td>O </td><td>162.0</td><td>52.0</td></tr>\n",
       "</tbody>\n",
       "</table>\n"
      ],
      "text/latex": [
       "A data.frame: 6 × 8\n",
       "\\begin{tabular}{r|llllllll}\n",
       "  & name & sex & age & grade & absence & bloodtype & height & weight\\\\\n",
       "  & <chr> & <chr> & <int> & <int> & <chr> & <chr> & <dbl> & <dbl>\\\\\n",
       "\\hline\n",
       "\t1 & 김길동 & 남자 & 23 & 3 & 유 & O  & 165.3 & 68.2\\\\\n",
       "\t2 & 이미린 & 여자 & 22 & 2 & 무 & AB & 170.1 & 53.0\\\\\n",
       "\t3 & 홍길동 & 남자 & 24 & 4 & 무 & B  & 175.0 & 80.1\\\\\n",
       "\t4 & 김철수 & 남자 & 23 & 3 & 무 & AB & 182.1 & 85.7\\\\\n",
       "\t5 & 손세수 & 여자 & 20 & 1 & 유 & A  & 168.0 & 49.5\\\\\n",
       "\t6 & 박미희 & 여자 & 21 & 2 & 무 & O  & 162.0 & 52.0\\\\\n",
       "\\end{tabular}\n"
      ],
      "text/markdown": [
       "\n",
       "A data.frame: 6 × 8\n",
       "\n",
       "| <!--/--> | name &lt;chr&gt; | sex &lt;chr&gt; | age &lt;int&gt; | grade &lt;int&gt; | absence &lt;chr&gt; | bloodtype &lt;chr&gt; | height &lt;dbl&gt; | weight &lt;dbl&gt; |\n",
       "|---|---|---|---|---|---|---|---|---|\n",
       "| 1 | 김길동 | 남자 | 23 | 3 | 유 | O  | 165.3 | 68.2 |\n",
       "| 2 | 이미린 | 여자 | 22 | 2 | 무 | AB | 170.1 | 53.0 |\n",
       "| 3 | 홍길동 | 남자 | 24 | 4 | 무 | B  | 175.0 | 80.1 |\n",
       "| 4 | 김철수 | 남자 | 23 | 3 | 무 | AB | 182.1 | 85.7 |\n",
       "| 5 | 손세수 | 여자 | 20 | 1 | 유 | A  | 168.0 | 49.5 |\n",
       "| 6 | 박미희 | 여자 | 21 | 2 | 무 | O  | 162.0 | 52.0 |\n",
       "\n"
      ],
      "text/plain": [
       "  name   sex  age grade absence bloodtype height weight\n",
       "1 김길동 남자 23  3     유      O         165.3  68.2  \n",
       "2 이미린 여자 22  2     무      AB        170.1  53.0  \n",
       "3 홍길동 남자 24  4     무      B         175.0  80.1  \n",
       "4 김철수 남자 23  3     무      AB        182.1  85.7  \n",
       "5 손세수 여자 20  1     유      A         168.0  49.5  \n",
       "6 박미희 여자 21  2     무      O         162.0  52.0  "
      ]
     },
     "metadata": {},
     "output_type": "display_data"
    },
    {
     "name": "stdout",
     "output_type": "stream",
     "text": [
      "'data.frame':\t17 obs. of  8 variables:\n",
      " $ name     : chr  \"김길동\" \"이미린\" \"홍길동\" \"김철수\" ...\n",
      " $ sex      : chr  \"남자\" \"여자\" \"남자\" \"남자\" ...\n",
      " $ age      : int  23 22 24 23 20 21 22 23 23 22 ...\n",
      " $ grade    : int  3 2 4 3 1 2 1 1 3 2 ...\n",
      " $ absence  : chr  \"유\" \"무\" \"무\" \"무\" ...\n",
      " $ bloodtype: chr  \"O\" \"AB\" \"B\" \"AB\" ...\n",
      " $ height   : num  165 170 175 182 168 ...\n",
      " $ weight   : num  68.2 53 80.1 85.7 49.5 52 45.3 55 64.2 61.3 ...\n"
     ]
    }
   ],
   "source": [
    "head(df)\n",
    "\n",
    "str(df)"
   ]
  },
  {
   "cell_type": "code",
   "execution_count": 4,
   "id": "2160a0f6",
   "metadata": {},
   "outputs": [
    {
     "data": {
      "text/html": [
       "<table class=\"dataframe\">\n",
       "<caption>A data.frame: 17 × 8</caption>\n",
       "<thead>\n",
       "\t<tr><th scope=col>name</th><th scope=col>sex</th><th scope=col>age</th><th scope=col>grade</th><th scope=col>absence</th><th scope=col>bloodtype</th><th scope=col>height</th><th scope=col>weight</th></tr>\n",
       "\t<tr><th scope=col>&lt;chr&gt;</th><th scope=col>&lt;chr&gt;</th><th scope=col>&lt;int&gt;</th><th scope=col>&lt;int&gt;</th><th scope=col>&lt;chr&gt;</th><th scope=col>&lt;chr&gt;</th><th scope=col>&lt;dbl&gt;</th><th scope=col>&lt;dbl&gt;</th></tr>\n",
       "</thead>\n",
       "<tbody>\n",
       "\t<tr><td>김길동</td><td>남자</td><td>23</td><td>3</td><td>유</td><td>O </td><td>165.3</td><td>68.2</td></tr>\n",
       "\t<tr><td>이미린</td><td>여자</td><td>22</td><td>2</td><td>무</td><td>AB</td><td>170.1</td><td>53.0</td></tr>\n",
       "\t<tr><td>홍길동</td><td>남자</td><td>24</td><td>4</td><td>무</td><td>B </td><td>175.0</td><td>80.1</td></tr>\n",
       "\t<tr><td>김철수</td><td>남자</td><td>23</td><td>3</td><td>무</td><td>AB</td><td>182.1</td><td>85.7</td></tr>\n",
       "\t<tr><td>손세수</td><td>여자</td><td>20</td><td>1</td><td>유</td><td>A </td><td>168.0</td><td>49.5</td></tr>\n",
       "\t<tr><td>박미희</td><td>여자</td><td>21</td><td>2</td><td>무</td><td>O </td><td>162.0</td><td>52.0</td></tr>\n",
       "\t<tr><td>강수친</td><td>여자</td><td>22</td><td>1</td><td>무</td><td>O </td><td>155.2</td><td>45.3</td></tr>\n",
       "\t<tr><td>이희수</td><td>여자</td><td>23</td><td>1</td><td>무</td><td>A </td><td>176.9</td><td>55.0</td></tr>\n",
       "\t<tr><td>이철린</td><td>남자</td><td>23</td><td>3</td><td>무</td><td>B </td><td>178.5</td><td>64.2</td></tr>\n",
       "\t<tr><td>방희철</td><td>남자</td><td>22</td><td>2</td><td>무</td><td>B </td><td>176.1</td><td>61.3</td></tr>\n",
       "\t<tr><td>박수호</td><td>남자</td><td>24</td><td>4</td><td>유</td><td>O </td><td>167.1</td><td>62.0</td></tr>\n",
       "\t<tr><td>임동민</td><td>남자</td><td>22</td><td>2</td><td>무</td><td>AB</td><td>180.0</td><td>75.8</td></tr>\n",
       "\t<tr><td>김민수</td><td>남자</td><td>21</td><td>1</td><td>무</td><td>A </td><td>162.2</td><td>55.3</td></tr>\n",
       "\t<tr><td>이희진</td><td>여자</td><td>23</td><td>3</td><td>무</td><td>O </td><td>176.1</td><td>53.1</td></tr>\n",
       "\t<tr><td>김미진</td><td>여자</td><td>22</td><td>2</td><td>무</td><td>B </td><td>158.2</td><td>45.2</td></tr>\n",
       "\t<tr><td>김동수</td><td>남자</td><td>24</td><td>4</td><td>유</td><td>B </td><td>168.6</td><td>70.2</td></tr>\n",
       "\t<tr><td>여수근</td><td>남자</td><td>21</td><td>1</td><td>무</td><td>A </td><td>169.2</td><td>62.2</td></tr>\n",
       "</tbody>\n",
       "</table>\n"
      ],
      "text/latex": [
       "A data.frame: 17 × 8\n",
       "\\begin{tabular}{llllllll}\n",
       " name & sex & age & grade & absence & bloodtype & height & weight\\\\\n",
       " <chr> & <chr> & <int> & <int> & <chr> & <chr> & <dbl> & <dbl>\\\\\n",
       "\\hline\n",
       "\t 김길동 & 남자 & 23 & 3 & 유 & O  & 165.3 & 68.2\\\\\n",
       "\t 이미린 & 여자 & 22 & 2 & 무 & AB & 170.1 & 53.0\\\\\n",
       "\t 홍길동 & 남자 & 24 & 4 & 무 & B  & 175.0 & 80.1\\\\\n",
       "\t 김철수 & 남자 & 23 & 3 & 무 & AB & 182.1 & 85.7\\\\\n",
       "\t 손세수 & 여자 & 20 & 1 & 유 & A  & 168.0 & 49.5\\\\\n",
       "\t 박미희 & 여자 & 21 & 2 & 무 & O  & 162.0 & 52.0\\\\\n",
       "\t 강수친 & 여자 & 22 & 1 & 무 & O  & 155.2 & 45.3\\\\\n",
       "\t 이희수 & 여자 & 23 & 1 & 무 & A  & 176.9 & 55.0\\\\\n",
       "\t 이철린 & 남자 & 23 & 3 & 무 & B  & 178.5 & 64.2\\\\\n",
       "\t 방희철 & 남자 & 22 & 2 & 무 & B  & 176.1 & 61.3\\\\\n",
       "\t 박수호 & 남자 & 24 & 4 & 유 & O  & 167.1 & 62.0\\\\\n",
       "\t 임동민 & 남자 & 22 & 2 & 무 & AB & 180.0 & 75.8\\\\\n",
       "\t 김민수 & 남자 & 21 & 1 & 무 & A  & 162.2 & 55.3\\\\\n",
       "\t 이희진 & 여자 & 23 & 3 & 무 & O  & 176.1 & 53.1\\\\\n",
       "\t 김미진 & 여자 & 22 & 2 & 무 & B  & 158.2 & 45.2\\\\\n",
       "\t 김동수 & 남자 & 24 & 4 & 유 & B  & 168.6 & 70.2\\\\\n",
       "\t 여수근 & 남자 & 21 & 1 & 무 & A  & 169.2 & 62.2\\\\\n",
       "\\end{tabular}\n"
      ],
      "text/markdown": [
       "\n",
       "A data.frame: 17 × 8\n",
       "\n",
       "| name &lt;chr&gt; | sex &lt;chr&gt; | age &lt;int&gt; | grade &lt;int&gt; | absence &lt;chr&gt; | bloodtype &lt;chr&gt; | height &lt;dbl&gt; | weight &lt;dbl&gt; |\n",
       "|---|---|---|---|---|---|---|---|\n",
       "| 김길동 | 남자 | 23 | 3 | 유 | O  | 165.3 | 68.2 |\n",
       "| 이미린 | 여자 | 22 | 2 | 무 | AB | 170.1 | 53.0 |\n",
       "| 홍길동 | 남자 | 24 | 4 | 무 | B  | 175.0 | 80.1 |\n",
       "| 김철수 | 남자 | 23 | 3 | 무 | AB | 182.1 | 85.7 |\n",
       "| 손세수 | 여자 | 20 | 1 | 유 | A  | 168.0 | 49.5 |\n",
       "| 박미희 | 여자 | 21 | 2 | 무 | O  | 162.0 | 52.0 |\n",
       "| 강수친 | 여자 | 22 | 1 | 무 | O  | 155.2 | 45.3 |\n",
       "| 이희수 | 여자 | 23 | 1 | 무 | A  | 176.9 | 55.0 |\n",
       "| 이철린 | 남자 | 23 | 3 | 무 | B  | 178.5 | 64.2 |\n",
       "| 방희철 | 남자 | 22 | 2 | 무 | B  | 176.1 | 61.3 |\n",
       "| 박수호 | 남자 | 24 | 4 | 유 | O  | 167.1 | 62.0 |\n",
       "| 임동민 | 남자 | 22 | 2 | 무 | AB | 180.0 | 75.8 |\n",
       "| 김민수 | 남자 | 21 | 1 | 무 | A  | 162.2 | 55.3 |\n",
       "| 이희진 | 여자 | 23 | 3 | 무 | O  | 176.1 | 53.1 |\n",
       "| 김미진 | 여자 | 22 | 2 | 무 | B  | 158.2 | 45.2 |\n",
       "| 김동수 | 남자 | 24 | 4 | 유 | B  | 168.6 | 70.2 |\n",
       "| 여수근 | 남자 | 21 | 1 | 무 | A  | 169.2 | 62.2 |\n",
       "\n"
      ],
      "text/plain": [
       "   name   sex  age grade absence bloodtype height weight\n",
       "1  김길동 남자 23  3     유      O         165.3  68.2  \n",
       "2  이미린 여자 22  2     무      AB        170.1  53.0  \n",
       "3  홍길동 남자 24  4     무      B         175.0  80.1  \n",
       "4  김철수 남자 23  3     무      AB        182.1  85.7  \n",
       "5  손세수 여자 20  1     유      A         168.0  49.5  \n",
       "6  박미희 여자 21  2     무      O         162.0  52.0  \n",
       "7  강수친 여자 22  1     무      O         155.2  45.3  \n",
       "8  이희수 여자 23  1     무      A         176.9  55.0  \n",
       "9  이철린 남자 23  3     무      B         178.5  64.2  \n",
       "10 방희철 남자 22  2     무      B         176.1  61.3  \n",
       "11 박수호 남자 24  4     유      O         167.1  62.0  \n",
       "12 임동민 남자 22  2     무      AB        180.0  75.8  \n",
       "13 김민수 남자 21  1     무      A         162.2  55.3  \n",
       "14 이희진 여자 23  3     무      O         176.1  53.1  \n",
       "15 김미진 여자 22  2     무      B         158.2  45.2  \n",
       "16 김동수 남자 24  4     유      B         168.6  70.2  \n",
       "17 여수근 남자 21  1     무      A         169.2  62.2  "
      ]
     },
     "metadata": {},
     "output_type": "display_data"
    }
   ],
   "source": [
    "df"
   ]
  },
  {
   "cell_type": "code",
   "execution_count": 6,
   "id": "599076c2",
   "metadata": {},
   "outputs": [
    {
     "data": {
      "text/html": [
       "170.035294117647"
      ],
      "text/latex": [
       "170.035294117647"
      ],
      "text/markdown": [
       "170.035294117647"
      ],
      "text/plain": [
       "[1] 170.0353"
      ]
     },
     "metadata": {},
     "output_type": "display_data"
    }
   ],
   "source": [
    "# 평균 구하기 - NA 제거 후\n",
    "mean(df$height, na.rm = T) # na 없는 정보를 rm 제거  T 함"
   ]
  },
  {
   "cell_type": "code",
   "execution_count": 7,
   "id": "c2b729e8",
   "metadata": {},
   "outputs": [
    {
     "data": {
      "text/html": [
       "169.2"
      ],
      "text/latex": [
       "169.2"
      ],
      "text/markdown": [
       "169.2"
      ],
      "text/plain": [
       "[1] 169.2"
      ]
     },
     "metadata": {},
     "output_type": "display_data"
    }
   ],
   "source": [
    "# 중앙갑 구하기\n",
    "median(df$height, na.rm = T)"
   ]
  },
  {
   "cell_type": "code",
   "execution_count": 8,
   "id": "f18c00a1",
   "metadata": {},
   "outputs": [
    {
     "data": {
      "text/html": [
       "<style>\n",
       ".list-inline {list-style: none; margin:0; padding: 0}\n",
       ".list-inline>li {display: inline-block}\n",
       ".list-inline>li:not(:last-child)::after {content: \"\\00b7\"; padding: 0 .5ex}\n",
       "</style>\n",
       "<ol class=list-inline><li>155.2</li><li>182.1</li></ol>\n"
      ],
      "text/latex": [
       "\\begin{enumerate*}\n",
       "\\item 155.2\n",
       "\\item 182.1\n",
       "\\end{enumerate*}\n"
      ],
      "text/markdown": [
       "1. 155.2\n",
       "2. 182.1\n",
       "\n",
       "\n"
      ],
      "text/plain": [
       "[1] 155.2 182.1"
      ]
     },
     "metadata": {},
     "output_type": "display_data"
    }
   ],
   "source": [
    "# 범위 구하기\n",
    "range(df$height, na.rm = T)"
   ]
  },
  {
   "cell_type": "code",
   "execution_count": 9,
   "id": "2db89809",
   "metadata": {},
   "outputs": [
    {
     "data": {
      "text/html": [
       "<style>\n",
       ".dl-inline {width: auto; margin:0; padding: 0}\n",
       ".dl-inline>dt, .dl-inline>dd {float: none; width: auto; display: inline-block}\n",
       ".dl-inline>dt::after {content: \":\\0020\"; padding-right: .5ex}\n",
       ".dl-inline>dt:not(:first-of-type) {padding-left: .5ex}\n",
       "</style><dl class=dl-inline><dt>0%</dt><dd>155.2</dd><dt>25%</dt><dd>165.3</dd><dt>50%</dt><dd>169.2</dd><dt>75%</dt><dd>176.1</dd><dt>100%</dt><dd>182.1</dd></dl>\n"
      ],
      "text/latex": [
       "\\begin{description*}\n",
       "\\item[0\\textbackslash{}\\%] 155.2\n",
       "\\item[25\\textbackslash{}\\%] 165.3\n",
       "\\item[50\\textbackslash{}\\%] 169.2\n",
       "\\item[75\\textbackslash{}\\%] 176.1\n",
       "\\item[100\\textbackslash{}\\%] 182.1\n",
       "\\end{description*}\n"
      ],
      "text/markdown": [
       "0%\n",
       ":   155.225%\n",
       ":   165.350%\n",
       ":   169.275%\n",
       ":   176.1100%\n",
       ":   182.1\n",
       "\n"
      ],
      "text/plain": [
       "   0%   25%   50%   75%  100% \n",
       "155.2 165.3 169.2 176.1 182.1 "
      ]
     },
     "metadata": {},
     "output_type": "display_data"
    }
   ],
   "source": [
    "# 사분위 구하기\n",
    "quantile(df$height, na.rm = T)"
   ]
  },
  {
   "cell_type": "code",
   "execution_count": 10,
   "id": "b528f8d5",
   "metadata": {},
   "outputs": [
    {
     "data": {
      "text/html": [
       "10.8"
      ],
      "text/latex": [
       "10.8"
      ],
      "text/markdown": [
       "10.8"
      ],
      "text/plain": [
       "[1] 10.8"
      ]
     },
     "metadata": {},
     "output_type": "display_data"
    }
   ],
   "source": [
    "#IQR 구하기\n",
    "IQR(df$height, na.rm = T)"
   ]
  },
  {
   "cell_type": "code",
   "execution_count": 11,
   "id": "c6a1b23b",
   "metadata": {},
   "outputs": [
    {
     "data": {
      "text/html": [
       "10.8"
      ],
      "text/latex": [
       "10.8"
      ],
      "text/markdown": [
       "10.8"
      ],
      "text/plain": [
       "[1] 10.8"
      ]
     },
     "metadata": {},
     "output_type": "display_data"
    },
    {
     "data": {
      "text/html": [
       "11.775"
      ],
      "text/latex": [
       "11.775"
      ],
      "text/markdown": [
       "11.775"
      ],
      "text/plain": [
       "[1] 11.775"
      ]
     },
     "metadata": {},
     "output_type": "display_data"
    },
    {
     "data": {
      "text/html": [
       "13.9"
      ],
      "text/latex": [
       "13.9"
      ],
      "text/markdown": [
       "13.9"
      ],
      "text/plain": [
       "[1] 13.9"
      ]
     },
     "metadata": {},
     "output_type": "display_data"
    }
   ],
   "source": [
    "# 참고 IRQ를 구하는 알고리즘은 여러개임\n",
    "IQR(df$height, na.rm = T, type = 7) # default\n",
    "IQR(df$height, na.rm = T, type = 5)\n",
    "IQR(df$height, na.rm = T, type = 3)"
   ]
  },
  {
   "cell_type": "code",
   "execution_count": 12,
   "id": "2df3cdad",
   "metadata": {},
   "outputs": [
    {
     "data": {
      "text/plain": [
       "   Min. 1st Qu.  Median    Mean 3rd Qu.    Max. \n",
       "  155.2   165.3   169.2   170.0   176.1   182.1 "
      ]
     },
     "metadata": {},
     "output_type": "display_data"
    }
   ],
   "source": [
    "# 평균, 중앙값, Q1, Q3 한번에 보기\n",
    "summary(df$height, na.rm = T)"
   ]
  },
  {
   "cell_type": "code",
   "execution_count": 13,
   "id": "819280c1",
   "metadata": {},
   "outputs": [
    {
     "data": {
      "image/png": "[encoded data removed]",
      "text/plain": [
       "plot without title"
      ]
     },
     "metadata": {
      "image/png": {
       "height": 420,
       "width": 420
      }
     },
     "output_type": "display_data"
    }
   ],
   "source": [
    "# Box Plot 으로 보기 - NA 값 기본 제거함\n",
    "boxplot(df$height)"
   ]
  },
  {
   "cell_type": "markdown",
   "id": "9397d2c6",
   "metadata": {},
   "source": [
    "위의 box plot을 보면, 중앙값 대비 조금 위에 치우쳐 있는 것을 확인 할수 있다. "
   ]
  },
  {
   "cell_type": "code",
   "execution_count": 14,
   "id": "7a6559de",
   "metadata": {},
   "outputs": [
    {
     "data": {
      "text/html": [
       "0.664181597958861"
      ],
      "text/latex": [
       "0.664181597958861"
      ],
      "text/markdown": [
       "0.664181597958861"
      ],
      "text/plain": [
       "[1] 0.6641816"
      ]
     },
     "metadata": {},
     "output_type": "display_data"
    }
   ],
   "source": [
    "# 상관계수 다루기\n",
    "cor(df$height, df$weight)"
   ]
  },
  {
   "cell_type": "code",
   "execution_count": 15,
   "id": "7080b773",
   "metadata": {},
   "outputs": [
    {
     "data": {
      "text/plain": [
       "\n",
       "\tPearson's product-moment correlation\n",
       "\n",
       "data:  df$height and df$weight\n",
       "t = 3.441, df = 15, p-value = 0.003639\n",
       "alternative hypothesis: true correlation is not equal to 0\n",
       "95 percent confidence interval:\n",
       " 0.2696040 0.8677954\n",
       "sample estimates:\n",
       "      cor \n",
       "0.6641816 \n"
      ]
     },
     "metadata": {},
     "output_type": "display_data"
    }
   ],
   "source": [
    "# 좀더 자세한 상관 관계\n",
    "# 신뢰구간, P값등이 나옴\n",
    "cor.test(df$height, df$weight)"
   ]
  },
  {
   "cell_type": "code",
   "execution_count": 16,
   "id": "d5e1f1a1",
   "metadata": {},
   "outputs": [
    {
     "data": {
      "text/html": [
       "<table class=\"dataframe\">\n",
       "<caption>A matrix: 3 × 3 of type dbl</caption>\n",
       "<thead>\n",
       "\t<tr><th></th><th scope=col>age</th><th scope=col>height</th><th scope=col>weight</th></tr>\n",
       "</thead>\n",
       "<tbody>\n",
       "\t<tr><th scope=row>age</th><td>1.0000000</td><td>0.3450992</td><td>0.5226855</td></tr>\n",
       "\t<tr><th scope=row>height</th><td>0.3450992</td><td>1.0000000</td><td>0.6641816</td></tr>\n",
       "\t<tr><th scope=row>weight</th><td>0.5226855</td><td>0.6641816</td><td>1.0000000</td></tr>\n",
       "</tbody>\n",
       "</table>\n"
      ],
      "text/latex": [
       "A matrix: 3 × 3 of type dbl\n",
       "\\begin{tabular}{r|lll}\n",
       "  & age & height & weight\\\\\n",
       "\\hline\n",
       "\tage & 1.0000000 & 0.3450992 & 0.5226855\\\\\n",
       "\theight & 0.3450992 & 1.0000000 & 0.6641816\\\\\n",
       "\tweight & 0.5226855 & 0.6641816 & 1.0000000\\\\\n",
       "\\end{tabular}\n"
      ],
      "text/markdown": [
       "\n",
       "A matrix: 3 × 3 of type dbl\n",
       "\n",
       "| <!--/--> | age | height | weight |\n",
       "|---|---|---|---|\n",
       "| age | 1.0000000 | 0.3450992 | 0.5226855 |\n",
       "| height | 0.3450992 | 1.0000000 | 0.6641816 |\n",
       "| weight | 0.5226855 | 0.6641816 | 1.0000000 |\n",
       "\n"
      ],
      "text/plain": [
       "       age       height    weight   \n",
       "age    1.0000000 0.3450992 0.5226855\n",
       "height 0.3450992 1.0000000 0.6641816\n",
       "weight 0.5226855 0.6641816 1.0000000"
      ]
     },
     "metadata": {},
     "output_type": "display_data"
    }
   ],
   "source": [
    "# 3개변수 상관 계수\n",
    "cor(df[,c(3,7,8)])"
   ]
  },
  {
   "cell_type": "code",
   "execution_count": 17,
   "id": "57665f74",
   "metadata": {},
   "outputs": [],
   "source": [
    "# 여러 변수 사용시의 결측치 \n",
    "# use 사용 좀더 자세히 지정해야 함\n",
    "df2 <- df\n",
    "df2[2,7] <- NA\n",
    "df2[4,8] <- NA"
   ]
  },
  {
   "cell_type": "code",
   "execution_count": 18,
   "id": "3dc3f3a0",
   "metadata": {},
   "outputs": [
    {
     "data": {
      "text/html": [
       "&lt;NA&gt;"
      ],
      "text/latex": [
       "<NA>"
      ],
      "text/markdown": [
       "&lt;NA&gt;"
      ],
      "text/plain": [
       "[1] NA"
      ]
     },
     "metadata": {},
     "output_type": "display_data"
    }
   ],
   "source": [
    "cor(df2$height, df2$weight)\n"
   ]
  },
  {
   "cell_type": "code",
   "execution_count": 19,
   "id": "f0ae079e",
   "metadata": {},
   "outputs": [
    {
     "ename": "ERROR",
     "evalue": "Error in cor(df2$height, df2$weight, na.rm = T): 사용되지 않은 인자 (na.rm = T)\n",
     "output_type": "error",
     "traceback": [
      "Error in cor(df2$height, df2$weight, na.rm = T): 사용되지 않은 인자 (na.rm = T)\nTraceback:\n"
     ]
    }
   ],
   "source": [
    "# na.rm = T 사용 못함\n",
    "cor(df2$height, df2$weight, na.rm = T)"
   ]
  },
  {
   "cell_type": "code",
   "execution_count": 20,
   "id": "d6fc135e",
   "metadata": {},
   "outputs": [
    {
     "data": {
      "text/html": [
       "0.596680912660705"
      ],
      "text/latex": [
       "0.596680912660705"
      ],
      "text/markdown": [
       "0.596680912660705"
      ],
      "text/plain": [
       "[1] 0.5966809"
      ]
     },
     "metadata": {},
     "output_type": "display_data"
    }
   ],
   "source": [
    "# use = 'complete.obs' == na.rm = T 모든 결측치 제거\n",
    "cor(df2$height, df2$weight, use = 'complete.obs')\n"
   ]
  },
  {
   "cell_type": "code",
   "execution_count": 21,
   "id": "0c6e9768",
   "metadata": {},
   "outputs": [
    {
     "data": {
      "text/html": [
       "0.596680912660705"
      ],
      "text/latex": [
       "0.596680912660705"
      ],
      "text/markdown": [
       "0.596680912660705"
      ],
      "text/plain": [
       "[1] 0.5966809"
      ]
     },
     "metadata": {},
     "output_type": "display_data"
    }
   ],
   "source": [
    "# use = 'pairwise.complete.obs' 상관계수를 만든 Peason 방식, 그 Vector 만 뺌\n",
    "cor(df2$height, df2$weight, use = 'pairwise.complete.obs')"
   ]
  },
  {
   "cell_type": "code",
   "execution_count": 22,
   "id": "7959e0ce",
   "metadata": {},
   "outputs": [
    {
     "data": {
      "text/html": [
       "&lt;NA&gt;"
      ],
      "text/latex": [
       "<NA>"
      ],
      "text/markdown": [
       "&lt;NA&gt;"
      ],
      "text/plain": [
       "[1] NA"
      ]
     },
     "metadata": {},
     "output_type": "display_data"
    }
   ],
   "source": [
    "# use = 'everything' == na.rm = F Na 값 포함해서 처리\n",
    "cor(df2$height, df2$weight, use = 'everything')"
   ]
  },
  {
   "cell_type": "code",
   "execution_count": 23,
   "id": "598ad91f",
   "metadata": {},
   "outputs": [
    {
     "ename": "ERROR",
     "evalue": "Error in cor(df2$height, df2$weight, use = \"all.obs\"): cov/cor에 결측치들이 있습니다\n",
     "output_type": "error",
     "traceback": [
      "Error in cor(df2$height, df2$weight, use = \"all.obs\"): cov/cor에 결측치들이 있습니다\nTraceback:\n",
      "1. cor(df2$height, df2$weight, use = \"all.obs\")"
     ]
    }
   ],
   "source": [
    "# use = 'all.obs' 계산 자체를 안함\n",
    "cor(df2$height, df2$weight, use = 'all.obs')"
   ]
  },
  {
   "cell_type": "code",
   "execution_count": 24,
   "id": "129fffd9",
   "metadata": {},
   "outputs": [
    {
     "data": {
      "text/html": [
       "61.6186764705883"
      ],
      "text/latex": [
       "61.6186764705883"
      ],
      "text/markdown": [
       "61.6186764705883"
      ],
      "text/plain": [
       "[1] 61.61868"
      ]
     },
     "metadata": {},
     "output_type": "display_data"
    }
   ],
   "source": [
    "# 분산과 공분산 구하기\n",
    "var(df$height, na.rm = T)"
   ]
  },
  {
   "cell_type": "code",
   "execution_count": 25,
   "id": "0e1a1458",
   "metadata": {},
   "outputs": [
    {
     "data": {
      "text/html": [
       "61.7906985294118"
      ],
      "text/latex": [
       "61.7906985294118"
      ],
      "text/markdown": [
       "61.7906985294118"
      ],
      "text/plain": [
       "[1] 61.7907"
      ]
     },
     "metadata": {},
     "output_type": "display_data"
    }
   ],
   "source": [
    "var(df$height, df$weight, na.rm = T)"
   ]
  },
  {
   "cell_type": "code",
   "execution_count": 26,
   "id": "6a0f12b7",
   "metadata": {},
   "outputs": [
    {
     "data": {
      "text/html": [
       "61.7906985294118"
      ],
      "text/latex": [
       "61.7906985294118"
      ],
      "text/markdown": [
       "61.7906985294118"
      ],
      "text/plain": [
       "[1] 61.7907"
      ]
     },
     "metadata": {},
     "output_type": "display_data"
    }
   ],
   "source": [
    "cov(df$height, df$weight, use = 'complete.obs')\n"
   ]
  },
  {
   "cell_type": "code",
   "execution_count": 27,
   "id": "0b52f129",
   "metadata": {},
   "outputs": [
    {
     "data": {
      "text/html": [
       "<table class=\"dataframe\">\n",
       "<caption>A matrix: 3 × 3 of type dbl</caption>\n",
       "<thead>\n",
       "\t<tr><th></th><th scope=col>age</th><th scope=col>height</th><th scope=col>weight</th></tr>\n",
       "</thead>\n",
       "<tbody>\n",
       "\t<tr><th scope=row>age</th><td>1.367647</td><td> 3.168015</td><td>  7.244485</td></tr>\n",
       "\t<tr><th scope=row>height</th><td>3.168015</td><td>61.618676</td><td> 61.790699</td></tr>\n",
       "\t<tr><th scope=row>weight</th><td>7.244485</td><td>61.790699</td><td>140.462426</td></tr>\n",
       "</tbody>\n",
       "</table>\n"
      ],
      "text/latex": [
       "A matrix: 3 × 3 of type dbl\n",
       "\\begin{tabular}{r|lll}\n",
       "  & age & height & weight\\\\\n",
       "\\hline\n",
       "\tage & 1.367647 &  3.168015 &   7.244485\\\\\n",
       "\theight & 3.168015 & 61.618676 &  61.790699\\\\\n",
       "\tweight & 7.244485 & 61.790699 & 140.462426\\\\\n",
       "\\end{tabular}\n"
      ],
      "text/markdown": [
       "\n",
       "A matrix: 3 × 3 of type dbl\n",
       "\n",
       "| <!--/--> | age | height | weight |\n",
       "|---|---|---|---|\n",
       "| age | 1.367647 |  3.168015 |   7.244485 |\n",
       "| height | 3.168015 | 61.618676 |  61.790699 |\n",
       "| weight | 7.244485 | 61.790699 | 140.462426 |\n",
       "\n"
      ],
      "text/plain": [
       "       age      height    weight    \n",
       "age    1.367647  3.168015   7.244485\n",
       "height 3.168015 61.618676  61.790699\n",
       "weight 7.244485 61.790699 140.462426"
      ]
     },
     "metadata": {},
     "output_type": "display_data"
    }
   ],
   "source": [
    "cov(df[,c(3,7,8)], use = 'complete.obs')\n"
   ]
  },
  {
   "cell_type": "code",
   "execution_count": 28,
   "id": "e5291aaa",
   "metadata": {},
   "outputs": [
    {
     "data": {
      "text/html": [
       "7.84975645931696"
      ],
      "text/latex": [
       "7.84975645931696"
      ],
      "text/markdown": [
       "7.84975645931696"
      ],
      "text/plain": [
       "[1] 7.849756"
      ]
     },
     "metadata": {},
     "output_type": "display_data"
    }
   ],
   "source": [
    "# 표준편차\n",
    "sd(df$height, na.rm = T)"
   ]
  },
  {
   "cell_type": "code",
   "execution_count": 29,
   "id": "94deebd9",
   "metadata": {},
   "outputs": [
    {
     "data": {
      "text/html": [
       "<table class=\"dataframe\">\n",
       "<caption>A matrix: 17 × 1 of type dbl</caption>\n",
       "<tbody>\n",
       "\t<tr><td>-0.603240896</td></tr>\n",
       "\t<tr><td> 0.008243043</td></tr>\n",
       "\t<tr><td> 0.632466231</td></tr>\n",
       "\t<tr><td> 1.536952891</td></tr>\n",
       "\t<tr><td>-0.259281180</td></tr>\n",
       "\t<tr><td>-1.023636104</td></tr>\n",
       "\t<tr><td>-1.889905017</td></tr>\n",
       "\t<tr><td> 0.874511957</td></tr>\n",
       "\t<tr><td> 1.078339937</td></tr>\n",
       "\t<tr><td> 0.772597967</td></tr>\n",
       "\t<tr><td>-0.373934419</td></tr>\n",
       "\t<tr><td> 1.269428668</td></tr>\n",
       "\t<tr><td>-0.998157606</td></tr>\n",
       "\t<tr><td> 0.772597967</td></tr>\n",
       "\t<tr><td>-1.507727555</td></tr>\n",
       "\t<tr><td>-0.182845688</td></tr>\n",
       "\t<tr><td>-0.106410195</td></tr>\n",
       "</tbody>\n",
       "</table>\n"
      ],
      "text/latex": [
       "A matrix: 17 × 1 of type dbl\n",
       "\\begin{tabular}{l}\n",
       "\t -0.603240896\\\\\n",
       "\t  0.008243043\\\\\n",
       "\t  0.632466231\\\\\n",
       "\t  1.536952891\\\\\n",
       "\t -0.259281180\\\\\n",
       "\t -1.023636104\\\\\n",
       "\t -1.889905017\\\\\n",
       "\t  0.874511957\\\\\n",
       "\t  1.078339937\\\\\n",
       "\t  0.772597967\\\\\n",
       "\t -0.373934419\\\\\n",
       "\t  1.269428668\\\\\n",
       "\t -0.998157606\\\\\n",
       "\t  0.772597967\\\\\n",
       "\t -1.507727555\\\\\n",
       "\t -0.182845688\\\\\n",
       "\t -0.106410195\\\\\n",
       "\\end{tabular}\n"
      ],
      "text/markdown": [
       "\n",
       "A matrix: 17 × 1 of type dbl\n",
       "\n",
       "| -0.603240896 |\n",
       "|  0.008243043 |\n",
       "|  0.632466231 |\n",
       "|  1.536952891 |\n",
       "| -0.259281180 |\n",
       "| -1.023636104 |\n",
       "| -1.889905017 |\n",
       "|  0.874511957 |\n",
       "|  1.078339937 |\n",
       "|  0.772597967 |\n",
       "| -0.373934419 |\n",
       "|  1.269428668 |\n",
       "| -0.998157606 |\n",
       "|  0.772597967 |\n",
       "| -1.507727555 |\n",
       "| -0.182845688 |\n",
       "| -0.106410195 |\n",
       "\n"
      ],
      "text/plain": [
       "      [,1]        \n",
       " [1,] -0.603240896\n",
       " [2,]  0.008243043\n",
       " [3,]  0.632466231\n",
       " [4,]  1.536952891\n",
       " [5,] -0.259281180\n",
       " [6,] -1.023636104\n",
       " [7,] -1.889905017\n",
       " [8,]  0.874511957\n",
       " [9,]  1.078339937\n",
       "[10,]  0.772597967\n",
       "[11,] -0.373934419\n",
       "[12,]  1.269428668\n",
       "[13,] -0.998157606\n",
       "[14,]  0.772597967\n",
       "[15,] -1.507727555\n",
       "[16,] -0.182845688\n",
       "[17,] -0.106410195"
      ]
     },
     "metadata": {},
     "output_type": "display_data"
    }
   ],
   "source": [
    "scale(df$height)\n"
   ]
  },
  {
   "cell_type": "code",
   "execution_count": 30,
   "id": "a50b6892",
   "metadata": {},
   "outputs": [
    {
     "data": {
      "text/html": [
       "<table class=\"dataframe\">\n",
       "<caption>A data.frame: 17 × 3</caption>\n",
       "<thead>\n",
       "\t<tr><th scope=col>df.height</th><th scope=col>scale.df.height.</th><th scope=col>z_score</th></tr>\n",
       "\t<tr><th scope=col>&lt;dbl&gt;</th><th scope=col>&lt;dbl&gt;</th><th scope=col>&lt;dbl&gt;</th></tr>\n",
       "</thead>\n",
       "<tbody>\n",
       "\t<tr><td>165.3</td><td>-0.603240896</td><td>-0.603240896</td></tr>\n",
       "\t<tr><td>170.1</td><td> 0.008243043</td><td> 0.008243043</td></tr>\n",
       "\t<tr><td>175.0</td><td> 0.632466231</td><td> 0.632466231</td></tr>\n",
       "\t<tr><td>182.1</td><td> 1.536952891</td><td> 1.536952891</td></tr>\n",
       "\t<tr><td>168.0</td><td>-0.259281180</td><td>-0.259281180</td></tr>\n",
       "\t<tr><td>162.0</td><td>-1.023636104</td><td>-1.023636104</td></tr>\n",
       "\t<tr><td>155.2</td><td>-1.889905017</td><td>-1.889905017</td></tr>\n",
       "\t<tr><td>176.9</td><td> 0.874511957</td><td> 0.874511957</td></tr>\n",
       "\t<tr><td>178.5</td><td> 1.078339937</td><td> 1.078339937</td></tr>\n",
       "\t<tr><td>176.1</td><td> 0.772597967</td><td> 0.772597967</td></tr>\n",
       "\t<tr><td>167.1</td><td>-0.373934419</td><td>-0.373934419</td></tr>\n",
       "\t<tr><td>180.0</td><td> 1.269428668</td><td> 1.269428668</td></tr>\n",
       "\t<tr><td>162.2</td><td>-0.998157606</td><td>-0.998157606</td></tr>\n",
       "\t<tr><td>176.1</td><td> 0.772597967</td><td> 0.772597967</td></tr>\n",
       "\t<tr><td>158.2</td><td>-1.507727555</td><td>-1.507727555</td></tr>\n",
       "\t<tr><td>168.6</td><td>-0.182845688</td><td>-0.182845688</td></tr>\n",
       "\t<tr><td>169.2</td><td>-0.106410195</td><td>-0.106410195</td></tr>\n",
       "</tbody>\n",
       "</table>\n"
      ],
      "text/latex": [
       "A data.frame: 17 × 3\n",
       "\\begin{tabular}{lll}\n",
       " df.height & scale.df.height. & z\\_score\\\\\n",
       " <dbl> & <dbl> & <dbl>\\\\\n",
       "\\hline\n",
       "\t 165.3 & -0.603240896 & -0.603240896\\\\\n",
       "\t 170.1 &  0.008243043 &  0.008243043\\\\\n",
       "\t 175.0 &  0.632466231 &  0.632466231\\\\\n",
       "\t 182.1 &  1.536952891 &  1.536952891\\\\\n",
       "\t 168.0 & -0.259281180 & -0.259281180\\\\\n",
       "\t 162.0 & -1.023636104 & -1.023636104\\\\\n",
       "\t 155.2 & -1.889905017 & -1.889905017\\\\\n",
       "\t 176.9 &  0.874511957 &  0.874511957\\\\\n",
       "\t 178.5 &  1.078339937 &  1.078339937\\\\\n",
       "\t 176.1 &  0.772597967 &  0.772597967\\\\\n",
       "\t 167.1 & -0.373934419 & -0.373934419\\\\\n",
       "\t 180.0 &  1.269428668 &  1.269428668\\\\\n",
       "\t 162.2 & -0.998157606 & -0.998157606\\\\\n",
       "\t 176.1 &  0.772597967 &  0.772597967\\\\\n",
       "\t 158.2 & -1.507727555 & -1.507727555\\\\\n",
       "\t 168.6 & -0.182845688 & -0.182845688\\\\\n",
       "\t 169.2 & -0.106410195 & -0.106410195\\\\\n",
       "\\end{tabular}\n"
      ],
      "text/markdown": [
       "\n",
       "A data.frame: 17 × 3\n",
       "\n",
       "| df.height &lt;dbl&gt; | scale.df.height. &lt;dbl&gt; | z_score &lt;dbl&gt; |\n",
       "|---|---|---|\n",
       "| 165.3 | -0.603240896 | -0.603240896 |\n",
       "| 170.1 |  0.008243043 |  0.008243043 |\n",
       "| 175.0 |  0.632466231 |  0.632466231 |\n",
       "| 182.1 |  1.536952891 |  1.536952891 |\n",
       "| 168.0 | -0.259281180 | -0.259281180 |\n",
       "| 162.0 | -1.023636104 | -1.023636104 |\n",
       "| 155.2 | -1.889905017 | -1.889905017 |\n",
       "| 176.9 |  0.874511957 |  0.874511957 |\n",
       "| 178.5 |  1.078339937 |  1.078339937 |\n",
       "| 176.1 |  0.772597967 |  0.772597967 |\n",
       "| 167.1 | -0.373934419 | -0.373934419 |\n",
       "| 180.0 |  1.269428668 |  1.269428668 |\n",
       "| 162.2 | -0.998157606 | -0.998157606 |\n",
       "| 176.1 |  0.772597967 |  0.772597967 |\n",
       "| 158.2 | -1.507727555 | -1.507727555 |\n",
       "| 168.6 | -0.182845688 | -0.182845688 |\n",
       "| 169.2 | -0.106410195 | -0.106410195 |\n",
       "\n"
      ],
      "text/plain": [
       "   df.height scale.df.height. z_score     \n",
       "1  165.3     -0.603240896     -0.603240896\n",
       "2  170.1      0.008243043      0.008243043\n",
       "3  175.0      0.632466231      0.632466231\n",
       "4  182.1      1.536952891      1.536952891\n",
       "5  168.0     -0.259281180     -0.259281180\n",
       "6  162.0     -1.023636104     -1.023636104\n",
       "7  155.2     -1.889905017     -1.889905017\n",
       "8  176.9      0.874511957      0.874511957\n",
       "9  178.5      1.078339937      1.078339937\n",
       "10 176.1      0.772597967      0.772597967\n",
       "11 167.1     -0.373934419     -0.373934419\n",
       "12 180.0      1.269428668      1.269428668\n",
       "13 162.2     -0.998157606     -0.998157606\n",
       "14 176.1      0.772597967      0.772597967\n",
       "15 158.2     -1.507727555     -1.507727555\n",
       "16 168.6     -0.182845688     -0.182845688\n",
       "17 169.2     -0.106410195     -0.106410195"
      ]
     },
     "metadata": {},
     "output_type": "display_data"
    }
   ],
   "source": [
    "# 표준화\n",
    "df_scale <- data.frame(df$height,\n",
    "                       scale(df$height),\n",
    "                       z_score=(df$height-mean(df$height))/sd(df$height, na.rm = T)\n",
    "                       )\n",
    "df_scale"
   ]
  },
  {
   "cell_type": "code",
   "execution_count": 31,
   "id": "8b31d2b3",
   "metadata": {},
   "outputs": [
    {
     "data": {
      "text/html": [
       "0.0461654534727697"
      ],
      "text/latex": [
       "0.0461654534727697"
      ],
      "text/markdown": [
       "0.0461654534727697"
      ],
      "text/plain": [
       "[1] 0.04616545"
      ]
     },
     "metadata": {},
     "output_type": "display_data"
    }
   ],
   "source": [
    "# 변동계수 - height\n",
    "sd(df$height) / mean(df$height)"
   ]
  },
  {
   "cell_type": "code",
   "execution_count": 33,
   "id": "a9ffadba",
   "metadata": {},
   "outputs": [
    {
     "data": {
      "text/html": [
       "0.194084035454233"
      ],
      "text/latex": [
       "0.194084035454233"
      ],
      "text/markdown": [
       "0.194084035454233"
      ],
      "text/plain": [
       "[1] 0.194084"
      ]
     },
     "metadata": {},
     "output_type": "display_data"
    }
   ],
   "source": [
    "# 변동계수 - weight - height 보다 더 많이 분산되어 있음\n",
    "sd(df$weight) / mean(df$weight)"
   ]
  }
 ],
 "metadata": {
  "kernelspec": {
   "display_name": "R",
   "language": "R",
   "name": "ir"
  },
  "language_info": {
   "codemirror_mode": "r",
   "file_extension": ".r",
   "mimetype": "text/x-r-source",
   "name": "R",
   "pygments_lexer": "r",
   "version": "4.1.3"
  }
 },
 "nbformat": 4,
 "nbformat_minor": 5
}
